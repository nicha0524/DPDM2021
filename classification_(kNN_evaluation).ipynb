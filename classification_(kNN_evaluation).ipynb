{
  "nbformat": 4,
  "nbformat_minor": 0,
  "metadata": {
    "colab": {
      "name": "classification(kNN-evaluation).ipynb",
      "provenance": [],
      "toc_visible": true,
      "authorship_tag": "ABX9TyO2rjXxbTXbXE+b9ZX3v/gT",
      "include_colab_link": true
    },
    "kernelspec": {
      "name": "python3",
      "display_name": "Python 3"
    },
    "language_info": {
      "name": "python"
    }
  },
  "cells": [
    {
      "cell_type": "markdown",
      "metadata": {
        "id": "view-in-github",
        "colab_type": "text"
      },
      "source": [
        "<a href=\"https://colab.research.google.com/github/nicha0524/DPDM2021/blob/main/classification_(kNN_evaluation).ipynb\" target=\"_parent\"><img src=\"https://colab.research.google.com/assets/colab-badge.svg\" alt=\"Open In Colab\"/></a>"
      ]
    },
    {
      "cell_type": "markdown",
      "metadata": {
        "id": "eivfO6PIoIdc"
      },
      "source": [
        "## Load data"
      ]
    },
    {
      "cell_type": "code",
      "metadata": {
        "id": "cxbsvydMm6Rr"
      },
      "source": [
        "from sklearn import datasets\n",
        "mnist_data = datasets.load_digits()\n",
        "\n",
        "X = mnist_data['data']\n",
        "Y = mnist_data['target']"
      ],
      "execution_count": null,
      "outputs": []
    },
    {
      "cell_type": "markdown",
      "metadata": {
        "id": "O8DOl2fDoEd1"
      },
      "source": [
        "## Split data"
      ]
    },
    {
      "cell_type": "code",
      "metadata": {
        "id": "5P-rYijIqKc-"
      },
      "source": [
        "from sklearn.model_selection import train_test_split\n",
        "X_train, X_test, y_train, y_test = train_test_split(X, Y, test_size=0.5, random_state=6)\n",
        "X_traintrain, X_val, y_traintrain, y_val = train_test_split(X_train, y_train, test_size=0.3, random_state=6) # กำหนดส่วน test 30 %"
      ],
      "execution_count": null,
      "outputs": []
    },
    {
      "cell_type": "markdown",
      "metadata": {
        "id": "47WlEQc4oQ_L"
      },
      "source": [
        "##KNN"
      ]
    },
    {
      "cell_type": "markdown",
      "metadata": {
        "id": "OjaYCvBVoUDw"
      },
      "source": [
        "###import"
      ]
    },
    {
      "cell_type": "code",
      "metadata": {
        "id": "wEDd3TXyod-s"
      },
      "source": [
        "from sklearn.neighbors import KNeighborsClassifier"
      ],
      "execution_count": null,
      "outputs": []
    },
    {
      "cell_type": "code",
      "metadata": {
        "id": "Lc-jUiDEod8c"
      },
      "source": [
        ""
      ],
      "execution_count": null,
      "outputs": []
    },
    {
      "cell_type": "markdown",
      "metadata": {
        "id": "r77nktceoTn7"
      },
      "source": [
        "###define"
      ]
    },
    {
      "cell_type": "markdown",
      "metadata": {
        "id": "qc3YJmNtppCQ"
      },
      "source": [
        "####model 1"
      ]
    },
    {
      "cell_type": "code",
      "metadata": {
        "colab": {
          "base_uri": "https://localhost:8080/"
        },
        "id": "uPB1aAqgpGue",
        "outputId": "fbdfd365-f0be-41c5-bf52-10d57e8fda76"
      },
      "source": [
        "neigh1 = KNeighborsClassifier(n_neighbors=1) #เชื่อใกล้สุดแค่คนเดียว\n",
        "neigh1.fit(X_traintrain,y_traintrain)"
      ],
      "execution_count": null,
      "outputs": [
        {
          "output_type": "execute_result",
          "data": {
            "text/plain": [
              "KNeighborsClassifier(algorithm='auto', leaf_size=30, metric='minkowski',\n",
              "                     metric_params=None, n_jobs=None, n_neighbors=1, p=2,\n",
              "                     weights='uniform')"
            ]
          },
          "metadata": {},
          "execution_count": 4
        }
      ]
    },
    {
      "cell_type": "markdown",
      "metadata": {
        "id": "AQUKc2POpwm2"
      },
      "source": [
        "####model 2"
      ]
    },
    {
      "cell_type": "code",
      "metadata": {
        "colab": {
          "base_uri": "https://localhost:8080/"
        },
        "id": "a-prAFS_pGsA",
        "outputId": "b4af6883-d767-4409-febd-fc7d879b7237"
      },
      "source": [
        "neigh2 = KNeighborsClassifier(n_neighbors=5,weights='distance') #เชื่อคนใกล้มากว่าคนไกล\n",
        "neigh2.fit(X_traintrain,y_traintrain)"
      ],
      "execution_count": null,
      "outputs": [
        {
          "output_type": "execute_result",
          "data": {
            "text/plain": [
              "KNeighborsClassifier(algorithm='auto', leaf_size=30, metric='minkowski',\n",
              "                     metric_params=None, n_jobs=None, n_neighbors=5, p=2,\n",
              "                     weights='distance')"
            ]
          },
          "metadata": {},
          "execution_count": 5
        }
      ]
    },
    {
      "cell_type": "markdown",
      "metadata": {
        "id": "Ls1JkpNfqA8h"
      },
      "source": [
        "####model 2"
      ]
    },
    {
      "cell_type": "code",
      "metadata": {
        "colab": {
          "base_uri": "https://localhost:8080/"
        },
        "id": "sO-gBm6apGou",
        "outputId": "d3491ad0-c76c-49ec-b59e-477df44371cc"
      },
      "source": [
        "neigh3 = KNeighborsClassifier(n_neighbors=9,weights='distance') #เชื่อทุกคนเท่ากัน\n",
        "neigh3.fit(X_traintrain,y_traintrain)"
      ],
      "execution_count": null,
      "outputs": [
        {
          "output_type": "execute_result",
          "data": {
            "text/plain": [
              "KNeighborsClassifier(algorithm='auto', leaf_size=30, metric='minkowski',\n",
              "                     metric_params=None, n_jobs=None, n_neighbors=9, p=2,\n",
              "                     weights='distance')"
            ]
          },
          "metadata": {},
          "execution_count": 6
        }
      ]
    },
    {
      "cell_type": "markdown",
      "metadata": {
        "id": "7xnbr17JqNTi"
      },
      "source": [
        "### Validate model"
      ]
    },
    {
      "cell_type": "code",
      "metadata": {
        "id": "qNfpGhI3pGng"
      },
      "source": [
        "from sklearn.metrics import accuracy_score"
      ],
      "execution_count": null,
      "outputs": []
    },
    {
      "cell_type": "code",
      "metadata": {
        "id": "JGziGJNk0Ztf",
        "colab": {
          "base_uri": "https://localhost:8080/"
        },
        "outputId": "ac6c04de-5f81-4280-a316-03fd7287fbfe"
      },
      "source": [
        "knn1_result = neigh1.predict(X_val)\n",
        "accuracy_score(y_val,knn1_result)"
      ],
      "execution_count": null,
      "outputs": [
        {
          "output_type": "execute_result",
          "data": {
            "text/plain": [
              "0.9777777777777777"
            ]
          },
          "metadata": {},
          "execution_count": 8
        }
      ]
    },
    {
      "cell_type": "code",
      "metadata": {
        "id": "uYKDNcQ40ZrB",
        "colab": {
          "base_uri": "https://localhost:8080/"
        },
        "outputId": "aa47d494-688e-4e41-8119-79784b250891"
      },
      "source": [
        "knn2_result = neigh2.predict(X_val)\n",
        "accuracy_score(y_val,knn2_result)"
      ],
      "execution_count": null,
      "outputs": [
        {
          "output_type": "execute_result",
          "data": {
            "text/plain": [
              "0.9777777777777777"
            ]
          },
          "metadata": {},
          "execution_count": 9
        }
      ]
    },
    {
      "cell_type": "code",
      "metadata": {
        "id": "VEJ3wYSYqngB",
        "colab": {
          "base_uri": "https://localhost:8080/"
        },
        "outputId": "a315ec2d-9d6e-4573-c24e-1c174a365ec0"
      },
      "source": [
        "knn3_result = neigh3.predict(X_val)\n",
        "accuracy_score(y_val,knn3_result)"
      ],
      "execution_count": null,
      "outputs": [
        {
          "output_type": "execute_result",
          "data": {
            "text/plain": [
              "0.9703703703703703"
            ]
          },
          "metadata": {},
          "execution_count": 10
        }
      ]
    },
    {
      "cell_type": "markdown",
      "metadata": {
        "id": "6lDTUrWW0TzI"
      },
      "source": [
        "#Evaluation"
      ]
    },
    {
      "cell_type": "markdown",
      "metadata": {
        "id": "Mz19k18_quNT"
      },
      "source": [
        "### retrain model with full training data"
      ]
    },
    {
      "cell_type": "code",
      "metadata": {
        "colab": {
          "base_uri": "https://localhost:8080/"
        },
        "id": "8t1M3brJnf-l",
        "outputId": "e7eeb094-3541-4e4d-b522-b7c926e21dd2"
      },
      "source": [
        "neigh1full = KNeighborsClassifier(n_neighbors=1) #เชื่อใกล้สุดแค่คนเดียว\n",
        "neigh1full.fit(X_train,y_train)"
      ],
      "execution_count": null,
      "outputs": [
        {
          "output_type": "execute_result",
          "data": {
            "text/plain": [
              "KNeighborsClassifier(algorithm='auto', leaf_size=30, metric='minkowski',\n",
              "                     metric_params=None, n_jobs=None, n_neighbors=1, p=2,\n",
              "                     weights='uniform')"
            ]
          },
          "metadata": {},
          "execution_count": 11
        }
      ]
    },
    {
      "cell_type": "code",
      "metadata": {
        "colab": {
          "base_uri": "https://localhost:8080/"
        },
        "id": "CYYDKTk0nf9A",
        "outputId": "6c8f8f70-37ee-4f57-ef98-20ac10bdc6e3"
      },
      "source": [
        "neigh2full = KNeighborsClassifier(n_neighbors=5,weights='distance') #เชื่อคนใกล้มากว่าคนไกล\n",
        "neigh2full.fit(X_train,y_train)\n"
      ],
      "execution_count": null,
      "outputs": [
        {
          "output_type": "execute_result",
          "data": {
            "text/plain": [
              "KNeighborsClassifier(algorithm='auto', leaf_size=30, metric='minkowski',\n",
              "                     metric_params=None, n_jobs=None, n_neighbors=5, p=2,\n",
              "                     weights='distance')"
            ]
          },
          "metadata": {},
          "execution_count": 12
        }
      ]
    },
    {
      "cell_type": "markdown",
      "metadata": {
        "id": "ZxUNUokZq3uH"
      },
      "source": [
        "###Evaluation"
      ]
    },
    {
      "cell_type": "code",
      "metadata": {
        "id": "9tCD_YaY1nbF"
      },
      "source": [
        "from sklearn.metrics import classification_report, confusion_matrix"
      ],
      "execution_count": null,
      "outputs": []
    },
    {
      "cell_type": "code",
      "metadata": {
        "id": "2YX5I3zG1nYE",
        "colab": {
          "base_uri": "https://localhost:8080/"
        },
        "outputId": "dc7c319b-63d6-4027-bbf5-bc81ebc0e7d3"
      },
      "source": [
        "cm1 = confusion_matrix(y_test,neigh1full.predict(X_test))\n",
        "cm1"
      ],
      "execution_count": null,
      "outputs": [
        {
          "output_type": "execute_result",
          "data": {
            "text/plain": [
              "array([[99,  0,  0,  0,  0,  0,  0,  0,  0,  0],\n",
              "       [ 0, 92,  0,  0,  0,  0,  0,  0,  1,  0],\n",
              "       [ 1,  0, 98,  0,  0,  0,  0,  0,  1,  0],\n",
              "       [ 0,  0,  1, 77,  0,  0,  0,  0,  0,  1],\n",
              "       [ 0,  0,  0,  0, 95,  0,  0,  0,  0,  1],\n",
              "       [ 0,  0,  0,  0,  0, 91,  1,  0,  0,  0],\n",
              "       [ 0,  1,  0,  0,  0,  0, 84,  0,  0,  0],\n",
              "       [ 0,  0,  0,  0,  0,  0,  0, 94,  0,  0],\n",
              "       [ 0,  1,  0,  1,  0,  0,  0,  0, 80,  1],\n",
              "       [ 0,  0,  0,  2,  0,  3,  0,  0,  0, 73]])"
            ]
          },
          "metadata": {},
          "execution_count": 14
        }
      ]
    },
    {
      "cell_type": "code",
      "metadata": {
        "id": "qMr0r5Ao1nWV",
        "colab": {
          "base_uri": "https://localhost:8080/"
        },
        "outputId": "da94177d-f300-489d-98cc-8f2ef4cfe90b"
      },
      "source": [
        "cm2 = confusion_matrix(y_test,neigh2full.predict(X_test))\n",
        "cm2"
      ],
      "execution_count": null,
      "outputs": [
        {
          "output_type": "execute_result",
          "data": {
            "text/plain": [
              "array([[99,  0,  0,  0,  0,  0,  0,  0,  0,  0],\n",
              "       [ 0, 93,  0,  0,  0,  0,  0,  0,  0,  0],\n",
              "       [ 1,  0, 97,  1,  0,  0,  0,  1,  0,  0],\n",
              "       [ 0,  0,  1, 78,  0,  0,  0,  0,  0,  0],\n",
              "       [ 0,  0,  0,  0, 95,  0,  0,  0,  0,  1],\n",
              "       [ 0,  0,  0,  0,  0, 92,  0,  0,  0,  0],\n",
              "       [ 0,  1,  0,  0,  0,  0, 84,  0,  0,  0],\n",
              "       [ 0,  0,  0,  0,  0,  0,  0, 94,  0,  0],\n",
              "       [ 0,  2,  0,  2,  0,  0,  1,  0, 77,  1],\n",
              "       [ 0,  0,  0,  2,  0,  2,  0,  0,  0, 74]])"
            ]
          },
          "metadata": {},
          "execution_count": 15
        }
      ]
    },
    {
      "cell_type": "code",
      "metadata": {
        "id": "c6duBVG4nf4d",
        "colab": {
          "base_uri": "https://localhost:8080/"
        },
        "outputId": "484c1bbd-f9f5-4276-8a55-3cc41ca376f4"
      },
      "source": [
        "cr1 = classification_report(y_test,neigh1full.predict(X_test))\n",
        "print(cr1)"
      ],
      "execution_count": null,
      "outputs": [
        {
          "output_type": "stream",
          "name": "stdout",
          "text": [
            "              precision    recall  f1-score   support\n",
            "\n",
            "           0       0.99      1.00      0.99        99\n",
            "           1       0.98      0.99      0.98        93\n",
            "           2       0.99      0.98      0.98       100\n",
            "           3       0.96      0.97      0.97        79\n",
            "           4       1.00      0.99      0.99        96\n",
            "           5       0.97      0.99      0.98        92\n",
            "           6       0.99      0.99      0.99        85\n",
            "           7       1.00      1.00      1.00        94\n",
            "           8       0.98      0.96      0.97        83\n",
            "           9       0.96      0.94      0.95        78\n",
            "\n",
            "    accuracy                           0.98       899\n",
            "   macro avg       0.98      0.98      0.98       899\n",
            "weighted avg       0.98      0.98      0.98       899\n",
            "\n"
          ]
        }
      ]
    },
    {
      "cell_type": "code",
      "metadata": {
        "id": "xIWQDUujrLYD",
        "colab": {
          "base_uri": "https://localhost:8080/"
        },
        "outputId": "334cd08b-b95b-4455-88e1-249153fbc912"
      },
      "source": [
        "cr2 = classification_report(y_test,neigh2full.predict(X_test))\n",
        "print(cr2)"
      ],
      "execution_count": null,
      "outputs": [
        {
          "output_type": "stream",
          "name": "stdout",
          "text": [
            "              precision    recall  f1-score   support\n",
            "\n",
            "           0       0.99      1.00      0.99        99\n",
            "           1       0.97      1.00      0.98        93\n",
            "           2       0.99      0.97      0.98       100\n",
            "           3       0.94      0.99      0.96        79\n",
            "           4       1.00      0.99      0.99        96\n",
            "           5       0.98      1.00      0.99        92\n",
            "           6       0.99      0.99      0.99        85\n",
            "           7       0.99      1.00      0.99        94\n",
            "           8       1.00      0.93      0.96        83\n",
            "           9       0.97      0.95      0.96        78\n",
            "\n",
            "    accuracy                           0.98       899\n",
            "   macro avg       0.98      0.98      0.98       899\n",
            "weighted avg       0.98      0.98      0.98       899\n",
            "\n"
          ]
        }
      ]
    }
  ]
}