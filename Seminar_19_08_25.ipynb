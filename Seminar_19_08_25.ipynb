{
  "nbformat": 4,
  "nbformat_minor": 0,
  "metadata": {
    "colab": {
      "provenance": [],
      "authorship_tag": "ABX9TyPasrVcjOr04CpHaIuwsatR",
      "include_colab_link": true
    },
    "kernelspec": {
      "name": "python3",
      "display_name": "Python 3"
    },
    "language_info": {
      "name": "python"
    }
  },
  "cells": [
    {
      "cell_type": "markdown",
      "metadata": {
        "id": "view-in-github",
        "colab_type": "text"
      },
      "source": [
        "<a href=\"https://colab.research.google.com/github/nicha0524/DPDM2021/blob/main/Seminar_19_08_25.ipynb\" target=\"_parent\"><img src=\"https://colab.research.google.com/assets/colab-badge.svg\" alt=\"Open In Colab\"/></a>"
      ]
    },
    {
      "cell_type": "code",
      "source": [
        "import scipy\n",
        "import scipy.stats"
      ],
      "metadata": {
        "id": "rWxmsqRxtbhb"
      },
      "execution_count": 223,
      "outputs": []
    },
    {
      "cell_type": "code",
      "source": [
        "size = 10"
      ],
      "metadata": {
        "id": "hnqx_fz_tjIS"
      },
      "execution_count": 224,
      "outputs": []
    },
    {
      "cell_type": "code",
      "source": [
        "import random"
      ],
      "metadata": {
        "id": "jAeHMpumAnMw"
      },
      "execution_count": 225,
      "outputs": []
    },
    {
      "cell_type": "code",
      "execution_count": 226,
      "metadata": {
        "id": "qasFAkN5tAzS"
      },
      "outputs": [],
      "source": [
        "from numpy.random.mtrand import RandomState\n",
        "a = scipy.stats.gamma.rvs(1, scale = 2, size=(10),random_state = 9)"
      ]
    },
    {
      "cell_type": "code",
      "source": [
        "a.sort()\n",
        "a"
      ],
      "metadata": {
        "colab": {
          "base_uri": "https://localhost:8080/"
        },
        "id": "dPLU92hptMjV",
        "outputId": "61917da1-8eac-408b-a63b-e8b9521becb6"
      },
      "execution_count": 227,
      "outputs": [
        {
          "output_type": "execute_result",
          "data": {
            "text/plain": [
              "array([0.02085668, 0.17560808, 0.28734708, 0.30656132, 0.49323043,\n",
              "       0.57030699, 0.84776323, 1.08431675, 1.36945859, 1.39380682])"
            ]
          },
          "metadata": {},
          "execution_count": 227
        }
      ]
    },
    {
      "cell_type": "code",
      "source": [
        "b = 2*scipy.stats.gamma.rvs(1, scale = 2, size=(10),random_state = 9)"
      ],
      "metadata": {
        "id": "s7uQiroUtNTy"
      },
      "execution_count": 228,
      "outputs": []
    },
    {
      "cell_type": "code",
      "source": [
        "b.sort()\n",
        "b"
      ],
      "metadata": {
        "colab": {
          "base_uri": "https://localhost:8080/"
        },
        "id": "0OnbM_AstNRc",
        "outputId": "0e4db066-617d-45ce-db16-a22ad20e4c55"
      },
      "execution_count": 229,
      "outputs": [
        {
          "output_type": "execute_result",
          "data": {
            "text/plain": [
              "array([0.04171336, 0.35121615, 0.57469416, 0.61312263, 0.98646085,\n",
              "       1.14061399, 1.69552646, 2.1686335 , 2.73891719, 2.78761364])"
            ]
          },
          "metadata": {},
          "execution_count": 229
        }
      ]
    },
    {
      "cell_type": "code",
      "source": [
        "\n",
        "c = 2.5*scipy.stats.gamma.rvs(1, scale = 2, size=(10),random_state = 9)\n",
        "c.sort()\n",
        "c"
      ],
      "metadata": {
        "colab": {
          "base_uri": "https://localhost:8080/"
        },
        "id": "SsLFcdPLtWhG",
        "outputId": "901a1e84-dfbe-4e00-9efc-e264c87592a3"
      },
      "execution_count": 230,
      "outputs": [
        {
          "output_type": "execute_result",
          "data": {
            "text/plain": [
              "array([0.0521417 , 0.43902019, 0.71836771, 0.76640329, 1.23307606,\n",
              "       1.42576748, 2.11940808, 2.71079188, 3.42364648, 3.48451705])"
            ]
          },
          "metadata": {},
          "execution_count": 230
        }
      ]
    },
    {
      "cell_type": "code",
      "source": [
        "d = 3*scipy.stats.gamma.rvs(1, scale = 2, size=(10),random_state = 9)\n",
        "d.sort()\n",
        "d"
      ],
      "metadata": {
        "colab": {
          "base_uri": "https://localhost:8080/"
        },
        "id": "PdutfvijtNO8",
        "outputId": "7818b16c-2dda-431c-bf72-b3bce15787dc"
      },
      "execution_count": 231,
      "outputs": [
        {
          "output_type": "execute_result",
          "data": {
            "text/plain": [
              "array([0.06257004, 0.52682423, 0.86204125, 0.91968395, 1.47969128,\n",
              "       1.71092098, 2.54328969, 3.25295025, 4.10837578, 4.18142046])"
            ]
          },
          "metadata": {},
          "execution_count": 231
        }
      ]
    },
    {
      "cell_type": "code",
      "source": [
        "e = 3.5*scipy.stats.gamma.rvs(1, scale = 2, size=(10),random_state = 9)\n",
        "e.sort()\n",
        "e"
      ],
      "metadata": {
        "colab": {
          "base_uri": "https://localhost:8080/"
        },
        "id": "D2TfvAphtNMn",
        "outputId": "f9170931-005f-44e2-b1aa-3e910c8fd34d"
      },
      "execution_count": 232,
      "outputs": [
        {
          "output_type": "execute_result",
          "data": {
            "text/plain": [
              "array([0.07299838, 0.61462826, 1.00571479, 1.07296461, 1.72630649,\n",
              "       1.99607448, 2.96717131, 3.79510863, 4.79310508, 4.87832387])"
            ]
          },
          "metadata": {},
          "execution_count": 232
        }
      ]
    },
    {
      "cell_type": "code",
      "source": [
        "f = 4*scipy.stats.gamma.rvs(1, scale = 2, size=(10),random_state = 9)\n",
        "f.sort()\n",
        "f"
      ],
      "metadata": {
        "colab": {
          "base_uri": "https://localhost:8080/"
        },
        "id": "WlbWS-od1e5F",
        "outputId": "88be480c-eee2-45a8-84b7-67488c084720"
      },
      "execution_count": 233,
      "outputs": [
        {
          "output_type": "execute_result",
          "data": {
            "text/plain": [
              "array([0.08342672, 0.7024323 , 1.14938833, 1.22624526, 1.9729217 ,\n",
              "       2.28122797, 3.39105293, 4.337267  , 5.47783437, 5.57522729])"
            ]
          },
          "metadata": {},
          "execution_count": 233
        }
      ]
    },
    {
      "cell_type": "code",
      "source": [
        "g = 4.5*scipy.stats.gamma.rvs(1, scale = 2, size=(10),random_state = 9)\n",
        "g.sort()\n",
        "g"
      ],
      "metadata": {
        "colab": {
          "base_uri": "https://localhost:8080/"
        },
        "id": "M0kL2Qy91gXO",
        "outputId": "a223135a-9e5c-4c7b-80e9-c69871ad1a4f"
      },
      "execution_count": 234,
      "outputs": [
        {
          "output_type": "execute_result",
          "data": {
            "text/plain": [
              "array([0.09385506, 0.79023634, 1.29306187, 1.37952592, 2.21953691,\n",
              "       2.56638147, 3.81493454, 4.87942538, 6.16256367, 6.2721307 ])"
            ]
          },
          "metadata": {},
          "execution_count": 234
        }
      ]
    },
    {
      "cell_type": "code",
      "source": [
        "h = 5*scipy.stats.gamma.rvs(1, scale = 2, size=(10),random_state = 9)\n",
        "h.sort()\n",
        "h"
      ],
      "metadata": {
        "colab": {
          "base_uri": "https://localhost:8080/"
        },
        "id": "Nns4nTTr1g3v",
        "outputId": "d7499df6-0181-4c80-b4bf-53ba8451efa2"
      },
      "execution_count": 235,
      "outputs": [
        {
          "output_type": "execute_result",
          "data": {
            "text/plain": [
              "array([0.10428341, 0.87804038, 1.43673541, 1.53280658, 2.46615213,\n",
              "       2.85153497, 4.23881616, 5.42158375, 6.84729297, 6.96903411])"
            ]
          },
          "metadata": {},
          "execution_count": 235
        }
      ]
    },
    {
      "cell_type": "code",
      "source": [
        "j = 5.5*scipy.stats.gamma.rvs(1, scale = 2, size=(10),random_state = 9)\n",
        "j.sort()\n",
        "j"
      ],
      "metadata": {
        "colab": {
          "base_uri": "https://localhost:8080/"
        },
        "id": "LvpNNHiT1hb_",
        "outputId": "e1628ba0-3b3d-44b8-eb5c-30a02e1c0a67"
      },
      "execution_count": 236,
      "outputs": [
        {
          "output_type": "execute_result",
          "data": {
            "text/plain": [
              "array([0.11471175, 0.96584442, 1.58040895, 1.68608724, 2.71276734,\n",
              "       3.13668846, 4.66269777, 5.96374213, 7.53202227, 7.66593752])"
            ]
          },
          "metadata": {},
          "execution_count": 236
        }
      ]
    },
    {
      "cell_type": "code",
      "source": [
        "k = 6*scipy.stats.gamma.rvs(1, scale = 2, size=(10),random_state = 9)\n",
        "k.sort()\n",
        "k"
      ],
      "metadata": {
        "colab": {
          "base_uri": "https://localhost:8080/"
        },
        "id": "AGkqotPE1h_R",
        "outputId": "8fc1d07d-8943-4ceb-d567-54cbc6d8d6b0"
      },
      "execution_count": 237,
      "outputs": [
        {
          "output_type": "execute_result",
          "data": {
            "text/plain": [
              "array([0.12514009, 1.05364845, 1.72408249, 1.8393679 , 2.95938255,\n",
              "       3.42184196, 5.08657939, 6.5059005 , 8.21675156, 8.36284093])"
            ]
          },
          "metadata": {},
          "execution_count": 237
        }
      ]
    },
    {
      "cell_type": "code",
      "source": [
        "import pandas as pd\n",
        "import numpy as np"
      ],
      "metadata": {
        "id": "mU5YMkCStNKI"
      },
      "execution_count": 238,
      "outputs": []
    },
    {
      "cell_type": "code",
      "source": [
        "index= ([\"500\" ,\"1000\",\"1500\",\"2000\",\"3000\",\"4000\",\"4500\",\"5000\",\"5500\",\"6000\"])"
      ],
      "metadata": {
        "id": "ACqtgDgTtufV"
      },
      "execution_count": 239,
      "outputs": []
    },
    {
      "cell_type": "code",
      "source": [
        "ab = (a,b,c,d,e,f,g,h,j,k)"
      ],
      "metadata": {
        "id": "y4r7z3jXtrJL"
      },
      "execution_count": 240,
      "outputs": []
    },
    {
      "cell_type": "code",
      "source": [
        "df = pd.DataFrame(ab,index=(\"500\" ,\"1000\",\"1500\",\"2000\",\"3000\",\"4000\",\"4500\",\"5000\",\"5500\",\"6000\"))"
      ],
      "metadata": {
        "id": "zVJ2L7b_2X26"
      },
      "execution_count": 241,
      "outputs": []
    },
    {
      "cell_type": "code",
      "source": [
        "df"
      ],
      "metadata": {
        "colab": {
          "base_uri": "https://localhost:8080/",
          "height": 427
        },
        "id": "OLvweiXE2eE3",
        "outputId": "f238aad7-b5bf-4e83-815b-85b25cc6d723"
      },
      "execution_count": 242,
      "outputs": [
        {
          "output_type": "execute_result",
          "data": {
            "text/plain": [
              "             0         1         2         3         4         5         6  \\\n",
              "500   0.020857  0.175608  0.287347  0.306561  0.493230  0.570307  0.847763   \n",
              "1000  0.041713  0.351216  0.574694  0.613123  0.986461  1.140614  1.695526   \n",
              "1500  0.052142  0.439020  0.718368  0.766403  1.233076  1.425767  2.119408   \n",
              "2000  0.062570  0.526824  0.862041  0.919684  1.479691  1.710921  2.543290   \n",
              "3000  0.072998  0.614628  1.005715  1.072965  1.726306  1.996074  2.967171   \n",
              "4000  0.083427  0.702432  1.149388  1.226245  1.972922  2.281228  3.391053   \n",
              "4500  0.093855  0.790236  1.293062  1.379526  2.219537  2.566381  3.814935   \n",
              "5000  0.104283  0.878040  1.436735  1.532807  2.466152  2.851535  4.238816   \n",
              "5500  0.114712  0.965844  1.580409  1.686087  2.712767  3.136688  4.662698   \n",
              "6000  0.125140  1.053648  1.724082  1.839368  2.959383  3.421842  5.086579   \n",
              "\n",
              "             7         8         9  \n",
              "500   1.084317  1.369459  1.393807  \n",
              "1000  2.168634  2.738917  2.787614  \n",
              "1500  2.710792  3.423646  3.484517  \n",
              "2000  3.252950  4.108376  4.181420  \n",
              "3000  3.795109  4.793105  4.878324  \n",
              "4000  4.337267  5.477834  5.575227  \n",
              "4500  4.879425  6.162564  6.272131  \n",
              "5000  5.421584  6.847293  6.969034  \n",
              "5500  5.963742  7.532022  7.665938  \n",
              "6000  6.505901  8.216752  8.362841  "
            ],
            "text/html": [
              "\n",
              "  <div id=\"df-13063b03-01e4-489c-9006-a1d702be6d31\">\n",
              "    <div class=\"colab-df-container\">\n",
              "      <div>\n",
              "<style scoped>\n",
              "    .dataframe tbody tr th:only-of-type {\n",
              "        vertical-align: middle;\n",
              "    }\n",
              "\n",
              "    .dataframe tbody tr th {\n",
              "        vertical-align: top;\n",
              "    }\n",
              "\n",
              "    .dataframe thead th {\n",
              "        text-align: right;\n",
              "    }\n",
              "</style>\n",
              "<table border=\"1\" class=\"dataframe\">\n",
              "  <thead>\n",
              "    <tr style=\"text-align: right;\">\n",
              "      <th></th>\n",
              "      <th>0</th>\n",
              "      <th>1</th>\n",
              "      <th>2</th>\n",
              "      <th>3</th>\n",
              "      <th>4</th>\n",
              "      <th>5</th>\n",
              "      <th>6</th>\n",
              "      <th>7</th>\n",
              "      <th>8</th>\n",
              "      <th>9</th>\n",
              "    </tr>\n",
              "  </thead>\n",
              "  <tbody>\n",
              "    <tr>\n",
              "      <th>500</th>\n",
              "      <td>0.020857</td>\n",
              "      <td>0.175608</td>\n",
              "      <td>0.287347</td>\n",
              "      <td>0.306561</td>\n",
              "      <td>0.493230</td>\n",
              "      <td>0.570307</td>\n",
              "      <td>0.847763</td>\n",
              "      <td>1.084317</td>\n",
              "      <td>1.369459</td>\n",
              "      <td>1.393807</td>\n",
              "    </tr>\n",
              "    <tr>\n",
              "      <th>1000</th>\n",
              "      <td>0.041713</td>\n",
              "      <td>0.351216</td>\n",
              "      <td>0.574694</td>\n",
              "      <td>0.613123</td>\n",
              "      <td>0.986461</td>\n",
              "      <td>1.140614</td>\n",
              "      <td>1.695526</td>\n",
              "      <td>2.168634</td>\n",
              "      <td>2.738917</td>\n",
              "      <td>2.787614</td>\n",
              "    </tr>\n",
              "    <tr>\n",
              "      <th>1500</th>\n",
              "      <td>0.052142</td>\n",
              "      <td>0.439020</td>\n",
              "      <td>0.718368</td>\n",
              "      <td>0.766403</td>\n",
              "      <td>1.233076</td>\n",
              "      <td>1.425767</td>\n",
              "      <td>2.119408</td>\n",
              "      <td>2.710792</td>\n",
              "      <td>3.423646</td>\n",
              "      <td>3.484517</td>\n",
              "    </tr>\n",
              "    <tr>\n",
              "      <th>2000</th>\n",
              "      <td>0.062570</td>\n",
              "      <td>0.526824</td>\n",
              "      <td>0.862041</td>\n",
              "      <td>0.919684</td>\n",
              "      <td>1.479691</td>\n",
              "      <td>1.710921</td>\n",
              "      <td>2.543290</td>\n",
              "      <td>3.252950</td>\n",
              "      <td>4.108376</td>\n",
              "      <td>4.181420</td>\n",
              "    </tr>\n",
              "    <tr>\n",
              "      <th>3000</th>\n",
              "      <td>0.072998</td>\n",
              "      <td>0.614628</td>\n",
              "      <td>1.005715</td>\n",
              "      <td>1.072965</td>\n",
              "      <td>1.726306</td>\n",
              "      <td>1.996074</td>\n",
              "      <td>2.967171</td>\n",
              "      <td>3.795109</td>\n",
              "      <td>4.793105</td>\n",
              "      <td>4.878324</td>\n",
              "    </tr>\n",
              "    <tr>\n",
              "      <th>4000</th>\n",
              "      <td>0.083427</td>\n",
              "      <td>0.702432</td>\n",
              "      <td>1.149388</td>\n",
              "      <td>1.226245</td>\n",
              "      <td>1.972922</td>\n",
              "      <td>2.281228</td>\n",
              "      <td>3.391053</td>\n",
              "      <td>4.337267</td>\n",
              "      <td>5.477834</td>\n",
              "      <td>5.575227</td>\n",
              "    </tr>\n",
              "    <tr>\n",
              "      <th>4500</th>\n",
              "      <td>0.093855</td>\n",
              "      <td>0.790236</td>\n",
              "      <td>1.293062</td>\n",
              "      <td>1.379526</td>\n",
              "      <td>2.219537</td>\n",
              "      <td>2.566381</td>\n",
              "      <td>3.814935</td>\n",
              "      <td>4.879425</td>\n",
              "      <td>6.162564</td>\n",
              "      <td>6.272131</td>\n",
              "    </tr>\n",
              "    <tr>\n",
              "      <th>5000</th>\n",
              "      <td>0.104283</td>\n",
              "      <td>0.878040</td>\n",
              "      <td>1.436735</td>\n",
              "      <td>1.532807</td>\n",
              "      <td>2.466152</td>\n",
              "      <td>2.851535</td>\n",
              "      <td>4.238816</td>\n",
              "      <td>5.421584</td>\n",
              "      <td>6.847293</td>\n",
              "      <td>6.969034</td>\n",
              "    </tr>\n",
              "    <tr>\n",
              "      <th>5500</th>\n",
              "      <td>0.114712</td>\n",
              "      <td>0.965844</td>\n",
              "      <td>1.580409</td>\n",
              "      <td>1.686087</td>\n",
              "      <td>2.712767</td>\n",
              "      <td>3.136688</td>\n",
              "      <td>4.662698</td>\n",
              "      <td>5.963742</td>\n",
              "      <td>7.532022</td>\n",
              "      <td>7.665938</td>\n",
              "    </tr>\n",
              "    <tr>\n",
              "      <th>6000</th>\n",
              "      <td>0.125140</td>\n",
              "      <td>1.053648</td>\n",
              "      <td>1.724082</td>\n",
              "      <td>1.839368</td>\n",
              "      <td>2.959383</td>\n",
              "      <td>3.421842</td>\n",
              "      <td>5.086579</td>\n",
              "      <td>6.505901</td>\n",
              "      <td>8.216752</td>\n",
              "      <td>8.362841</td>\n",
              "    </tr>\n",
              "  </tbody>\n",
              "</table>\n",
              "</div>\n",
              "      <button class=\"colab-df-convert\" onclick=\"convertToInteractive('df-13063b03-01e4-489c-9006-a1d702be6d31')\"\n",
              "              title=\"Convert this dataframe to an interactive table.\"\n",
              "              style=\"display:none;\">\n",
              "        \n",
              "  <svg xmlns=\"http://www.w3.org/2000/svg\" height=\"24px\"viewBox=\"0 0 24 24\"\n",
              "       width=\"24px\">\n",
              "    <path d=\"M0 0h24v24H0V0z\" fill=\"none\"/>\n",
              "    <path d=\"M18.56 5.44l.94 2.06.94-2.06 2.06-.94-2.06-.94-.94-2.06-.94 2.06-2.06.94zm-11 1L8.5 8.5l.94-2.06 2.06-.94-2.06-.94L8.5 2.5l-.94 2.06-2.06.94zm10 10l.94 2.06.94-2.06 2.06-.94-2.06-.94-.94-2.06-.94 2.06-2.06.94z\"/><path d=\"M17.41 7.96l-1.37-1.37c-.4-.4-.92-.59-1.43-.59-.52 0-1.04.2-1.43.59L10.3 9.45l-7.72 7.72c-.78.78-.78 2.05 0 2.83L4 21.41c.39.39.9.59 1.41.59.51 0 1.02-.2 1.41-.59l7.78-7.78 2.81-2.81c.8-.78.8-2.07 0-2.86zM5.41 20L4 18.59l7.72-7.72 1.47 1.35L5.41 20z\"/>\n",
              "  </svg>\n",
              "      </button>\n",
              "      \n",
              "  <style>\n",
              "    .colab-df-container {\n",
              "      display:flex;\n",
              "      flex-wrap:wrap;\n",
              "      gap: 12px;\n",
              "    }\n",
              "\n",
              "    .colab-df-convert {\n",
              "      background-color: #E8F0FE;\n",
              "      border: none;\n",
              "      border-radius: 50%;\n",
              "      cursor: pointer;\n",
              "      display: none;\n",
              "      fill: #1967D2;\n",
              "      height: 32px;\n",
              "      padding: 0 0 0 0;\n",
              "      width: 32px;\n",
              "    }\n",
              "\n",
              "    .colab-df-convert:hover {\n",
              "      background-color: #E2EBFA;\n",
              "      box-shadow: 0px 1px 2px rgba(60, 64, 67, 0.3), 0px 1px 3px 1px rgba(60, 64, 67, 0.15);\n",
              "      fill: #174EA6;\n",
              "    }\n",
              "\n",
              "    [theme=dark] .colab-df-convert {\n",
              "      background-color: #3B4455;\n",
              "      fill: #D2E3FC;\n",
              "    }\n",
              "\n",
              "    [theme=dark] .colab-df-convert:hover {\n",
              "      background-color: #434B5C;\n",
              "      box-shadow: 0px 1px 3px 1px rgba(0, 0, 0, 0.15);\n",
              "      filter: drop-shadow(0px 1px 2px rgba(0, 0, 0, 0.3));\n",
              "      fill: #FFFFFF;\n",
              "    }\n",
              "  </style>\n",
              "\n",
              "      <script>\n",
              "        const buttonEl =\n",
              "          document.querySelector('#df-13063b03-01e4-489c-9006-a1d702be6d31 button.colab-df-convert');\n",
              "        buttonEl.style.display =\n",
              "          google.colab.kernel.accessAllowed ? 'block' : 'none';\n",
              "\n",
              "        async function convertToInteractive(key) {\n",
              "          const element = document.querySelector('#df-13063b03-01e4-489c-9006-a1d702be6d31');\n",
              "          const dataTable =\n",
              "            await google.colab.kernel.invokeFunction('convertToInteractive',\n",
              "                                                     [key], {});\n",
              "          if (!dataTable) return;\n",
              "\n",
              "          const docLinkHtml = 'Like what you see? Visit the ' +\n",
              "            '<a target=\"_blank\" href=https://colab.research.google.com/notebooks/data_table.ipynb>data table notebook</a>'\n",
              "            + ' to learn more about interactive tables.';\n",
              "          element.innerHTML = '';\n",
              "          dataTable['output_type'] = 'display_data';\n",
              "          await google.colab.output.renderOutput(dataTable, element);\n",
              "          const docLink = document.createElement('div');\n",
              "          docLink.innerHTML = docLinkHtml;\n",
              "          element.appendChild(docLink);\n",
              "        }\n",
              "      </script>\n",
              "    </div>\n",
              "  </div>\n",
              "  "
            ]
          },
          "metadata": {},
          "execution_count": 242
        }
      ]
    },
    {
      "cell_type": "code",
      "source": [
        "import matplotlib.pyplot as plt\n",
        "import numpy as np\n",
        "from scipy.stats import gamma"
      ],
      "metadata": {
        "id": "aYxkEW6sSMIz"
      },
      "execution_count": 243,
      "outputs": []
    },
    {
      "cell_type": "code",
      "source": [
        "a1 = df.iloc[8,:]"
      ],
      "metadata": {
        "id": "Fbmdph2hTBBy"
      },
      "execution_count": 244,
      "outputs": []
    },
    {
      "cell_type": "code",
      "source": [
        "from numpy.lib.histograms import histogram\n",
        "histogram(df.iloc[0,:])\n"
      ],
      "metadata": {
        "colab": {
          "base_uri": "https://localhost:8080/"
        },
        "id": "1cljKt56SUTL",
        "outputId": "dbccc17f-e14d-4c9d-8ec9-efbf84148733"
      },
      "execution_count": 245,
      "outputs": [
        {
          "output_type": "execute_result",
          "data": {
            "text/plain": [
              "(array([1, 2, 1, 1, 1, 0, 1, 1, 0, 2]),\n",
              " array([0.02085668, 0.1581517 , 0.29544671, 0.43274172, 0.57003674,\n",
              "        0.70733175, 0.84462677, 0.98192178, 1.11921679, 1.25651181,\n",
              "        1.39380682]))"
            ]
          },
          "metadata": {},
          "execution_count": 245
        }
      ]
    },
    {
      "cell_type": "code",
      "source": [
        "_ = plt.hist(a1 , bins='auto')\n",
        "plt.show()"
      ],
      "metadata": {
        "colab": {
          "base_uri": "https://localhost:8080/",
          "height": 268
        },
        "id": "7Y40MNAxS-SW",
        "outputId": "aae59796-c74c-411c-904b-98e7610056ff"
      },
      "execution_count": 246,
      "outputs": [
        {
          "output_type": "display_data",
          "data": {
            "text/plain": [
              "<Figure size 432x288 with 1 Axes>"
            ],
            "image/png": "[encoded data removed]"
          },
          "metadata": {}
        }
      ]
    },
    {
      "cell_type": "code",
      "source": [
        "fit_alpha, fit_loc, fit_beta = scipy.stats.gamma.fit(df.iloc[0,:])\n",
        "print(fit_alpha, fit_loc, fit_beta)"
      ],
      "metadata": {
        "colab": {
          "base_uri": "https://localhost:8080/"
        },
        "id": "IZ6KM7yzP8R2",
        "outputId": "a418683f-3e74-4072-8558-6fd2ed6bd7a9"
      },
      "execution_count": 247,
      "outputs": [
        {
          "output_type": "stream",
          "name": "stdout",
          "text": [
            "0.7865886339405062 0.020856681012275086 0.7458482292905289\n"
          ]
        }
      ]
    },
    {
      "cell_type": "code",
      "source": [
        "dist = getattr(scipy.stats, 'gamma') "
      ],
      "metadata": {
        "id": "ciYsa41xTrSN"
      },
      "execution_count": 248,
      "outputs": []
    },
    {
      "cell_type": "code",
      "source": [
        "para_ = []\n",
        "for i in range(10):\n",
        "    param = dist.fit(df.iloc[i,:])\n",
        "    arg = param[:-2]\n",
        "    para_.append(arg)\n",
        "\n",
        "P_para = pd.DataFrame(para_)"
      ],
      "metadata": {
        "id": "JDjh5Gf_R3C0"
      },
      "execution_count": 249,
      "outputs": []
    },
    {
      "cell_type": "code",
      "source": [
        "P_para"
      ],
      "metadata": {
        "colab": {
          "base_uri": "https://localhost:8080/",
          "height": 363
        },
        "id": "pk6oXF8xTtlW",
        "outputId": "eb1cab71-5396-448c-d3ae-3946c4c7c5c7"
      },
      "execution_count": 250,
      "outputs": [
        {
          "output_type": "execute_result",
          "data": {
            "text/plain": [
              "          0\n",
              "0  0.786589\n",
              "1  0.786589\n",
              "2  0.786588\n",
              "3  0.786589\n",
              "4  0.786587\n",
              "5  0.786589\n",
              "6  0.786586\n",
              "7  0.786588\n",
              "8  0.786587\n",
              "9  0.786589"
            ],
            "text/html": [
              "\n",
              "  <div id=\"df-12732f35-34e7-4394-a848-19024f60468f\">\n",
              "    <div class=\"colab-df-container\">\n",
              "      <div>\n",
              "<style scoped>\n",
              "    .dataframe tbody tr th:only-of-type {\n",
              "        vertical-align: middle;\n",
              "    }\n",
              "\n",
              "    .dataframe tbody tr th {\n",
              "        vertical-align: top;\n",
              "    }\n",
              "\n",
              "    .dataframe thead th {\n",
              "        text-align: right;\n",
              "    }\n",
              "</style>\n",
              "<table border=\"1\" class=\"dataframe\">\n",
              "  <thead>\n",
              "    <tr style=\"text-align: right;\">\n",
              "      <th></th>\n",
              "      <th>0</th>\n",
              "    </tr>\n",
              "  </thead>\n",
              "  <tbody>\n",
              "    <tr>\n",
              "      <th>0</th>\n",
              "      <td>0.786589</td>\n",
              "    </tr>\n",
              "    <tr>\n",
              "      <th>1</th>\n",
              "      <td>0.786589</td>\n",
              "    </tr>\n",
              "    <tr>\n",
              "      <th>2</th>\n",
              "      <td>0.786588</td>\n",
              "    </tr>\n",
              "    <tr>\n",
              "      <th>3</th>\n",
              "      <td>0.786589</td>\n",
              "    </tr>\n",
              "    <tr>\n",
              "      <th>4</th>\n",
              "      <td>0.786587</td>\n",
              "    </tr>\n",
              "    <tr>\n",
              "      <th>5</th>\n",
              "      <td>0.786589</td>\n",
              "    </tr>\n",
              "    <tr>\n",
              "      <th>6</th>\n",
              "      <td>0.786586</td>\n",
              "    </tr>\n",
              "    <tr>\n",
              "      <th>7</th>\n",
              "      <td>0.786588</td>\n",
              "    </tr>\n",
              "    <tr>\n",
              "      <th>8</th>\n",
              "      <td>0.786587</td>\n",
              "    </tr>\n",
              "    <tr>\n",
              "      <th>9</th>\n",
              "      <td>0.786589</td>\n",
              "    </tr>\n",
              "  </tbody>\n",
              "</table>\n",
              "</div>\n",
              "      <button class=\"colab-df-convert\" onclick=\"convertToInteractive('df-12732f35-34e7-4394-a848-19024f60468f')\"\n",
              "              title=\"Convert this dataframe to an interactive table.\"\n",
              "              style=\"display:none;\">\n",
              "        \n",
              "  <svg xmlns=\"http://www.w3.org/2000/svg\" height=\"24px\"viewBox=\"0 0 24 24\"\n",
              "       width=\"24px\">\n",
              "    <path d=\"M0 0h24v24H0V0z\" fill=\"none\"/>\n",
              "    <path d=\"M18.56 5.44l.94 2.06.94-2.06 2.06-.94-2.06-.94-.94-2.06-.94 2.06-2.06.94zm-11 1L8.5 8.5l.94-2.06 2.06-.94-2.06-.94L8.5 2.5l-.94 2.06-2.06.94zm10 10l.94 2.06.94-2.06 2.06-.94-2.06-.94-.94-2.06-.94 2.06-2.06.94z\"/><path d=\"M17.41 7.96l-1.37-1.37c-.4-.4-.92-.59-1.43-.59-.52 0-1.04.2-1.43.59L10.3 9.45l-7.72 7.72c-.78.78-.78 2.05 0 2.83L4 21.41c.39.39.9.59 1.41.59.51 0 1.02-.2 1.41-.59l7.78-7.78 2.81-2.81c.8-.78.8-2.07 0-2.86zM5.41 20L4 18.59l7.72-7.72 1.47 1.35L5.41 20z\"/>\n",
              "  </svg>\n",
              "      </button>\n",
              "      \n",
              "  <style>\n",
              "    .colab-df-container {\n",
              "      display:flex;\n",
              "      flex-wrap:wrap;\n",
              "      gap: 12px;\n",
              "    }\n",
              "\n",
              "    .colab-df-convert {\n",
              "      background-color: #E8F0FE;\n",
              "      border: none;\n",
              "      border-radius: 50%;\n",
              "      cursor: pointer;\n",
              "      display: none;\n",
              "      fill: #1967D2;\n",
              "      height: 32px;\n",
              "      padding: 0 0 0 0;\n",
              "      width: 32px;\n",
              "    }\n",
              "\n",
              "    .colab-df-convert:hover {\n",
              "      background-color: #E2EBFA;\n",
              "      box-shadow: 0px 1px 2px rgba(60, 64, 67, 0.3), 0px 1px 3px 1px rgba(60, 64, 67, 0.15);\n",
              "      fill: #174EA6;\n",
              "    }\n",
              "\n",
              "    [theme=dark] .colab-df-convert {\n",
              "      background-color: #3B4455;\n",
              "      fill: #D2E3FC;\n",
              "    }\n",
              "\n",
              "    [theme=dark] .colab-df-convert:hover {\n",
              "      background-color: #434B5C;\n",
              "      box-shadow: 0px 1px 3px 1px rgba(0, 0, 0, 0.15);\n",
              "      filter: drop-shadow(0px 1px 2px rgba(0, 0, 0, 0.3));\n",
              "      fill: #FFFFFF;\n",
              "    }\n",
              "  </style>\n",
              "\n",
              "      <script>\n",
              "        const buttonEl =\n",
              "          document.querySelector('#df-12732f35-34e7-4394-a848-19024f60468f button.colab-df-convert');\n",
              "        buttonEl.style.display =\n",
              "          google.colab.kernel.accessAllowed ? 'block' : 'none';\n",
              "\n",
              "        async function convertToInteractive(key) {\n",
              "          const element = document.querySelector('#df-12732f35-34e7-4394-a848-19024f60468f');\n",
              "          const dataTable =\n",
              "            await google.colab.kernel.invokeFunction('convertToInteractive',\n",
              "                                                     [key], {});\n",
              "          if (!dataTable) return;\n",
              "\n",
              "          const docLinkHtml = 'Like what you see? Visit the ' +\n",
              "            '<a target=\"_blank\" href=https://colab.research.google.com/notebooks/data_table.ipynb>data table notebook</a>'\n",
              "            + ' to learn more about interactive tables.';\n",
              "          element.innerHTML = '';\n",
              "          dataTable['output_type'] = 'display_data';\n",
              "          await google.colab.output.renderOutput(dataTable, element);\n",
              "          const docLink = document.createElement('div');\n",
              "          docLink.innerHTML = docLinkHtml;\n",
              "          element.appendChild(docLink);\n",
              "        }\n",
              "      </script>\n",
              "    </div>\n",
              "  </div>\n",
              "  "
            ]
          },
          "metadata": {},
          "execution_count": 250
        }
      ]
    },
    {
      "cell_type": "code",
      "source": [
        "import scipy.stats as stats\n",
        "import numpy as np"
      ],
      "metadata": {
        "id": "Z6LW6Q3STys1"
      },
      "execution_count": 275,
      "outputs": []
    },
    {
      "cell_type": "code",
      "source": [
        "args=np.array(P_para.iloc[1])"
      ],
      "metadata": {
        "id": "HVOfHsvaUYnm"
      },
      "execution_count": 276,
      "outputs": []
    },
    {
      "cell_type": "code",
      "source": [
        "from sys import argv\n",
        "prior = stats.gamma.pdf(args ,2)"
      ],
      "metadata": {
        "id": "pZbepcuJUIPi"
      },
      "execution_count": 277,
      "outputs": []
    },
    {
      "cell_type": "code",
      "source": [
        "prior"
      ],
      "metadata": {
        "colab": {
          "base_uri": "https://localhost:8080/"
        },
        "id": "B8P9fiOLUxPP",
        "outputId": "80bf80a9-b732-4f1d-83b2-78dc2b1ab3f1"
      },
      "execution_count": 278,
      "outputs": [
        {
          "output_type": "execute_result",
          "data": {
            "text/plain": [
              "array([0.35820906])"
            ]
          },
          "metadata": {},
          "execution_count": 278
        }
      ]
    },
    {
      "cell_type": "code",
      "source": [
        "df.iloc[1,1] #time_1000"
      ],
      "metadata": {
        "colab": {
          "base_uri": "https://localhost:8080/"
        },
        "id": "G9inr0ykVJ-1",
        "outputId": "c672994b-8121-4c5a-c972-f78b9df8b4fb"
      },
      "execution_count": 279,
      "outputs": [
        {
          "output_type": "execute_result",
          "data": {
            "text/plain": [
              "0.3512161511521883"
            ]
          },
          "metadata": {},
          "execution_count": 279
        }
      ]
    },
    {
      "cell_type": "code",
      "source": [
        "#likelihood P(X|θ)\n",
        "likelihood = stats.gamma.pdf(df.iloc[1,1],2)"
      ],
      "metadata": {
        "id": "7u3UeLeUUzlh"
      },
      "execution_count": 280,
      "outputs": []
    },
    {
      "cell_type": "code",
      "source": [
        "likelihood"
      ],
      "metadata": {
        "colab": {
          "base_uri": "https://localhost:8080/"
        },
        "id": "DQj3lv36UzjS",
        "outputId": "d4c8c42e-aea7-481c-a44f-1838270f51ec"
      },
      "execution_count": 281,
      "outputs": [
        {
          "output_type": "execute_result",
          "data": {
            "text/plain": [
              "0.24719702680557726"
            ]
          },
          "metadata": {},
          "execution_count": 281
        }
      ]
    },
    {
      "cell_type": "code",
      "source": [
        "\n",
        "# Posterior. P(θ|X)\n",
        "posterior = likelihood * prior"
      ],
      "metadata": {
        "id": "YlXLRAhiUzTF"
      },
      "execution_count": 282,
      "outputs": []
    },
    {
      "cell_type": "code",
      "source": [
        "posterior"
      ],
      "metadata": {
        "colab": {
          "base_uri": "https://localhost:8080/"
        },
        "id": "Z8IFtw2UVmcy",
        "outputId": "2b9047df-132f-47fe-c096-4fee962879c5"
      },
      "execution_count": 283,
      "outputs": [
        {
          "output_type": "execute_result",
          "data": {
            "text/plain": [
              "array([0.08854821])"
            ]
          },
          "metadata": {},
          "execution_count": 283
        }
      ]
    },
    {
      "cell_type": "code",
      "source": [
        "# Reliability estimation after time t\n",
        "print(\"Reliability Estimation at time 1:\", round(scipy.stats.gamma.sf(1 , *posterior),3),\"%\")"
      ],
      "metadata": {
        "colab": {
          "base_uri": "https://localhost:8080/"
        },
        "id": "h5uj6naHVqhx",
        "outputId": "dda0982d-1c04-431f-dfdd-972ef095835e"
      },
      "execution_count": 285,
      "outputs": [
        {
          "output_type": "stream",
          "name": "stdout",
          "text": [
            "Reliability Estimation at time 1: 0.021 %\n"
          ]
        }
      ]
    },
    {
      "cell_type": "code",
      "source": [],
      "metadata": {
        "id": "qmNKCu9TYKoA"
      },
      "execution_count": null,
      "outputs": []
    },
    {
      "cell_type": "code",
      "source": [],
      "metadata": {
        "id": "uReagnqYYKl-"
      },
      "execution_count": null,
      "outputs": []
    },
    {
      "cell_type": "code",
      "source": [],
      "metadata": {
        "id": "3YCjEouiYKjd"
      },
      "execution_count": null,
      "outputs": []
    },
    {
      "cell_type": "code",
      "source": [],
      "metadata": {
        "id": "9rxnW5isYKhR"
      },
      "execution_count": null,
      "outputs": []
    },
    {
      "cell_type": "code",
      "source": [],
      "metadata": {
        "id": "I3bST-dDYJ7G"
      },
      "execution_count": null,
      "outputs": []
    }
  ]
}