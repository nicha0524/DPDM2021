{
  "nbformat": 4,
  "nbformat_minor": 0,
  "metadata": {
    "colab": {
      "provenance": [],
      "authorship_tag": "ABX9TyMt0KN/PI+S5BbPMI/x4CDm",
      "include_colab_link": true
    },
    "kernelspec": {
      "name": "python3",
      "display_name": "Python 3"
    },
    "language_info": {
      "name": "python"
    }
  },
  "cells": [
    {
      "cell_type": "markdown",
      "metadata": {
        "id": "view-in-github",
        "colab_type": "text"
      },
      "source": [
        "<a href=\"https://colab.research.google.com/github/nicha0524/DPDM2021/blob/main/Seminar_19_08_25.ipynb\" target=\"_parent\"><img src=\"https://colab.research.google.com/assets/colab-badge.svg\" alt=\"Open In Colab\"/></a>"
      ]
    },
    {
      "cell_type": "code",
      "source": [
        "import scipy\n",
        "import scipy.stats"
      ],
      "metadata": {
        "id": "rWxmsqRxtbhb"
      },
      "execution_count": 85,
      "outputs": []
    },
    {
      "cell_type": "code",
      "source": [
        "size = 10"
      ],
      "metadata": {
        "id": "hnqx_fz_tjIS"
      },
      "execution_count": 86,
      "outputs": []
    },
    {
      "cell_type": "code",
      "source": [
        "import random"
      ],
      "metadata": {
        "id": "jAeHMpumAnMw"
      },
      "execution_count": 87,
      "outputs": []
    },
    {
      "cell_type": "code",
      "execution_count": 88,
      "metadata": {
        "id": "qasFAkN5tAzS"
      },
      "outputs": [],
      "source": [
        "from numpy.random.mtrand import RandomState\n",
        "a = scipy.stats.gamma.rvs(1, scale = 2, size=(10),random_state = 9)"
      ]
    },
    {
      "cell_type": "code",
      "source": [
        "a.sort()\n",
        "a"
      ],
      "metadata": {
        "colab": {
          "base_uri": "https://localhost:8080/"
        },
        "id": "dPLU92hptMjV",
        "outputId": "13ff83f0-96ed-4250-aa18-de01db420c41"
      },
      "execution_count": 89,
      "outputs": [
        {
          "output_type": "execute_result",
          "data": {
            "text/plain": [
              "array([0.02085668, 0.17560808, 0.28734708, 0.30656132, 0.49323043,\n",
              "       0.57030699, 0.84776323, 1.08431675, 1.36945859, 1.39380682])"
            ]
          },
          "metadata": {},
          "execution_count": 89
        }
      ]
    },
    {
      "cell_type": "code",
      "source": [
        "b = 2*scipy.stats.gamma.rvs(1, scale = 2, size=(10),random_state = 9)"
      ],
      "metadata": {
        "id": "s7uQiroUtNTy"
      },
      "execution_count": 90,
      "outputs": []
    },
    {
      "cell_type": "code",
      "source": [
        "b.sort()\n",
        "b"
      ],
      "metadata": {
        "colab": {
          "base_uri": "https://localhost:8080/"
        },
        "id": "0OnbM_AstNRc",
        "outputId": "823ebc7f-9e06-4214-f75c-0010f1792bda"
      },
      "execution_count": 91,
      "outputs": [
        {
          "output_type": "execute_result",
          "data": {
            "text/plain": [
              "array([0.04171336, 0.35121615, 0.57469416, 0.61312263, 0.98646085,\n",
              "       1.14061399, 1.69552646, 2.1686335 , 2.73891719, 2.78761364])"
            ]
          },
          "metadata": {},
          "execution_count": 91
        }
      ]
    },
    {
      "cell_type": "code",
      "source": [
        "\n",
        "c = 2.5*scipy.stats.gamma.rvs(1, scale = 2, size=(10),random_state = 9)\n",
        "c.sort()\n",
        "c"
      ],
      "metadata": {
        "colab": {
          "base_uri": "https://localhost:8080/"
        },
        "id": "SsLFcdPLtWhG",
        "outputId": "25a7d7c4-10f3-4bd2-da68-af341950c3e4"
      },
      "execution_count": 92,
      "outputs": [
        {
          "output_type": "execute_result",
          "data": {
            "text/plain": [
              "array([0.0521417 , 0.43902019, 0.71836771, 0.76640329, 1.23307606,\n",
              "       1.42576748, 2.11940808, 2.71079188, 3.42364648, 3.48451705])"
            ]
          },
          "metadata": {},
          "execution_count": 92
        }
      ]
    },
    {
      "cell_type": "code",
      "source": [
        "d = 3*scipy.stats.gamma.rvs(1, scale = 2, size=(10),random_state = 9)\n",
        "d.sort()\n",
        "d"
      ],
      "metadata": {
        "colab": {
          "base_uri": "https://localhost:8080/"
        },
        "id": "PdutfvijtNO8",
        "outputId": "1627ffce-c17d-43b0-f461-58f02abbe493"
      },
      "execution_count": 93,
      "outputs": [
        {
          "output_type": "execute_result",
          "data": {
            "text/plain": [
              "array([0.06257004, 0.52682423, 0.86204125, 0.91968395, 1.47969128,\n",
              "       1.71092098, 2.54328969, 3.25295025, 4.10837578, 4.18142046])"
            ]
          },
          "metadata": {},
          "execution_count": 93
        }
      ]
    },
    {
      "cell_type": "code",
      "source": [
        "e = 3.5*scipy.stats.gamma.rvs(1, scale = 2, size=(10),random_state = 9)\n",
        "e.sort()\n",
        "e"
      ],
      "metadata": {
        "colab": {
          "base_uri": "https://localhost:8080/"
        },
        "id": "D2TfvAphtNMn",
        "outputId": "cc091f52-cc65-4180-b1f9-86389f1de97b"
      },
      "execution_count": 94,
      "outputs": [
        {
          "output_type": "execute_result",
          "data": {
            "text/plain": [
              "array([0.07299838, 0.61462826, 1.00571479, 1.07296461, 1.72630649,\n",
              "       1.99607448, 2.96717131, 3.79510863, 4.79310508, 4.87832387])"
            ]
          },
          "metadata": {},
          "execution_count": 94
        }
      ]
    },
    {
      "cell_type": "code",
      "source": [
        "f = 4*scipy.stats.gamma.rvs(1, scale = 2, size=(10),random_state = 9)\n",
        "f.sort()\n",
        "f"
      ],
      "metadata": {
        "colab": {
          "base_uri": "https://localhost:8080/"
        },
        "id": "WlbWS-od1e5F",
        "outputId": "5f52c0c3-6c77-43c3-eeba-cd17d30a5de6"
      },
      "execution_count": 95,
      "outputs": [
        {
          "output_type": "execute_result",
          "data": {
            "text/plain": [
              "array([0.08342672, 0.7024323 , 1.14938833, 1.22624526, 1.9729217 ,\n",
              "       2.28122797, 3.39105293, 4.337267  , 5.47783437, 5.57522729])"
            ]
          },
          "metadata": {},
          "execution_count": 95
        }
      ]
    },
    {
      "cell_type": "code",
      "source": [
        "g = 4.5*scipy.stats.gamma.rvs(1, scale = 2, size=(10),random_state = 9)\n",
        "g.sort()\n",
        "g"
      ],
      "metadata": {
        "colab": {
          "base_uri": "https://localhost:8080/"
        },
        "id": "M0kL2Qy91gXO",
        "outputId": "bd341156-6c97-42f6-b184-ae948488693d"
      },
      "execution_count": 96,
      "outputs": [
        {
          "output_type": "execute_result",
          "data": {
            "text/plain": [
              "array([0.09385506, 0.79023634, 1.29306187, 1.37952592, 2.21953691,\n",
              "       2.56638147, 3.81493454, 4.87942538, 6.16256367, 6.2721307 ])"
            ]
          },
          "metadata": {},
          "execution_count": 96
        }
      ]
    },
    {
      "cell_type": "code",
      "source": [
        "h = 5*scipy.stats.gamma.rvs(1, scale = 2, size=(10),random_state = 9)\n",
        "h.sort()\n",
        "h"
      ],
      "metadata": {
        "colab": {
          "base_uri": "https://localhost:8080/"
        },
        "id": "Nns4nTTr1g3v",
        "outputId": "e9f655fa-2ffc-43a8-cad0-046bf346b89e"
      },
      "execution_count": 97,
      "outputs": [
        {
          "output_type": "execute_result",
          "data": {
            "text/plain": [
              "array([0.10428341, 0.87804038, 1.43673541, 1.53280658, 2.46615213,\n",
              "       2.85153497, 4.23881616, 5.42158375, 6.84729297, 6.96903411])"
            ]
          },
          "metadata": {},
          "execution_count": 97
        }
      ]
    },
    {
      "cell_type": "code",
      "source": [
        "j = 5.5*scipy.stats.gamma.rvs(1, scale = 2, size=(10),random_state = 9)\n",
        "j.sort()\n",
        "j"
      ],
      "metadata": {
        "colab": {
          "base_uri": "https://localhost:8080/"
        },
        "id": "LvpNNHiT1hb_",
        "outputId": "8e45dc73-c20f-44a0-afca-9d6678d9844c"
      },
      "execution_count": 98,
      "outputs": [
        {
          "output_type": "execute_result",
          "data": {
            "text/plain": [
              "array([0.11471175, 0.96584442, 1.58040895, 1.68608724, 2.71276734,\n",
              "       3.13668846, 4.66269777, 5.96374213, 7.53202227, 7.66593752])"
            ]
          },
          "metadata": {},
          "execution_count": 98
        }
      ]
    },
    {
      "cell_type": "code",
      "source": [
        "k = 6*scipy.stats.gamma.rvs(1, scale = 2, size=(10),random_state = 9)\n",
        "k.sort()\n",
        "k"
      ],
      "metadata": {
        "colab": {
          "base_uri": "https://localhost:8080/"
        },
        "id": "AGkqotPE1h_R",
        "outputId": "f3842a3d-8fb9-4b5e-96c4-0e1d100c9c25"
      },
      "execution_count": 99,
      "outputs": [
        {
          "output_type": "execute_result",
          "data": {
            "text/plain": [
              "array([0.12514009, 1.05364845, 1.72408249, 1.8393679 , 2.95938255,\n",
              "       3.42184196, 5.08657939, 6.5059005 , 8.21675156, 8.36284093])"
            ]
          },
          "metadata": {},
          "execution_count": 99
        }
      ]
    },
    {
      "cell_type": "code",
      "source": [
        "import pandas as pd\n",
        "import numpy as np"
      ],
      "metadata": {
        "id": "mU5YMkCStNKI"
      },
      "execution_count": 100,
      "outputs": []
    },
    {
      "cell_type": "code",
      "source": [
        "index= ([\"500\" ,\"1000\",\"1500\",\"2000\",\"2500\",\"3000\",\"3500\",\"4000\",\"4500\",\"5000\"])"
      ],
      "metadata": {
        "id": "ACqtgDgTtufV"
      },
      "execution_count": 101,
      "outputs": []
    },
    {
      "cell_type": "code",
      "source": [
        "ab = (a,b,c,d,e,f,g,h,j,k)"
      ],
      "metadata": {
        "id": "y4r7z3jXtrJL"
      },
      "execution_count": 102,
      "outputs": []
    },
    {
      "cell_type": "code",
      "source": [
        "df = pd.DataFrame(ab,index=([\"500\" ,\"1000\",\"1500\",\"2000\",\"2500\",\"3000\",\"3500\",\"4000\",\"4500\",\"5000\"]))"
      ],
      "metadata": {
        "id": "zVJ2L7b_2X26"
      },
      "execution_count": 103,
      "outputs": []
    },
    {
      "cell_type": "markdown",
      "source": [],
      "metadata": {
        "id": "th02W4_MunOB"
      }
    },
    {
      "cell_type": "code",
      "source": [
        "df"
      ],
      "metadata": {
        "colab": {
          "base_uri": "https://localhost:8080/",
          "height": 427
        },
        "id": "OLvweiXE2eE3",
        "outputId": "85858b2b-d82c-4bf3-a2a4-5ed53df54145"
      },
      "execution_count": 104,
      "outputs": [
        {
          "output_type": "execute_result",
          "data": {
            "text/plain": [
              "             0         1         2         3         4         5         6  \\\n",
              "500   0.020857  0.175608  0.287347  0.306561  0.493230  0.570307  0.847763   \n",
              "1000  0.041713  0.351216  0.574694  0.613123  0.986461  1.140614  1.695526   \n",
              "1500  0.052142  0.439020  0.718368  0.766403  1.233076  1.425767  2.119408   \n",
              "2000  0.062570  0.526824  0.862041  0.919684  1.479691  1.710921  2.543290   \n",
              "2500  0.072998  0.614628  1.005715  1.072965  1.726306  1.996074  2.967171   \n",
              "3000  0.083427  0.702432  1.149388  1.226245  1.972922  2.281228  3.391053   \n",
              "3500  0.093855  0.790236  1.293062  1.379526  2.219537  2.566381  3.814935   \n",
              "4000  0.104283  0.878040  1.436735  1.532807  2.466152  2.851535  4.238816   \n",
              "4500  0.114712  0.965844  1.580409  1.686087  2.712767  3.136688  4.662698   \n",
              "5000  0.125140  1.053648  1.724082  1.839368  2.959383  3.421842  5.086579   \n",
              "\n",
              "             7         8         9  \n",
              "500   1.084317  1.369459  1.393807  \n",
              "1000  2.168634  2.738917  2.787614  \n",
              "1500  2.710792  3.423646  3.484517  \n",
              "2000  3.252950  4.108376  4.181420  \n",
              "2500  3.795109  4.793105  4.878324  \n",
              "3000  4.337267  5.477834  5.575227  \n",
              "3500  4.879425  6.162564  6.272131  \n",
              "4000  5.421584  6.847293  6.969034  \n",
              "4500  5.963742  7.532022  7.665938  \n",
              "5000  6.505901  8.216752  8.362841  "
            ],
            "text/html": [
              "\n",
              "  <div id=\"df-3b128d0e-4690-4baf-829c-fb7984870b28\">\n",
              "    <div class=\"colab-df-container\">\n",
              "      <div>\n",
              "<style scoped>\n",
              "    .dataframe tbody tr th:only-of-type {\n",
              "        vertical-align: middle;\n",
              "    }\n",
              "\n",
              "    .dataframe tbody tr th {\n",
              "        vertical-align: top;\n",
              "    }\n",
              "\n",
              "    .dataframe thead th {\n",
              "        text-align: right;\n",
              "    }\n",
              "</style>\n",
              "<table border=\"1\" class=\"dataframe\">\n",
              "  <thead>\n",
              "    <tr style=\"text-align: right;\">\n",
              "      <th></th>\n",
              "      <th>0</th>\n",
              "      <th>1</th>\n",
              "      <th>2</th>\n",
              "      <th>3</th>\n",
              "      <th>4</th>\n",
              "      <th>5</th>\n",
              "      <th>6</th>\n",
              "      <th>7</th>\n",
              "      <th>8</th>\n",
              "      <th>9</th>\n",
              "    </tr>\n",
              "  </thead>\n",
              "  <tbody>\n",
              "    <tr>\n",
              "      <th>500</th>\n",
              "      <td>0.020857</td>\n",
              "      <td>0.175608</td>\n",
              "      <td>0.287347</td>\n",
              "      <td>0.306561</td>\n",
              "      <td>0.493230</td>\n",
              "      <td>0.570307</td>\n",
              "      <td>0.847763</td>\n",
              "      <td>1.084317</td>\n",
              "      <td>1.369459</td>\n",
              "      <td>1.393807</td>\n",
              "    </tr>\n",
              "    <tr>\n",
              "      <th>1000</th>\n",
              "      <td>0.041713</td>\n",
              "      <td>0.351216</td>\n",
              "      <td>0.574694</td>\n",
              "      <td>0.613123</td>\n",
              "      <td>0.986461</td>\n",
              "      <td>1.140614</td>\n",
              "      <td>1.695526</td>\n",
              "      <td>2.168634</td>\n",
              "      <td>2.738917</td>\n",
              "      <td>2.787614</td>\n",
              "    </tr>\n",
              "    <tr>\n",
              "      <th>1500</th>\n",
              "      <td>0.052142</td>\n",
              "      <td>0.439020</td>\n",
              "      <td>0.718368</td>\n",
              "      <td>0.766403</td>\n",
              "      <td>1.233076</td>\n",
              "      <td>1.425767</td>\n",
              "      <td>2.119408</td>\n",
              "      <td>2.710792</td>\n",
              "      <td>3.423646</td>\n",
              "      <td>3.484517</td>\n",
              "    </tr>\n",
              "    <tr>\n",
              "      <th>2000</th>\n",
              "      <td>0.062570</td>\n",
              "      <td>0.526824</td>\n",
              "      <td>0.862041</td>\n",
              "      <td>0.919684</td>\n",
              "      <td>1.479691</td>\n",
              "      <td>1.710921</td>\n",
              "      <td>2.543290</td>\n",
              "      <td>3.252950</td>\n",
              "      <td>4.108376</td>\n",
              "      <td>4.181420</td>\n",
              "    </tr>\n",
              "    <tr>\n",
              "      <th>2500</th>\n",
              "      <td>0.072998</td>\n",
              "      <td>0.614628</td>\n",
              "      <td>1.005715</td>\n",
              "      <td>1.072965</td>\n",
              "      <td>1.726306</td>\n",
              "      <td>1.996074</td>\n",
              "      <td>2.967171</td>\n",
              "      <td>3.795109</td>\n",
              "      <td>4.793105</td>\n",
              "      <td>4.878324</td>\n",
              "    </tr>\n",
              "    <tr>\n",
              "      <th>3000</th>\n",
              "      <td>0.083427</td>\n",
              "      <td>0.702432</td>\n",
              "      <td>1.149388</td>\n",
              "      <td>1.226245</td>\n",
              "      <td>1.972922</td>\n",
              "      <td>2.281228</td>\n",
              "      <td>3.391053</td>\n",
              "      <td>4.337267</td>\n",
              "      <td>5.477834</td>\n",
              "      <td>5.575227</td>\n",
              "    </tr>\n",
              "    <tr>\n",
              "      <th>3500</th>\n",
              "      <td>0.093855</td>\n",
              "      <td>0.790236</td>\n",
              "      <td>1.293062</td>\n",
              "      <td>1.379526</td>\n",
              "      <td>2.219537</td>\n",
              "      <td>2.566381</td>\n",
              "      <td>3.814935</td>\n",
              "      <td>4.879425</td>\n",
              "      <td>6.162564</td>\n",
              "      <td>6.272131</td>\n",
              "    </tr>\n",
              "    <tr>\n",
              "      <th>4000</th>\n",
              "      <td>0.104283</td>\n",
              "      <td>0.878040</td>\n",
              "      <td>1.436735</td>\n",
              "      <td>1.532807</td>\n",
              "      <td>2.466152</td>\n",
              "      <td>2.851535</td>\n",
              "      <td>4.238816</td>\n",
              "      <td>5.421584</td>\n",
              "      <td>6.847293</td>\n",
              "      <td>6.969034</td>\n",
              "    </tr>\n",
              "    <tr>\n",
              "      <th>4500</th>\n",
              "      <td>0.114712</td>\n",
              "      <td>0.965844</td>\n",
              "      <td>1.580409</td>\n",
              "      <td>1.686087</td>\n",
              "      <td>2.712767</td>\n",
              "      <td>3.136688</td>\n",
              "      <td>4.662698</td>\n",
              "      <td>5.963742</td>\n",
              "      <td>7.532022</td>\n",
              "      <td>7.665938</td>\n",
              "    </tr>\n",
              "    <tr>\n",
              "      <th>5000</th>\n",
              "      <td>0.125140</td>\n",
              "      <td>1.053648</td>\n",
              "      <td>1.724082</td>\n",
              "      <td>1.839368</td>\n",
              "      <td>2.959383</td>\n",
              "      <td>3.421842</td>\n",
              "      <td>5.086579</td>\n",
              "      <td>6.505901</td>\n",
              "      <td>8.216752</td>\n",
              "      <td>8.362841</td>\n",
              "    </tr>\n",
              "  </tbody>\n",
              "</table>\n",
              "</div>\n",
              "      <button class=\"colab-df-convert\" onclick=\"convertToInteractive('df-3b128d0e-4690-4baf-829c-fb7984870b28')\"\n",
              "              title=\"Convert this dataframe to an interactive table.\"\n",
              "              style=\"display:none;\">\n",
              "        \n",
              "  <svg xmlns=\"http://www.w3.org/2000/svg\" height=\"24px\"viewBox=\"0 0 24 24\"\n",
              "       width=\"24px\">\n",
              "    <path d=\"M0 0h24v24H0V0z\" fill=\"none\"/>\n",
              "    <path d=\"M18.56 5.44l.94 2.06.94-2.06 2.06-.94-2.06-.94-.94-2.06-.94 2.06-2.06.94zm-11 1L8.5 8.5l.94-2.06 2.06-.94-2.06-.94L8.5 2.5l-.94 2.06-2.06.94zm10 10l.94 2.06.94-2.06 2.06-.94-2.06-.94-.94-2.06-.94 2.06-2.06.94z\"/><path d=\"M17.41 7.96l-1.37-1.37c-.4-.4-.92-.59-1.43-.59-.52 0-1.04.2-1.43.59L10.3 9.45l-7.72 7.72c-.78.78-.78 2.05 0 2.83L4 21.41c.39.39.9.59 1.41.59.51 0 1.02-.2 1.41-.59l7.78-7.78 2.81-2.81c.8-.78.8-2.07 0-2.86zM5.41 20L4 18.59l7.72-7.72 1.47 1.35L5.41 20z\"/>\n",
              "  </svg>\n",
              "      </button>\n",
              "      \n",
              "  <style>\n",
              "    .colab-df-container {\n",
              "      display:flex;\n",
              "      flex-wrap:wrap;\n",
              "      gap: 12px;\n",
              "    }\n",
              "\n",
              "    .colab-df-convert {\n",
              "      background-color: #E8F0FE;\n",
              "      border: none;\n",
              "      border-radius: 50%;\n",
              "      cursor: pointer;\n",
              "      display: none;\n",
              "      fill: #1967D2;\n",
              "      height: 32px;\n",
              "      padding: 0 0 0 0;\n",
              "      width: 32px;\n",
              "    }\n",
              "\n",
              "    .colab-df-convert:hover {\n",
              "      background-color: #E2EBFA;\n",
              "      box-shadow: 0px 1px 2px rgba(60, 64, 67, 0.3), 0px 1px 3px 1px rgba(60, 64, 67, 0.15);\n",
              "      fill: #174EA6;\n",
              "    }\n",
              "\n",
              "    [theme=dark] .colab-df-convert {\n",
              "      background-color: #3B4455;\n",
              "      fill: #D2E3FC;\n",
              "    }\n",
              "\n",
              "    [theme=dark] .colab-df-convert:hover {\n",
              "      background-color: #434B5C;\n",
              "      box-shadow: 0px 1px 3px 1px rgba(0, 0, 0, 0.15);\n",
              "      filter: drop-shadow(0px 1px 2px rgba(0, 0, 0, 0.3));\n",
              "      fill: #FFFFFF;\n",
              "    }\n",
              "  </style>\n",
              "\n",
              "      <script>\n",
              "        const buttonEl =\n",
              "          document.querySelector('#df-3b128d0e-4690-4baf-829c-fb7984870b28 button.colab-df-convert');\n",
              "        buttonEl.style.display =\n",
              "          google.colab.kernel.accessAllowed ? 'block' : 'none';\n",
              "\n",
              "        async function convertToInteractive(key) {\n",
              "          const element = document.querySelector('#df-3b128d0e-4690-4baf-829c-fb7984870b28');\n",
              "          const dataTable =\n",
              "            await google.colab.kernel.invokeFunction('convertToInteractive',\n",
              "                                                     [key], {});\n",
              "          if (!dataTable) return;\n",
              "\n",
              "          const docLinkHtml = 'Like what you see? Visit the ' +\n",
              "            '<a target=\"_blank\" href=https://colab.research.google.com/notebooks/data_table.ipynb>data table notebook</a>'\n",
              "            + ' to learn more about interactive tables.';\n",
              "          element.innerHTML = '';\n",
              "          dataTable['output_type'] = 'display_data';\n",
              "          await google.colab.output.renderOutput(dataTable, element);\n",
              "          const docLink = document.createElement('div');\n",
              "          docLink.innerHTML = docLinkHtml;\n",
              "          element.appendChild(docLink);\n",
              "        }\n",
              "      </script>\n",
              "    </div>\n",
              "  </div>\n",
              "  "
            ]
          },
          "metadata": {},
          "execution_count": 104
        }
      ]
    },
    {
      "cell_type": "code",
      "source": [
        "import matplotlib.pyplot as plt\n",
        "import numpy as np\n",
        "from scipy.stats import gamma"
      ],
      "metadata": {
        "id": "aYxkEW6sSMIz"
      },
      "execution_count": 105,
      "outputs": []
    },
    {
      "cell_type": "code",
      "source": [
        "a1 = df.iloc[8,:]"
      ],
      "metadata": {
        "id": "Fbmdph2hTBBy"
      },
      "execution_count": 106,
      "outputs": []
    },
    {
      "cell_type": "code",
      "source": [
        "from numpy.lib.histograms import histogram\n",
        "histogram(df.iloc[0,:])\n"
      ],
      "metadata": {
        "colab": {
          "base_uri": "https://localhost:8080/"
        },
        "id": "1cljKt56SUTL",
        "outputId": "811852b8-ac07-4228-9ea4-19af1e393460"
      },
      "execution_count": 107,
      "outputs": [
        {
          "output_type": "execute_result",
          "data": {
            "text/plain": [
              "(array([1, 2, 1, 1, 1, 0, 1, 1, 0, 2]),\n",
              " array([0.02085668, 0.1581517 , 0.29544671, 0.43274172, 0.57003674,\n",
              "        0.70733175, 0.84462677, 0.98192178, 1.11921679, 1.25651181,\n",
              "        1.39380682]))"
            ]
          },
          "metadata": {},
          "execution_count": 107
        }
      ]
    },
    {
      "cell_type": "code",
      "source": [
        "_ = plt.hist(a1 , bins='auto')\n",
        "plt.show()"
      ],
      "metadata": {
        "colab": {
          "base_uri": "https://localhost:8080/",
          "height": 265
        },
        "id": "7Y40MNAxS-SW",
        "outputId": "7da9c5ac-b4d0-4999-ece4-f33c25d17298"
      },
      "execution_count": 108,
      "outputs": [
        {
          "output_type": "display_data",
          "data": {
            "text/plain": [
              "<Figure size 432x288 with 1 Axes>"
            ],
            "image/png": "[encoded data removed]"
          },
          "metadata": {
            "needs_background": "light"
          }
        }
      ]
    },
    {
      "cell_type": "code",
      "source": [
        "fit_alpha, fit_loc, fit_beta = scipy.stats.gamma.fit(df.iloc[0,:])\n",
        "print(fit_alpha, fit_loc, fit_beta)"
      ],
      "metadata": {
        "colab": {
          "base_uri": "https://localhost:8080/"
        },
        "id": "IZ6KM7yzP8R2",
        "outputId": "fd58c8b1-0262-423a-92a1-fab90523b9e5"
      },
      "execution_count": 109,
      "outputs": [
        {
          "output_type": "stream",
          "name": "stdout",
          "text": [
            "0.7865886339405062 0.020856681012275086 0.7458482292905289\n"
          ]
        }
      ]
    },
    {
      "cell_type": "code",
      "source": [
        "data_1 = np.array((1.19,2.01,2.299,3.96,4.47,5.29,6.03,6.91))"
      ],
      "metadata": {
        "id": "oIerC04ntG8j"
      },
      "execution_count": 110,
      "outputs": []
    },
    {
      "cell_type": "code",
      "source": [
        "data_1"
      ],
      "metadata": {
        "colab": {
          "base_uri": "https://localhost:8080/"
        },
        "id": "ePO3cpL_v5dr",
        "outputId": "41a2543f-2548-450e-9994-109aadffe7f0"
      },
      "execution_count": 111,
      "outputs": [
        {
          "output_type": "execute_result",
          "data": {
            "text/plain": [
              "array([1.19 , 2.01 , 2.299, 3.96 , 4.47 , 5.29 , 6.03 , 6.91 ])"
            ]
          },
          "metadata": {},
          "execution_count": 111
        }
      ]
    },
    {
      "cell_type": "code",
      "source": [
        "data_2 = np.array(df.iloc[:-2,8])"
      ],
      "metadata": {
        "id": "vwBs9SmhtG4p"
      },
      "execution_count": 112,
      "outputs": []
    },
    {
      "cell_type": "code",
      "source": [
        "data_2"
      ],
      "metadata": {
        "colab": {
          "base_uri": "https://localhost:8080/"
        },
        "id": "jJkuQx70tG2G",
        "outputId": "5c1eb8b0-52ef-48d1-c9c3-a9d6abae99db"
      },
      "execution_count": 113,
      "outputs": [
        {
          "output_type": "execute_result",
          "data": {
            "text/plain": [
              "array([1.36945859, 2.73891719, 3.42364648, 4.10837578, 4.79310508,\n",
              "       5.47783437, 6.16256367, 6.84729297])"
            ]
          },
          "metadata": {},
          "execution_count": 113
        }
      ]
    },
    {
      "cell_type": "code",
      "source": [
        "data_ = (data_1,data_2)"
      ],
      "metadata": {
        "id": "zKvfjtIHyOqE"
      },
      "execution_count": 114,
      "outputs": []
    },
    {
      "cell_type": "code",
      "source": [
        "data_de = pd.DataFrame(data_ ,columns= [\"500\" ,\"1000\",\"1500\",\"2000\",\"2500\",\"3000\",\"3500\",\"4000\"],index = ['data_1','data_2'])"
      ],
      "metadata": {
        "id": "U598Dh46yZwj"
      },
      "execution_count": 115,
      "outputs": []
    },
    {
      "cell_type": "code",
      "source": [
        "data_de "
      ],
      "metadata": {
        "colab": {
          "base_uri": "https://localhost:8080/",
          "height": 112
        },
        "id": "GZqoyGM5yqvW",
        "outputId": "e5ee67fd-2fcc-466d-99d9-2e471c6335ce"
      },
      "execution_count": 116,
      "outputs": [
        {
          "output_type": "execute_result",
          "data": {
            "text/plain": [
              "             500      1000      1500      2000      2500      3000      3500  \\\n",
              "data_1  1.190000  2.010000  2.299000  3.960000  4.470000  5.290000  6.030000   \n",
              "data_2  1.369459  2.738917  3.423646  4.108376  4.793105  5.477834  6.162564   \n",
              "\n",
              "            4000  \n",
              "data_1  6.910000  \n",
              "data_2  6.847293  "
            ],
            "text/html": [
              "\n",
              "  <div id=\"df-33fc4d89-31b0-4da4-91ab-6d9bf60feb2c\">\n",
              "    <div class=\"colab-df-container\">\n",
              "      <div>\n",
              "<style scoped>\n",
              "    .dataframe tbody tr th:only-of-type {\n",
              "        vertical-align: middle;\n",
              "    }\n",
              "\n",
              "    .dataframe tbody tr th {\n",
              "        vertical-align: top;\n",
              "    }\n",
              "\n",
              "    .dataframe thead th {\n",
              "        text-align: right;\n",
              "    }\n",
              "</style>\n",
              "<table border=\"1\" class=\"dataframe\">\n",
              "  <thead>\n",
              "    <tr style=\"text-align: right;\">\n",
              "      <th></th>\n",
              "      <th>500</th>\n",
              "      <th>1000</th>\n",
              "      <th>1500</th>\n",
              "      <th>2000</th>\n",
              "      <th>2500</th>\n",
              "      <th>3000</th>\n",
              "      <th>3500</th>\n",
              "      <th>4000</th>\n",
              "    </tr>\n",
              "  </thead>\n",
              "  <tbody>\n",
              "    <tr>\n",
              "      <th>data_1</th>\n",
              "      <td>1.190000</td>\n",
              "      <td>2.010000</td>\n",
              "      <td>2.299000</td>\n",
              "      <td>3.960000</td>\n",
              "      <td>4.470000</td>\n",
              "      <td>5.290000</td>\n",
              "      <td>6.030000</td>\n",
              "      <td>6.910000</td>\n",
              "    </tr>\n",
              "    <tr>\n",
              "      <th>data_2</th>\n",
              "      <td>1.369459</td>\n",
              "      <td>2.738917</td>\n",
              "      <td>3.423646</td>\n",
              "      <td>4.108376</td>\n",
              "      <td>4.793105</td>\n",
              "      <td>5.477834</td>\n",
              "      <td>6.162564</td>\n",
              "      <td>6.847293</td>\n",
              "    </tr>\n",
              "  </tbody>\n",
              "</table>\n",
              "</div>\n",
              "      <button class=\"colab-df-convert\" onclick=\"convertToInteractive('df-33fc4d89-31b0-4da4-91ab-6d9bf60feb2c')\"\n",
              "              title=\"Convert this dataframe to an interactive table.\"\n",
              "              style=\"display:none;\">\n",
              "        \n",
              "  <svg xmlns=\"http://www.w3.org/2000/svg\" height=\"24px\"viewBox=\"0 0 24 24\"\n",
              "       width=\"24px\">\n",
              "    <path d=\"M0 0h24v24H0V0z\" fill=\"none\"/>\n",
              "    <path d=\"M18.56 5.44l.94 2.06.94-2.06 2.06-.94-2.06-.94-.94-2.06-.94 2.06-2.06.94zm-11 1L8.5 8.5l.94-2.06 2.06-.94-2.06-.94L8.5 2.5l-.94 2.06-2.06.94zm10 10l.94 2.06.94-2.06 2.06-.94-2.06-.94-.94-2.06-.94 2.06-2.06.94z\"/><path d=\"M17.41 7.96l-1.37-1.37c-.4-.4-.92-.59-1.43-.59-.52 0-1.04.2-1.43.59L10.3 9.45l-7.72 7.72c-.78.78-.78 2.05 0 2.83L4 21.41c.39.39.9.59 1.41.59.51 0 1.02-.2 1.41-.59l7.78-7.78 2.81-2.81c.8-.78.8-2.07 0-2.86zM5.41 20L4 18.59l7.72-7.72 1.47 1.35L5.41 20z\"/>\n",
              "  </svg>\n",
              "      </button>\n",
              "      \n",
              "  <style>\n",
              "    .colab-df-container {\n",
              "      display:flex;\n",
              "      flex-wrap:wrap;\n",
              "      gap: 12px;\n",
              "    }\n",
              "\n",
              "    .colab-df-convert {\n",
              "      background-color: #E8F0FE;\n",
              "      border: none;\n",
              "      border-radius: 50%;\n",
              "      cursor: pointer;\n",
              "      display: none;\n",
              "      fill: #1967D2;\n",
              "      height: 32px;\n",
              "      padding: 0 0 0 0;\n",
              "      width: 32px;\n",
              "    }\n",
              "\n",
              "    .colab-df-convert:hover {\n",
              "      background-color: #E2EBFA;\n",
              "      box-shadow: 0px 1px 2px rgba(60, 64, 67, 0.3), 0px 1px 3px 1px rgba(60, 64, 67, 0.15);\n",
              "      fill: #174EA6;\n",
              "    }\n",
              "\n",
              "    [theme=dark] .colab-df-convert {\n",
              "      background-color: #3B4455;\n",
              "      fill: #D2E3FC;\n",
              "    }\n",
              "\n",
              "    [theme=dark] .colab-df-convert:hover {\n",
              "      background-color: #434B5C;\n",
              "      box-shadow: 0px 1px 3px 1px rgba(0, 0, 0, 0.15);\n",
              "      filter: drop-shadow(0px 1px 2px rgba(0, 0, 0, 0.3));\n",
              "      fill: #FFFFFF;\n",
              "    }\n",
              "  </style>\n",
              "\n",
              "      <script>\n",
              "        const buttonEl =\n",
              "          document.querySelector('#df-33fc4d89-31b0-4da4-91ab-6d9bf60feb2c button.colab-df-convert');\n",
              "        buttonEl.style.display =\n",
              "          google.colab.kernel.accessAllowed ? 'block' : 'none';\n",
              "\n",
              "        async function convertToInteractive(key) {\n",
              "          const element = document.querySelector('#df-33fc4d89-31b0-4da4-91ab-6d9bf60feb2c');\n",
              "          const dataTable =\n",
              "            await google.colab.kernel.invokeFunction('convertToInteractive',\n",
              "                                                     [key], {});\n",
              "          if (!dataTable) return;\n",
              "\n",
              "          const docLinkHtml = 'Like what you see? Visit the ' +\n",
              "            '<a target=\"_blank\" href=https://colab.research.google.com/notebooks/data_table.ipynb>data table notebook</a>'\n",
              "            + ' to learn more about interactive tables.';\n",
              "          element.innerHTML = '';\n",
              "          dataTable['output_type'] = 'display_data';\n",
              "          await google.colab.output.renderOutput(dataTable, element);\n",
              "          const docLink = document.createElement('div');\n",
              "          docLink.innerHTML = docLinkHtml;\n",
              "          element.appendChild(docLink);\n",
              "        }\n",
              "      </script>\n",
              "    </div>\n",
              "  </div>\n",
              "  "
            ]
          },
          "metadata": {},
          "execution_count": 116
        }
      ]
    },
    {
      "cell_type": "code",
      "source": [
        "import matplotlib.pyplot as plt\n",
        "import pandas as pd"
      ],
      "metadata": {
        "id": "TncpnSaVy6Wq"
      },
      "execution_count": 117,
      "outputs": []
    },
    {
      "cell_type": "code",
      "source": [
        "column = ([\"500\" ,\"1000\",\"1500\",\"2000\",\"2500\",\"3000\",\"3500\",\"4000\"])"
      ],
      "metadata": {
        "id": "e_OvWZaTzwlk"
      },
      "execution_count": 118,
      "outputs": []
    },
    {
      "cell_type": "code",
      "source": [
        "data_ = {'data_1':[1.19 , 2.01 , 2.299, 3.96 , 4.47 , 5.29 , 6.03 , 6.91 ],'data_2' : [1.36945859, 2.73891719, 3.42364648, 4.10837578, 4.79310508,\n",
        "       5.47783437, 6.16256367, 6.84729297],'no': ['500' ,'1000','1500','2000','2500','3000','3500','4000']}"
      ],
      "metadata": {
        "id": "CJx7gkkGu_Yn"
      },
      "execution_count": 119,
      "outputs": []
    },
    {
      "cell_type": "code",
      "source": [
        "\n",
        "data_de = pd.DataFrame(data_ ,columns = ['data_1','data_2',\"no\"])"
      ],
      "metadata": {
        "id": "-3g-Ai9WwUE6"
      },
      "execution_count": 120,
      "outputs": []
    },
    {
      "cell_type": "code",
      "source": [
        "data_de "
      ],
      "metadata": {
        "colab": {
          "base_uri": "https://localhost:8080/",
          "height": 300
        },
        "id": "tO--jpWLw8Wc",
        "outputId": "d0f189f0-e0b5-4f4e-bbbc-1358e789f4cc"
      },
      "execution_count": 121,
      "outputs": [
        {
          "output_type": "execute_result",
          "data": {
            "text/plain": [
              "   data_1    data_2    no\n",
              "0   1.190  1.369459   500\n",
              "1   2.010  2.738917  1000\n",
              "2   2.299  3.423646  1500\n",
              "3   3.960  4.108376  2000\n",
              "4   4.470  4.793105  2500\n",
              "5   5.290  5.477834  3000\n",
              "6   6.030  6.162564  3500\n",
              "7   6.910  6.847293  4000"
            ],
            "text/html": [
              "\n",
              "  <div id=\"df-3fa0e3af-f060-4d1f-a215-d53585599ded\">\n",
              "    <div class=\"colab-df-container\">\n",
              "      <div>\n",
              "<style scoped>\n",
              "    .dataframe tbody tr th:only-of-type {\n",
              "        vertical-align: middle;\n",
              "    }\n",
              "\n",
              "    .dataframe tbody tr th {\n",
              "        vertical-align: top;\n",
              "    }\n",
              "\n",
              "    .dataframe thead th {\n",
              "        text-align: right;\n",
              "    }\n",
              "</style>\n",
              "<table border=\"1\" class=\"dataframe\">\n",
              "  <thead>\n",
              "    <tr style=\"text-align: right;\">\n",
              "      <th></th>\n",
              "      <th>data_1</th>\n",
              "      <th>data_2</th>\n",
              "      <th>no</th>\n",
              "    </tr>\n",
              "  </thead>\n",
              "  <tbody>\n",
              "    <tr>\n",
              "      <th>0</th>\n",
              "      <td>1.190</td>\n",
              "      <td>1.369459</td>\n",
              "      <td>500</td>\n",
              "    </tr>\n",
              "    <tr>\n",
              "      <th>1</th>\n",
              "      <td>2.010</td>\n",
              "      <td>2.738917</td>\n",
              "      <td>1000</td>\n",
              "    </tr>\n",
              "    <tr>\n",
              "      <th>2</th>\n",
              "      <td>2.299</td>\n",
              "      <td>3.423646</td>\n",
              "      <td>1500</td>\n",
              "    </tr>\n",
              "    <tr>\n",
              "      <th>3</th>\n",
              "      <td>3.960</td>\n",
              "      <td>4.108376</td>\n",
              "      <td>2000</td>\n",
              "    </tr>\n",
              "    <tr>\n",
              "      <th>4</th>\n",
              "      <td>4.470</td>\n",
              "      <td>4.793105</td>\n",
              "      <td>2500</td>\n",
              "    </tr>\n",
              "    <tr>\n",
              "      <th>5</th>\n",
              "      <td>5.290</td>\n",
              "      <td>5.477834</td>\n",
              "      <td>3000</td>\n",
              "    </tr>\n",
              "    <tr>\n",
              "      <th>6</th>\n",
              "      <td>6.030</td>\n",
              "      <td>6.162564</td>\n",
              "      <td>3500</td>\n",
              "    </tr>\n",
              "    <tr>\n",
              "      <th>7</th>\n",
              "      <td>6.910</td>\n",
              "      <td>6.847293</td>\n",
              "      <td>4000</td>\n",
              "    </tr>\n",
              "  </tbody>\n",
              "</table>\n",
              "</div>\n",
              "      <button class=\"colab-df-convert\" onclick=\"convertToInteractive('df-3fa0e3af-f060-4d1f-a215-d53585599ded')\"\n",
              "              title=\"Convert this dataframe to an interactive table.\"\n",
              "              style=\"display:none;\">\n",
              "        \n",
              "  <svg xmlns=\"http://www.w3.org/2000/svg\" height=\"24px\"viewBox=\"0 0 24 24\"\n",
              "       width=\"24px\">\n",
              "    <path d=\"M0 0h24v24H0V0z\" fill=\"none\"/>\n",
              "    <path d=\"M18.56 5.44l.94 2.06.94-2.06 2.06-.94-2.06-.94-.94-2.06-.94 2.06-2.06.94zm-11 1L8.5 8.5l.94-2.06 2.06-.94-2.06-.94L8.5 2.5l-.94 2.06-2.06.94zm10 10l.94 2.06.94-2.06 2.06-.94-2.06-.94-.94-2.06-.94 2.06-2.06.94z\"/><path d=\"M17.41 7.96l-1.37-1.37c-.4-.4-.92-.59-1.43-.59-.52 0-1.04.2-1.43.59L10.3 9.45l-7.72 7.72c-.78.78-.78 2.05 0 2.83L4 21.41c.39.39.9.59 1.41.59.51 0 1.02-.2 1.41-.59l7.78-7.78 2.81-2.81c.8-.78.8-2.07 0-2.86zM5.41 20L4 18.59l7.72-7.72 1.47 1.35L5.41 20z\"/>\n",
              "  </svg>\n",
              "      </button>\n",
              "      \n",
              "  <style>\n",
              "    .colab-df-container {\n",
              "      display:flex;\n",
              "      flex-wrap:wrap;\n",
              "      gap: 12px;\n",
              "    }\n",
              "\n",
              "    .colab-df-convert {\n",
              "      background-color: #E8F0FE;\n",
              "      border: none;\n",
              "      border-radius: 50%;\n",
              "      cursor: pointer;\n",
              "      display: none;\n",
              "      fill: #1967D2;\n",
              "      height: 32px;\n",
              "      padding: 0 0 0 0;\n",
              "      width: 32px;\n",
              "    }\n",
              "\n",
              "    .colab-df-convert:hover {\n",
              "      background-color: #E2EBFA;\n",
              "      box-shadow: 0px 1px 2px rgba(60, 64, 67, 0.3), 0px 1px 3px 1px rgba(60, 64, 67, 0.15);\n",
              "      fill: #174EA6;\n",
              "    }\n",
              "\n",
              "    [theme=dark] .colab-df-convert {\n",
              "      background-color: #3B4455;\n",
              "      fill: #D2E3FC;\n",
              "    }\n",
              "\n",
              "    [theme=dark] .colab-df-convert:hover {\n",
              "      background-color: #434B5C;\n",
              "      box-shadow: 0px 1px 3px 1px rgba(0, 0, 0, 0.15);\n",
              "      filter: drop-shadow(0px 1px 2px rgba(0, 0, 0, 0.3));\n",
              "      fill: #FFFFFF;\n",
              "    }\n",
              "  </style>\n",
              "\n",
              "      <script>\n",
              "        const buttonEl =\n",
              "          document.querySelector('#df-3fa0e3af-f060-4d1f-a215-d53585599ded button.colab-df-convert');\n",
              "        buttonEl.style.display =\n",
              "          google.colab.kernel.accessAllowed ? 'block' : 'none';\n",
              "\n",
              "        async function convertToInteractive(key) {\n",
              "          const element = document.querySelector('#df-3fa0e3af-f060-4d1f-a215-d53585599ded');\n",
              "          const dataTable =\n",
              "            await google.colab.kernel.invokeFunction('convertToInteractive',\n",
              "                                                     [key], {});\n",
              "          if (!dataTable) return;\n",
              "\n",
              "          const docLinkHtml = 'Like what you see? Visit the ' +\n",
              "            '<a target=\"_blank\" href=https://colab.research.google.com/notebooks/data_table.ipynb>data table notebook</a>'\n",
              "            + ' to learn more about interactive tables.';\n",
              "          element.innerHTML = '';\n",
              "          dataTable['output_type'] = 'display_data';\n",
              "          await google.colab.output.renderOutput(dataTable, element);\n",
              "          const docLink = document.createElement('div');\n",
              "          docLink.innerHTML = docLinkHtml;\n",
              "          element.appendChild(docLink);\n",
              "        }\n",
              "      </script>\n",
              "    </div>\n",
              "  </div>\n",
              "  "
            ]
          },
          "metadata": {},
          "execution_count": 121
        }
      ]
    },
    {
      "cell_type": "code",
      "source": [
        "# importing pandas library\n",
        "import pandas as pd\n",
        "# importing matplotlib library\n",
        "import matplotlib.pyplot as plt\n",
        "\n",
        "print(\"Line graph: \")\n",
        "plt.plot(data_de [\"no\"], data_de[\"data_1\"],label='data_1',color='midnightblue' )\n",
        "plt.plot(data_de [\"no\"], data_de[\"data_2\"],label='data_2',color='darkred',linewidth=1,linestyle = '--')\n",
        "plt.xlabel('Time')\n",
        "plt.ylabel('X(t)')\n",
        "plt.legend();"
      ],
      "metadata": {
        "colab": {
          "base_uri": "https://localhost:8080/",
          "height": 297
        },
        "id": "eaM6Dxb7yIV7",
        "outputId": "6263158f-73c4-430f-ac6c-b4e56599f036"
      },
      "execution_count": 145,
      "outputs": [
        {
          "output_type": "stream",
          "name": "stdout",
          "text": [
            "Line graph: \n"
          ]
        },
        {
          "output_type": "display_data",
          "data": {
            "text/plain": [
              "<Figure size 432x288 with 1 Axes>"
            ],
            "image/png": "[encoded data removed]"
          },
          "metadata": {
            "needs_background": "light"
          }
        }
      ]
    },
    {
      "cell_type": "code",
      "source": [
        "dist = getattr(scipy.stats, 'gamma') "
      ],
      "metadata": {
        "id": "ciYsa41xTrSN"
      },
      "execution_count": 122,
      "outputs": []
    },
    {
      "cell_type": "code",
      "source": [
        "para_ = []\n",
        "for i in range(10):\n",
        "    param = dist.fit(df.iloc[i,:])\n",
        "    arg = param[:-2]\n",
        "    para_.append(arg)\n",
        "\n",
        "P_para = pd.DataFrame(para_)"
      ],
      "metadata": {
        "id": "JDjh5Gf_R3C0"
      },
      "execution_count": 123,
      "outputs": []
    },
    {
      "cell_type": "code",
      "source": [
        "P_para"
      ],
      "metadata": {
        "colab": {
          "base_uri": "https://localhost:8080/",
          "height": 363
        },
        "id": "pk6oXF8xTtlW",
        "outputId": "96a273de-6148-4dc8-9bef-35de013ace34"
      },
      "execution_count": 124,
      "outputs": [
        {
          "output_type": "execute_result",
          "data": {
            "text/plain": [
              "          0\n",
              "0  0.786589\n",
              "1  0.786589\n",
              "2  0.786588\n",
              "3  0.786589\n",
              "4  0.786587\n",
              "5  0.786589\n",
              "6  0.786586\n",
              "7  0.786588\n",
              "8  0.786587\n",
              "9  0.786589"
            ],
            "text/html": [
              "\n",
              "  <div id=\"df-79dff7bb-5a74-474b-a0e0-2681ce0dab27\">\n",
              "    <div class=\"colab-df-container\">\n",
              "      <div>\n",
              "<style scoped>\n",
              "    .dataframe tbody tr th:only-of-type {\n",
              "        vertical-align: middle;\n",
              "    }\n",
              "\n",
              "    .dataframe tbody tr th {\n",
              "        vertical-align: top;\n",
              "    }\n",
              "\n",
              "    .dataframe thead th {\n",
              "        text-align: right;\n",
              "    }\n",
              "</style>\n",
              "<table border=\"1\" class=\"dataframe\">\n",
              "  <thead>\n",
              "    <tr style=\"text-align: right;\">\n",
              "      <th></th>\n",
              "      <th>0</th>\n",
              "    </tr>\n",
              "  </thead>\n",
              "  <tbody>\n",
              "    <tr>\n",
              "      <th>0</th>\n",
              "      <td>0.786589</td>\n",
              "    </tr>\n",
              "    <tr>\n",
              "      <th>1</th>\n",
              "      <td>0.786589</td>\n",
              "    </tr>\n",
              "    <tr>\n",
              "      <th>2</th>\n",
              "      <td>0.786588</td>\n",
              "    </tr>\n",
              "    <tr>\n",
              "      <th>3</th>\n",
              "      <td>0.786589</td>\n",
              "    </tr>\n",
              "    <tr>\n",
              "      <th>4</th>\n",
              "      <td>0.786587</td>\n",
              "    </tr>\n",
              "    <tr>\n",
              "      <th>5</th>\n",
              "      <td>0.786589</td>\n",
              "    </tr>\n",
              "    <tr>\n",
              "      <th>6</th>\n",
              "      <td>0.786586</td>\n",
              "    </tr>\n",
              "    <tr>\n",
              "      <th>7</th>\n",
              "      <td>0.786588</td>\n",
              "    </tr>\n",
              "    <tr>\n",
              "      <th>8</th>\n",
              "      <td>0.786587</td>\n",
              "    </tr>\n",
              "    <tr>\n",
              "      <th>9</th>\n",
              "      <td>0.786589</td>\n",
              "    </tr>\n",
              "  </tbody>\n",
              "</table>\n",
              "</div>\n",
              "      <button class=\"colab-df-convert\" onclick=\"convertToInteractive('df-79dff7bb-5a74-474b-a0e0-2681ce0dab27')\"\n",
              "              title=\"Convert this dataframe to an interactive table.\"\n",
              "              style=\"display:none;\">\n",
              "        \n",
              "  <svg xmlns=\"http://www.w3.org/2000/svg\" height=\"24px\"viewBox=\"0 0 24 24\"\n",
              "       width=\"24px\">\n",
              "    <path d=\"M0 0h24v24H0V0z\" fill=\"none\"/>\n",
              "    <path d=\"M18.56 5.44l.94 2.06.94-2.06 2.06-.94-2.06-.94-.94-2.06-.94 2.06-2.06.94zm-11 1L8.5 8.5l.94-2.06 2.06-.94-2.06-.94L8.5 2.5l-.94 2.06-2.06.94zm10 10l.94 2.06.94-2.06 2.06-.94-2.06-.94-.94-2.06-.94 2.06-2.06.94z\"/><path d=\"M17.41 7.96l-1.37-1.37c-.4-.4-.92-.59-1.43-.59-.52 0-1.04.2-1.43.59L10.3 9.45l-7.72 7.72c-.78.78-.78 2.05 0 2.83L4 21.41c.39.39.9.59 1.41.59.51 0 1.02-.2 1.41-.59l7.78-7.78 2.81-2.81c.8-.78.8-2.07 0-2.86zM5.41 20L4 18.59l7.72-7.72 1.47 1.35L5.41 20z\"/>\n",
              "  </svg>\n",
              "      </button>\n",
              "      \n",
              "  <style>\n",
              "    .colab-df-container {\n",
              "      display:flex;\n",
              "      flex-wrap:wrap;\n",
              "      gap: 12px;\n",
              "    }\n",
              "\n",
              "    .colab-df-convert {\n",
              "      background-color: #E8F0FE;\n",
              "      border: none;\n",
              "      border-radius: 50%;\n",
              "      cursor: pointer;\n",
              "      display: none;\n",
              "      fill: #1967D2;\n",
              "      height: 32px;\n",
              "      padding: 0 0 0 0;\n",
              "      width: 32px;\n",
              "    }\n",
              "\n",
              "    .colab-df-convert:hover {\n",
              "      background-color: #E2EBFA;\n",
              "      box-shadow: 0px 1px 2px rgba(60, 64, 67, 0.3), 0px 1px 3px 1px rgba(60, 64, 67, 0.15);\n",
              "      fill: #174EA6;\n",
              "    }\n",
              "\n",
              "    [theme=dark] .colab-df-convert {\n",
              "      background-color: #3B4455;\n",
              "      fill: #D2E3FC;\n",
              "    }\n",
              "\n",
              "    [theme=dark] .colab-df-convert:hover {\n",
              "      background-color: #434B5C;\n",
              "      box-shadow: 0px 1px 3px 1px rgba(0, 0, 0, 0.15);\n",
              "      filter: drop-shadow(0px 1px 2px rgba(0, 0, 0, 0.3));\n",
              "      fill: #FFFFFF;\n",
              "    }\n",
              "  </style>\n",
              "\n",
              "      <script>\n",
              "        const buttonEl =\n",
              "          document.querySelector('#df-79dff7bb-5a74-474b-a0e0-2681ce0dab27 button.colab-df-convert');\n",
              "        buttonEl.style.display =\n",
              "          google.colab.kernel.accessAllowed ? 'block' : 'none';\n",
              "\n",
              "        async function convertToInteractive(key) {\n",
              "          const element = document.querySelector('#df-79dff7bb-5a74-474b-a0e0-2681ce0dab27');\n",
              "          const dataTable =\n",
              "            await google.colab.kernel.invokeFunction('convertToInteractive',\n",
              "                                                     [key], {});\n",
              "          if (!dataTable) return;\n",
              "\n",
              "          const docLinkHtml = 'Like what you see? Visit the ' +\n",
              "            '<a target=\"_blank\" href=https://colab.research.google.com/notebooks/data_table.ipynb>data table notebook</a>'\n",
              "            + ' to learn more about interactive tables.';\n",
              "          element.innerHTML = '';\n",
              "          dataTable['output_type'] = 'display_data';\n",
              "          await google.colab.output.renderOutput(dataTable, element);\n",
              "          const docLink = document.createElement('div');\n",
              "          docLink.innerHTML = docLinkHtml;\n",
              "          element.appendChild(docLink);\n",
              "        }\n",
              "      </script>\n",
              "    </div>\n",
              "  </div>\n",
              "  "
            ]
          },
          "metadata": {},
          "execution_count": 124
        }
      ]
    },
    {
      "cell_type": "code",
      "source": [
        "import scipy.stats as stats\n",
        "import numpy as np"
      ],
      "metadata": {
        "id": "Z6LW6Q3STys1"
      },
      "execution_count": 125,
      "outputs": []
    },
    {
      "cell_type": "code",
      "source": [
        "args=np.array(P_para.iloc[1])"
      ],
      "metadata": {
        "id": "HVOfHsvaUYnm"
      },
      "execution_count": 126,
      "outputs": []
    },
    {
      "cell_type": "code",
      "source": [
        "from sys import argv\n",
        "prior = stats.gamma.pdf(args ,2)"
      ],
      "metadata": {
        "id": "pZbepcuJUIPi"
      },
      "execution_count": 127,
      "outputs": []
    },
    {
      "cell_type": "code",
      "source": [
        "prior"
      ],
      "metadata": {
        "colab": {
          "base_uri": "https://localhost:8080/"
        },
        "id": "B8P9fiOLUxPP",
        "outputId": "ceca7bfc-e1d2-4f8c-a870-cc7e271c3bec"
      },
      "execution_count": 128,
      "outputs": [
        {
          "output_type": "execute_result",
          "data": {
            "text/plain": [
              "array([0.35820906])"
            ]
          },
          "metadata": {},
          "execution_count": 128
        }
      ]
    },
    {
      "cell_type": "code",
      "source": [
        "df.iloc[1,1] #time_1000"
      ],
      "metadata": {
        "colab": {
          "base_uri": "https://localhost:8080/"
        },
        "id": "G9inr0ykVJ-1",
        "outputId": "cb670ced-36ec-479f-8bfd-8f83f1649ef6"
      },
      "execution_count": 129,
      "outputs": [
        {
          "output_type": "execute_result",
          "data": {
            "text/plain": [
              "0.3512161511521883"
            ]
          },
          "metadata": {},
          "execution_count": 129
        }
      ]
    },
    {
      "cell_type": "code",
      "source": [
        "#likelihood P(X|θ)\n",
        "likelihood = stats.gamma.pdf(df.iloc[1,1],2)"
      ],
      "metadata": {
        "id": "7u3UeLeUUzlh"
      },
      "execution_count": 130,
      "outputs": []
    },
    {
      "cell_type": "code",
      "source": [
        "likelihood"
      ],
      "metadata": {
        "colab": {
          "base_uri": "https://localhost:8080/"
        },
        "id": "DQj3lv36UzjS",
        "outputId": "ecf769c5-8d3f-49b2-e74d-f2c05419a170"
      },
      "execution_count": 131,
      "outputs": [
        {
          "output_type": "execute_result",
          "data": {
            "text/plain": [
              "0.24719702680557726"
            ]
          },
          "metadata": {},
          "execution_count": 131
        }
      ]
    },
    {
      "cell_type": "code",
      "source": [
        "\n",
        "# Posterior. P(θ|X)\n",
        "posterior = likelihood * prior"
      ],
      "metadata": {
        "id": "YlXLRAhiUzTF"
      },
      "execution_count": 132,
      "outputs": []
    },
    {
      "cell_type": "code",
      "source": [
        "posterior"
      ],
      "metadata": {
        "colab": {
          "base_uri": "https://localhost:8080/"
        },
        "id": "Z8IFtw2UVmcy",
        "outputId": "cd2a8469-e87f-441e-d61b-d86cc0727859"
      },
      "execution_count": 133,
      "outputs": [
        {
          "output_type": "execute_result",
          "data": {
            "text/plain": [
              "array([0.08854821])"
            ]
          },
          "metadata": {},
          "execution_count": 133
        }
      ]
    },
    {
      "cell_type": "code",
      "source": [
        "# Reliability estimation after time t\n",
        "print(\"Reliability Estimation at time 1:\", round(scipy.stats.gamma.sf(1 , *posterior),3),\"%\")"
      ],
      "metadata": {
        "colab": {
          "base_uri": "https://localhost:8080/"
        },
        "id": "h5uj6naHVqhx",
        "outputId": "a374d30e-500c-4db8-abe5-8c76fec03d21"
      },
      "execution_count": 134,
      "outputs": [
        {
          "output_type": "stream",
          "name": "stdout",
          "text": [
            "Reliability Estimation at time 1: 0.021 %\n"
          ]
        }
      ]
    },
    {
      "cell_type": "code",
      "source": [],
      "metadata": {
        "id": "qmNKCu9TYKoA"
      },
      "execution_count": 134,
      "outputs": []
    },
    {
      "cell_type": "code",
      "source": [],
      "metadata": {
        "id": "uReagnqYYKl-"
      },
      "execution_count": 134,
      "outputs": []
    },
    {
      "cell_type": "code",
      "source": [],
      "metadata": {
        "id": "3YCjEouiYKjd"
      },
      "execution_count": 134,
      "outputs": []
    },
    {
      "cell_type": "code",
      "source": [],
      "metadata": {
        "id": "9rxnW5isYKhR"
      },
      "execution_count": 134,
      "outputs": []
    },
    {
      "cell_type": "code",
      "source": [],
      "metadata": {
        "id": "I3bST-dDYJ7G"
      },
      "execution_count": 134,
      "outputs": []
    }
  ]
}