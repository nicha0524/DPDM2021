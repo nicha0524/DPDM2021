{
  "nbformat": 4,
  "nbformat_minor": 0,
  "metadata": {
    "colab": {
      "name": "Data103(chapter2 distance).ipynb",
      "provenance": [],
      "collapsed_sections": [],
      "authorship_tag": "ABX9TyMZNiadGNW0mfsS6MwBTkmR",
      "include_colab_link": true
    },
    "kernelspec": {
      "name": "python3",
      "display_name": "Python 3"
    },
    "language_info": {
      "name": "python"
    }
  },
  "cells": [
    {
      "cell_type": "markdown",
      "metadata": {
        "id": "view-in-github",
        "colab_type": "text"
      },
      "source": [
        "<a href=\"https://colab.research.google.com/github/nicha0524/DPDM2021/blob/main/Data103(chapter2_distance).ipynb\" target=\"_parent\"><img src=\"https://colab.research.google.com/assets/colab-badge.svg\" alt=\"Open In Colab\"/></a>"
      ]
    },
    {
      "cell_type": "code",
      "metadata": {
        "id": "CXP_8yTP2UmF"
      },
      "source": [
        "import numpy as np # package สำหรับทำงานกับ ข้อมูลที่เป็นตัวเลข (ในรูปแบบ Matrix)"
      ],
      "execution_count": 1,
      "outputs": []
    },
    {
      "cell_type": "markdown",
      "metadata": {
        "id": "PYQJv2GT3A97"
      },
      "source": [
        "Numpy Array"
      ]
    },
    {
      "cell_type": "markdown",
      "metadata": {
        "id": "XxA1WcGN3JBk"
      },
      "source": [
        "Create numpy array"
      ]
    },
    {
      "cell_type": "code",
      "metadata": {
        "colab": {
          "base_uri": "https://localhost:8080/"
        },
        "id": "84Lg18-z3GZA",
        "outputId": "22e86856-01bc-4c36-f3b2-7bbad0a0ed02"
      },
      "source": [
        "np_a =  np.array( [[1,2,3],[4,5,6]] ) # สร้าง matrix ขนาด 2*3\n",
        "np_a "
      ],
      "execution_count": 2,
      "outputs": [
        {
          "output_type": "execute_result",
          "data": {
            "text/plain": [
              "array([[1, 2, 3],\n",
              "       [4, 5, 6]])"
            ]
          },
          "metadata": {
            "tags": []
          },
          "execution_count": 2
        }
      ]
    },
    {
      "cell_type": "code",
      "metadata": {
        "colab": {
          "base_uri": "https://localhost:8080/"
        },
        "id": "ADc9-UQr28Fu",
        "outputId": "7cfa68c0-f5bc-4011-ea51-6d1b95d57fae"
      },
      "source": [
        "np_a.shape #ดูขนาดของ matrix"
      ],
      "execution_count": 3,
      "outputs": [
        {
          "output_type": "execute_result",
          "data": {
            "text/plain": [
              "(2, 3)"
            ]
          },
          "metadata": {
            "tags": []
          },
          "execution_count": 3
        }
      ]
    },
    {
      "cell_type": "code",
      "metadata": {
        "colab": {
          "base_uri": "https://localhost:8080/"
        },
        "id": "C509H3XD28Cq",
        "outputId": "e934500b-ed6b-471f-bb07-91be2d3e3e51"
      },
      "source": [
        "np_b =np.array( [[1,4],[2,5],[3,6]] ) #สร้าง matrix ขนาด 3*2\n",
        "print(np_b.shape) #ดูขนาด matrix\n",
        "np_b"
      ],
      "execution_count": 4,
      "outputs": [
        {
          "output_type": "stream",
          "text": [
            "(3, 2)\n"
          ],
          "name": "stdout"
        },
        {
          "output_type": "execute_result",
          "data": {
            "text/plain": [
              "array([[1, 4],\n",
              "       [2, 5],\n",
              "       [3, 6]])"
            ]
          },
          "metadata": {
            "tags": []
          },
          "execution_count": 4
        }
      ]
    },
    {
      "cell_type": "markdown",
      "metadata": {
        "id": "VVliyNkpC8OA"
      },
      "source": [
        "####indexing    "
      ]
    },
    {
      "cell_type": "code",
      "metadata": {
        "colab": {
          "base_uri": "https://localhost:8080/"
        },
        "id": "Z6VHVUMjDBf8",
        "outputId": "b6f4f2e6-de34-4c2b-bbde-c3d53732715b"
      },
      "source": [
        "np_b[0,1]  #การชี้สมาชิกใน numpy matrix ใช้ matrix[แถวมหลัก]"
      ],
      "execution_count": 5,
      "outputs": [
        {
          "output_type": "execute_result",
          "data": {
            "text/plain": [
              "4"
            ]
          },
          "metadata": {
            "tags": []
          },
          "execution_count": 5
        }
      ]
    },
    {
      "cell_type": "markdown",
      "metadata": {
        "id": "G24MSPQR4hZv"
      },
      "source": [
        "### transport matrix\n",
        "กลับแถวเป็นหลัก"
      ]
    },
    {
      "cell_type": "code",
      "metadata": {
        "colab": {
          "base_uri": "https://localhost:8080/"
        },
        "id": "HHhtkp9m28A0",
        "outputId": "3903ee59-0471-4055-f428-c0f0cb983d41"
      },
      "source": [
        "np_a.T #T:  transport matrix is"
      ],
      "execution_count": 6,
      "outputs": [
        {
          "output_type": "execute_result",
          "data": {
            "text/plain": [
              "array([[1, 4],\n",
              "       [2, 5],\n",
              "       [3, 6]])"
            ]
          },
          "metadata": {
            "tags": []
          },
          "execution_count": 6
        }
      ]
    },
    {
      "cell_type": "markdown",
      "metadata": {
        "id": "foX00q7PFvIL"
      },
      "source": [
        "####matrix multiplication\n",
        "ด้วยคำสั่ง np.dot"
      ]
    },
    {
      "cell_type": "code",
      "metadata": {
        "colab": {
          "base_uri": "https://localhost:8080/"
        },
        "id": "rfPxL5j_FzMf",
        "outputId": "1a3d7dbb-24d3-4a58-dbf9-aa8cebc43fb5"
      },
      "source": [
        "np.dot(np_b,np_a) # คูณ matrix"
      ],
      "execution_count": 7,
      "outputs": [
        {
          "output_type": "execute_result",
          "data": {
            "text/plain": [
              "array([[17, 22, 27],\n",
              "       [22, 29, 36],\n",
              "       [27, 36, 45]])"
            ]
          },
          "metadata": {
            "tags": []
          },
          "execution_count": 7
        }
      ]
    },
    {
      "cell_type": "markdown",
      "metadata": {
        "id": "cKFI-fOb42ym"
      },
      "source": [
        "###Useful numpy functions\n",
        "#### summation $\\sum$ "
      ]
    },
    {
      "cell_type": "code",
      "metadata": {
        "colab": {
          "base_uri": "https://localhost:8080/"
        },
        "id": "mYNkiTSg279J",
        "outputId": "ffead710-112a-4d19-acf3-7f4e4fed0517"
      },
      "source": [
        "np_a  "
      ],
      "execution_count": 8,
      "outputs": [
        {
          "output_type": "execute_result",
          "data": {
            "text/plain": [
              "array([[1, 2, 3],\n",
              "       [4, 5, 6]])"
            ]
          },
          "metadata": {
            "tags": []
          },
          "execution_count": 8
        }
      ]
    },
    {
      "cell_type": "code",
      "metadata": {
        "colab": {
          "base_uri": "https://localhost:8080/"
        },
        "id": "ITGgctAG2764",
        "outputId": "36bc8ec5-793b-42d0-967b-fa91605d9374"
      },
      "source": [
        "np.sum(np_a) # บวกค่าใน matrix"
      ],
      "execution_count": 9,
      "outputs": [
        {
          "output_type": "execute_result",
          "data": {
            "text/plain": [
              "21"
            ]
          },
          "metadata": {
            "tags": []
          },
          "execution_count": 9
        }
      ]
    },
    {
      "cell_type": "code",
      "metadata": {
        "colab": {
          "base_uri": "https://localhost:8080/"
        },
        "id": "TJJ2YyaX5NJk",
        "outputId": "f24a7385-e097-4620-92f1-8289ae44719c"
      },
      "source": [
        "np.sum(np_a,axis=0) # รวมแถว (axis=0)"
      ],
      "execution_count": 10,
      "outputs": [
        {
          "output_type": "execute_result",
          "data": {
            "text/plain": [
              "array([5, 7, 9])"
            ]
          },
          "metadata": {
            "tags": []
          },
          "execution_count": 10
        }
      ]
    },
    {
      "cell_type": "code",
      "metadata": {
        "colab": {
          "base_uri": "https://localhost:8080/"
        },
        "id": "oVdn4DW55NGT",
        "outputId": "948b04c0-0c43-4ced-b0fe-ce148e021bb6"
      },
      "source": [
        "np.sum(np_a,axis=1) # รวมหลัก (axis=1)"
      ],
      "execution_count": 11,
      "outputs": [
        {
          "output_type": "execute_result",
          "data": {
            "text/plain": [
              "array([ 6, 15])"
            ]
          },
          "metadata": {
            "tags": []
          },
          "execution_count": 11
        }
      ]
    },
    {
      "cell_type": "markdown",
      "metadata": {
        "id": "SHOQhe8u59Eb"
      },
      "source": [
        "###average ($\\mu$)"
      ]
    },
    {
      "cell_type": "code",
      "metadata": {
        "colab": {
          "base_uri": "https://localhost:8080/"
        },
        "id": "p7ZKRsQQ6B91",
        "outputId": "24d5f2a6-4b7d-449e-bcc5-ab325b815d0d"
      },
      "source": [
        "np.mean(np_a) # หาค่าเฉลี่ย np.mean"
      ],
      "execution_count": 12,
      "outputs": [
        {
          "output_type": "execute_result",
          "data": {
            "text/plain": [
              "3.5"
            ]
          },
          "metadata": {
            "tags": []
          },
          "execution_count": 12
        }
      ]
    },
    {
      "cell_type": "code",
      "metadata": {
        "colab": {
          "base_uri": "https://localhost:8080/"
        },
        "id": "PGnZGNIJ6B69",
        "outputId": "31f1c04b-04ee-49a7-bb16-fd83871fa7f4"
      },
      "source": [
        "np.mean(np_a,axis=0) # หาค่าเฉลี่ย np.mean ของแถว"
      ],
      "execution_count": 13,
      "outputs": [
        {
          "output_type": "execute_result",
          "data": {
            "text/plain": [
              "array([2.5, 3.5, 4.5])"
            ]
          },
          "metadata": {
            "tags": []
          },
          "execution_count": 13
        }
      ]
    },
    {
      "cell_type": "code",
      "metadata": {
        "colab": {
          "base_uri": "https://localhost:8080/"
        },
        "id": "-MH7K5tp6B5J",
        "outputId": "f3d9338e-d4de-4c5f-8cf5-eff429194923"
      },
      "source": [
        "np.mean(np_a,axis=1) # หาค่าเฉลี่ย np.mean ของหลัก"
      ],
      "execution_count": 14,
      "outputs": [
        {
          "output_type": "execute_result",
          "data": {
            "text/plain": [
              "array([2., 5.])"
            ]
          },
          "metadata": {
            "tags": []
          },
          "execution_count": 14
        }
      ]
    },
    {
      "cell_type": "markdown",
      "metadata": {
        "id": "evedQaVo7GbV"
      },
      "source": [
        "วนลูปเอง"
      ]
    },
    {
      "cell_type": "code",
      "metadata": {
        "colab": {
          "base_uri": "https://localhost:8080/"
        },
        "id": "PxjLOehz7f-X",
        "outputId": "05bf7bd7-3d40-42a2-f600-20ca3fa1c797"
      },
      "source": [
        "np_a.shape[0] #ดูขนาดในแถว .shape[0]"
      ],
      "execution_count": 15,
      "outputs": [
        {
          "output_type": "execute_result",
          "data": {
            "text/plain": [
              "2"
            ]
          },
          "metadata": {
            "tags": []
          },
          "execution_count": 15
        }
      ]
    },
    {
      "cell_type": "code",
      "metadata": {
        "colab": {
          "base_uri": "https://localhost:8080/"
        },
        "id": "B1Iz9qRH5NE2",
        "outputId": "1f43bf57-a29e-48d6-c9a6-f08d82df25fb"
      },
      "source": [
        "sum_all=0    \n",
        "for row in range(np_a.shape[0]):   # วนลูป row ตามความยาวของ (แถวของ  np_a)\n",
        "    for col in range(np_a.shape[1]):# วนลูป row ตามความยาวของ (หลักของ  np_a)\n",
        "          sum_all=sum_all+np_a[row,col] #การชี้สมาชิกใน numpy matrix ใช้ matrix[แถวมหลัก]\n",
        "\n",
        "sum_all"
      ],
      "execution_count": 16,
      "outputs": [
        {
          "output_type": "execute_result",
          "data": {
            "text/plain": [
              "21"
            ]
          },
          "metadata": {
            "tags": []
          },
          "execution_count": 16
        }
      ]
    },
    {
      "cell_type": "markdown",
      "metadata": {
        "id": "OsDFqUAA9cb8"
      },
      "source": [
        "## คำสั่งสร้าง matrix เริ่มต้น zeros, ones\n"
      ]
    },
    {
      "cell_type": "code",
      "metadata": {
        "colab": {
          "base_uri": "https://localhost:8080/"
        },
        "id": "5JLgz3FN-QS3",
        "outputId": "8935cc39-a4ba-4a89-cb12-fa2dc72b2d5d"
      },
      "source": [
        "np.zeros((3,2)) #เอกลักษณ์การบวก"
      ],
      "execution_count": 17,
      "outputs": [
        {
          "output_type": "execute_result",
          "data": {
            "text/plain": [
              "array([[0., 0.],\n",
              "       [0., 0.],\n",
              "       [0., 0.]])"
            ]
          },
          "metadata": {
            "tags": []
          },
          "execution_count": 17
        }
      ]
    },
    {
      "cell_type": "markdown",
      "metadata": {
        "id": "YQpWAGPDEY-t"
      },
      "source": [
        "####คำสั่งสร้าง Matrix เริ่มต้น random"
      ]
    },
    {
      "cell_type": "code",
      "metadata": {
        "colab": {
          "base_uri": "https://localhost:8080/"
        },
        "id": "SeQKI_ztEd0S",
        "outputId": "f9880d12-8de1-45e3-8dd2-d121e5c77340"
      },
      "source": [
        "np.random.randn(3,2) #สุ่มตัวเลข แจกแจงแบบ normal"
      ],
      "execution_count": 18,
      "outputs": [
        {
          "output_type": "execute_result",
          "data": {
            "text/plain": [
              "array([[ 0.92907292, -0.91958976],\n",
              "       [ 0.23877154,  0.91423821],\n",
              "       [-0.82456224,  0.41602762]])"
            ]
          },
          "metadata": {
            "tags": []
          },
          "execution_count": 18
        }
      ]
    },
    {
      "cell_type": "code",
      "metadata": {
        "colab": {
          "base_uri": "https://localhost:8080/"
        },
        "id": "pUEvRmdaE8Mv",
        "outputId": "f41bc95a-7f2a-431d-826f-3cbb567f809d"
      },
      "source": [
        "np.random.randint(0,10,(3,2)) #สุ่มตัวเลข แจกแจงแบบ normal (int เลขจำนวนเต็ม)"
      ],
      "execution_count": 19,
      "outputs": [
        {
          "output_type": "execute_result",
          "data": {
            "text/plain": [
              "array([[8, 7],\n",
              "       [1, 7],\n",
              "       [5, 6]])"
            ]
          },
          "metadata": {
            "tags": []
          },
          "execution_count": 19
        }
      ]
    },
    {
      "cell_type": "code",
      "metadata": {
        "colab": {
          "base_uri": "https://localhost:8080/"
        },
        "id": "ciLGZQYZ9c_8",
        "outputId": "bfef3575-de62-4874-dd49-24e75cc0319d"
      },
      "source": [
        "sum_vert =np.zeros((np_a.shape[1]))\n",
        "for col in range(np_a.shape[1]):       # วนลูป row ตามความยาวของ (แถวของ  np_a)\n",
        "     for row in range(np_a.shape[0]): # วนลูป row ตามความยาวของ (หลักของ  np_a)\n",
        "          sum_vert[col] = sum_vert [col] + np_a[row,col] #การชี้สมาชิกใน numpy matrix ใช้ matrix[แถวมหลัก] ตามแถว\n",
        "sum_vert "
      ],
      "execution_count": 20,
      "outputs": [
        {
          "output_type": "execute_result",
          "data": {
            "text/plain": [
              "array([5., 7., 9.])"
            ]
          },
          "metadata": {
            "tags": []
          },
          "execution_count": 20
        }
      ]
    },
    {
      "cell_type": "code",
      "metadata": {
        "colab": {
          "base_uri": "https://localhost:8080/"
        },
        "id": "jWSppbAp8Rfm",
        "outputId": "e61b08ca-604c-4475-ce29-d2a8cbff0d13"
      },
      "source": [
        "sum_hor =np.zeros((np_a.shape[0]))\n",
        "for col in range(np_a.shape[1]):        # วนลูป row ตามความยาวของ (แถวของ  np_a)\n",
        "     for row in range(np_a.shape[0]):   # วนลูป row ตามความยาวของ (หลักของ  np_a)\n",
        "          sum_hor[row] = sum_hor [row] + np_a[row,col]     #การชี้สมาชิกใน numpy matrix ใช้ matrix[แถวมหลัก] ตามหลัก\n",
        "sum_hor"
      ],
      "execution_count": 21,
      "outputs": [
        {
          "output_type": "execute_result",
          "data": {
            "text/plain": [
              "array([ 6., 15.])"
            ]
          },
          "metadata": {
            "tags": []
          },
          "execution_count": 21
        }
      ]
    },
    {
      "cell_type": "markdown",
      "metadata": {
        "id": "vYMIuL6VAwRh"
      },
      "source": [
        "###Arrray Slicing"
      ]
    },
    {
      "cell_type": "code",
      "metadata": {
        "colab": {
          "base_uri": "https://localhost:8080/"
        },
        "id": "S4qutSK6AsBi",
        "outputId": "e6e7c327-4f64-4167-da15-5322490a7112"
      },
      "source": [
        "np_a"
      ],
      "execution_count": 23,
      "outputs": [
        {
          "output_type": "execute_result",
          "data": {
            "text/plain": [
              "array([[1, 2, 3],\n",
              "       [4, 5, 6]])"
            ]
          },
          "metadata": {
            "tags": []
          },
          "execution_count": 23
        }
      ]
    },
    {
      "cell_type": "code",
      "metadata": {
        "colab": {
          "base_uri": "https://localhost:8080/"
        },
        "id": "njyOlmKoAr3C",
        "outputId": "768c30e0-bcfa-4b4f-977d-c2119bc8070c"
      },
      "source": [
        "np_a[:,1]  #col 0,1,2"
      ],
      "execution_count": 24,
      "outputs": [
        {
          "output_type": "execute_result",
          "data": {
            "text/plain": [
              "array([2, 5])"
            ]
          },
          "metadata": {
            "tags": []
          },
          "execution_count": 24
        }
      ]
    },
    {
      "cell_type": "code",
      "metadata": {
        "colab": {
          "base_uri": "https://localhost:8080/"
        },
        "id": "gDFFxHTdArjb",
        "outputId": "30851979-16f2-4ae6-bc47-d72c52c2186d"
      },
      "source": [
        "np.mean(np_a) #หาค่าเฉลี่ย"
      ],
      "execution_count": 25,
      "outputs": [
        {
          "output_type": "execute_result",
          "data": {
            "text/plain": [
              "3.5"
            ]
          },
          "metadata": {
            "tags": []
          },
          "execution_count": 25
        }
      ]
    },
    {
      "cell_type": "code",
      "metadata": {
        "colab": {
          "base_uri": "https://localhost:8080/"
        },
        "id": "XDBJkAOtG_AX",
        "outputId": "5fa93cd2-b311-4d52-9a86-b88471e3ddfd"
      },
      "source": [
        "np.mean(np_a,axis=0)  #หาค่าเฉลี่ยของ np_a ตามแถว"
      ],
      "execution_count": 26,
      "outputs": [
        {
          "output_type": "execute_result",
          "data": {
            "text/plain": [
              "array([2.5, 3.5, 4.5])"
            ]
          },
          "metadata": {
            "tags": []
          },
          "execution_count": 26
        }
      ]
    },
    {
      "cell_type": "code",
      "metadata": {
        "colab": {
          "base_uri": "https://localhost:8080/"
        },
        "id": "wXnyT_vbHF3G",
        "outputId": "b03e8d3b-e5e7-4847-acae-fc7a3b052274"
      },
      "source": [
        "np.mean(np_a,axis=1) #หาค่าเฉลี่ยของ np_a ตามหลัก"
      ],
      "execution_count": 27,
      "outputs": [
        {
          "output_type": "execute_result",
          "data": {
            "text/plain": [
              "array([2., 5.])"
            ]
          },
          "metadata": {
            "tags": []
          },
          "execution_count": 27
        }
      ]
    },
    {
      "cell_type": "markdown",
      "metadata": {
        "id": "pQ0EPFzMHTAL"
      },
      "source": [
        "###Distance Matrix"
      ]
    },
    {
      "cell_type": "code",
      "metadata": {
        "colab": {
          "base_uri": "https://localhost:8080/"
        },
        "id": "7akQ9S3THhq6",
        "outputId": "cad8bbe1-dc55-4ad6-c558-066ce13eca76"
      },
      "source": [
        "data1=np.array([[1,2],[3,5],[2,0],[4,5]])\n",
        "data1"
      ],
      "execution_count": 28,
      "outputs": [
        {
          "output_type": "execute_result",
          "data": {
            "text/plain": [
              "array([[1, 2],\n",
              "       [3, 5],\n",
              "       [2, 0],\n",
              "       [4, 5]])"
            ]
          },
          "metadata": {
            "tags": []
          },
          "execution_count": 28
        }
      ]
    },
    {
      "cell_type": "code",
      "metadata": {
        "colab": {
          "base_uri": "https://localhost:8080/",
          "height": 282
        },
        "id": "6jSICdqGHhvo",
        "outputId": "eed7ea25-ebf4-46d7-c7c3-0daf5660eb22"
      },
      "source": [
        "from matplotlib import pyplot as plt\n",
        "plt.plot(data1[:,0],data1[:,1],'o') # plot data1 [:,0]เอาทุกแถวในหลักแรก [:,1] เอาทุกแถวในหลัก2"
      ],
      "execution_count": 29,
      "outputs": [
        {
          "output_type": "execute_result",
          "data": {
            "text/plain": [
              "[<matplotlib.lines.Line2D at 0x7fb774b40750>]"
            ]
          },
          "metadata": {
            "tags": []
          },
          "execution_count": 29
        },
        {
          "output_type": "display_data",
          "data": {
            "image/png": "[encoded data removed]",
            "text/plain": [
              "<Figure size 432x288 with 1 Axes>"
            ]
          },
          "metadata": {
            "tags": [],
            "needs_background": "light"
          }
        }
      ]
    },
    {
      "cell_type": "markdown",
      "metadata": {
        "id": "AypZtcapIubH"
      },
      "source": [
        "###Euclidean distance\n",
        "$\\sqrt{(x_1 - x_2)^2 + (y_1 - y_2)^2}$"
      ]
    },
    {
      "cell_type": "code",
      "metadata": {
        "colab": {
          "base_uri": "https://localhost:8080/"
        },
        "id": "koiIa4geIjF2",
        "outputId": "473a2a29-3d02-4eb9-823f-40c630b59228"
      },
      "source": [
        "dist_p1_p2 = np.sqrt(np.power(data1[0,0]-data1[1,0],2)+np.power(data1[0,1]-data1[1,1],2)) #หา euclidean ของ data1\n",
        "dist_p1_p2"
      ],
      "execution_count": 30,
      "outputs": [
        {
          "output_type": "execute_result",
          "data": {
            "text/plain": [
              "3.605551275463989"
            ]
          },
          "metadata": {
            "tags": []
          },
          "execution_count": 30
        }
      ]
    },
    {
      "cell_type": "code",
      "metadata": {
        "colab": {
          "base_uri": "https://localhost:8080/"
        },
        "id": "7FzJ8uAmLc2E",
        "outputId": "824d2cae-4f79-4579-ec91-ce84cc3ae34c"
      },
      "source": [
        "data1[0,:]"
      ],
      "execution_count": 31,
      "outputs": [
        {
          "output_type": "execute_result",
          "data": {
            "text/plain": [
              "array([1, 2])"
            ]
          },
          "metadata": {
            "tags": []
          },
          "execution_count": 31
        }
      ]
    },
    {
      "cell_type": "code",
      "metadata": {
        "id": "qM_gQ_SNKYJv"
      },
      "source": [
        "def eud_dist(pt1,pt2): #2 dims\n",
        "    return np.sqrt(np.power(pt1[0]-pt2[0],2)+np.power(pt1[1]-pt2[1],2))"
      ],
      "execution_count": 32,
      "outputs": []
    },
    {
      "cell_type": "code",
      "metadata": {
        "colab": {
          "base_uri": "https://localhost:8080/"
        },
        "id": "2MCbyi29L4pv",
        "outputId": "99b7411a-4b82-4825-b59a-a9ce54dae2da"
      },
      "source": [
        "eud_dist(data1[0,:],data1[1,:])"
      ],
      "execution_count": 33,
      "outputs": [
        {
          "output_type": "execute_result",
          "data": {
            "text/plain": [
              "3.605551275463989"
            ]
          },
          "metadata": {
            "tags": []
          },
          "execution_count": 33
        }
      ]
    },
    {
      "cell_type": "code",
      "metadata": {
        "id": "YjYQw_MhMEb-"
      },
      "source": [
        "def eud_dist(pt1,pt2):        #สร้าง function euclidean\n",
        "  sum=0\n",
        "  for i in range(len(pt1)):\n",
        "      sum = sum + np.power(pt1[i]-pt2[i],2)\n",
        "  return np.sqrt(sum)"
      ],
      "execution_count": 34,
      "outputs": []
    },
    {
      "cell_type": "code",
      "metadata": {
        "colab": {
          "base_uri": "https://localhost:8080/"
        },
        "id": "TUE3NBhVM7nG",
        "outputId": "75ccee5a-5d19-404e-bc06-6f56412b85ad"
      },
      "source": [
        "eud_dist(data1[1,:],data1[3,:])"
      ],
      "execution_count": 35,
      "outputs": [
        {
          "output_type": "execute_result",
          "data": {
            "text/plain": [
              "1.0"
            ]
          },
          "metadata": {
            "tags": []
          },
          "execution_count": 35
        }
      ]
    },
    {
      "cell_type": "markdown",
      "metadata": {
        "id": "y5oTRKlrOq3U"
      },
      "source": [
        "QuiZ 9"
      ]
    },
    {
      "cell_type": "code",
      "metadata": {
        "id": "8-HfDo12Nd35"
      },
      "source": [
        "def L1 (pt1,pt2): #2 dims\n",
        "    return np.absolute(pt1[0]-pt2[0])+np.absolute(pt1[1]-pt2[1])"
      ],
      "execution_count": 36,
      "outputs": []
    },
    {
      "cell_type": "code",
      "metadata": {
        "colab": {
          "base_uri": "https://localhost:8080/"
        },
        "id": "IuL0G7LCPDpg",
        "outputId": "f28f405c-9de7-4f85-81d4-cb03fd735294"
      },
      "source": [
        "L1(data1[0,:],data1[1,:])"
      ],
      "execution_count": 37,
      "outputs": [
        {
          "output_type": "execute_result",
          "data": {
            "text/plain": [
              "5"
            ]
          },
          "metadata": {
            "tags": []
          },
          "execution_count": 37
        }
      ]
    },
    {
      "cell_type": "code",
      "metadata": {
        "id": "DQaMFJBWRgvG"
      },
      "source": [
        "def L1_1(pt1,pt2): \n",
        "  sum=0\n",
        "  for i in range(len(pt1)):\n",
        "      sum = sum + np.absolute(pt1[i]-pt2[i])\n",
        "  return sum\n",
        "\n"
      ],
      "execution_count": 38,
      "outputs": []
    },
    {
      "cell_type": "code",
      "metadata": {
        "colab": {
          "base_uri": "https://localhost:8080/"
        },
        "id": "mewO5jQTRw2B",
        "outputId": "a42985f3-e95e-4b5a-dafe-20b0afb1c807"
      },
      "source": [
        "L1_1(data1[0,:],data1[1,:])"
      ],
      "execution_count": 39,
      "outputs": [
        {
          "output_type": "execute_result",
          "data": {
            "text/plain": [
              "5"
            ]
          },
          "metadata": {
            "tags": []
          },
          "execution_count": 39
        }
      ]
    },
    {
      "cell_type": "markdown",
      "metadata": {
        "id": "SHEWMDhVP3rz"
      },
      "source": [
        "###HW"
      ]
    },
    {
      "cell_type": "code",
      "metadata": {
        "id": "dgQFGZmQP9qV"
      },
      "source": [
        "def distance (pt1,pt2,): \n",
        "  sum=0\n",
        "  for i in range(pt1.shape[0]):\n",
        "    for j in range(pt1.shape[0]):\n",
        "      sum[i,j] = sum + np.sqrt(np.sum(np.power(pt1[i,  : ]-pt2[j , : ],2)))\n",
        "  return sum"
      ],
      "execution_count": 256,
      "outputs": []
    },
    {
      "cell_type": "code",
      "metadata": {
        "colab": {
          "base_uri": "https://localhost:8080/"
        },
        "id": "acX8bfS4Rswj",
        "outputId": "119a5e8c-7a10-4081-ecff-b8eb03d245d3"
      },
      "source": [
        "from scipy.spatial import distance_matrix\n",
        "distance_matrix (data1,data1)"
      ],
      "execution_count": 270,
      "outputs": [
        {
          "output_type": "execute_result",
          "data": {
            "text/plain": [
              "array([[0.        , 3.60555128, 2.23606798, 4.24264069],\n",
              "       [3.60555128, 0.        , 5.09901951, 1.        ],\n",
              "       [2.23606798, 5.09901951, 0.        , 5.38516481],\n",
              "       [4.24264069, 1.        , 5.38516481, 0.        ]])"
            ]
          },
          "metadata": {
            "tags": []
          },
          "execution_count": 270
        }
      ]
    }
  ]
}