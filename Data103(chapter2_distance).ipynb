{
  "nbformat": 4,
  "nbformat_minor": 0,
  "metadata": {
    "colab": {
      "name": "Data103(chapter2 distance).ipynb",
      "provenance": [],
      "authorship_tag": "ABX9TyN+FZfNssTYgPG3b+PbyKUg",
      "include_colab_link": true
    },
    "kernelspec": {
      "name": "python3",
      "display_name": "Python 3"
    },
    "language_info": {
      "name": "python"
    }
  },
  "cells": [
    {
      "cell_type": "markdown",
      "metadata": {
        "id": "view-in-github",
        "colab_type": "text"
      },
      "source": [
        "<a href=\"https://colab.research.google.com/github/nicha0524/DPDM2021/blob/main/Data103(chapter2_distance).ipynb\" target=\"_parent\"><img src=\"https://colab.research.google.com/assets/colab-badge.svg\" alt=\"Open In Colab\"/></a>"
      ]
    },
    {
      "cell_type": "code",
      "metadata": {
        "id": "CXP_8yTP2UmF"
      },
      "source": [
        "import numpy as np # package สำหรับทำงานกับ ข้อมูลที่เป็นตัวเลข (ในรูปแบบ Matrix)"
      ],
      "execution_count": 3,
      "outputs": []
    },
    {
      "cell_type": "markdown",
      "metadata": {
        "id": "PYQJv2GT3A97"
      },
      "source": [
        "Numpy Array"
      ]
    },
    {
      "cell_type": "markdown",
      "metadata": {
        "id": "XxA1WcGN3JBk"
      },
      "source": [
        "Create numpy array"
      ]
    },
    {
      "cell_type": "code",
      "metadata": {
        "colab": {
          "base_uri": "https://localhost:8080/"
        },
        "id": "84Lg18-z3GZA",
        "outputId": "5a722f94-3d42-480c-ff75-38f189210ee0"
      },
      "source": [
        "np_a =  np.array( [[1,2,3],[4,5,6]] )\n",
        "np_a "
      ],
      "execution_count": 6,
      "outputs": [
        {
          "output_type": "execute_result",
          "data": {
            "text/plain": [
              "array([[1, 2, 3],\n",
              "       [4, 5, 6]])"
            ]
          },
          "metadata": {
            "tags": []
          },
          "execution_count": 6
        }
      ]
    },
    {
      "cell_type": "code",
      "metadata": {
        "colab": {
          "base_uri": "https://localhost:8080/"
        },
        "id": "ADc9-UQr28Fu",
        "outputId": "8c37068f-95bd-4ee8-a74c-88760bf4a253"
      },
      "source": [
        "np_a.shape"
      ],
      "execution_count": 7,
      "outputs": [
        {
          "output_type": "execute_result",
          "data": {
            "text/plain": [
              "(2, 3)"
            ]
          },
          "metadata": {
            "tags": []
          },
          "execution_count": 7
        }
      ]
    },
    {
      "cell_type": "code",
      "metadata": {
        "colab": {
          "base_uri": "https://localhost:8080/"
        },
        "id": "C509H3XD28Cq",
        "outputId": "d17fae79-e1c9-4995-c5a1-ee46e298076b"
      },
      "source": [
        "np_b =np.array( [[1,4],[2,5],[3,6]] )\n",
        "print(np_b.shape)\n",
        "np_b"
      ],
      "execution_count": 8,
      "outputs": [
        {
          "output_type": "stream",
          "text": [
            "(3, 2)\n"
          ],
          "name": "stdout"
        },
        {
          "output_type": "execute_result",
          "data": {
            "text/plain": [
              "array([[1, 4],\n",
              "       [2, 5],\n",
              "       [3, 6]])"
            ]
          },
          "metadata": {
            "tags": []
          },
          "execution_count": 8
        }
      ]
    },
    {
      "cell_type": "markdown",
      "metadata": {
        "id": "VVliyNkpC8OA"
      },
      "source": [
        "####indexing    "
      ]
    },
    {
      "cell_type": "code",
      "metadata": {
        "colab": {
          "base_uri": "https://localhost:8080/"
        },
        "id": "Z6VHVUMjDBf8",
        "outputId": "174d5e6b-49fa-4dbd-e996-a8269e7f096a"
      },
      "source": [
        "np_b[0,1]  #การชี้สมาชิกใน numpy matrix ใช้ matrix[แถวมหลัก]"
      ],
      "execution_count": 43,
      "outputs": [
        {
          "output_type": "execute_result",
          "data": {
            "text/plain": [
              "4"
            ]
          },
          "metadata": {
            "tags": []
          },
          "execution_count": 43
        }
      ]
    },
    {
      "cell_type": "markdown",
      "metadata": {
        "id": "G24MSPQR4hZv"
      },
      "source": [
        "### transport matrix"
      ]
    },
    {
      "cell_type": "code",
      "metadata": {
        "colab": {
          "base_uri": "https://localhost:8080/"
        },
        "id": "HHhtkp9m28A0",
        "outputId": "274efbb4-f887-4df9-d047-9841b4256209"
      },
      "source": [
        "np_a.T #T:  transport matrix"
      ],
      "execution_count": 9,
      "outputs": [
        {
          "output_type": "execute_result",
          "data": {
            "text/plain": [
              "array([[1, 4],\n",
              "       [2, 5],\n",
              "       [3, 6]])"
            ]
          },
          "metadata": {
            "tags": []
          },
          "execution_count": 9
        }
      ]
    },
    {
      "cell_type": "markdown",
      "metadata": {
        "id": "foX00q7PFvIL"
      },
      "source": [
        "####คูณ เมทตริก"
      ]
    },
    {
      "cell_type": "code",
      "metadata": {
        "colab": {
          "base_uri": "https://localhost:8080/"
        },
        "id": "rfPxL5j_FzMf",
        "outputId": "d3384931-db50-493d-d247-849245656522"
      },
      "source": [
        "np.dot(np_b,np_a)"
      ],
      "execution_count": 49,
      "outputs": [
        {
          "output_type": "execute_result",
          "data": {
            "text/plain": [
              "array([[17, 22, 27],\n",
              "       [22, 29, 36],\n",
              "       [27, 36, 45]])"
            ]
          },
          "metadata": {
            "tags": []
          },
          "execution_count": 49
        }
      ]
    },
    {
      "cell_type": "markdown",
      "metadata": {
        "id": "cKFI-fOb42ym"
      },
      "source": [
        "### Useful numpy function\n",
        "    "
      ]
    },
    {
      "cell_type": "markdown",
      "metadata": {
        "id": "2QorJONj5A4G"
      },
      "source": [
        "Summation "
      ]
    },
    {
      "cell_type": "code",
      "metadata": {
        "colab": {
          "base_uri": "https://localhost:8080/"
        },
        "id": "mYNkiTSg279J",
        "outputId": "b36e2d0f-dc0d-4661-b6e1-993d96f16e98"
      },
      "source": [
        "np_a"
      ],
      "execution_count": 10,
      "outputs": [
        {
          "output_type": "execute_result",
          "data": {
            "text/plain": [
              "array([[1, 2, 3],\n",
              "       [4, 5, 6]])"
            ]
          },
          "metadata": {
            "tags": []
          },
          "execution_count": 10
        }
      ]
    },
    {
      "cell_type": "code",
      "metadata": {
        "colab": {
          "base_uri": "https://localhost:8080/"
        },
        "id": "ITGgctAG2764",
        "outputId": "244b10ae-192d-4faf-bbd8-66ec09c62094"
      },
      "source": [
        "np.sum(np_a)"
      ],
      "execution_count": 11,
      "outputs": [
        {
          "output_type": "execute_result",
          "data": {
            "text/plain": [
              "21"
            ]
          },
          "metadata": {
            "tags": []
          },
          "execution_count": 11
        }
      ]
    },
    {
      "cell_type": "code",
      "metadata": {
        "colab": {
          "base_uri": "https://localhost:8080/"
        },
        "id": "TJJ2YyaX5NJk",
        "outputId": "864937be-aabd-4f3c-dc6a-79e2b67633f0"
      },
      "source": [
        "np.sum(np_a,axis=0) # รวมแถว"
      ],
      "execution_count": 12,
      "outputs": [
        {
          "output_type": "execute_result",
          "data": {
            "text/plain": [
              "array([5, 7, 9])"
            ]
          },
          "metadata": {
            "tags": []
          },
          "execution_count": 12
        }
      ]
    },
    {
      "cell_type": "code",
      "metadata": {
        "colab": {
          "base_uri": "https://localhost:8080/"
        },
        "id": "oVdn4DW55NGT",
        "outputId": "b5d1b919-9a0b-4444-c408-607b794e2b4b"
      },
      "source": [
        "np.sum(np_a,axis=1) # รวมหลัก"
      ],
      "execution_count": 13,
      "outputs": [
        {
          "output_type": "execute_result",
          "data": {
            "text/plain": [
              "array([ 6, 15])"
            ]
          },
          "metadata": {
            "tags": []
          },
          "execution_count": 13
        }
      ]
    },
    {
      "cell_type": "markdown",
      "metadata": {
        "id": "SHOQhe8u59Eb"
      },
      "source": [
        "###average ($\\mu$)"
      ]
    },
    {
      "cell_type": "code",
      "metadata": {
        "colab": {
          "base_uri": "https://localhost:8080/"
        },
        "id": "p7ZKRsQQ6B91",
        "outputId": "e5e220ad-744a-4902-e1bd-07ceca160e79"
      },
      "source": [
        "np.mean(np_a)"
      ],
      "execution_count": 14,
      "outputs": [
        {
          "output_type": "execute_result",
          "data": {
            "text/plain": [
              "3.5"
            ]
          },
          "metadata": {
            "tags": []
          },
          "execution_count": 14
        }
      ]
    },
    {
      "cell_type": "code",
      "metadata": {
        "colab": {
          "base_uri": "https://localhost:8080/"
        },
        "id": "PGnZGNIJ6B69",
        "outputId": "886a6f1a-8cfe-4cea-f371-66d9ffd8aa51"
      },
      "source": [
        "np.mean(np_a,axis=0)"
      ],
      "execution_count": 16,
      "outputs": [
        {
          "output_type": "execute_result",
          "data": {
            "text/plain": [
              "array([2.5, 3.5, 4.5])"
            ]
          },
          "metadata": {
            "tags": []
          },
          "execution_count": 16
        }
      ]
    },
    {
      "cell_type": "code",
      "metadata": {
        "colab": {
          "base_uri": "https://localhost:8080/"
        },
        "id": "-MH7K5tp6B5J",
        "outputId": "ea56b372-3b8a-430a-a3ee-37b800e41a41"
      },
      "source": [
        "np.mean(np_a,axis=1)"
      ],
      "execution_count": 17,
      "outputs": [
        {
          "output_type": "execute_result",
          "data": {
            "text/plain": [
              "array([2., 5.])"
            ]
          },
          "metadata": {
            "tags": []
          },
          "execution_count": 17
        }
      ]
    },
    {
      "cell_type": "markdown",
      "metadata": {
        "id": "evedQaVo7GbV"
      },
      "source": [
        "วนลูปเอง"
      ]
    },
    {
      "cell_type": "code",
      "metadata": {
        "colab": {
          "base_uri": "https://localhost:8080/"
        },
        "id": "PxjLOehz7f-X",
        "outputId": "61442279-e8f3-440d-f8d2-5e537805354c"
      },
      "source": [
        "np_a.shape[0]"
      ],
      "execution_count": 19,
      "outputs": [
        {
          "output_type": "execute_result",
          "data": {
            "text/plain": [
              "2"
            ]
          },
          "metadata": {
            "tags": []
          },
          "execution_count": 19
        }
      ]
    },
    {
      "cell_type": "code",
      "metadata": {
        "colab": {
          "base_uri": "https://localhost:8080/"
        },
        "id": "B1Iz9qRH5NE2",
        "outputId": "1825331c-f01c-4dff-c2e3-09502cc633f9"
      },
      "source": [
        "sum_all=0\n",
        "for row in range(np_a.shape[0]):\n",
        "    for col in range(np_a.shape[1]):\n",
        "          sum_all=sum_all+np_a[row,col] #การชี้สมาชิกใน numpy matrix ใช้ matrix[แถวมหลัก]\n",
        "\n",
        "sum_all"
      ],
      "execution_count": 21,
      "outputs": [
        {
          "output_type": "execute_result",
          "data": {
            "text/plain": [
              "21"
            ]
          },
          "metadata": {
            "tags": []
          },
          "execution_count": 21
        }
      ]
    },
    {
      "cell_type": "markdown",
      "metadata": {
        "id": "xgbC-iIP9QiH"
      },
      "source": [
        ""
      ]
    },
    {
      "cell_type": "markdown",
      "metadata": {
        "id": "OsDFqUAA9cb8"
      },
      "source": [
        "####คำสั่งสร้าง Matrix เริ่มต้น zeros ,ones\n"
      ]
    },
    {
      "cell_type": "code",
      "metadata": {
        "colab": {
          "base_uri": "https://localhost:8080/"
        },
        "id": "5JLgz3FN-QS3",
        "outputId": "1d2329b0-3a31-49a0-9bf4-71e16e87941a"
      },
      "source": [
        "np.zeros((3,2))"
      ],
      "execution_count": 45,
      "outputs": [
        {
          "output_type": "execute_result",
          "data": {
            "text/plain": [
              "array([[0., 0.],\n",
              "       [0., 0.],\n",
              "       [0., 0.]])"
            ]
          },
          "metadata": {
            "tags": []
          },
          "execution_count": 45
        }
      ]
    },
    {
      "cell_type": "markdown",
      "metadata": {
        "id": "YQpWAGPDEY-t"
      },
      "source": [
        "####คำสั่งสร้าง Matrix เริ่มต้น random"
      ]
    },
    {
      "cell_type": "code",
      "metadata": {
        "colab": {
          "base_uri": "https://localhost:8080/"
        },
        "id": "SeQKI_ztEd0S",
        "outputId": "daac6f4f-64ed-4f2e-b924-5c7d669d74fb"
      },
      "source": [
        "np.random.randn(3,2) "
      ],
      "execution_count": 47,
      "outputs": [
        {
          "output_type": "execute_result",
          "data": {
            "text/plain": [
              "array([[-1.44031626, -0.14127737],\n",
              "       [ 0.01521272, -1.50708436],\n",
              "       [-1.06205579,  1.50898505]])"
            ]
          },
          "metadata": {
            "tags": []
          },
          "execution_count": 47
        }
      ]
    },
    {
      "cell_type": "code",
      "metadata": {
        "colab": {
          "base_uri": "https://localhost:8080/"
        },
        "id": "pUEvRmdaE8Mv",
        "outputId": "e8fe20e8-6329-421e-91c7-6c03dd6fe7cd"
      },
      "source": [
        "np.random.randint(0,10,(3,2)) #"
      ],
      "execution_count": 48,
      "outputs": [
        {
          "output_type": "execute_result",
          "data": {
            "text/plain": [
              "array([[9, 3],\n",
              "       [9, 1],\n",
              "       [2, 2]])"
            ]
          },
          "metadata": {
            "tags": []
          },
          "execution_count": 48
        }
      ]
    },
    {
      "cell_type": "code",
      "metadata": {
        "colab": {
          "base_uri": "https://localhost:8080/"
        },
        "id": "ciLGZQYZ9c_8",
        "outputId": "df8248cc-79e6-4b99-b0be-cfae4f6ea39e"
      },
      "source": [
        "sum_vert =np.zeros((np_a.shape[1]))\n",
        "for col in range(np_a.shape[1]):\n",
        "     for row in range(np_a.shape[0]):\n",
        "          sum_vert[col] = sum_vert [col] + np_a[row,col] \n",
        "sum_vert "
      ],
      "execution_count": 27,
      "outputs": [
        {
          "output_type": "execute_result",
          "data": {
            "text/plain": [
              "array([5., 7., 9.])"
            ]
          },
          "metadata": {
            "tags": []
          },
          "execution_count": 27
        }
      ]
    },
    {
      "cell_type": "code",
      "metadata": {
        "colab": {
          "base_uri": "https://localhost:8080/"
        },
        "id": "jWSppbAp8Rfm",
        "outputId": "47a6b5d1-3437-4ae3-9ead-fcbc1fe30a58"
      },
      "source": [
        "sum_hor =np.zeros((np_a.shape[0]))\n",
        "for col in range(np_a.shape[1]):\n",
        "     for row in range(np_a.shape[0]):\n",
        "          sum_hor[row] = sum_hor [row] + np_a[row,col] \n",
        "          \n",
        "sum_hor"
      ],
      "execution_count": 36,
      "outputs": [
        {
          "output_type": "execute_result",
          "data": {
            "text/plain": [
              "array([ 6., 15.])"
            ]
          },
          "metadata": {
            "tags": []
          },
          "execution_count": 36
        }
      ]
    },
    {
      "cell_type": "code",
      "metadata": {
        "colab": {
          "base_uri": "https://localhost:8080/",
          "height": 230
        },
        "id": "RwBHs6bdCEG6",
        "outputId": "215b9b19-2850-48d3-d4e8-c79385644f23"
      },
      "source": [
        "n_rows,n_cols = np_a.shape\n",
        "\n",
        "sum_hor =np.zeros((n_rows))\n",
        "for col in range((n_cols )):\n",
        "     for row in range(n_rows):\n",
        "          sum_hor[row] = sum_hor [row] + np_a[row,col] \n",
        "          \n",
        "sum_hor"
      ],
      "execution_count": 41,
      "outputs": [
        {
          "output_type": "error",
          "ename": "TypeError",
          "evalue": "ignored",
          "traceback": [
            "\u001b[0;31m---------------------------------------------------------------------------\u001b[0m",
            "\u001b[0;31mTypeError\u001b[0m                                 Traceback (most recent call last)",
            "\u001b[0;32m<ipython-input-41-dcaa04a52fc3>\u001b[0m in \u001b[0;36m<module>\u001b[0;34m()\u001b[0m\n\u001b[1;32m      2\u001b[0m \u001b[0;34m\u001b[0m\u001b[0m\n\u001b[1;32m      3\u001b[0m \u001b[0msum_hor\u001b[0m \u001b[0;34m=\u001b[0m\u001b[0mnp\u001b[0m\u001b[0;34m.\u001b[0m\u001b[0mzeros\u001b[0m\u001b[0;34m(\u001b[0m\u001b[0;34m(\u001b[0m\u001b[0mn_rows\u001b[0m\u001b[0;34m)\u001b[0m\u001b[0;34m)\u001b[0m\u001b[0;34m\u001b[0m\u001b[0;34m\u001b[0m\u001b[0m\n\u001b[0;32m----> 4\u001b[0;31m \u001b[0;32mfor\u001b[0m \u001b[0mcol\u001b[0m \u001b[0;32min\u001b[0m \u001b[0mrange\u001b[0m\u001b[0;34m(\u001b[0m\u001b[0mnp_a\u001b[0m\u001b[0;34m.\u001b[0m\u001b[0mshape\u001b[0m\u001b[0;34m(\u001b[0m\u001b[0mn_cols\u001b[0m \u001b[0;34m)\u001b[0m\u001b[0;34m)\u001b[0m\u001b[0;34m:\u001b[0m\u001b[0;34m\u001b[0m\u001b[0;34m\u001b[0m\u001b[0m\n\u001b[0m\u001b[1;32m      5\u001b[0m      \u001b[0;32mfor\u001b[0m \u001b[0mrow\u001b[0m \u001b[0;32min\u001b[0m \u001b[0mrange\u001b[0m\u001b[0;34m(\u001b[0m\u001b[0mnp_a\u001b[0m\u001b[0;34m.\u001b[0m\u001b[0mshape\u001b[0m\u001b[0;34m[\u001b[0m\u001b[0mn_rows\u001b[0m\u001b[0;34m]\u001b[0m\u001b[0;34m)\u001b[0m\u001b[0;34m:\u001b[0m\u001b[0;34m\u001b[0m\u001b[0;34m\u001b[0m\u001b[0m\n\u001b[1;32m      6\u001b[0m           \u001b[0msum_hor\u001b[0m\u001b[0;34m[\u001b[0m\u001b[0mrow\u001b[0m\u001b[0;34m]\u001b[0m \u001b[0;34m=\u001b[0m \u001b[0msum_hor\u001b[0m \u001b[0;34m[\u001b[0m\u001b[0mrow\u001b[0m\u001b[0;34m]\u001b[0m \u001b[0;34m+\u001b[0m \u001b[0mnp_a\u001b[0m\u001b[0;34m[\u001b[0m\u001b[0mrow\u001b[0m\u001b[0;34m,\u001b[0m\u001b[0mcol\u001b[0m\u001b[0;34m]\u001b[0m\u001b[0;34m\u001b[0m\u001b[0;34m\u001b[0m\u001b[0m\n",
            "\u001b[0;31mTypeError\u001b[0m: 'tuple' object is not callable"
          ]
        }
      ]
    },
    {
      "cell_type": "markdown",
      "metadata": {
        "id": "vYMIuL6VAwRh"
      },
      "source": [
        "###arrray Slicing"
      ]
    },
    {
      "cell_type": "code",
      "metadata": {
        "colab": {
          "base_uri": "https://localhost:8080/"
        },
        "id": "S4qutSK6AsBi",
        "outputId": "deb5275a-ab75-4c19-9f4c-e9262a72c3a9"
      },
      "source": [
        "np_a"
      ],
      "execution_count": 42,
      "outputs": [
        {
          "output_type": "execute_result",
          "data": {
            "text/plain": [
              "array([[1, 2, 3],\n",
              "       [4, 5, 6]])"
            ]
          },
          "metadata": {
            "tags": []
          },
          "execution_count": 42
        }
      ]
    },
    {
      "cell_type": "code",
      "metadata": {
        "colab": {
          "base_uri": "https://localhost:8080/"
        },
        "id": "njyOlmKoAr3C",
        "outputId": "46cab930-ae85-49fc-9840-4765c3bc2c8c"
      },
      "source": [
        "np_a[:,1]  #col 0,1,2"
      ],
      "execution_count": 44,
      "outputs": [
        {
          "output_type": "execute_result",
          "data": {
            "text/plain": [
              "array([2, 5])"
            ]
          },
          "metadata": {
            "tags": []
          },
          "execution_count": 44
        }
      ]
    },
    {
      "cell_type": "code",
      "metadata": {
        "colab": {
          "base_uri": "https://localhost:8080/"
        },
        "id": "gDFFxHTdArjb",
        "outputId": "41df045c-b307-4f24-ec11-210ae73c50a4"
      },
      "source": [
        "np.mean(np_a)"
      ],
      "execution_count": 50,
      "outputs": [
        {
          "output_type": "execute_result",
          "data": {
            "text/plain": [
              "3.5"
            ]
          },
          "metadata": {
            "tags": []
          },
          "execution_count": 50
        }
      ]
    },
    {
      "cell_type": "code",
      "metadata": {
        "colab": {
          "base_uri": "https://localhost:8080/"
        },
        "id": "XDBJkAOtG_AX",
        "outputId": "050ffc45-3983-49c8-c357-839c9796ea0a"
      },
      "source": [
        "np.mean(np_a,axis=0)"
      ],
      "execution_count": 51,
      "outputs": [
        {
          "output_type": "execute_result",
          "data": {
            "text/plain": [
              "array([2.5, 3.5, 4.5])"
            ]
          },
          "metadata": {
            "tags": []
          },
          "execution_count": 51
        }
      ]
    },
    {
      "cell_type": "code",
      "metadata": {
        "id": "wXnyT_vbHF3G"
      },
      "source": [
        "np.mean(np_a,axis=1)"
      ],
      "execution_count": null,
      "outputs": []
    },
    {
      "cell_type": "markdown",
      "metadata": {
        "id": "pQ0EPFzMHTAL"
      },
      "source": [
        "###Distance Matrix"
      ]
    },
    {
      "cell_type": "code",
      "metadata": {
        "colab": {
          "base_uri": "https://localhost:8080/"
        },
        "id": "7akQ9S3THhq6",
        "outputId": "3618198b-4c06-4f70-9e63-e16fe5d6420c"
      },
      "source": [
        "data1=np.array([[1,2],[3,5],[2,0],[4,5]])\n",
        "data1"
      ],
      "execution_count": 52,
      "outputs": [
        {
          "output_type": "execute_result",
          "data": {
            "text/plain": [
              "array([[1, 2],\n",
              "       [3, 5],\n",
              "       [2, 0],\n",
              "       [4, 5]])"
            ]
          },
          "metadata": {
            "tags": []
          },
          "execution_count": 52
        }
      ]
    },
    {
      "cell_type": "code",
      "metadata": {
        "colab": {
          "base_uri": "https://localhost:8080/",
          "height": 282
        },
        "id": "6jSICdqGHhvo",
        "outputId": "68df9955-6573-43f6-e673-4ec8d9195795"
      },
      "source": [
        "from matplotlib import pyplot as plt\n",
        "plt.plot(data1[:,0],data1[:,1],'o')"
      ],
      "execution_count": 54,
      "outputs": [
        {
          "output_type": "execute_result",
          "data": {
            "text/plain": [
              "[<matplotlib.lines.Line2D at 0x7ff0454df490>]"
            ]
          },
          "metadata": {
            "tags": []
          },
          "execution_count": 54
        },
        {
          "output_type": "display_data",
          "data": {
            "image/png": "[encoded data removed]",
            "text/plain": [
              "<Figure size 432x288 with 1 Axes>"
            ]
          },
          "metadata": {
            "tags": [],
            "needs_background": "light"
          }
        }
      ]
    },
    {
      "cell_type": "markdown",
      "metadata": {
        "id": "AypZtcapIubH"
      },
      "source": [
        "Euclidean distance"
      ]
    },
    {
      "cell_type": "code",
      "metadata": {
        "id": "76MLJktwNhTZ"
      },
      "source": [
        ""
      ],
      "execution_count": null,
      "outputs": []
    },
    {
      "cell_type": "code",
      "metadata": {
        "colab": {
          "base_uri": "https://localhost:8080/"
        },
        "id": "koiIa4geIjF2",
        "outputId": "2cfafc92-becc-4b67-debf-8a8e5f68eb84"
      },
      "source": [
        "dist_p1_p2 = np.sqrt(np.power(data1[0,0]-data1[1,0],2)+np.power(data1[0,1]-data1[1,1],2))\n",
        "dist_p1_p2"
      ],
      "execution_count": 60,
      "outputs": [
        {
          "output_type": "execute_result",
          "data": {
            "text/plain": [
              "3.605551275463989"
            ]
          },
          "metadata": {
            "tags": []
          },
          "execution_count": 60
        }
      ]
    },
    {
      "cell_type": "code",
      "metadata": {
        "colab": {
          "base_uri": "https://localhost:8080/"
        },
        "id": "7FzJ8uAmLc2E",
        "outputId": "4a6a7afc-f232-4fe3-97ff-9f725141d578"
      },
      "source": [
        "data1[0,:]"
      ],
      "execution_count": 61,
      "outputs": [
        {
          "output_type": "execute_result",
          "data": {
            "text/plain": [
              "array([1, 2])"
            ]
          },
          "metadata": {
            "tags": []
          },
          "execution_count": 61
        }
      ]
    },
    {
      "cell_type": "code",
      "metadata": {
        "id": "qM_gQ_SNKYJv"
      },
      "source": [
        "def eud_dist(pt1,pt2): #2 dims\n",
        "    return np.sqrt(np.power(pt1[0]-pt2[0],2)+np.power(pt1[1]-pt2[1],2))"
      ],
      "execution_count": 64,
      "outputs": []
    },
    {
      "cell_type": "code",
      "metadata": {
        "colab": {
          "base_uri": "https://localhost:8080/"
        },
        "id": "2MCbyi29L4pv",
        "outputId": "ae234b3f-10a9-4a0f-ab23-5a7514be03cd"
      },
      "source": [
        "eud_dist(data1[0,:],data1[1,:])"
      ],
      "execution_count": 65,
      "outputs": [
        {
          "output_type": "execute_result",
          "data": {
            "text/plain": [
              "3.605551275463989"
            ]
          },
          "metadata": {
            "tags": []
          },
          "execution_count": 65
        }
      ]
    },
    {
      "cell_type": "code",
      "metadata": {
        "id": "YjYQw_MhMEb-"
      },
      "source": [
        "def eud_dist(pt1,pt2): \n",
        "  sum=0\n",
        "  for i in range(len(pt1)):\n",
        "      sum = sum + np.power(pt1[i]-pt2[i],2)\n",
        "  return np.sqrt(sum)"
      ],
      "execution_count": 66,
      "outputs": []
    },
    {
      "cell_type": "code",
      "metadata": {
        "colab": {
          "base_uri": "https://localhost:8080/"
        },
        "id": "TUE3NBhVM7nG",
        "outputId": "663b0ae8-4780-4013-8bd3-81f6211c5709"
      },
      "source": [
        "eud_dist(data1[1,:],data1[3,:])"
      ],
      "execution_count": 67,
      "outputs": [
        {
          "output_type": "execute_result",
          "data": {
            "text/plain": [
              "1.0"
            ]
          },
          "metadata": {
            "tags": []
          },
          "execution_count": 67
        }
      ]
    },
    {
      "cell_type": "markdown",
      "metadata": {
        "id": "y5oTRKlrOq3U"
      },
      "source": [
        "QuiZ 9"
      ]
    },
    {
      "cell_type": "code",
      "metadata": {
        "id": "8-HfDo12Nd35"
      },
      "source": [
        "def L1(pt1,pt2): #2 dims\n",
        "    return np.absolute(pt1[0]-pt2[0])+np.absolute(pt1[1]-pt2[1])"
      ],
      "execution_count": 72,
      "outputs": []
    },
    {
      "cell_type": "code",
      "metadata": {
        "colab": {
          "base_uri": "https://localhost:8080/"
        },
        "id": "IuL0G7LCPDpg",
        "outputId": "7dfb141c-31d0-4126-e65b-d8e938f6daf1"
      },
      "source": [
        "L1(data1[0,:],data1[1,:])"
      ],
      "execution_count": 74,
      "outputs": [
        {
          "output_type": "execute_result",
          "data": {
            "text/plain": [
              "5"
            ]
          },
          "metadata": {
            "tags": []
          },
          "execution_count": 74
        }
      ]
    }
  ]
}