{
  "nbformat": 4,
  "nbformat_minor": 0,
  "metadata": {
    "colab": {
      "name": "Classification (Decision Tree).ipynb",
      "provenance": [],
      "include_colab_link": true
    },
    "kernelspec": {
      "name": "python3",
      "display_name": "Python 3"
    },
    "language_info": {
      "name": "python"
    }
  },
  "cells": [
    {
      "cell_type": "markdown",
      "metadata": {
        "id": "view-in-github",
        "colab_type": "text"
      },
      "source": [
        "<a href=\"https://colab.research.google.com/github/nicha0524/DPDM2021/blob/main/Classification_(Decision_Tree).ipynb\" target=\"_parent\"><img src=\"https://colab.research.google.com/assets/colab-badge.svg\" alt=\"Open In Colab\"/></a>"
      ]
    },
    {
      "cell_type": "markdown",
      "metadata": {
        "id": "j0XvESJgvr6e"
      },
      "source": [
        "Scikit-learn คือ package ที่รวบรวมอัลกอริทึม ที่เกี่ยวข้องกับ machine learning และ data mining (sklearn)"
      ]
    },
    {
      "cell_type": "markdown",
      "metadata": {
        "id": "LBUEC8Yxv-SO"
      },
      "source": [
        "# Load Data"
      ]
    },
    {
      "cell_type": "code",
      "metadata": {
        "id": "1pxschjYvQ3b"
      },
      "source": [
        "from sklearn import datasets\n",
        "\n",
        "iris_data = datasets.load_iris() #โหลด data 'iris ใน sklearn .ใช้คำสั่ง datasets.load_iris()"
      ],
      "execution_count": 46,
      "outputs": []
    },
    {
      "cell_type": "code",
      "metadata": {
        "colab": {
          "base_uri": "https://localhost:8080/"
        },
        "id": "9U757HvHwbdq",
        "outputId": "1547d9bd-fdd6-457b-d3dc-1fe4fb76a911"
      },
      "source": [
        "iris_data #ข้อมูลความยาว ความกว้างของ กลีบดอก กลีบเลี้ยง ของดอกไอลิส"
      ],
      "execution_count": 47,
      "outputs": [
        {
          "output_type": "execute_result",
          "data": {
            "text/plain": [
              "{'DESCR': '.. _iris_dataset:\\n\\nIris plants dataset\\n--------------------\\n\\n**Data Set Characteristics:**\\n\\n    :Number of Instances: 150 (50 in each of three classes)\\n    :Number of Attributes: 4 numeric, predictive attributes and the class\\n    :Attribute Information:\\n        - sepal length in cm\\n        - sepal width in cm\\n        - petal length in cm\\n        - petal width in cm\\n        - class:\\n                - Iris-Setosa\\n                - Iris-Versicolour\\n                - Iris-Virginica\\n                \\n    :Summary Statistics:\\n\\n    ============== ==== ==== ======= ===== ====================\\n                    Min  Max   Mean    SD   Class Correlation\\n    ============== ==== ==== ======= ===== ====================\\n    sepal length:   4.3  7.9   5.84   0.83    0.7826\\n    sepal width:    2.0  4.4   3.05   0.43   -0.4194\\n    petal length:   1.0  6.9   3.76   1.76    0.9490  (high!)\\n    petal width:    0.1  2.5   1.20   0.76    0.9565  (high!)\\n    ============== ==== ==== ======= ===== ====================\\n\\n    :Missing Attribute Values: None\\n    :Class Distribution: 33.3% for each of 3 classes.\\n    :Creator: R.A. Fisher\\n    :Donor: Michael Marshall (MARSHALL%PLU@io.arc.nasa.gov)\\n    :Date: July, 1988\\n\\nThe famous Iris database, first used by Sir R.A. Fisher. The dataset is taken\\nfrom Fisher\\'s paper. Note that it\\'s the same as in R, but not as in the UCI\\nMachine Learning Repository, which has two wrong data points.\\n\\nThis is perhaps the best known database to be found in the\\npattern recognition literature.  Fisher\\'s paper is a classic in the field and\\nis referenced frequently to this day.  (See Duda & Hart, for example.)  The\\ndata set contains 3 classes of 50 instances each, where each class refers to a\\ntype of iris plant.  One class is linearly separable from the other 2; the\\nlatter are NOT linearly separable from each other.\\n\\n.. topic:: References\\n\\n   - Fisher, R.A. \"The use of multiple measurements in taxonomic problems\"\\n     Annual Eugenics, 7, Part II, 179-188 (1936); also in \"Contributions to\\n     Mathematical Statistics\" (John Wiley, NY, 1950).\\n   - Duda, R.O., & Hart, P.E. (1973) Pattern Classification and Scene Analysis.\\n     (Q327.D83) John Wiley & Sons.  ISBN 0-471-22361-1.  See page 218.\\n   - Dasarathy, B.V. (1980) \"Nosing Around the Neighborhood: A New System\\n     Structure and Classification Rule for Recognition in Partially Exposed\\n     Environments\".  IEEE Transactions on Pattern Analysis and Machine\\n     Intelligence, Vol. PAMI-2, No. 1, 67-71.\\n   - Gates, G.W. (1972) \"The Reduced Nearest Neighbor Rule\".  IEEE Transactions\\n     on Information Theory, May 1972, 431-433.\\n   - See also: 1988 MLC Proceedings, 54-64.  Cheeseman et al\"s AUTOCLASS II\\n     conceptual clustering system finds 3 classes in the data.\\n   - Many, many more ...',\n",
              " 'data': array([[5.1, 3.5, 1.4, 0.2],\n",
              "        [4.9, 3. , 1.4, 0.2],\n",
              "        [4.7, 3.2, 1.3, 0.2],\n",
              "        [4.6, 3.1, 1.5, 0.2],\n",
              "        [5. , 3.6, 1.4, 0.2],\n",
              "        [5.4, 3.9, 1.7, 0.4],\n",
              "        [4.6, 3.4, 1.4, 0.3],\n",
              "        [5. , 3.4, 1.5, 0.2],\n",
              "        [4.4, 2.9, 1.4, 0.2],\n",
              "        [4.9, 3.1, 1.5, 0.1],\n",
              "        [5.4, 3.7, 1.5, 0.2],\n",
              "        [4.8, 3.4, 1.6, 0.2],\n",
              "        [4.8, 3. , 1.4, 0.1],\n",
              "        [4.3, 3. , 1.1, 0.1],\n",
              "        [5.8, 4. , 1.2, 0.2],\n",
              "        [5.7, 4.4, 1.5, 0.4],\n",
              "        [5.4, 3.9, 1.3, 0.4],\n",
              "        [5.1, 3.5, 1.4, 0.3],\n",
              "        [5.7, 3.8, 1.7, 0.3],\n",
              "        [5.1, 3.8, 1.5, 0.3],\n",
              "        [5.4, 3.4, 1.7, 0.2],\n",
              "        [5.1, 3.7, 1.5, 0.4],\n",
              "        [4.6, 3.6, 1. , 0.2],\n",
              "        [5.1, 3.3, 1.7, 0.5],\n",
              "        [4.8, 3.4, 1.9, 0.2],\n",
              "        [5. , 3. , 1.6, 0.2],\n",
              "        [5. , 3.4, 1.6, 0.4],\n",
              "        [5.2, 3.5, 1.5, 0.2],\n",
              "        [5.2, 3.4, 1.4, 0.2],\n",
              "        [4.7, 3.2, 1.6, 0.2],\n",
              "        [4.8, 3.1, 1.6, 0.2],\n",
              "        [5.4, 3.4, 1.5, 0.4],\n",
              "        [5.2, 4.1, 1.5, 0.1],\n",
              "        [5.5, 4.2, 1.4, 0.2],\n",
              "        [4.9, 3.1, 1.5, 0.2],\n",
              "        [5. , 3.2, 1.2, 0.2],\n",
              "        [5.5, 3.5, 1.3, 0.2],\n",
              "        [4.9, 3.6, 1.4, 0.1],\n",
              "        [4.4, 3. , 1.3, 0.2],\n",
              "        [5.1, 3.4, 1.5, 0.2],\n",
              "        [5. , 3.5, 1.3, 0.3],\n",
              "        [4.5, 2.3, 1.3, 0.3],\n",
              "        [4.4, 3.2, 1.3, 0.2],\n",
              "        [5. , 3.5, 1.6, 0.6],\n",
              "        [5.1, 3.8, 1.9, 0.4],\n",
              "        [4.8, 3. , 1.4, 0.3],\n",
              "        [5.1, 3.8, 1.6, 0.2],\n",
              "        [4.6, 3.2, 1.4, 0.2],\n",
              "        [5.3, 3.7, 1.5, 0.2],\n",
              "        [5. , 3.3, 1.4, 0.2],\n",
              "        [7. , 3.2, 4.7, 1.4],\n",
              "        [6.4, 3.2, 4.5, 1.5],\n",
              "        [6.9, 3.1, 4.9, 1.5],\n",
              "        [5.5, 2.3, 4. , 1.3],\n",
              "        [6.5, 2.8, 4.6, 1.5],\n",
              "        [5.7, 2.8, 4.5, 1.3],\n",
              "        [6.3, 3.3, 4.7, 1.6],\n",
              "        [4.9, 2.4, 3.3, 1. ],\n",
              "        [6.6, 2.9, 4.6, 1.3],\n",
              "        [5.2, 2.7, 3.9, 1.4],\n",
              "        [5. , 2. , 3.5, 1. ],\n",
              "        [5.9, 3. , 4.2, 1.5],\n",
              "        [6. , 2.2, 4. , 1. ],\n",
              "        [6.1, 2.9, 4.7, 1.4],\n",
              "        [5.6, 2.9, 3.6, 1.3],\n",
              "        [6.7, 3.1, 4.4, 1.4],\n",
              "        [5.6, 3. , 4.5, 1.5],\n",
              "        [5.8, 2.7, 4.1, 1. ],\n",
              "        [6.2, 2.2, 4.5, 1.5],\n",
              "        [5.6, 2.5, 3.9, 1.1],\n",
              "        [5.9, 3.2, 4.8, 1.8],\n",
              "        [6.1, 2.8, 4. , 1.3],\n",
              "        [6.3, 2.5, 4.9, 1.5],\n",
              "        [6.1, 2.8, 4.7, 1.2],\n",
              "        [6.4, 2.9, 4.3, 1.3],\n",
              "        [6.6, 3. , 4.4, 1.4],\n",
              "        [6.8, 2.8, 4.8, 1.4],\n",
              "        [6.7, 3. , 5. , 1.7],\n",
              "        [6. , 2.9, 4.5, 1.5],\n",
              "        [5.7, 2.6, 3.5, 1. ],\n",
              "        [5.5, 2.4, 3.8, 1.1],\n",
              "        [5.5, 2.4, 3.7, 1. ],\n",
              "        [5.8, 2.7, 3.9, 1.2],\n",
              "        [6. , 2.7, 5.1, 1.6],\n",
              "        [5.4, 3. , 4.5, 1.5],\n",
              "        [6. , 3.4, 4.5, 1.6],\n",
              "        [6.7, 3.1, 4.7, 1.5],\n",
              "        [6.3, 2.3, 4.4, 1.3],\n",
              "        [5.6, 3. , 4.1, 1.3],\n",
              "        [5.5, 2.5, 4. , 1.3],\n",
              "        [5.5, 2.6, 4.4, 1.2],\n",
              "        [6.1, 3. , 4.6, 1.4],\n",
              "        [5.8, 2.6, 4. , 1.2],\n",
              "        [5. , 2.3, 3.3, 1. ],\n",
              "        [5.6, 2.7, 4.2, 1.3],\n",
              "        [5.7, 3. , 4.2, 1.2],\n",
              "        [5.7, 2.9, 4.2, 1.3],\n",
              "        [6.2, 2.9, 4.3, 1.3],\n",
              "        [5.1, 2.5, 3. , 1.1],\n",
              "        [5.7, 2.8, 4.1, 1.3],\n",
              "        [6.3, 3.3, 6. , 2.5],\n",
              "        [5.8, 2.7, 5.1, 1.9],\n",
              "        [7.1, 3. , 5.9, 2.1],\n",
              "        [6.3, 2.9, 5.6, 1.8],\n",
              "        [6.5, 3. , 5.8, 2.2],\n",
              "        [7.6, 3. , 6.6, 2.1],\n",
              "        [4.9, 2.5, 4.5, 1.7],\n",
              "        [7.3, 2.9, 6.3, 1.8],\n",
              "        [6.7, 2.5, 5.8, 1.8],\n",
              "        [7.2, 3.6, 6.1, 2.5],\n",
              "        [6.5, 3.2, 5.1, 2. ],\n",
              "        [6.4, 2.7, 5.3, 1.9],\n",
              "        [6.8, 3. , 5.5, 2.1],\n",
              "        [5.7, 2.5, 5. , 2. ],\n",
              "        [5.8, 2.8, 5.1, 2.4],\n",
              "        [6.4, 3.2, 5.3, 2.3],\n",
              "        [6.5, 3. , 5.5, 1.8],\n",
              "        [7.7, 3.8, 6.7, 2.2],\n",
              "        [7.7, 2.6, 6.9, 2.3],\n",
              "        [6. , 2.2, 5. , 1.5],\n",
              "        [6.9, 3.2, 5.7, 2.3],\n",
              "        [5.6, 2.8, 4.9, 2. ],\n",
              "        [7.7, 2.8, 6.7, 2. ],\n",
              "        [6.3, 2.7, 4.9, 1.8],\n",
              "        [6.7, 3.3, 5.7, 2.1],\n",
              "        [7.2, 3.2, 6. , 1.8],\n",
              "        [6.2, 2.8, 4.8, 1.8],\n",
              "        [6.1, 3. , 4.9, 1.8],\n",
              "        [6.4, 2.8, 5.6, 2.1],\n",
              "        [7.2, 3. , 5.8, 1.6],\n",
              "        [7.4, 2.8, 6.1, 1.9],\n",
              "        [7.9, 3.8, 6.4, 2. ],\n",
              "        [6.4, 2.8, 5.6, 2.2],\n",
              "        [6.3, 2.8, 5.1, 1.5],\n",
              "        [6.1, 2.6, 5.6, 1.4],\n",
              "        [7.7, 3. , 6.1, 2.3],\n",
              "        [6.3, 3.4, 5.6, 2.4],\n",
              "        [6.4, 3.1, 5.5, 1.8],\n",
              "        [6. , 3. , 4.8, 1.8],\n",
              "        [6.9, 3.1, 5.4, 2.1],\n",
              "        [6.7, 3.1, 5.6, 2.4],\n",
              "        [6.9, 3.1, 5.1, 2.3],\n",
              "        [5.8, 2.7, 5.1, 1.9],\n",
              "        [6.8, 3.2, 5.9, 2.3],\n",
              "        [6.7, 3.3, 5.7, 2.5],\n",
              "        [6.7, 3. , 5.2, 2.3],\n",
              "        [6.3, 2.5, 5. , 1.9],\n",
              "        [6.5, 3. , 5.2, 2. ],\n",
              "        [6.2, 3.4, 5.4, 2.3],\n",
              "        [5.9, 3. , 5.1, 1.8]]),\n",
              " 'feature_names': ['sepal length (cm)',\n",
              "  'sepal width (cm)',\n",
              "  'petal length (cm)',\n",
              "  'petal width (cm)'],\n",
              " 'filename': '/usr/local/lib/python3.7/dist-packages/sklearn/datasets/data/iris.csv',\n",
              " 'target': array([0, 0, 0, 0, 0, 0, 0, 0, 0, 0, 0, 0, 0, 0, 0, 0, 0, 0, 0, 0, 0, 0,\n",
              "        0, 0, 0, 0, 0, 0, 0, 0, 0, 0, 0, 0, 0, 0, 0, 0, 0, 0, 0, 0, 0, 0,\n",
              "        0, 0, 0, 0, 0, 0, 1, 1, 1, 1, 1, 1, 1, 1, 1, 1, 1, 1, 1, 1, 1, 1,\n",
              "        1, 1, 1, 1, 1, 1, 1, 1, 1, 1, 1, 1, 1, 1, 1, 1, 1, 1, 1, 1, 1, 1,\n",
              "        1, 1, 1, 1, 1, 1, 1, 1, 1, 1, 1, 1, 2, 2, 2, 2, 2, 2, 2, 2, 2, 2,\n",
              "        2, 2, 2, 2, 2, 2, 2, 2, 2, 2, 2, 2, 2, 2, 2, 2, 2, 2, 2, 2, 2, 2,\n",
              "        2, 2, 2, 2, 2, 2, 2, 2, 2, 2, 2, 2, 2, 2, 2, 2, 2, 2]),\n",
              " 'target_names': array(['setosa', 'versicolor', 'virginica'], dtype='<U10')}"
            ]
          },
          "metadata": {},
          "execution_count": 47
        }
      ]
    },
    {
      "cell_type": "code",
      "metadata": {
        "id": "BYmYIIDCyHxn"
      },
      "source": [
        "X = iris_data['data']\n",
        "Y = iris_data['target'] # target สายพันธุ์ของไอลิส"
      ],
      "execution_count": 48,
      "outputs": []
    },
    {
      "cell_type": "markdown",
      "metadata": {
        "id": "qlPVVtKEv-Mz"
      },
      "source": [
        "# Train Model"
      ]
    },
    {
      "cell_type": "markdown",
      "metadata": {
        "id": "BpHaEEyGxT77"
      },
      "source": [
        "## import"
      ]
    },
    {
      "cell_type": "code",
      "metadata": {
        "id": "nhNT3lygxPkr"
      },
      "source": [
        "from sklearn.tree import DecisionTreeClassifier # import คำสั่งเพื่อใช้สร้างต้นไม้"
      ],
      "execution_count": 49,
      "outputs": []
    },
    {
      "cell_type": "markdown",
      "metadata": {
        "id": "jmtA6w1LxT46"
      },
      "source": [
        "## define"
      ]
    },
    {
      "cell_type": "code",
      "metadata": {
        "id": "OUvE96sDqJZH"
      },
      "source": [
        ""
      ],
      "execution_count": 49,
      "outputs": []
    },
    {
      "cell_type": "code",
      "metadata": {
        "id": "n-uZ5-GYxPbh"
      },
      "source": [
        "mytree = DecisionTreeClassifier()  "
      ],
      "execution_count": 50,
      "outputs": []
    },
    {
      "cell_type": "markdown",
      "metadata": {
        "id": "3D38okMmxT1x"
      },
      "source": [
        "## train"
      ]
    },
    {
      "cell_type": "code",
      "metadata": {
        "colab": {
          "base_uri": "https://localhost:8080/"
        },
        "id": "6kVuF5kYxPVq",
        "outputId": "ab6d26e6-5292-4e11-a3f1-47f8c1b75f81"
      },
      "source": [
        "mytree.fit(X,Y) "
      ],
      "execution_count": 51,
      "outputs": [
        {
          "output_type": "execute_result",
          "data": {
            "text/plain": [
              "DecisionTreeClassifier(ccp_alpha=0.0, class_weight=None, criterion='gini',\n",
              "                       max_depth=None, max_features=None, max_leaf_nodes=None,\n",
              "                       min_impurity_decrease=0.0, min_impurity_split=None,\n",
              "                       min_samples_leaf=1, min_samples_split=2,\n",
              "                       min_weight_fraction_leaf=0.0, presort='deprecated',\n",
              "                       random_state=None, splitter='best')"
            ]
          },
          "metadata": {},
          "execution_count": 51
        }
      ]
    },
    {
      "cell_type": "markdown",
      "metadata": {
        "id": "sqgZkQ_fyVHp"
      },
      "source": [
        "## plot tree"
      ]
    },
    {
      "cell_type": "code",
      "metadata": {
        "id": "evT0Mq-IyUw3"
      },
      "source": [
        "from sklearn.tree import plot_tree"
      ],
      "execution_count": 52,
      "outputs": []
    },
    {
      "cell_type": "code",
      "metadata": {
        "colab": {
          "base_uri": "https://localhost:8080/",
          "height": 248
        },
        "id": "DrBHCXnhyfzY",
        "outputId": "db2a4d34-939b-432a-f2ff-05c0904f3151"
      },
      "source": [
        "plot_tree(mytree); # สร้างแผนภาพต้นไม้"
      ],
      "execution_count": 53,
      "outputs": [
        {
          "output_type": "display_data",
          "data": {
            "image/png": "[encoded data removed]",
            "text/plain": [
              "<Figure size 432x288 with 1 Axes>"
            ]
          },
          "metadata": {
            "needs_background": "light"
          }
        }
      ]
    },
    {
      "cell_type": "code",
      "metadata": {
        "id": "F8183cA3htbJ"
      },
      "source": [
        "import numpy as np"
      ],
      "execution_count": 54,
      "outputs": []
    },
    {
      "cell_type": "code",
      "metadata": {
        "colab": {
          "base_uri": "https://localhost:8080/",
          "height": 34
        },
        "id": "uB63wSOuhxFG",
        "outputId": "57b663d7-a0c0-41e6-fb91-45a98fcb25da"
      },
      "source": [
        "np.random.seed(6)\n",
        "np.random.choice(['kie','oil','nicha'])"
      ],
      "execution_count": 55,
      "outputs": [
        {
          "output_type": "execute_result",
          "data": {
            "application/vnd.google.colaboratory.intrinsic+json": {
              "type": "string"
            },
            "text/plain": [
              "'nicha'"
            ]
          },
          "metadata": {},
          "execution_count": 55
        }
      ]
    },
    {
      "cell_type": "markdown",
      "metadata": {
        "id": "Bt6g9d4wv-Jc"
      },
      "source": [
        "# Evaluation"
      ]
    },
    {
      "cell_type": "markdown",
      "metadata": {
        "id": "1HKYjS3hmibu"
      },
      "source": [
        "# advance tree"
      ]
    },
    {
      "cell_type": "code",
      "metadata": {
        "id": "t1ooORWDmlxy"
      },
      "source": [
        "from sklearn import datasets\n"
      ],
      "execution_count": 56,
      "outputs": []
    },
    {
      "cell_type": "markdown",
      "metadata": {
        "id": "zgPUCXg4-qte"
      },
      "source": [
        "### หา data จาก: https://scikit-learn.org/stable/datasets/toy_dataset.html"
      ]
    },
    {
      "cell_type": "code",
      "metadata": {
        "id": "n8r93g-Qm5vp"
      },
      "source": [
        "mnist_data = datasets.load_digits() #ข้อมูล Optical recognition of handwritten digits dataset"
      ],
      "execution_count": 57,
      "outputs": []
    },
    {
      "cell_type": "code",
      "metadata": {
        "colab": {
          "base_uri": "https://localhost:8080/"
        },
        "id": "Uv4Yyy4NnDYj",
        "outputId": "b12a4927-43f9-4bb6-a4b0-491f5d5f730b"
      },
      "source": [
        "mnist_data "
      ],
      "execution_count": 58,
      "outputs": [
        {
          "output_type": "execute_result",
          "data": {
            "text/plain": [
              "{'DESCR': \".. _digits_dataset:\\n\\nOptical recognition of handwritten digits dataset\\n--------------------------------------------------\\n\\n**Data Set Characteristics:**\\n\\n    :Number of Instances: 5620\\n    :Number of Attributes: 64\\n    :Attribute Information: 8x8 image of integer pixels in the range 0..16.\\n    :Missing Attribute Values: None\\n    :Creator: E. Alpaydin (alpaydin '@' boun.edu.tr)\\n    :Date: July; 1998\\n\\nThis is a copy of the test set of the UCI ML hand-written digits datasets\\nhttps://archive.ics.uci.edu/ml/datasets/Optical+Recognition+of+Handwritten+Digits\\n\\nThe data set contains images of hand-written digits: 10 classes where\\neach class refers to a digit.\\n\\nPreprocessing programs made available by NIST were used to extract\\nnormalized bitmaps of handwritten digits from a preprinted form. From a\\ntotal of 43 people, 30 contributed to the training set and different 13\\nto the test set. 32x32 bitmaps are divided into nonoverlapping blocks of\\n4x4 and the number of on pixels are counted in each block. This generates\\nan input matrix of 8x8 where each element is an integer in the range\\n0..16. This reduces dimensionality and gives invariance to small\\ndistortions.\\n\\nFor info on NIST preprocessing routines, see M. D. Garris, J. L. Blue, G.\\nT. Candela, D. L. Dimmick, J. Geist, P. J. Grother, S. A. Janet, and C.\\nL. Wilson, NIST Form-Based Handprint Recognition System, NISTIR 5469,\\n1994.\\n\\n.. topic:: References\\n\\n  - C. Kaynak (1995) Methods of Combining Multiple Classifiers and Their\\n    Applications to Handwritten Digit Recognition, MSc Thesis, Institute of\\n    Graduate Studies in Science and Engineering, Bogazici University.\\n  - E. Alpaydin, C. Kaynak (1998) Cascading Classifiers, Kybernetika.\\n  - Ken Tang and Ponnuthurai N. Suganthan and Xi Yao and A. Kai Qin.\\n    Linear dimensionalityreduction using relevance weighted LDA. School of\\n    Electrical and Electronic Engineering Nanyang Technological University.\\n    2005.\\n  - Claudio Gentile. A New Approximate Maximal Margin Classification\\n    Algorithm. NIPS. 2000.\",\n",
              " 'data': array([[ 0.,  0.,  5., ...,  0.,  0.,  0.],\n",
              "        [ 0.,  0.,  0., ..., 10.,  0.,  0.],\n",
              "        [ 0.,  0.,  0., ..., 16.,  9.,  0.],\n",
              "        ...,\n",
              "        [ 0.,  0.,  1., ...,  6.,  0.,  0.],\n",
              "        [ 0.,  0.,  2., ..., 12.,  0.,  0.],\n",
              "        [ 0.,  0., 10., ..., 12.,  1.,  0.]]),\n",
              " 'images': array([[[ 0.,  0.,  5., ...,  1.,  0.,  0.],\n",
              "         [ 0.,  0., 13., ..., 15.,  5.,  0.],\n",
              "         [ 0.,  3., 15., ..., 11.,  8.,  0.],\n",
              "         ...,\n",
              "         [ 0.,  4., 11., ..., 12.,  7.,  0.],\n",
              "         [ 0.,  2., 14., ..., 12.,  0.,  0.],\n",
              "         [ 0.,  0.,  6., ...,  0.,  0.,  0.]],\n",
              " \n",
              "        [[ 0.,  0.,  0., ...,  5.,  0.,  0.],\n",
              "         [ 0.,  0.,  0., ...,  9.,  0.,  0.],\n",
              "         [ 0.,  0.,  3., ...,  6.,  0.,  0.],\n",
              "         ...,\n",
              "         [ 0.,  0.,  1., ...,  6.,  0.,  0.],\n",
              "         [ 0.,  0.,  1., ...,  6.,  0.,  0.],\n",
              "         [ 0.,  0.,  0., ..., 10.,  0.,  0.]],\n",
              " \n",
              "        [[ 0.,  0.,  0., ..., 12.,  0.,  0.],\n",
              "         [ 0.,  0.,  3., ..., 14.,  0.,  0.],\n",
              "         [ 0.,  0.,  8., ..., 16.,  0.,  0.],\n",
              "         ...,\n",
              "         [ 0.,  9., 16., ...,  0.,  0.,  0.],\n",
              "         [ 0.,  3., 13., ..., 11.,  5.,  0.],\n",
              "         [ 0.,  0.,  0., ..., 16.,  9.,  0.]],\n",
              " \n",
              "        ...,\n",
              " \n",
              "        [[ 0.,  0.,  1., ...,  1.,  0.,  0.],\n",
              "         [ 0.,  0., 13., ...,  2.,  1.,  0.],\n",
              "         [ 0.,  0., 16., ..., 16.,  5.,  0.],\n",
              "         ...,\n",
              "         [ 0.,  0., 16., ..., 15.,  0.,  0.],\n",
              "         [ 0.,  0., 15., ..., 16.,  0.,  0.],\n",
              "         [ 0.,  0.,  2., ...,  6.,  0.,  0.]],\n",
              " \n",
              "        [[ 0.,  0.,  2., ...,  0.,  0.,  0.],\n",
              "         [ 0.,  0., 14., ..., 15.,  1.,  0.],\n",
              "         [ 0.,  4., 16., ..., 16.,  7.,  0.],\n",
              "         ...,\n",
              "         [ 0.,  0.,  0., ..., 16.,  2.,  0.],\n",
              "         [ 0.,  0.,  4., ..., 16.,  2.,  0.],\n",
              "         [ 0.,  0.,  5., ..., 12.,  0.,  0.]],\n",
              " \n",
              "        [[ 0.,  0., 10., ...,  1.,  0.,  0.],\n",
              "         [ 0.,  2., 16., ...,  1.,  0.,  0.],\n",
              "         [ 0.,  0., 15., ..., 15.,  0.,  0.],\n",
              "         ...,\n",
              "         [ 0.,  4., 16., ..., 16.,  6.,  0.],\n",
              "         [ 0.,  8., 16., ..., 16.,  8.,  0.],\n",
              "         [ 0.,  1.,  8., ..., 12.,  1.,  0.]]]),\n",
              " 'target': array([0, 1, 2, ..., 8, 9, 8]),\n",
              " 'target_names': array([0, 1, 2, 3, 4, 5, 6, 7, 8, 9])}"
            ]
          },
          "metadata": {},
          "execution_count": 58
        }
      ]
    },
    {
      "cell_type": "code",
      "metadata": {
        "colab": {
          "base_uri": "https://localhost:8080/"
        },
        "id": "mDWYUro3nH26",
        "outputId": "a75084fa-4b97-42e8-b688-311e1d55aeeb"
      },
      "source": [
        "x =mnist_data['data'] \n",
        "x.shape    # ดูจำนวนข้อมูล"
      ],
      "execution_count": 59,
      "outputs": [
        {
          "output_type": "execute_result",
          "data": {
            "text/plain": [
              "(1797, 64)"
            ]
          },
          "metadata": {},
          "execution_count": 59
        }
      ]
    },
    {
      "cell_type": "code",
      "metadata": {
        "colab": {
          "base_uri": "https://localhost:8080/"
        },
        "id": "gjOEdId_nxtV",
        "outputId": "8611202b-fbeb-4b70-c397-63fe7279528d"
      },
      "source": [
        "x[0,:]  # ดูข้อมูลแถวแรก"
      ],
      "execution_count": 60,
      "outputs": [
        {
          "output_type": "execute_result",
          "data": {
            "text/plain": [
              "array([ 0.,  0.,  5., 13.,  9.,  1.,  0.,  0.,  0.,  0., 13., 15., 10.,\n",
              "       15.,  5.,  0.,  0.,  3., 15.,  2.,  0., 11.,  8.,  0.,  0.,  4.,\n",
              "       12.,  0.,  0.,  8.,  8.,  0.,  0.,  5.,  8.,  0.,  0.,  9.,  8.,\n",
              "        0.,  0.,  4., 11.,  0.,  1., 12.,  7.,  0.,  0.,  2., 14.,  5.,\n",
              "       10., 12.,  0.,  0.,  0.,  0.,  6., 13., 10.,  0.,  0.,  0.])"
            ]
          },
          "metadata": {},
          "execution_count": 60
        }
      ]
    },
    {
      "cell_type": "code",
      "metadata": {
        "colab": {
          "base_uri": "https://localhost:8080/"
        },
        "id": "aY7vlRKeoAZK",
        "outputId": "1d91c8a2-39ce-42cd-bfb7-68065879baca"
      },
      "source": [
        "np.max(x) # ดูค่าสี 16 คือสีดำสีที่เข้มที่สุด 0 คือสีขาว"
      ],
      "execution_count": 61,
      "outputs": [
        {
          "output_type": "execute_result",
          "data": {
            "text/plain": [
              "16.0"
            ]
          },
          "metadata": {},
          "execution_count": 61
        }
      ]
    },
    {
      "cell_type": "code",
      "metadata": {
        "id": "qeWE9VSnX1xR"
      },
      "source": [
        "from matplotlib import   pyplot as plt\n",
        "import numpy as np\n"
      ],
      "execution_count": 64,
      "outputs": []
    },
    {
      "cell_type": "code",
      "metadata": {
        "colab": {
          "base_uri": "https://localhost:8080/"
        },
        "id": "PGia4Usrnfst",
        "outputId": "2c2f5425-85c0-41d1-e002-85b171c24d79"
      },
      "source": [
        "Y = mnist_data['target']\n",
        "Y.shape "
      ],
      "execution_count": 65,
      "outputs": [
        {
          "output_type": "execute_result",
          "data": {
            "text/plain": [
              "(1797,)"
            ]
          },
          "metadata": {},
          "execution_count": 65
        }
      ]
    },
    {
      "cell_type": "markdown",
      "metadata": {
        "id": "0pXCZGEyokfa"
      },
      "source": [
        "## แบ่ง test เอาไว้วัดผลอย่างเดียว"
      ]
    },
    {
      "cell_type": "code",
      "metadata": {
        "id": "1S8KiUwXnfah"
      },
      "source": [
        "from sklearn.model_selection import train_test_split"
      ],
      "execution_count": 66,
      "outputs": []
    },
    {
      "cell_type": "markdown",
      "metadata": {
        "id": "9RW6ESuPA8Lj"
      },
      "source": [
        "##### วิธีแบ่ง train และ test จาก: https://scikit-learn.org/stable/modules/generated/sklearn.model_selection.train_test_split.html"
      ]
    },
    {
      "cell_type": "markdown",
      "metadata": {
        "id": "UrQP7xSush3_"
      },
      "source": [
        "###### X_train คือข้อมูลสำหรับการสอนโมเดล และ y_train เพื่อให้โมเดลเปรียบเทียบว่าต่างจากผลที่คำนวณแค่ไหน"
      ]
    },
    {
      "cell_type": "code",
      "metadata": {
        "id": "WNfLYnf9shmN"
      },
      "source": [
        ""
      ],
      "execution_count": 66,
      "outputs": []
    },
    {
      "cell_type": "code",
      "metadata": {
        "id": "rgvMIv81oslW"
      },
      "source": [
        "X_train, X_test, y_train, y_test = train_test_split( x, Y, test_size=0.50, random_state=6)"
      ],
      "execution_count": 67,
      "outputs": []
    },
    {
      "cell_type": "code",
      "metadata": {
        "colab": {
          "base_uri": "https://localhost:8080/"
        },
        "id": "ZsaSUUxspOa-",
        "outputId": "3017912e-658e-4a52-e139-e18e68c4a251"
      },
      "source": [
        "X_train[:5,:6]"
      ],
      "execution_count": 68,
      "outputs": [
        {
          "output_type": "execute_result",
          "data": {
            "text/plain": [
              "array([[ 0.,  0.,  8., 15.,  9.,  0.],\n",
              "       [ 0.,  0.,  0.,  9., 11.,  0.],\n",
              "       [ 0.,  1., 12., 16., 16., 16.],\n",
              "       [ 0.,  0., 12., 14.,  6.,  0.],\n",
              "       [ 0.,  0.,  1.,  8.,  8.,  9.]])"
            ]
          },
          "metadata": {},
          "execution_count": 68
        }
      ]
    },
    {
      "cell_type": "markdown",
      "metadata": {
        "id": "XCG_mGyZpdCA"
      },
      "source": [
        "## เริ่มสร้าง model "
      ]
    },
    {
      "cell_type": "markdown",
      "metadata": {
        "id": "fiyR47qmBiwX"
      },
      "source": [
        "\n",
        "    max_depth : กำหนดจำนวนชั้นของต้นไม้\n",
        "    min_ samples_split : จำนวนตัวอย่างขั้นต่ำที่จำเป็นในหารแยกโหนด\n",
        "    min_ samples_leaf : จำนวน observations ขั้นต่ำที่อยู่ใน leaf node\n",
        "    min_weight_fraction_leaf : ถ่วงน้ำหนักว่าให้ความสำคัญกับอันไหนมากกว่า\n",
        "    max_features : สามารถสุ่มหยิบ feature ไปได้มากที่สุดกี่ % \n",
        "    random_state : ค่า seed ที่กำหนดการ random กลุ่มข้อมูล จะเป็นเลขจำนวนเต็ม ถ้ากำหนดเลขเดิม ผลก็เหมือนเดิม\n",
        "    max_leaf_nodes : เป็นการกำหนกว่ามีใบครบกี่ใบแล้วจะหยุดการเจริญเติบโต\n",
        "    min_impurity_decrease : ถ้าข้อมูลยังมีสัดส่วนเท่าเดิมก็จะตัดให้หยุดโต เพราะโตไปมากกว่านี้ก็มีสัดส่วนเท่าเดิม\n"
      ]
    },
    {
      "cell_type": "markdown",
      "metadata": {
        "id": "k37Hk1dXpl2n"
      },
      "source": [
        "1. ใช้ Entropy มี ความสูงไม่เกิน 4 ชั้น (Oil)\n",
        "2. ใช้ Gini และ leaf node ต้องมีจำนวน data ไม่น้อยกว่า 5 (Nicha)\n",
        "3. ใช้ Entropy และ มี จำนวน leaf node ไม่เกิน 15 (Kie)"
      ]
    },
    {
      "cell_type": "markdown",
      "metadata": {
        "id": "aE42vtY6KcZE"
      },
      "source": [
        "### หา validation set\n",
        " "
      ]
    },
    {
      "cell_type": "markdown",
      "metadata": {
        "id": "asej2gQfs4yS"
      },
      "source": [
        "#####ข้อมูลที่ใช้ในการตรวจสอบความแม่นยำของโมเดล ระหว่างการ Train แบ่งข้อมูลเป็น X_train, y_train"
      ]
    },
    {
      "cell_type": "code",
      "metadata": {
        "id": "WV0j3U_gKaog"
      },
      "source": [
        "X_traintrain, X_val, y_traintrain, y_val = train_test_split(X_train, y_train, test_size=0.3, random_state=6) # กำหนดส่วน test 30 %"
      ],
      "execution_count": 69,
      "outputs": []
    },
    {
      "cell_type": "code",
      "metadata": {
        "colab": {
          "base_uri": "https://localhost:8080/"
        },
        "id": "TQ6atSJeTzlb",
        "outputId": "6fa9e6d4-2210-4df1-b932-969cc62a9ce4"
      },
      "source": [
        "X_traintrain[:5,:7]"
      ],
      "execution_count": 70,
      "outputs": [
        {
          "output_type": "execute_result",
          "data": {
            "text/plain": [
              "array([[ 0.,  0.,  9., 16., 10.,  2.,  0.],\n",
              "       [ 0.,  1., 15.,  4.,  0.,  0.,  0.],\n",
              "       [ 0.,  0.,  4., 14., 16., 15.,  1.],\n",
              "       [ 0.,  0.,  3., 11., 14., 12.,  3.],\n",
              "       [ 0.,  0.,  5., 12., 16., 15.,  0.]])"
            ]
          },
          "metadata": {},
          "execution_count": 70
        }
      ]
    },
    {
      "cell_type": "markdown",
      "metadata": {
        "id": "BOMHiUNZKDBd"
      },
      "source": [
        "####Import"
      ]
    },
    {
      "cell_type": "code",
      "metadata": {
        "id": "xFSIOagwKTEO"
      },
      "source": [
        "from sklearn.tree import DecisionTreeClassifier # import คำสั่งเพื่อใช้สร้างต้นไม้"
      ],
      "execution_count": 71,
      "outputs": []
    },
    {
      "cell_type": "markdown",
      "metadata": {
        "id": "Cx0DBPvRKEfC"
      },
      "source": [
        "####Define"
      ]
    },
    {
      "cell_type": "code",
      "metadata": {
        "id": "npU8CX3AKVkN"
      },
      "source": [
        "mytree = DecisionTreeClassifier(criterion='gini',min_samples_leaf=5) # ใช้ Gini และ leaf node ต้องมีจำนวน data ไม่น้อยกว่า 5"
      ],
      "execution_count": 72,
      "outputs": []
    },
    {
      "cell_type": "markdown",
      "metadata": {
        "id": "eWxs7Z4kKIJw"
      },
      "source": [
        "####Train"
      ]
    },
    {
      "cell_type": "code",
      "metadata": {
        "colab": {
          "base_uri": "https://localhost:8080/"
        },
        "id": "qVMoO1xMJt0t",
        "outputId": "11fb1b92-20fc-46b2-d749-f7b42112be93"
      },
      "source": [
        "mytree.fit(X_traintrain,y_traintrain) "
      ],
      "execution_count": 73,
      "outputs": [
        {
          "output_type": "execute_result",
          "data": {
            "text/plain": [
              "DecisionTreeClassifier(ccp_alpha=0.0, class_weight=None, criterion='gini',\n",
              "                       max_depth=None, max_features=None, max_leaf_nodes=None,\n",
              "                       min_impurity_decrease=0.0, min_impurity_split=None,\n",
              "                       min_samples_leaf=5, min_samples_split=2,\n",
              "                       min_weight_fraction_leaf=0.0, presort='deprecated',\n",
              "                       random_state=None, splitter='best')"
            ]
          },
          "metadata": {},
          "execution_count": 73
        }
      ]
    },
    {
      "cell_type": "markdown",
      "metadata": {
        "id": "n-cf2hMcUAfQ"
      },
      "source": [
        "####plot tree"
      ]
    },
    {
      "cell_type": "code",
      "metadata": {
        "id": "gLNkVihWJt8a"
      },
      "source": [
        "from sklearn.tree import plot_tree"
      ],
      "execution_count": 74,
      "outputs": []
    },
    {
      "cell_type": "code",
      "metadata": {
        "colab": {
          "base_uri": "https://localhost:8080/",
          "height": 248
        },
        "id": "lzznxTNmJt5b",
        "outputId": "3bffb327-d806-48f5-945c-0da8ab1cb4dd"
      },
      "source": [
        "plot_tree(mytree); # สร้างแผนภาพต้นไม้"
      ],
      "execution_count": 75,
      "outputs": [
        {
          "output_type": "display_data",
          "data": {
            "image/png": "[encoded data removed]",
            "text/plain": [
              "<Figure size 432x288 with 1 Axes>"
            ]
          },
          "metadata": {
            "needs_background": "light"
          }
        }
      ]
    },
    {
      "cell_type": "code",
      "metadata": {
        "id": "qnxFUBwQSJW0"
      },
      "source": [
        ""
      ],
      "execution_count": 75,
      "outputs": []
    },
    {
      "cell_type": "code",
      "metadata": {
        "id": "Vn-Zuu0ISJU2",
        "outputId": "e60de661-6ae6-45d3-942a-28e91626ebea",
        "colab": {
          "base_uri": "https://localhost:8080/"
        }
      },
      "source": [
        "mytree0 = DecisionTreeClassifier(criterion='gini',max_depth=7,min_samples_split=30,min_samples_leaf=5)\n",
        "mytree0.fit(X_traintrain,y_traintrain) "
      ],
      "execution_count": 76,
      "outputs": [
        {
          "output_type": "execute_result",
          "data": {
            "text/plain": [
              "DecisionTreeClassifier(ccp_alpha=0.0, class_weight=None, criterion='gini',\n",
              "                       max_depth=7, max_features=None, max_leaf_nodes=None,\n",
              "                       min_impurity_decrease=0.0, min_impurity_split=None,\n",
              "                       min_samples_leaf=5, min_samples_split=30,\n",
              "                       min_weight_fraction_leaf=0.0, presort='deprecated',\n",
              "                       random_state=None, splitter='best')"
            ]
          },
          "metadata": {},
          "execution_count": 76
        }
      ]
    },
    {
      "cell_type": "code",
      "metadata": {
        "id": "IJ0TldLoSJQ7",
        "outputId": "05ff8b9a-9e06-462a-e2d1-318fc3359f51",
        "colab": {
          "base_uri": "https://localhost:8080/"
        }
      },
      "source": [
        "mytree1 = DecisionTreeClassifier(criterion='entropy',max_depth=4) \n",
        "mytree1.fit(X_traintrain,y_traintrain) "
      ],
      "execution_count": 77,
      "outputs": [
        {
          "output_type": "execute_result",
          "data": {
            "text/plain": [
              "DecisionTreeClassifier(ccp_alpha=0.0, class_weight=None, criterion='entropy',\n",
              "                       max_depth=4, max_features=None, max_leaf_nodes=None,\n",
              "                       min_impurity_decrease=0.0, min_impurity_split=None,\n",
              "                       min_samples_leaf=1, min_samples_split=2,\n",
              "                       min_weight_fraction_leaf=0.0, presort='deprecated',\n",
              "                       random_state=None, splitter='best')"
            ]
          },
          "metadata": {},
          "execution_count": 77
        }
      ]
    },
    {
      "cell_type": "code",
      "metadata": {
        "id": "-SZfZL00SJPU",
        "outputId": "8993033f-f709-46cb-c4b3-042c7ffd42de",
        "colab": {
          "base_uri": "https://localhost:8080/"
        }
      },
      "source": [
        "mytree2 = DecisionTreeClassifier(criterion='gini',min_samples_leaf=5) \n",
        "mytree2.fit(X_traintrain,y_traintrain) "
      ],
      "execution_count": 78,
      "outputs": [
        {
          "output_type": "execute_result",
          "data": {
            "text/plain": [
              "DecisionTreeClassifier(ccp_alpha=0.0, class_weight=None, criterion='gini',\n",
              "                       max_depth=None, max_features=None, max_leaf_nodes=None,\n",
              "                       min_impurity_decrease=0.0, min_impurity_split=None,\n",
              "                       min_samples_leaf=5, min_samples_split=2,\n",
              "                       min_weight_fraction_leaf=0.0, presort='deprecated',\n",
              "                       random_state=None, splitter='best')"
            ]
          },
          "metadata": {},
          "execution_count": 78
        }
      ]
    },
    {
      "cell_type": "code",
      "metadata": {
        "id": "qYRdICpGSJLt",
        "outputId": "de2d62b4-db4f-4f9f-a03d-158cf26eeaf4",
        "colab": {
          "base_uri": "https://localhost:8080/"
        }
      },
      "source": [
        "mytree3 = DecisionTreeClassifier(criterion='entropy',max_leaf_nodes=15) \n",
        "mytree3.fit(X_traintrain,y_traintrain) "
      ],
      "execution_count": 79,
      "outputs": [
        {
          "output_type": "execute_result",
          "data": {
            "text/plain": [
              "DecisionTreeClassifier(ccp_alpha=0.0, class_weight=None, criterion='entropy',\n",
              "                       max_depth=None, max_features=None, max_leaf_nodes=15,\n",
              "                       min_impurity_decrease=0.0, min_impurity_split=None,\n",
              "                       min_samples_leaf=1, min_samples_split=2,\n",
              "                       min_weight_fraction_leaf=0.0, presort='deprecated',\n",
              "                       random_state=None, splitter='best')"
            ]
          },
          "metadata": {},
          "execution_count": 79
        }
      ]
    },
    {
      "cell_type": "markdown",
      "metadata": {
        "id": "Xnuw6ChGY3zO"
      },
      "source": [
        "#ทดสอบหา model ที่ดีที่สุดด้วย validation set"
      ]
    },
    {
      "cell_type": "code",
      "metadata": {
        "id": "w5TNnjuMSJJ6"
      },
      "source": [
        "t0_result =mytree0.predict(X_val)"
      ],
      "execution_count": 80,
      "outputs": []
    },
    {
      "cell_type": "code",
      "metadata": {
        "id": "Im7ZjLt9SJGZ",
        "outputId": "469672a4-b19a-47dc-a067-58e8cd246d2e",
        "colab": {
          "base_uri": "https://localhost:8080/"
        }
      },
      "source": [
        "t0_result"
      ],
      "execution_count": 81,
      "outputs": [
        {
          "output_type": "execute_result",
          "data": {
            "text/plain": [
              "array([7, 7, 3, 0, 8, 4, 7, 7, 0, 9, 3, 2, 6, 1, 8, 4, 3, 3, 8, 6, 2, 9,\n",
              "       5, 4, 3, 6, 3, 4, 7, 8, 4, 1, 8, 5, 3, 3, 4, 1, 2, 0, 8, 0, 6, 5,\n",
              "       3, 4, 6, 0, 6, 8, 2, 8, 6, 0, 9, 7, 0, 8, 5, 8, 0, 1, 5, 6, 5, 2,\n",
              "       7, 9, 3, 1, 4, 9, 7, 5, 6, 4, 5, 0, 5, 8, 3, 4, 7, 5, 8, 4, 8, 9,\n",
              "       1, 7, 1, 6, 7, 0, 8, 3, 8, 7, 1, 6, 7, 8, 1, 8, 8, 5, 4, 9, 6, 1,\n",
              "       2, 5, 6, 3, 0, 3, 7, 1, 9, 8, 4, 7, 9, 5, 5, 6, 0, 8, 6, 4, 2, 9,\n",
              "       8, 8, 6, 1, 1, 2, 3, 8, 9, 9, 5, 1, 5, 9, 5, 9, 8, 6, 3, 8, 6, 8,\n",
              "       2, 2, 1, 4, 0, 1, 2, 6, 7, 4, 8, 9, 3, 4, 2, 7, 5, 0, 3, 0, 1, 6,\n",
              "       4, 8, 1, 8, 4, 3, 9, 5, 5, 8, 5, 6, 1, 5, 8, 5, 7, 1, 8, 4, 3, 7,\n",
              "       9, 6, 7, 1, 4, 7, 5, 7, 7, 8, 2, 5, 5, 8, 5, 4, 8, 4, 8, 8, 9, 4,\n",
              "       5, 8, 2, 8, 5, 0, 9, 3, 4, 6, 3, 3, 1, 4, 2, 5, 4, 5, 0, 0, 3, 7,\n",
              "       8, 5, 0, 8, 7, 5, 6, 3, 6, 4, 3, 9, 8, 6, 1, 3, 7, 6, 4, 8, 8, 5,\n",
              "       1, 1, 2, 7, 7, 9])"
            ]
          },
          "metadata": {},
          "execution_count": 81
        }
      ]
    },
    {
      "cell_type": "code",
      "metadata": {
        "id": "LYN_TRWxSJEW",
        "outputId": "9555b708-9e44-40c9-e8f8-281512381d5f",
        "colab": {
          "base_uri": "https://localhost:8080/"
        }
      },
      "source": [
        "y_val"
      ],
      "execution_count": 82,
      "outputs": [
        {
          "output_type": "execute_result",
          "data": {
            "text/plain": [
              "array([4, 7, 3, 0, 6, 4, 7, 7, 0, 9, 3, 2, 6, 8, 8, 4, 3, 2, 7, 6, 2, 9,\n",
              "       5, 6, 5, 6, 9, 4, 7, 2, 4, 1, 7, 5, 3, 3, 4, 1, 2, 0, 8, 0, 6, 5,\n",
              "       3, 4, 6, 0, 6, 8, 2, 1, 6, 0, 9, 7, 0, 6, 3, 8, 0, 4, 5, 6, 9, 2,\n",
              "       3, 9, 3, 1, 4, 9, 7, 5, 6, 7, 5, 0, 5, 8, 3, 6, 3, 9, 8, 4, 9, 9,\n",
              "       8, 7, 1, 6, 3, 0, 8, 9, 8, 1, 1, 8, 7, 8, 4, 8, 8, 3, 4, 9, 6, 1,\n",
              "       2, 5, 6, 3, 0, 7, 7, 1, 9, 7, 4, 4, 9, 5, 5, 6, 0, 8, 6, 6, 2, 9,\n",
              "       8, 9, 6, 9, 1, 2, 3, 8, 9, 0, 5, 1, 9, 9, 5, 9, 3, 6, 5, 0, 6, 8,\n",
              "       2, 2, 4, 2, 0, 1, 2, 6, 1, 4, 3, 9, 3, 4, 2, 7, 8, 0, 9, 0, 6, 6,\n",
              "       4, 3, 5, 8, 4, 3, 9, 6, 5, 4, 5, 6, 3, 5, 4, 5, 7, 1, 2, 4, 5, 7,\n",
              "       9, 6, 7, 2, 1, 4, 6, 7, 4, 8, 2, 5, 5, 7, 5, 4, 8, 7, 3, 3, 9, 4,\n",
              "       5, 8, 2, 8, 5, 0, 9, 3, 4, 6, 3, 3, 1, 4, 2, 5, 4, 9, 0, 0, 3, 7,\n",
              "       8, 5, 0, 9, 7, 5, 6, 3, 6, 4, 9, 9, 8, 6, 1, 3, 7, 6, 4, 0, 8, 5,\n",
              "       9, 3, 2, 1, 1, 9])"
            ]
          },
          "metadata": {},
          "execution_count": 82
        }
      ]
    },
    {
      "cell_type": "code",
      "metadata": {
        "id": "THBOAOG6Za3I"
      },
      "source": [
        "from sklearn.metrics import  accuracy_score\n"
      ],
      "execution_count": 83,
      "outputs": []
    },
    {
      "cell_type": "code",
      "metadata": {
        "id": "-M-2SOnUZaq2",
        "outputId": "43906398-5879-4a33-f3c8-4a728c41fca2",
        "colab": {
          "base_uri": "https://localhost:8080/"
        }
      },
      "source": [
        "accuracy_score(y_val,t0_result)"
      ],
      "execution_count": 84,
      "outputs": [
        {
          "output_type": "execute_result",
          "data": {
            "text/plain": [
              "0.737037037037037"
            ]
          },
          "metadata": {},
          "execution_count": 84
        }
      ]
    },
    {
      "cell_type": "code",
      "metadata": {
        "id": "G33Vf6-jcB2K",
        "outputId": "8a5847cb-60af-47b5-d37f-822e2b1880ee",
        "colab": {
          "base_uri": "https://localhost:8080/"
        }
      },
      "source": [
        "t1_result =mytree1.predict(X_val)\n",
        "accuracy_score(y_val,t1_result)"
      ],
      "execution_count": 85,
      "outputs": [
        {
          "output_type": "execute_result",
          "data": {
            "text/plain": [
              "0.6851851851851852"
            ]
          },
          "metadata": {},
          "execution_count": 85
        }
      ]
    },
    {
      "cell_type": "code",
      "metadata": {
        "id": "3WWoLrwGbs-S",
        "outputId": "0dc1cfb6-13b2-44d8-e645-6374fc1ab1b6",
        "colab": {
          "base_uri": "https://localhost:8080/"
        }
      },
      "source": [
        "t2_result =mytree2.predict(X_val)\n",
        "accuracy_score(y_val,t2_result)"
      ],
      "execution_count": 86,
      "outputs": [
        {
          "output_type": "execute_result",
          "data": {
            "text/plain": [
              "0.7666666666666667"
            ]
          },
          "metadata": {},
          "execution_count": 86
        }
      ]
    },
    {
      "cell_type": "code",
      "metadata": {
        "id": "7_GdztHQb3U6",
        "outputId": "63e82aca-365d-4ad3-d61c-8cc778b401a2",
        "colab": {
          "base_uri": "https://localhost:8080/"
        }
      },
      "source": [
        "t3_result =mytree3.predict(X_val)\n",
        "accuracy_score(y_val,t3_result)"
      ],
      "execution_count": 87,
      "outputs": [
        {
          "output_type": "execute_result",
          "data": {
            "text/plain": [
              "0.6962962962962963"
            ]
          },
          "metadata": {},
          "execution_count": 87
        }
      ]
    },
    {
      "cell_type": "code",
      "metadata": {
        "id": "S2U6fvGpb3LT"
      },
      "source": [
        ""
      ],
      "execution_count": 87,
      "outputs": []
    },
    {
      "cell_type": "markdown",
      "metadata": {
        "id": "MQ9mxsAZaNrk"
      },
      "source": [
        "#สร้าง model จริง"
      ]
    },
    {
      "cell_type": "code",
      "metadata": {
        "id": "GJLvkytMaMJO",
        "outputId": "322a7585-f961-4f02-96c0-12d9f9bdc569",
        "colab": {
          "base_uri": "https://localhost:8080/"
        }
      },
      "source": [
        "mytree2Full = DecisionTreeClassifier(criterion='gini',min_samples_leaf=5) \n",
        "mytree2Full.fit(X_traintrain,y_traintrain) "
      ],
      "execution_count": 96,
      "outputs": [
        {
          "output_type": "execute_result",
          "data": {
            "text/plain": [
              "DecisionTreeClassifier(ccp_alpha=0.0, class_weight=None, criterion='gini',\n",
              "                       max_depth=None, max_features=None, max_leaf_nodes=None,\n",
              "                       min_impurity_decrease=0.0, min_impurity_split=None,\n",
              "                       min_samples_leaf=5, min_samples_split=2,\n",
              "                       min_weight_fraction_leaf=0.0, presort='deprecated',\n",
              "                       random_state=None, splitter='best')"
            ]
          },
          "metadata": {},
          "execution_count": 96
        }
      ]
    },
    {
      "cell_type": "code",
      "metadata": {
        "id": "XLTWhqMkanf8"
      },
      "source": [
        "final_result = mytree2Full.predict(X_test)"
      ],
      "execution_count": 97,
      "outputs": []
    },
    {
      "cell_type": "code",
      "metadata": {
        "id": "3zbQZz5hanck",
        "outputId": "a05ba6d9-29a4-43d6-edd3-f1ca024a66bc",
        "colab": {
          "base_uri": "https://localhost:8080/"
        }
      },
      "source": [
        "accuracy_score(y_test,final_result)"
      ],
      "execution_count": 98,
      "outputs": [
        {
          "output_type": "execute_result",
          "data": {
            "text/plain": [
              "0.7397107897664071"
            ]
          },
          "metadata": {},
          "execution_count": 98
        }
      ]
    },
    {
      "cell_type": "markdown",
      "metadata": {
        "id": "TfF2sK89csfr"
      },
      "source": [
        "# 3 Machine learning\n",
        "\n",
        "0. your data & all data in the world\n",
        "1. split data > trian validation\n",
        "2. finding the best model\n",
        "3..evaluate the model"
      ]
    },
    {
      "cell_type": "code",
      "metadata": {
        "id": "40iPfQRKpoUd"
      },
      "source": [
        ""
      ],
      "execution_count": null,
      "outputs": []
    },
    {
      "cell_type": "code",
      "metadata": {
        "id": "JFcc97BUanbJ"
      },
      "source": [
        " from sklearn.naive_bayes import BernoulliNB"
      ],
      "execution_count": 105,
      "outputs": []
    },
    {
      "cell_type": "code",
      "metadata": {
        "id": "c4KWDnkzoN5p"
      },
      "source": [
        "gnb = BernoulliNB()"
      ],
      "execution_count": 106,
      "outputs": []
    },
    {
      "cell_type": "code",
      "metadata": {
        "id": "QUM1XZ-3oOv6"
      },
      "source": [
        " y_pred = gnb.fit(X_train, y_train).predict(X_val)"
      ],
      "execution_count": 107,
      "outputs": []
    },
    {
      "cell_type": "code",
      "metadata": {
        "id": "UqhkQBGpqu5e",
        "outputId": "6e09896b-dba3-4726-e646-b813a4d54d2f",
        "colab": {
          "base_uri": "https://localhost:8080/"
        }
      },
      "source": [
        " y_pred"
      ],
      "execution_count": 109,
      "outputs": [
        {
          "output_type": "execute_result",
          "data": {
            "text/plain": [
              "array([4, 7, 3, 0, 6, 4, 4, 7, 0, 9, 3, 2, 6, 7, 8, 4, 3, 2, 7, 6, 2, 9,\n",
              "       5, 6, 5, 6, 9, 4, 7, 2, 4, 1, 7, 5, 3, 3, 4, 1, 2, 0, 8, 0, 6, 5,\n",
              "       3, 4, 6, 0, 6, 8, 2, 8, 6, 0, 9, 7, 0, 6, 9, 8, 0, 4, 5, 6, 9, 2,\n",
              "       3, 9, 3, 1, 4, 9, 7, 5, 6, 7, 5, 0, 5, 9, 3, 6, 5, 8, 8, 4, 3, 9,\n",
              "       8, 7, 1, 6, 8, 0, 8, 9, 8, 1, 1, 3, 7, 8, 4, 8, 8, 5, 4, 9, 6, 1,\n",
              "       2, 5, 6, 9, 0, 7, 7, 1, 9, 7, 4, 1, 9, 5, 5, 6, 0, 8, 6, 4, 2, 9,\n",
              "       8, 9, 6, 1, 8, 2, 3, 1, 9, 0, 5, 1, 9, 9, 5, 9, 3, 6, 9, 0, 6, 8,\n",
              "       2, 2, 4, 2, 0, 1, 2, 6, 1, 4, 3, 9, 3, 4, 2, 7, 8, 0, 9, 0, 6, 6,\n",
              "       4, 3, 5, 8, 4, 3, 9, 6, 5, 4, 5, 6, 3, 5, 4, 5, 7, 9, 2, 4, 5, 7,\n",
              "       9, 6, 7, 1, 1, 4, 6, 7, 4, 3, 2, 5, 5, 7, 5, 4, 8, 7, 3, 3, 9, 4,\n",
              "       5, 8, 2, 8, 5, 0, 9, 3, 4, 6, 3, 3, 1, 4, 2, 5, 4, 9, 0, 0, 2, 7,\n",
              "       8, 5, 0, 9, 7, 1, 6, 3, 6, 4, 9, 9, 8, 6, 4, 3, 7, 6, 4, 0, 9, 9,\n",
              "       4, 3, 2, 1, 1, 9])"
            ]
          },
          "metadata": {},
          "execution_count": 109
        }
      ]
    },
    {
      "cell_type": "code",
      "metadata": {
        "id": "eCgovQweqzhk",
        "outputId": "92f11c15-79f4-42ee-adee-74738909de7a",
        "colab": {
          "base_uri": "https://localhost:8080/"
        }
      },
      "source": [
        "accuracy_score(y_val, y_pred)"
      ],
      "execution_count": 110,
      "outputs": [
        {
          "output_type": "execute_result",
          "data": {
            "text/plain": [
              "0.9"
            ]
          },
          "metadata": {},
          "execution_count": 110
        }
      ]
    }
  ]
}