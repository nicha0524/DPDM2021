{
  "nbformat": 4,
  "nbformat_minor": 0,
  "metadata": {
    "colab": {
      "name": "Untitled11.ipynb",
      "provenance": [],
      "authorship_tag": "ABX9TyND9nWLElvP4hcAKcbO7zDY",
      "include_colab_link": true
    },
    "kernelspec": {
      "name": "python3",
      "display_name": "Python 3"
    },
    "language_info": {
      "name": "python"
    }
  },
  "cells": [
    {
      "cell_type": "markdown",
      "metadata": {
        "id": "view-in-github",
        "colab_type": "text"
      },
      "source": [
        "<a href=\"https://colab.research.google.com/github/nicha0524/DPDM2021/blob/main/Untitled11.ipynb\" target=\"_parent\"><img src=\"https://colab.research.google.com/assets/colab-badge.svg\" alt=\"Open In Colab\"/></a>"
      ]
    },
    {
      "cell_type": "markdown",
      "metadata": {
        "id": "8gcoHEY_TpUZ"
      },
      "source": [
        "###ขั้นที่ 1 ดึงข้อมูลจาก drive"
      ]
    },
    {
      "cell_type": "code",
      "metadata": {
        "id": "uoXO8Ii8HLXt"
      },
      "source": [
        "import pandas as pd"
      ],
      "execution_count": 127,
      "outputs": []
    },
    {
      "cell_type": "code",
      "metadata": {
        "colab": {
          "base_uri": "https://localhost:8080/"
        },
        "id": "5FZme5DjHN4R",
        "outputId": "97001050-9af8-4a5e-9cdd-7c1bcd671e8d"
      },
      "source": [
        "from google.colab import drive # เชื่อม google drive\n",
        "drive.mount('/content/drive')"
      ],
      "execution_count": 128,
      "outputs": [
        {
          "output_type": "stream",
          "name": "stdout",
          "text": [
            "Drive already mounted at /content/drive; to attempt to forcibly remount, call drive.mount(\"/content/drive\", force_remount=True).\n"
          ]
        }
      ]
    },
    {
      "cell_type": "code",
      "metadata": {
        "id": "TOk2Y1ECHN1P"
      },
      "source": [
        "import os # จัดการไฟล์และ path"
      ],
      "execution_count": 129,
      "outputs": []
    },
    {
      "cell_type": "markdown",
      "metadata": {
        "id": "ubg7J0l7UWHS"
      },
      "source": [
        "##### ตารางที่ 1 Products (ใช้ข้อมูล PRODCATEGORYID)"
      ]
    },
    {
      "cell_type": "code",
      "metadata": {
        "colab": {
          "base_uri": "https://localhost:8080/",
          "height": 1000
        },
        "id": "qNwYyBcZKJCZ",
        "outputId": "1ac368f0-ce2a-46e1-e678-94814ab32606"
      },
      "source": [
        "path = '/content/drive/My Drive/DPDM2021_DATA' #    เรียกข้อมูลจาก drive\n",
        "Products= pd.read_csv(os.path.join(path,'Products.csv')) # read ข้อมูลจาก Excel โดยใช้ คำสั่ง  pd.read_csv\n",
        "Products"
      ],
      "execution_count": 130,
      "outputs": [
        {
          "output_type": "execute_result",
          "data": {
            "text/html": [
              "<div>\n",
              "<style scoped>\n",
              "    .dataframe tbody tr th:only-of-type {\n",
              "        vertical-align: middle;\n",
              "    }\n",
              "\n",
              "    .dataframe tbody tr th {\n",
              "        vertical-align: top;\n",
              "    }\n",
              "\n",
              "    .dataframe thead th {\n",
              "        text-align: right;\n",
              "    }\n",
              "</style>\n",
              "<table border=\"1\" class=\"dataframe\">\n",
              "  <thead>\n",
              "    <tr style=\"text-align: right;\">\n",
              "      <th></th>\n",
              "      <th>PRODUCTID</th>\n",
              "      <th>TYPECODE</th>\n",
              "      <th>PRODCATEGORYID</th>\n",
              "      <th>CREATEDBY</th>\n",
              "      <th>CREATEDAT</th>\n",
              "      <th>CHANGEDBY</th>\n",
              "      <th>CHANGEDAT</th>\n",
              "      <th>SUPPLIER_PARTNERID</th>\n",
              "      <th>TAXTARIFFCODE</th>\n",
              "      <th>QUANTITYUNIT</th>\n",
              "      <th>WEIGHTMEASURE</th>\n",
              "      <th>WEIGHTUNIT</th>\n",
              "      <th>CURRENCY</th>\n",
              "      <th>PRICE</th>\n",
              "    </tr>\n",
              "  </thead>\n",
              "  <tbody>\n",
              "    <tr>\n",
              "      <th>0</th>\n",
              "      <td>RO-1001</td>\n",
              "      <td>PR</td>\n",
              "      <td>RO</td>\n",
              "      <td>9</td>\n",
              "      <td>20181003</td>\n",
              "      <td>9</td>\n",
              "      <td>20181003</td>\n",
              "      <td>100000000</td>\n",
              "      <td>1</td>\n",
              "      <td>EA</td>\n",
              "      <td>7.7</td>\n",
              "      <td>KG</td>\n",
              "      <td>USD</td>\n",
              "      <td>525</td>\n",
              "    </tr>\n",
              "    <tr>\n",
              "      <th>1</th>\n",
              "      <td>RO-1002</td>\n",
              "      <td>PR</td>\n",
              "      <td>RO</td>\n",
              "      <td>9</td>\n",
              "      <td>20181003</td>\n",
              "      <td>9</td>\n",
              "      <td>20181003</td>\n",
              "      <td>100000001</td>\n",
              "      <td>1</td>\n",
              "      <td>EA</td>\n",
              "      <td>8.0</td>\n",
              "      <td>KG</td>\n",
              "      <td>USD</td>\n",
              "      <td>689</td>\n",
              "    </tr>\n",
              "    <tr>\n",
              "      <th>2</th>\n",
              "      <td>RO-1003</td>\n",
              "      <td>PR</td>\n",
              "      <td>RO</td>\n",
              "      <td>12</td>\n",
              "      <td>20181003</td>\n",
              "      <td>12</td>\n",
              "      <td>20181003</td>\n",
              "      <td>100000002</td>\n",
              "      <td>1</td>\n",
              "      <td>EA</td>\n",
              "      <td>9.1</td>\n",
              "      <td>KG</td>\n",
              "      <td>USD</td>\n",
              "      <td>721</td>\n",
              "    </tr>\n",
              "    <tr>\n",
              "      <th>3</th>\n",
              "      <td>BX-1011</td>\n",
              "      <td>PR</td>\n",
              "      <td>BX</td>\n",
              "      <td>9</td>\n",
              "      <td>20181003</td>\n",
              "      <td>9</td>\n",
              "      <td>20181003</td>\n",
              "      <td>100000003</td>\n",
              "      <td>1</td>\n",
              "      <td>EA</td>\n",
              "      <td>11.1</td>\n",
              "      <td>KG</td>\n",
              "      <td>USD</td>\n",
              "      <td>249</td>\n",
              "    </tr>\n",
              "    <tr>\n",
              "      <th>4</th>\n",
              "      <td>BX-1012</td>\n",
              "      <td>PR</td>\n",
              "      <td>BX</td>\n",
              "      <td>6</td>\n",
              "      <td>20181003</td>\n",
              "      <td>6</td>\n",
              "      <td>20181003</td>\n",
              "      <td>100000004</td>\n",
              "      <td>1</td>\n",
              "      <td>EA</td>\n",
              "      <td>12.0</td>\n",
              "      <td>KG</td>\n",
              "      <td>USD</td>\n",
              "      <td>399</td>\n",
              "    </tr>\n",
              "    <tr>\n",
              "      <th>5</th>\n",
              "      <td>BX-1013</td>\n",
              "      <td>PR</td>\n",
              "      <td>BX</td>\n",
              "      <td>7</td>\n",
              "      <td>20181003</td>\n",
              "      <td>7</td>\n",
              "      <td>20181003</td>\n",
              "      <td>100000005</td>\n",
              "      <td>1</td>\n",
              "      <td>EA</td>\n",
              "      <td>13.1</td>\n",
              "      <td>KG</td>\n",
              "      <td>USD</td>\n",
              "      <td>449</td>\n",
              "    </tr>\n",
              "    <tr>\n",
              "      <th>6</th>\n",
              "      <td>BX-1014</td>\n",
              "      <td>PR</td>\n",
              "      <td>BX</td>\n",
              "      <td>11</td>\n",
              "      <td>20181003</td>\n",
              "      <td>11</td>\n",
              "      <td>20181003</td>\n",
              "      <td>100000006</td>\n",
              "      <td>1</td>\n",
              "      <td>EA</td>\n",
              "      <td>11.8</td>\n",
              "      <td>KG</td>\n",
              "      <td>USD</td>\n",
              "      <td>799</td>\n",
              "    </tr>\n",
              "    <tr>\n",
              "      <th>7</th>\n",
              "      <td>BX-1015</td>\n",
              "      <td>PR</td>\n",
              "      <td>BX</td>\n",
              "      <td>8</td>\n",
              "      <td>20181003</td>\n",
              "      <td>8</td>\n",
              "      <td>20181003</td>\n",
              "      <td>100000007</td>\n",
              "      <td>1</td>\n",
              "      <td>EA</td>\n",
              "      <td>12.5</td>\n",
              "      <td>KG</td>\n",
              "      <td>USD</td>\n",
              "      <td>299</td>\n",
              "    </tr>\n",
              "    <tr>\n",
              "      <th>8</th>\n",
              "      <td>BX-1016</td>\n",
              "      <td>PR</td>\n",
              "      <td>BX</td>\n",
              "      <td>11</td>\n",
              "      <td>20181003</td>\n",
              "      <td>11</td>\n",
              "      <td>20181003</td>\n",
              "      <td>100000008</td>\n",
              "      <td>1</td>\n",
              "      <td>EA</td>\n",
              "      <td>12.8</td>\n",
              "      <td>KG</td>\n",
              "      <td>USD</td>\n",
              "      <td>319</td>\n",
              "    </tr>\n",
              "    <tr>\n",
              "      <th>9</th>\n",
              "      <td>CC-1021</td>\n",
              "      <td>PR</td>\n",
              "      <td>CC</td>\n",
              "      <td>10</td>\n",
              "      <td>20181003</td>\n",
              "      <td>10</td>\n",
              "      <td>20181003</td>\n",
              "      <td>100000009</td>\n",
              "      <td>1</td>\n",
              "      <td>EA</td>\n",
              "      <td>8.1</td>\n",
              "      <td>KG</td>\n",
              "      <td>USD</td>\n",
              "      <td>1144</td>\n",
              "    </tr>\n",
              "    <tr>\n",
              "      <th>10</th>\n",
              "      <td>CC-1022</td>\n",
              "      <td>PR</td>\n",
              "      <td>CC</td>\n",
              "      <td>13</td>\n",
              "      <td>20181003</td>\n",
              "      <td>13</td>\n",
              "      <td>20181003</td>\n",
              "      <td>100000010</td>\n",
              "      <td>1</td>\n",
              "      <td>EA</td>\n",
              "      <td>8.0</td>\n",
              "      <td>KG</td>\n",
              "      <td>USD</td>\n",
              "      <td>1200</td>\n",
              "    </tr>\n",
              "    <tr>\n",
              "      <th>11</th>\n",
              "      <td>CC-1023</td>\n",
              "      <td>PR</td>\n",
              "      <td>CC</td>\n",
              "      <td>12</td>\n",
              "      <td>20181003</td>\n",
              "      <td>12</td>\n",
              "      <td>20181003</td>\n",
              "      <td>100000011</td>\n",
              "      <td>1</td>\n",
              "      <td>EA</td>\n",
              "      <td>8.6</td>\n",
              "      <td>KG</td>\n",
              "      <td>USD</td>\n",
              "      <td>1361</td>\n",
              "    </tr>\n",
              "    <tr>\n",
              "      <th>12</th>\n",
              "      <td>MB-1031</td>\n",
              "      <td>PR</td>\n",
              "      <td>MB</td>\n",
              "      <td>12</td>\n",
              "      <td>20181003</td>\n",
              "      <td>12</td>\n",
              "      <td>20181003</td>\n",
              "      <td>100000012</td>\n",
              "      <td>1</td>\n",
              "      <td>EA</td>\n",
              "      <td>12.7</td>\n",
              "      <td>KG</td>\n",
              "      <td>USD</td>\n",
              "      <td>649</td>\n",
              "    </tr>\n",
              "    <tr>\n",
              "      <th>13</th>\n",
              "      <td>MB-1032</td>\n",
              "      <td>PR</td>\n",
              "      <td>MB</td>\n",
              "      <td>2</td>\n",
              "      <td>20181003</td>\n",
              "      <td>2</td>\n",
              "      <td>20181003</td>\n",
              "      <td>100000013</td>\n",
              "      <td>1</td>\n",
              "      <td>EA</td>\n",
              "      <td>12.0</td>\n",
              "      <td>KG</td>\n",
              "      <td>USD</td>\n",
              "      <td>1299</td>\n",
              "    </tr>\n",
              "    <tr>\n",
              "      <th>14</th>\n",
              "      <td>MB-1033</td>\n",
              "      <td>PR</td>\n",
              "      <td>MB</td>\n",
              "      <td>7</td>\n",
              "      <td>20181003</td>\n",
              "      <td>7</td>\n",
              "      <td>20181003</td>\n",
              "      <td>100000014</td>\n",
              "      <td>1</td>\n",
              "      <td>EA</td>\n",
              "      <td>13.1</td>\n",
              "      <td>KG</td>\n",
              "      <td>USD</td>\n",
              "      <td>3999</td>\n",
              "    </tr>\n",
              "    <tr>\n",
              "      <th>15</th>\n",
              "      <td>MB-1034</td>\n",
              "      <td>PR</td>\n",
              "      <td>MB</td>\n",
              "      <td>11</td>\n",
              "      <td>20181003</td>\n",
              "      <td>11</td>\n",
              "      <td>20181003</td>\n",
              "      <td>100000015</td>\n",
              "      <td>1</td>\n",
              "      <td>EA</td>\n",
              "      <td>12.5</td>\n",
              "      <td>KG</td>\n",
              "      <td>USD</td>\n",
              "      <td>2499</td>\n",
              "    </tr>\n",
              "    <tr>\n",
              "      <th>16</th>\n",
              "      <td>RC-1051</td>\n",
              "      <td>PR</td>\n",
              "      <td>RC</td>\n",
              "      <td>1</td>\n",
              "      <td>20181003</td>\n",
              "      <td>1</td>\n",
              "      <td>20181003</td>\n",
              "      <td>100000016</td>\n",
              "      <td>1</td>\n",
              "      <td>EA</td>\n",
              "      <td>7.1</td>\n",
              "      <td>KG</td>\n",
              "      <td>USD</td>\n",
              "      <td>2499</td>\n",
              "    </tr>\n",
              "    <tr>\n",
              "      <th>17</th>\n",
              "      <td>RC-1052</td>\n",
              "      <td>PR</td>\n",
              "      <td>RC</td>\n",
              "      <td>5</td>\n",
              "      <td>20181003</td>\n",
              "      <td>5</td>\n",
              "      <td>20181003</td>\n",
              "      <td>100000017</td>\n",
              "      <td>1</td>\n",
              "      <td>EA</td>\n",
              "      <td>7.5</td>\n",
              "      <td>KG</td>\n",
              "      <td>USD</td>\n",
              "      <td>3999</td>\n",
              "    </tr>\n",
              "    <tr>\n",
              "      <th>18</th>\n",
              "      <td>RC-1053</td>\n",
              "      <td>PR</td>\n",
              "      <td>RC</td>\n",
              "      <td>3</td>\n",
              "      <td>20181003</td>\n",
              "      <td>3</td>\n",
              "      <td>20181003</td>\n",
              "      <td>100000018</td>\n",
              "      <td>1</td>\n",
              "      <td>EA</td>\n",
              "      <td>6.9</td>\n",
              "      <td>KG</td>\n",
              "      <td>USD</td>\n",
              "      <td>4599</td>\n",
              "    </tr>\n",
              "    <tr>\n",
              "      <th>19</th>\n",
              "      <td>RC-1054</td>\n",
              "      <td>PR</td>\n",
              "      <td>RC</td>\n",
              "      <td>14</td>\n",
              "      <td>20181003</td>\n",
              "      <td>14</td>\n",
              "      <td>20181003</td>\n",
              "      <td>100000019</td>\n",
              "      <td>1</td>\n",
              "      <td>EA</td>\n",
              "      <td>7.0</td>\n",
              "      <td>KG</td>\n",
              "      <td>USD</td>\n",
              "      <td>5499</td>\n",
              "    </tr>\n",
              "    <tr>\n",
              "      <th>20</th>\n",
              "      <td>RC-1055</td>\n",
              "      <td>PR</td>\n",
              "      <td>RC</td>\n",
              "      <td>2</td>\n",
              "      <td>20181003</td>\n",
              "      <td>2</td>\n",
              "      <td>20181003</td>\n",
              "      <td>100000020</td>\n",
              "      <td>1</td>\n",
              "      <td>EA</td>\n",
              "      <td>7.2</td>\n",
              "      <td>KG</td>\n",
              "      <td>USD</td>\n",
              "      <td>1999</td>\n",
              "    </tr>\n",
              "    <tr>\n",
              "      <th>21</th>\n",
              "      <td>RC-1056</td>\n",
              "      <td>PR</td>\n",
              "      <td>RC</td>\n",
              "      <td>13</td>\n",
              "      <td>20181003</td>\n",
              "      <td>13</td>\n",
              "      <td>20181003</td>\n",
              "      <td>100000021</td>\n",
              "      <td>1</td>\n",
              "      <td>EA</td>\n",
              "      <td>7.8</td>\n",
              "      <td>KG</td>\n",
              "      <td>USD</td>\n",
              "      <td>2499</td>\n",
              "    </tr>\n",
              "    <tr>\n",
              "      <th>22</th>\n",
              "      <td>RC-1057</td>\n",
              "      <td>PR</td>\n",
              "      <td>RC</td>\n",
              "      <td>12</td>\n",
              "      <td>20181003</td>\n",
              "      <td>12</td>\n",
              "      <td>20181003</td>\n",
              "      <td>100000022</td>\n",
              "      <td>1</td>\n",
              "      <td>EA</td>\n",
              "      <td>7.3</td>\n",
              "      <td>KG</td>\n",
              "      <td>USD</td>\n",
              "      <td>4999</td>\n",
              "    </tr>\n",
              "    <tr>\n",
              "      <th>23</th>\n",
              "      <td>DB-1081</td>\n",
              "      <td>PR</td>\n",
              "      <td>DB</td>\n",
              "      <td>10</td>\n",
              "      <td>20181003</td>\n",
              "      <td>10</td>\n",
              "      <td>20181003</td>\n",
              "      <td>100000023</td>\n",
              "      <td>1</td>\n",
              "      <td>EA</td>\n",
              "      <td>13.6</td>\n",
              "      <td>KG</td>\n",
              "      <td>USD</td>\n",
              "      <td>1499</td>\n",
              "    </tr>\n",
              "    <tr>\n",
              "      <th>24</th>\n",
              "      <td>DB-1082</td>\n",
              "      <td>PR</td>\n",
              "      <td>DB</td>\n",
              "      <td>4</td>\n",
              "      <td>20181003</td>\n",
              "      <td>4</td>\n",
              "      <td>20181003</td>\n",
              "      <td>100000024</td>\n",
              "      <td>1</td>\n",
              "      <td>EA</td>\n",
              "      <td>14.3</td>\n",
              "      <td>KG</td>\n",
              "      <td>USD</td>\n",
              "      <td>1250</td>\n",
              "    </tr>\n",
              "    <tr>\n",
              "      <th>25</th>\n",
              "      <td>DB-1083</td>\n",
              "      <td>PR</td>\n",
              "      <td>DB</td>\n",
              "      <td>6</td>\n",
              "      <td>20181003</td>\n",
              "      <td>6</td>\n",
              "      <td>20181003</td>\n",
              "      <td>100000025</td>\n",
              "      <td>1</td>\n",
              "      <td>EA</td>\n",
              "      <td>15.4</td>\n",
              "      <td>KG</td>\n",
              "      <td>USD</td>\n",
              "      <td>1199</td>\n",
              "    </tr>\n",
              "    <tr>\n",
              "      <th>26</th>\n",
              "      <td>EB-1131</td>\n",
              "      <td>PR</td>\n",
              "      <td>EB</td>\n",
              "      <td>14</td>\n",
              "      <td>20181003</td>\n",
              "      <td>14</td>\n",
              "      <td>20181003</td>\n",
              "      <td>100000026</td>\n",
              "      <td>1</td>\n",
              "      <td>EA</td>\n",
              "      <td>18.1</td>\n",
              "      <td>KG</td>\n",
              "      <td>USD</td>\n",
              "      <td>1500</td>\n",
              "    </tr>\n",
              "    <tr>\n",
              "      <th>27</th>\n",
              "      <td>EB-1132</td>\n",
              "      <td>PR</td>\n",
              "      <td>EB</td>\n",
              "      <td>14</td>\n",
              "      <td>20181003</td>\n",
              "      <td>14</td>\n",
              "      <td>20181003</td>\n",
              "      <td>100000027</td>\n",
              "      <td>1</td>\n",
              "      <td>EA</td>\n",
              "      <td>18.8</td>\n",
              "      <td>KG</td>\n",
              "      <td>USD</td>\n",
              "      <td>1900</td>\n",
              "    </tr>\n",
              "    <tr>\n",
              "      <th>28</th>\n",
              "      <td>EB-1133</td>\n",
              "      <td>PR</td>\n",
              "      <td>EB</td>\n",
              "      <td>5</td>\n",
              "      <td>20181003</td>\n",
              "      <td>5</td>\n",
              "      <td>20181003</td>\n",
              "      <td>100000028</td>\n",
              "      <td>1</td>\n",
              "      <td>EA</td>\n",
              "      <td>21.0</td>\n",
              "      <td>KG</td>\n",
              "      <td>USD</td>\n",
              "      <td>2250</td>\n",
              "    </tr>\n",
              "    <tr>\n",
              "      <th>29</th>\n",
              "      <td>EB-1134</td>\n",
              "      <td>PR</td>\n",
              "      <td>EB</td>\n",
              "      <td>4</td>\n",
              "      <td>20181003</td>\n",
              "      <td>4</td>\n",
              "      <td>20181003</td>\n",
              "      <td>100000029</td>\n",
              "      <td>1</td>\n",
              "      <td>EA</td>\n",
              "      <td>20.1</td>\n",
              "      <td>KG</td>\n",
              "      <td>USD</td>\n",
              "      <td>4800</td>\n",
              "    </tr>\n",
              "    <tr>\n",
              "      <th>30</th>\n",
              "      <td>EB-1135</td>\n",
              "      <td>PR</td>\n",
              "      <td>EB</td>\n",
              "      <td>12</td>\n",
              "      <td>20181003</td>\n",
              "      <td>12</td>\n",
              "      <td>20181003</td>\n",
              "      <td>100000030</td>\n",
              "      <td>1</td>\n",
              "      <td>EA</td>\n",
              "      <td>19.3</td>\n",
              "      <td>KG</td>\n",
              "      <td>USD</td>\n",
              "      <td>3000</td>\n",
              "    </tr>\n",
              "    <tr>\n",
              "      <th>31</th>\n",
              "      <td>EB-1136</td>\n",
              "      <td>PR</td>\n",
              "      <td>EB</td>\n",
              "      <td>7</td>\n",
              "      <td>20181003</td>\n",
              "      <td>7</td>\n",
              "      <td>20181003</td>\n",
              "      <td>100000031</td>\n",
              "      <td>1</td>\n",
              "      <td>EA</td>\n",
              "      <td>20.5</td>\n",
              "      <td>KG</td>\n",
              "      <td>USD</td>\n",
              "      <td>5000</td>\n",
              "    </tr>\n",
              "    <tr>\n",
              "      <th>32</th>\n",
              "      <td>EB-1137</td>\n",
              "      <td>PR</td>\n",
              "      <td>EB</td>\n",
              "      <td>6</td>\n",
              "      <td>20181003</td>\n",
              "      <td>6</td>\n",
              "      <td>20181003</td>\n",
              "      <td>100000032</td>\n",
              "      <td>1</td>\n",
              "      <td>EA</td>\n",
              "      <td>22.0</td>\n",
              "      <td>KG</td>\n",
              "      <td>USD</td>\n",
              "      <td>7900</td>\n",
              "    </tr>\n",
              "    <tr>\n",
              "      <th>33</th>\n",
              "      <td>CB-1161</td>\n",
              "      <td>PR</td>\n",
              "      <td>CB</td>\n",
              "      <td>6</td>\n",
              "      <td>20181003</td>\n",
              "      <td>6</td>\n",
              "      <td>20181003</td>\n",
              "      <td>100000033</td>\n",
              "      <td>1</td>\n",
              "      <td>EA</td>\n",
              "      <td>15.0</td>\n",
              "      <td>KG</td>\n",
              "      <td>USD</td>\n",
              "      <td>399</td>\n",
              "    </tr>\n",
              "    <tr>\n",
              "      <th>34</th>\n",
              "      <td>CB-1162</td>\n",
              "      <td>PR</td>\n",
              "      <td>CB</td>\n",
              "      <td>9</td>\n",
              "      <td>20181003</td>\n",
              "      <td>9</td>\n",
              "      <td>20181003</td>\n",
              "      <td>100000034</td>\n",
              "      <td>1</td>\n",
              "      <td>EA</td>\n",
              "      <td>18.0</td>\n",
              "      <td>KG</td>\n",
              "      <td>USD</td>\n",
              "      <td>400</td>\n",
              "    </tr>\n",
              "    <tr>\n",
              "      <th>35</th>\n",
              "      <td>CB-1163</td>\n",
              "      <td>PR</td>\n",
              "      <td>CB</td>\n",
              "      <td>14</td>\n",
              "      <td>20181003</td>\n",
              "      <td>14</td>\n",
              "      <td>20181003</td>\n",
              "      <td>100000035</td>\n",
              "      <td>1</td>\n",
              "      <td>EA</td>\n",
              "      <td>16.0</td>\n",
              "      <td>KG</td>\n",
              "      <td>USD</td>\n",
              "      <td>288</td>\n",
              "    </tr>\n",
              "    <tr>\n",
              "      <th>36</th>\n",
              "      <td>HB-1171</td>\n",
              "      <td>PR</td>\n",
              "      <td>HB</td>\n",
              "      <td>1</td>\n",
              "      <td>20181003</td>\n",
              "      <td>1</td>\n",
              "      <td>20181003</td>\n",
              "      <td>100000036</td>\n",
              "      <td>1</td>\n",
              "      <td>EA</td>\n",
              "      <td>11.0</td>\n",
              "      <td>KG</td>\n",
              "      <td>USD</td>\n",
              "      <td>699</td>\n",
              "    </tr>\n",
              "    <tr>\n",
              "      <th>37</th>\n",
              "      <td>HB-1172</td>\n",
              "      <td>PR</td>\n",
              "      <td>HB</td>\n",
              "      <td>1</td>\n",
              "      <td>20181003</td>\n",
              "      <td>1</td>\n",
              "      <td>20181003</td>\n",
              "      <td>100000037</td>\n",
              "      <td>1</td>\n",
              "      <td>EA</td>\n",
              "      <td>12.1</td>\n",
              "      <td>KG</td>\n",
              "      <td>USD</td>\n",
              "      <td>799</td>\n",
              "    </tr>\n",
              "    <tr>\n",
              "      <th>38</th>\n",
              "      <td>HB-1173</td>\n",
              "      <td>PR</td>\n",
              "      <td>HB</td>\n",
              "      <td>3</td>\n",
              "      <td>20181003</td>\n",
              "      <td>3</td>\n",
              "      <td>20181003</td>\n",
              "      <td>100000038</td>\n",
              "      <td>1</td>\n",
              "      <td>EA</td>\n",
              "      <td>13.5</td>\n",
              "      <td>KG</td>\n",
              "      <td>USD</td>\n",
              "      <td>649</td>\n",
              "    </tr>\n",
              "    <tr>\n",
              "      <th>39</th>\n",
              "      <td>HB-1174</td>\n",
              "      <td>PR</td>\n",
              "      <td>HB</td>\n",
              "      <td>3</td>\n",
              "      <td>20181003</td>\n",
              "      <td>3</td>\n",
              "      <td>20181003</td>\n",
              "      <td>100000039</td>\n",
              "      <td>1</td>\n",
              "      <td>EA</td>\n",
              "      <td>11.8</td>\n",
              "      <td>KG</td>\n",
              "      <td>USD</td>\n",
              "      <td>379</td>\n",
              "    </tr>\n",
              "    <tr>\n",
              "      <th>40</th>\n",
              "      <td>HB-1175</td>\n",
              "      <td>PR</td>\n",
              "      <td>HB</td>\n",
              "      <td>7</td>\n",
              "      <td>20181003</td>\n",
              "      <td>7</td>\n",
              "      <td>20181003</td>\n",
              "      <td>100000040</td>\n",
              "      <td>1</td>\n",
              "      <td>EA</td>\n",
              "      <td>12.5</td>\n",
              "      <td>KG</td>\n",
              "      <td>USD</td>\n",
              "      <td>899</td>\n",
              "    </tr>\n",
              "    <tr>\n",
              "      <th>41</th>\n",
              "      <td>HB-1176</td>\n",
              "      <td>PR</td>\n",
              "      <td>HB</td>\n",
              "      <td>5</td>\n",
              "      <td>20181003</td>\n",
              "      <td>5</td>\n",
              "      <td>20181003</td>\n",
              "      <td>100000041</td>\n",
              "      <td>1</td>\n",
              "      <td>EA</td>\n",
              "      <td>12.9</td>\n",
              "      <td>KG</td>\n",
              "      <td>USD</td>\n",
              "      <td>1199</td>\n",
              "    </tr>\n",
              "  </tbody>\n",
              "</table>\n",
              "</div>"
            ],
            "text/plain": [
              "   PRODUCTID TYPECODE PRODCATEGORYID  ...  WEIGHTUNIT  CURRENCY  PRICE\n",
              "0    RO-1001       PR             RO  ...          KG       USD    525\n",
              "1    RO-1002       PR             RO  ...          KG       USD    689\n",
              "2    RO-1003       PR             RO  ...          KG       USD    721\n",
              "3    BX-1011       PR             BX  ...          KG       USD    249\n",
              "4    BX-1012       PR             BX  ...          KG       USD    399\n",
              "5    BX-1013       PR             BX  ...          KG       USD    449\n",
              "6    BX-1014       PR             BX  ...          KG       USD    799\n",
              "7    BX-1015       PR             BX  ...          KG       USD    299\n",
              "8    BX-1016       PR             BX  ...          KG       USD    319\n",
              "9    CC-1021       PR             CC  ...          KG       USD   1144\n",
              "10   CC-1022       PR             CC  ...          KG       USD   1200\n",
              "11   CC-1023       PR             CC  ...          KG       USD   1361\n",
              "12   MB-1031       PR             MB  ...          KG       USD    649\n",
              "13   MB-1032       PR             MB  ...          KG       USD   1299\n",
              "14   MB-1033       PR             MB  ...          KG       USD   3999\n",
              "15   MB-1034       PR             MB  ...          KG       USD   2499\n",
              "16   RC-1051       PR             RC  ...          KG       USD   2499\n",
              "17   RC-1052       PR             RC  ...          KG       USD   3999\n",
              "18   RC-1053       PR             RC  ...          KG       USD   4599\n",
              "19   RC-1054       PR             RC  ...          KG       USD   5499\n",
              "20   RC-1055       PR             RC  ...          KG       USD   1999\n",
              "21   RC-1056       PR             RC  ...          KG       USD   2499\n",
              "22   RC-1057       PR             RC  ...          KG       USD   4999\n",
              "23   DB-1081       PR             DB  ...          KG       USD   1499\n",
              "24   DB-1082       PR             DB  ...          KG       USD   1250\n",
              "25   DB-1083       PR             DB  ...          KG       USD   1199\n",
              "26   EB-1131       PR             EB  ...          KG       USD   1500\n",
              "27   EB-1132       PR             EB  ...          KG       USD   1900\n",
              "28   EB-1133       PR             EB  ...          KG       USD   2250\n",
              "29   EB-1134       PR             EB  ...          KG       USD   4800\n",
              "30   EB-1135       PR             EB  ...          KG       USD   3000\n",
              "31   EB-1136       PR             EB  ...          KG       USD   5000\n",
              "32   EB-1137       PR             EB  ...          KG       USD   7900\n",
              "33   CB-1161       PR             CB  ...          KG       USD    399\n",
              "34   CB-1162       PR             CB  ...          KG       USD    400\n",
              "35   CB-1163       PR             CB  ...          KG       USD    288\n",
              "36   HB-1171       PR             HB  ...          KG       USD    699\n",
              "37   HB-1172       PR             HB  ...          KG       USD    799\n",
              "38   HB-1173       PR             HB  ...          KG       USD    649\n",
              "39   HB-1174       PR             HB  ...          KG       USD    379\n",
              "40   HB-1175       PR             HB  ...          KG       USD    899\n",
              "41   HB-1176       PR             HB  ...          KG       USD   1199\n",
              "\n",
              "[42 rows x 14 columns]"
            ]
          },
          "metadata": {},
          "execution_count": 130
        }
      ]
    },
    {
      "cell_type": "markdown",
      "metadata": {
        "id": "7mPcj8VKU1Kj"
      },
      "source": [
        "##### ตารางที่ 2 SalesOrderItems (ใช้ข้อมูล DELIVERYDATE)"
      ]
    },
    {
      "cell_type": "code",
      "metadata": {
        "colab": {
          "base_uri": "https://localhost:8080/",
          "height": 438
        },
        "id": "7m0zaxAIHNzZ",
        "outputId": "83fc4c5a-ac82-42b8-b4c5-d2d59ab83115"
      },
      "source": [
        "path = '/content/drive/My Drive/DPDM2021_DATA' #    เรียกข้อมูลจาก drive\n",
        "SalesOrderItems= pd.read_csv(os.path.join(path,'SalesOrderItems.csv')) # read ข้อมูลจาก Excel โดยใช้ คำสั่ง  pd.read_csv\n",
        "SalesOrderItems"
      ],
      "execution_count": 131,
      "outputs": [
        {
          "output_type": "execute_result",
          "data": {
            "text/html": [
              "<div>\n",
              "<style scoped>\n",
              "    .dataframe tbody tr th:only-of-type {\n",
              "        vertical-align: middle;\n",
              "    }\n",
              "\n",
              "    .dataframe tbody tr th {\n",
              "        vertical-align: top;\n",
              "    }\n",
              "\n",
              "    .dataframe thead th {\n",
              "        text-align: right;\n",
              "    }\n",
              "</style>\n",
              "<table border=\"1\" class=\"dataframe\">\n",
              "  <thead>\n",
              "    <tr style=\"text-align: right;\">\n",
              "      <th></th>\n",
              "      <th>SALESORDERID</th>\n",
              "      <th>SALESORDERITEM</th>\n",
              "      <th>PRODUCTID</th>\n",
              "      <th>NOTEID</th>\n",
              "      <th>CURRENCY</th>\n",
              "      <th>GROSSAMOUNT</th>\n",
              "      <th>NETAMOUNT</th>\n",
              "      <th>TAXAMOUNT</th>\n",
              "      <th>ITEMATPSTATUS</th>\n",
              "      <th>OPITEMPOS</th>\n",
              "      <th>QUANTITY</th>\n",
              "      <th>QUANTITYUNIT</th>\n",
              "      <th>DELIVERYDATE</th>\n",
              "    </tr>\n",
              "  </thead>\n",
              "  <tbody>\n",
              "    <tr>\n",
              "      <th>0</th>\n",
              "      <td>500000000</td>\n",
              "      <td>10</td>\n",
              "      <td>MB-1034</td>\n",
              "      <td></td>\n",
              "      <td>USD</td>\n",
              "      <td>2499</td>\n",
              "      <td>2186.625</td>\n",
              "      <td>312.375</td>\n",
              "      <td>I</td>\n",
              "      <td>NaN</td>\n",
              "      <td>4</td>\n",
              "      <td>EA</td>\n",
              "      <td>20180311</td>\n",
              "    </tr>\n",
              "    <tr>\n",
              "      <th>1</th>\n",
              "      <td>500000000</td>\n",
              "      <td>20</td>\n",
              "      <td>CB-1161</td>\n",
              "      <td></td>\n",
              "      <td>USD</td>\n",
              "      <td>399</td>\n",
              "      <td>349.125</td>\n",
              "      <td>49.875</td>\n",
              "      <td>I</td>\n",
              "      <td>NaN</td>\n",
              "      <td>9</td>\n",
              "      <td>EA</td>\n",
              "      <td>20180311</td>\n",
              "    </tr>\n",
              "    <tr>\n",
              "      <th>2</th>\n",
              "      <td>500000001</td>\n",
              "      <td>10</td>\n",
              "      <td>HB-1175</td>\n",
              "      <td></td>\n",
              "      <td>USD</td>\n",
              "      <td>899</td>\n",
              "      <td>786.625</td>\n",
              "      <td>112.375</td>\n",
              "      <td>I</td>\n",
              "      <td>NaN</td>\n",
              "      <td>2</td>\n",
              "      <td>EA</td>\n",
              "      <td>20180228</td>\n",
              "    </tr>\n",
              "    <tr>\n",
              "      <th>3</th>\n",
              "      <td>500000001</td>\n",
              "      <td>20</td>\n",
              "      <td>RC-1056</td>\n",
              "      <td></td>\n",
              "      <td>USD</td>\n",
              "      <td>2499</td>\n",
              "      <td>2186.625</td>\n",
              "      <td>312.375</td>\n",
              "      <td>I</td>\n",
              "      <td>NaN</td>\n",
              "      <td>2</td>\n",
              "      <td>EA</td>\n",
              "      <td>20180228</td>\n",
              "    </tr>\n",
              "    <tr>\n",
              "      <th>4</th>\n",
              "      <td>500000001</td>\n",
              "      <td>30</td>\n",
              "      <td>CC-1021</td>\n",
              "      <td></td>\n",
              "      <td>USD</td>\n",
              "      <td>1144</td>\n",
              "      <td>1001.000</td>\n",
              "      <td>143.000</td>\n",
              "      <td>I</td>\n",
              "      <td>NaN</td>\n",
              "      <td>3</td>\n",
              "      <td>EA</td>\n",
              "      <td>20180228</td>\n",
              "    </tr>\n",
              "    <tr>\n",
              "      <th>...</th>\n",
              "      <td>...</td>\n",
              "      <td>...</td>\n",
              "      <td>...</td>\n",
              "      <td>...</td>\n",
              "      <td>...</td>\n",
              "      <td>...</td>\n",
              "      <td>...</td>\n",
              "      <td>...</td>\n",
              "      <td>...</td>\n",
              "      <td>...</td>\n",
              "      <td>...</td>\n",
              "      <td>...</td>\n",
              "      <td>...</td>\n",
              "    </tr>\n",
              "    <tr>\n",
              "      <th>1925</th>\n",
              "      <td>500000333</td>\n",
              "      <td>10</td>\n",
              "      <td>MB-1031</td>\n",
              "      <td></td>\n",
              "      <td>USD</td>\n",
              "      <td>649</td>\n",
              "      <td>567.875</td>\n",
              "      <td>81.125</td>\n",
              "      <td>I</td>\n",
              "      <td>NaN</td>\n",
              "      <td>10</td>\n",
              "      <td>EA</td>\n",
              "      <td>20190709</td>\n",
              "    </tr>\n",
              "    <tr>\n",
              "      <th>1926</th>\n",
              "      <td>500000333</td>\n",
              "      <td>20</td>\n",
              "      <td>BX-1013</td>\n",
              "      <td></td>\n",
              "      <td>USD</td>\n",
              "      <td>449</td>\n",
              "      <td>392.875</td>\n",
              "      <td>56.125</td>\n",
              "      <td>I</td>\n",
              "      <td>NaN</td>\n",
              "      <td>3</td>\n",
              "      <td>EA</td>\n",
              "      <td>20190709</td>\n",
              "    </tr>\n",
              "    <tr>\n",
              "      <th>1927</th>\n",
              "      <td>500000333</td>\n",
              "      <td>30</td>\n",
              "      <td>EB-1132</td>\n",
              "      <td></td>\n",
              "      <td>USD</td>\n",
              "      <td>1900</td>\n",
              "      <td>1662.500</td>\n",
              "      <td>237.500</td>\n",
              "      <td>I</td>\n",
              "      <td>NaN</td>\n",
              "      <td>3</td>\n",
              "      <td>EA</td>\n",
              "      <td>20190709</td>\n",
              "    </tr>\n",
              "    <tr>\n",
              "      <th>1928</th>\n",
              "      <td>500000333</td>\n",
              "      <td>40</td>\n",
              "      <td>BX-1011</td>\n",
              "      <td></td>\n",
              "      <td>USD</td>\n",
              "      <td>249</td>\n",
              "      <td>217.875</td>\n",
              "      <td>31.125</td>\n",
              "      <td>I</td>\n",
              "      <td>NaN</td>\n",
              "      <td>5</td>\n",
              "      <td>EA</td>\n",
              "      <td>20190709</td>\n",
              "    </tr>\n",
              "    <tr>\n",
              "      <th>1929</th>\n",
              "      <td>500000333</td>\n",
              "      <td>50</td>\n",
              "      <td>BX-1015</td>\n",
              "      <td></td>\n",
              "      <td>USD</td>\n",
              "      <td>299</td>\n",
              "      <td>261.625</td>\n",
              "      <td>37.375</td>\n",
              "      <td>I</td>\n",
              "      <td>NaN</td>\n",
              "      <td>6</td>\n",
              "      <td>EA</td>\n",
              "      <td>20190709</td>\n",
              "    </tr>\n",
              "  </tbody>\n",
              "</table>\n",
              "<p>1930 rows × 13 columns</p>\n",
              "</div>"
            ],
            "text/plain": [
              "      SALESORDERID  SALESORDERITEM  ... QUANTITYUNIT DELIVERYDATE\n",
              "0        500000000              10  ...           EA     20180311\n",
              "1        500000000              20  ...           EA     20180311\n",
              "2        500000001              10  ...           EA     20180228\n",
              "3        500000001              20  ...           EA     20180228\n",
              "4        500000001              30  ...           EA     20180228\n",
              "...            ...             ...  ...          ...          ...\n",
              "1925     500000333              10  ...           EA     20190709\n",
              "1926     500000333              20  ...           EA     20190709\n",
              "1927     500000333              30  ...           EA     20190709\n",
              "1928     500000333              40  ...           EA     20190709\n",
              "1929     500000333              50  ...           EA     20190709\n",
              "\n",
              "[1930 rows x 13 columns]"
            ]
          },
          "metadata": {},
          "execution_count": 131
        }
      ]
    },
    {
      "cell_type": "markdown",
      "metadata": {
        "id": "eg-b8u3GVMI9"
      },
      "source": [
        "##### ตารางที่ 3 SalesOrders (ใช้ข้อมูล SALESORG)"
      ]
    },
    {
      "cell_type": "code",
      "metadata": {
        "colab": {
          "base_uri": "https://localhost:8080/",
          "height": 438
        },
        "id": "y0VRNnlMHcfP",
        "outputId": "1b5d468d-9a8c-4562-b67d-9e4e08594e6d"
      },
      "source": [
        "path = '/content/drive/My Drive/DPDM2021_DATA' #    เรียกข้อมูลจาก drive\n",
        "SalesOrders= pd.read_csv(os.path.join(path,'SalesOrders.csv')) # read ข้อมูลจาก Excel โดยใช้ คำสั่ง  pd.read_csv\n",
        "SalesOrders"
      ],
      "execution_count": 132,
      "outputs": [
        {
          "output_type": "execute_result",
          "data": {
            "text/html": [
              "<div>\n",
              "<style scoped>\n",
              "    .dataframe tbody tr th:only-of-type {\n",
              "        vertical-align: middle;\n",
              "    }\n",
              "\n",
              "    .dataframe tbody tr th {\n",
              "        vertical-align: top;\n",
              "    }\n",
              "\n",
              "    .dataframe thead th {\n",
              "        text-align: right;\n",
              "    }\n",
              "</style>\n",
              "<table border=\"1\" class=\"dataframe\">\n",
              "  <thead>\n",
              "    <tr style=\"text-align: right;\">\n",
              "      <th></th>\n",
              "      <th>SALESORDERID</th>\n",
              "      <th>CREATEDBY</th>\n",
              "      <th>CREATEDAT</th>\n",
              "      <th>CHANGEDBY</th>\n",
              "      <th>CHANGEDAT</th>\n",
              "      <th>FISCALYEARPERIOD</th>\n",
              "      <th>NOTEID</th>\n",
              "      <th>PARTNERID</th>\n",
              "      <th>SALESORG</th>\n",
              "      <th>CURRENCY</th>\n",
              "      <th>GROSSAMOUNT</th>\n",
              "      <th>NETAMOUNT</th>\n",
              "      <th>TAXAMOUNT</th>\n",
              "    </tr>\n",
              "  </thead>\n",
              "  <tbody>\n",
              "    <tr>\n",
              "      <th>0</th>\n",
              "      <td>500000000</td>\n",
              "      <td>4</td>\n",
              "      <td>20180111</td>\n",
              "      <td>4</td>\n",
              "      <td>20180116</td>\n",
              "      <td>2018001</td>\n",
              "      <td>NaN</td>\n",
              "      <td>100000022</td>\n",
              "      <td>APJ</td>\n",
              "      <td>USD</td>\n",
              "      <td>13587</td>\n",
              "      <td>11888.625</td>\n",
              "      <td>1698.375</td>\n",
              "    </tr>\n",
              "    <tr>\n",
              "      <th>1</th>\n",
              "      <td>500000001</td>\n",
              "      <td>2</td>\n",
              "      <td>20180112</td>\n",
              "      <td>2</td>\n",
              "      <td>20180115</td>\n",
              "      <td>2018001</td>\n",
              "      <td>NaN</td>\n",
              "      <td>100000026</td>\n",
              "      <td>EMEA</td>\n",
              "      <td>USD</td>\n",
              "      <td>12622</td>\n",
              "      <td>11044.250</td>\n",
              "      <td>1577.750</td>\n",
              "    </tr>\n",
              "    <tr>\n",
              "      <th>2</th>\n",
              "      <td>500000002</td>\n",
              "      <td>5</td>\n",
              "      <td>20180115</td>\n",
              "      <td>5</td>\n",
              "      <td>20180120</td>\n",
              "      <td>2018001</td>\n",
              "      <td>NaN</td>\n",
              "      <td>100000018</td>\n",
              "      <td>APJ</td>\n",
              "      <td>USD</td>\n",
              "      <td>45655</td>\n",
              "      <td>39948.125</td>\n",
              "      <td>5706.875</td>\n",
              "    </tr>\n",
              "    <tr>\n",
              "      <th>3</th>\n",
              "      <td>500000003</td>\n",
              "      <td>3</td>\n",
              "      <td>20180115</td>\n",
              "      <td>3</td>\n",
              "      <td>20180120</td>\n",
              "      <td>2018001</td>\n",
              "      <td>NaN</td>\n",
              "      <td>100000009</td>\n",
              "      <td>EMEA</td>\n",
              "      <td>USD</td>\n",
              "      <td>101786</td>\n",
              "      <td>89062.750</td>\n",
              "      <td>12723.250</td>\n",
              "    </tr>\n",
              "    <tr>\n",
              "      <th>4</th>\n",
              "      <td>500000004</td>\n",
              "      <td>8</td>\n",
              "      <td>20180116</td>\n",
              "      <td>8</td>\n",
              "      <td>20180117</td>\n",
              "      <td>2018001</td>\n",
              "      <td>NaN</td>\n",
              "      <td>100000025</td>\n",
              "      <td>EMEA</td>\n",
              "      <td>USD</td>\n",
              "      <td>71684</td>\n",
              "      <td>62723.500</td>\n",
              "      <td>8960.500</td>\n",
              "    </tr>\n",
              "    <tr>\n",
              "      <th>...</th>\n",
              "      <td>...</td>\n",
              "      <td>...</td>\n",
              "      <td>...</td>\n",
              "      <td>...</td>\n",
              "      <td>...</td>\n",
              "      <td>...</td>\n",
              "      <td>...</td>\n",
              "      <td>...</td>\n",
              "      <td>...</td>\n",
              "      <td>...</td>\n",
              "      <td>...</td>\n",
              "      <td>...</td>\n",
              "      <td>...</td>\n",
              "    </tr>\n",
              "    <tr>\n",
              "      <th>329</th>\n",
              "      <td>500000329</td>\n",
              "      <td>7</td>\n",
              "      <td>20190619</td>\n",
              "      <td>7</td>\n",
              "      <td>20190620</td>\n",
              "      <td>2019006</td>\n",
              "      <td>NaN</td>\n",
              "      <td>100000031</td>\n",
              "      <td>AMER</td>\n",
              "      <td>USD</td>\n",
              "      <td>90621</td>\n",
              "      <td>79293.375</td>\n",
              "      <td>11327.625</td>\n",
              "    </tr>\n",
              "    <tr>\n",
              "      <th>330</th>\n",
              "      <td>500000330</td>\n",
              "      <td>11</td>\n",
              "      <td>20190622</td>\n",
              "      <td>11</td>\n",
              "      <td>20190626</td>\n",
              "      <td>2019006</td>\n",
              "      <td>NaN</td>\n",
              "      <td>100000000</td>\n",
              "      <td>AMER</td>\n",
              "      <td>USD</td>\n",
              "      <td>113871</td>\n",
              "      <td>99637.125</td>\n",
              "      <td>14233.875</td>\n",
              "    </tr>\n",
              "    <tr>\n",
              "      <th>331</th>\n",
              "      <td>500000331</td>\n",
              "      <td>3</td>\n",
              "      <td>20190625</td>\n",
              "      <td>3</td>\n",
              "      <td>20190626</td>\n",
              "      <td>2019006</td>\n",
              "      <td>NaN</td>\n",
              "      <td>100000009</td>\n",
              "      <td>EMEA</td>\n",
              "      <td>USD</td>\n",
              "      <td>12693</td>\n",
              "      <td>11106.375</td>\n",
              "      <td>1586.625</td>\n",
              "    </tr>\n",
              "    <tr>\n",
              "      <th>332</th>\n",
              "      <td>500000332</td>\n",
              "      <td>13</td>\n",
              "      <td>20190627</td>\n",
              "      <td>13</td>\n",
              "      <td>20190701</td>\n",
              "      <td>2019006</td>\n",
              "      <td>NaN</td>\n",
              "      <td>100000034</td>\n",
              "      <td>AMER</td>\n",
              "      <td>USD</td>\n",
              "      <td>70528</td>\n",
              "      <td>61712.000</td>\n",
              "      <td>8816.000</td>\n",
              "    </tr>\n",
              "    <tr>\n",
              "      <th>333</th>\n",
              "      <td>500000333</td>\n",
              "      <td>5</td>\n",
              "      <td>20190627</td>\n",
              "      <td>5</td>\n",
              "      <td>20190701</td>\n",
              "      <td>2019006</td>\n",
              "      <td>NaN</td>\n",
              "      <td>100000022</td>\n",
              "      <td>APJ</td>\n",
              "      <td>USD</td>\n",
              "      <td>16576</td>\n",
              "      <td>14504.000</td>\n",
              "      <td>2072.000</td>\n",
              "    </tr>\n",
              "  </tbody>\n",
              "</table>\n",
              "<p>334 rows × 13 columns</p>\n",
              "</div>"
            ],
            "text/plain": [
              "     SALESORDERID  CREATEDBY  CREATEDAT  ...  GROSSAMOUNT  NETAMOUNT  TAXAMOUNT\n",
              "0       500000000          4   20180111  ...        13587  11888.625   1698.375\n",
              "1       500000001          2   20180112  ...        12622  11044.250   1577.750\n",
              "2       500000002          5   20180115  ...        45655  39948.125   5706.875\n",
              "3       500000003          3   20180115  ...       101786  89062.750  12723.250\n",
              "4       500000004          8   20180116  ...        71684  62723.500   8960.500\n",
              "..            ...        ...        ...  ...          ...        ...        ...\n",
              "329     500000329          7   20190619  ...        90621  79293.375  11327.625\n",
              "330     500000330         11   20190622  ...       113871  99637.125  14233.875\n",
              "331     500000331          3   20190625  ...        12693  11106.375   1586.625\n",
              "332     500000332         13   20190627  ...        70528  61712.000   8816.000\n",
              "333     500000333          5   20190627  ...        16576  14504.000   2072.000\n",
              "\n",
              "[334 rows x 13 columns]"
            ]
          },
          "metadata": {},
          "execution_count": 132
        }
      ]
    },
    {
      "cell_type": "markdown",
      "metadata": {
        "id": "yi-VeT0KVckR"
      },
      "source": [
        "###ขั้นที่ 2 เชื่อมตาราง โดยใช้ตาราง SalesOrderItems เป็นตารางหลัก\n"
      ]
    },
    {
      "cell_type": "markdown",
      "metadata": {
        "id": "SrCGSs5kVsVZ"
      },
      "source": [
        "##### เชื่อมตาราง SalesOrderItems และ Products  โดยใช้ PRODUCTID เป็นคีย์ เพื่อ map ข้อมูล PRODCATEGORYID (ชื่อชนิดสินค้า)"
      ]
    },
    {
      "cell_type": "code",
      "metadata": {
        "colab": {
          "base_uri": "https://localhost:8080/",
          "height": 438
        },
        "id": "wxy1kj7OJunA",
        "outputId": "4679625b-7886-40a0-b770-cbddd8c1bbc8"
      },
      "source": [
        "SalesOrderItems['name_product'] = SalesOrderItems['PRODUCTID'].map(Products.set_index('PRODUCTID')['PRODCATEGORYID']) \n",
        "SalesOrderItems"
      ],
      "execution_count": 133,
      "outputs": [
        {
          "output_type": "execute_result",
          "data": {
            "text/html": [
              "<div>\n",
              "<style scoped>\n",
              "    .dataframe tbody tr th:only-of-type {\n",
              "        vertical-align: middle;\n",
              "    }\n",
              "\n",
              "    .dataframe tbody tr th {\n",
              "        vertical-align: top;\n",
              "    }\n",
              "\n",
              "    .dataframe thead th {\n",
              "        text-align: right;\n",
              "    }\n",
              "</style>\n",
              "<table border=\"1\" class=\"dataframe\">\n",
              "  <thead>\n",
              "    <tr style=\"text-align: right;\">\n",
              "      <th></th>\n",
              "      <th>SALESORDERID</th>\n",
              "      <th>SALESORDERITEM</th>\n",
              "      <th>PRODUCTID</th>\n",
              "      <th>NOTEID</th>\n",
              "      <th>CURRENCY</th>\n",
              "      <th>GROSSAMOUNT</th>\n",
              "      <th>NETAMOUNT</th>\n",
              "      <th>TAXAMOUNT</th>\n",
              "      <th>ITEMATPSTATUS</th>\n",
              "      <th>OPITEMPOS</th>\n",
              "      <th>QUANTITY</th>\n",
              "      <th>QUANTITYUNIT</th>\n",
              "      <th>DELIVERYDATE</th>\n",
              "      <th>name_product</th>\n",
              "    </tr>\n",
              "  </thead>\n",
              "  <tbody>\n",
              "    <tr>\n",
              "      <th>0</th>\n",
              "      <td>500000000</td>\n",
              "      <td>10</td>\n",
              "      <td>MB-1034</td>\n",
              "      <td></td>\n",
              "      <td>USD</td>\n",
              "      <td>2499</td>\n",
              "      <td>2186.625</td>\n",
              "      <td>312.375</td>\n",
              "      <td>I</td>\n",
              "      <td>NaN</td>\n",
              "      <td>4</td>\n",
              "      <td>EA</td>\n",
              "      <td>20180311</td>\n",
              "      <td>MB</td>\n",
              "    </tr>\n",
              "    <tr>\n",
              "      <th>1</th>\n",
              "      <td>500000000</td>\n",
              "      <td>20</td>\n",
              "      <td>CB-1161</td>\n",
              "      <td></td>\n",
              "      <td>USD</td>\n",
              "      <td>399</td>\n",
              "      <td>349.125</td>\n",
              "      <td>49.875</td>\n",
              "      <td>I</td>\n",
              "      <td>NaN</td>\n",
              "      <td>9</td>\n",
              "      <td>EA</td>\n",
              "      <td>20180311</td>\n",
              "      <td>CB</td>\n",
              "    </tr>\n",
              "    <tr>\n",
              "      <th>2</th>\n",
              "      <td>500000001</td>\n",
              "      <td>10</td>\n",
              "      <td>HB-1175</td>\n",
              "      <td></td>\n",
              "      <td>USD</td>\n",
              "      <td>899</td>\n",
              "      <td>786.625</td>\n",
              "      <td>112.375</td>\n",
              "      <td>I</td>\n",
              "      <td>NaN</td>\n",
              "      <td>2</td>\n",
              "      <td>EA</td>\n",
              "      <td>20180228</td>\n",
              "      <td>HB</td>\n",
              "    </tr>\n",
              "    <tr>\n",
              "      <th>3</th>\n",
              "      <td>500000001</td>\n",
              "      <td>20</td>\n",
              "      <td>RC-1056</td>\n",
              "      <td></td>\n",
              "      <td>USD</td>\n",
              "      <td>2499</td>\n",
              "      <td>2186.625</td>\n",
              "      <td>312.375</td>\n",
              "      <td>I</td>\n",
              "      <td>NaN</td>\n",
              "      <td>2</td>\n",
              "      <td>EA</td>\n",
              "      <td>20180228</td>\n",
              "      <td>RC</td>\n",
              "    </tr>\n",
              "    <tr>\n",
              "      <th>4</th>\n",
              "      <td>500000001</td>\n",
              "      <td>30</td>\n",
              "      <td>CC-1021</td>\n",
              "      <td></td>\n",
              "      <td>USD</td>\n",
              "      <td>1144</td>\n",
              "      <td>1001.000</td>\n",
              "      <td>143.000</td>\n",
              "      <td>I</td>\n",
              "      <td>NaN</td>\n",
              "      <td>3</td>\n",
              "      <td>EA</td>\n",
              "      <td>20180228</td>\n",
              "      <td>CC</td>\n",
              "    </tr>\n",
              "    <tr>\n",
              "      <th>...</th>\n",
              "      <td>...</td>\n",
              "      <td>...</td>\n",
              "      <td>...</td>\n",
              "      <td>...</td>\n",
              "      <td>...</td>\n",
              "      <td>...</td>\n",
              "      <td>...</td>\n",
              "      <td>...</td>\n",
              "      <td>...</td>\n",
              "      <td>...</td>\n",
              "      <td>...</td>\n",
              "      <td>...</td>\n",
              "      <td>...</td>\n",
              "      <td>...</td>\n",
              "    </tr>\n",
              "    <tr>\n",
              "      <th>1925</th>\n",
              "      <td>500000333</td>\n",
              "      <td>10</td>\n",
              "      <td>MB-1031</td>\n",
              "      <td></td>\n",
              "      <td>USD</td>\n",
              "      <td>649</td>\n",
              "      <td>567.875</td>\n",
              "      <td>81.125</td>\n",
              "      <td>I</td>\n",
              "      <td>NaN</td>\n",
              "      <td>10</td>\n",
              "      <td>EA</td>\n",
              "      <td>20190709</td>\n",
              "      <td>MB</td>\n",
              "    </tr>\n",
              "    <tr>\n",
              "      <th>1926</th>\n",
              "      <td>500000333</td>\n",
              "      <td>20</td>\n",
              "      <td>BX-1013</td>\n",
              "      <td></td>\n",
              "      <td>USD</td>\n",
              "      <td>449</td>\n",
              "      <td>392.875</td>\n",
              "      <td>56.125</td>\n",
              "      <td>I</td>\n",
              "      <td>NaN</td>\n",
              "      <td>3</td>\n",
              "      <td>EA</td>\n",
              "      <td>20190709</td>\n",
              "      <td>BX</td>\n",
              "    </tr>\n",
              "    <tr>\n",
              "      <th>1927</th>\n",
              "      <td>500000333</td>\n",
              "      <td>30</td>\n",
              "      <td>EB-1132</td>\n",
              "      <td></td>\n",
              "      <td>USD</td>\n",
              "      <td>1900</td>\n",
              "      <td>1662.500</td>\n",
              "      <td>237.500</td>\n",
              "      <td>I</td>\n",
              "      <td>NaN</td>\n",
              "      <td>3</td>\n",
              "      <td>EA</td>\n",
              "      <td>20190709</td>\n",
              "      <td>EB</td>\n",
              "    </tr>\n",
              "    <tr>\n",
              "      <th>1928</th>\n",
              "      <td>500000333</td>\n",
              "      <td>40</td>\n",
              "      <td>BX-1011</td>\n",
              "      <td></td>\n",
              "      <td>USD</td>\n",
              "      <td>249</td>\n",
              "      <td>217.875</td>\n",
              "      <td>31.125</td>\n",
              "      <td>I</td>\n",
              "      <td>NaN</td>\n",
              "      <td>5</td>\n",
              "      <td>EA</td>\n",
              "      <td>20190709</td>\n",
              "      <td>BX</td>\n",
              "    </tr>\n",
              "    <tr>\n",
              "      <th>1929</th>\n",
              "      <td>500000333</td>\n",
              "      <td>50</td>\n",
              "      <td>BX-1015</td>\n",
              "      <td></td>\n",
              "      <td>USD</td>\n",
              "      <td>299</td>\n",
              "      <td>261.625</td>\n",
              "      <td>37.375</td>\n",
              "      <td>I</td>\n",
              "      <td>NaN</td>\n",
              "      <td>6</td>\n",
              "      <td>EA</td>\n",
              "      <td>20190709</td>\n",
              "      <td>BX</td>\n",
              "    </tr>\n",
              "  </tbody>\n",
              "</table>\n",
              "<p>1930 rows × 14 columns</p>\n",
              "</div>"
            ],
            "text/plain": [
              "      SALESORDERID  SALESORDERITEM  ... DELIVERYDATE name_product\n",
              "0        500000000              10  ...     20180311           MB\n",
              "1        500000000              20  ...     20180311           CB\n",
              "2        500000001              10  ...     20180228           HB\n",
              "3        500000001              20  ...     20180228           RC\n",
              "4        500000001              30  ...     20180228           CC\n",
              "...            ...             ...  ...          ...          ...\n",
              "1925     500000333              10  ...     20190709           MB\n",
              "1926     500000333              20  ...     20190709           BX\n",
              "1927     500000333              30  ...     20190709           EB\n",
              "1928     500000333              40  ...     20190709           BX\n",
              "1929     500000333              50  ...     20190709           BX\n",
              "\n",
              "[1930 rows x 14 columns]"
            ]
          },
          "metadata": {},
          "execution_count": 133
        }
      ]
    },
    {
      "cell_type": "markdown",
      "metadata": {
        "id": "kIyjT2y3WUOh"
      },
      "source": [
        "##### เชื่อมตาราง SalesOrderItems และ SalesOrders โดยใช้ SALEORDERID เป็นคีย์ เพื่อ map ข้อมูล SALESORG (ทวีปที่ตั้งขององค์กรคู่ค้า (partner))"
      ]
    },
    {
      "cell_type": "code",
      "metadata": {
        "colab": {
          "base_uri": "https://localhost:8080/",
          "height": 438
        },
        "id": "JHli-U8jJuiT",
        "outputId": "17638519-b5cd-42ac-f0d1-375d29021d43"
      },
      "source": [
        "SalesOrderItems['Region'] = SalesOrderItems['SALESORDERID'].map(SalesOrders.set_index('SALESORDERID')['SALESORG']) \n",
        "SalesOrderItems"
      ],
      "execution_count": 134,
      "outputs": [
        {
          "output_type": "execute_result",
          "data": {
            "text/html": [
              "<div>\n",
              "<style scoped>\n",
              "    .dataframe tbody tr th:only-of-type {\n",
              "        vertical-align: middle;\n",
              "    }\n",
              "\n",
              "    .dataframe tbody tr th {\n",
              "        vertical-align: top;\n",
              "    }\n",
              "\n",
              "    .dataframe thead th {\n",
              "        text-align: right;\n",
              "    }\n",
              "</style>\n",
              "<table border=\"1\" class=\"dataframe\">\n",
              "  <thead>\n",
              "    <tr style=\"text-align: right;\">\n",
              "      <th></th>\n",
              "      <th>SALESORDERID</th>\n",
              "      <th>SALESORDERITEM</th>\n",
              "      <th>PRODUCTID</th>\n",
              "      <th>NOTEID</th>\n",
              "      <th>CURRENCY</th>\n",
              "      <th>GROSSAMOUNT</th>\n",
              "      <th>NETAMOUNT</th>\n",
              "      <th>TAXAMOUNT</th>\n",
              "      <th>ITEMATPSTATUS</th>\n",
              "      <th>OPITEMPOS</th>\n",
              "      <th>QUANTITY</th>\n",
              "      <th>QUANTITYUNIT</th>\n",
              "      <th>DELIVERYDATE</th>\n",
              "      <th>name_product</th>\n",
              "      <th>Region</th>\n",
              "    </tr>\n",
              "  </thead>\n",
              "  <tbody>\n",
              "    <tr>\n",
              "      <th>0</th>\n",
              "      <td>500000000</td>\n",
              "      <td>10</td>\n",
              "      <td>MB-1034</td>\n",
              "      <td></td>\n",
              "      <td>USD</td>\n",
              "      <td>2499</td>\n",
              "      <td>2186.625</td>\n",
              "      <td>312.375</td>\n",
              "      <td>I</td>\n",
              "      <td>NaN</td>\n",
              "      <td>4</td>\n",
              "      <td>EA</td>\n",
              "      <td>20180311</td>\n",
              "      <td>MB</td>\n",
              "      <td>APJ</td>\n",
              "    </tr>\n",
              "    <tr>\n",
              "      <th>1</th>\n",
              "      <td>500000000</td>\n",
              "      <td>20</td>\n",
              "      <td>CB-1161</td>\n",
              "      <td></td>\n",
              "      <td>USD</td>\n",
              "      <td>399</td>\n",
              "      <td>349.125</td>\n",
              "      <td>49.875</td>\n",
              "      <td>I</td>\n",
              "      <td>NaN</td>\n",
              "      <td>9</td>\n",
              "      <td>EA</td>\n",
              "      <td>20180311</td>\n",
              "      <td>CB</td>\n",
              "      <td>APJ</td>\n",
              "    </tr>\n",
              "    <tr>\n",
              "      <th>2</th>\n",
              "      <td>500000001</td>\n",
              "      <td>10</td>\n",
              "      <td>HB-1175</td>\n",
              "      <td></td>\n",
              "      <td>USD</td>\n",
              "      <td>899</td>\n",
              "      <td>786.625</td>\n",
              "      <td>112.375</td>\n",
              "      <td>I</td>\n",
              "      <td>NaN</td>\n",
              "      <td>2</td>\n",
              "      <td>EA</td>\n",
              "      <td>20180228</td>\n",
              "      <td>HB</td>\n",
              "      <td>EMEA</td>\n",
              "    </tr>\n",
              "    <tr>\n",
              "      <th>3</th>\n",
              "      <td>500000001</td>\n",
              "      <td>20</td>\n",
              "      <td>RC-1056</td>\n",
              "      <td></td>\n",
              "      <td>USD</td>\n",
              "      <td>2499</td>\n",
              "      <td>2186.625</td>\n",
              "      <td>312.375</td>\n",
              "      <td>I</td>\n",
              "      <td>NaN</td>\n",
              "      <td>2</td>\n",
              "      <td>EA</td>\n",
              "      <td>20180228</td>\n",
              "      <td>RC</td>\n",
              "      <td>EMEA</td>\n",
              "    </tr>\n",
              "    <tr>\n",
              "      <th>4</th>\n",
              "      <td>500000001</td>\n",
              "      <td>30</td>\n",
              "      <td>CC-1021</td>\n",
              "      <td></td>\n",
              "      <td>USD</td>\n",
              "      <td>1144</td>\n",
              "      <td>1001.000</td>\n",
              "      <td>143.000</td>\n",
              "      <td>I</td>\n",
              "      <td>NaN</td>\n",
              "      <td>3</td>\n",
              "      <td>EA</td>\n",
              "      <td>20180228</td>\n",
              "      <td>CC</td>\n",
              "      <td>EMEA</td>\n",
              "    </tr>\n",
              "    <tr>\n",
              "      <th>...</th>\n",
              "      <td>...</td>\n",
              "      <td>...</td>\n",
              "      <td>...</td>\n",
              "      <td>...</td>\n",
              "      <td>...</td>\n",
              "      <td>...</td>\n",
              "      <td>...</td>\n",
              "      <td>...</td>\n",
              "      <td>...</td>\n",
              "      <td>...</td>\n",
              "      <td>...</td>\n",
              "      <td>...</td>\n",
              "      <td>...</td>\n",
              "      <td>...</td>\n",
              "      <td>...</td>\n",
              "    </tr>\n",
              "    <tr>\n",
              "      <th>1925</th>\n",
              "      <td>500000333</td>\n",
              "      <td>10</td>\n",
              "      <td>MB-1031</td>\n",
              "      <td></td>\n",
              "      <td>USD</td>\n",
              "      <td>649</td>\n",
              "      <td>567.875</td>\n",
              "      <td>81.125</td>\n",
              "      <td>I</td>\n",
              "      <td>NaN</td>\n",
              "      <td>10</td>\n",
              "      <td>EA</td>\n",
              "      <td>20190709</td>\n",
              "      <td>MB</td>\n",
              "      <td>APJ</td>\n",
              "    </tr>\n",
              "    <tr>\n",
              "      <th>1926</th>\n",
              "      <td>500000333</td>\n",
              "      <td>20</td>\n",
              "      <td>BX-1013</td>\n",
              "      <td></td>\n",
              "      <td>USD</td>\n",
              "      <td>449</td>\n",
              "      <td>392.875</td>\n",
              "      <td>56.125</td>\n",
              "      <td>I</td>\n",
              "      <td>NaN</td>\n",
              "      <td>3</td>\n",
              "      <td>EA</td>\n",
              "      <td>20190709</td>\n",
              "      <td>BX</td>\n",
              "      <td>APJ</td>\n",
              "    </tr>\n",
              "    <tr>\n",
              "      <th>1927</th>\n",
              "      <td>500000333</td>\n",
              "      <td>30</td>\n",
              "      <td>EB-1132</td>\n",
              "      <td></td>\n",
              "      <td>USD</td>\n",
              "      <td>1900</td>\n",
              "      <td>1662.500</td>\n",
              "      <td>237.500</td>\n",
              "      <td>I</td>\n",
              "      <td>NaN</td>\n",
              "      <td>3</td>\n",
              "      <td>EA</td>\n",
              "      <td>20190709</td>\n",
              "      <td>EB</td>\n",
              "      <td>APJ</td>\n",
              "    </tr>\n",
              "    <tr>\n",
              "      <th>1928</th>\n",
              "      <td>500000333</td>\n",
              "      <td>40</td>\n",
              "      <td>BX-1011</td>\n",
              "      <td></td>\n",
              "      <td>USD</td>\n",
              "      <td>249</td>\n",
              "      <td>217.875</td>\n",
              "      <td>31.125</td>\n",
              "      <td>I</td>\n",
              "      <td>NaN</td>\n",
              "      <td>5</td>\n",
              "      <td>EA</td>\n",
              "      <td>20190709</td>\n",
              "      <td>BX</td>\n",
              "      <td>APJ</td>\n",
              "    </tr>\n",
              "    <tr>\n",
              "      <th>1929</th>\n",
              "      <td>500000333</td>\n",
              "      <td>50</td>\n",
              "      <td>BX-1015</td>\n",
              "      <td></td>\n",
              "      <td>USD</td>\n",
              "      <td>299</td>\n",
              "      <td>261.625</td>\n",
              "      <td>37.375</td>\n",
              "      <td>I</td>\n",
              "      <td>NaN</td>\n",
              "      <td>6</td>\n",
              "      <td>EA</td>\n",
              "      <td>20190709</td>\n",
              "      <td>BX</td>\n",
              "      <td>APJ</td>\n",
              "    </tr>\n",
              "  </tbody>\n",
              "</table>\n",
              "<p>1930 rows × 15 columns</p>\n",
              "</div>"
            ],
            "text/plain": [
              "      SALESORDERID  SALESORDERITEM PRODUCTID  ... DELIVERYDATE name_product  Region\n",
              "0        500000000              10   MB-1034  ...     20180311           MB     APJ\n",
              "1        500000000              20   CB-1161  ...     20180311           CB     APJ\n",
              "2        500000001              10   HB-1175  ...     20180228           HB    EMEA\n",
              "3        500000001              20   RC-1056  ...     20180228           RC    EMEA\n",
              "4        500000001              30   CC-1021  ...     20180228           CC    EMEA\n",
              "...            ...             ...       ...  ...          ...          ...     ...\n",
              "1925     500000333              10   MB-1031  ...     20190709           MB     APJ\n",
              "1926     500000333              20   BX-1013  ...     20190709           BX     APJ\n",
              "1927     500000333              30   EB-1132  ...     20190709           EB     APJ\n",
              "1928     500000333              40   BX-1011  ...     20190709           BX     APJ\n",
              "1929     500000333              50   BX-1015  ...     20190709           BX     APJ\n",
              "\n",
              "[1930 rows x 15 columns]"
            ]
          },
          "metadata": {},
          "execution_count": 134
        }
      ]
    },
    {
      "cell_type": "markdown",
      "metadata": {
        "id": "81DZz-aElO16"
      },
      "source": [
        "#####แปลงข้อมูล ทวีปเป็นตัวเลข"
      ]
    },
    {
      "cell_type": "code",
      "metadata": {
        "id": "eT-jdjQ3lVfP"
      },
      "source": [
        " dw_mapping={'APJ':1, 'EMEA':2, 'AMER':3}\n",
        "Sale['Name_Region']=Sale['Region'].map(dw_mapping)"
      ],
      "execution_count": 135,
      "outputs": []
    },
    {
      "cell_type": "markdown",
      "metadata": {
        "id": "seIM9YccXqxk"
      },
      "source": [
        "###ขั้นตอนที่ 3 จัดการข้อมูลวันที่"
      ]
    },
    {
      "cell_type": "code",
      "metadata": {
        "colab": {
          "base_uri": "https://localhost:8080/"
        },
        "id": "tp4sS9kTYWz7",
        "outputId": "5f31adc7-937e-4ba6-9cd0-bbea84f9315f"
      },
      "source": [
        "set(SalesOrderItems['DELIVERYDATE']) #ดูว่ามีวันแปลกๆหรือไม่"
      ],
      "execution_count": 136,
      "outputs": [
        {
          "output_type": "execute_result",
          "data": {
            "text/plain": [
              "{20180223,\n",
              " 20180225,\n",
              " 20180228,\n",
              " 20180301,\n",
              " 20180305,\n",
              " 20180307,\n",
              " 20180308,\n",
              " 20180309,\n",
              " 20180311,\n",
              " 20180314,\n",
              " 20180315,\n",
              " 20180317,\n",
              " 20180321,\n",
              " 20180322,\n",
              " 20180323,\n",
              " 20180325,\n",
              " 20180328,\n",
              " 20180330,\n",
              " 20180401,\n",
              " 20180402,\n",
              " 20180403,\n",
              " 20180408,\n",
              " 20180411,\n",
              " 20180412,\n",
              " 20180414,\n",
              " 20180419,\n",
              " 20180420,\n",
              " 20180421,\n",
              " 20180424,\n",
              " 20180425,\n",
              " 20180429,\n",
              " 20180430,\n",
              " 20180501,\n",
              " 20180503,\n",
              " 20180504,\n",
              " 20180505,\n",
              " 20180507,\n",
              " 20180508,\n",
              " 20180511,\n",
              " 20180512,\n",
              " 20180518,\n",
              " 20180527,\n",
              " 20180528,\n",
              " 20180529,\n",
              " 20180530,\n",
              " 20180531,\n",
              " 20180601,\n",
              " 20180604,\n",
              " 20180606,\n",
              " 20180608,\n",
              " 20180612,\n",
              " 20180617,\n",
              " 20180618,\n",
              " 20180620,\n",
              " 20180621,\n",
              " 20180622,\n",
              " 20180627,\n",
              " 20180701,\n",
              " 20180703,\n",
              " 20180706,\n",
              " 20180708,\n",
              " 20180709,\n",
              " 20180712,\n",
              " 20180713,\n",
              " 20180715,\n",
              " 20180716,\n",
              " 20180718,\n",
              " 20180719,\n",
              " 20180720,\n",
              " 20180721,\n",
              " 20180729,\n",
              " 20180730,\n",
              " 20180731,\n",
              " 20180801,\n",
              " 20180803,\n",
              " 20180806,\n",
              " 20180807,\n",
              " 20180808,\n",
              " 20180809,\n",
              " 20180810,\n",
              " 20180811,\n",
              " 20180820,\n",
              " 20180822,\n",
              " 20180823,\n",
              " 20180824,\n",
              " 20180828,\n",
              " 20180829,\n",
              " 20180902,\n",
              " 20180903,\n",
              " 20180906,\n",
              " 20180908,\n",
              " 20180909,\n",
              " 20180911,\n",
              " 20180913,\n",
              " 20180914,\n",
              " 20180917,\n",
              " 20180920,\n",
              " 20180921,\n",
              " 20180926,\n",
              " 20180927,\n",
              " 20180930,\n",
              " 20181004,\n",
              " 20181006,\n",
              " 20181007,\n",
              " 20181009,\n",
              " 20181010,\n",
              " 20181013,\n",
              " 20181014,\n",
              " 20181015,\n",
              " 20181016,\n",
              " 20181017,\n",
              " 20181020,\n",
              " 20181023,\n",
              " 20181026,\n",
              " 20181028,\n",
              " 20181031,\n",
              " 20181103,\n",
              " 20181106,\n",
              " 20181107,\n",
              " 20181108,\n",
              " 20181110,\n",
              " 20181111,\n",
              " 20181113,\n",
              " 20181114,\n",
              " 20181116,\n",
              " 20181124,\n",
              " 20181125,\n",
              " 20181126,\n",
              " 20181127,\n",
              " 20181130,\n",
              " 20181203,\n",
              " 20181204,\n",
              " 20181205,\n",
              " 20181207,\n",
              " 20181208,\n",
              " 20181211,\n",
              " 20181214,\n",
              " 20181215,\n",
              " 20181217,\n",
              " 20181219,\n",
              " 20181221,\n",
              " 20181223,\n",
              " 20181226,\n",
              " 20181227,\n",
              " 20181228,\n",
              " 20190101,\n",
              " 20190102,\n",
              " 20190103,\n",
              " 20190108,\n",
              " 20190109,\n",
              " 20190113,\n",
              " 20190114,\n",
              " 20190115,\n",
              " 20190117,\n",
              " 20190118,\n",
              " 20190119,\n",
              " 20190120,\n",
              " 20190121,\n",
              " 20190122,\n",
              " 20190123,\n",
              " 20190125,\n",
              " 20190127,\n",
              " 20190128,\n",
              " 20190202,\n",
              " 20190203,\n",
              " 20190205,\n",
              " 20190209,\n",
              " 20190211,\n",
              " 20190212,\n",
              " 20190213,\n",
              " 20190218,\n",
              " 20190219,\n",
              " 20190228,\n",
              " 20190302,\n",
              " 20190304,\n",
              " 20190305,\n",
              " 20190307,\n",
              " 20190309,\n",
              " 20190310,\n",
              " 20190311,\n",
              " 20190312,\n",
              " 20190313,\n",
              " 20190315,\n",
              " 20190316,\n",
              " 20190319,\n",
              " 20190320,\n",
              " 20190327,\n",
              " 20190401,\n",
              " 20190402,\n",
              " 20190406,\n",
              " 20190407,\n",
              " 20190408,\n",
              " 20190413,\n",
              " 20190414,\n",
              " 20190415,\n",
              " 20190416,\n",
              " 20190422,\n",
              " 20190423,\n",
              " 20190424,\n",
              " 20190427,\n",
              " 20190428,\n",
              " 20190429,\n",
              " 20190503,\n",
              " 20190508,\n",
              " 20190510,\n",
              " 20190511,\n",
              " 20190512,\n",
              " 20190513,\n",
              " 20190515,\n",
              " 20190517,\n",
              " 20190518,\n",
              " 20190519,\n",
              " 20190520,\n",
              " 20190524,\n",
              " 20190525,\n",
              " 20190526,\n",
              " 20190530,\n",
              " 20190531,\n",
              " 20190603,\n",
              " 20190604,\n",
              " 20190605,\n",
              " 20190606,\n",
              " 20190608,\n",
              " 20190610,\n",
              " 20190613,\n",
              " 20190614,\n",
              " 20190616,\n",
              " 20190617,\n",
              " 20190619,\n",
              " 20190620,\n",
              " 20190621,\n",
              " 20190622,\n",
              " 20190625,\n",
              " 20190627,\n",
              " 20190628,\n",
              " 20190630,\n",
              " 20190708,\n",
              " 20190709,\n",
              " 29991212}"
            ]
          },
          "metadata": {},
          "execution_count": 136
        }
      ]
    },
    {
      "cell_type": "markdown",
      "metadata": {
        "id": "7hsZxkb5X13Z"
      },
      "source": [
        "##### พบว่ามีวันที่ ที่มี ปี ค.ศ. ผิด จึงแปลงเป็นปี 2019 เนื่องจาก มีเพียง 2 ปี (2018-2019) ปี 2999 จึงน่าจะเป็นปี 2019"
      ]
    },
    {
      "cell_type": "code",
      "metadata": {
        "id": "WzV2gW-NRwh7"
      },
      "source": [
        "A=SalesOrderItems[SalesOrderItems['DELIVERYDATE']==29991212] #เลือกเฉพาะ 29991212 ที่ปี ค.ศ.ผิด"
      ],
      "execution_count": 137,
      "outputs": []
    },
    {
      "cell_type": "code",
      "metadata": {
        "colab": {
          "base_uri": "https://localhost:8080/"
        },
        "id": "-vVZlCdHRwdZ",
        "outputId": "ddec58b8-42ea-4bc4-ae42-ebe63493f49f"
      },
      "source": [
        "A['DELIVERYDATE']=int(20191212) # แทนปี 20191212 แทนปี 29991212"
      ],
      "execution_count": 138,
      "outputs": [
        {
          "output_type": "stream",
          "name": "stderr",
          "text": [
            "/usr/local/lib/python3.7/dist-packages/ipykernel_launcher.py:1: SettingWithCopyWarning: \n",
            "A value is trying to be set on a copy of a slice from a DataFrame.\n",
            "Try using .loc[row_indexer,col_indexer] = value instead\n",
            "\n",
            "See the caveats in the documentation: https://pandas.pydata.org/pandas-docs/stable/user_guide/indexing.html#returning-a-view-versus-a-copy\n",
            "  \"\"\"Entry point for launching an IPython kernel.\n"
          ]
        }
      ]
    },
    {
      "cell_type": "code",
      "metadata": {
        "colab": {
          "base_uri": "https://localhost:8080/",
          "height": 749
        },
        "id": "phZEgtDzZfNl",
        "outputId": "1b3b87c8-fb6b-4424-851b-1a1e09ef0146"
      },
      "source": [
        "A # ดูข้อมูล"
      ],
      "execution_count": 139,
      "outputs": [
        {
          "output_type": "execute_result",
          "data": {
            "text/html": [
              "<div>\n",
              "<style scoped>\n",
              "    .dataframe tbody tr th:only-of-type {\n",
              "        vertical-align: middle;\n",
              "    }\n",
              "\n",
              "    .dataframe tbody tr th {\n",
              "        vertical-align: top;\n",
              "    }\n",
              "\n",
              "    .dataframe thead th {\n",
              "        text-align: right;\n",
              "    }\n",
              "</style>\n",
              "<table border=\"1\" class=\"dataframe\">\n",
              "  <thead>\n",
              "    <tr style=\"text-align: right;\">\n",
              "      <th></th>\n",
              "      <th>SALESORDERID</th>\n",
              "      <th>SALESORDERITEM</th>\n",
              "      <th>PRODUCTID</th>\n",
              "      <th>NOTEID</th>\n",
              "      <th>CURRENCY</th>\n",
              "      <th>GROSSAMOUNT</th>\n",
              "      <th>NETAMOUNT</th>\n",
              "      <th>TAXAMOUNT</th>\n",
              "      <th>ITEMATPSTATUS</th>\n",
              "      <th>OPITEMPOS</th>\n",
              "      <th>QUANTITY</th>\n",
              "      <th>QUANTITYUNIT</th>\n",
              "      <th>DELIVERYDATE</th>\n",
              "      <th>name_product</th>\n",
              "      <th>Region</th>\n",
              "    </tr>\n",
              "  </thead>\n",
              "  <tbody>\n",
              "    <tr>\n",
              "      <th>618</th>\n",
              "      <td>500000112</td>\n",
              "      <td>10</td>\n",
              "      <td>HB-1173</td>\n",
              "      <td></td>\n",
              "      <td>USD</td>\n",
              "      <td>649</td>\n",
              "      <td>567.875</td>\n",
              "      <td>81.125</td>\n",
              "      <td>I</td>\n",
              "      <td>NaN</td>\n",
              "      <td>10</td>\n",
              "      <td>EA</td>\n",
              "      <td>20191212</td>\n",
              "      <td>HB</td>\n",
              "      <td>APJ</td>\n",
              "    </tr>\n",
              "    <tr>\n",
              "      <th>619</th>\n",
              "      <td>500000112</td>\n",
              "      <td>20</td>\n",
              "      <td>DB-1082</td>\n",
              "      <td></td>\n",
              "      <td>USD</td>\n",
              "      <td>1250</td>\n",
              "      <td>1093.750</td>\n",
              "      <td>156.250</td>\n",
              "      <td>I</td>\n",
              "      <td>NaN</td>\n",
              "      <td>7</td>\n",
              "      <td>EA</td>\n",
              "      <td>20191212</td>\n",
              "      <td>DB</td>\n",
              "      <td>APJ</td>\n",
              "    </tr>\n",
              "    <tr>\n",
              "      <th>620</th>\n",
              "      <td>500000112</td>\n",
              "      <td>30</td>\n",
              "      <td>BX-1013</td>\n",
              "      <td></td>\n",
              "      <td>USD</td>\n",
              "      <td>449</td>\n",
              "      <td>392.875</td>\n",
              "      <td>56.125</td>\n",
              "      <td>I</td>\n",
              "      <td>NaN</td>\n",
              "      <td>5</td>\n",
              "      <td>EA</td>\n",
              "      <td>20191212</td>\n",
              "      <td>BX</td>\n",
              "      <td>APJ</td>\n",
              "    </tr>\n",
              "    <tr>\n",
              "      <th>621</th>\n",
              "      <td>500000112</td>\n",
              "      <td>40</td>\n",
              "      <td>DB-1082</td>\n",
              "      <td></td>\n",
              "      <td>USD</td>\n",
              "      <td>1250</td>\n",
              "      <td>1093.750</td>\n",
              "      <td>156.250</td>\n",
              "      <td>I</td>\n",
              "      <td>NaN</td>\n",
              "      <td>5</td>\n",
              "      <td>EA</td>\n",
              "      <td>20191212</td>\n",
              "      <td>DB</td>\n",
              "      <td>APJ</td>\n",
              "    </tr>\n",
              "    <tr>\n",
              "      <th>622</th>\n",
              "      <td>500000112</td>\n",
              "      <td>50</td>\n",
              "      <td>RC-1054</td>\n",
              "      <td></td>\n",
              "      <td>USD</td>\n",
              "      <td>5499</td>\n",
              "      <td>4811.625</td>\n",
              "      <td>687.375</td>\n",
              "      <td>I</td>\n",
              "      <td>NaN</td>\n",
              "      <td>2</td>\n",
              "      <td>EA</td>\n",
              "      <td>20191212</td>\n",
              "      <td>RC</td>\n",
              "      <td>APJ</td>\n",
              "    </tr>\n",
              "    <tr>\n",
              "      <th>623</th>\n",
              "      <td>500000112</td>\n",
              "      <td>60</td>\n",
              "      <td>MB-1033</td>\n",
              "      <td></td>\n",
              "      <td>USD</td>\n",
              "      <td>3999</td>\n",
              "      <td>3499.125</td>\n",
              "      <td>499.875</td>\n",
              "      <td>I</td>\n",
              "      <td>NaN</td>\n",
              "      <td>4</td>\n",
              "      <td>EA</td>\n",
              "      <td>20191212</td>\n",
              "      <td>MB</td>\n",
              "      <td>APJ</td>\n",
              "    </tr>\n",
              "    <tr>\n",
              "      <th>624</th>\n",
              "      <td>500000112</td>\n",
              "      <td>70</td>\n",
              "      <td>CB-1163</td>\n",
              "      <td></td>\n",
              "      <td>USD</td>\n",
              "      <td>288</td>\n",
              "      <td>252.000</td>\n",
              "      <td>36.000</td>\n",
              "      <td>I</td>\n",
              "      <td>NaN</td>\n",
              "      <td>7</td>\n",
              "      <td>EA</td>\n",
              "      <td>20191212</td>\n",
              "      <td>CB</td>\n",
              "      <td>APJ</td>\n",
              "    </tr>\n",
              "    <tr>\n",
              "      <th>625</th>\n",
              "      <td>500000112</td>\n",
              "      <td>80</td>\n",
              "      <td>EB-1134</td>\n",
              "      <td></td>\n",
              "      <td>USD</td>\n",
              "      <td>4800</td>\n",
              "      <td>4200.000</td>\n",
              "      <td>600.000</td>\n",
              "      <td>I</td>\n",
              "      <td>NaN</td>\n",
              "      <td>1</td>\n",
              "      <td>EA</td>\n",
              "      <td>20191212</td>\n",
              "      <td>EB</td>\n",
              "      <td>APJ</td>\n",
              "    </tr>\n",
              "    <tr>\n",
              "      <th>626</th>\n",
              "      <td>500000112</td>\n",
              "      <td>90</td>\n",
              "      <td>CC-1023</td>\n",
              "      <td></td>\n",
              "      <td>USD</td>\n",
              "      <td>1361</td>\n",
              "      <td>1190.875</td>\n",
              "      <td>170.125</td>\n",
              "      <td>I</td>\n",
              "      <td>NaN</td>\n",
              "      <td>3</td>\n",
              "      <td>EA</td>\n",
              "      <td>20191212</td>\n",
              "      <td>CC</td>\n",
              "      <td>APJ</td>\n",
              "    </tr>\n",
              "    <tr>\n",
              "      <th>627</th>\n",
              "      <td>500000112</td>\n",
              "      <td>100</td>\n",
              "      <td>CB-1163</td>\n",
              "      <td></td>\n",
              "      <td>USD</td>\n",
              "      <td>288</td>\n",
              "      <td>252.000</td>\n",
              "      <td>36.000</td>\n",
              "      <td>I</td>\n",
              "      <td>NaN</td>\n",
              "      <td>2</td>\n",
              "      <td>EA</td>\n",
              "      <td>20191212</td>\n",
              "      <td>CB</td>\n",
              "      <td>APJ</td>\n",
              "    </tr>\n",
              "    <tr>\n",
              "      <th>933</th>\n",
              "      <td>500000164</td>\n",
              "      <td>10</td>\n",
              "      <td>RC-1055</td>\n",
              "      <td></td>\n",
              "      <td>USD</td>\n",
              "      <td>1999</td>\n",
              "      <td>1749.125</td>\n",
              "      <td>249.875</td>\n",
              "      <td>I</td>\n",
              "      <td>NaN</td>\n",
              "      <td>7</td>\n",
              "      <td>EA</td>\n",
              "      <td>20191212</td>\n",
              "      <td>RC</td>\n",
              "      <td>AMER</td>\n",
              "    </tr>\n",
              "    <tr>\n",
              "      <th>934</th>\n",
              "      <td>500000164</td>\n",
              "      <td>20</td>\n",
              "      <td>EB-1132</td>\n",
              "      <td></td>\n",
              "      <td>USD</td>\n",
              "      <td>1900</td>\n",
              "      <td>1662.500</td>\n",
              "      <td>237.500</td>\n",
              "      <td>I</td>\n",
              "      <td>NaN</td>\n",
              "      <td>9</td>\n",
              "      <td>EA</td>\n",
              "      <td>20191212</td>\n",
              "      <td>EB</td>\n",
              "      <td>AMER</td>\n",
              "    </tr>\n",
              "    <tr>\n",
              "      <th>935</th>\n",
              "      <td>500000164</td>\n",
              "      <td>30</td>\n",
              "      <td>CC-1023</td>\n",
              "      <td></td>\n",
              "      <td>USD</td>\n",
              "      <td>1361</td>\n",
              "      <td>1190.875</td>\n",
              "      <td>170.125</td>\n",
              "      <td>I</td>\n",
              "      <td>NaN</td>\n",
              "      <td>1</td>\n",
              "      <td>EA</td>\n",
              "      <td>20191212</td>\n",
              "      <td>CC</td>\n",
              "      <td>AMER</td>\n",
              "    </tr>\n",
              "    <tr>\n",
              "      <th>936</th>\n",
              "      <td>500000164</td>\n",
              "      <td>40</td>\n",
              "      <td>BX-1012</td>\n",
              "      <td></td>\n",
              "      <td>USD</td>\n",
              "      <td>399</td>\n",
              "      <td>349.125</td>\n",
              "      <td>49.875</td>\n",
              "      <td>I</td>\n",
              "      <td>NaN</td>\n",
              "      <td>2</td>\n",
              "      <td>EA</td>\n",
              "      <td>20191212</td>\n",
              "      <td>BX</td>\n",
              "      <td>AMER</td>\n",
              "    </tr>\n",
              "    <tr>\n",
              "      <th>1784</th>\n",
              "      <td>500000308</td>\n",
              "      <td>10</td>\n",
              "      <td>RC-1055</td>\n",
              "      <td></td>\n",
              "      <td>USD</td>\n",
              "      <td>1999</td>\n",
              "      <td>1749.125</td>\n",
              "      <td>249.875</td>\n",
              "      <td>I</td>\n",
              "      <td>NaN</td>\n",
              "      <td>7</td>\n",
              "      <td>EA</td>\n",
              "      <td>20191212</td>\n",
              "      <td>RC</td>\n",
              "      <td>AMER</td>\n",
              "    </tr>\n",
              "    <tr>\n",
              "      <th>1785</th>\n",
              "      <td>500000308</td>\n",
              "      <td>20</td>\n",
              "      <td>MB-1034</td>\n",
              "      <td></td>\n",
              "      <td>USD</td>\n",
              "      <td>2499</td>\n",
              "      <td>2186.625</td>\n",
              "      <td>312.375</td>\n",
              "      <td>I</td>\n",
              "      <td>NaN</td>\n",
              "      <td>9</td>\n",
              "      <td>EA</td>\n",
              "      <td>20191212</td>\n",
              "      <td>MB</td>\n",
              "      <td>AMER</td>\n",
              "    </tr>\n",
              "    <tr>\n",
              "      <th>1786</th>\n",
              "      <td>500000308</td>\n",
              "      <td>30</td>\n",
              "      <td>CB-1163</td>\n",
              "      <td></td>\n",
              "      <td>USD</td>\n",
              "      <td>288</td>\n",
              "      <td>252.000</td>\n",
              "      <td>36.000</td>\n",
              "      <td>I</td>\n",
              "      <td>NaN</td>\n",
              "      <td>5</td>\n",
              "      <td>EA</td>\n",
              "      <td>20191212</td>\n",
              "      <td>CB</td>\n",
              "      <td>AMER</td>\n",
              "    </tr>\n",
              "    <tr>\n",
              "      <th>1787</th>\n",
              "      <td>500000308</td>\n",
              "      <td>40</td>\n",
              "      <td>CC-1023</td>\n",
              "      <td></td>\n",
              "      <td>USD</td>\n",
              "      <td>1361</td>\n",
              "      <td>1190.875</td>\n",
              "      <td>170.125</td>\n",
              "      <td>I</td>\n",
              "      <td>NaN</td>\n",
              "      <td>3</td>\n",
              "      <td>EA</td>\n",
              "      <td>20191212</td>\n",
              "      <td>CC</td>\n",
              "      <td>AMER</td>\n",
              "    </tr>\n",
              "    <tr>\n",
              "      <th>1788</th>\n",
              "      <td>500000308</td>\n",
              "      <td>50</td>\n",
              "      <td>MB-1033</td>\n",
              "      <td></td>\n",
              "      <td>USD</td>\n",
              "      <td>3999</td>\n",
              "      <td>3499.125</td>\n",
              "      <td>499.875</td>\n",
              "      <td>I</td>\n",
              "      <td>NaN</td>\n",
              "      <td>5</td>\n",
              "      <td>EA</td>\n",
              "      <td>20191212</td>\n",
              "      <td>MB</td>\n",
              "      <td>AMER</td>\n",
              "    </tr>\n",
              "    <tr>\n",
              "      <th>1789</th>\n",
              "      <td>500000308</td>\n",
              "      <td>60</td>\n",
              "      <td>CC-1023</td>\n",
              "      <td></td>\n",
              "      <td>USD</td>\n",
              "      <td>1361</td>\n",
              "      <td>1190.875</td>\n",
              "      <td>170.125</td>\n",
              "      <td>I</td>\n",
              "      <td>NaN</td>\n",
              "      <td>8</td>\n",
              "      <td>EA</td>\n",
              "      <td>20191212</td>\n",
              "      <td>CC</td>\n",
              "      <td>AMER</td>\n",
              "    </tr>\n",
              "    <tr>\n",
              "      <th>1790</th>\n",
              "      <td>500000308</td>\n",
              "      <td>70</td>\n",
              "      <td>EB-1137</td>\n",
              "      <td></td>\n",
              "      <td>USD</td>\n",
              "      <td>7900</td>\n",
              "      <td>6912.500</td>\n",
              "      <td>987.500</td>\n",
              "      <td>I</td>\n",
              "      <td>NaN</td>\n",
              "      <td>8</td>\n",
              "      <td>EA</td>\n",
              "      <td>20191212</td>\n",
              "      <td>EB</td>\n",
              "      <td>AMER</td>\n",
              "    </tr>\n",
              "    <tr>\n",
              "      <th>1791</th>\n",
              "      <td>500000308</td>\n",
              "      <td>80</td>\n",
              "      <td>RO-1003</td>\n",
              "      <td></td>\n",
              "      <td>USD</td>\n",
              "      <td>721</td>\n",
              "      <td>630.875</td>\n",
              "      <td>90.125</td>\n",
              "      <td>I</td>\n",
              "      <td>NaN</td>\n",
              "      <td>2</td>\n",
              "      <td>EA</td>\n",
              "      <td>20191212</td>\n",
              "      <td>RO</td>\n",
              "      <td>AMER</td>\n",
              "    </tr>\n",
              "  </tbody>\n",
              "</table>\n",
              "</div>"
            ],
            "text/plain": [
              "      SALESORDERID  SALESORDERITEM PRODUCTID  ... DELIVERYDATE name_product  Region\n",
              "618      500000112              10   HB-1173  ...     20191212           HB     APJ\n",
              "619      500000112              20   DB-1082  ...     20191212           DB     APJ\n",
              "620      500000112              30   BX-1013  ...     20191212           BX     APJ\n",
              "621      500000112              40   DB-1082  ...     20191212           DB     APJ\n",
              "622      500000112              50   RC-1054  ...     20191212           RC     APJ\n",
              "623      500000112              60   MB-1033  ...     20191212           MB     APJ\n",
              "624      500000112              70   CB-1163  ...     20191212           CB     APJ\n",
              "625      500000112              80   EB-1134  ...     20191212           EB     APJ\n",
              "626      500000112              90   CC-1023  ...     20191212           CC     APJ\n",
              "627      500000112             100   CB-1163  ...     20191212           CB     APJ\n",
              "933      500000164              10   RC-1055  ...     20191212           RC    AMER\n",
              "934      500000164              20   EB-1132  ...     20191212           EB    AMER\n",
              "935      500000164              30   CC-1023  ...     20191212           CC    AMER\n",
              "936      500000164              40   BX-1012  ...     20191212           BX    AMER\n",
              "1784     500000308              10   RC-1055  ...     20191212           RC    AMER\n",
              "1785     500000308              20   MB-1034  ...     20191212           MB    AMER\n",
              "1786     500000308              30   CB-1163  ...     20191212           CB    AMER\n",
              "1787     500000308              40   CC-1023  ...     20191212           CC    AMER\n",
              "1788     500000308              50   MB-1033  ...     20191212           MB    AMER\n",
              "1789     500000308              60   CC-1023  ...     20191212           CC    AMER\n",
              "1790     500000308              70   EB-1137  ...     20191212           EB    AMER\n",
              "1791     500000308              80   RO-1003  ...     20191212           RO    AMER\n",
              "\n",
              "[22 rows x 15 columns]"
            ]
          },
          "metadata": {},
          "execution_count": 139
        }
      ]
    },
    {
      "cell_type": "code",
      "metadata": {
        "id": "ofGUx49uU0V2"
      },
      "source": [
        "Sales_OrderItems=SalesOrderItems[SalesOrderItems['DELIVERYDATE']<29991212] #เลือกข้อมูลมีปีน้อยกว่า 2999"
      ],
      "execution_count": 140,
      "outputs": []
    },
    {
      "cell_type": "code",
      "metadata": {
        "id": "OE7ha17vU0Q9"
      },
      "source": [
        "Sale= pd.concat([Sales_OrderItems,A]) # ต่อตาราง A ที่แปลง ค.ศ.แล้ว กับตาราง Sales_OrderItems ที่ตัดปีที่ผิดแล้ว โดยตั้งชื่อตารางใหม่ว่า \"Sale\""
      ],
      "execution_count": 141,
      "outputs": []
    },
    {
      "cell_type": "markdown",
      "metadata": {
        "id": "z2fwe2KFaTLr"
      },
      "source": [
        "##### แปลงวันที่เป็น datetime"
      ]
    },
    {
      "cell_type": "code",
      "metadata": {
        "id": "YTx20SnoMXRZ"
      },
      "source": [
        "import pandas as pd # เรียกใช้คำสั่ง panda"
      ],
      "execution_count": 142,
      "outputs": []
    },
    {
      "cell_type": "code",
      "metadata": {
        "id": "TWwH0M-7MXOt"
      },
      "source": [
        "Sale['DATE']=pd.to_datetime(Sale['DELIVERYDATE'], format='%Y%m%d') #สร้างคอลัมน์ใหม่ 'DATE' เพื่อใช้เก็บข้อมูลวันที่ ที่แปลงแล้ว"
      ],
      "execution_count": 143,
      "outputs": []
    },
    {
      "cell_type": "code",
      "metadata": {
        "colab": {
          "base_uri": "https://localhost:8080/",
          "height": 607
        },
        "id": "HVpQBmBmMXMQ",
        "outputId": "d22c674f-ef3d-4c83-90b1-1adcc5a17793"
      },
      "source": [
        "Sale #เรียกดูตาราง"
      ],
      "execution_count": 144,
      "outputs": [
        {
          "output_type": "execute_result",
          "data": {
            "text/html": [
              "<div>\n",
              "<style scoped>\n",
              "    .dataframe tbody tr th:only-of-type {\n",
              "        vertical-align: middle;\n",
              "    }\n",
              "\n",
              "    .dataframe tbody tr th {\n",
              "        vertical-align: top;\n",
              "    }\n",
              "\n",
              "    .dataframe thead th {\n",
              "        text-align: right;\n",
              "    }\n",
              "</style>\n",
              "<table border=\"1\" class=\"dataframe\">\n",
              "  <thead>\n",
              "    <tr style=\"text-align: right;\">\n",
              "      <th></th>\n",
              "      <th>SALESORDERID</th>\n",
              "      <th>SALESORDERITEM</th>\n",
              "      <th>PRODUCTID</th>\n",
              "      <th>NOTEID</th>\n",
              "      <th>CURRENCY</th>\n",
              "      <th>GROSSAMOUNT</th>\n",
              "      <th>NETAMOUNT</th>\n",
              "      <th>TAXAMOUNT</th>\n",
              "      <th>ITEMATPSTATUS</th>\n",
              "      <th>OPITEMPOS</th>\n",
              "      <th>QUANTITY</th>\n",
              "      <th>QUANTITYUNIT</th>\n",
              "      <th>DELIVERYDATE</th>\n",
              "      <th>name_product</th>\n",
              "      <th>Region</th>\n",
              "      <th>DATE</th>\n",
              "    </tr>\n",
              "  </thead>\n",
              "  <tbody>\n",
              "    <tr>\n",
              "      <th>0</th>\n",
              "      <td>500000000</td>\n",
              "      <td>10</td>\n",
              "      <td>MB-1034</td>\n",
              "      <td></td>\n",
              "      <td>USD</td>\n",
              "      <td>2499</td>\n",
              "      <td>2186.625</td>\n",
              "      <td>312.375</td>\n",
              "      <td>I</td>\n",
              "      <td>NaN</td>\n",
              "      <td>4</td>\n",
              "      <td>EA</td>\n",
              "      <td>20180311</td>\n",
              "      <td>MB</td>\n",
              "      <td>APJ</td>\n",
              "      <td>2018-03-11</td>\n",
              "    </tr>\n",
              "    <tr>\n",
              "      <th>1</th>\n",
              "      <td>500000000</td>\n",
              "      <td>20</td>\n",
              "      <td>CB-1161</td>\n",
              "      <td></td>\n",
              "      <td>USD</td>\n",
              "      <td>399</td>\n",
              "      <td>349.125</td>\n",
              "      <td>49.875</td>\n",
              "      <td>I</td>\n",
              "      <td>NaN</td>\n",
              "      <td>9</td>\n",
              "      <td>EA</td>\n",
              "      <td>20180311</td>\n",
              "      <td>CB</td>\n",
              "      <td>APJ</td>\n",
              "      <td>2018-03-11</td>\n",
              "    </tr>\n",
              "    <tr>\n",
              "      <th>2</th>\n",
              "      <td>500000001</td>\n",
              "      <td>10</td>\n",
              "      <td>HB-1175</td>\n",
              "      <td></td>\n",
              "      <td>USD</td>\n",
              "      <td>899</td>\n",
              "      <td>786.625</td>\n",
              "      <td>112.375</td>\n",
              "      <td>I</td>\n",
              "      <td>NaN</td>\n",
              "      <td>2</td>\n",
              "      <td>EA</td>\n",
              "      <td>20180228</td>\n",
              "      <td>HB</td>\n",
              "      <td>EMEA</td>\n",
              "      <td>2018-02-28</td>\n",
              "    </tr>\n",
              "    <tr>\n",
              "      <th>3</th>\n",
              "      <td>500000001</td>\n",
              "      <td>20</td>\n",
              "      <td>RC-1056</td>\n",
              "      <td></td>\n",
              "      <td>USD</td>\n",
              "      <td>2499</td>\n",
              "      <td>2186.625</td>\n",
              "      <td>312.375</td>\n",
              "      <td>I</td>\n",
              "      <td>NaN</td>\n",
              "      <td>2</td>\n",
              "      <td>EA</td>\n",
              "      <td>20180228</td>\n",
              "      <td>RC</td>\n",
              "      <td>EMEA</td>\n",
              "      <td>2018-02-28</td>\n",
              "    </tr>\n",
              "    <tr>\n",
              "      <th>4</th>\n",
              "      <td>500000001</td>\n",
              "      <td>30</td>\n",
              "      <td>CC-1021</td>\n",
              "      <td></td>\n",
              "      <td>USD</td>\n",
              "      <td>1144</td>\n",
              "      <td>1001.000</td>\n",
              "      <td>143.000</td>\n",
              "      <td>I</td>\n",
              "      <td>NaN</td>\n",
              "      <td>3</td>\n",
              "      <td>EA</td>\n",
              "      <td>20180228</td>\n",
              "      <td>CC</td>\n",
              "      <td>EMEA</td>\n",
              "      <td>2018-02-28</td>\n",
              "    </tr>\n",
              "    <tr>\n",
              "      <th>...</th>\n",
              "      <td>...</td>\n",
              "      <td>...</td>\n",
              "      <td>...</td>\n",
              "      <td>...</td>\n",
              "      <td>...</td>\n",
              "      <td>...</td>\n",
              "      <td>...</td>\n",
              "      <td>...</td>\n",
              "      <td>...</td>\n",
              "      <td>...</td>\n",
              "      <td>...</td>\n",
              "      <td>...</td>\n",
              "      <td>...</td>\n",
              "      <td>...</td>\n",
              "      <td>...</td>\n",
              "      <td>...</td>\n",
              "    </tr>\n",
              "    <tr>\n",
              "      <th>1787</th>\n",
              "      <td>500000308</td>\n",
              "      <td>40</td>\n",
              "      <td>CC-1023</td>\n",
              "      <td></td>\n",
              "      <td>USD</td>\n",
              "      <td>1361</td>\n",
              "      <td>1190.875</td>\n",
              "      <td>170.125</td>\n",
              "      <td>I</td>\n",
              "      <td>NaN</td>\n",
              "      <td>3</td>\n",
              "      <td>EA</td>\n",
              "      <td>20191212</td>\n",
              "      <td>CC</td>\n",
              "      <td>AMER</td>\n",
              "      <td>2019-12-12</td>\n",
              "    </tr>\n",
              "    <tr>\n",
              "      <th>1788</th>\n",
              "      <td>500000308</td>\n",
              "      <td>50</td>\n",
              "      <td>MB-1033</td>\n",
              "      <td></td>\n",
              "      <td>USD</td>\n",
              "      <td>3999</td>\n",
              "      <td>3499.125</td>\n",
              "      <td>499.875</td>\n",
              "      <td>I</td>\n",
              "      <td>NaN</td>\n",
              "      <td>5</td>\n",
              "      <td>EA</td>\n",
              "      <td>20191212</td>\n",
              "      <td>MB</td>\n",
              "      <td>AMER</td>\n",
              "      <td>2019-12-12</td>\n",
              "    </tr>\n",
              "    <tr>\n",
              "      <th>1789</th>\n",
              "      <td>500000308</td>\n",
              "      <td>60</td>\n",
              "      <td>CC-1023</td>\n",
              "      <td></td>\n",
              "      <td>USD</td>\n",
              "      <td>1361</td>\n",
              "      <td>1190.875</td>\n",
              "      <td>170.125</td>\n",
              "      <td>I</td>\n",
              "      <td>NaN</td>\n",
              "      <td>8</td>\n",
              "      <td>EA</td>\n",
              "      <td>20191212</td>\n",
              "      <td>CC</td>\n",
              "      <td>AMER</td>\n",
              "      <td>2019-12-12</td>\n",
              "    </tr>\n",
              "    <tr>\n",
              "      <th>1790</th>\n",
              "      <td>500000308</td>\n",
              "      <td>70</td>\n",
              "      <td>EB-1137</td>\n",
              "      <td></td>\n",
              "      <td>USD</td>\n",
              "      <td>7900</td>\n",
              "      <td>6912.500</td>\n",
              "      <td>987.500</td>\n",
              "      <td>I</td>\n",
              "      <td>NaN</td>\n",
              "      <td>8</td>\n",
              "      <td>EA</td>\n",
              "      <td>20191212</td>\n",
              "      <td>EB</td>\n",
              "      <td>AMER</td>\n",
              "      <td>2019-12-12</td>\n",
              "    </tr>\n",
              "    <tr>\n",
              "      <th>1791</th>\n",
              "      <td>500000308</td>\n",
              "      <td>80</td>\n",
              "      <td>RO-1003</td>\n",
              "      <td></td>\n",
              "      <td>USD</td>\n",
              "      <td>721</td>\n",
              "      <td>630.875</td>\n",
              "      <td>90.125</td>\n",
              "      <td>I</td>\n",
              "      <td>NaN</td>\n",
              "      <td>2</td>\n",
              "      <td>EA</td>\n",
              "      <td>20191212</td>\n",
              "      <td>RO</td>\n",
              "      <td>AMER</td>\n",
              "      <td>2019-12-12</td>\n",
              "    </tr>\n",
              "  </tbody>\n",
              "</table>\n",
              "<p>1930 rows × 16 columns</p>\n",
              "</div>"
            ],
            "text/plain": [
              "      SALESORDERID  SALESORDERITEM PRODUCTID  ... name_product Region       DATE\n",
              "0        500000000              10   MB-1034  ...           MB    APJ 2018-03-11\n",
              "1        500000000              20   CB-1161  ...           CB    APJ 2018-03-11\n",
              "2        500000001              10   HB-1175  ...           HB   EMEA 2018-02-28\n",
              "3        500000001              20   RC-1056  ...           RC   EMEA 2018-02-28\n",
              "4        500000001              30   CC-1021  ...           CC   EMEA 2018-02-28\n",
              "...            ...             ...       ...  ...          ...    ...        ...\n",
              "1787     500000308              40   CC-1023  ...           CC   AMER 2019-12-12\n",
              "1788     500000308              50   MB-1033  ...           MB   AMER 2019-12-12\n",
              "1789     500000308              60   CC-1023  ...           CC   AMER 2019-12-12\n",
              "1790     500000308              70   EB-1137  ...           EB   AMER 2019-12-12\n",
              "1791     500000308              80   RO-1003  ...           RO   AMER 2019-12-12\n",
              "\n",
              "[1930 rows x 16 columns]"
            ]
          },
          "metadata": {},
          "execution_count": 144
        }
      ]
    },
    {
      "cell_type": "markdown",
      "metadata": {
        "id": "EaVvcRFrjvV1"
      },
      "source": [
        "####เพิ่มคอลัมน์วันในสัปดาห์ โดยแปลงจากคอลัมน์ DATE โดย\n",
        "    0: 'Monday', \n",
        "    1: 'Tuesday', \n",
        "    2: 'Wednesday', \n",
        "    3: 'Thursday', \n",
        "    4: 'Friday',\n",
        "    5: 'Saturday', \n",
        "    6: 'Sunday'\n"
      ]
    },
    {
      "cell_type": "code",
      "metadata": {
        "id": "wAgVvvfmjqmC"
      },
      "source": [
        "Sale['weekday']=Sale['DATE'].dt.weekday"
      ],
      "execution_count": 145,
      "outputs": []
    },
    {
      "cell_type": "code",
      "metadata": {
        "colab": {
          "base_uri": "https://localhost:8080/"
        },
        "id": "8XNuYYEtkxAr",
        "outputId": "9256236f-8ddf-4412-b667-792b3fdeae22"
      },
      "source": [
        "set(Sale['weekday'])"
      ],
      "execution_count": 154,
      "outputs": [
        {
          "output_type": "execute_result",
          "data": {
            "text/plain": [
              "{0, 1, 2, 3, 4, 5, 6}"
            ]
          },
          "metadata": {},
          "execution_count": 154
        }
      ]
    },
    {
      "cell_type": "markdown",
      "metadata": {
        "id": "htTh8DvJTm7u"
      },
      "source": [
        "###ขั้นที่ 4 ดูข้อมูลว่ามีวันที่ซ้ำกันหรือไม่ ในแต่ละยี่ห้อรถจักยานต์(ถ้ามีเลือกเฉพาะวันที่ที่มีคำสังซื้อ (SALESORDERITEM) เยอะที่สุด)\n",
        "\n",
        "\n"
      ]
    },
    {
      "cell_type": "markdown",
      "metadata": {
        "id": "T7oyWWApbtM8"
      },
      "source": [
        "####4.1 เพิ่่มคอลัมน์ ปี ค.ศ. เดือน และ วัน เพื่อใช้เรียกดูข้อมูล"
      ]
    },
    {
      "cell_type": "code",
      "metadata": {
        "id": "2ssHyGaHbsE5"
      },
      "source": [
        "Sale['day']=Sale['DATE'].dt.day #วันที่"
      ],
      "execution_count": 146,
      "outputs": []
    },
    {
      "cell_type": "code",
      "metadata": {
        "id": "YZrcl72xbsCd"
      },
      "source": [
        "Sale['mount']=Sale['DATE'].dt.month  # เดือน"
      ],
      "execution_count": 147,
      "outputs": []
    },
    {
      "cell_type": "code",
      "metadata": {
        "id": "5zeZWmiXcOah"
      },
      "source": [
        "Sale['year']=Sale['DATE'].dt.year #ปี"
      ],
      "execution_count": 148,
      "outputs": []
    },
    {
      "cell_type": "markdown",
      "metadata": {
        "id": "-Soz52-GjFn8"
      },
      "source": [
        "####4.2 รถจักยานต์ชนิด Road Bike:RO"
      ]
    },
    {
      "cell_type": "code",
      "metadata": {
        "id": "tmMe5T37m5L1"
      },
      "source": [
        "RO=Sale[Sale['name_product']=='RO']"
      ],
      "execution_count": 166,
      "outputs": []
    },
    {
      "cell_type": "markdown",
      "metadata": {
        "id": "Op5v726QnT3u"
      },
      "source": [
        "#####4.2.1 ดูข้อมูลในแต่ละทวีป"
      ]
    },
    {
      "cell_type": "code",
      "metadata": {
        "colab": {
          "base_uri": "https://localhost:8080/"
        },
        "id": "g9TuPk6LoGQZ",
        "outputId": "81df4f2b-e429-46db-dfb6-8baf5fa3c2a4"
      },
      "source": [
        "set(RO['Region'])"
      ],
      "execution_count": 167,
      "outputs": [
        {
          "output_type": "execute_result",
          "data": {
            "text/plain": [
              "{'AMER', 'APJ', 'EMEA'}"
            ]
          },
          "metadata": {},
          "execution_count": 167
        }
      ]
    },
    {
      "cell_type": "markdown",
      "metadata": {
        "id": "4OwrG0CLoq0g"
      },
      "source": [
        "######1) Region:America"
      ]
    },
    {
      "cell_type": "code",
      "metadata": {
        "id": "dKz6bnWYnTS7"
      },
      "source": [
        "RO_AMER=RO[RO['Region']=='AMER'] #ทวีป America"
      ],
      "execution_count": 162,
      "outputs": []
    },
    {
      "cell_type": "markdown",
      "metadata": {
        "id": "YU4MOQY2c11-"
      },
      "source": [
        "######เรียกดูข้อมูลปี 2018 "
      ]
    },
    {
      "cell_type": "code",
      "metadata": {
        "id": "m3zvcpXNbir7"
      },
      "source": [
        "RO_AMER_2018=RO_AMER[RO_AMER['year']==2018]"
      ],
      "execution_count": 165,
      "outputs": []
    },
    {
      "cell_type": "code",
      "metadata": {
        "colab": {
          "base_uri": "https://localhost:8080/"
        },
        "id": "WS-mtla9gHkd",
        "outputId": "8330a858-d165-422b-fbea-03acddb7e6fe"
      },
      "source": [
        "set(RO_AMER_2018['mount']) ## ไม่มีข้อมูลคำสั่งซื้อในเดือน มกราคม กุมภาพันธ์ และธันวาคม"
      ],
      "execution_count": 168,
      "outputs": [
        {
          "output_type": "execute_result",
          "data": {
            "text/plain": [
              "{3, 4, 5, 6, 7, 8, 9, 10, 11}"
            ]
          },
          "metadata": {},
          "execution_count": 168
        }
      ]
    },
    {
      "cell_type": "markdown",
      "metadata": {
        "id": "8MFVp7nEdS_J"
      },
      "source": [
        "###### เรียกดูข้อมูลปี 2018 ในเดือนต่างๆ"
      ]
    },
    {
      "cell_type": "markdown",
      "metadata": {
        "id": "nr6ntn3rgY3_"
      },
      "source": [
        "######เดือนมีนาคม"
      ]
    },
    {
      "cell_type": "code",
      "metadata": {
        "id": "Xd21vmnVeE_3"
      },
      "source": [
        "RO_AMER_2018_3=RO_AMER_2018[RO_AMER_2018['mount']==3].sort_values(by='day').drop(68) #พบว่ามีวันที่ 21 มีนาคม สั่งสินค้าซ้ำกัน จึงตัดแถวที่มีจำนวนคำสังซื้อน้อยกว่าทิ้งคือแถว 68"
      ],
      "execution_count": 182,
      "outputs": []
    },
    {
      "cell_type": "markdown",
      "metadata": {
        "id": "7tI0Bi6KsTUx"
      },
      "source": [
        "######เดือนเมษายน"
      ]
    },
    {
      "cell_type": "code",
      "metadata": {
        "id": "1OT1P2W9sak6"
      },
      "source": [
        "RO_AMER_2018_4=RO_AMER_2018[RO_AMER_2018['mount']==4].sort_values(by='day') #ไม่มีวันที่ ที่มีคำสั่งซื้อซ้ำ"
      ],
      "execution_count": 183,
      "outputs": []
    },
    {
      "cell_type": "markdown",
      "metadata": {
        "id": "rMnkPmnmsTO-"
      },
      "source": [
        "######เดือนพฤษภาคม"
      ]
    },
    {
      "cell_type": "code",
      "metadata": {
        "id": "HEGUxK2qu17X"
      },
      "source": [
        "RO_AMER_2018_5=RO_AMER_2018[RO_AMER_2018['mount']==5].sort_values(by='day') #ไม่มีวันที่ ที่มีคำสั่งซื้อซ้ำ"
      ],
      "execution_count": 184,
      "outputs": []
    },
    {
      "cell_type": "markdown",
      "metadata": {
        "id": "sM20BVNRsTNp"
      },
      "source": [
        "######เดือนมิถุนายน"
      ]
    },
    {
      "cell_type": "code",
      "metadata": {
        "id": "yOojtYSHvD4-"
      },
      "source": [
        "RO_AMER_2018_6=RO_AMER_2018[RO_AMER_2018['mount']==6].sort_values(by='day') #ไม่มีวันที่ ที่มีคำสั่งซื้อซ้ำ"
      ],
      "execution_count": 185,
      "outputs": []
    },
    {
      "cell_type": "markdown",
      "metadata": {
        "id": "D9W1jyA_sS53"
      },
      "source": [
        "######เดือนกรกฎาคม"
      ]
    },
    {
      "cell_type": "code",
      "metadata": {
        "id": "REH7B0dNvPrG"
      },
      "source": [
        "RO_AMER_2018_7=RO_AMER_2018[RO_AMER_2018['mount']==7].sort_values(by='day').drop([429,560]) #ไ#พบว่ามีวันที่ 18  และ31  มีกรกฎาคม มีสั่งสินค้าซ้ำกัน จึงตัดแถวที่มีจำนวนคำสังซื้อน้อยกว่าทิ้งคือแถว 429 และ 560"
      ],
      "execution_count": 189,
      "outputs": []
    },
    {
      "cell_type": "markdown",
      "metadata": {
        "id": "fmC5DAuGsS2x"
      },
      "source": [
        "######เดือนสิงหาคม"
      ]
    },
    {
      "cell_type": "code",
      "metadata": {
        "id": "8plhwCYEwkRb"
      },
      "source": [
        "RO_AMER_2018_8=RO_AMER_2018[RO_AMER_2018['mount']==8].sort_values(by='day') #ไม่มีวันที่ ที่มีคำสั่งซื้อซ้ำ"
      ],
      "execution_count": 191,
      "outputs": []
    },
    {
      "cell_type": "markdown",
      "metadata": {
        "id": "zY9qSbelsS05"
      },
      "source": [
        "######เดือนกันยายน"
      ]
    },
    {
      "cell_type": "code",
      "metadata": {
        "id": "xaPm450QwvPr"
      },
      "source": [
        "RO_AMER_2018_9=RO_AMER_2018[RO_AMER_2018['mount']==9].sort_values(by='day')#ไม่มีวันที่ ที่มีคำสั่งซื้อซ้ำ"
      ],
      "execution_count": 193,
      "outputs": []
    },
    {
      "cell_type": "markdown",
      "metadata": {
        "id": "WF4QJ0y3sSr7"
      },
      "source": [
        "######เดือนตุลาคม"
      ]
    },
    {
      "cell_type": "code",
      "metadata": {
        "id": "X2Mnzmqxw51a"
      },
      "source": [
        "RO_AMER_2018_10=RO_AMER_2018[RO_AMER_2018['mount']==10].sort_values(by='day') #ไม่มีวันที่ ที่มีคำสั่งซื้อซ้ำ"
      ],
      "execution_count": 195,
      "outputs": []
    },
    {
      "cell_type": "markdown",
      "metadata": {
        "id": "7R4_RoTDsSgC"
      },
      "source": [
        "######เดือนพฤศจิกายน"
      ]
    },
    {
      "cell_type": "code",
      "metadata": {
        "id": "_U0rp3a8rihj"
      },
      "source": [
        "RO_AMER_2018_11=RO_AMER_2018[RO_AMER_2018['mount']==11].sort_values(by='day') #ไม่มีวันที่ ที่มีคำสั่งซื้อซ้ำ"
      ],
      "execution_count": 197,
      "outputs": []
    },
    {
      "cell_type": "markdown",
      "metadata": {
        "id": "m_AuuDkpxQgz"
      },
      "source": [
        "######ต่อตารางทวีป America"
      ]
    },
    {
      "cell_type": "code",
      "metadata": {
        "id": "nUU7E15uxOzA"
      },
      "source": [
        "RO_AMERICA_18= pd.concat([RO_AMER_2018_3,RO_AMER_2018_4,RO_AMER_2018_6,RO_AMER_2018_7,RO_AMER_2018_8,RO_AMER_2018_9,RO_AMER_2018_10,RO_AMER_2018_11])"
      ],
      "execution_count": 223,
      "outputs": []
    },
    {
      "cell_type": "code",
      "metadata": {
        "colab": {
          "base_uri": "https://localhost:8080/",
          "height": 785
        },
        "id": "q91QfY8FyQdU",
        "outputId": "da54f0cf-0b2b-457c-c81b-e6cf9ccdc553"
      },
      "source": [
        "RO_AMERICA_18"
      ],
      "execution_count": 224,
      "outputs": [
        {
          "output_type": "execute_result",
          "data": {
            "text/html": [
              "<div>\n",
              "<style scoped>\n",
              "    .dataframe tbody tr th:only-of-type {\n",
              "        vertical-align: middle;\n",
              "    }\n",
              "\n",
              "    .dataframe tbody tr th {\n",
              "        vertical-align: top;\n",
              "    }\n",
              "\n",
              "    .dataframe thead th {\n",
              "        text-align: right;\n",
              "    }\n",
              "</style>\n",
              "<table border=\"1\" class=\"dataframe\">\n",
              "  <thead>\n",
              "    <tr style=\"text-align: right;\">\n",
              "      <th></th>\n",
              "      <th>SALESORDERID</th>\n",
              "      <th>SALESORDERITEM</th>\n",
              "      <th>PRODUCTID</th>\n",
              "      <th>NOTEID</th>\n",
              "      <th>CURRENCY</th>\n",
              "      <th>GROSSAMOUNT</th>\n",
              "      <th>NETAMOUNT</th>\n",
              "      <th>TAXAMOUNT</th>\n",
              "      <th>ITEMATPSTATUS</th>\n",
              "      <th>OPITEMPOS</th>\n",
              "      <th>QUANTITY</th>\n",
              "      <th>QUANTITYUNIT</th>\n",
              "      <th>DELIVERYDATE</th>\n",
              "      <th>name_product</th>\n",
              "      <th>Region</th>\n",
              "      <th>DATE</th>\n",
              "      <th>weekday</th>\n",
              "      <th>day</th>\n",
              "      <th>mount</th>\n",
              "      <th>year</th>\n",
              "    </tr>\n",
              "  </thead>\n",
              "  <tbody>\n",
              "    <tr>\n",
              "      <th>96</th>\n",
              "      <td>500000017</td>\n",
              "      <td>70</td>\n",
              "      <td>RO-1001</td>\n",
              "      <td></td>\n",
              "      <td>USD</td>\n",
              "      <td>525</td>\n",
              "      <td>459.375</td>\n",
              "      <td>65.625</td>\n",
              "      <td>I</td>\n",
              "      <td>NaN</td>\n",
              "      <td>8</td>\n",
              "      <td>EA</td>\n",
              "      <td>20180305</td>\n",
              "      <td>RO</td>\n",
              "      <td>AMER</td>\n",
              "      <td>2018-03-05</td>\n",
              "      <td>0</td>\n",
              "      <td>5</td>\n",
              "      <td>3</td>\n",
              "      <td>2018</td>\n",
              "    </tr>\n",
              "    <tr>\n",
              "      <th>71</th>\n",
              "      <td>500000013</td>\n",
              "      <td>40</td>\n",
              "      <td>RO-1001</td>\n",
              "      <td></td>\n",
              "      <td>USD</td>\n",
              "      <td>525</td>\n",
              "      <td>459.375</td>\n",
              "      <td>65.625</td>\n",
              "      <td>I</td>\n",
              "      <td>NaN</td>\n",
              "      <td>5</td>\n",
              "      <td>EA</td>\n",
              "      <td>20180321</td>\n",
              "      <td>RO</td>\n",
              "      <td>AMER</td>\n",
              "      <td>2018-03-21</td>\n",
              "      <td>2</td>\n",
              "      <td>21</td>\n",
              "      <td>3</td>\n",
              "      <td>2018</td>\n",
              "    </tr>\n",
              "    <tr>\n",
              "      <th>56</th>\n",
              "      <td>500000010</td>\n",
              "      <td>10</td>\n",
              "      <td>RO-1002</td>\n",
              "      <td></td>\n",
              "      <td>USD</td>\n",
              "      <td>689</td>\n",
              "      <td>602.875</td>\n",
              "      <td>86.125</td>\n",
              "      <td>I</td>\n",
              "      <td>NaN</td>\n",
              "      <td>10</td>\n",
              "      <td>EA</td>\n",
              "      <td>20180323</td>\n",
              "      <td>RO</td>\n",
              "      <td>AMER</td>\n",
              "      <td>2018-03-23</td>\n",
              "      <td>4</td>\n",
              "      <td>23</td>\n",
              "      <td>3</td>\n",
              "      <td>2018</td>\n",
              "    </tr>\n",
              "    <tr>\n",
              "      <th>100</th>\n",
              "      <td>500000019</td>\n",
              "      <td>20</td>\n",
              "      <td>RO-1001</td>\n",
              "      <td></td>\n",
              "      <td>USD</td>\n",
              "      <td>525</td>\n",
              "      <td>459.375</td>\n",
              "      <td>65.625</td>\n",
              "      <td>I</td>\n",
              "      <td>NaN</td>\n",
              "      <td>5</td>\n",
              "      <td>EA</td>\n",
              "      <td>20180401</td>\n",
              "      <td>RO</td>\n",
              "      <td>AMER</td>\n",
              "      <td>2018-04-01</td>\n",
              "      <td>6</td>\n",
              "      <td>1</td>\n",
              "      <td>4</td>\n",
              "      <td>2018</td>\n",
              "    </tr>\n",
              "    <tr>\n",
              "      <th>179</th>\n",
              "      <td>500000032</td>\n",
              "      <td>20</td>\n",
              "      <td>RO-1002</td>\n",
              "      <td></td>\n",
              "      <td>USD</td>\n",
              "      <td>689</td>\n",
              "      <td>602.875</td>\n",
              "      <td>86.125</td>\n",
              "      <td>I</td>\n",
              "      <td>NaN</td>\n",
              "      <td>8</td>\n",
              "      <td>EA</td>\n",
              "      <td>20180419</td>\n",
              "      <td>RO</td>\n",
              "      <td>AMER</td>\n",
              "      <td>2018-04-19</td>\n",
              "      <td>3</td>\n",
              "      <td>19</td>\n",
              "      <td>4</td>\n",
              "      <td>2018</td>\n",
              "    </tr>\n",
              "    <tr>\n",
              "      <th>299</th>\n",
              "      <td>500000056</td>\n",
              "      <td>70</td>\n",
              "      <td>RO-1002</td>\n",
              "      <td></td>\n",
              "      <td>USD</td>\n",
              "      <td>689</td>\n",
              "      <td>602.875</td>\n",
              "      <td>86.125</td>\n",
              "      <td>I</td>\n",
              "      <td>NaN</td>\n",
              "      <td>3</td>\n",
              "      <td>EA</td>\n",
              "      <td>20180608</td>\n",
              "      <td>RO</td>\n",
              "      <td>AMER</td>\n",
              "      <td>2018-06-08</td>\n",
              "      <td>4</td>\n",
              "      <td>8</td>\n",
              "      <td>6</td>\n",
              "      <td>2018</td>\n",
              "    </tr>\n",
              "    <tr>\n",
              "      <th>381</th>\n",
              "      <td>500000070</td>\n",
              "      <td>30</td>\n",
              "      <td>RO-1003</td>\n",
              "      <td></td>\n",
              "      <td>USD</td>\n",
              "      <td>721</td>\n",
              "      <td>630.875</td>\n",
              "      <td>90.125</td>\n",
              "      <td>I</td>\n",
              "      <td>NaN</td>\n",
              "      <td>4</td>\n",
              "      <td>EA</td>\n",
              "      <td>20180617</td>\n",
              "      <td>RO</td>\n",
              "      <td>AMER</td>\n",
              "      <td>2018-06-17</td>\n",
              "      <td>6</td>\n",
              "      <td>17</td>\n",
              "      <td>6</td>\n",
              "      <td>2018</td>\n",
              "    </tr>\n",
              "    <tr>\n",
              "      <th>475</th>\n",
              "      <td>500000086</td>\n",
              "      <td>20</td>\n",
              "      <td>RO-1001</td>\n",
              "      <td></td>\n",
              "      <td>USD</td>\n",
              "      <td>525</td>\n",
              "      <td>459.375</td>\n",
              "      <td>65.625</td>\n",
              "      <td>I</td>\n",
              "      <td>NaN</td>\n",
              "      <td>10</td>\n",
              "      <td>EA</td>\n",
              "      <td>20180715</td>\n",
              "      <td>RO</td>\n",
              "      <td>AMER</td>\n",
              "      <td>2018-07-15</td>\n",
              "      <td>6</td>\n",
              "      <td>15</td>\n",
              "      <td>7</td>\n",
              "      <td>2018</td>\n",
              "    </tr>\n",
              "    <tr>\n",
              "      <th>431</th>\n",
              "      <td>500000078</td>\n",
              "      <td>40</td>\n",
              "      <td>RO-1002</td>\n",
              "      <td></td>\n",
              "      <td>USD</td>\n",
              "      <td>689</td>\n",
              "      <td>602.875</td>\n",
              "      <td>86.125</td>\n",
              "      <td>I</td>\n",
              "      <td>NaN</td>\n",
              "      <td>5</td>\n",
              "      <td>EA</td>\n",
              "      <td>20180718</td>\n",
              "      <td>RO</td>\n",
              "      <td>AMER</td>\n",
              "      <td>2018-07-18</td>\n",
              "      <td>2</td>\n",
              "      <td>18</td>\n",
              "      <td>7</td>\n",
              "      <td>2018</td>\n",
              "    </tr>\n",
              "    <tr>\n",
              "      <th>563</th>\n",
              "      <td>500000101</td>\n",
              "      <td>40</td>\n",
              "      <td>RO-1001</td>\n",
              "      <td></td>\n",
              "      <td>USD</td>\n",
              "      <td>525</td>\n",
              "      <td>459.375</td>\n",
              "      <td>65.625</td>\n",
              "      <td>I</td>\n",
              "      <td>NaN</td>\n",
              "      <td>9</td>\n",
              "      <td>EA</td>\n",
              "      <td>20180731</td>\n",
              "      <td>RO</td>\n",
              "      <td>AMER</td>\n",
              "      <td>2018-07-31</td>\n",
              "      <td>1</td>\n",
              "      <td>31</td>\n",
              "      <td>7</td>\n",
              "      <td>2018</td>\n",
              "    </tr>\n",
              "    <tr>\n",
              "      <th>498</th>\n",
              "      <td>500000090</td>\n",
              "      <td>30</td>\n",
              "      <td>RO-1003</td>\n",
              "      <td></td>\n",
              "      <td>USD</td>\n",
              "      <td>721</td>\n",
              "      <td>630.875</td>\n",
              "      <td>90.125</td>\n",
              "      <td>I</td>\n",
              "      <td>NaN</td>\n",
              "      <td>9</td>\n",
              "      <td>EA</td>\n",
              "      <td>20180806</td>\n",
              "      <td>RO</td>\n",
              "      <td>AMER</td>\n",
              "      <td>2018-08-06</td>\n",
              "      <td>0</td>\n",
              "      <td>6</td>\n",
              "      <td>8</td>\n",
              "      <td>2018</td>\n",
              "    </tr>\n",
              "    <tr>\n",
              "      <th>592</th>\n",
              "      <td>500000107</td>\n",
              "      <td>30</td>\n",
              "      <td>RO-1002</td>\n",
              "      <td></td>\n",
              "      <td>USD</td>\n",
              "      <td>689</td>\n",
              "      <td>602.875</td>\n",
              "      <td>86.125</td>\n",
              "      <td>I</td>\n",
              "      <td>NaN</td>\n",
              "      <td>5</td>\n",
              "      <td>EA</td>\n",
              "      <td>20180822</td>\n",
              "      <td>RO</td>\n",
              "      <td>AMER</td>\n",
              "      <td>2018-08-22</td>\n",
              "      <td>2</td>\n",
              "      <td>22</td>\n",
              "      <td>8</td>\n",
              "      <td>2018</td>\n",
              "    </tr>\n",
              "    <tr>\n",
              "      <th>635</th>\n",
              "      <td>500000114</td>\n",
              "      <td>20</td>\n",
              "      <td>RO-1003</td>\n",
              "      <td></td>\n",
              "      <td>USD</td>\n",
              "      <td>721</td>\n",
              "      <td>630.875</td>\n",
              "      <td>90.125</td>\n",
              "      <td>I</td>\n",
              "      <td>NaN</td>\n",
              "      <td>10</td>\n",
              "      <td>EA</td>\n",
              "      <td>20180902</td>\n",
              "      <td>RO</td>\n",
              "      <td>AMER</td>\n",
              "      <td>2018-09-02</td>\n",
              "      <td>6</td>\n",
              "      <td>2</td>\n",
              "      <td>9</td>\n",
              "      <td>2018</td>\n",
              "    </tr>\n",
              "    <tr>\n",
              "      <th>734</th>\n",
              "      <td>500000131</td>\n",
              "      <td>60</td>\n",
              "      <td>RO-1001</td>\n",
              "      <td></td>\n",
              "      <td>USD</td>\n",
              "      <td>525</td>\n",
              "      <td>459.375</td>\n",
              "      <td>65.625</td>\n",
              "      <td>I</td>\n",
              "      <td>NaN</td>\n",
              "      <td>7</td>\n",
              "      <td>EA</td>\n",
              "      <td>20181010</td>\n",
              "      <td>RO</td>\n",
              "      <td>AMER</td>\n",
              "      <td>2018-10-10</td>\n",
              "      <td>2</td>\n",
              "      <td>10</td>\n",
              "      <td>10</td>\n",
              "      <td>2018</td>\n",
              "    </tr>\n",
              "    <tr>\n",
              "      <th>908</th>\n",
              "      <td>500000157</td>\n",
              "      <td>90</td>\n",
              "      <td>RO-1001</td>\n",
              "      <td></td>\n",
              "      <td>USD</td>\n",
              "      <td>525</td>\n",
              "      <td>459.375</td>\n",
              "      <td>65.625</td>\n",
              "      <td>I</td>\n",
              "      <td>NaN</td>\n",
              "      <td>8</td>\n",
              "      <td>EA</td>\n",
              "      <td>20181110</td>\n",
              "      <td>RO</td>\n",
              "      <td>AMER</td>\n",
              "      <td>2018-11-10</td>\n",
              "      <td>5</td>\n",
              "      <td>10</td>\n",
              "      <td>11</td>\n",
              "      <td>2018</td>\n",
              "    </tr>\n",
              "  </tbody>\n",
              "</table>\n",
              "</div>"
            ],
            "text/plain": [
              "     SALESORDERID  SALESORDERITEM PRODUCTID NOTEID  ... weekday  day  mount  year\n",
              "96      500000017              70   RO-1001         ...       0    5      3  2018\n",
              "71      500000013              40   RO-1001         ...       2   21      3  2018\n",
              "56      500000010              10   RO-1002         ...       4   23      3  2018\n",
              "100     500000019              20   RO-1001         ...       6    1      4  2018\n",
              "179     500000032              20   RO-1002         ...       3   19      4  2018\n",
              "299     500000056              70   RO-1002         ...       4    8      6  2018\n",
              "381     500000070              30   RO-1003         ...       6   17      6  2018\n",
              "475     500000086              20   RO-1001         ...       6   15      7  2018\n",
              "431     500000078              40   RO-1002         ...       2   18      7  2018\n",
              "563     500000101              40   RO-1001         ...       1   31      7  2018\n",
              "498     500000090              30   RO-1003         ...       0    6      8  2018\n",
              "592     500000107              30   RO-1002         ...       2   22      8  2018\n",
              "635     500000114              20   RO-1003         ...       6    2      9  2018\n",
              "734     500000131              60   RO-1001         ...       2   10     10  2018\n",
              "908     500000157              90   RO-1001         ...       5   10     11  2018\n",
              "\n",
              "[15 rows x 20 columns]"
            ]
          },
          "metadata": {},
          "execution_count": 224
        }
      ]
    },
    {
      "cell_type": "code",
      "metadata": {
        "id": "G-RKMt9jyab8"
      },
      "source": [
        "\n",
        "import matplotlib.pyplot as plt\n"
      ],
      "execution_count": 201,
      "outputs": []
    },
    {
      "cell_type": "code",
      "metadata": {
        "id": "f1WooN9Sy4jV"
      },
      "source": [
        "ORDER_RO_A=RO_AMERICA_18['SALESORDERITEM']\n",
        "WEEKDAY_RO_A=RO_AMERICA_18['weekday']"
      ],
      "execution_count": 225,
      "outputs": []
    },
    {
      "cell_type": "code",
      "metadata": {
        "colab": {
          "base_uri": "https://localhost:8080/",
          "height": 309
        },
        "id": "h2hlOCc7y1Z2",
        "outputId": "0119f289-9035-43d6-f933-5131c268ac2d"
      },
      "source": [
        "\n",
        "plt.scatter(ORDER_RO_A,WEEKDAY_RO_A,color='navy') #พบว่าวันที่มีคำสังซื้อเยอะที่สุดคือวันศุกร์\n",
        "plt.ylabel('Weekday')\n",
        "plt.xlabel('Sale_Order')\n",
        "plt.suptitle('Road Bike_America_18',fontsize=16)\n",
        "plt.show()"
      ],
      "execution_count": 226,
      "outputs": [
        {
          "output_type": "display_data",
          "data": {
            "image/png": "[encoded data removed]",
            "text/plain": [
              "<Figure size 432x288 with 1 Axes>"
            ]
          },
          "metadata": {
            "needs_background": "light"
          }
        }
      ]
    },
    {
      "cell_type": "markdown",
      "metadata": {
        "id": "s9Ee3EO83FNa"
      },
      "source": [
        "######เรียกดูข้อมูลปี 2019"
      ]
    },
    {
      "cell_type": "code",
      "metadata": {
        "id": "m8ukcXjl3LwW"
      },
      "source": [
        "RO_AMER_2019=RO_AMER[RO_AMER['year']==2019]"
      ],
      "execution_count": 227,
      "outputs": []
    },
    {
      "cell_type": "code",
      "metadata": {
        "colab": {
          "base_uri": "https://localhost:8080/"
        },
        "id": "nwp1YiSZ3OwR",
        "outputId": "dd774641-bacf-4ba1-fbc1-5922516bc35e"
      },
      "source": [
        "set(RO_AMER_2019['mount'])"
      ],
      "execution_count": 228,
      "outputs": [
        {
          "output_type": "execute_result",
          "data": {
            "text/plain": [
              "{1, 2, 3, 4, 5, 6, 12}"
            ]
          },
          "metadata": {},
          "execution_count": 228
        }
      ]
    },
    {
      "cell_type": "code",
      "metadata": {
        "id": "5cbzZCHn3TUg"
      },
      "source": [
        "RO_AMERICA_19=RO_AMER_2019.sort_values(by='mount').drop([1358,1372,1613,1614,1886])"
      ],
      "execution_count": 229,
      "outputs": []
    },
    {
      "cell_type": "code",
      "metadata": {
        "id": "l8_muR025WG_"
      },
      "source": [
        "ORDER_RO_A=RO_AMERICA_19['SALESORDERITEM']\n",
        "WEEKDAY_RO_A=RO_AMERICA_19['weekday']"
      ],
      "execution_count": 230,
      "outputs": []
    },
    {
      "cell_type": "code",
      "metadata": {
        "colab": {
          "base_uri": "https://localhost:8080/",
          "height": 309
        },
        "id": "wNeSJAVk5mve",
        "outputId": "ce08375b-ee9b-4edf-8367-4136933815bc"
      },
      "source": [
        "\n",
        "plt.scatter(ORDER_RO_A,WEEKDAY_RO_A,color='navy') #พบว่าวันที่มีคำสังซื้อเยอะที่สุดคือวันพุธ\n",
        "plt.ylabel('Weekday')\n",
        "plt.xlabel('Sale_Order')\n",
        "plt.suptitle('Road Bike_America_19',fontsize=16)\n",
        "plt.show()"
      ],
      "execution_count": 231,
      "outputs": [
        {
          "output_type": "display_data",
          "data": {
            "image/png": "[encoded data removed]",
            "text/plain": [
              "<Figure size 432x288 with 1 Axes>"
            ]
          },
          "metadata": {
            "needs_background": "light"
          }
        }
      ]
    },
    {
      "cell_type": "code",
      "metadata": {
        "id": "60hd-5aB6GrN"
      },
      "source": [
        "RO_AMERICA= pd.concat([RO_AMERICA_18,RO_AMERICA_19])"
      ],
      "execution_count": 232,
      "outputs": []
    },
    {
      "cell_type": "markdown",
      "metadata": {
        "id": "NIkRBxvL2tLC"
      },
      "source": [
        "######2) Region: Asia_Pacific_and_Japan"
      ]
    },
    {
      "cell_type": "code",
      "metadata": {
        "id": "LiNDYF_p2s0j"
      },
      "source": [
        "RO_APJ=RO[RO['Region']=='APJ'] #ทวีป Asia_Pacific_and_Japan"
      ],
      "execution_count": 233,
      "outputs": []
    },
    {
      "cell_type": "markdown",
      "metadata": {
        "id": "g5KbsQDo7EI2"
      },
      "source": [
        "######เรียกดูข้อมูลปี 2018 "
      ]
    },
    {
      "cell_type": "code",
      "metadata": {
        "id": "a7zkG4qV7FKC"
      },
      "source": [
        "RO_APJ_2018=RO_APJ[RO_APJ['year']==2018]"
      ],
      "execution_count": 249,
      "outputs": []
    },
    {
      "cell_type": "code",
      "metadata": {
        "id": "vGHALuIB7Qkb"
      },
      "source": [
        "RO_APJ_18=RO_APJ_2018.sort_values(by='mount').drop(849)"
      ],
      "execution_count": 250,
      "outputs": []
    },
    {
      "cell_type": "code",
      "metadata": {
        "id": "2Nuf_qCt8XEw"
      },
      "source": [
        "ORDER_RO_A=RO_APJ_18['SALESORDERITEM']\n",
        "WEEKDAY_RO_A=RO_APJ_18['weekday']"
      ],
      "execution_count": 251,
      "outputs": []
    },
    {
      "cell_type": "code",
      "metadata": {
        "colab": {
          "base_uri": "https://localhost:8080/",
          "height": 309
        },
        "id": "fXQXstyk8afc",
        "outputId": "aa86949c-ca09-421f-8adc-2e9d1a22751c"
      },
      "source": [
        "\n",
        "plt.scatter(ORDER_RO_A,WEEKDAY_RO_A,color='navy') #พบว่าวันที่มีคำสังซื้อเยอะที่สุดคือวันพุธ และวันเสาร์\n",
        "plt.ylabel('Weekday')\n",
        "plt.xlabel('Sale_Order')\n",
        "plt.suptitle('Road Bike_APJ_2018',fontsize=16)\n",
        "plt.show()"
      ],
      "execution_count": 253,
      "outputs": [
        {
          "output_type": "display_data",
          "data": {
            "image/png": "[encoded data removed]",
            "text/plain": [
              "<Figure size 432x288 with 1 Axes>"
            ]
          },
          "metadata": {
            "needs_background": "light"
          }
        }
      ]
    },
    {
      "cell_type": "markdown",
      "metadata": {
        "id": "hblYEm6C89nJ"
      },
      "source": [
        "######เรียกดูข้อมูลปี 2019"
      ]
    },
    {
      "cell_type": "code",
      "metadata": {
        "id": "yg6R4YR789F-"
      },
      "source": [
        "RO_APJ_2019=RO_APJ[RO_APJ['year']==2019]"
      ],
      "execution_count": 243,
      "outputs": []
    },
    {
      "cell_type": "code",
      "metadata": {
        "id": "vxrY1HjY9E7Y"
      },
      "source": [
        "RO_APJ_19=RO_APJ_2019.sort_values(by='mount').drop([1184,1199,1277,1544])"
      ],
      "execution_count": 248,
      "outputs": []
    },
    {
      "cell_type": "code",
      "metadata": {
        "colab": {
          "base_uri": "https://localhost:8080/",
          "height": 309
        },
        "id": "5i9kVEdv91Y4",
        "outputId": "7ad60a71-e1d0-43bb-b290-cb9a658b3a8b"
      },
      "source": [
        "ORDER_RO_A=RO_APJ_19['SALESORDERITEM']\n",
        "WEEKDAY_RO_A=RO_APJ_19['weekday']\n",
        "plt.scatter(ORDER_RO_A,WEEKDAY_RO_A,color='navy') #พบว่าวันที่มีคำสังซื้อเยอะที่สุดคือวันพุธ และวันจันทร์\n",
        "plt.ylabel('Weekday')\n",
        "plt.xlabel('Sale_Order')\n",
        "plt.suptitle('Road Bike_APJ_2019',fontsize=16)\n",
        "plt.show()"
      ],
      "execution_count": 254,
      "outputs": [
        {
          "output_type": "display_data",
          "data": {
            "image/png": "[encoded data removed]",
            "text/plain": [
              "<Figure size 432x288 with 1 Axes>"
            ]
          },
          "metadata": {
            "needs_background": "light"
          }
        }
      ]
    },
    {
      "cell_type": "code",
      "metadata": {
        "id": "izpQcRiVClLH"
      },
      "source": [
        "RO_AP_J= pd.concat([RO_APJ_18,RO_APJ_19])"
      ],
      "execution_count": 278,
      "outputs": []
    },
    {
      "cell_type": "markdown",
      "metadata": {
        "id": "jC4Vcb9s-r4o"
      },
      "source": [
        "######3) Region:Europe_the_Middle_East_and_Africa"
      ]
    },
    {
      "cell_type": "code",
      "metadata": {
        "id": "FtKoCsp6-ro5"
      },
      "source": [
        "RO_EMEA=RO[RO['Region']=='EMEA'] #ทวีป Europe_the_Middle_East_and_Africa"
      ],
      "execution_count": 255,
      "outputs": []
    },
    {
      "cell_type": "markdown",
      "metadata": {
        "id": "xpof_8Jv_i4E"
      },
      "source": [
        "######เรียกดูข้อมูลปี 2018 "
      ]
    },
    {
      "cell_type": "code",
      "metadata": {
        "id": "84dLH2Ug_imT"
      },
      "source": [
        "RO_EMEA_2018=RO_EMEA[RO_EMEA['year']==2018]"
      ],
      "execution_count": 263,
      "outputs": []
    },
    {
      "cell_type": "code",
      "metadata": {
        "id": "UpbbUyHz_DTX"
      },
      "source": [
        "RO_EMEA_18=RO_EMEA_2018.sort_values(by='mount').drop([127,555,992,920,1082]) #ตัดข้อมูลที่สั่งในวันเดียวกันที่มีจำนวนคำสั่งซื้อน้อยกว่าทิ้ง "
      ],
      "execution_count": 267,
      "outputs": []
    },
    {
      "cell_type": "code",
      "metadata": {
        "colab": {
          "base_uri": "https://localhost:8080/",
          "height": 309
        },
        "id": "_MyHdHrFAwlG",
        "outputId": "400d453f-5e38-481d-8a43-080234400138"
      },
      "source": [
        "ORDER_RO_A=RO_EMEA_18['SALESORDERITEM']\n",
        "WEEKDAY_RO_A=RO_EMEA_18['weekday']\n",
        "plt.scatter(ORDER_RO_A,WEEKDAY_RO_A,color='navy') #พบว่าวันที่มีคำสังซื้อเยอะที่สุดคือวันพุธ และวันจันทร์\n",
        "plt.ylabel('Weekday')\n",
        "plt.xlabel('Sale_Order')\n",
        "plt.suptitle('Road Bike_AMEA_2019',fontsize=16)\n",
        "plt.show()"
      ],
      "execution_count": 268,
      "outputs": [
        {
          "output_type": "display_data",
          "data": {
            "image/png": "[encoded data removed]",
            "text/plain": [
              "<Figure size 432x288 with 1 Axes>"
            ]
          },
          "metadata": {
            "needs_background": "light"
          }
        }
      ]
    },
    {
      "cell_type": "markdown",
      "metadata": {
        "id": "M36mJdB5A5b4"
      },
      "source": [
        "######เรียกดูข้อมูลปี 2019"
      ]
    },
    {
      "cell_type": "code",
      "metadata": {
        "id": "KY-Mjt8ZA8pz"
      },
      "source": [
        "RO_EMEA_2019=RO_EMEA[RO_EMEA['year']==2019]"
      ],
      "execution_count": 272,
      "outputs": []
    },
    {
      "cell_type": "code",
      "metadata": {
        "id": "cQoVOFmPBFhn"
      },
      "source": [
        "RO_EMEA_19=RO_EMEA_2019.sort_values(by='mount').drop([1072,1167,1260,1287,1850])#ตัดข้อมูลที่สั่งในวันเดียวกันที่มีจำนวนคำสั่งซื้อน้อยกว่าทิ้ง "
      ],
      "execution_count": 275,
      "outputs": []
    },
    {
      "cell_type": "code",
      "metadata": {
        "colab": {
          "base_uri": "https://localhost:8080/",
          "height": 309
        },
        "id": "l-aH3XgmCPxV",
        "outputId": "e47a94b5-00d5-4a57-f7e2-207e0cd4b50f"
      },
      "source": [
        "ORDER_RO_A=RO_EMEA_19['SALESORDERITEM']\n",
        "WEEKDAY_RO_A=RO_EMEA_19['weekday']\n",
        "plt.scatter(ORDER_RO_A,WEEKDAY_RO_A,color='navy') #พบว่าวันที่มีคำสังซื้อเยอะที่สุดคือวันอาทิตย์\n",
        "plt.ylabel('Weekday')\n",
        "plt.xlabel('Sale_Order')\n",
        "plt.suptitle('Road Bike_EMEA_2019',fontsize=16)\n",
        "plt.show()"
      ],
      "execution_count": 277,
      "outputs": [
        {
          "output_type": "display_data",
          "data": {
            "image/png": "[encoded data removed]",
            "text/plain": [
              "<Figure size 432x288 with 1 Axes>"
            ]
          },
          "metadata": {
            "needs_background": "light"
          }
        }
      ]
    },
    {
      "cell_type": "code",
      "metadata": {
        "id": "fa-JQt2WCe-_"
      },
      "source": [
        "RO_E_MEA= pd.concat([RO_EMEA_18,RO_EMEA_19])"
      ],
      "execution_count": 279,
      "outputs": []
    },
    {
      "cell_type": "markdown",
      "metadata": {
        "id": "6Nlnq3q-C-ux"
      },
      "source": [
        "######รวมตาราง ทั้งสามทวีป"
      ]
    },
    {
      "cell_type": "code",
      "metadata": {
        "id": "T3qhNuRbDD2E"
      },
      "source": [
        "Road_Bike= pd.concat([RO_AMERICA,RO_AP_J,RO_E_MEA])"
      ],
      "execution_count": 280,
      "outputs": []
    },
    {
      "cell_type": "code",
      "metadata": {
        "colab": {
          "base_uri": "https://localhost:8080/",
          "height": 309
        },
        "id": "lOEYWZEUDYTq",
        "outputId": "a561fdcf-aee2-40ff-cb22-39afa4e24d45"
      },
      "source": [
        "ORDER_RO_A=Road_Bike['SALESORDERITEM']\n",
        "WEEKDAY_RO_A=Road_Bike['weekday']\n",
        "plt.scatter(ORDER_RO_A,WEEKDAY_RO_A,color='navy') #พบว่าวันที่มีคำสังซื้อเยอะที่สุดคือวันอาทิตย์ จันทร์ และ ศุกร์\n",
        "plt.ylabel('Weekday')\n",
        "plt.xlabel('Sale_Order')\n",
        "plt.suptitle('Road Bike',fontsize=16)\n",
        "plt.show()"
      ],
      "execution_count": 282,
      "outputs": [
        {
          "output_type": "display_data",
          "data": {
            "image/png": "[encoded data removed]",
            "text/plain": [
              "<Figure size 432x288 with 1 Axes>"
            ]
          },
          "metadata": {
            "needs_background": "light"
          }
        }
      ]
    },
    {
      "cell_type": "markdown",
      "metadata": {
        "id": "oJ7G-lNtEDE8"
      },
      "source": [
        "####4.3 รถจักยานต์ชนิด BMX : BX"
      ]
    },
    {
      "cell_type": "code",
      "metadata": {
        "id": "0cpjV7_5EPR2"
      },
      "source": [
        "BX=Sale[Sale['name_product']=='BX']"
      ],
      "execution_count": 283,
      "outputs": []
    },
    {
      "cell_type": "markdown",
      "metadata": {
        "id": "6x1x26ZeEY8i"
      },
      "source": [
        "#####4.3.1 ดูข้อมูลในแต่ละทวีป"
      ]
    },
    {
      "cell_type": "markdown",
      "metadata": {
        "id": "ugNYbHnKEjKh"
      },
      "source": [
        "######1) Region:America"
      ]
    },
    {
      "cell_type": "code",
      "metadata": {
        "id": "SxBJziGHE0I4"
      },
      "source": [
        "BX_AMER=BX[BX['Region']=='AMER'] #ทวีป America"
      ],
      "execution_count": 285,
      "outputs": []
    },
    {
      "cell_type": "markdown",
      "metadata": {
        "id": "En1AL0prFCM4"
      },
      "source": [
        "######เรียกดูข้อมูลปี 2018 "
      ]
    },
    {
      "cell_type": "code",
      "metadata": {
        "id": "XNO6b375FFEM"
      },
      "source": [
        "BX_AMER_2018=BX_AMER[BX_AMER['year']==2018]"
      ],
      "execution_count": 287,
      "outputs": []
    },
    {
      "cell_type": "code",
      "metadata": {
        "id": "_a4zcTXDFLhg"
      },
      "source": [
        "BX_AMER_18=BX_AMER_2018.sort_values(by='mount').drop([595,596,600,601,602,680,833,770])"
      ],
      "execution_count": 291,
      "outputs": []
    },
    {
      "cell_type": "code",
      "metadata": {
        "colab": {
          "base_uri": "https://localhost:8080/",
          "height": 309
        },
        "id": "WlkxZPHsGPdf",
        "outputId": "d3aa29c4-ce80-429c-d087-6df9d999d7ab"
      },
      "source": [
        "ORDER_RO_A=BX_AMER_18['SALESORDERITEM']\n",
        "WEEKDAY_RO_A=BX_AMER_18['weekday']\n",
        "plt.scatter(ORDER_RO_A,WEEKDAY_RO_A,color='navy') #พบว่าวันที่มีคำสังซื้อเยอะที่สุดคือวันพุธ และวันจันทร์\n",
        "plt.ylabel('Weekday')\n",
        "plt.xlabel('Sale_Order')\n",
        "plt.suptitle('BMX_AMER_18',fontsize=16)\n",
        "plt.show()"
      ],
      "execution_count": 293,
      "outputs": [
        {
          "output_type": "display_data",
          "data": {
            "image/png": "[encoded data removed]",
            "text/plain": [
              "<Figure size 432x288 with 1 Axes>"
            ]
          },
          "metadata": {
            "needs_background": "light"
          }
        }
      ]
    },
    {
      "cell_type": "markdown",
      "metadata": {
        "id": "ykNNCZaZFDnR"
      },
      "source": [
        "######เรียกดูข้อมูลปี *2019* "
      ]
    },
    {
      "cell_type": "code",
      "metadata": {
        "id": "5SLZvbOPGSBp"
      },
      "source": [
        "BX_AMER_2019=BX_AMER[BX_AMER['year']==2019]"
      ],
      "execution_count": 294,
      "outputs": []
    },
    {
      "cell_type": "code",
      "metadata": {
        "id": "FXyZH1tcGR21"
      },
      "source": [
        "BX_AMER_19=BX_AMER_2019.sort_values(by='mount').drop([1407,1416,1413,1368,1579,1719,1760,1908,1770,1893])"
      ],
      "execution_count": 298,
      "outputs": []
    },
    {
      "cell_type": "code",
      "metadata": {
        "colab": {
          "base_uri": "https://localhost:8080/",
          "height": 309
        },
        "id": "gUC0uGJ-E9yj",
        "outputId": "b221890e-342e-40a1-82cf-c6c6c2f00b40"
      },
      "source": [
        "ORDER_RO_A=BX_AMER_19['SALESORDERITEM']\n",
        "WEEKDAY_RO_A=BX_AMER_19['weekday']\n",
        "plt.scatter(ORDER_RO_A,WEEKDAY_RO_A,color='navy') #พบว่าวันที่มีคำสังซื้อเยอะที่สุดคือวันพุธ และวันจันทร์\n",
        "plt.ylabel('Weekday')\n",
        "plt.xlabel('Sale_Order')\n",
        "plt.suptitle('BMX_AMER_19',fontsize=16)\n",
        "plt.show()"
      ],
      "execution_count": 299,
      "outputs": [
        {
          "output_type": "display_data",
          "data": {
            "image/png": "[encoded data removed]",
            "text/plain": [
              "<Figure size 432x288 with 1 Axes>"
            ]
          },
          "metadata": {
            "needs_background": "light"
          }
        }
      ]
    },
    {
      "cell_type": "code",
      "metadata": {
        "id": "0AHx9h2OITv1"
      },
      "source": [
        "BX_A_MER= pd.concat([BX_AMER_18,BX_AMER_19])"
      ],
      "execution_count": 300,
      "outputs": []
    },
    {
      "cell_type": "markdown",
      "metadata": {
        "id": "mYH7VO6bEjEO"
      },
      "source": [
        "######2) Region: Asia_Pacific_and_Japan"
      ]
    },
    {
      "cell_type": "code",
      "metadata": {
        "id": "iKU77JW2Iupd"
      },
      "source": [
        "BX_APJ=BX[BX['Region']=='APJ'] #ทวีป America"
      ],
      "execution_count": 301,
      "outputs": []
    },
    {
      "cell_type": "markdown",
      "metadata": {
        "id": "n5mPdiVVJQK-"
      },
      "source": [
        "######เรียกดูข้อมูลปี 2018 "
      ]
    },
    {
      "cell_type": "code",
      "metadata": {
        "id": "gnUsnN0sIlVI"
      },
      "source": [
        "BX_APJ_2018=BX_APJ[BX_APJ['year']==2018]"
      ],
      "execution_count": 305,
      "outputs": []
    },
    {
      "cell_type": "code",
      "metadata": {
        "colab": {
          "base_uri": "https://localhost:8080/"
        },
        "id": "QG2df7-xIlMG",
        "outputId": "73ad676d-6584-4dbb-a989-b7145b243155"
      },
      "source": [
        "set(BX_APJ['mount'])"
      ],
      "execution_count": 303,
      "outputs": [
        {
          "output_type": "execute_result",
          "data": {
            "text/plain": [
              "{1, 2, 3, 4, 5, 6, 7, 8, 9, 10, 11, 12}"
            ]
          },
          "metadata": {},
          "execution_count": 303
        }
      ]
    },
    {
      "cell_type": "code",
      "metadata": {
        "id": "5mB70H4eIlDw"
      },
      "source": [
        "BX_APJ_2018_6=BX_APJ_2018[(BX_APJ_2018['mount']>=1)&(BX_APJ_2018['mount']<=6)].sort_values(by='mount').drop([10,46,239,238,117,155,242,245,349,357,358]) #ครึ่งปีแรก"
      ],
      "execution_count": 312,
      "outputs": []
    },
    {
      "cell_type": "code",
      "metadata": {
        "id": "F5BC_5LQIkvV"
      },
      "source": [
        "BX_APJ_2018_12=BX_APJ_2018[(BX_APJ_2018['mount']>=7)&(BX_APJ_2018['mount']<=12)].sort_values(by='mount').drop([391,395,538,645,666,678,823,786,795,973,968,967,851,977,981,1062,1116]) #ครึ่งปีหลัง"
      ],
      "execution_count": 316,
      "outputs": []
    },
    {
      "cell_type": "code",
      "metadata": {
        "id": "uG4xIQDANMHx"
      },
      "source": [
        "BX_APJ_18= pd.concat([BX_APJ_2018_6,BX_APJ_2018_12])"
      ],
      "execution_count": 317,
      "outputs": []
    },
    {
      "cell_type": "code",
      "metadata": {
        "colab": {
          "base_uri": "https://localhost:8080/",
          "height": 309
        },
        "id": "qluAnjESNXX_",
        "outputId": "b180d563-afed-479f-9e28-dfb2b36ec35b"
      },
      "source": [
        "ORDER_RO_A=BX_APJ_18['SALESORDERITEM']\n",
        "WEEKDAY_RO_A=BX_APJ_18['weekday']\n",
        "plt.scatter(ORDER_RO_A,WEEKDAY_RO_A,color='navy') #พบว่าวันที่มีคำสังซื้อเยอะที่สุดคือวันพุธ และวันเสาร์\n",
        "plt.ylabel('Weekday')\n",
        "plt.xlabel('Sale_Order')\n",
        "plt.suptitle('BMX_APJ_2018',fontsize=16)\n",
        "plt.show()"
      ],
      "execution_count": 319,
      "outputs": [
        {
          "output_type": "display_data",
          "data": {
            "image/png": "[encoded data removed]",
            "text/plain": [
              "<Figure size 432x288 with 1 Axes>"
            ]
          },
          "metadata": {
            "needs_background": "light"
          }
        }
      ]
    },
    {
      "cell_type": "markdown",
      "metadata": {
        "id": "7JfTzsMpNoG7"
      },
      "source": [
        "######เรียกดูข้อมูลปี 2019 "
      ]
    },
    {
      "cell_type": "code",
      "metadata": {
        "id": "nc54K9KiNXQZ"
      },
      "source": [
        "BX_APJ_2019=BX_APJ[BX_APJ['year']==2019]"
      ],
      "execution_count": 320,
      "outputs": []
    },
    {
      "cell_type": "code",
      "metadata": {
        "id": "7OPtEO6QN7uW"
      },
      "source": [
        "BX_APJ_19=BX_APJ_2019.sort_values(by='mount').drop([1200,1269,1432,1521,1636,1600,1598,1926,1928])"
      ],
      "execution_count": 325,
      "outputs": []
    },
    {
      "cell_type": "code",
      "metadata": {
        "colab": {
          "base_uri": "https://localhost:8080/",
          "height": 309
        },
        "id": "hVTNvHOXPQlR",
        "outputId": "23194939-4e1e-4ee8-d237-2bfc62f04088"
      },
      "source": [
        "ORDER_RO_A=BX_APJ_19['SALESORDERITEM']\n",
        "WEEKDAY_RO_A=BX_APJ_19['weekday']\n",
        "plt.scatter(ORDER_RO_A,WEEKDAY_RO_A,color='navy') #พบว่าวันที่มีคำสังซื้อเยอะที่สุดคือวันอังคาร\n",
        "plt.ylabel('Weekday')\n",
        "plt.xlabel('Sale_Order')\n",
        "plt.suptitle('BMX_APJ_2019',fontsize=16)\n",
        "plt.show()"
      ],
      "execution_count": 326,
      "outputs": [
        {
          "output_type": "display_data",
          "data": {
            "image/png": "[encoded data removed]",
            "text/plain": [
              "<Figure size 432x288 with 1 Axes>"
            ]
          },
          "metadata": {
            "needs_background": "light"
          }
        }
      ]
    },
    {
      "cell_type": "markdown",
      "metadata": {
        "id": "J_B5rBzZEi-s"
      },
      "source": [
        "######3) Region:Europe_the_Middle_East_and_Africa"
      ]
    },
    {
      "cell_type": "code",
      "metadata": {
        "id": "RQtbumwFEfER"
      },
      "source": [
        "ORDER_RO_A=BX_APJ_18['SALESORDERITEM']\n",
        "WEEKDAY_RO_A=BX_APJ_18['weekday']\n",
        "plt.scatter(ORDER_RO_A,WEEKDAY_RO_A,color='navy') #พบว่าวันที่มีคำสังซื้อเยอะที่สุดคือวันพุธ และวันเสาร์\n",
        "plt.ylabel('Weekday')\n",
        "plt.xlabel('Sale_Order')\n",
        "plt.suptitle('BMX_APJ_2018',fontsize=16)\n",
        "plt.show()"
      ],
      "execution_count": null,
      "outputs": []
    }
  ]
}