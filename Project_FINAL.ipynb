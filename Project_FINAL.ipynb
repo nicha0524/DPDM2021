{
  "nbformat": 4,
  "nbformat_minor": 0,
  "metadata": {
    "colab": {
      "name": "Untitled11.ipynb",
      "provenance": [],
      "authorship_tag": "ABX9TyN3CyALeD/+o91yoH3FzAPf",
      "include_colab_link": true
    },
    "kernelspec": {
      "name": "python3",
      "display_name": "Python 3"
    },
    "language_info": {
      "name": "python"
    }
  },
  "cells": [
    {
      "cell_type": "markdown",
      "metadata": {
        "id": "view-in-github",
        "colab_type": "text"
      },
      "source": [
        "<a href=\"https://colab.research.google.com/github/nicha0524/DPDM2021/blob/main/Project_FINAL.ipynb\" target=\"_parent\"><img src=\"https://colab.research.google.com/assets/colab-badge.svg\" alt=\"Open In Colab\"/></a>"
      ]
    },
    {
      "cell_type": "markdown",
      "metadata": {
        "id": "TJjjIljiLJWK"
      },
      "source": [
        "#คาดการณ์การซื้อตามชนิดจักรยานต์โดยวิเคราะจากทวีปคู่ค้าและวันในสัปดาห์"
      ]
    },
    {
      "cell_type": "markdown",
      "metadata": {
        "id": "1oqnyfBZLeMz"
      },
      "source": [
        "##Preprocessing"
      ]
    },
    {
      "cell_type": "markdown",
      "metadata": {
        "id": "8gcoHEY_TpUZ"
      },
      "source": [
        "###ขั้นที่ 1 ดึงข้อมูลจาก drive"
      ]
    },
    {
      "cell_type": "code",
      "metadata": {
        "id": "uoXO8Ii8HLXt"
      },
      "source": [
        "import pandas as pd"
      ],
      "execution_count": 323,
      "outputs": []
    },
    {
      "cell_type": "code",
      "metadata": {
        "colab": {
          "base_uri": "https://localhost:8080/"
        },
        "id": "5FZme5DjHN4R",
        "outputId": "d3b8f273-c649-4539-c29e-6ddbb765847b"
      },
      "source": [
        "from google.colab import drive # เชื่อม google drive\n",
        "drive.mount('/content/drive')"
      ],
      "execution_count": 324,
      "outputs": [
        {
          "output_type": "stream",
          "name": "stdout",
          "text": [
            "Drive already mounted at /content/drive; to attempt to forcibly remount, call drive.mount(\"/content/drive\", force_remount=True).\n"
          ]
        }
      ]
    },
    {
      "cell_type": "code",
      "metadata": {
        "id": "TOk2Y1ECHN1P"
      },
      "source": [
        "import os # จัดการไฟล์และ path"
      ],
      "execution_count": 325,
      "outputs": []
    },
    {
      "cell_type": "markdown",
      "metadata": {
        "id": "ubg7J0l7UWHS"
      },
      "source": [
        "##### ตารางที่ 1 Products (ใช้ข้อมูล PRODCATEGORYID)"
      ]
    },
    {
      "cell_type": "code",
      "metadata": {
        "colab": {
          "base_uri": "https://localhost:8080/",
          "height": 0
        },
        "id": "qNwYyBcZKJCZ",
        "outputId": "30187a95-22b2-495f-c8b2-0dcbba924342"
      },
      "source": [
        "path = '/content/drive/My Drive/DPDM2021_DATA' #    เรียกข้อมูลจาก drive\n",
        "Products= pd.read_csv(os.path.join(path,'Products.csv')) # read ข้อมูลจาก Excel โดยใช้ คำสั่ง  pd.read_csv\n",
        "Products"
      ],
      "execution_count": 326,
      "outputs": [
        {
          "output_type": "execute_result",
          "data": {
            "text/html": [
              "<div>\n",
              "<style scoped>\n",
              "    .dataframe tbody tr th:only-of-type {\n",
              "        vertical-align: middle;\n",
              "    }\n",
              "\n",
              "    .dataframe tbody tr th {\n",
              "        vertical-align: top;\n",
              "    }\n",
              "\n",
              "    .dataframe thead th {\n",
              "        text-align: right;\n",
              "    }\n",
              "</style>\n",
              "<table border=\"1\" class=\"dataframe\">\n",
              "  <thead>\n",
              "    <tr style=\"text-align: right;\">\n",
              "      <th></th>\n",
              "      <th>PRODUCTID</th>\n",
              "      <th>TYPECODE</th>\n",
              "      <th>PRODCATEGORYID</th>\n",
              "      <th>CREATEDBY</th>\n",
              "      <th>CREATEDAT</th>\n",
              "      <th>CHANGEDBY</th>\n",
              "      <th>CHANGEDAT</th>\n",
              "      <th>SUPPLIER_PARTNERID</th>\n",
              "      <th>TAXTARIFFCODE</th>\n",
              "      <th>QUANTITYUNIT</th>\n",
              "      <th>WEIGHTMEASURE</th>\n",
              "      <th>WEIGHTUNIT</th>\n",
              "      <th>CURRENCY</th>\n",
              "      <th>PRICE</th>\n",
              "    </tr>\n",
              "  </thead>\n",
              "  <tbody>\n",
              "    <tr>\n",
              "      <th>0</th>\n",
              "      <td>RO-1001</td>\n",
              "      <td>PR</td>\n",
              "      <td>RO</td>\n",
              "      <td>9</td>\n",
              "      <td>20181003</td>\n",
              "      <td>9</td>\n",
              "      <td>20181003</td>\n",
              "      <td>100000000</td>\n",
              "      <td>1</td>\n",
              "      <td>EA</td>\n",
              "      <td>7.7</td>\n",
              "      <td>KG</td>\n",
              "      <td>USD</td>\n",
              "      <td>525</td>\n",
              "    </tr>\n",
              "    <tr>\n",
              "      <th>1</th>\n",
              "      <td>RO-1002</td>\n",
              "      <td>PR</td>\n",
              "      <td>RO</td>\n",
              "      <td>9</td>\n",
              "      <td>20181003</td>\n",
              "      <td>9</td>\n",
              "      <td>20181003</td>\n",
              "      <td>100000001</td>\n",
              "      <td>1</td>\n",
              "      <td>EA</td>\n",
              "      <td>8.0</td>\n",
              "      <td>KG</td>\n",
              "      <td>USD</td>\n",
              "      <td>689</td>\n",
              "    </tr>\n",
              "    <tr>\n",
              "      <th>2</th>\n",
              "      <td>RO-1003</td>\n",
              "      <td>PR</td>\n",
              "      <td>RO</td>\n",
              "      <td>12</td>\n",
              "      <td>20181003</td>\n",
              "      <td>12</td>\n",
              "      <td>20181003</td>\n",
              "      <td>100000002</td>\n",
              "      <td>1</td>\n",
              "      <td>EA</td>\n",
              "      <td>9.1</td>\n",
              "      <td>KG</td>\n",
              "      <td>USD</td>\n",
              "      <td>721</td>\n",
              "    </tr>\n",
              "    <tr>\n",
              "      <th>3</th>\n",
              "      <td>BX-1011</td>\n",
              "      <td>PR</td>\n",
              "      <td>BX</td>\n",
              "      <td>9</td>\n",
              "      <td>20181003</td>\n",
              "      <td>9</td>\n",
              "      <td>20181003</td>\n",
              "      <td>100000003</td>\n",
              "      <td>1</td>\n",
              "      <td>EA</td>\n",
              "      <td>11.1</td>\n",
              "      <td>KG</td>\n",
              "      <td>USD</td>\n",
              "      <td>249</td>\n",
              "    </tr>\n",
              "    <tr>\n",
              "      <th>4</th>\n",
              "      <td>BX-1012</td>\n",
              "      <td>PR</td>\n",
              "      <td>BX</td>\n",
              "      <td>6</td>\n",
              "      <td>20181003</td>\n",
              "      <td>6</td>\n",
              "      <td>20181003</td>\n",
              "      <td>100000004</td>\n",
              "      <td>1</td>\n",
              "      <td>EA</td>\n",
              "      <td>12.0</td>\n",
              "      <td>KG</td>\n",
              "      <td>USD</td>\n",
              "      <td>399</td>\n",
              "    </tr>\n",
              "    <tr>\n",
              "      <th>5</th>\n",
              "      <td>BX-1013</td>\n",
              "      <td>PR</td>\n",
              "      <td>BX</td>\n",
              "      <td>7</td>\n",
              "      <td>20181003</td>\n",
              "      <td>7</td>\n",
              "      <td>20181003</td>\n",
              "      <td>100000005</td>\n",
              "      <td>1</td>\n",
              "      <td>EA</td>\n",
              "      <td>13.1</td>\n",
              "      <td>KG</td>\n",
              "      <td>USD</td>\n",
              "      <td>449</td>\n",
              "    </tr>\n",
              "    <tr>\n",
              "      <th>6</th>\n",
              "      <td>BX-1014</td>\n",
              "      <td>PR</td>\n",
              "      <td>BX</td>\n",
              "      <td>11</td>\n",
              "      <td>20181003</td>\n",
              "      <td>11</td>\n",
              "      <td>20181003</td>\n",
              "      <td>100000006</td>\n",
              "      <td>1</td>\n",
              "      <td>EA</td>\n",
              "      <td>11.8</td>\n",
              "      <td>KG</td>\n",
              "      <td>USD</td>\n",
              "      <td>799</td>\n",
              "    </tr>\n",
              "    <tr>\n",
              "      <th>7</th>\n",
              "      <td>BX-1015</td>\n",
              "      <td>PR</td>\n",
              "      <td>BX</td>\n",
              "      <td>8</td>\n",
              "      <td>20181003</td>\n",
              "      <td>8</td>\n",
              "      <td>20181003</td>\n",
              "      <td>100000007</td>\n",
              "      <td>1</td>\n",
              "      <td>EA</td>\n",
              "      <td>12.5</td>\n",
              "      <td>KG</td>\n",
              "      <td>USD</td>\n",
              "      <td>299</td>\n",
              "    </tr>\n",
              "    <tr>\n",
              "      <th>8</th>\n",
              "      <td>BX-1016</td>\n",
              "      <td>PR</td>\n",
              "      <td>BX</td>\n",
              "      <td>11</td>\n",
              "      <td>20181003</td>\n",
              "      <td>11</td>\n",
              "      <td>20181003</td>\n",
              "      <td>100000008</td>\n",
              "      <td>1</td>\n",
              "      <td>EA</td>\n",
              "      <td>12.8</td>\n",
              "      <td>KG</td>\n",
              "      <td>USD</td>\n",
              "      <td>319</td>\n",
              "    </tr>\n",
              "    <tr>\n",
              "      <th>9</th>\n",
              "      <td>CC-1021</td>\n",
              "      <td>PR</td>\n",
              "      <td>CC</td>\n",
              "      <td>10</td>\n",
              "      <td>20181003</td>\n",
              "      <td>10</td>\n",
              "      <td>20181003</td>\n",
              "      <td>100000009</td>\n",
              "      <td>1</td>\n",
              "      <td>EA</td>\n",
              "      <td>8.1</td>\n",
              "      <td>KG</td>\n",
              "      <td>USD</td>\n",
              "      <td>1144</td>\n",
              "    </tr>\n",
              "    <tr>\n",
              "      <th>10</th>\n",
              "      <td>CC-1022</td>\n",
              "      <td>PR</td>\n",
              "      <td>CC</td>\n",
              "      <td>13</td>\n",
              "      <td>20181003</td>\n",
              "      <td>13</td>\n",
              "      <td>20181003</td>\n",
              "      <td>100000010</td>\n",
              "      <td>1</td>\n",
              "      <td>EA</td>\n",
              "      <td>8.0</td>\n",
              "      <td>KG</td>\n",
              "      <td>USD</td>\n",
              "      <td>1200</td>\n",
              "    </tr>\n",
              "    <tr>\n",
              "      <th>11</th>\n",
              "      <td>CC-1023</td>\n",
              "      <td>PR</td>\n",
              "      <td>CC</td>\n",
              "      <td>12</td>\n",
              "      <td>20181003</td>\n",
              "      <td>12</td>\n",
              "      <td>20181003</td>\n",
              "      <td>100000011</td>\n",
              "      <td>1</td>\n",
              "      <td>EA</td>\n",
              "      <td>8.6</td>\n",
              "      <td>KG</td>\n",
              "      <td>USD</td>\n",
              "      <td>1361</td>\n",
              "    </tr>\n",
              "    <tr>\n",
              "      <th>12</th>\n",
              "      <td>MB-1031</td>\n",
              "      <td>PR</td>\n",
              "      <td>MB</td>\n",
              "      <td>12</td>\n",
              "      <td>20181003</td>\n",
              "      <td>12</td>\n",
              "      <td>20181003</td>\n",
              "      <td>100000012</td>\n",
              "      <td>1</td>\n",
              "      <td>EA</td>\n",
              "      <td>12.7</td>\n",
              "      <td>KG</td>\n",
              "      <td>USD</td>\n",
              "      <td>649</td>\n",
              "    </tr>\n",
              "    <tr>\n",
              "      <th>13</th>\n",
              "      <td>MB-1032</td>\n",
              "      <td>PR</td>\n",
              "      <td>MB</td>\n",
              "      <td>2</td>\n",
              "      <td>20181003</td>\n",
              "      <td>2</td>\n",
              "      <td>20181003</td>\n",
              "      <td>100000013</td>\n",
              "      <td>1</td>\n",
              "      <td>EA</td>\n",
              "      <td>12.0</td>\n",
              "      <td>KG</td>\n",
              "      <td>USD</td>\n",
              "      <td>1299</td>\n",
              "    </tr>\n",
              "    <tr>\n",
              "      <th>14</th>\n",
              "      <td>MB-1033</td>\n",
              "      <td>PR</td>\n",
              "      <td>MB</td>\n",
              "      <td>7</td>\n",
              "      <td>20181003</td>\n",
              "      <td>7</td>\n",
              "      <td>20181003</td>\n",
              "      <td>100000014</td>\n",
              "      <td>1</td>\n",
              "      <td>EA</td>\n",
              "      <td>13.1</td>\n",
              "      <td>KG</td>\n",
              "      <td>USD</td>\n",
              "      <td>3999</td>\n",
              "    </tr>\n",
              "    <tr>\n",
              "      <th>15</th>\n",
              "      <td>MB-1034</td>\n",
              "      <td>PR</td>\n",
              "      <td>MB</td>\n",
              "      <td>11</td>\n",
              "      <td>20181003</td>\n",
              "      <td>11</td>\n",
              "      <td>20181003</td>\n",
              "      <td>100000015</td>\n",
              "      <td>1</td>\n",
              "      <td>EA</td>\n",
              "      <td>12.5</td>\n",
              "      <td>KG</td>\n",
              "      <td>USD</td>\n",
              "      <td>2499</td>\n",
              "    </tr>\n",
              "    <tr>\n",
              "      <th>16</th>\n",
              "      <td>RC-1051</td>\n",
              "      <td>PR</td>\n",
              "      <td>RC</td>\n",
              "      <td>1</td>\n",
              "      <td>20181003</td>\n",
              "      <td>1</td>\n",
              "      <td>20181003</td>\n",
              "      <td>100000016</td>\n",
              "      <td>1</td>\n",
              "      <td>EA</td>\n",
              "      <td>7.1</td>\n",
              "      <td>KG</td>\n",
              "      <td>USD</td>\n",
              "      <td>2499</td>\n",
              "    </tr>\n",
              "    <tr>\n",
              "      <th>17</th>\n",
              "      <td>RC-1052</td>\n",
              "      <td>PR</td>\n",
              "      <td>RC</td>\n",
              "      <td>5</td>\n",
              "      <td>20181003</td>\n",
              "      <td>5</td>\n",
              "      <td>20181003</td>\n",
              "      <td>100000017</td>\n",
              "      <td>1</td>\n",
              "      <td>EA</td>\n",
              "      <td>7.5</td>\n",
              "      <td>KG</td>\n",
              "      <td>USD</td>\n",
              "      <td>3999</td>\n",
              "    </tr>\n",
              "    <tr>\n",
              "      <th>18</th>\n",
              "      <td>RC-1053</td>\n",
              "      <td>PR</td>\n",
              "      <td>RC</td>\n",
              "      <td>3</td>\n",
              "      <td>20181003</td>\n",
              "      <td>3</td>\n",
              "      <td>20181003</td>\n",
              "      <td>100000018</td>\n",
              "      <td>1</td>\n",
              "      <td>EA</td>\n",
              "      <td>6.9</td>\n",
              "      <td>KG</td>\n",
              "      <td>USD</td>\n",
              "      <td>4599</td>\n",
              "    </tr>\n",
              "    <tr>\n",
              "      <th>19</th>\n",
              "      <td>RC-1054</td>\n",
              "      <td>PR</td>\n",
              "      <td>RC</td>\n",
              "      <td>14</td>\n",
              "      <td>20181003</td>\n",
              "      <td>14</td>\n",
              "      <td>20181003</td>\n",
              "      <td>100000019</td>\n",
              "      <td>1</td>\n",
              "      <td>EA</td>\n",
              "      <td>7.0</td>\n",
              "      <td>KG</td>\n",
              "      <td>USD</td>\n",
              "      <td>5499</td>\n",
              "    </tr>\n",
              "    <tr>\n",
              "      <th>20</th>\n",
              "      <td>RC-1055</td>\n",
              "      <td>PR</td>\n",
              "      <td>RC</td>\n",
              "      <td>2</td>\n",
              "      <td>20181003</td>\n",
              "      <td>2</td>\n",
              "      <td>20181003</td>\n",
              "      <td>100000020</td>\n",
              "      <td>1</td>\n",
              "      <td>EA</td>\n",
              "      <td>7.2</td>\n",
              "      <td>KG</td>\n",
              "      <td>USD</td>\n",
              "      <td>1999</td>\n",
              "    </tr>\n",
              "    <tr>\n",
              "      <th>21</th>\n",
              "      <td>RC-1056</td>\n",
              "      <td>PR</td>\n",
              "      <td>RC</td>\n",
              "      <td>13</td>\n",
              "      <td>20181003</td>\n",
              "      <td>13</td>\n",
              "      <td>20181003</td>\n",
              "      <td>100000021</td>\n",
              "      <td>1</td>\n",
              "      <td>EA</td>\n",
              "      <td>7.8</td>\n",
              "      <td>KG</td>\n",
              "      <td>USD</td>\n",
              "      <td>2499</td>\n",
              "    </tr>\n",
              "    <tr>\n",
              "      <th>22</th>\n",
              "      <td>RC-1057</td>\n",
              "      <td>PR</td>\n",
              "      <td>RC</td>\n",
              "      <td>12</td>\n",
              "      <td>20181003</td>\n",
              "      <td>12</td>\n",
              "      <td>20181003</td>\n",
              "      <td>100000022</td>\n",
              "      <td>1</td>\n",
              "      <td>EA</td>\n",
              "      <td>7.3</td>\n",
              "      <td>KG</td>\n",
              "      <td>USD</td>\n",
              "      <td>4999</td>\n",
              "    </tr>\n",
              "    <tr>\n",
              "      <th>23</th>\n",
              "      <td>DB-1081</td>\n",
              "      <td>PR</td>\n",
              "      <td>DB</td>\n",
              "      <td>10</td>\n",
              "      <td>20181003</td>\n",
              "      <td>10</td>\n",
              "      <td>20181003</td>\n",
              "      <td>100000023</td>\n",
              "      <td>1</td>\n",
              "      <td>EA</td>\n",
              "      <td>13.6</td>\n",
              "      <td>KG</td>\n",
              "      <td>USD</td>\n",
              "      <td>1499</td>\n",
              "    </tr>\n",
              "    <tr>\n",
              "      <th>24</th>\n",
              "      <td>DB-1082</td>\n",
              "      <td>PR</td>\n",
              "      <td>DB</td>\n",
              "      <td>4</td>\n",
              "      <td>20181003</td>\n",
              "      <td>4</td>\n",
              "      <td>20181003</td>\n",
              "      <td>100000024</td>\n",
              "      <td>1</td>\n",
              "      <td>EA</td>\n",
              "      <td>14.3</td>\n",
              "      <td>KG</td>\n",
              "      <td>USD</td>\n",
              "      <td>1250</td>\n",
              "    </tr>\n",
              "    <tr>\n",
              "      <th>25</th>\n",
              "      <td>DB-1083</td>\n",
              "      <td>PR</td>\n",
              "      <td>DB</td>\n",
              "      <td>6</td>\n",
              "      <td>20181003</td>\n",
              "      <td>6</td>\n",
              "      <td>20181003</td>\n",
              "      <td>100000025</td>\n",
              "      <td>1</td>\n",
              "      <td>EA</td>\n",
              "      <td>15.4</td>\n",
              "      <td>KG</td>\n",
              "      <td>USD</td>\n",
              "      <td>1199</td>\n",
              "    </tr>\n",
              "    <tr>\n",
              "      <th>26</th>\n",
              "      <td>EB-1131</td>\n",
              "      <td>PR</td>\n",
              "      <td>EB</td>\n",
              "      <td>14</td>\n",
              "      <td>20181003</td>\n",
              "      <td>14</td>\n",
              "      <td>20181003</td>\n",
              "      <td>100000026</td>\n",
              "      <td>1</td>\n",
              "      <td>EA</td>\n",
              "      <td>18.1</td>\n",
              "      <td>KG</td>\n",
              "      <td>USD</td>\n",
              "      <td>1500</td>\n",
              "    </tr>\n",
              "    <tr>\n",
              "      <th>27</th>\n",
              "      <td>EB-1132</td>\n",
              "      <td>PR</td>\n",
              "      <td>EB</td>\n",
              "      <td>14</td>\n",
              "      <td>20181003</td>\n",
              "      <td>14</td>\n",
              "      <td>20181003</td>\n",
              "      <td>100000027</td>\n",
              "      <td>1</td>\n",
              "      <td>EA</td>\n",
              "      <td>18.8</td>\n",
              "      <td>KG</td>\n",
              "      <td>USD</td>\n",
              "      <td>1900</td>\n",
              "    </tr>\n",
              "    <tr>\n",
              "      <th>28</th>\n",
              "      <td>EB-1133</td>\n",
              "      <td>PR</td>\n",
              "      <td>EB</td>\n",
              "      <td>5</td>\n",
              "      <td>20181003</td>\n",
              "      <td>5</td>\n",
              "      <td>20181003</td>\n",
              "      <td>100000028</td>\n",
              "      <td>1</td>\n",
              "      <td>EA</td>\n",
              "      <td>21.0</td>\n",
              "      <td>KG</td>\n",
              "      <td>USD</td>\n",
              "      <td>2250</td>\n",
              "    </tr>\n",
              "    <tr>\n",
              "      <th>29</th>\n",
              "      <td>EB-1134</td>\n",
              "      <td>PR</td>\n",
              "      <td>EB</td>\n",
              "      <td>4</td>\n",
              "      <td>20181003</td>\n",
              "      <td>4</td>\n",
              "      <td>20181003</td>\n",
              "      <td>100000029</td>\n",
              "      <td>1</td>\n",
              "      <td>EA</td>\n",
              "      <td>20.1</td>\n",
              "      <td>KG</td>\n",
              "      <td>USD</td>\n",
              "      <td>4800</td>\n",
              "    </tr>\n",
              "    <tr>\n",
              "      <th>30</th>\n",
              "      <td>EB-1135</td>\n",
              "      <td>PR</td>\n",
              "      <td>EB</td>\n",
              "      <td>12</td>\n",
              "      <td>20181003</td>\n",
              "      <td>12</td>\n",
              "      <td>20181003</td>\n",
              "      <td>100000030</td>\n",
              "      <td>1</td>\n",
              "      <td>EA</td>\n",
              "      <td>19.3</td>\n",
              "      <td>KG</td>\n",
              "      <td>USD</td>\n",
              "      <td>3000</td>\n",
              "    </tr>\n",
              "    <tr>\n",
              "      <th>31</th>\n",
              "      <td>EB-1136</td>\n",
              "      <td>PR</td>\n",
              "      <td>EB</td>\n",
              "      <td>7</td>\n",
              "      <td>20181003</td>\n",
              "      <td>7</td>\n",
              "      <td>20181003</td>\n",
              "      <td>100000031</td>\n",
              "      <td>1</td>\n",
              "      <td>EA</td>\n",
              "      <td>20.5</td>\n",
              "      <td>KG</td>\n",
              "      <td>USD</td>\n",
              "      <td>5000</td>\n",
              "    </tr>\n",
              "    <tr>\n",
              "      <th>32</th>\n",
              "      <td>EB-1137</td>\n",
              "      <td>PR</td>\n",
              "      <td>EB</td>\n",
              "      <td>6</td>\n",
              "      <td>20181003</td>\n",
              "      <td>6</td>\n",
              "      <td>20181003</td>\n",
              "      <td>100000032</td>\n",
              "      <td>1</td>\n",
              "      <td>EA</td>\n",
              "      <td>22.0</td>\n",
              "      <td>KG</td>\n",
              "      <td>USD</td>\n",
              "      <td>7900</td>\n",
              "    </tr>\n",
              "    <tr>\n",
              "      <th>33</th>\n",
              "      <td>CB-1161</td>\n",
              "      <td>PR</td>\n",
              "      <td>CB</td>\n",
              "      <td>6</td>\n",
              "      <td>20181003</td>\n",
              "      <td>6</td>\n",
              "      <td>20181003</td>\n",
              "      <td>100000033</td>\n",
              "      <td>1</td>\n",
              "      <td>EA</td>\n",
              "      <td>15.0</td>\n",
              "      <td>KG</td>\n",
              "      <td>USD</td>\n",
              "      <td>399</td>\n",
              "    </tr>\n",
              "    <tr>\n",
              "      <th>34</th>\n",
              "      <td>CB-1162</td>\n",
              "      <td>PR</td>\n",
              "      <td>CB</td>\n",
              "      <td>9</td>\n",
              "      <td>20181003</td>\n",
              "      <td>9</td>\n",
              "      <td>20181003</td>\n",
              "      <td>100000034</td>\n",
              "      <td>1</td>\n",
              "      <td>EA</td>\n",
              "      <td>18.0</td>\n",
              "      <td>KG</td>\n",
              "      <td>USD</td>\n",
              "      <td>400</td>\n",
              "    </tr>\n",
              "    <tr>\n",
              "      <th>35</th>\n",
              "      <td>CB-1163</td>\n",
              "      <td>PR</td>\n",
              "      <td>CB</td>\n",
              "      <td>14</td>\n",
              "      <td>20181003</td>\n",
              "      <td>14</td>\n",
              "      <td>20181003</td>\n",
              "      <td>100000035</td>\n",
              "      <td>1</td>\n",
              "      <td>EA</td>\n",
              "      <td>16.0</td>\n",
              "      <td>KG</td>\n",
              "      <td>USD</td>\n",
              "      <td>288</td>\n",
              "    </tr>\n",
              "    <tr>\n",
              "      <th>36</th>\n",
              "      <td>HB-1171</td>\n",
              "      <td>PR</td>\n",
              "      <td>HB</td>\n",
              "      <td>1</td>\n",
              "      <td>20181003</td>\n",
              "      <td>1</td>\n",
              "      <td>20181003</td>\n",
              "      <td>100000036</td>\n",
              "      <td>1</td>\n",
              "      <td>EA</td>\n",
              "      <td>11.0</td>\n",
              "      <td>KG</td>\n",
              "      <td>USD</td>\n",
              "      <td>699</td>\n",
              "    </tr>\n",
              "    <tr>\n",
              "      <th>37</th>\n",
              "      <td>HB-1172</td>\n",
              "      <td>PR</td>\n",
              "      <td>HB</td>\n",
              "      <td>1</td>\n",
              "      <td>20181003</td>\n",
              "      <td>1</td>\n",
              "      <td>20181003</td>\n",
              "      <td>100000037</td>\n",
              "      <td>1</td>\n",
              "      <td>EA</td>\n",
              "      <td>12.1</td>\n",
              "      <td>KG</td>\n",
              "      <td>USD</td>\n",
              "      <td>799</td>\n",
              "    </tr>\n",
              "    <tr>\n",
              "      <th>38</th>\n",
              "      <td>HB-1173</td>\n",
              "      <td>PR</td>\n",
              "      <td>HB</td>\n",
              "      <td>3</td>\n",
              "      <td>20181003</td>\n",
              "      <td>3</td>\n",
              "      <td>20181003</td>\n",
              "      <td>100000038</td>\n",
              "      <td>1</td>\n",
              "      <td>EA</td>\n",
              "      <td>13.5</td>\n",
              "      <td>KG</td>\n",
              "      <td>USD</td>\n",
              "      <td>649</td>\n",
              "    </tr>\n",
              "    <tr>\n",
              "      <th>39</th>\n",
              "      <td>HB-1174</td>\n",
              "      <td>PR</td>\n",
              "      <td>HB</td>\n",
              "      <td>3</td>\n",
              "      <td>20181003</td>\n",
              "      <td>3</td>\n",
              "      <td>20181003</td>\n",
              "      <td>100000039</td>\n",
              "      <td>1</td>\n",
              "      <td>EA</td>\n",
              "      <td>11.8</td>\n",
              "      <td>KG</td>\n",
              "      <td>USD</td>\n",
              "      <td>379</td>\n",
              "    </tr>\n",
              "    <tr>\n",
              "      <th>40</th>\n",
              "      <td>HB-1175</td>\n",
              "      <td>PR</td>\n",
              "      <td>HB</td>\n",
              "      <td>7</td>\n",
              "      <td>20181003</td>\n",
              "      <td>7</td>\n",
              "      <td>20181003</td>\n",
              "      <td>100000040</td>\n",
              "      <td>1</td>\n",
              "      <td>EA</td>\n",
              "      <td>12.5</td>\n",
              "      <td>KG</td>\n",
              "      <td>USD</td>\n",
              "      <td>899</td>\n",
              "    </tr>\n",
              "    <tr>\n",
              "      <th>41</th>\n",
              "      <td>HB-1176</td>\n",
              "      <td>PR</td>\n",
              "      <td>HB</td>\n",
              "      <td>5</td>\n",
              "      <td>20181003</td>\n",
              "      <td>5</td>\n",
              "      <td>20181003</td>\n",
              "      <td>100000041</td>\n",
              "      <td>1</td>\n",
              "      <td>EA</td>\n",
              "      <td>12.9</td>\n",
              "      <td>KG</td>\n",
              "      <td>USD</td>\n",
              "      <td>1199</td>\n",
              "    </tr>\n",
              "  </tbody>\n",
              "</table>\n",
              "</div>"
            ],
            "text/plain": [
              "   PRODUCTID TYPECODE PRODCATEGORYID  ...  WEIGHTUNIT  CURRENCY  PRICE\n",
              "0    RO-1001       PR             RO  ...          KG       USD    525\n",
              "1    RO-1002       PR             RO  ...          KG       USD    689\n",
              "2    RO-1003       PR             RO  ...          KG       USD    721\n",
              "3    BX-1011       PR             BX  ...          KG       USD    249\n",
              "4    BX-1012       PR             BX  ...          KG       USD    399\n",
              "5    BX-1013       PR             BX  ...          KG       USD    449\n",
              "6    BX-1014       PR             BX  ...          KG       USD    799\n",
              "7    BX-1015       PR             BX  ...          KG       USD    299\n",
              "8    BX-1016       PR             BX  ...          KG       USD    319\n",
              "9    CC-1021       PR             CC  ...          KG       USD   1144\n",
              "10   CC-1022       PR             CC  ...          KG       USD   1200\n",
              "11   CC-1023       PR             CC  ...          KG       USD   1361\n",
              "12   MB-1031       PR             MB  ...          KG       USD    649\n",
              "13   MB-1032       PR             MB  ...          KG       USD   1299\n",
              "14   MB-1033       PR             MB  ...          KG       USD   3999\n",
              "15   MB-1034       PR             MB  ...          KG       USD   2499\n",
              "16   RC-1051       PR             RC  ...          KG       USD   2499\n",
              "17   RC-1052       PR             RC  ...          KG       USD   3999\n",
              "18   RC-1053       PR             RC  ...          KG       USD   4599\n",
              "19   RC-1054       PR             RC  ...          KG       USD   5499\n",
              "20   RC-1055       PR             RC  ...          KG       USD   1999\n",
              "21   RC-1056       PR             RC  ...          KG       USD   2499\n",
              "22   RC-1057       PR             RC  ...          KG       USD   4999\n",
              "23   DB-1081       PR             DB  ...          KG       USD   1499\n",
              "24   DB-1082       PR             DB  ...          KG       USD   1250\n",
              "25   DB-1083       PR             DB  ...          KG       USD   1199\n",
              "26   EB-1131       PR             EB  ...          KG       USD   1500\n",
              "27   EB-1132       PR             EB  ...          KG       USD   1900\n",
              "28   EB-1133       PR             EB  ...          KG       USD   2250\n",
              "29   EB-1134       PR             EB  ...          KG       USD   4800\n",
              "30   EB-1135       PR             EB  ...          KG       USD   3000\n",
              "31   EB-1136       PR             EB  ...          KG       USD   5000\n",
              "32   EB-1137       PR             EB  ...          KG       USD   7900\n",
              "33   CB-1161       PR             CB  ...          KG       USD    399\n",
              "34   CB-1162       PR             CB  ...          KG       USD    400\n",
              "35   CB-1163       PR             CB  ...          KG       USD    288\n",
              "36   HB-1171       PR             HB  ...          KG       USD    699\n",
              "37   HB-1172       PR             HB  ...          KG       USD    799\n",
              "38   HB-1173       PR             HB  ...          KG       USD    649\n",
              "39   HB-1174       PR             HB  ...          KG       USD    379\n",
              "40   HB-1175       PR             HB  ...          KG       USD    899\n",
              "41   HB-1176       PR             HB  ...          KG       USD   1199\n",
              "\n",
              "[42 rows x 14 columns]"
            ]
          },
          "metadata": {},
          "execution_count": 326
        }
      ]
    },
    {
      "cell_type": "markdown",
      "metadata": {
        "id": "7mPcj8VKU1Kj"
      },
      "source": [
        "##### ตารางที่ 2 SalesOrderItems (ใช้ข้อมูล DELIVERYDATE)"
      ]
    },
    {
      "cell_type": "code",
      "metadata": {
        "colab": {
          "base_uri": "https://localhost:8080/",
          "height": 0
        },
        "id": "7m0zaxAIHNzZ",
        "outputId": "e88a20fe-9b02-45de-f196-10a2bffbf5e0"
      },
      "source": [
        "path = '/content/drive/My Drive/DPDM2021_DATA' #    เรียกข้อมูลจาก drive\n",
        "SalesOrderItems= pd.read_csv(os.path.join(path,'SalesOrderItems.csv')) # read ข้อมูลจาก Excel โดยใช้ คำสั่ง  pd.read_csv\n",
        "SalesOrderItems"
      ],
      "execution_count": 327,
      "outputs": [
        {
          "output_type": "execute_result",
          "data": {
            "text/html": [
              "<div>\n",
              "<style scoped>\n",
              "    .dataframe tbody tr th:only-of-type {\n",
              "        vertical-align: middle;\n",
              "    }\n",
              "\n",
              "    .dataframe tbody tr th {\n",
              "        vertical-align: top;\n",
              "    }\n",
              "\n",
              "    .dataframe thead th {\n",
              "        text-align: right;\n",
              "    }\n",
              "</style>\n",
              "<table border=\"1\" class=\"dataframe\">\n",
              "  <thead>\n",
              "    <tr style=\"text-align: right;\">\n",
              "      <th></th>\n",
              "      <th>SALESORDERID</th>\n",
              "      <th>SALESORDERITEM</th>\n",
              "      <th>PRODUCTID</th>\n",
              "      <th>NOTEID</th>\n",
              "      <th>CURRENCY</th>\n",
              "      <th>GROSSAMOUNT</th>\n",
              "      <th>NETAMOUNT</th>\n",
              "      <th>TAXAMOUNT</th>\n",
              "      <th>ITEMATPSTATUS</th>\n",
              "      <th>OPITEMPOS</th>\n",
              "      <th>QUANTITY</th>\n",
              "      <th>QUANTITYUNIT</th>\n",
              "      <th>DELIVERYDATE</th>\n",
              "    </tr>\n",
              "  </thead>\n",
              "  <tbody>\n",
              "    <tr>\n",
              "      <th>0</th>\n",
              "      <td>500000000</td>\n",
              "      <td>10</td>\n",
              "      <td>MB-1034</td>\n",
              "      <td></td>\n",
              "      <td>USD</td>\n",
              "      <td>2499</td>\n",
              "      <td>2186.625</td>\n",
              "      <td>312.375</td>\n",
              "      <td>I</td>\n",
              "      <td>NaN</td>\n",
              "      <td>4</td>\n",
              "      <td>EA</td>\n",
              "      <td>20180311</td>\n",
              "    </tr>\n",
              "    <tr>\n",
              "      <th>1</th>\n",
              "      <td>500000000</td>\n",
              "      <td>20</td>\n",
              "      <td>CB-1161</td>\n",
              "      <td></td>\n",
              "      <td>USD</td>\n",
              "      <td>399</td>\n",
              "      <td>349.125</td>\n",
              "      <td>49.875</td>\n",
              "      <td>I</td>\n",
              "      <td>NaN</td>\n",
              "      <td>9</td>\n",
              "      <td>EA</td>\n",
              "      <td>20180311</td>\n",
              "    </tr>\n",
              "    <tr>\n",
              "      <th>2</th>\n",
              "      <td>500000001</td>\n",
              "      <td>10</td>\n",
              "      <td>HB-1175</td>\n",
              "      <td></td>\n",
              "      <td>USD</td>\n",
              "      <td>899</td>\n",
              "      <td>786.625</td>\n",
              "      <td>112.375</td>\n",
              "      <td>I</td>\n",
              "      <td>NaN</td>\n",
              "      <td>2</td>\n",
              "      <td>EA</td>\n",
              "      <td>20180228</td>\n",
              "    </tr>\n",
              "    <tr>\n",
              "      <th>3</th>\n",
              "      <td>500000001</td>\n",
              "      <td>20</td>\n",
              "      <td>RC-1056</td>\n",
              "      <td></td>\n",
              "      <td>USD</td>\n",
              "      <td>2499</td>\n",
              "      <td>2186.625</td>\n",
              "      <td>312.375</td>\n",
              "      <td>I</td>\n",
              "      <td>NaN</td>\n",
              "      <td>2</td>\n",
              "      <td>EA</td>\n",
              "      <td>20180228</td>\n",
              "    </tr>\n",
              "    <tr>\n",
              "      <th>4</th>\n",
              "      <td>500000001</td>\n",
              "      <td>30</td>\n",
              "      <td>CC-1021</td>\n",
              "      <td></td>\n",
              "      <td>USD</td>\n",
              "      <td>1144</td>\n",
              "      <td>1001.000</td>\n",
              "      <td>143.000</td>\n",
              "      <td>I</td>\n",
              "      <td>NaN</td>\n",
              "      <td>3</td>\n",
              "      <td>EA</td>\n",
              "      <td>20180228</td>\n",
              "    </tr>\n",
              "    <tr>\n",
              "      <th>...</th>\n",
              "      <td>...</td>\n",
              "      <td>...</td>\n",
              "      <td>...</td>\n",
              "      <td>...</td>\n",
              "      <td>...</td>\n",
              "      <td>...</td>\n",
              "      <td>...</td>\n",
              "      <td>...</td>\n",
              "      <td>...</td>\n",
              "      <td>...</td>\n",
              "      <td>...</td>\n",
              "      <td>...</td>\n",
              "      <td>...</td>\n",
              "    </tr>\n",
              "    <tr>\n",
              "      <th>1925</th>\n",
              "      <td>500000333</td>\n",
              "      <td>10</td>\n",
              "      <td>MB-1031</td>\n",
              "      <td></td>\n",
              "      <td>USD</td>\n",
              "      <td>649</td>\n",
              "      <td>567.875</td>\n",
              "      <td>81.125</td>\n",
              "      <td>I</td>\n",
              "      <td>NaN</td>\n",
              "      <td>10</td>\n",
              "      <td>EA</td>\n",
              "      <td>20190709</td>\n",
              "    </tr>\n",
              "    <tr>\n",
              "      <th>1926</th>\n",
              "      <td>500000333</td>\n",
              "      <td>20</td>\n",
              "      <td>BX-1013</td>\n",
              "      <td></td>\n",
              "      <td>USD</td>\n",
              "      <td>449</td>\n",
              "      <td>392.875</td>\n",
              "      <td>56.125</td>\n",
              "      <td>I</td>\n",
              "      <td>NaN</td>\n",
              "      <td>3</td>\n",
              "      <td>EA</td>\n",
              "      <td>20190709</td>\n",
              "    </tr>\n",
              "    <tr>\n",
              "      <th>1927</th>\n",
              "      <td>500000333</td>\n",
              "      <td>30</td>\n",
              "      <td>EB-1132</td>\n",
              "      <td></td>\n",
              "      <td>USD</td>\n",
              "      <td>1900</td>\n",
              "      <td>1662.500</td>\n",
              "      <td>237.500</td>\n",
              "      <td>I</td>\n",
              "      <td>NaN</td>\n",
              "      <td>3</td>\n",
              "      <td>EA</td>\n",
              "      <td>20190709</td>\n",
              "    </tr>\n",
              "    <tr>\n",
              "      <th>1928</th>\n",
              "      <td>500000333</td>\n",
              "      <td>40</td>\n",
              "      <td>BX-1011</td>\n",
              "      <td></td>\n",
              "      <td>USD</td>\n",
              "      <td>249</td>\n",
              "      <td>217.875</td>\n",
              "      <td>31.125</td>\n",
              "      <td>I</td>\n",
              "      <td>NaN</td>\n",
              "      <td>5</td>\n",
              "      <td>EA</td>\n",
              "      <td>20190709</td>\n",
              "    </tr>\n",
              "    <tr>\n",
              "      <th>1929</th>\n",
              "      <td>500000333</td>\n",
              "      <td>50</td>\n",
              "      <td>BX-1015</td>\n",
              "      <td></td>\n",
              "      <td>USD</td>\n",
              "      <td>299</td>\n",
              "      <td>261.625</td>\n",
              "      <td>37.375</td>\n",
              "      <td>I</td>\n",
              "      <td>NaN</td>\n",
              "      <td>6</td>\n",
              "      <td>EA</td>\n",
              "      <td>20190709</td>\n",
              "    </tr>\n",
              "  </tbody>\n",
              "</table>\n",
              "<p>1930 rows × 13 columns</p>\n",
              "</div>"
            ],
            "text/plain": [
              "      SALESORDERID  SALESORDERITEM  ... QUANTITYUNIT DELIVERYDATE\n",
              "0        500000000              10  ...           EA     20180311\n",
              "1        500000000              20  ...           EA     20180311\n",
              "2        500000001              10  ...           EA     20180228\n",
              "3        500000001              20  ...           EA     20180228\n",
              "4        500000001              30  ...           EA     20180228\n",
              "...            ...             ...  ...          ...          ...\n",
              "1925     500000333              10  ...           EA     20190709\n",
              "1926     500000333              20  ...           EA     20190709\n",
              "1927     500000333              30  ...           EA     20190709\n",
              "1928     500000333              40  ...           EA     20190709\n",
              "1929     500000333              50  ...           EA     20190709\n",
              "\n",
              "[1930 rows x 13 columns]"
            ]
          },
          "metadata": {},
          "execution_count": 327
        }
      ]
    },
    {
      "cell_type": "markdown",
      "metadata": {
        "id": "eg-b8u3GVMI9"
      },
      "source": [
        "##### ตารางที่ 3 SalesOrders (ใช้ข้อมูล SALESORG)"
      ]
    },
    {
      "cell_type": "code",
      "metadata": {
        "colab": {
          "base_uri": "https://localhost:8080/",
          "height": 0
        },
        "id": "y0VRNnlMHcfP",
        "outputId": "719d63d8-622f-4b16-cd67-bebec352b866"
      },
      "source": [
        "path = '/content/drive/My Drive/DPDM2021_DATA' #    เรียกข้อมูลจาก drive\n",
        "SalesOrders= pd.read_csv(os.path.join(path,'SalesOrders.csv')) # read ข้อมูลจาก Excel โดยใช้ คำสั่ง  pd.read_csv\n",
        "SalesOrders"
      ],
      "execution_count": 328,
      "outputs": [
        {
          "output_type": "execute_result",
          "data": {
            "text/html": [
              "<div>\n",
              "<style scoped>\n",
              "    .dataframe tbody tr th:only-of-type {\n",
              "        vertical-align: middle;\n",
              "    }\n",
              "\n",
              "    .dataframe tbody tr th {\n",
              "        vertical-align: top;\n",
              "    }\n",
              "\n",
              "    .dataframe thead th {\n",
              "        text-align: right;\n",
              "    }\n",
              "</style>\n",
              "<table border=\"1\" class=\"dataframe\">\n",
              "  <thead>\n",
              "    <tr style=\"text-align: right;\">\n",
              "      <th></th>\n",
              "      <th>SALESORDERID</th>\n",
              "      <th>CREATEDBY</th>\n",
              "      <th>CREATEDAT</th>\n",
              "      <th>CHANGEDBY</th>\n",
              "      <th>CHANGEDAT</th>\n",
              "      <th>FISCALYEARPERIOD</th>\n",
              "      <th>NOTEID</th>\n",
              "      <th>PARTNERID</th>\n",
              "      <th>SALESORG</th>\n",
              "      <th>CURRENCY</th>\n",
              "      <th>GROSSAMOUNT</th>\n",
              "      <th>NETAMOUNT</th>\n",
              "      <th>TAXAMOUNT</th>\n",
              "    </tr>\n",
              "  </thead>\n",
              "  <tbody>\n",
              "    <tr>\n",
              "      <th>0</th>\n",
              "      <td>500000000</td>\n",
              "      <td>4</td>\n",
              "      <td>20180111</td>\n",
              "      <td>4</td>\n",
              "      <td>20180116</td>\n",
              "      <td>2018001</td>\n",
              "      <td>NaN</td>\n",
              "      <td>100000022</td>\n",
              "      <td>APJ</td>\n",
              "      <td>USD</td>\n",
              "      <td>13587</td>\n",
              "      <td>11888.625</td>\n",
              "      <td>1698.375</td>\n",
              "    </tr>\n",
              "    <tr>\n",
              "      <th>1</th>\n",
              "      <td>500000001</td>\n",
              "      <td>2</td>\n",
              "      <td>20180112</td>\n",
              "      <td>2</td>\n",
              "      <td>20180115</td>\n",
              "      <td>2018001</td>\n",
              "      <td>NaN</td>\n",
              "      <td>100000026</td>\n",
              "      <td>EMEA</td>\n",
              "      <td>USD</td>\n",
              "      <td>12622</td>\n",
              "      <td>11044.250</td>\n",
              "      <td>1577.750</td>\n",
              "    </tr>\n",
              "    <tr>\n",
              "      <th>2</th>\n",
              "      <td>500000002</td>\n",
              "      <td>5</td>\n",
              "      <td>20180115</td>\n",
              "      <td>5</td>\n",
              "      <td>20180120</td>\n",
              "      <td>2018001</td>\n",
              "      <td>NaN</td>\n",
              "      <td>100000018</td>\n",
              "      <td>APJ</td>\n",
              "      <td>USD</td>\n",
              "      <td>45655</td>\n",
              "      <td>39948.125</td>\n",
              "      <td>5706.875</td>\n",
              "    </tr>\n",
              "    <tr>\n",
              "      <th>3</th>\n",
              "      <td>500000003</td>\n",
              "      <td>3</td>\n",
              "      <td>20180115</td>\n",
              "      <td>3</td>\n",
              "      <td>20180120</td>\n",
              "      <td>2018001</td>\n",
              "      <td>NaN</td>\n",
              "      <td>100000009</td>\n",
              "      <td>EMEA</td>\n",
              "      <td>USD</td>\n",
              "      <td>101786</td>\n",
              "      <td>89062.750</td>\n",
              "      <td>12723.250</td>\n",
              "    </tr>\n",
              "    <tr>\n",
              "      <th>4</th>\n",
              "      <td>500000004</td>\n",
              "      <td>8</td>\n",
              "      <td>20180116</td>\n",
              "      <td>8</td>\n",
              "      <td>20180117</td>\n",
              "      <td>2018001</td>\n",
              "      <td>NaN</td>\n",
              "      <td>100000025</td>\n",
              "      <td>EMEA</td>\n",
              "      <td>USD</td>\n",
              "      <td>71684</td>\n",
              "      <td>62723.500</td>\n",
              "      <td>8960.500</td>\n",
              "    </tr>\n",
              "    <tr>\n",
              "      <th>...</th>\n",
              "      <td>...</td>\n",
              "      <td>...</td>\n",
              "      <td>...</td>\n",
              "      <td>...</td>\n",
              "      <td>...</td>\n",
              "      <td>...</td>\n",
              "      <td>...</td>\n",
              "      <td>...</td>\n",
              "      <td>...</td>\n",
              "      <td>...</td>\n",
              "      <td>...</td>\n",
              "      <td>...</td>\n",
              "      <td>...</td>\n",
              "    </tr>\n",
              "    <tr>\n",
              "      <th>329</th>\n",
              "      <td>500000329</td>\n",
              "      <td>7</td>\n",
              "      <td>20190619</td>\n",
              "      <td>7</td>\n",
              "      <td>20190620</td>\n",
              "      <td>2019006</td>\n",
              "      <td>NaN</td>\n",
              "      <td>100000031</td>\n",
              "      <td>AMER</td>\n",
              "      <td>USD</td>\n",
              "      <td>90621</td>\n",
              "      <td>79293.375</td>\n",
              "      <td>11327.625</td>\n",
              "    </tr>\n",
              "    <tr>\n",
              "      <th>330</th>\n",
              "      <td>500000330</td>\n",
              "      <td>11</td>\n",
              "      <td>20190622</td>\n",
              "      <td>11</td>\n",
              "      <td>20190626</td>\n",
              "      <td>2019006</td>\n",
              "      <td>NaN</td>\n",
              "      <td>100000000</td>\n",
              "      <td>AMER</td>\n",
              "      <td>USD</td>\n",
              "      <td>113871</td>\n",
              "      <td>99637.125</td>\n",
              "      <td>14233.875</td>\n",
              "    </tr>\n",
              "    <tr>\n",
              "      <th>331</th>\n",
              "      <td>500000331</td>\n",
              "      <td>3</td>\n",
              "      <td>20190625</td>\n",
              "      <td>3</td>\n",
              "      <td>20190626</td>\n",
              "      <td>2019006</td>\n",
              "      <td>NaN</td>\n",
              "      <td>100000009</td>\n",
              "      <td>EMEA</td>\n",
              "      <td>USD</td>\n",
              "      <td>12693</td>\n",
              "      <td>11106.375</td>\n",
              "      <td>1586.625</td>\n",
              "    </tr>\n",
              "    <tr>\n",
              "      <th>332</th>\n",
              "      <td>500000332</td>\n",
              "      <td>13</td>\n",
              "      <td>20190627</td>\n",
              "      <td>13</td>\n",
              "      <td>20190701</td>\n",
              "      <td>2019006</td>\n",
              "      <td>NaN</td>\n",
              "      <td>100000034</td>\n",
              "      <td>AMER</td>\n",
              "      <td>USD</td>\n",
              "      <td>70528</td>\n",
              "      <td>61712.000</td>\n",
              "      <td>8816.000</td>\n",
              "    </tr>\n",
              "    <tr>\n",
              "      <th>333</th>\n",
              "      <td>500000333</td>\n",
              "      <td>5</td>\n",
              "      <td>20190627</td>\n",
              "      <td>5</td>\n",
              "      <td>20190701</td>\n",
              "      <td>2019006</td>\n",
              "      <td>NaN</td>\n",
              "      <td>100000022</td>\n",
              "      <td>APJ</td>\n",
              "      <td>USD</td>\n",
              "      <td>16576</td>\n",
              "      <td>14504.000</td>\n",
              "      <td>2072.000</td>\n",
              "    </tr>\n",
              "  </tbody>\n",
              "</table>\n",
              "<p>334 rows × 13 columns</p>\n",
              "</div>"
            ],
            "text/plain": [
              "     SALESORDERID  CREATEDBY  CREATEDAT  ...  GROSSAMOUNT  NETAMOUNT  TAXAMOUNT\n",
              "0       500000000          4   20180111  ...        13587  11888.625   1698.375\n",
              "1       500000001          2   20180112  ...        12622  11044.250   1577.750\n",
              "2       500000002          5   20180115  ...        45655  39948.125   5706.875\n",
              "3       500000003          3   20180115  ...       101786  89062.750  12723.250\n",
              "4       500000004          8   20180116  ...        71684  62723.500   8960.500\n",
              "..            ...        ...        ...  ...          ...        ...        ...\n",
              "329     500000329          7   20190619  ...        90621  79293.375  11327.625\n",
              "330     500000330         11   20190622  ...       113871  99637.125  14233.875\n",
              "331     500000331          3   20190625  ...        12693  11106.375   1586.625\n",
              "332     500000332         13   20190627  ...        70528  61712.000   8816.000\n",
              "333     500000333          5   20190627  ...        16576  14504.000   2072.000\n",
              "\n",
              "[334 rows x 13 columns]"
            ]
          },
          "metadata": {},
          "execution_count": 328
        }
      ]
    },
    {
      "cell_type": "markdown",
      "metadata": {
        "id": "yi-VeT0KVckR"
      },
      "source": [
        "###ขั้นที่ 2 เชื่อมตาราง โดยใช้ตาราง SalesOrderItems เป็นตารางหลัก\n"
      ]
    },
    {
      "cell_type": "markdown",
      "metadata": {
        "id": "SrCGSs5kVsVZ"
      },
      "source": [
        "##### เชื่อมตาราง SalesOrderItems และ Products  โดยใช้ PRODUCTID เป็นคีย์ เพื่อ map ข้อมูล PRODCATEGORYID (ชื่อชนิดสินค้า)"
      ]
    },
    {
      "cell_type": "code",
      "metadata": {
        "colab": {
          "base_uri": "https://localhost:8080/",
          "height": 438
        },
        "id": "wxy1kj7OJunA",
        "outputId": "d42b5583-f46e-4c55-9fb1-c617c509d459"
      },
      "source": [
        "SalesOrderItems['name_product'] = SalesOrderItems['PRODUCTID'].map(Products.set_index('PRODUCTID')['PRODCATEGORYID']) \n",
        "SalesOrderItems"
      ],
      "execution_count": 329,
      "outputs": [
        {
          "output_type": "execute_result",
          "data": {
            "text/html": [
              "<div>\n",
              "<style scoped>\n",
              "    .dataframe tbody tr th:only-of-type {\n",
              "        vertical-align: middle;\n",
              "    }\n",
              "\n",
              "    .dataframe tbody tr th {\n",
              "        vertical-align: top;\n",
              "    }\n",
              "\n",
              "    .dataframe thead th {\n",
              "        text-align: right;\n",
              "    }\n",
              "</style>\n",
              "<table border=\"1\" class=\"dataframe\">\n",
              "  <thead>\n",
              "    <tr style=\"text-align: right;\">\n",
              "      <th></th>\n",
              "      <th>SALESORDERID</th>\n",
              "      <th>SALESORDERITEM</th>\n",
              "      <th>PRODUCTID</th>\n",
              "      <th>NOTEID</th>\n",
              "      <th>CURRENCY</th>\n",
              "      <th>GROSSAMOUNT</th>\n",
              "      <th>NETAMOUNT</th>\n",
              "      <th>TAXAMOUNT</th>\n",
              "      <th>ITEMATPSTATUS</th>\n",
              "      <th>OPITEMPOS</th>\n",
              "      <th>QUANTITY</th>\n",
              "      <th>QUANTITYUNIT</th>\n",
              "      <th>DELIVERYDATE</th>\n",
              "      <th>name_product</th>\n",
              "    </tr>\n",
              "  </thead>\n",
              "  <tbody>\n",
              "    <tr>\n",
              "      <th>0</th>\n",
              "      <td>500000000</td>\n",
              "      <td>10</td>\n",
              "      <td>MB-1034</td>\n",
              "      <td></td>\n",
              "      <td>USD</td>\n",
              "      <td>2499</td>\n",
              "      <td>2186.625</td>\n",
              "      <td>312.375</td>\n",
              "      <td>I</td>\n",
              "      <td>NaN</td>\n",
              "      <td>4</td>\n",
              "      <td>EA</td>\n",
              "      <td>20180311</td>\n",
              "      <td>MB</td>\n",
              "    </tr>\n",
              "    <tr>\n",
              "      <th>1</th>\n",
              "      <td>500000000</td>\n",
              "      <td>20</td>\n",
              "      <td>CB-1161</td>\n",
              "      <td></td>\n",
              "      <td>USD</td>\n",
              "      <td>399</td>\n",
              "      <td>349.125</td>\n",
              "      <td>49.875</td>\n",
              "      <td>I</td>\n",
              "      <td>NaN</td>\n",
              "      <td>9</td>\n",
              "      <td>EA</td>\n",
              "      <td>20180311</td>\n",
              "      <td>CB</td>\n",
              "    </tr>\n",
              "    <tr>\n",
              "      <th>2</th>\n",
              "      <td>500000001</td>\n",
              "      <td>10</td>\n",
              "      <td>HB-1175</td>\n",
              "      <td></td>\n",
              "      <td>USD</td>\n",
              "      <td>899</td>\n",
              "      <td>786.625</td>\n",
              "      <td>112.375</td>\n",
              "      <td>I</td>\n",
              "      <td>NaN</td>\n",
              "      <td>2</td>\n",
              "      <td>EA</td>\n",
              "      <td>20180228</td>\n",
              "      <td>HB</td>\n",
              "    </tr>\n",
              "    <tr>\n",
              "      <th>3</th>\n",
              "      <td>500000001</td>\n",
              "      <td>20</td>\n",
              "      <td>RC-1056</td>\n",
              "      <td></td>\n",
              "      <td>USD</td>\n",
              "      <td>2499</td>\n",
              "      <td>2186.625</td>\n",
              "      <td>312.375</td>\n",
              "      <td>I</td>\n",
              "      <td>NaN</td>\n",
              "      <td>2</td>\n",
              "      <td>EA</td>\n",
              "      <td>20180228</td>\n",
              "      <td>RC</td>\n",
              "    </tr>\n",
              "    <tr>\n",
              "      <th>4</th>\n",
              "      <td>500000001</td>\n",
              "      <td>30</td>\n",
              "      <td>CC-1021</td>\n",
              "      <td></td>\n",
              "      <td>USD</td>\n",
              "      <td>1144</td>\n",
              "      <td>1001.000</td>\n",
              "      <td>143.000</td>\n",
              "      <td>I</td>\n",
              "      <td>NaN</td>\n",
              "      <td>3</td>\n",
              "      <td>EA</td>\n",
              "      <td>20180228</td>\n",
              "      <td>CC</td>\n",
              "    </tr>\n",
              "    <tr>\n",
              "      <th>...</th>\n",
              "      <td>...</td>\n",
              "      <td>...</td>\n",
              "      <td>...</td>\n",
              "      <td>...</td>\n",
              "      <td>...</td>\n",
              "      <td>...</td>\n",
              "      <td>...</td>\n",
              "      <td>...</td>\n",
              "      <td>...</td>\n",
              "      <td>...</td>\n",
              "      <td>...</td>\n",
              "      <td>...</td>\n",
              "      <td>...</td>\n",
              "      <td>...</td>\n",
              "    </tr>\n",
              "    <tr>\n",
              "      <th>1925</th>\n",
              "      <td>500000333</td>\n",
              "      <td>10</td>\n",
              "      <td>MB-1031</td>\n",
              "      <td></td>\n",
              "      <td>USD</td>\n",
              "      <td>649</td>\n",
              "      <td>567.875</td>\n",
              "      <td>81.125</td>\n",
              "      <td>I</td>\n",
              "      <td>NaN</td>\n",
              "      <td>10</td>\n",
              "      <td>EA</td>\n",
              "      <td>20190709</td>\n",
              "      <td>MB</td>\n",
              "    </tr>\n",
              "    <tr>\n",
              "      <th>1926</th>\n",
              "      <td>500000333</td>\n",
              "      <td>20</td>\n",
              "      <td>BX-1013</td>\n",
              "      <td></td>\n",
              "      <td>USD</td>\n",
              "      <td>449</td>\n",
              "      <td>392.875</td>\n",
              "      <td>56.125</td>\n",
              "      <td>I</td>\n",
              "      <td>NaN</td>\n",
              "      <td>3</td>\n",
              "      <td>EA</td>\n",
              "      <td>20190709</td>\n",
              "      <td>BX</td>\n",
              "    </tr>\n",
              "    <tr>\n",
              "      <th>1927</th>\n",
              "      <td>500000333</td>\n",
              "      <td>30</td>\n",
              "      <td>EB-1132</td>\n",
              "      <td></td>\n",
              "      <td>USD</td>\n",
              "      <td>1900</td>\n",
              "      <td>1662.500</td>\n",
              "      <td>237.500</td>\n",
              "      <td>I</td>\n",
              "      <td>NaN</td>\n",
              "      <td>3</td>\n",
              "      <td>EA</td>\n",
              "      <td>20190709</td>\n",
              "      <td>EB</td>\n",
              "    </tr>\n",
              "    <tr>\n",
              "      <th>1928</th>\n",
              "      <td>500000333</td>\n",
              "      <td>40</td>\n",
              "      <td>BX-1011</td>\n",
              "      <td></td>\n",
              "      <td>USD</td>\n",
              "      <td>249</td>\n",
              "      <td>217.875</td>\n",
              "      <td>31.125</td>\n",
              "      <td>I</td>\n",
              "      <td>NaN</td>\n",
              "      <td>5</td>\n",
              "      <td>EA</td>\n",
              "      <td>20190709</td>\n",
              "      <td>BX</td>\n",
              "    </tr>\n",
              "    <tr>\n",
              "      <th>1929</th>\n",
              "      <td>500000333</td>\n",
              "      <td>50</td>\n",
              "      <td>BX-1015</td>\n",
              "      <td></td>\n",
              "      <td>USD</td>\n",
              "      <td>299</td>\n",
              "      <td>261.625</td>\n",
              "      <td>37.375</td>\n",
              "      <td>I</td>\n",
              "      <td>NaN</td>\n",
              "      <td>6</td>\n",
              "      <td>EA</td>\n",
              "      <td>20190709</td>\n",
              "      <td>BX</td>\n",
              "    </tr>\n",
              "  </tbody>\n",
              "</table>\n",
              "<p>1930 rows × 14 columns</p>\n",
              "</div>"
            ],
            "text/plain": [
              "      SALESORDERID  SALESORDERITEM  ... DELIVERYDATE name_product\n",
              "0        500000000              10  ...     20180311           MB\n",
              "1        500000000              20  ...     20180311           CB\n",
              "2        500000001              10  ...     20180228           HB\n",
              "3        500000001              20  ...     20180228           RC\n",
              "4        500000001              30  ...     20180228           CC\n",
              "...            ...             ...  ...          ...          ...\n",
              "1925     500000333              10  ...     20190709           MB\n",
              "1926     500000333              20  ...     20190709           BX\n",
              "1927     500000333              30  ...     20190709           EB\n",
              "1928     500000333              40  ...     20190709           BX\n",
              "1929     500000333              50  ...     20190709           BX\n",
              "\n",
              "[1930 rows x 14 columns]"
            ]
          },
          "metadata": {},
          "execution_count": 329
        }
      ]
    },
    {
      "cell_type": "markdown",
      "metadata": {
        "id": "kIyjT2y3WUOh"
      },
      "source": [
        "##### เชื่อมตาราง SalesOrderItems และ SalesOrders โดยใช้ SALEORDERID เป็นคีย์ เพื่อ map ข้อมูล SALESORG (ทวีปที่ตั้งขององค์กรคู่ค้า (partner))"
      ]
    },
    {
      "cell_type": "code",
      "metadata": {
        "colab": {
          "base_uri": "https://localhost:8080/",
          "height": 438
        },
        "id": "JHli-U8jJuiT",
        "outputId": "194b4200-93f5-40bc-c88c-dc2e98fba598"
      },
      "source": [
        "SalesOrderItems['Region'] = SalesOrderItems['SALESORDERID'].map(SalesOrders.set_index('SALESORDERID')['SALESORG']) \n",
        "SalesOrderItems"
      ],
      "execution_count": 330,
      "outputs": [
        {
          "output_type": "execute_result",
          "data": {
            "text/html": [
              "<div>\n",
              "<style scoped>\n",
              "    .dataframe tbody tr th:only-of-type {\n",
              "        vertical-align: middle;\n",
              "    }\n",
              "\n",
              "    .dataframe tbody tr th {\n",
              "        vertical-align: top;\n",
              "    }\n",
              "\n",
              "    .dataframe thead th {\n",
              "        text-align: right;\n",
              "    }\n",
              "</style>\n",
              "<table border=\"1\" class=\"dataframe\">\n",
              "  <thead>\n",
              "    <tr style=\"text-align: right;\">\n",
              "      <th></th>\n",
              "      <th>SALESORDERID</th>\n",
              "      <th>SALESORDERITEM</th>\n",
              "      <th>PRODUCTID</th>\n",
              "      <th>NOTEID</th>\n",
              "      <th>CURRENCY</th>\n",
              "      <th>GROSSAMOUNT</th>\n",
              "      <th>NETAMOUNT</th>\n",
              "      <th>TAXAMOUNT</th>\n",
              "      <th>ITEMATPSTATUS</th>\n",
              "      <th>OPITEMPOS</th>\n",
              "      <th>QUANTITY</th>\n",
              "      <th>QUANTITYUNIT</th>\n",
              "      <th>DELIVERYDATE</th>\n",
              "      <th>name_product</th>\n",
              "      <th>Region</th>\n",
              "    </tr>\n",
              "  </thead>\n",
              "  <tbody>\n",
              "    <tr>\n",
              "      <th>0</th>\n",
              "      <td>500000000</td>\n",
              "      <td>10</td>\n",
              "      <td>MB-1034</td>\n",
              "      <td></td>\n",
              "      <td>USD</td>\n",
              "      <td>2499</td>\n",
              "      <td>2186.625</td>\n",
              "      <td>312.375</td>\n",
              "      <td>I</td>\n",
              "      <td>NaN</td>\n",
              "      <td>4</td>\n",
              "      <td>EA</td>\n",
              "      <td>20180311</td>\n",
              "      <td>MB</td>\n",
              "      <td>APJ</td>\n",
              "    </tr>\n",
              "    <tr>\n",
              "      <th>1</th>\n",
              "      <td>500000000</td>\n",
              "      <td>20</td>\n",
              "      <td>CB-1161</td>\n",
              "      <td></td>\n",
              "      <td>USD</td>\n",
              "      <td>399</td>\n",
              "      <td>349.125</td>\n",
              "      <td>49.875</td>\n",
              "      <td>I</td>\n",
              "      <td>NaN</td>\n",
              "      <td>9</td>\n",
              "      <td>EA</td>\n",
              "      <td>20180311</td>\n",
              "      <td>CB</td>\n",
              "      <td>APJ</td>\n",
              "    </tr>\n",
              "    <tr>\n",
              "      <th>2</th>\n",
              "      <td>500000001</td>\n",
              "      <td>10</td>\n",
              "      <td>HB-1175</td>\n",
              "      <td></td>\n",
              "      <td>USD</td>\n",
              "      <td>899</td>\n",
              "      <td>786.625</td>\n",
              "      <td>112.375</td>\n",
              "      <td>I</td>\n",
              "      <td>NaN</td>\n",
              "      <td>2</td>\n",
              "      <td>EA</td>\n",
              "      <td>20180228</td>\n",
              "      <td>HB</td>\n",
              "      <td>EMEA</td>\n",
              "    </tr>\n",
              "    <tr>\n",
              "      <th>3</th>\n",
              "      <td>500000001</td>\n",
              "      <td>20</td>\n",
              "      <td>RC-1056</td>\n",
              "      <td></td>\n",
              "      <td>USD</td>\n",
              "      <td>2499</td>\n",
              "      <td>2186.625</td>\n",
              "      <td>312.375</td>\n",
              "      <td>I</td>\n",
              "      <td>NaN</td>\n",
              "      <td>2</td>\n",
              "      <td>EA</td>\n",
              "      <td>20180228</td>\n",
              "      <td>RC</td>\n",
              "      <td>EMEA</td>\n",
              "    </tr>\n",
              "    <tr>\n",
              "      <th>4</th>\n",
              "      <td>500000001</td>\n",
              "      <td>30</td>\n",
              "      <td>CC-1021</td>\n",
              "      <td></td>\n",
              "      <td>USD</td>\n",
              "      <td>1144</td>\n",
              "      <td>1001.000</td>\n",
              "      <td>143.000</td>\n",
              "      <td>I</td>\n",
              "      <td>NaN</td>\n",
              "      <td>3</td>\n",
              "      <td>EA</td>\n",
              "      <td>20180228</td>\n",
              "      <td>CC</td>\n",
              "      <td>EMEA</td>\n",
              "    </tr>\n",
              "    <tr>\n",
              "      <th>...</th>\n",
              "      <td>...</td>\n",
              "      <td>...</td>\n",
              "      <td>...</td>\n",
              "      <td>...</td>\n",
              "      <td>...</td>\n",
              "      <td>...</td>\n",
              "      <td>...</td>\n",
              "      <td>...</td>\n",
              "      <td>...</td>\n",
              "      <td>...</td>\n",
              "      <td>...</td>\n",
              "      <td>...</td>\n",
              "      <td>...</td>\n",
              "      <td>...</td>\n",
              "      <td>...</td>\n",
              "    </tr>\n",
              "    <tr>\n",
              "      <th>1925</th>\n",
              "      <td>500000333</td>\n",
              "      <td>10</td>\n",
              "      <td>MB-1031</td>\n",
              "      <td></td>\n",
              "      <td>USD</td>\n",
              "      <td>649</td>\n",
              "      <td>567.875</td>\n",
              "      <td>81.125</td>\n",
              "      <td>I</td>\n",
              "      <td>NaN</td>\n",
              "      <td>10</td>\n",
              "      <td>EA</td>\n",
              "      <td>20190709</td>\n",
              "      <td>MB</td>\n",
              "      <td>APJ</td>\n",
              "    </tr>\n",
              "    <tr>\n",
              "      <th>1926</th>\n",
              "      <td>500000333</td>\n",
              "      <td>20</td>\n",
              "      <td>BX-1013</td>\n",
              "      <td></td>\n",
              "      <td>USD</td>\n",
              "      <td>449</td>\n",
              "      <td>392.875</td>\n",
              "      <td>56.125</td>\n",
              "      <td>I</td>\n",
              "      <td>NaN</td>\n",
              "      <td>3</td>\n",
              "      <td>EA</td>\n",
              "      <td>20190709</td>\n",
              "      <td>BX</td>\n",
              "      <td>APJ</td>\n",
              "    </tr>\n",
              "    <tr>\n",
              "      <th>1927</th>\n",
              "      <td>500000333</td>\n",
              "      <td>30</td>\n",
              "      <td>EB-1132</td>\n",
              "      <td></td>\n",
              "      <td>USD</td>\n",
              "      <td>1900</td>\n",
              "      <td>1662.500</td>\n",
              "      <td>237.500</td>\n",
              "      <td>I</td>\n",
              "      <td>NaN</td>\n",
              "      <td>3</td>\n",
              "      <td>EA</td>\n",
              "      <td>20190709</td>\n",
              "      <td>EB</td>\n",
              "      <td>APJ</td>\n",
              "    </tr>\n",
              "    <tr>\n",
              "      <th>1928</th>\n",
              "      <td>500000333</td>\n",
              "      <td>40</td>\n",
              "      <td>BX-1011</td>\n",
              "      <td></td>\n",
              "      <td>USD</td>\n",
              "      <td>249</td>\n",
              "      <td>217.875</td>\n",
              "      <td>31.125</td>\n",
              "      <td>I</td>\n",
              "      <td>NaN</td>\n",
              "      <td>5</td>\n",
              "      <td>EA</td>\n",
              "      <td>20190709</td>\n",
              "      <td>BX</td>\n",
              "      <td>APJ</td>\n",
              "    </tr>\n",
              "    <tr>\n",
              "      <th>1929</th>\n",
              "      <td>500000333</td>\n",
              "      <td>50</td>\n",
              "      <td>BX-1015</td>\n",
              "      <td></td>\n",
              "      <td>USD</td>\n",
              "      <td>299</td>\n",
              "      <td>261.625</td>\n",
              "      <td>37.375</td>\n",
              "      <td>I</td>\n",
              "      <td>NaN</td>\n",
              "      <td>6</td>\n",
              "      <td>EA</td>\n",
              "      <td>20190709</td>\n",
              "      <td>BX</td>\n",
              "      <td>APJ</td>\n",
              "    </tr>\n",
              "  </tbody>\n",
              "</table>\n",
              "<p>1930 rows × 15 columns</p>\n",
              "</div>"
            ],
            "text/plain": [
              "      SALESORDERID  SALESORDERITEM PRODUCTID  ... DELIVERYDATE name_product  Region\n",
              "0        500000000              10   MB-1034  ...     20180311           MB     APJ\n",
              "1        500000000              20   CB-1161  ...     20180311           CB     APJ\n",
              "2        500000001              10   HB-1175  ...     20180228           HB    EMEA\n",
              "3        500000001              20   RC-1056  ...     20180228           RC    EMEA\n",
              "4        500000001              30   CC-1021  ...     20180228           CC    EMEA\n",
              "...            ...             ...       ...  ...          ...          ...     ...\n",
              "1925     500000333              10   MB-1031  ...     20190709           MB     APJ\n",
              "1926     500000333              20   BX-1013  ...     20190709           BX     APJ\n",
              "1927     500000333              30   EB-1132  ...     20190709           EB     APJ\n",
              "1928     500000333              40   BX-1011  ...     20190709           BX     APJ\n",
              "1929     500000333              50   BX-1015  ...     20190709           BX     APJ\n",
              "\n",
              "[1930 rows x 15 columns]"
            ]
          },
          "metadata": {},
          "execution_count": 330
        }
      ]
    },
    {
      "cell_type": "markdown",
      "metadata": {
        "id": "81DZz-aElO16"
      },
      "source": [
        "#####แปลงข้อมูล ทวีปเป็นตัวเลข"
      ]
    },
    {
      "cell_type": "code",
      "metadata": {
        "id": "eT-jdjQ3lVfP"
      },
      "source": [
        " dw_mapping={'APJ':1, 'EMEA':2, 'AMER':3}\n",
        "SalesOrderItems['Name_Region']=SalesOrderItems['Region'].map(dw_mapping)"
      ],
      "execution_count": 331,
      "outputs": []
    },
    {
      "cell_type": "markdown",
      "metadata": {
        "id": "seIM9YccXqxk"
      },
      "source": [
        "###ขั้นตอนที่ 3 จัดการข้อมูลวันที่"
      ]
    },
    {
      "cell_type": "code",
      "metadata": {
        "colab": {
          "base_uri": "https://localhost:8080/"
        },
        "id": "tp4sS9kTYWz7",
        "outputId": "7a954da5-1334-4a26-a08d-6ac3e6173f18"
      },
      "source": [
        "set(SalesOrderItems['DELIVERYDATE']) #ดูว่ามีวันแปลกๆหรือไม่"
      ],
      "execution_count": 332,
      "outputs": [
        {
          "output_type": "execute_result",
          "data": {
            "text/plain": [
              "{20180223,\n",
              " 20180225,\n",
              " 20180228,\n",
              " 20180301,\n",
              " 20180305,\n",
              " 20180307,\n",
              " 20180308,\n",
              " 20180309,\n",
              " 20180311,\n",
              " 20180314,\n",
              " 20180315,\n",
              " 20180317,\n",
              " 20180321,\n",
              " 20180322,\n",
              " 20180323,\n",
              " 20180325,\n",
              " 20180328,\n",
              " 20180330,\n",
              " 20180401,\n",
              " 20180402,\n",
              " 20180403,\n",
              " 20180408,\n",
              " 20180411,\n",
              " 20180412,\n",
              " 20180414,\n",
              " 20180419,\n",
              " 20180420,\n",
              " 20180421,\n",
              " 20180424,\n",
              " 20180425,\n",
              " 20180429,\n",
              " 20180430,\n",
              " 20180501,\n",
              " 20180503,\n",
              " 20180504,\n",
              " 20180505,\n",
              " 20180507,\n",
              " 20180508,\n",
              " 20180511,\n",
              " 20180512,\n",
              " 20180518,\n",
              " 20180527,\n",
              " 20180528,\n",
              " 20180529,\n",
              " 20180530,\n",
              " 20180531,\n",
              " 20180601,\n",
              " 20180604,\n",
              " 20180606,\n",
              " 20180608,\n",
              " 20180612,\n",
              " 20180617,\n",
              " 20180618,\n",
              " 20180620,\n",
              " 20180621,\n",
              " 20180622,\n",
              " 20180627,\n",
              " 20180701,\n",
              " 20180703,\n",
              " 20180706,\n",
              " 20180708,\n",
              " 20180709,\n",
              " 20180712,\n",
              " 20180713,\n",
              " 20180715,\n",
              " 20180716,\n",
              " 20180718,\n",
              " 20180719,\n",
              " 20180720,\n",
              " 20180721,\n",
              " 20180729,\n",
              " 20180730,\n",
              " 20180731,\n",
              " 20180801,\n",
              " 20180803,\n",
              " 20180806,\n",
              " 20180807,\n",
              " 20180808,\n",
              " 20180809,\n",
              " 20180810,\n",
              " 20180811,\n",
              " 20180820,\n",
              " 20180822,\n",
              " 20180823,\n",
              " 20180824,\n",
              " 20180828,\n",
              " 20180829,\n",
              " 20180902,\n",
              " 20180903,\n",
              " 20180906,\n",
              " 20180908,\n",
              " 20180909,\n",
              " 20180911,\n",
              " 20180913,\n",
              " 20180914,\n",
              " 20180917,\n",
              " 20180920,\n",
              " 20180921,\n",
              " 20180926,\n",
              " 20180927,\n",
              " 20180930,\n",
              " 20181004,\n",
              " 20181006,\n",
              " 20181007,\n",
              " 20181009,\n",
              " 20181010,\n",
              " 20181013,\n",
              " 20181014,\n",
              " 20181015,\n",
              " 20181016,\n",
              " 20181017,\n",
              " 20181020,\n",
              " 20181023,\n",
              " 20181026,\n",
              " 20181028,\n",
              " 20181031,\n",
              " 20181103,\n",
              " 20181106,\n",
              " 20181107,\n",
              " 20181108,\n",
              " 20181110,\n",
              " 20181111,\n",
              " 20181113,\n",
              " 20181114,\n",
              " 20181116,\n",
              " 20181124,\n",
              " 20181125,\n",
              " 20181126,\n",
              " 20181127,\n",
              " 20181130,\n",
              " 20181203,\n",
              " 20181204,\n",
              " 20181205,\n",
              " 20181207,\n",
              " 20181208,\n",
              " 20181211,\n",
              " 20181214,\n",
              " 20181215,\n",
              " 20181217,\n",
              " 20181219,\n",
              " 20181221,\n",
              " 20181223,\n",
              " 20181226,\n",
              " 20181227,\n",
              " 20181228,\n",
              " 20190101,\n",
              " 20190102,\n",
              " 20190103,\n",
              " 20190108,\n",
              " 20190109,\n",
              " 20190113,\n",
              " 20190114,\n",
              " 20190115,\n",
              " 20190117,\n",
              " 20190118,\n",
              " 20190119,\n",
              " 20190120,\n",
              " 20190121,\n",
              " 20190122,\n",
              " 20190123,\n",
              " 20190125,\n",
              " 20190127,\n",
              " 20190128,\n",
              " 20190202,\n",
              " 20190203,\n",
              " 20190205,\n",
              " 20190209,\n",
              " 20190211,\n",
              " 20190212,\n",
              " 20190213,\n",
              " 20190218,\n",
              " 20190219,\n",
              " 20190228,\n",
              " 20190302,\n",
              " 20190304,\n",
              " 20190305,\n",
              " 20190307,\n",
              " 20190309,\n",
              " 20190310,\n",
              " 20190311,\n",
              " 20190312,\n",
              " 20190313,\n",
              " 20190315,\n",
              " 20190316,\n",
              " 20190319,\n",
              " 20190320,\n",
              " 20190327,\n",
              " 20190401,\n",
              " 20190402,\n",
              " 20190406,\n",
              " 20190407,\n",
              " 20190408,\n",
              " 20190413,\n",
              " 20190414,\n",
              " 20190415,\n",
              " 20190416,\n",
              " 20190422,\n",
              " 20190423,\n",
              " 20190424,\n",
              " 20190427,\n",
              " 20190428,\n",
              " 20190429,\n",
              " 20190503,\n",
              " 20190508,\n",
              " 20190510,\n",
              " 20190511,\n",
              " 20190512,\n",
              " 20190513,\n",
              " 20190515,\n",
              " 20190517,\n",
              " 20190518,\n",
              " 20190519,\n",
              " 20190520,\n",
              " 20190524,\n",
              " 20190525,\n",
              " 20190526,\n",
              " 20190530,\n",
              " 20190531,\n",
              " 20190603,\n",
              " 20190604,\n",
              " 20190605,\n",
              " 20190606,\n",
              " 20190608,\n",
              " 20190610,\n",
              " 20190613,\n",
              " 20190614,\n",
              " 20190616,\n",
              " 20190617,\n",
              " 20190619,\n",
              " 20190620,\n",
              " 20190621,\n",
              " 20190622,\n",
              " 20190625,\n",
              " 20190627,\n",
              " 20190628,\n",
              " 20190630,\n",
              " 20190708,\n",
              " 20190709,\n",
              " 29991212}"
            ]
          },
          "metadata": {},
          "execution_count": 332
        }
      ]
    },
    {
      "cell_type": "markdown",
      "metadata": {
        "id": "7hsZxkb5X13Z"
      },
      "source": [
        "##### พบว่ามีวันที่ ที่มี ปี ค.ศ. ผิด จึงแปลงเป็นปี 2019 เนื่องจาก มีเพียง 2 ปี (2018-2019) ปี 2999 จึงน่าจะเป็นปี 2019"
      ]
    },
    {
      "cell_type": "code",
      "metadata": {
        "id": "WzV2gW-NRwh7"
      },
      "source": [
        "A=SalesOrderItems[SalesOrderItems['DELIVERYDATE']==29991212] #เลือกเฉพาะ 29991212 ที่ปี ค.ศ.ผิด"
      ],
      "execution_count": 333,
      "outputs": []
    },
    {
      "cell_type": "code",
      "metadata": {
        "colab": {
          "base_uri": "https://localhost:8080/"
        },
        "id": "-vVZlCdHRwdZ",
        "outputId": "dc1b0bb3-9a5c-47e1-9df0-3c37d2af88be"
      },
      "source": [
        "A['DELIVERYDATE']=int(20191212) # แทนปี 20191212 แทนปี 29991212"
      ],
      "execution_count": 334,
      "outputs": [
        {
          "output_type": "stream",
          "name": "stderr",
          "text": [
            "/usr/local/lib/python3.7/dist-packages/ipykernel_launcher.py:1: SettingWithCopyWarning: \n",
            "A value is trying to be set on a copy of a slice from a DataFrame.\n",
            "Try using .loc[row_indexer,col_indexer] = value instead\n",
            "\n",
            "See the caveats in the documentation: https://pandas.pydata.org/pandas-docs/stable/user_guide/indexing.html#returning-a-view-versus-a-copy\n",
            "  \"\"\"Entry point for launching an IPython kernel.\n"
          ]
        }
      ]
    },
    {
      "cell_type": "code",
      "metadata": {
        "colab": {
          "base_uri": "https://localhost:8080/",
          "height": 749
        },
        "id": "phZEgtDzZfNl",
        "outputId": "97114ba7-b926-4281-ebc2-883fb2b89922"
      },
      "source": [
        "A # ดูข้อมูล"
      ],
      "execution_count": 335,
      "outputs": [
        {
          "output_type": "execute_result",
          "data": {
            "text/html": [
              "<div>\n",
              "<style scoped>\n",
              "    .dataframe tbody tr th:only-of-type {\n",
              "        vertical-align: middle;\n",
              "    }\n",
              "\n",
              "    .dataframe tbody tr th {\n",
              "        vertical-align: top;\n",
              "    }\n",
              "\n",
              "    .dataframe thead th {\n",
              "        text-align: right;\n",
              "    }\n",
              "</style>\n",
              "<table border=\"1\" class=\"dataframe\">\n",
              "  <thead>\n",
              "    <tr style=\"text-align: right;\">\n",
              "      <th></th>\n",
              "      <th>SALESORDERID</th>\n",
              "      <th>SALESORDERITEM</th>\n",
              "      <th>PRODUCTID</th>\n",
              "      <th>NOTEID</th>\n",
              "      <th>CURRENCY</th>\n",
              "      <th>GROSSAMOUNT</th>\n",
              "      <th>NETAMOUNT</th>\n",
              "      <th>TAXAMOUNT</th>\n",
              "      <th>ITEMATPSTATUS</th>\n",
              "      <th>OPITEMPOS</th>\n",
              "      <th>QUANTITY</th>\n",
              "      <th>QUANTITYUNIT</th>\n",
              "      <th>DELIVERYDATE</th>\n",
              "      <th>name_product</th>\n",
              "      <th>Region</th>\n",
              "      <th>Name_Region</th>\n",
              "    </tr>\n",
              "  </thead>\n",
              "  <tbody>\n",
              "    <tr>\n",
              "      <th>618</th>\n",
              "      <td>500000112</td>\n",
              "      <td>10</td>\n",
              "      <td>HB-1173</td>\n",
              "      <td></td>\n",
              "      <td>USD</td>\n",
              "      <td>649</td>\n",
              "      <td>567.875</td>\n",
              "      <td>81.125</td>\n",
              "      <td>I</td>\n",
              "      <td>NaN</td>\n",
              "      <td>10</td>\n",
              "      <td>EA</td>\n",
              "      <td>20191212</td>\n",
              "      <td>HB</td>\n",
              "      <td>APJ</td>\n",
              "      <td>1</td>\n",
              "    </tr>\n",
              "    <tr>\n",
              "      <th>619</th>\n",
              "      <td>500000112</td>\n",
              "      <td>20</td>\n",
              "      <td>DB-1082</td>\n",
              "      <td></td>\n",
              "      <td>USD</td>\n",
              "      <td>1250</td>\n",
              "      <td>1093.750</td>\n",
              "      <td>156.250</td>\n",
              "      <td>I</td>\n",
              "      <td>NaN</td>\n",
              "      <td>7</td>\n",
              "      <td>EA</td>\n",
              "      <td>20191212</td>\n",
              "      <td>DB</td>\n",
              "      <td>APJ</td>\n",
              "      <td>1</td>\n",
              "    </tr>\n",
              "    <tr>\n",
              "      <th>620</th>\n",
              "      <td>500000112</td>\n",
              "      <td>30</td>\n",
              "      <td>BX-1013</td>\n",
              "      <td></td>\n",
              "      <td>USD</td>\n",
              "      <td>449</td>\n",
              "      <td>392.875</td>\n",
              "      <td>56.125</td>\n",
              "      <td>I</td>\n",
              "      <td>NaN</td>\n",
              "      <td>5</td>\n",
              "      <td>EA</td>\n",
              "      <td>20191212</td>\n",
              "      <td>BX</td>\n",
              "      <td>APJ</td>\n",
              "      <td>1</td>\n",
              "    </tr>\n",
              "    <tr>\n",
              "      <th>621</th>\n",
              "      <td>500000112</td>\n",
              "      <td>40</td>\n",
              "      <td>DB-1082</td>\n",
              "      <td></td>\n",
              "      <td>USD</td>\n",
              "      <td>1250</td>\n",
              "      <td>1093.750</td>\n",
              "      <td>156.250</td>\n",
              "      <td>I</td>\n",
              "      <td>NaN</td>\n",
              "      <td>5</td>\n",
              "      <td>EA</td>\n",
              "      <td>20191212</td>\n",
              "      <td>DB</td>\n",
              "      <td>APJ</td>\n",
              "      <td>1</td>\n",
              "    </tr>\n",
              "    <tr>\n",
              "      <th>622</th>\n",
              "      <td>500000112</td>\n",
              "      <td>50</td>\n",
              "      <td>RC-1054</td>\n",
              "      <td></td>\n",
              "      <td>USD</td>\n",
              "      <td>5499</td>\n",
              "      <td>4811.625</td>\n",
              "      <td>687.375</td>\n",
              "      <td>I</td>\n",
              "      <td>NaN</td>\n",
              "      <td>2</td>\n",
              "      <td>EA</td>\n",
              "      <td>20191212</td>\n",
              "      <td>RC</td>\n",
              "      <td>APJ</td>\n",
              "      <td>1</td>\n",
              "    </tr>\n",
              "    <tr>\n",
              "      <th>623</th>\n",
              "      <td>500000112</td>\n",
              "      <td>60</td>\n",
              "      <td>MB-1033</td>\n",
              "      <td></td>\n",
              "      <td>USD</td>\n",
              "      <td>3999</td>\n",
              "      <td>3499.125</td>\n",
              "      <td>499.875</td>\n",
              "      <td>I</td>\n",
              "      <td>NaN</td>\n",
              "      <td>4</td>\n",
              "      <td>EA</td>\n",
              "      <td>20191212</td>\n",
              "      <td>MB</td>\n",
              "      <td>APJ</td>\n",
              "      <td>1</td>\n",
              "    </tr>\n",
              "    <tr>\n",
              "      <th>624</th>\n",
              "      <td>500000112</td>\n",
              "      <td>70</td>\n",
              "      <td>CB-1163</td>\n",
              "      <td></td>\n",
              "      <td>USD</td>\n",
              "      <td>288</td>\n",
              "      <td>252.000</td>\n",
              "      <td>36.000</td>\n",
              "      <td>I</td>\n",
              "      <td>NaN</td>\n",
              "      <td>7</td>\n",
              "      <td>EA</td>\n",
              "      <td>20191212</td>\n",
              "      <td>CB</td>\n",
              "      <td>APJ</td>\n",
              "      <td>1</td>\n",
              "    </tr>\n",
              "    <tr>\n",
              "      <th>625</th>\n",
              "      <td>500000112</td>\n",
              "      <td>80</td>\n",
              "      <td>EB-1134</td>\n",
              "      <td></td>\n",
              "      <td>USD</td>\n",
              "      <td>4800</td>\n",
              "      <td>4200.000</td>\n",
              "      <td>600.000</td>\n",
              "      <td>I</td>\n",
              "      <td>NaN</td>\n",
              "      <td>1</td>\n",
              "      <td>EA</td>\n",
              "      <td>20191212</td>\n",
              "      <td>EB</td>\n",
              "      <td>APJ</td>\n",
              "      <td>1</td>\n",
              "    </tr>\n",
              "    <tr>\n",
              "      <th>626</th>\n",
              "      <td>500000112</td>\n",
              "      <td>90</td>\n",
              "      <td>CC-1023</td>\n",
              "      <td></td>\n",
              "      <td>USD</td>\n",
              "      <td>1361</td>\n",
              "      <td>1190.875</td>\n",
              "      <td>170.125</td>\n",
              "      <td>I</td>\n",
              "      <td>NaN</td>\n",
              "      <td>3</td>\n",
              "      <td>EA</td>\n",
              "      <td>20191212</td>\n",
              "      <td>CC</td>\n",
              "      <td>APJ</td>\n",
              "      <td>1</td>\n",
              "    </tr>\n",
              "    <tr>\n",
              "      <th>627</th>\n",
              "      <td>500000112</td>\n",
              "      <td>100</td>\n",
              "      <td>CB-1163</td>\n",
              "      <td></td>\n",
              "      <td>USD</td>\n",
              "      <td>288</td>\n",
              "      <td>252.000</td>\n",
              "      <td>36.000</td>\n",
              "      <td>I</td>\n",
              "      <td>NaN</td>\n",
              "      <td>2</td>\n",
              "      <td>EA</td>\n",
              "      <td>20191212</td>\n",
              "      <td>CB</td>\n",
              "      <td>APJ</td>\n",
              "      <td>1</td>\n",
              "    </tr>\n",
              "    <tr>\n",
              "      <th>933</th>\n",
              "      <td>500000164</td>\n",
              "      <td>10</td>\n",
              "      <td>RC-1055</td>\n",
              "      <td></td>\n",
              "      <td>USD</td>\n",
              "      <td>1999</td>\n",
              "      <td>1749.125</td>\n",
              "      <td>249.875</td>\n",
              "      <td>I</td>\n",
              "      <td>NaN</td>\n",
              "      <td>7</td>\n",
              "      <td>EA</td>\n",
              "      <td>20191212</td>\n",
              "      <td>RC</td>\n",
              "      <td>AMER</td>\n",
              "      <td>3</td>\n",
              "    </tr>\n",
              "    <tr>\n",
              "      <th>934</th>\n",
              "      <td>500000164</td>\n",
              "      <td>20</td>\n",
              "      <td>EB-1132</td>\n",
              "      <td></td>\n",
              "      <td>USD</td>\n",
              "      <td>1900</td>\n",
              "      <td>1662.500</td>\n",
              "      <td>237.500</td>\n",
              "      <td>I</td>\n",
              "      <td>NaN</td>\n",
              "      <td>9</td>\n",
              "      <td>EA</td>\n",
              "      <td>20191212</td>\n",
              "      <td>EB</td>\n",
              "      <td>AMER</td>\n",
              "      <td>3</td>\n",
              "    </tr>\n",
              "    <tr>\n",
              "      <th>935</th>\n",
              "      <td>500000164</td>\n",
              "      <td>30</td>\n",
              "      <td>CC-1023</td>\n",
              "      <td></td>\n",
              "      <td>USD</td>\n",
              "      <td>1361</td>\n",
              "      <td>1190.875</td>\n",
              "      <td>170.125</td>\n",
              "      <td>I</td>\n",
              "      <td>NaN</td>\n",
              "      <td>1</td>\n",
              "      <td>EA</td>\n",
              "      <td>20191212</td>\n",
              "      <td>CC</td>\n",
              "      <td>AMER</td>\n",
              "      <td>3</td>\n",
              "    </tr>\n",
              "    <tr>\n",
              "      <th>936</th>\n",
              "      <td>500000164</td>\n",
              "      <td>40</td>\n",
              "      <td>BX-1012</td>\n",
              "      <td></td>\n",
              "      <td>USD</td>\n",
              "      <td>399</td>\n",
              "      <td>349.125</td>\n",
              "      <td>49.875</td>\n",
              "      <td>I</td>\n",
              "      <td>NaN</td>\n",
              "      <td>2</td>\n",
              "      <td>EA</td>\n",
              "      <td>20191212</td>\n",
              "      <td>BX</td>\n",
              "      <td>AMER</td>\n",
              "      <td>3</td>\n",
              "    </tr>\n",
              "    <tr>\n",
              "      <th>1784</th>\n",
              "      <td>500000308</td>\n",
              "      <td>10</td>\n",
              "      <td>RC-1055</td>\n",
              "      <td></td>\n",
              "      <td>USD</td>\n",
              "      <td>1999</td>\n",
              "      <td>1749.125</td>\n",
              "      <td>249.875</td>\n",
              "      <td>I</td>\n",
              "      <td>NaN</td>\n",
              "      <td>7</td>\n",
              "      <td>EA</td>\n",
              "      <td>20191212</td>\n",
              "      <td>RC</td>\n",
              "      <td>AMER</td>\n",
              "      <td>3</td>\n",
              "    </tr>\n",
              "    <tr>\n",
              "      <th>1785</th>\n",
              "      <td>500000308</td>\n",
              "      <td>20</td>\n",
              "      <td>MB-1034</td>\n",
              "      <td></td>\n",
              "      <td>USD</td>\n",
              "      <td>2499</td>\n",
              "      <td>2186.625</td>\n",
              "      <td>312.375</td>\n",
              "      <td>I</td>\n",
              "      <td>NaN</td>\n",
              "      <td>9</td>\n",
              "      <td>EA</td>\n",
              "      <td>20191212</td>\n",
              "      <td>MB</td>\n",
              "      <td>AMER</td>\n",
              "      <td>3</td>\n",
              "    </tr>\n",
              "    <tr>\n",
              "      <th>1786</th>\n",
              "      <td>500000308</td>\n",
              "      <td>30</td>\n",
              "      <td>CB-1163</td>\n",
              "      <td></td>\n",
              "      <td>USD</td>\n",
              "      <td>288</td>\n",
              "      <td>252.000</td>\n",
              "      <td>36.000</td>\n",
              "      <td>I</td>\n",
              "      <td>NaN</td>\n",
              "      <td>5</td>\n",
              "      <td>EA</td>\n",
              "      <td>20191212</td>\n",
              "      <td>CB</td>\n",
              "      <td>AMER</td>\n",
              "      <td>3</td>\n",
              "    </tr>\n",
              "    <tr>\n",
              "      <th>1787</th>\n",
              "      <td>500000308</td>\n",
              "      <td>40</td>\n",
              "      <td>CC-1023</td>\n",
              "      <td></td>\n",
              "      <td>USD</td>\n",
              "      <td>1361</td>\n",
              "      <td>1190.875</td>\n",
              "      <td>170.125</td>\n",
              "      <td>I</td>\n",
              "      <td>NaN</td>\n",
              "      <td>3</td>\n",
              "      <td>EA</td>\n",
              "      <td>20191212</td>\n",
              "      <td>CC</td>\n",
              "      <td>AMER</td>\n",
              "      <td>3</td>\n",
              "    </tr>\n",
              "    <tr>\n",
              "      <th>1788</th>\n",
              "      <td>500000308</td>\n",
              "      <td>50</td>\n",
              "      <td>MB-1033</td>\n",
              "      <td></td>\n",
              "      <td>USD</td>\n",
              "      <td>3999</td>\n",
              "      <td>3499.125</td>\n",
              "      <td>499.875</td>\n",
              "      <td>I</td>\n",
              "      <td>NaN</td>\n",
              "      <td>5</td>\n",
              "      <td>EA</td>\n",
              "      <td>20191212</td>\n",
              "      <td>MB</td>\n",
              "      <td>AMER</td>\n",
              "      <td>3</td>\n",
              "    </tr>\n",
              "    <tr>\n",
              "      <th>1789</th>\n",
              "      <td>500000308</td>\n",
              "      <td>60</td>\n",
              "      <td>CC-1023</td>\n",
              "      <td></td>\n",
              "      <td>USD</td>\n",
              "      <td>1361</td>\n",
              "      <td>1190.875</td>\n",
              "      <td>170.125</td>\n",
              "      <td>I</td>\n",
              "      <td>NaN</td>\n",
              "      <td>8</td>\n",
              "      <td>EA</td>\n",
              "      <td>20191212</td>\n",
              "      <td>CC</td>\n",
              "      <td>AMER</td>\n",
              "      <td>3</td>\n",
              "    </tr>\n",
              "    <tr>\n",
              "      <th>1790</th>\n",
              "      <td>500000308</td>\n",
              "      <td>70</td>\n",
              "      <td>EB-1137</td>\n",
              "      <td></td>\n",
              "      <td>USD</td>\n",
              "      <td>7900</td>\n",
              "      <td>6912.500</td>\n",
              "      <td>987.500</td>\n",
              "      <td>I</td>\n",
              "      <td>NaN</td>\n",
              "      <td>8</td>\n",
              "      <td>EA</td>\n",
              "      <td>20191212</td>\n",
              "      <td>EB</td>\n",
              "      <td>AMER</td>\n",
              "      <td>3</td>\n",
              "    </tr>\n",
              "    <tr>\n",
              "      <th>1791</th>\n",
              "      <td>500000308</td>\n",
              "      <td>80</td>\n",
              "      <td>RO-1003</td>\n",
              "      <td></td>\n",
              "      <td>USD</td>\n",
              "      <td>721</td>\n",
              "      <td>630.875</td>\n",
              "      <td>90.125</td>\n",
              "      <td>I</td>\n",
              "      <td>NaN</td>\n",
              "      <td>2</td>\n",
              "      <td>EA</td>\n",
              "      <td>20191212</td>\n",
              "      <td>RO</td>\n",
              "      <td>AMER</td>\n",
              "      <td>3</td>\n",
              "    </tr>\n",
              "  </tbody>\n",
              "</table>\n",
              "</div>"
            ],
            "text/plain": [
              "      SALESORDERID  SALESORDERITEM PRODUCTID  ... name_product Region  Name_Region\n",
              "618      500000112              10   HB-1173  ...           HB    APJ            1\n",
              "619      500000112              20   DB-1082  ...           DB    APJ            1\n",
              "620      500000112              30   BX-1013  ...           BX    APJ            1\n",
              "621      500000112              40   DB-1082  ...           DB    APJ            1\n",
              "622      500000112              50   RC-1054  ...           RC    APJ            1\n",
              "623      500000112              60   MB-1033  ...           MB    APJ            1\n",
              "624      500000112              70   CB-1163  ...           CB    APJ            1\n",
              "625      500000112              80   EB-1134  ...           EB    APJ            1\n",
              "626      500000112              90   CC-1023  ...           CC    APJ            1\n",
              "627      500000112             100   CB-1163  ...           CB    APJ            1\n",
              "933      500000164              10   RC-1055  ...           RC   AMER            3\n",
              "934      500000164              20   EB-1132  ...           EB   AMER            3\n",
              "935      500000164              30   CC-1023  ...           CC   AMER            3\n",
              "936      500000164              40   BX-1012  ...           BX   AMER            3\n",
              "1784     500000308              10   RC-1055  ...           RC   AMER            3\n",
              "1785     500000308              20   MB-1034  ...           MB   AMER            3\n",
              "1786     500000308              30   CB-1163  ...           CB   AMER            3\n",
              "1787     500000308              40   CC-1023  ...           CC   AMER            3\n",
              "1788     500000308              50   MB-1033  ...           MB   AMER            3\n",
              "1789     500000308              60   CC-1023  ...           CC   AMER            3\n",
              "1790     500000308              70   EB-1137  ...           EB   AMER            3\n",
              "1791     500000308              80   RO-1003  ...           RO   AMER            3\n",
              "\n",
              "[22 rows x 16 columns]"
            ]
          },
          "metadata": {},
          "execution_count": 335
        }
      ]
    },
    {
      "cell_type": "code",
      "metadata": {
        "id": "ofGUx49uU0V2"
      },
      "source": [
        "Sales_OrderItems=SalesOrderItems[SalesOrderItems['DELIVERYDATE']<29991212] #เลือกข้อมูลมีปีน้อยกว่า 2999"
      ],
      "execution_count": 336,
      "outputs": []
    },
    {
      "cell_type": "code",
      "metadata": {
        "id": "OE7ha17vU0Q9"
      },
      "source": [
        "Sale= pd.concat([Sales_OrderItems,A]) # ต่อตาราง A ที่แปลง ค.ศ.แล้ว กับตาราง Sales_OrderItems ที่ตัดปีที่ผิดแล้ว โดยตั้งชื่อตารางใหม่ว่า \"Sale\""
      ],
      "execution_count": 337,
      "outputs": []
    },
    {
      "cell_type": "markdown",
      "metadata": {
        "id": "z2fwe2KFaTLr"
      },
      "source": [
        "##### แปลงวันที่เป็น datetime"
      ]
    },
    {
      "cell_type": "code",
      "metadata": {
        "id": "YTx20SnoMXRZ"
      },
      "source": [
        "import pandas as pd # เรียกใช้คำสั่ง panda"
      ],
      "execution_count": 338,
      "outputs": []
    },
    {
      "cell_type": "code",
      "metadata": {
        "id": "TWwH0M-7MXOt"
      },
      "source": [
        "Sale['DATE']=pd.to_datetime(Sale['DELIVERYDATE'], format='%Y%m%d') #สร้างคอลัมน์ใหม่ 'DATE' เพื่อใช้เก็บข้อมูลวันที่ ที่แปลงแล้ว"
      ],
      "execution_count": 339,
      "outputs": []
    },
    {
      "cell_type": "code",
      "metadata": {
        "colab": {
          "base_uri": "https://localhost:8080/",
          "height": 607
        },
        "id": "HVpQBmBmMXMQ",
        "outputId": "7b03a10b-7be4-4a28-ab3a-146232ce5e93"
      },
      "source": [
        "Sale #เรียกดูตาราง"
      ],
      "execution_count": 340,
      "outputs": [
        {
          "output_type": "execute_result",
          "data": {
            "text/html": [
              "<div>\n",
              "<style scoped>\n",
              "    .dataframe tbody tr th:only-of-type {\n",
              "        vertical-align: middle;\n",
              "    }\n",
              "\n",
              "    .dataframe tbody tr th {\n",
              "        vertical-align: top;\n",
              "    }\n",
              "\n",
              "    .dataframe thead th {\n",
              "        text-align: right;\n",
              "    }\n",
              "</style>\n",
              "<table border=\"1\" class=\"dataframe\">\n",
              "  <thead>\n",
              "    <tr style=\"text-align: right;\">\n",
              "      <th></th>\n",
              "      <th>SALESORDERID</th>\n",
              "      <th>SALESORDERITEM</th>\n",
              "      <th>PRODUCTID</th>\n",
              "      <th>NOTEID</th>\n",
              "      <th>CURRENCY</th>\n",
              "      <th>GROSSAMOUNT</th>\n",
              "      <th>NETAMOUNT</th>\n",
              "      <th>TAXAMOUNT</th>\n",
              "      <th>ITEMATPSTATUS</th>\n",
              "      <th>OPITEMPOS</th>\n",
              "      <th>QUANTITY</th>\n",
              "      <th>QUANTITYUNIT</th>\n",
              "      <th>DELIVERYDATE</th>\n",
              "      <th>name_product</th>\n",
              "      <th>Region</th>\n",
              "      <th>Name_Region</th>\n",
              "      <th>DATE</th>\n",
              "    </tr>\n",
              "  </thead>\n",
              "  <tbody>\n",
              "    <tr>\n",
              "      <th>0</th>\n",
              "      <td>500000000</td>\n",
              "      <td>10</td>\n",
              "      <td>MB-1034</td>\n",
              "      <td></td>\n",
              "      <td>USD</td>\n",
              "      <td>2499</td>\n",
              "      <td>2186.625</td>\n",
              "      <td>312.375</td>\n",
              "      <td>I</td>\n",
              "      <td>NaN</td>\n",
              "      <td>4</td>\n",
              "      <td>EA</td>\n",
              "      <td>20180311</td>\n",
              "      <td>MB</td>\n",
              "      <td>APJ</td>\n",
              "      <td>1</td>\n",
              "      <td>2018-03-11</td>\n",
              "    </tr>\n",
              "    <tr>\n",
              "      <th>1</th>\n",
              "      <td>500000000</td>\n",
              "      <td>20</td>\n",
              "      <td>CB-1161</td>\n",
              "      <td></td>\n",
              "      <td>USD</td>\n",
              "      <td>399</td>\n",
              "      <td>349.125</td>\n",
              "      <td>49.875</td>\n",
              "      <td>I</td>\n",
              "      <td>NaN</td>\n",
              "      <td>9</td>\n",
              "      <td>EA</td>\n",
              "      <td>20180311</td>\n",
              "      <td>CB</td>\n",
              "      <td>APJ</td>\n",
              "      <td>1</td>\n",
              "      <td>2018-03-11</td>\n",
              "    </tr>\n",
              "    <tr>\n",
              "      <th>2</th>\n",
              "      <td>500000001</td>\n",
              "      <td>10</td>\n",
              "      <td>HB-1175</td>\n",
              "      <td></td>\n",
              "      <td>USD</td>\n",
              "      <td>899</td>\n",
              "      <td>786.625</td>\n",
              "      <td>112.375</td>\n",
              "      <td>I</td>\n",
              "      <td>NaN</td>\n",
              "      <td>2</td>\n",
              "      <td>EA</td>\n",
              "      <td>20180228</td>\n",
              "      <td>HB</td>\n",
              "      <td>EMEA</td>\n",
              "      <td>2</td>\n",
              "      <td>2018-02-28</td>\n",
              "    </tr>\n",
              "    <tr>\n",
              "      <th>3</th>\n",
              "      <td>500000001</td>\n",
              "      <td>20</td>\n",
              "      <td>RC-1056</td>\n",
              "      <td></td>\n",
              "      <td>USD</td>\n",
              "      <td>2499</td>\n",
              "      <td>2186.625</td>\n",
              "      <td>312.375</td>\n",
              "      <td>I</td>\n",
              "      <td>NaN</td>\n",
              "      <td>2</td>\n",
              "      <td>EA</td>\n",
              "      <td>20180228</td>\n",
              "      <td>RC</td>\n",
              "      <td>EMEA</td>\n",
              "      <td>2</td>\n",
              "      <td>2018-02-28</td>\n",
              "    </tr>\n",
              "    <tr>\n",
              "      <th>4</th>\n",
              "      <td>500000001</td>\n",
              "      <td>30</td>\n",
              "      <td>CC-1021</td>\n",
              "      <td></td>\n",
              "      <td>USD</td>\n",
              "      <td>1144</td>\n",
              "      <td>1001.000</td>\n",
              "      <td>143.000</td>\n",
              "      <td>I</td>\n",
              "      <td>NaN</td>\n",
              "      <td>3</td>\n",
              "      <td>EA</td>\n",
              "      <td>20180228</td>\n",
              "      <td>CC</td>\n",
              "      <td>EMEA</td>\n",
              "      <td>2</td>\n",
              "      <td>2018-02-28</td>\n",
              "    </tr>\n",
              "    <tr>\n",
              "      <th>...</th>\n",
              "      <td>...</td>\n",
              "      <td>...</td>\n",
              "      <td>...</td>\n",
              "      <td>...</td>\n",
              "      <td>...</td>\n",
              "      <td>...</td>\n",
              "      <td>...</td>\n",
              "      <td>...</td>\n",
              "      <td>...</td>\n",
              "      <td>...</td>\n",
              "      <td>...</td>\n",
              "      <td>...</td>\n",
              "      <td>...</td>\n",
              "      <td>...</td>\n",
              "      <td>...</td>\n",
              "      <td>...</td>\n",
              "      <td>...</td>\n",
              "    </tr>\n",
              "    <tr>\n",
              "      <th>1787</th>\n",
              "      <td>500000308</td>\n",
              "      <td>40</td>\n",
              "      <td>CC-1023</td>\n",
              "      <td></td>\n",
              "      <td>USD</td>\n",
              "      <td>1361</td>\n",
              "      <td>1190.875</td>\n",
              "      <td>170.125</td>\n",
              "      <td>I</td>\n",
              "      <td>NaN</td>\n",
              "      <td>3</td>\n",
              "      <td>EA</td>\n",
              "      <td>20191212</td>\n",
              "      <td>CC</td>\n",
              "      <td>AMER</td>\n",
              "      <td>3</td>\n",
              "      <td>2019-12-12</td>\n",
              "    </tr>\n",
              "    <tr>\n",
              "      <th>1788</th>\n",
              "      <td>500000308</td>\n",
              "      <td>50</td>\n",
              "      <td>MB-1033</td>\n",
              "      <td></td>\n",
              "      <td>USD</td>\n",
              "      <td>3999</td>\n",
              "      <td>3499.125</td>\n",
              "      <td>499.875</td>\n",
              "      <td>I</td>\n",
              "      <td>NaN</td>\n",
              "      <td>5</td>\n",
              "      <td>EA</td>\n",
              "      <td>20191212</td>\n",
              "      <td>MB</td>\n",
              "      <td>AMER</td>\n",
              "      <td>3</td>\n",
              "      <td>2019-12-12</td>\n",
              "    </tr>\n",
              "    <tr>\n",
              "      <th>1789</th>\n",
              "      <td>500000308</td>\n",
              "      <td>60</td>\n",
              "      <td>CC-1023</td>\n",
              "      <td></td>\n",
              "      <td>USD</td>\n",
              "      <td>1361</td>\n",
              "      <td>1190.875</td>\n",
              "      <td>170.125</td>\n",
              "      <td>I</td>\n",
              "      <td>NaN</td>\n",
              "      <td>8</td>\n",
              "      <td>EA</td>\n",
              "      <td>20191212</td>\n",
              "      <td>CC</td>\n",
              "      <td>AMER</td>\n",
              "      <td>3</td>\n",
              "      <td>2019-12-12</td>\n",
              "    </tr>\n",
              "    <tr>\n",
              "      <th>1790</th>\n",
              "      <td>500000308</td>\n",
              "      <td>70</td>\n",
              "      <td>EB-1137</td>\n",
              "      <td></td>\n",
              "      <td>USD</td>\n",
              "      <td>7900</td>\n",
              "      <td>6912.500</td>\n",
              "      <td>987.500</td>\n",
              "      <td>I</td>\n",
              "      <td>NaN</td>\n",
              "      <td>8</td>\n",
              "      <td>EA</td>\n",
              "      <td>20191212</td>\n",
              "      <td>EB</td>\n",
              "      <td>AMER</td>\n",
              "      <td>3</td>\n",
              "      <td>2019-12-12</td>\n",
              "    </tr>\n",
              "    <tr>\n",
              "      <th>1791</th>\n",
              "      <td>500000308</td>\n",
              "      <td>80</td>\n",
              "      <td>RO-1003</td>\n",
              "      <td></td>\n",
              "      <td>USD</td>\n",
              "      <td>721</td>\n",
              "      <td>630.875</td>\n",
              "      <td>90.125</td>\n",
              "      <td>I</td>\n",
              "      <td>NaN</td>\n",
              "      <td>2</td>\n",
              "      <td>EA</td>\n",
              "      <td>20191212</td>\n",
              "      <td>RO</td>\n",
              "      <td>AMER</td>\n",
              "      <td>3</td>\n",
              "      <td>2019-12-12</td>\n",
              "    </tr>\n",
              "  </tbody>\n",
              "</table>\n",
              "<p>1930 rows × 17 columns</p>\n",
              "</div>"
            ],
            "text/plain": [
              "      SALESORDERID  SALESORDERITEM PRODUCTID  ... Region Name_Region       DATE\n",
              "0        500000000              10   MB-1034  ...    APJ           1 2018-03-11\n",
              "1        500000000              20   CB-1161  ...    APJ           1 2018-03-11\n",
              "2        500000001              10   HB-1175  ...   EMEA           2 2018-02-28\n",
              "3        500000001              20   RC-1056  ...   EMEA           2 2018-02-28\n",
              "4        500000001              30   CC-1021  ...   EMEA           2 2018-02-28\n",
              "...            ...             ...       ...  ...    ...         ...        ...\n",
              "1787     500000308              40   CC-1023  ...   AMER           3 2019-12-12\n",
              "1788     500000308              50   MB-1033  ...   AMER           3 2019-12-12\n",
              "1789     500000308              60   CC-1023  ...   AMER           3 2019-12-12\n",
              "1790     500000308              70   EB-1137  ...   AMER           3 2019-12-12\n",
              "1791     500000308              80   RO-1003  ...   AMER           3 2019-12-12\n",
              "\n",
              "[1930 rows x 17 columns]"
            ]
          },
          "metadata": {},
          "execution_count": 340
        }
      ]
    },
    {
      "cell_type": "markdown",
      "metadata": {
        "id": "EaVvcRFrjvV1"
      },
      "source": [
        "####เพิ่มคอลัมน์วันในสัปดาห์ โดยแปลงจากคอลัมน์ DATE โดย\n",
        "    0: 'Monday', \n",
        "    1: 'Tuesday', \n",
        "    2: 'Wednesday', \n",
        "    3: 'Thursday', \n",
        "    4: 'Friday',\n",
        "    5: 'Saturday', \n",
        "    6: 'Sunday'\n"
      ]
    },
    {
      "cell_type": "code",
      "metadata": {
        "id": "wAgVvvfmjqmC"
      },
      "source": [
        "Sale['weekday']=Sale['DATE'].dt.weekday"
      ],
      "execution_count": 341,
      "outputs": []
    },
    {
      "cell_type": "code",
      "metadata": {
        "colab": {
          "base_uri": "https://localhost:8080/"
        },
        "id": "8XNuYYEtkxAr",
        "outputId": "26c5d677-bbf9-484c-bd00-03424a919b1c"
      },
      "source": [
        "set(Sale['weekday'])"
      ],
      "execution_count": 342,
      "outputs": [
        {
          "output_type": "execute_result",
          "data": {
            "text/plain": [
              "{0, 1, 2, 3, 4, 5, 6}"
            ]
          },
          "metadata": {},
          "execution_count": 342
        }
      ]
    },
    {
      "cell_type": "markdown",
      "metadata": {
        "id": "htTh8DvJTm7u"
      },
      "source": [
        "###ขั้นที่ 4 ดูข้อมูลว่ามีวันที่ซ้ำกันหรือไม่ ในแต่ละยี่ห้อรถจักยานต์(ถ้ามีเลือกเฉพาะวันที่ที่มีคำสังซื้อ (SALESORDERITEM) เยอะที่สุด)\n",
        "\n",
        "\n"
      ]
    },
    {
      "cell_type": "markdown",
      "metadata": {
        "id": "T7oyWWApbtM8"
      },
      "source": [
        "####4.1 เพิ่่มคอลัมน์ ปี ค.ศ. เดือน และ วัน เพื่อใช้เรียกดูข้อมูล"
      ]
    },
    {
      "cell_type": "code",
      "metadata": {
        "id": "2ssHyGaHbsE5"
      },
      "source": [
        "Sale['day']=Sale['DATE'].dt.day #วันที่"
      ],
      "execution_count": 343,
      "outputs": []
    },
    {
      "cell_type": "code",
      "metadata": {
        "id": "YZrcl72xbsCd"
      },
      "source": [
        "Sale['mount']=Sale['DATE'].dt.month  # เดือน"
      ],
      "execution_count": 344,
      "outputs": []
    },
    {
      "cell_type": "code",
      "metadata": {
        "id": "5zeZWmiXcOah"
      },
      "source": [
        "Sale['year']=Sale['DATE'].dt.year #ปี"
      ],
      "execution_count": 345,
      "outputs": []
    },
    {
      "cell_type": "markdown",
      "metadata": {
        "id": "-Soz52-GjFn8"
      },
      "source": [
        "####4.2 รถจักยานต์ชนิด Road Bike:RO"
      ]
    },
    {
      "cell_type": "code",
      "metadata": {
        "id": "tmMe5T37m5L1"
      },
      "source": [
        "RO=Sale[Sale['name_product']=='RO']"
      ],
      "execution_count": 346,
      "outputs": []
    },
    {
      "cell_type": "markdown",
      "metadata": {
        "id": "Op5v726QnT3u"
      },
      "source": [
        "#####4.2.1 ดูข้อมูลในแต่ละทวีป"
      ]
    },
    {
      "cell_type": "code",
      "metadata": {
        "colab": {
          "base_uri": "https://localhost:8080/"
        },
        "id": "g9TuPk6LoGQZ",
        "outputId": "8e031d4c-c948-48ca-f737-464dda11aa99"
      },
      "source": [
        "set(RO['Region'])"
      ],
      "execution_count": 347,
      "outputs": [
        {
          "output_type": "execute_result",
          "data": {
            "text/plain": [
              "{'AMER', 'APJ', 'EMEA'}"
            ]
          },
          "metadata": {},
          "execution_count": 347
        }
      ]
    },
    {
      "cell_type": "markdown",
      "metadata": {
        "id": "4OwrG0CLoq0g"
      },
      "source": [
        "######1) Region:America"
      ]
    },
    {
      "cell_type": "code",
      "metadata": {
        "id": "dKz6bnWYnTS7"
      },
      "source": [
        "RO_AMER=RO[RO['Region']=='AMER'] #ทวีป America"
      ],
      "execution_count": 348,
      "outputs": []
    },
    {
      "cell_type": "markdown",
      "metadata": {
        "id": "YU4MOQY2c11-"
      },
      "source": [
        "######เรียกดูข้อมูลปี 2018 "
      ]
    },
    {
      "cell_type": "code",
      "metadata": {
        "id": "m3zvcpXNbir7"
      },
      "source": [
        "RO_AMER_2018=RO_AMER[RO_AMER['year']==2018]"
      ],
      "execution_count": 349,
      "outputs": []
    },
    {
      "cell_type": "code",
      "metadata": {
        "colab": {
          "base_uri": "https://localhost:8080/"
        },
        "id": "WS-mtla9gHkd",
        "outputId": "a0f50eac-6095-43ff-9f4a-d767d793f2ff"
      },
      "source": [
        "set(RO_AMER_2018['mount']) ## ไม่มีข้อมูลคำสั่งซื้อในเดือน มกราคม กุมภาพันธ์ และธันวาคม"
      ],
      "execution_count": 350,
      "outputs": [
        {
          "output_type": "execute_result",
          "data": {
            "text/plain": [
              "{3, 4, 5, 6, 7, 8, 9, 10, 11}"
            ]
          },
          "metadata": {},
          "execution_count": 350
        }
      ]
    },
    {
      "cell_type": "markdown",
      "metadata": {
        "id": "8MFVp7nEdS_J"
      },
      "source": [
        "###### เรียกดูข้อมูลปี 2018 ในเดือนต่างๆ"
      ]
    },
    {
      "cell_type": "markdown",
      "metadata": {
        "id": "nr6ntn3rgY3_"
      },
      "source": [
        "######เดือนมีนาคม"
      ]
    },
    {
      "cell_type": "code",
      "metadata": {
        "id": "Xd21vmnVeE_3"
      },
      "source": [
        "RO_AMER_2018_3=RO_AMER_2018[RO_AMER_2018['mount']==3].sort_values(by='day').drop(68) #พบว่ามีวันที่ 21 มีนาคม สั่งสินค้าซ้ำกัน จึงตัดแถวที่มีจำนวนคำสังซื้อน้อยกว่าทิ้งคือแถว 68"
      ],
      "execution_count": 351,
      "outputs": []
    },
    {
      "cell_type": "markdown",
      "metadata": {
        "id": "7tI0Bi6KsTUx"
      },
      "source": [
        "######เดือนเมษายน"
      ]
    },
    {
      "cell_type": "code",
      "metadata": {
        "id": "1OT1P2W9sak6"
      },
      "source": [
        "RO_AMER_2018_4=RO_AMER_2018[RO_AMER_2018['mount']==4].sort_values(by='day') #ไม่มีวันที่ ที่มีคำสั่งซื้อซ้ำ"
      ],
      "execution_count": 352,
      "outputs": []
    },
    {
      "cell_type": "markdown",
      "metadata": {
        "id": "rMnkPmnmsTO-"
      },
      "source": [
        "######เดือนพฤษภาคม"
      ]
    },
    {
      "cell_type": "code",
      "metadata": {
        "id": "HEGUxK2qu17X"
      },
      "source": [
        "RO_AMER_2018_5=RO_AMER_2018[RO_AMER_2018['mount']==5].sort_values(by='day') #ไม่มีวันที่ ที่มีคำสั่งซื้อซ้ำ"
      ],
      "execution_count": 353,
      "outputs": []
    },
    {
      "cell_type": "markdown",
      "metadata": {
        "id": "sM20BVNRsTNp"
      },
      "source": [
        "######เดือนมิถุนายน"
      ]
    },
    {
      "cell_type": "code",
      "metadata": {
        "id": "yOojtYSHvD4-"
      },
      "source": [
        "RO_AMER_2018_6=RO_AMER_2018[RO_AMER_2018['mount']==6].sort_values(by='day') #ไม่มีวันที่ ที่มีคำสั่งซื้อซ้ำ"
      ],
      "execution_count": 354,
      "outputs": []
    },
    {
      "cell_type": "markdown",
      "metadata": {
        "id": "D9W1jyA_sS53"
      },
      "source": [
        "######เดือนกรกฎาคม"
      ]
    },
    {
      "cell_type": "code",
      "metadata": {
        "id": "REH7B0dNvPrG"
      },
      "source": [
        "RO_AMER_2018_7=RO_AMER_2018[RO_AMER_2018['mount']==7].sort_values(by='day').drop([429,560]) #ไ#พบว่ามีวันที่ 18  และ31  มีกรกฎาคม มีสั่งสินค้าซ้ำกัน จึงตัดแถวที่มีจำนวนคำสังซื้อน้อยกว่าทิ้งคือแถว 429 และ 560"
      ],
      "execution_count": 355,
      "outputs": []
    },
    {
      "cell_type": "markdown",
      "metadata": {
        "id": "fmC5DAuGsS2x"
      },
      "source": [
        "######เดือนสิงหาคม"
      ]
    },
    {
      "cell_type": "code",
      "metadata": {
        "id": "8plhwCYEwkRb"
      },
      "source": [
        "RO_AMER_2018_8=RO_AMER_2018[RO_AMER_2018['mount']==8].sort_values(by='day') #ไม่มีวันที่ ที่มีคำสั่งซื้อซ้ำ"
      ],
      "execution_count": 356,
      "outputs": []
    },
    {
      "cell_type": "markdown",
      "metadata": {
        "id": "zY9qSbelsS05"
      },
      "source": [
        "######เดือนกันยายน"
      ]
    },
    {
      "cell_type": "code",
      "metadata": {
        "id": "xaPm450QwvPr"
      },
      "source": [
        "RO_AMER_2018_9=RO_AMER_2018[RO_AMER_2018['mount']==9].sort_values(by='day')#ไม่มีวันที่ ที่มีคำสั่งซื้อซ้ำ"
      ],
      "execution_count": 357,
      "outputs": []
    },
    {
      "cell_type": "markdown",
      "metadata": {
        "id": "WF4QJ0y3sSr7"
      },
      "source": [
        "######เดือนตุลาคม"
      ]
    },
    {
      "cell_type": "code",
      "metadata": {
        "id": "X2Mnzmqxw51a"
      },
      "source": [
        "RO_AMER_2018_10=RO_AMER_2018[RO_AMER_2018['mount']==10].sort_values(by='day') #ไม่มีวันที่ ที่มีคำสั่งซื้อซ้ำ"
      ],
      "execution_count": 358,
      "outputs": []
    },
    {
      "cell_type": "markdown",
      "metadata": {
        "id": "7R4_RoTDsSgC"
      },
      "source": [
        "######เดือนพฤศจิกายน"
      ]
    },
    {
      "cell_type": "code",
      "metadata": {
        "id": "_U0rp3a8rihj"
      },
      "source": [
        "RO_AMER_2018_11=RO_AMER_2018[RO_AMER_2018['mount']==11].sort_values(by='day') #ไม่มีวันที่ ที่มีคำสั่งซื้อซ้ำ"
      ],
      "execution_count": 359,
      "outputs": []
    },
    {
      "cell_type": "markdown",
      "metadata": {
        "id": "m_AuuDkpxQgz"
      },
      "source": [
        "######ต่อตารางทวีป America"
      ]
    },
    {
      "cell_type": "code",
      "metadata": {
        "id": "nUU7E15uxOzA"
      },
      "source": [
        "RO_AMERICA_18= pd.concat([RO_AMER_2018_3,RO_AMER_2018_4,RO_AMER_2018_6,RO_AMER_2018_7,RO_AMER_2018_8,RO_AMER_2018_9,RO_AMER_2018_10,RO_AMER_2018_11])"
      ],
      "execution_count": 360,
      "outputs": []
    },
    {
      "cell_type": "code",
      "metadata": {
        "colab": {
          "base_uri": "https://localhost:8080/",
          "height": 0
        },
        "id": "q91QfY8FyQdU",
        "outputId": "ca1af854-b740-44ec-aa82-7c9e93f30e13"
      },
      "source": [
        "RO_AMERICA_18"
      ],
      "execution_count": 361,
      "outputs": [
        {
          "output_type": "execute_result",
          "data": {
            "text/html": [
              "<div>\n",
              "<style scoped>\n",
              "    .dataframe tbody tr th:only-of-type {\n",
              "        vertical-align: middle;\n",
              "    }\n",
              "\n",
              "    .dataframe tbody tr th {\n",
              "        vertical-align: top;\n",
              "    }\n",
              "\n",
              "    .dataframe thead th {\n",
              "        text-align: right;\n",
              "    }\n",
              "</style>\n",
              "<table border=\"1\" class=\"dataframe\">\n",
              "  <thead>\n",
              "    <tr style=\"text-align: right;\">\n",
              "      <th></th>\n",
              "      <th>SALESORDERID</th>\n",
              "      <th>SALESORDERITEM</th>\n",
              "      <th>PRODUCTID</th>\n",
              "      <th>NOTEID</th>\n",
              "      <th>CURRENCY</th>\n",
              "      <th>GROSSAMOUNT</th>\n",
              "      <th>NETAMOUNT</th>\n",
              "      <th>TAXAMOUNT</th>\n",
              "      <th>ITEMATPSTATUS</th>\n",
              "      <th>OPITEMPOS</th>\n",
              "      <th>QUANTITY</th>\n",
              "      <th>QUANTITYUNIT</th>\n",
              "      <th>DELIVERYDATE</th>\n",
              "      <th>name_product</th>\n",
              "      <th>Region</th>\n",
              "      <th>Name_Region</th>\n",
              "      <th>DATE</th>\n",
              "      <th>weekday</th>\n",
              "      <th>day</th>\n",
              "      <th>mount</th>\n",
              "      <th>year</th>\n",
              "    </tr>\n",
              "  </thead>\n",
              "  <tbody>\n",
              "    <tr>\n",
              "      <th>96</th>\n",
              "      <td>500000017</td>\n",
              "      <td>70</td>\n",
              "      <td>RO-1001</td>\n",
              "      <td></td>\n",
              "      <td>USD</td>\n",
              "      <td>525</td>\n",
              "      <td>459.375</td>\n",
              "      <td>65.625</td>\n",
              "      <td>I</td>\n",
              "      <td>NaN</td>\n",
              "      <td>8</td>\n",
              "      <td>EA</td>\n",
              "      <td>20180305</td>\n",
              "      <td>RO</td>\n",
              "      <td>AMER</td>\n",
              "      <td>3</td>\n",
              "      <td>2018-03-05</td>\n",
              "      <td>0</td>\n",
              "      <td>5</td>\n",
              "      <td>3</td>\n",
              "      <td>2018</td>\n",
              "    </tr>\n",
              "    <tr>\n",
              "      <th>71</th>\n",
              "      <td>500000013</td>\n",
              "      <td>40</td>\n",
              "      <td>RO-1001</td>\n",
              "      <td></td>\n",
              "      <td>USD</td>\n",
              "      <td>525</td>\n",
              "      <td>459.375</td>\n",
              "      <td>65.625</td>\n",
              "      <td>I</td>\n",
              "      <td>NaN</td>\n",
              "      <td>5</td>\n",
              "      <td>EA</td>\n",
              "      <td>20180321</td>\n",
              "      <td>RO</td>\n",
              "      <td>AMER</td>\n",
              "      <td>3</td>\n",
              "      <td>2018-03-21</td>\n",
              "      <td>2</td>\n",
              "      <td>21</td>\n",
              "      <td>3</td>\n",
              "      <td>2018</td>\n",
              "    </tr>\n",
              "    <tr>\n",
              "      <th>56</th>\n",
              "      <td>500000010</td>\n",
              "      <td>10</td>\n",
              "      <td>RO-1002</td>\n",
              "      <td></td>\n",
              "      <td>USD</td>\n",
              "      <td>689</td>\n",
              "      <td>602.875</td>\n",
              "      <td>86.125</td>\n",
              "      <td>I</td>\n",
              "      <td>NaN</td>\n",
              "      <td>10</td>\n",
              "      <td>EA</td>\n",
              "      <td>20180323</td>\n",
              "      <td>RO</td>\n",
              "      <td>AMER</td>\n",
              "      <td>3</td>\n",
              "      <td>2018-03-23</td>\n",
              "      <td>4</td>\n",
              "      <td>23</td>\n",
              "      <td>3</td>\n",
              "      <td>2018</td>\n",
              "    </tr>\n",
              "    <tr>\n",
              "      <th>100</th>\n",
              "      <td>500000019</td>\n",
              "      <td>20</td>\n",
              "      <td>RO-1001</td>\n",
              "      <td></td>\n",
              "      <td>USD</td>\n",
              "      <td>525</td>\n",
              "      <td>459.375</td>\n",
              "      <td>65.625</td>\n",
              "      <td>I</td>\n",
              "      <td>NaN</td>\n",
              "      <td>5</td>\n",
              "      <td>EA</td>\n",
              "      <td>20180401</td>\n",
              "      <td>RO</td>\n",
              "      <td>AMER</td>\n",
              "      <td>3</td>\n",
              "      <td>2018-04-01</td>\n",
              "      <td>6</td>\n",
              "      <td>1</td>\n",
              "      <td>4</td>\n",
              "      <td>2018</td>\n",
              "    </tr>\n",
              "    <tr>\n",
              "      <th>179</th>\n",
              "      <td>500000032</td>\n",
              "      <td>20</td>\n",
              "      <td>RO-1002</td>\n",
              "      <td></td>\n",
              "      <td>USD</td>\n",
              "      <td>689</td>\n",
              "      <td>602.875</td>\n",
              "      <td>86.125</td>\n",
              "      <td>I</td>\n",
              "      <td>NaN</td>\n",
              "      <td>8</td>\n",
              "      <td>EA</td>\n",
              "      <td>20180419</td>\n",
              "      <td>RO</td>\n",
              "      <td>AMER</td>\n",
              "      <td>3</td>\n",
              "      <td>2018-04-19</td>\n",
              "      <td>3</td>\n",
              "      <td>19</td>\n",
              "      <td>4</td>\n",
              "      <td>2018</td>\n",
              "    </tr>\n",
              "    <tr>\n",
              "      <th>299</th>\n",
              "      <td>500000056</td>\n",
              "      <td>70</td>\n",
              "      <td>RO-1002</td>\n",
              "      <td></td>\n",
              "      <td>USD</td>\n",
              "      <td>689</td>\n",
              "      <td>602.875</td>\n",
              "      <td>86.125</td>\n",
              "      <td>I</td>\n",
              "      <td>NaN</td>\n",
              "      <td>3</td>\n",
              "      <td>EA</td>\n",
              "      <td>20180608</td>\n",
              "      <td>RO</td>\n",
              "      <td>AMER</td>\n",
              "      <td>3</td>\n",
              "      <td>2018-06-08</td>\n",
              "      <td>4</td>\n",
              "      <td>8</td>\n",
              "      <td>6</td>\n",
              "      <td>2018</td>\n",
              "    </tr>\n",
              "    <tr>\n",
              "      <th>381</th>\n",
              "      <td>500000070</td>\n",
              "      <td>30</td>\n",
              "      <td>RO-1003</td>\n",
              "      <td></td>\n",
              "      <td>USD</td>\n",
              "      <td>721</td>\n",
              "      <td>630.875</td>\n",
              "      <td>90.125</td>\n",
              "      <td>I</td>\n",
              "      <td>NaN</td>\n",
              "      <td>4</td>\n",
              "      <td>EA</td>\n",
              "      <td>20180617</td>\n",
              "      <td>RO</td>\n",
              "      <td>AMER</td>\n",
              "      <td>3</td>\n",
              "      <td>2018-06-17</td>\n",
              "      <td>6</td>\n",
              "      <td>17</td>\n",
              "      <td>6</td>\n",
              "      <td>2018</td>\n",
              "    </tr>\n",
              "    <tr>\n",
              "      <th>475</th>\n",
              "      <td>500000086</td>\n",
              "      <td>20</td>\n",
              "      <td>RO-1001</td>\n",
              "      <td></td>\n",
              "      <td>USD</td>\n",
              "      <td>525</td>\n",
              "      <td>459.375</td>\n",
              "      <td>65.625</td>\n",
              "      <td>I</td>\n",
              "      <td>NaN</td>\n",
              "      <td>10</td>\n",
              "      <td>EA</td>\n",
              "      <td>20180715</td>\n",
              "      <td>RO</td>\n",
              "      <td>AMER</td>\n",
              "      <td>3</td>\n",
              "      <td>2018-07-15</td>\n",
              "      <td>6</td>\n",
              "      <td>15</td>\n",
              "      <td>7</td>\n",
              "      <td>2018</td>\n",
              "    </tr>\n",
              "    <tr>\n",
              "      <th>431</th>\n",
              "      <td>500000078</td>\n",
              "      <td>40</td>\n",
              "      <td>RO-1002</td>\n",
              "      <td></td>\n",
              "      <td>USD</td>\n",
              "      <td>689</td>\n",
              "      <td>602.875</td>\n",
              "      <td>86.125</td>\n",
              "      <td>I</td>\n",
              "      <td>NaN</td>\n",
              "      <td>5</td>\n",
              "      <td>EA</td>\n",
              "      <td>20180718</td>\n",
              "      <td>RO</td>\n",
              "      <td>AMER</td>\n",
              "      <td>3</td>\n",
              "      <td>2018-07-18</td>\n",
              "      <td>2</td>\n",
              "      <td>18</td>\n",
              "      <td>7</td>\n",
              "      <td>2018</td>\n",
              "    </tr>\n",
              "    <tr>\n",
              "      <th>563</th>\n",
              "      <td>500000101</td>\n",
              "      <td>40</td>\n",
              "      <td>RO-1001</td>\n",
              "      <td></td>\n",
              "      <td>USD</td>\n",
              "      <td>525</td>\n",
              "      <td>459.375</td>\n",
              "      <td>65.625</td>\n",
              "      <td>I</td>\n",
              "      <td>NaN</td>\n",
              "      <td>9</td>\n",
              "      <td>EA</td>\n",
              "      <td>20180731</td>\n",
              "      <td>RO</td>\n",
              "      <td>AMER</td>\n",
              "      <td>3</td>\n",
              "      <td>2018-07-31</td>\n",
              "      <td>1</td>\n",
              "      <td>31</td>\n",
              "      <td>7</td>\n",
              "      <td>2018</td>\n",
              "    </tr>\n",
              "    <tr>\n",
              "      <th>498</th>\n",
              "      <td>500000090</td>\n",
              "      <td>30</td>\n",
              "      <td>RO-1003</td>\n",
              "      <td></td>\n",
              "      <td>USD</td>\n",
              "      <td>721</td>\n",
              "      <td>630.875</td>\n",
              "      <td>90.125</td>\n",
              "      <td>I</td>\n",
              "      <td>NaN</td>\n",
              "      <td>9</td>\n",
              "      <td>EA</td>\n",
              "      <td>20180806</td>\n",
              "      <td>RO</td>\n",
              "      <td>AMER</td>\n",
              "      <td>3</td>\n",
              "      <td>2018-08-06</td>\n",
              "      <td>0</td>\n",
              "      <td>6</td>\n",
              "      <td>8</td>\n",
              "      <td>2018</td>\n",
              "    </tr>\n",
              "    <tr>\n",
              "      <th>592</th>\n",
              "      <td>500000107</td>\n",
              "      <td>30</td>\n",
              "      <td>RO-1002</td>\n",
              "      <td></td>\n",
              "      <td>USD</td>\n",
              "      <td>689</td>\n",
              "      <td>602.875</td>\n",
              "      <td>86.125</td>\n",
              "      <td>I</td>\n",
              "      <td>NaN</td>\n",
              "      <td>5</td>\n",
              "      <td>EA</td>\n",
              "      <td>20180822</td>\n",
              "      <td>RO</td>\n",
              "      <td>AMER</td>\n",
              "      <td>3</td>\n",
              "      <td>2018-08-22</td>\n",
              "      <td>2</td>\n",
              "      <td>22</td>\n",
              "      <td>8</td>\n",
              "      <td>2018</td>\n",
              "    </tr>\n",
              "    <tr>\n",
              "      <th>635</th>\n",
              "      <td>500000114</td>\n",
              "      <td>20</td>\n",
              "      <td>RO-1003</td>\n",
              "      <td></td>\n",
              "      <td>USD</td>\n",
              "      <td>721</td>\n",
              "      <td>630.875</td>\n",
              "      <td>90.125</td>\n",
              "      <td>I</td>\n",
              "      <td>NaN</td>\n",
              "      <td>10</td>\n",
              "      <td>EA</td>\n",
              "      <td>20180902</td>\n",
              "      <td>RO</td>\n",
              "      <td>AMER</td>\n",
              "      <td>3</td>\n",
              "      <td>2018-09-02</td>\n",
              "      <td>6</td>\n",
              "      <td>2</td>\n",
              "      <td>9</td>\n",
              "      <td>2018</td>\n",
              "    </tr>\n",
              "    <tr>\n",
              "      <th>734</th>\n",
              "      <td>500000131</td>\n",
              "      <td>60</td>\n",
              "      <td>RO-1001</td>\n",
              "      <td></td>\n",
              "      <td>USD</td>\n",
              "      <td>525</td>\n",
              "      <td>459.375</td>\n",
              "      <td>65.625</td>\n",
              "      <td>I</td>\n",
              "      <td>NaN</td>\n",
              "      <td>7</td>\n",
              "      <td>EA</td>\n",
              "      <td>20181010</td>\n",
              "      <td>RO</td>\n",
              "      <td>AMER</td>\n",
              "      <td>3</td>\n",
              "      <td>2018-10-10</td>\n",
              "      <td>2</td>\n",
              "      <td>10</td>\n",
              "      <td>10</td>\n",
              "      <td>2018</td>\n",
              "    </tr>\n",
              "    <tr>\n",
              "      <th>908</th>\n",
              "      <td>500000157</td>\n",
              "      <td>90</td>\n",
              "      <td>RO-1001</td>\n",
              "      <td></td>\n",
              "      <td>USD</td>\n",
              "      <td>525</td>\n",
              "      <td>459.375</td>\n",
              "      <td>65.625</td>\n",
              "      <td>I</td>\n",
              "      <td>NaN</td>\n",
              "      <td>8</td>\n",
              "      <td>EA</td>\n",
              "      <td>20181110</td>\n",
              "      <td>RO</td>\n",
              "      <td>AMER</td>\n",
              "      <td>3</td>\n",
              "      <td>2018-11-10</td>\n",
              "      <td>5</td>\n",
              "      <td>10</td>\n",
              "      <td>11</td>\n",
              "      <td>2018</td>\n",
              "    </tr>\n",
              "  </tbody>\n",
              "</table>\n",
              "</div>"
            ],
            "text/plain": [
              "     SALESORDERID  SALESORDERITEM PRODUCTID NOTEID  ... weekday  day  mount  year\n",
              "96      500000017              70   RO-1001         ...       0    5      3  2018\n",
              "71      500000013              40   RO-1001         ...       2   21      3  2018\n",
              "56      500000010              10   RO-1002         ...       4   23      3  2018\n",
              "100     500000019              20   RO-1001         ...       6    1      4  2018\n",
              "179     500000032              20   RO-1002         ...       3   19      4  2018\n",
              "299     500000056              70   RO-1002         ...       4    8      6  2018\n",
              "381     500000070              30   RO-1003         ...       6   17      6  2018\n",
              "475     500000086              20   RO-1001         ...       6   15      7  2018\n",
              "431     500000078              40   RO-1002         ...       2   18      7  2018\n",
              "563     500000101              40   RO-1001         ...       1   31      7  2018\n",
              "498     500000090              30   RO-1003         ...       0    6      8  2018\n",
              "592     500000107              30   RO-1002         ...       2   22      8  2018\n",
              "635     500000114              20   RO-1003         ...       6    2      9  2018\n",
              "734     500000131              60   RO-1001         ...       2   10     10  2018\n",
              "908     500000157              90   RO-1001         ...       5   10     11  2018\n",
              "\n",
              "[15 rows x 21 columns]"
            ]
          },
          "metadata": {},
          "execution_count": 361
        }
      ]
    },
    {
      "cell_type": "code",
      "metadata": {
        "id": "G-RKMt9jyab8"
      },
      "source": [
        "\n",
        "import matplotlib.pyplot as plt\n"
      ],
      "execution_count": 362,
      "outputs": []
    },
    {
      "cell_type": "code",
      "metadata": {
        "id": "f1WooN9Sy4jV"
      },
      "source": [
        "ORDER_RO_A=RO_AMERICA_18['SALESORDERITEM']\n",
        "WEEKDAY_RO_A=RO_AMERICA_18['weekday']"
      ],
      "execution_count": 363,
      "outputs": []
    },
    {
      "cell_type": "code",
      "metadata": {
        "colab": {
          "base_uri": "https://localhost:8080/",
          "height": 0
        },
        "id": "h2hlOCc7y1Z2",
        "outputId": "f005f166-39f7-46ff-bcc6-5ce61608275c"
      },
      "source": [
        "\n",
        "plt.scatter(ORDER_RO_A,WEEKDAY_RO_A,color='navy') #พบว่าวันที่มีคำสังซื้อเยอะที่สุดคือวันศุกร์\n",
        "plt.ylabel('Weekday')\n",
        "plt.xlabel('Sale_Order')\n",
        "plt.suptitle('Road Bike_America_18',fontsize=16)\n",
        "plt.show()"
      ],
      "execution_count": 364,
      "outputs": [
        {
          "output_type": "display_data",
          "data": {
            "image/png": "[encoded data removed]",
            "text/plain": [
              "<Figure size 432x288 with 1 Axes>"
            ]
          },
          "metadata": {
            "needs_background": "light"
          }
        }
      ]
    },
    {
      "cell_type": "markdown",
      "metadata": {
        "id": "s9Ee3EO83FNa"
      },
      "source": [
        "######เรียกดูข้อมูลปี 2019"
      ]
    },
    {
      "cell_type": "code",
      "metadata": {
        "id": "m8ukcXjl3LwW"
      },
      "source": [
        "RO_AMER_2019=RO_AMER[RO_AMER['year']==2019]"
      ],
      "execution_count": 365,
      "outputs": []
    },
    {
      "cell_type": "code",
      "metadata": {
        "colab": {
          "base_uri": "https://localhost:8080/"
        },
        "id": "nwp1YiSZ3OwR",
        "outputId": "57f40abb-a7b9-4a5b-dfcb-56acce8a0fbc"
      },
      "source": [
        "set(RO_AMER_2019['mount'])"
      ],
      "execution_count": 366,
      "outputs": [
        {
          "output_type": "execute_result",
          "data": {
            "text/plain": [
              "{1, 2, 3, 4, 5, 6, 12}"
            ]
          },
          "metadata": {},
          "execution_count": 366
        }
      ]
    },
    {
      "cell_type": "code",
      "metadata": {
        "id": "5cbzZCHn3TUg"
      },
      "source": [
        "RO_AMERICA_19=RO_AMER_2019.sort_values(by='mount').drop([1358,1372,1613,1614,1886])"
      ],
      "execution_count": 367,
      "outputs": []
    },
    {
      "cell_type": "code",
      "metadata": {
        "id": "l8_muR025WG_"
      },
      "source": [
        "ORDER_RO_A=RO_AMERICA_19['SALESORDERITEM']\n",
        "WEEKDAY_RO_A=RO_AMERICA_19['weekday']"
      ],
      "execution_count": 368,
      "outputs": []
    },
    {
      "cell_type": "code",
      "metadata": {
        "colab": {
          "base_uri": "https://localhost:8080/",
          "height": 0
        },
        "id": "wNeSJAVk5mve",
        "outputId": "b6f26f41-dd92-44ac-f61d-5a610abb7095"
      },
      "source": [
        "\n",
        "plt.scatter(ORDER_RO_A,WEEKDAY_RO_A,color='navy') #พบว่าวันที่มีคำสังซื้อเยอะที่สุดคือวันพุธ\n",
        "plt.ylabel('Weekday')\n",
        "plt.xlabel('Sale_Order')\n",
        "plt.suptitle('Road Bike_America_19',fontsize=16)\n",
        "plt.show()"
      ],
      "execution_count": 369,
      "outputs": [
        {
          "output_type": "display_data",
          "data": {
            "image/png": "[encoded data removed]",
            "text/plain": [
              "<Figure size 432x288 with 1 Axes>"
            ]
          },
          "metadata": {
            "needs_background": "light"
          }
        }
      ]
    },
    {
      "cell_type": "code",
      "metadata": {
        "id": "60hd-5aB6GrN"
      },
      "source": [
        "RO_AMERICA= pd.concat([RO_AMERICA_18,RO_AMERICA_19])"
      ],
      "execution_count": 370,
      "outputs": []
    },
    {
      "cell_type": "markdown",
      "metadata": {
        "id": "NIkRBxvL2tLC"
      },
      "source": [
        "######2) Region: Asia_Pacific_and_Japan"
      ]
    },
    {
      "cell_type": "code",
      "metadata": {
        "id": "LiNDYF_p2s0j"
      },
      "source": [
        "RO_APJ=RO[RO['Region']=='APJ'] #ทวีป Asia_Pacific_and_Japan"
      ],
      "execution_count": 371,
      "outputs": []
    },
    {
      "cell_type": "markdown",
      "metadata": {
        "id": "g5KbsQDo7EI2"
      },
      "source": [
        "######เรียกดูข้อมูลปี 2018 "
      ]
    },
    {
      "cell_type": "code",
      "metadata": {
        "id": "a7zkG4qV7FKC"
      },
      "source": [
        "RO_APJ_2018=RO_APJ[RO_APJ['year']==2018]"
      ],
      "execution_count": 372,
      "outputs": []
    },
    {
      "cell_type": "code",
      "metadata": {
        "id": "vGHALuIB7Qkb"
      },
      "source": [
        "RO_APJ_18=RO_APJ_2018.sort_values(by='mount').drop(849)"
      ],
      "execution_count": 373,
      "outputs": []
    },
    {
      "cell_type": "code",
      "metadata": {
        "id": "2Nuf_qCt8XEw"
      },
      "source": [
        "ORDER_RO_A=RO_APJ_18['SALESORDERITEM']\n",
        "WEEKDAY_RO_A=RO_APJ_18['weekday']"
      ],
      "execution_count": 374,
      "outputs": []
    },
    {
      "cell_type": "code",
      "metadata": {
        "colab": {
          "base_uri": "https://localhost:8080/",
          "height": 0
        },
        "id": "fXQXstyk8afc",
        "outputId": "9a31186c-6246-4f8d-a12b-62821b102070"
      },
      "source": [
        "\n",
        "plt.scatter(ORDER_RO_A,WEEKDAY_RO_A,color='navy') #พบว่าวันที่มีคำสังซื้อเยอะที่สุดคือวันพุธ และวันเสาร์\n",
        "plt.ylabel('Weekday')\n",
        "plt.xlabel('Sale_Order')\n",
        "plt.suptitle('Road Bike_APJ_2018',fontsize=16)\n",
        "plt.show()"
      ],
      "execution_count": 375,
      "outputs": [
        {
          "output_type": "display_data",
          "data": {
            "image/png": "[encoded data removed]",
            "text/plain": [
              "<Figure size 432x288 with 1 Axes>"
            ]
          },
          "metadata": {
            "needs_background": "light"
          }
        }
      ]
    },
    {
      "cell_type": "markdown",
      "metadata": {
        "id": "hblYEm6C89nJ"
      },
      "source": [
        "######เรียกดูข้อมูลปี 2019"
      ]
    },
    {
      "cell_type": "code",
      "metadata": {
        "id": "yg6R4YR789F-"
      },
      "source": [
        "RO_APJ_2019=RO_APJ[RO_APJ['year']==2019]"
      ],
      "execution_count": 376,
      "outputs": []
    },
    {
      "cell_type": "code",
      "metadata": {
        "id": "vxrY1HjY9E7Y"
      },
      "source": [
        "RO_APJ_19=RO_APJ_2019.sort_values(by='mount').drop([1184,1199,1277,1544])"
      ],
      "execution_count": 377,
      "outputs": []
    },
    {
      "cell_type": "code",
      "metadata": {
        "colab": {
          "base_uri": "https://localhost:8080/",
          "height": 0
        },
        "id": "5i9kVEdv91Y4",
        "outputId": "40256416-d66f-40bd-d453-08fe0023c3a3"
      },
      "source": [
        "ORDER_RO_A=RO_APJ_19['SALESORDERITEM']\n",
        "WEEKDAY_RO_A=RO_APJ_19['weekday']\n",
        "plt.scatter(ORDER_RO_A,WEEKDAY_RO_A,color='navy') #พบว่าวันที่มีคำสังซื้อเยอะที่สุดคือวันพุธ และวันจันทร์\n",
        "plt.ylabel('Weekday')\n",
        "plt.xlabel('Sale_Order')\n",
        "plt.suptitle('Road Bike_APJ_2019',fontsize=16)\n",
        "plt.show()"
      ],
      "execution_count": 378,
      "outputs": [
        {
          "output_type": "display_data",
          "data": {
            "image/png": "[encoded data removed]",
            "text/plain": [
              "<Figure size 432x288 with 1 Axes>"
            ]
          },
          "metadata": {
            "needs_background": "light"
          }
        }
      ]
    },
    {
      "cell_type": "code",
      "metadata": {
        "id": "izpQcRiVClLH"
      },
      "source": [
        "RO_AP_J= pd.concat([RO_APJ_18,RO_APJ_19])"
      ],
      "execution_count": 379,
      "outputs": []
    },
    {
      "cell_type": "markdown",
      "metadata": {
        "id": "jC4Vcb9s-r4o"
      },
      "source": [
        "######3) Region:Europe_the_Middle_East_and_Africa"
      ]
    },
    {
      "cell_type": "code",
      "metadata": {
        "id": "FtKoCsp6-ro5"
      },
      "source": [
        "RO_EMEA=RO[RO['Region']=='EMEA'] #ทวีป Europe_the_Middle_East_and_Africa"
      ],
      "execution_count": 380,
      "outputs": []
    },
    {
      "cell_type": "markdown",
      "metadata": {
        "id": "xpof_8Jv_i4E"
      },
      "source": [
        "######เรียกดูข้อมูลปี 2018 "
      ]
    },
    {
      "cell_type": "code",
      "metadata": {
        "id": "84dLH2Ug_imT"
      },
      "source": [
        "RO_EMEA_2018=RO_EMEA[RO_EMEA['year']==2018]"
      ],
      "execution_count": 381,
      "outputs": []
    },
    {
      "cell_type": "code",
      "metadata": {
        "id": "UpbbUyHz_DTX"
      },
      "source": [
        "RO_EMEA_18=RO_EMEA_2018.sort_values(by='mount').drop([127,555,992,920,1082]) #ตัดข้อมูลที่สั่งในวันเดียวกันที่มีจำนวนคำสั่งซื้อน้อยกว่าทิ้ง "
      ],
      "execution_count": 382,
      "outputs": []
    },
    {
      "cell_type": "code",
      "metadata": {
        "colab": {
          "base_uri": "https://localhost:8080/",
          "height": 0
        },
        "id": "_MyHdHrFAwlG",
        "outputId": "bd2a8be2-0295-464f-cad8-f3988b172071"
      },
      "source": [
        "ORDER_RO_A=RO_EMEA_18['SALESORDERITEM']\n",
        "WEEKDAY_RO_A=RO_EMEA_18['weekday']\n",
        "plt.scatter(ORDER_RO_A,WEEKDAY_RO_A,color='navy') #พบว่าวันที่มีคำสังซื้อเยอะที่สุดคือวันพุธ และวันจันทร์\n",
        "plt.ylabel('Weekday')\n",
        "plt.xlabel('Sale_Order')\n",
        "plt.suptitle('Road Bike_AMEA_2019',fontsize=16)\n",
        "plt.show()"
      ],
      "execution_count": 383,
      "outputs": [
        {
          "output_type": "display_data",
          "data": {
            "image/png": "[encoded data removed]",
            "text/plain": [
              "<Figure size 432x288 with 1 Axes>"
            ]
          },
          "metadata": {
            "needs_background": "light"
          }
        }
      ]
    },
    {
      "cell_type": "markdown",
      "metadata": {
        "id": "M36mJdB5A5b4"
      },
      "source": [
        "######เรียกดูข้อมูลปี 2019"
      ]
    },
    {
      "cell_type": "code",
      "metadata": {
        "id": "KY-Mjt8ZA8pz"
      },
      "source": [
        "RO_EMEA_2019=RO_EMEA[RO_EMEA['year']==2019]"
      ],
      "execution_count": 384,
      "outputs": []
    },
    {
      "cell_type": "code",
      "metadata": {
        "id": "cQoVOFmPBFhn"
      },
      "source": [
        "RO_EMEA_19=RO_EMEA_2019.sort_values(by='mount').drop([1072,1167,1260,1287,1850])#ตัดข้อมูลที่สั่งในวันเดียวกันที่มีจำนวนคำสั่งซื้อน้อยกว่าทิ้ง "
      ],
      "execution_count": 385,
      "outputs": []
    },
    {
      "cell_type": "code",
      "metadata": {
        "colab": {
          "base_uri": "https://localhost:8080/",
          "height": 0
        },
        "id": "l-aH3XgmCPxV",
        "outputId": "f9701e46-2d15-40ae-9a4d-dc56cdedc28d"
      },
      "source": [
        "ORDER_RO_A=RO_EMEA_19['SALESORDERITEM']\n",
        "WEEKDAY_RO_A=RO_EMEA_19['weekday']\n",
        "plt.scatter(ORDER_RO_A,WEEKDAY_RO_A,color='navy') #พบว่าวันที่มีคำสังซื้อเยอะที่สุดคือวันอาทิตย์\n",
        "plt.ylabel('Weekday')\n",
        "plt.xlabel('Sale_Order')\n",
        "plt.suptitle('Road Bike_EMEA_2019',fontsize=16)\n",
        "plt.show()"
      ],
      "execution_count": 386,
      "outputs": [
        {
          "output_type": "display_data",
          "data": {
            "image/png": "[encoded data removed]",
            "text/plain": [
              "<Figure size 432x288 with 1 Axes>"
            ]
          },
          "metadata": {
            "needs_background": "light"
          }
        }
      ]
    },
    {
      "cell_type": "code",
      "metadata": {
        "id": "fa-JQt2WCe-_"
      },
      "source": [
        "RO_E_MEA= pd.concat([RO_EMEA_18,RO_EMEA_19])"
      ],
      "execution_count": 387,
      "outputs": []
    },
    {
      "cell_type": "markdown",
      "metadata": {
        "id": "6Nlnq3q-C-ux"
      },
      "source": [
        "######รวมตาราง ทั้งสามทวีป"
      ]
    },
    {
      "cell_type": "code",
      "metadata": {
        "id": "T3qhNuRbDD2E"
      },
      "source": [
        "Road_Bike= pd.concat([RO_AMERICA,RO_AP_J,RO_E_MEA])"
      ],
      "execution_count": 388,
      "outputs": []
    },
    {
      "cell_type": "code",
      "metadata": {
        "colab": {
          "base_uri": "https://localhost:8080/",
          "height": 309
        },
        "id": "lOEYWZEUDYTq",
        "outputId": "4065c449-440b-4cc1-bfa8-079ff993a9a3"
      },
      "source": [
        "ORDER_RO_A=Road_Bike['SALESORDERITEM']\n",
        "WEEKDAY_RO_A=Road_Bike['weekday']\n",
        "plt.scatter(ORDER_RO_A,WEEKDAY_RO_A,color='navy') #พบว่าวันที่มีคำสังซื้อเยอะที่สุดคือวันอาทิตย์ จันทร์ และ ศุกร์\n",
        "plt.ylabel('Weekday')\n",
        "plt.xlabel('Sale_Order')\n",
        "plt.suptitle('Road Bike',fontsize=16)\n",
        "plt.show()"
      ],
      "execution_count": 389,
      "outputs": [
        {
          "output_type": "display_data",
          "data": {
            "image/png": "[encoded data removed]",
            "text/plain": [
              "<Figure size 432x288 with 1 Axes>"
            ]
          },
          "metadata": {
            "needs_background": "light"
          }
        }
      ]
    },
    {
      "cell_type": "markdown",
      "metadata": {
        "id": "oJ7G-lNtEDE8"
      },
      "source": [
        "####4.3 รถจักยานต์ชนิด BMX : BX"
      ]
    },
    {
      "cell_type": "code",
      "metadata": {
        "id": "0cpjV7_5EPR2"
      },
      "source": [
        "BX=Sale[Sale['name_product']=='BX']"
      ],
      "execution_count": 390,
      "outputs": []
    },
    {
      "cell_type": "markdown",
      "metadata": {
        "id": "6x1x26ZeEY8i"
      },
      "source": [
        "#####4.3.1 ดูข้อมูลในแต่ละทวีป"
      ]
    },
    {
      "cell_type": "markdown",
      "metadata": {
        "id": "ugNYbHnKEjKh"
      },
      "source": [
        "######1) Region:America"
      ]
    },
    {
      "cell_type": "code",
      "metadata": {
        "id": "SxBJziGHE0I4"
      },
      "source": [
        "BX_AMER=BX[BX['Region']=='AMER'] #ทวีป America"
      ],
      "execution_count": 391,
      "outputs": []
    },
    {
      "cell_type": "markdown",
      "metadata": {
        "id": "En1AL0prFCM4"
      },
      "source": [
        "######เรียกดูข้อมูลปี 2018 "
      ]
    },
    {
      "cell_type": "code",
      "metadata": {
        "id": "XNO6b375FFEM"
      },
      "source": [
        "BX_AMER_2018=BX_AMER[BX_AMER['year']==2018]"
      ],
      "execution_count": 392,
      "outputs": []
    },
    {
      "cell_type": "code",
      "metadata": {
        "id": "_a4zcTXDFLhg"
      },
      "source": [
        "BX_AMER_18=BX_AMER_2018.sort_values(by='mount').drop([595,596,600,601,602,680,833,770])"
      ],
      "execution_count": 393,
      "outputs": []
    },
    {
      "cell_type": "code",
      "metadata": {
        "colab": {
          "base_uri": "https://localhost:8080/",
          "height": 0
        },
        "id": "WlkxZPHsGPdf",
        "outputId": "b0da4527-d632-4c84-a570-4c87ab7839aa"
      },
      "source": [
        "ORDER_RO_A=BX_AMER_18['SALESORDERITEM']\n",
        "WEEKDAY_RO_A=BX_AMER_18['weekday']\n",
        "plt.scatter(ORDER_RO_A,WEEKDAY_RO_A,color='navy') #พบว่าวันที่มีคำสังซื้อเยอะที่สุดคือวันพุธ และวันจันทร์\n",
        "plt.ylabel('Weekday')\n",
        "plt.xlabel('Sale_Order')\n",
        "plt.suptitle('BMX_AMER_18',fontsize=16)\n",
        "plt.show()"
      ],
      "execution_count": 394,
      "outputs": [
        {
          "output_type": "display_data",
          "data": {
            "image/png": "[encoded data removed]",
            "text/plain": [
              "<Figure size 432x288 with 1 Axes>"
            ]
          },
          "metadata": {
            "needs_background": "light"
          }
        }
      ]
    },
    {
      "cell_type": "markdown",
      "metadata": {
        "id": "ykNNCZaZFDnR"
      },
      "source": [
        "######เรียกดูข้อมูลปี *2019* "
      ]
    },
    {
      "cell_type": "code",
      "metadata": {
        "id": "5SLZvbOPGSBp"
      },
      "source": [
        "BX_AMER_2019=BX_AMER[BX_AMER['year']==2019]"
      ],
      "execution_count": 395,
      "outputs": []
    },
    {
      "cell_type": "code",
      "metadata": {
        "id": "FXyZH1tcGR21"
      },
      "source": [
        "BX_AMER_19=BX_AMER_2019.sort_values(by='mount').drop([1407,1416,1413,1368,1579,1719,1760,1908,1770,1893])"
      ],
      "execution_count": 396,
      "outputs": []
    },
    {
      "cell_type": "code",
      "metadata": {
        "colab": {
          "base_uri": "https://localhost:8080/",
          "height": 0
        },
        "id": "gUC0uGJ-E9yj",
        "outputId": "3b6ec230-41b2-44d1-e8d3-3fe97499e9d4"
      },
      "source": [
        "ORDER_RO_A=BX_AMER_19['SALESORDERITEM']\n",
        "WEEKDAY_RO_A=BX_AMER_19['weekday']\n",
        "plt.scatter(ORDER_RO_A,WEEKDAY_RO_A,color='navy') #พบว่าวันที่มีคำสังซื้อเยอะที่สุดคือวันพุธ และวันจันทร์\n",
        "plt.ylabel('Weekday')\n",
        "plt.xlabel('Sale_Order')\n",
        "plt.suptitle('BMX_AMER_19',fontsize=16)\n",
        "plt.show()"
      ],
      "execution_count": 397,
      "outputs": [
        {
          "output_type": "display_data",
          "data": {
            "image/png": "[encoded data removed]",
            "text/plain": [
              "<Figure size 432x288 with 1 Axes>"
            ]
          },
          "metadata": {
            "needs_background": "light"
          }
        }
      ]
    },
    {
      "cell_type": "code",
      "metadata": {
        "id": "0AHx9h2OITv1"
      },
      "source": [
        "BX_A_MER= pd.concat([BX_AMER_18,BX_AMER_19])"
      ],
      "execution_count": 398,
      "outputs": []
    },
    {
      "cell_type": "markdown",
      "metadata": {
        "id": "mYH7VO6bEjEO"
      },
      "source": [
        "######2) Region: Asia_Pacific_and_Japan"
      ]
    },
    {
      "cell_type": "code",
      "metadata": {
        "id": "iKU77JW2Iupd"
      },
      "source": [
        "BX_APJ=BX[BX['Region']=='APJ'] #ทวีป Asia_Pacific_and_Japan"
      ],
      "execution_count": 399,
      "outputs": []
    },
    {
      "cell_type": "markdown",
      "metadata": {
        "id": "n5mPdiVVJQK-"
      },
      "source": [
        "######เรียกดูข้อมูลปี 2018 "
      ]
    },
    {
      "cell_type": "code",
      "metadata": {
        "id": "gnUsnN0sIlVI"
      },
      "source": [
        "BX_APJ_2018=BX_APJ[BX_APJ['year']==2018]"
      ],
      "execution_count": 400,
      "outputs": []
    },
    {
      "cell_type": "code",
      "metadata": {
        "colab": {
          "base_uri": "https://localhost:8080/"
        },
        "id": "QG2df7-xIlMG",
        "outputId": "b21136f5-bd8b-47d1-f016-1be3917c2c7e"
      },
      "source": [
        "set(BX_APJ['mount'])"
      ],
      "execution_count": 401,
      "outputs": [
        {
          "output_type": "execute_result",
          "data": {
            "text/plain": [
              "{1, 2, 3, 4, 5, 6, 7, 8, 9, 10, 11, 12}"
            ]
          },
          "metadata": {},
          "execution_count": 401
        }
      ]
    },
    {
      "cell_type": "code",
      "metadata": {
        "id": "5mB70H4eIlDw"
      },
      "source": [
        "BX_APJ_2018_6=BX_APJ_2018[(BX_APJ_2018['mount']>=1)&(BX_APJ_2018['mount']<=6)].sort_values(by='mount').drop([10,46,239,238,117,155,242,245,349,357,358]) #ครึ่งปีแรก"
      ],
      "execution_count": 402,
      "outputs": []
    },
    {
      "cell_type": "code",
      "metadata": {
        "id": "F5BC_5LQIkvV"
      },
      "source": [
        "BX_APJ_2018_12=BX_APJ_2018[(BX_APJ_2018['mount']>=7)&(BX_APJ_2018['mount']<=12)].sort_values(by='mount').drop([391,395,538,645,666,678,823,786,795,973,968,967,851,977,981,1062,1116]) #ครึ่งปีหลัง"
      ],
      "execution_count": 403,
      "outputs": []
    },
    {
      "cell_type": "code",
      "metadata": {
        "id": "uG4xIQDANMHx"
      },
      "source": [
        "BX_APJ_18= pd.concat([BX_APJ_2018_6,BX_APJ_2018_12])"
      ],
      "execution_count": 404,
      "outputs": []
    },
    {
      "cell_type": "code",
      "metadata": {
        "colab": {
          "base_uri": "https://localhost:8080/",
          "height": 0
        },
        "id": "qluAnjESNXX_",
        "outputId": "35f31e62-3367-4198-fc7b-8c4c80e4445b"
      },
      "source": [
        "ORDER_RO_A=BX_APJ_18['SALESORDERITEM']\n",
        "WEEKDAY_RO_A=BX_APJ_18['weekday']\n",
        "plt.scatter(ORDER_RO_A,WEEKDAY_RO_A,color='navy') #พบว่าวันที่มีคำสังซื้อเยอะที่สุดคือวันพุธ และวันเสาร์\n",
        "plt.ylabel('Weekday')\n",
        "plt.xlabel('Sale_Order')\n",
        "plt.suptitle('BMX_APJ_2018',fontsize=16)\n",
        "plt.show()"
      ],
      "execution_count": 405,
      "outputs": [
        {
          "output_type": "display_data",
          "data": {
            "image/png": "[encoded data removed]",
            "text/plain": [
              "<Figure size 432x288 with 1 Axes>"
            ]
          },
          "metadata": {
            "needs_background": "light"
          }
        }
      ]
    },
    {
      "cell_type": "markdown",
      "metadata": {
        "id": "7JfTzsMpNoG7"
      },
      "source": [
        "######เรียกดูข้อมูลปี 2019 "
      ]
    },
    {
      "cell_type": "code",
      "metadata": {
        "id": "nc54K9KiNXQZ"
      },
      "source": [
        "BX_APJ_2019=BX_APJ[BX_APJ['year']==2019]"
      ],
      "execution_count": 406,
      "outputs": []
    },
    {
      "cell_type": "code",
      "metadata": {
        "id": "7OPtEO6QN7uW"
      },
      "source": [
        "BX_APJ_19=BX_APJ_2019.sort_values(by='mount').drop([1200,1269,1432,1521,1636,1600,1598,1926,1928])"
      ],
      "execution_count": 407,
      "outputs": []
    },
    {
      "cell_type": "code",
      "metadata": {
        "colab": {
          "base_uri": "https://localhost:8080/",
          "height": 0
        },
        "id": "hVTNvHOXPQlR",
        "outputId": "3cb32097-2c4f-450e-ea8b-f6aeb1c56c91"
      },
      "source": [
        "ORDER_RO_A=BX_APJ_19['SALESORDERITEM']\n",
        "WEEKDAY_RO_A=BX_APJ_19['weekday']\n",
        "plt.scatter(ORDER_RO_A,WEEKDAY_RO_A,color='navy') #พบว่าวันที่มีคำสังซื้อเยอะที่สุดคือวันอังคาร\n",
        "plt.ylabel('Weekday')\n",
        "plt.xlabel('Sale_Order')\n",
        "plt.suptitle('BMX_APJ_2019',fontsize=16)\n",
        "plt.show()"
      ],
      "execution_count": 408,
      "outputs": [
        {
          "output_type": "display_data",
          "data": {
            "image/png": "[encoded data removed]",
            "text/plain": [
              "<Figure size 432x288 with 1 Axes>"
            ]
          },
          "metadata": {
            "needs_background": "light"
          }
        }
      ]
    },
    {
      "cell_type": "code",
      "metadata": {
        "id": "MpVF_RvLPt9q"
      },
      "source": [
        "BX_A_PJ= pd.concat([BX_APJ_18,BX_APJ_19])"
      ],
      "execution_count": 409,
      "outputs": []
    },
    {
      "cell_type": "markdown",
      "metadata": {
        "id": "J_B5rBzZEi-s"
      },
      "source": [
        "######3) Region:Europe_the_Middle_East_and_Africa"
      ]
    },
    {
      "cell_type": "code",
      "metadata": {
        "id": "iwO7OfAlQDFR"
      },
      "source": [
        "BX_EMEA=BX[BX['Region']=='EMEA']"
      ],
      "execution_count": 410,
      "outputs": []
    },
    {
      "cell_type": "code",
      "metadata": {
        "colab": {
          "base_uri": "https://localhost:8080/",
          "height": 607
        },
        "id": "ivq8dAfpKeXf",
        "outputId": "a5a16dcb-f2b9-4e18-96b3-0ac2696c9487"
      },
      "source": [
        "BX_EMEA"
      ],
      "execution_count": 411,
      "outputs": [
        {
          "output_type": "execute_result",
          "data": {
            "text/html": [
              "<div>\n",
              "<style scoped>\n",
              "    .dataframe tbody tr th:only-of-type {\n",
              "        vertical-align: middle;\n",
              "    }\n",
              "\n",
              "    .dataframe tbody tr th {\n",
              "        vertical-align: top;\n",
              "    }\n",
              "\n",
              "    .dataframe thead th {\n",
              "        text-align: right;\n",
              "    }\n",
              "</style>\n",
              "<table border=\"1\" class=\"dataframe\">\n",
              "  <thead>\n",
              "    <tr style=\"text-align: right;\">\n",
              "      <th></th>\n",
              "      <th>SALESORDERID</th>\n",
              "      <th>SALESORDERITEM</th>\n",
              "      <th>PRODUCTID</th>\n",
              "      <th>NOTEID</th>\n",
              "      <th>CURRENCY</th>\n",
              "      <th>GROSSAMOUNT</th>\n",
              "      <th>NETAMOUNT</th>\n",
              "      <th>TAXAMOUNT</th>\n",
              "      <th>ITEMATPSTATUS</th>\n",
              "      <th>OPITEMPOS</th>\n",
              "      <th>QUANTITY</th>\n",
              "      <th>QUANTITYUNIT</th>\n",
              "      <th>DELIVERYDATE</th>\n",
              "      <th>name_product</th>\n",
              "      <th>Region</th>\n",
              "      <th>Name_Region</th>\n",
              "      <th>DATE</th>\n",
              "      <th>weekday</th>\n",
              "      <th>day</th>\n",
              "      <th>mount</th>\n",
              "      <th>year</th>\n",
              "    </tr>\n",
              "  </thead>\n",
              "  <tbody>\n",
              "    <tr>\n",
              "      <th>13</th>\n",
              "      <td>500000003</td>\n",
              "      <td>20</td>\n",
              "      <td>BX-1013</td>\n",
              "      <td></td>\n",
              "      <td>USD</td>\n",
              "      <td>449</td>\n",
              "      <td>392.875</td>\n",
              "      <td>56.125</td>\n",
              "      <td>I</td>\n",
              "      <td>NaN</td>\n",
              "      <td>2</td>\n",
              "      <td>EA</td>\n",
              "      <td>20180223</td>\n",
              "      <td>BX</td>\n",
              "      <td>EMEA</td>\n",
              "      <td>2</td>\n",
              "      <td>2018-02-23</td>\n",
              "      <td>4</td>\n",
              "      <td>23</td>\n",
              "      <td>2</td>\n",
              "      <td>2018</td>\n",
              "    </tr>\n",
              "    <tr>\n",
              "      <th>20</th>\n",
              "      <td>500000004</td>\n",
              "      <td>10</td>\n",
              "      <td>BX-1014</td>\n",
              "      <td></td>\n",
              "      <td>USD</td>\n",
              "      <td>799</td>\n",
              "      <td>699.125</td>\n",
              "      <td>99.875</td>\n",
              "      <td>I</td>\n",
              "      <td>NaN</td>\n",
              "      <td>3</td>\n",
              "      <td>EA</td>\n",
              "      <td>20180305</td>\n",
              "      <td>BX</td>\n",
              "      <td>EMEA</td>\n",
              "      <td>2</td>\n",
              "      <td>2018-03-05</td>\n",
              "      <td>0</td>\n",
              "      <td>5</td>\n",
              "      <td>3</td>\n",
              "      <td>2018</td>\n",
              "    </tr>\n",
              "    <tr>\n",
              "      <th>23</th>\n",
              "      <td>500000004</td>\n",
              "      <td>40</td>\n",
              "      <td>BX-1013</td>\n",
              "      <td></td>\n",
              "      <td>USD</td>\n",
              "      <td>449</td>\n",
              "      <td>392.875</td>\n",
              "      <td>56.125</td>\n",
              "      <td>I</td>\n",
              "      <td>NaN</td>\n",
              "      <td>6</td>\n",
              "      <td>EA</td>\n",
              "      <td>20180305</td>\n",
              "      <td>BX</td>\n",
              "      <td>EMEA</td>\n",
              "      <td>2</td>\n",
              "      <td>2018-03-05</td>\n",
              "      <td>0</td>\n",
              "      <td>5</td>\n",
              "      <td>3</td>\n",
              "      <td>2018</td>\n",
              "    </tr>\n",
              "    <tr>\n",
              "      <th>31</th>\n",
              "      <td>500000005</td>\n",
              "      <td>40</td>\n",
              "      <td>BX-1011</td>\n",
              "      <td></td>\n",
              "      <td>USD</td>\n",
              "      <td>249</td>\n",
              "      <td>217.875</td>\n",
              "      <td>31.125</td>\n",
              "      <td>I</td>\n",
              "      <td>NaN</td>\n",
              "      <td>10</td>\n",
              "      <td>EA</td>\n",
              "      <td>20180301</td>\n",
              "      <td>BX</td>\n",
              "      <td>EMEA</td>\n",
              "      <td>2</td>\n",
              "      <td>2018-03-01</td>\n",
              "      <td>3</td>\n",
              "      <td>1</td>\n",
              "      <td>3</td>\n",
              "      <td>2018</td>\n",
              "    </tr>\n",
              "    <tr>\n",
              "      <th>86</th>\n",
              "      <td>500000016</td>\n",
              "      <td>20</td>\n",
              "      <td>BX-1012</td>\n",
              "      <td></td>\n",
              "      <td>USD</td>\n",
              "      <td>399</td>\n",
              "      <td>349.125</td>\n",
              "      <td>49.875</td>\n",
              "      <td>I</td>\n",
              "      <td>NaN</td>\n",
              "      <td>1</td>\n",
              "      <td>EA</td>\n",
              "      <td>20180307</td>\n",
              "      <td>BX</td>\n",
              "      <td>EMEA</td>\n",
              "      <td>2</td>\n",
              "      <td>2018-03-07</td>\n",
              "      <td>2</td>\n",
              "      <td>7</td>\n",
              "      <td>3</td>\n",
              "      <td>2018</td>\n",
              "    </tr>\n",
              "    <tr>\n",
              "      <th>...</th>\n",
              "      <td>...</td>\n",
              "      <td>...</td>\n",
              "      <td>...</td>\n",
              "      <td>...</td>\n",
              "      <td>...</td>\n",
              "      <td>...</td>\n",
              "      <td>...</td>\n",
              "      <td>...</td>\n",
              "      <td>...</td>\n",
              "      <td>...</td>\n",
              "      <td>...</td>\n",
              "      <td>...</td>\n",
              "      <td>...</td>\n",
              "      <td>...</td>\n",
              "      <td>...</td>\n",
              "      <td>...</td>\n",
              "      <td>...</td>\n",
              "      <td>...</td>\n",
              "      <td>...</td>\n",
              "      <td>...</td>\n",
              "      <td>...</td>\n",
              "    </tr>\n",
              "    <tr>\n",
              "      <th>1863</th>\n",
              "      <td>500000321</td>\n",
              "      <td>90</td>\n",
              "      <td>BX-1012</td>\n",
              "      <td></td>\n",
              "      <td>USD</td>\n",
              "      <td>399</td>\n",
              "      <td>349.125</td>\n",
              "      <td>49.875</td>\n",
              "      <td>I</td>\n",
              "      <td>NaN</td>\n",
              "      <td>7</td>\n",
              "      <td>EA</td>\n",
              "      <td>20190605</td>\n",
              "      <td>BX</td>\n",
              "      <td>EMEA</td>\n",
              "      <td>2</td>\n",
              "      <td>2019-06-05</td>\n",
              "      <td>2</td>\n",
              "      <td>5</td>\n",
              "      <td>6</td>\n",
              "      <td>2019</td>\n",
              "    </tr>\n",
              "    <tr>\n",
              "      <th>1867</th>\n",
              "      <td>500000322</td>\n",
              "      <td>30</td>\n",
              "      <td>BX-1013</td>\n",
              "      <td></td>\n",
              "      <td>USD</td>\n",
              "      <td>449</td>\n",
              "      <td>392.875</td>\n",
              "      <td>56.125</td>\n",
              "      <td>I</td>\n",
              "      <td>NaN</td>\n",
              "      <td>5</td>\n",
              "      <td>EA</td>\n",
              "      <td>20190617</td>\n",
              "      <td>BX</td>\n",
              "      <td>EMEA</td>\n",
              "      <td>2</td>\n",
              "      <td>2019-06-17</td>\n",
              "      <td>0</td>\n",
              "      <td>17</td>\n",
              "      <td>6</td>\n",
              "      <td>2019</td>\n",
              "    </tr>\n",
              "    <tr>\n",
              "      <th>1880</th>\n",
              "      <td>500000323</td>\n",
              "      <td>60</td>\n",
              "      <td>BX-1011</td>\n",
              "      <td></td>\n",
              "      <td>USD</td>\n",
              "      <td>249</td>\n",
              "      <td>217.875</td>\n",
              "      <td>31.125</td>\n",
              "      <td>I</td>\n",
              "      <td>NaN</td>\n",
              "      <td>9</td>\n",
              "      <td>EA</td>\n",
              "      <td>20190610</td>\n",
              "      <td>BX</td>\n",
              "      <td>EMEA</td>\n",
              "      <td>2</td>\n",
              "      <td>2019-06-10</td>\n",
              "      <td>0</td>\n",
              "      <td>10</td>\n",
              "      <td>6</td>\n",
              "      <td>2019</td>\n",
              "    </tr>\n",
              "    <tr>\n",
              "      <th>1883</th>\n",
              "      <td>500000324</td>\n",
              "      <td>20</td>\n",
              "      <td>BX-1016</td>\n",
              "      <td></td>\n",
              "      <td>USD</td>\n",
              "      <td>319</td>\n",
              "      <td>279.125</td>\n",
              "      <td>39.875</td>\n",
              "      <td>I</td>\n",
              "      <td>NaN</td>\n",
              "      <td>2</td>\n",
              "      <td>EA</td>\n",
              "      <td>20190606</td>\n",
              "      <td>BX</td>\n",
              "      <td>EMEA</td>\n",
              "      <td>2</td>\n",
              "      <td>2019-06-06</td>\n",
              "      <td>3</td>\n",
              "      <td>6</td>\n",
              "      <td>6</td>\n",
              "      <td>2019</td>\n",
              "    </tr>\n",
              "    <tr>\n",
              "      <th>1884</th>\n",
              "      <td>500000324</td>\n",
              "      <td>30</td>\n",
              "      <td>BX-1013</td>\n",
              "      <td></td>\n",
              "      <td>USD</td>\n",
              "      <td>449</td>\n",
              "      <td>392.875</td>\n",
              "      <td>56.125</td>\n",
              "      <td>I</td>\n",
              "      <td>NaN</td>\n",
              "      <td>7</td>\n",
              "      <td>EA</td>\n",
              "      <td>20190606</td>\n",
              "      <td>BX</td>\n",
              "      <td>EMEA</td>\n",
              "      <td>2</td>\n",
              "      <td>2019-06-06</td>\n",
              "      <td>3</td>\n",
              "      <td>6</td>\n",
              "      <td>6</td>\n",
              "      <td>2019</td>\n",
              "    </tr>\n",
              "  </tbody>\n",
              "</table>\n",
              "<p>146 rows × 21 columns</p>\n",
              "</div>"
            ],
            "text/plain": [
              "      SALESORDERID  SALESORDERITEM PRODUCTID NOTEID  ... weekday  day  mount  year\n",
              "13       500000003              20   BX-1013         ...       4   23      2  2018\n",
              "20       500000004              10   BX-1014         ...       0    5      3  2018\n",
              "23       500000004              40   BX-1013         ...       0    5      3  2018\n",
              "31       500000005              40   BX-1011         ...       3    1      3  2018\n",
              "86       500000016              20   BX-1012         ...       2    7      3  2018\n",
              "...            ...             ...       ...    ...  ...     ...  ...    ...   ...\n",
              "1863     500000321              90   BX-1012         ...       2    5      6  2019\n",
              "1867     500000322              30   BX-1013         ...       0   17      6  2019\n",
              "1880     500000323              60   BX-1011         ...       0   10      6  2019\n",
              "1883     500000324              20   BX-1016         ...       3    6      6  2019\n",
              "1884     500000324              30   BX-1013         ...       3    6      6  2019\n",
              "\n",
              "[146 rows x 21 columns]"
            ]
          },
          "metadata": {},
          "execution_count": 411
        }
      ]
    },
    {
      "cell_type": "code",
      "metadata": {
        "id": "KPYwKQIjKjqs"
      },
      "source": [
        ""
      ],
      "execution_count": null,
      "outputs": []
    },
    {
      "cell_type": "markdown",
      "metadata": {
        "id": "Ue6dt8NgQcfh"
      },
      "source": [
        "######เรียกดูข้อมูลปี 2018 "
      ]
    },
    {
      "cell_type": "code",
      "metadata": {
        "id": "wdjURlYfQhjE"
      },
      "source": [
        "BX_EMEA_2018=BX_EMEA[BX_EMEA['year']==2018]"
      ],
      "execution_count": 412,
      "outputs": []
    },
    {
      "cell_type": "code",
      "metadata": {
        "colab": {
          "base_uri": "https://localhost:8080/"
        },
        "id": "uUEBbXHDQ20a",
        "outputId": "5be1f347-cf0c-44b9-b674-e63ed6238105"
      },
      "source": [
        "set(BX_EMEA_2018['mount'])"
      ],
      "execution_count": 413,
      "outputs": [
        {
          "output_type": "execute_result",
          "data": {
            "text/plain": [
              "{2, 3, 4, 5, 6, 7, 8, 9, 10, 11, 12}"
            ]
          },
          "metadata": {},
          "execution_count": 413
        }
      ]
    },
    {
      "cell_type": "code",
      "metadata": {
        "id": "GAvCo0iIRFyh"
      },
      "source": [
        "BX_EMEA_2018_6=BX_EMEA_2018[(BX_EMEA_2018['mount']>=2)&(BX_EMEA_2018['mount']<=6)].sort_values(by='mount').drop([165,20,132,261,287,267,263,375,206,219,222,218,376])"
      ],
      "execution_count": 414,
      "outputs": []
    },
    {
      "cell_type": "code",
      "metadata": {
        "id": "3aDJqsuESZMa"
      },
      "source": [
        "BX_EMEA_2018_12=BX_EMEA_2018[(BX_EMEA_2018['mount']>=7)&(BX_EMEA_2018['mount']<=12)].sort_values(by='mount').drop([881,879,755,705,700,759,889,1081,1086,1038,1040,958])"
      ],
      "execution_count": 415,
      "outputs": []
    },
    {
      "cell_type": "code",
      "metadata": {
        "id": "VXgJS4EkTk8N"
      },
      "source": [
        "BX_EMEA_18= pd.concat([BX_EMEA_2018_6,BX_EMEA_2018_12])"
      ],
      "execution_count": 416,
      "outputs": []
    },
    {
      "cell_type": "code",
      "metadata": {
        "colab": {
          "base_uri": "https://localhost:8080/",
          "height": 309
        },
        "id": "RQtbumwFEfER",
        "outputId": "a37ff8a1-5bc9-4602-9ed1-a3c9401476a8"
      },
      "source": [
        "ORDER_RO_A=BX_EMEA_18['SALESORDERITEM']\n",
        "WEEKDAY_RO_A=BX_EMEA_18['weekday']\n",
        "plt.scatter(ORDER_RO_A,WEEKDAY_RO_A,color='navy') #พบว่าวันที่มีคำสังซื้อเยอะที่สุดคือวันอังคาร\n",
        "plt.ylabel('Weekday')\n",
        "plt.xlabel('Sale_Order')\n",
        "plt.suptitle('BMX_EMEA_2018',fontsize=16)\n",
        "plt.show()"
      ],
      "execution_count": 417,
      "outputs": [
        {
          "output_type": "display_data",
          "data": {
            "image/png": "[encoded data removed]",
            "text/plain": [
              "<Figure size 432x288 with 1 Axes>"
            ]
          },
          "metadata": {
            "needs_background": "light"
          }
        }
      ]
    },
    {
      "cell_type": "markdown",
      "metadata": {
        "id": "tgVIJ_qyQdaV"
      },
      "source": [
        "######เรียกดูข้อมูลปี 2019"
      ]
    },
    {
      "cell_type": "code",
      "metadata": {
        "id": "rRbJgj_uUAgl"
      },
      "source": [
        "BX_EMEA_2019=BX_EMEA[BX_EMEA['year']==2019]"
      ],
      "execution_count": 418,
      "outputs": []
    },
    {
      "cell_type": "code",
      "metadata": {
        "colab": {
          "base_uri": "https://localhost:8080/"
        },
        "id": "TAGR4HHpUcaL",
        "outputId": "bd9e5158-a7e5-4fdc-8204-d9d8b66f815b"
      },
      "source": [
        "set(BX_EMEA_2019['mount'])"
      ],
      "execution_count": 419,
      "outputs": [
        {
          "output_type": "execute_result",
          "data": {
            "text/plain": [
              "{1, 2, 3, 4, 5, 6}"
            ]
          },
          "metadata": {},
          "execution_count": 419
        }
      ]
    },
    {
      "cell_type": "code",
      "metadata": {
        "id": "k2_3-VTrUEQx"
      },
      "source": [
        "BX_EMEA_2019_3=BX_EMEA_2019[(BX_EMEA_2019['mount']>=1)&(BX_EMEA_2019['mount']<=3)].sort_values(by='mount').drop([1292,1285,1282,1146,1179,1143,1347,1346,1348,1478,1376,1449])"
      ],
      "execution_count": 420,
      "outputs": []
    },
    {
      "cell_type": "code",
      "metadata": {
        "id": "FXR5s-shULh_"
      },
      "source": [
        "BX_EMEA_2019_6=BX_EMEA_2019[(BX_EMEA_2019['mount']>=4)&(BX_EMEA_2019['mount']<=6)].sort_values(by='mount').drop([1494,1749,1708,1668,1666,1744,1861,1883])"
      ],
      "execution_count": 421,
      "outputs": []
    },
    {
      "cell_type": "code",
      "metadata": {
        "id": "JdoT0vZDXJyp"
      },
      "source": [
        "BX_EMEA_19= pd.concat([BX_EMEA_2019_3,BX_EMEA_2019_6])"
      ],
      "execution_count": 422,
      "outputs": []
    },
    {
      "cell_type": "code",
      "metadata": {
        "colab": {
          "base_uri": "https://localhost:8080/",
          "height": 309
        },
        "id": "VJsmMUUoXU2W",
        "outputId": "bbfb3273-a6be-405a-da9f-89180f16368a"
      },
      "source": [
        "ORDER_RO_A=BX_EMEA_19['SALESORDERITEM']\n",
        "WEEKDAY_RO_A=BX_EMEA_19['weekday']\n",
        "plt.scatter(ORDER_RO_A,WEEKDAY_RO_A,color='navy') #พบว่าวันที่มีคำสังซื้อเยอะที่สุดคือวันพุธ และวันอังคาร\n",
        "plt.ylabel('Weekday')\n",
        "plt.xlabel('Sale_Order')\n",
        "plt.suptitle('BX_EMEA_19',fontsize=16)\n",
        "plt.show()"
      ],
      "execution_count": 423,
      "outputs": [
        {
          "output_type": "display_data",
          "data": {
            "image/png": "[encoded data removed]",
            "text/plain": [
              "<Figure size 432x288 with 1 Axes>"
            ]
          },
          "metadata": {
            "needs_background": "light"
          }
        }
      ]
    },
    {
      "cell_type": "code",
      "metadata": {
        "id": "yMOi2neXXxKs"
      },
      "source": [
        "BX_EM_EA= pd.concat([BX_EMEA_18,BX_AMER_19])"
      ],
      "execution_count": 424,
      "outputs": []
    },
    {
      "cell_type": "code",
      "metadata": {
        "id": "mS7eOs7RXhng"
      },
      "source": [
        "BMX= pd.concat([BX_A_MER,BX_A_PJ,BX_EM_EA]) #รวมทวีป"
      ],
      "execution_count": 425,
      "outputs": []
    },
    {
      "cell_type": "code",
      "metadata": {
        "colab": {
          "base_uri": "https://localhost:8080/",
          "height": 309
        },
        "id": "4W9Id_FTYj4A",
        "outputId": "26f1923f-7a95-4ab0-b394-cd8ee43259e0"
      },
      "source": [
        "ORDER_RO_A=BMX['SALESORDERITEM']\n",
        "WEEKDAY_RO_A=BMX['weekday']\n",
        "plt.scatter(ORDER_RO_A,WEEKDAY_RO_A,color='navy') #พบว่าวันที่มีคำสังซื้อเยอะที่สุดคือวันพุธ เสาร์ ศุกร์และวันอังคาร \n",
        "plt.ylabel('Weekday')\n",
        "plt.xlabel('Sale_Order')\n",
        "plt.suptitle('BMX',fontsize=16)\n",
        "plt.show()"
      ],
      "execution_count": 426,
      "outputs": [
        {
          "output_type": "display_data",
          "data": {
            "image/png": "[encoded data removed]",
            "text/plain": [
              "<Figure size 432x288 with 1 Axes>"
            ]
          },
          "metadata": {
            "needs_background": "light"
          }
        }
      ]
    },
    {
      "cell_type": "markdown",
      "metadata": {
        "id": "ByVXxO1oY3-7"
      },
      "source": [
        "####4.4 รถจักยานต์ชนิด Cyclo-cross : CC\n",
        "\n",
        "\n",
        "\n"
      ]
    },
    {
      "cell_type": "code",
      "metadata": {
        "id": "En4hO3SvZBGL"
      },
      "source": [
        "CC=Sale[Sale['name_product']=='CC']"
      ],
      "execution_count": 427,
      "outputs": []
    },
    {
      "cell_type": "code",
      "metadata": {
        "colab": {
          "base_uri": "https://localhost:8080/",
          "height": 607
        },
        "id": "Wyl2N6MQZJXA",
        "outputId": "c7c40732-7f7d-47e8-8368-693e3abb5188"
      },
      "source": [
        "CC"
      ],
      "execution_count": 428,
      "outputs": [
        {
          "output_type": "execute_result",
          "data": {
            "text/html": [
              "<div>\n",
              "<style scoped>\n",
              "    .dataframe tbody tr th:only-of-type {\n",
              "        vertical-align: middle;\n",
              "    }\n",
              "\n",
              "    .dataframe tbody tr th {\n",
              "        vertical-align: top;\n",
              "    }\n",
              "\n",
              "    .dataframe thead th {\n",
              "        text-align: right;\n",
              "    }\n",
              "</style>\n",
              "<table border=\"1\" class=\"dataframe\">\n",
              "  <thead>\n",
              "    <tr style=\"text-align: right;\">\n",
              "      <th></th>\n",
              "      <th>SALESORDERID</th>\n",
              "      <th>SALESORDERITEM</th>\n",
              "      <th>PRODUCTID</th>\n",
              "      <th>NOTEID</th>\n",
              "      <th>CURRENCY</th>\n",
              "      <th>GROSSAMOUNT</th>\n",
              "      <th>NETAMOUNT</th>\n",
              "      <th>TAXAMOUNT</th>\n",
              "      <th>ITEMATPSTATUS</th>\n",
              "      <th>OPITEMPOS</th>\n",
              "      <th>QUANTITY</th>\n",
              "      <th>QUANTITYUNIT</th>\n",
              "      <th>DELIVERYDATE</th>\n",
              "      <th>name_product</th>\n",
              "      <th>Region</th>\n",
              "      <th>Name_Region</th>\n",
              "      <th>DATE</th>\n",
              "      <th>weekday</th>\n",
              "      <th>day</th>\n",
              "      <th>mount</th>\n",
              "      <th>year</th>\n",
              "    </tr>\n",
              "  </thead>\n",
              "  <tbody>\n",
              "    <tr>\n",
              "      <th>4</th>\n",
              "      <td>500000001</td>\n",
              "      <td>30</td>\n",
              "      <td>CC-1021</td>\n",
              "      <td></td>\n",
              "      <td>USD</td>\n",
              "      <td>1144</td>\n",
              "      <td>1001.000</td>\n",
              "      <td>143.000</td>\n",
              "      <td>I</td>\n",
              "      <td>NaN</td>\n",
              "      <td>3</td>\n",
              "      <td>EA</td>\n",
              "      <td>20180228</td>\n",
              "      <td>CC</td>\n",
              "      <td>EMEA</td>\n",
              "      <td>2</td>\n",
              "      <td>2018-02-28</td>\n",
              "      <td>2</td>\n",
              "      <td>28</td>\n",
              "      <td>2</td>\n",
              "      <td>2018</td>\n",
              "    </tr>\n",
              "    <tr>\n",
              "      <th>11</th>\n",
              "      <td>500000002</td>\n",
              "      <td>60</td>\n",
              "      <td>CC-1021</td>\n",
              "      <td></td>\n",
              "      <td>USD</td>\n",
              "      <td>1144</td>\n",
              "      <td>1001.000</td>\n",
              "      <td>143.000</td>\n",
              "      <td>I</td>\n",
              "      <td>NaN</td>\n",
              "      <td>4</td>\n",
              "      <td>EA</td>\n",
              "      <td>20180309</td>\n",
              "      <td>CC</td>\n",
              "      <td>APJ</td>\n",
              "      <td>1</td>\n",
              "      <td>2018-03-09</td>\n",
              "      <td>4</td>\n",
              "      <td>9</td>\n",
              "      <td>3</td>\n",
              "      <td>2018</td>\n",
              "    </tr>\n",
              "    <tr>\n",
              "      <th>29</th>\n",
              "      <td>500000005</td>\n",
              "      <td>20</td>\n",
              "      <td>CC-1021</td>\n",
              "      <td></td>\n",
              "      <td>USD</td>\n",
              "      <td>1144</td>\n",
              "      <td>1001.000</td>\n",
              "      <td>143.000</td>\n",
              "      <td>I</td>\n",
              "      <td>NaN</td>\n",
              "      <td>3</td>\n",
              "      <td>EA</td>\n",
              "      <td>20180301</td>\n",
              "      <td>CC</td>\n",
              "      <td>EMEA</td>\n",
              "      <td>2</td>\n",
              "      <td>2018-03-01</td>\n",
              "      <td>3</td>\n",
              "      <td>1</td>\n",
              "      <td>3</td>\n",
              "      <td>2018</td>\n",
              "    </tr>\n",
              "    <tr>\n",
              "      <th>43</th>\n",
              "      <td>500000008</td>\n",
              "      <td>20</td>\n",
              "      <td>CC-1022</td>\n",
              "      <td></td>\n",
              "      <td>USD</td>\n",
              "      <td>1200</td>\n",
              "      <td>1050.000</td>\n",
              "      <td>150.000</td>\n",
              "      <td>I</td>\n",
              "      <td>NaN</td>\n",
              "      <td>6</td>\n",
              "      <td>EA</td>\n",
              "      <td>20180225</td>\n",
              "      <td>CC</td>\n",
              "      <td>EMEA</td>\n",
              "      <td>2</td>\n",
              "      <td>2018-02-25</td>\n",
              "      <td>6</td>\n",
              "      <td>25</td>\n",
              "      <td>2</td>\n",
              "      <td>2018</td>\n",
              "    </tr>\n",
              "    <tr>\n",
              "      <th>44</th>\n",
              "      <td>500000008</td>\n",
              "      <td>30</td>\n",
              "      <td>CC-1023</td>\n",
              "      <td></td>\n",
              "      <td>USD</td>\n",
              "      <td>1361</td>\n",
              "      <td>1190.875</td>\n",
              "      <td>170.125</td>\n",
              "      <td>I</td>\n",
              "      <td>NaN</td>\n",
              "      <td>10</td>\n",
              "      <td>EA</td>\n",
              "      <td>20180225</td>\n",
              "      <td>CC</td>\n",
              "      <td>EMEA</td>\n",
              "      <td>2</td>\n",
              "      <td>2018-02-25</td>\n",
              "      <td>6</td>\n",
              "      <td>25</td>\n",
              "      <td>2</td>\n",
              "      <td>2018</td>\n",
              "    </tr>\n",
              "    <tr>\n",
              "      <th>...</th>\n",
              "      <td>...</td>\n",
              "      <td>...</td>\n",
              "      <td>...</td>\n",
              "      <td>...</td>\n",
              "      <td>...</td>\n",
              "      <td>...</td>\n",
              "      <td>...</td>\n",
              "      <td>...</td>\n",
              "      <td>...</td>\n",
              "      <td>...</td>\n",
              "      <td>...</td>\n",
              "      <td>...</td>\n",
              "      <td>...</td>\n",
              "      <td>...</td>\n",
              "      <td>...</td>\n",
              "      <td>...</td>\n",
              "      <td>...</td>\n",
              "      <td>...</td>\n",
              "      <td>...</td>\n",
              "      <td>...</td>\n",
              "      <td>...</td>\n",
              "    </tr>\n",
              "    <tr>\n",
              "      <th>1920</th>\n",
              "      <td>500000332</td>\n",
              "      <td>40</td>\n",
              "      <td>CC-1022</td>\n",
              "      <td></td>\n",
              "      <td>USD</td>\n",
              "      <td>1200</td>\n",
              "      <td>1050.000</td>\n",
              "      <td>150.000</td>\n",
              "      <td>I</td>\n",
              "      <td>NaN</td>\n",
              "      <td>3</td>\n",
              "      <td>EA</td>\n",
              "      <td>20190619</td>\n",
              "      <td>CC</td>\n",
              "      <td>AMER</td>\n",
              "      <td>3</td>\n",
              "      <td>2019-06-19</td>\n",
              "      <td>2</td>\n",
              "      <td>19</td>\n",
              "      <td>6</td>\n",
              "      <td>2019</td>\n",
              "    </tr>\n",
              "    <tr>\n",
              "      <th>626</th>\n",
              "      <td>500000112</td>\n",
              "      <td>90</td>\n",
              "      <td>CC-1023</td>\n",
              "      <td></td>\n",
              "      <td>USD</td>\n",
              "      <td>1361</td>\n",
              "      <td>1190.875</td>\n",
              "      <td>170.125</td>\n",
              "      <td>I</td>\n",
              "      <td>NaN</td>\n",
              "      <td>3</td>\n",
              "      <td>EA</td>\n",
              "      <td>20191212</td>\n",
              "      <td>CC</td>\n",
              "      <td>APJ</td>\n",
              "      <td>1</td>\n",
              "      <td>2019-12-12</td>\n",
              "      <td>3</td>\n",
              "      <td>12</td>\n",
              "      <td>12</td>\n",
              "      <td>2019</td>\n",
              "    </tr>\n",
              "    <tr>\n",
              "      <th>935</th>\n",
              "      <td>500000164</td>\n",
              "      <td>30</td>\n",
              "      <td>CC-1023</td>\n",
              "      <td></td>\n",
              "      <td>USD</td>\n",
              "      <td>1361</td>\n",
              "      <td>1190.875</td>\n",
              "      <td>170.125</td>\n",
              "      <td>I</td>\n",
              "      <td>NaN</td>\n",
              "      <td>1</td>\n",
              "      <td>EA</td>\n",
              "      <td>20191212</td>\n",
              "      <td>CC</td>\n",
              "      <td>AMER</td>\n",
              "      <td>3</td>\n",
              "      <td>2019-12-12</td>\n",
              "      <td>3</td>\n",
              "      <td>12</td>\n",
              "      <td>12</td>\n",
              "      <td>2019</td>\n",
              "    </tr>\n",
              "    <tr>\n",
              "      <th>1787</th>\n",
              "      <td>500000308</td>\n",
              "      <td>40</td>\n",
              "      <td>CC-1023</td>\n",
              "      <td></td>\n",
              "      <td>USD</td>\n",
              "      <td>1361</td>\n",
              "      <td>1190.875</td>\n",
              "      <td>170.125</td>\n",
              "      <td>I</td>\n",
              "      <td>NaN</td>\n",
              "      <td>3</td>\n",
              "      <td>EA</td>\n",
              "      <td>20191212</td>\n",
              "      <td>CC</td>\n",
              "      <td>AMER</td>\n",
              "      <td>3</td>\n",
              "      <td>2019-12-12</td>\n",
              "      <td>3</td>\n",
              "      <td>12</td>\n",
              "      <td>12</td>\n",
              "      <td>2019</td>\n",
              "    </tr>\n",
              "    <tr>\n",
              "      <th>1789</th>\n",
              "      <td>500000308</td>\n",
              "      <td>60</td>\n",
              "      <td>CC-1023</td>\n",
              "      <td></td>\n",
              "      <td>USD</td>\n",
              "      <td>1361</td>\n",
              "      <td>1190.875</td>\n",
              "      <td>170.125</td>\n",
              "      <td>I</td>\n",
              "      <td>NaN</td>\n",
              "      <td>8</td>\n",
              "      <td>EA</td>\n",
              "      <td>20191212</td>\n",
              "      <td>CC</td>\n",
              "      <td>AMER</td>\n",
              "      <td>3</td>\n",
              "      <td>2019-12-12</td>\n",
              "      <td>3</td>\n",
              "      <td>12</td>\n",
              "      <td>12</td>\n",
              "      <td>2019</td>\n",
              "    </tr>\n",
              "  </tbody>\n",
              "</table>\n",
              "<p>157 rows × 21 columns</p>\n",
              "</div>"
            ],
            "text/plain": [
              "      SALESORDERID  SALESORDERITEM PRODUCTID NOTEID  ... weekday  day  mount  year\n",
              "4        500000001              30   CC-1021         ...       2   28      2  2018\n",
              "11       500000002              60   CC-1021         ...       4    9      3  2018\n",
              "29       500000005              20   CC-1021         ...       3    1      3  2018\n",
              "43       500000008              20   CC-1022         ...       6   25      2  2018\n",
              "44       500000008              30   CC-1023         ...       6   25      2  2018\n",
              "...            ...             ...       ...    ...  ...     ...  ...    ...   ...\n",
              "1920     500000332              40   CC-1022         ...       2   19      6  2019\n",
              "626      500000112              90   CC-1023         ...       3   12     12  2019\n",
              "935      500000164              30   CC-1023         ...       3   12     12  2019\n",
              "1787     500000308              40   CC-1023         ...       3   12     12  2019\n",
              "1789     500000308              60   CC-1023         ...       3   12     12  2019\n",
              "\n",
              "[157 rows x 21 columns]"
            ]
          },
          "metadata": {},
          "execution_count": 428
        }
      ]
    },
    {
      "cell_type": "markdown",
      "metadata": {
        "id": "q3Pk4O_Na6Om"
      },
      "source": [
        "######เรียกดูข้อมูลปี 2018"
      ]
    },
    {
      "cell_type": "code",
      "metadata": {
        "id": "zSxXn9ASZWBN"
      },
      "source": [
        "CC_2018=CC[CC['year']==2018]"
      ],
      "execution_count": 429,
      "outputs": []
    },
    {
      "cell_type": "code",
      "metadata": {
        "colab": {
          "base_uri": "https://localhost:8080/"
        },
        "id": "QkIs-ybCZujM",
        "outputId": "12440145-327e-4a0b-ae37-4e82e6081731"
      },
      "source": [
        "set(CC_2018['mount'])"
      ],
      "execution_count": 430,
      "outputs": [
        {
          "output_type": "execute_result",
          "data": {
            "text/plain": [
              "{2, 3, 4, 5, 6, 7, 8, 9, 10, 11, 12}"
            ]
          },
          "metadata": {},
          "execution_count": 430
        }
      ]
    },
    {
      "cell_type": "code",
      "metadata": {
        "id": "EnMrWBaKZV-o"
      },
      "source": [
        "CC_2018_6=CC_2018[(CC_2018['mount']>=2)&(CC_2018['mount']<=6)].sort_values(by='mount').drop([43,49,72,123,122,121,118,116,282,355])"
      ],
      "execution_count": 431,
      "outputs": []
    },
    {
      "cell_type": "code",
      "metadata": {
        "id": "Hl0buIckZV0P"
      },
      "source": [
        "CC_2018_12=CC_2018[(CC_2018['mount']>=7)&(CC_2018['mount']<=12)].sort_values(by='mount').drop([709,649,897,859,869,1128])"
      ],
      "execution_count": 432,
      "outputs": []
    },
    {
      "cell_type": "code",
      "metadata": {
        "id": "w4lPqMbGbuah"
      },
      "source": [
        "CC_18= pd.concat([CC_2018_6,CC_2018_12])"
      ],
      "execution_count": 433,
      "outputs": []
    },
    {
      "cell_type": "code",
      "metadata": {
        "colab": {
          "base_uri": "https://localhost:8080/",
          "height": 0
        },
        "id": "j8Jgz-oqb4Dr",
        "outputId": "e97db014-082f-4e2b-d39a-4a14b045e390"
      },
      "source": [
        "ORDER_RO_A=CC_18['SALESORDERITEM']\n",
        "WEEKDAY_RO_A=CC_18['weekday']\n",
        "plt.scatter(ORDER_RO_A,WEEKDAY_RO_A,color='navy') #พบว่าวันที่มีคำสังซื้อเยอะที่สุดคือวันอาทิตย์ \n",
        "plt.ylabel('Weekday')\n",
        "plt.xlabel('Sale_Order')\n",
        "plt.suptitle('CC_18',fontsize=16)\n",
        "plt.show()"
      ],
      "execution_count": 434,
      "outputs": [
        {
          "output_type": "display_data",
          "data": {
            "image/png": "[encoded data removed]",
            "text/plain": [
              "<Figure size 432x288 with 1 Axes>"
            ]
          },
          "metadata": {
            "needs_background": "light"
          }
        }
      ]
    },
    {
      "cell_type": "markdown",
      "metadata": {
        "id": "eBwFQSbBZWdU"
      },
      "source": [
        "######เรียกดูข้อมูลปี 2019"
      ]
    },
    {
      "cell_type": "code",
      "metadata": {
        "id": "cKGecdDycKUI"
      },
      "source": [
        "CC_2019=CC[CC['year']==2019]"
      ],
      "execution_count": 435,
      "outputs": []
    },
    {
      "cell_type": "code",
      "metadata": {
        "colab": {
          "base_uri": "https://localhost:8080/"
        },
        "id": "8tx3wUXFcUYr",
        "outputId": "23ec0382-2a4d-4986-bdd5-46c700d49f4c"
      },
      "source": [
        "set(CC_2019['mount'])"
      ],
      "execution_count": 436,
      "outputs": [
        {
          "output_type": "execute_result",
          "data": {
            "text/plain": [
              "{1, 2, 3, 4, 5, 6, 12}"
            ]
          },
          "metadata": {},
          "execution_count": 436
        }
      ]
    },
    {
      "cell_type": "code",
      "metadata": {
        "id": "Gj88X30scd31"
      },
      "source": [
        "CC_2019_6=CC_2019[(CC_2019['mount']>=1)&(CC_2019['mount']<=6)].sort_values(by='mount').drop([1171,1261,1264,1308,1557,1551,1801,1781,1755,1669,1667,1903,1855,1851,1821,1815])"
      ],
      "execution_count": 437,
      "outputs": []
    },
    {
      "cell_type": "code",
      "metadata": {
        "id": "5P5UZoECddMA"
      },
      "source": [
        "CC_2019_12=CC_2019[CC_2019['mount']==12].sort_values(by='mount').iloc[[0],]"
      ],
      "execution_count": 438,
      "outputs": []
    },
    {
      "cell_type": "code",
      "metadata": {
        "id": "qhFaol1vejDD"
      },
      "source": [
        "CC_19= pd.concat([CC_2019_6,CC_2019_6])"
      ],
      "execution_count": 439,
      "outputs": []
    },
    {
      "cell_type": "code",
      "metadata": {
        "colab": {
          "base_uri": "https://localhost:8080/",
          "height": 0
        },
        "id": "HxXYw6ejevMd",
        "outputId": "35ea5647-4d77-4beb-af1a-bf0ce6034193"
      },
      "source": [
        "ORDER_RO_A=CC_19['SALESORDERITEM']\n",
        "WEEKDAY_RO_A=CC_19['weekday']\n",
        "plt.scatter(ORDER_RO_A,WEEKDAY_RO_A,color='navy') #พบว่าวันที่มีคำสังซื้อเยอะที่สุดคือวันอาทิตย์ \n",
        "plt.ylabel('Weekday')\n",
        "plt.xlabel('Sale_Order')\n",
        "plt.suptitle('CC_19',fontsize=16)\n",
        "plt.show()"
      ],
      "execution_count": 440,
      "outputs": [
        {
          "output_type": "display_data",
          "data": {
            "image/png": "[encoded data removed]",
            "text/plain": [
              "<Figure size 432x288 with 1 Axes>"
            ]
          },
          "metadata": {
            "needs_background": "light"
          }
        }
      ]
    },
    {
      "cell_type": "code",
      "metadata": {
        "id": "hegrYB2Fe25v"
      },
      "source": [
        "Cyclo_cross_BiKE= pd.concat([CC_18,CC_19]) #รวมรายปี"
      ],
      "execution_count": 441,
      "outputs": []
    },
    {
      "cell_type": "code",
      "metadata": {
        "colab": {
          "base_uri": "https://localhost:8080/",
          "height": 0
        },
        "id": "9MJDJVJOfKyq",
        "outputId": "f3a8af95-ee39-4429-e186-5c8ee8fcf62a"
      },
      "source": [
        "ORDER_RO_A=Cyclo_cross_BiKE['SALESORDERITEM']\n",
        "WEEKDAY_RO_A=Cyclo_cross_BiKE['weekday']\n",
        "plt.scatter(ORDER_RO_A,WEEKDAY_RO_A,color='navy') #พบว่าวันที่มีคำสังซื้อเยอะที่สุดคือวันอาทิตย์  จันทร์ และพฤหัสบดี\n",
        "plt.ylabel('Weekday')\n",
        "plt.xlabel('Sale_Order')\n",
        "plt.suptitle('Cyclo_cross_BiKE',fontsize=16)\n",
        "plt.show()"
      ],
      "execution_count": 442,
      "outputs": [
        {
          "output_type": "display_data",
          "data": {
            "image/png": "[encoded data removed]",
            "text/plain": [
              "<Figure size 432x288 with 1 Axes>"
            ]
          },
          "metadata": {
            "needs_background": "light"
          }
        }
      ]
    },
    {
      "cell_type": "markdown",
      "metadata": {
        "id": "TEMOVgW1fbJy"
      },
      "source": [
        "####4.5 รถจักยานต์ชนิด Mountain Bike:MB"
      ]
    },
    {
      "cell_type": "code",
      "metadata": {
        "id": "BD5gO1nffn4g"
      },
      "source": [
        "MB=Sale[Sale['name_product']=='MB']"
      ],
      "execution_count": 443,
      "outputs": []
    },
    {
      "cell_type": "markdown",
      "metadata": {
        "id": "Ya2PheE5f2ej"
      },
      "source": [
        "######เรียกดูข้อมูลปี 2018"
      ]
    },
    {
      "cell_type": "code",
      "metadata": {
        "id": "1ShHa3PMf13F"
      },
      "source": [
        "MB_2018=MB[MB['year']==2018]"
      ],
      "execution_count": 444,
      "outputs": []
    },
    {
      "cell_type": "code",
      "metadata": {
        "colab": {
          "base_uri": "https://localhost:8080/"
        },
        "id": "wwxJFiJpgfI4",
        "outputId": "ea3a3117-0255-45cc-fd78-7ed4d5b62889"
      },
      "source": [
        "set(MB_2018['mount'])"
      ],
      "execution_count": 445,
      "outputs": [
        {
          "output_type": "execute_result",
          "data": {
            "text/plain": [
              "{2, 3, 4, 5, 6, 7, 8, 9, 10, 11, 12}"
            ]
          },
          "metadata": {},
          "execution_count": 445
        }
      ]
    },
    {
      "cell_type": "code",
      "metadata": {
        "id": "U6s7iVS1gl_i"
      },
      "source": [
        "MB_2018_7=MB_2018[(MB_2018['mount']>=2)&(MB_2018['mount']<=7)].sort_values(by='mount').drop([24,58,60,329,326,280,415,416,308,341,403,506,445])"
      ],
      "execution_count": 446,
      "outputs": []
    },
    {
      "cell_type": "code",
      "metadata": {
        "id": "Dg9TmN-wgl95"
      },
      "source": [
        "MB_2018_12=MB_2018[(MB_2018['mount']>=8)&(MB_2018['mount']<=12)].sort_values(by='mount').drop([532,599,682,682,644,845,817,835,752,723,721,952,910,1018,862,1025,1056,864,1018,937])"
      ],
      "execution_count": 447,
      "outputs": []
    },
    {
      "cell_type": "code",
      "metadata": {
        "id": "kXeluEB8gl8N"
      },
      "source": [
        "MB_18= pd.concat([MB_2018_7,MB_2018_12])"
      ],
      "execution_count": 448,
      "outputs": []
    },
    {
      "cell_type": "code",
      "metadata": {
        "colab": {
          "base_uri": "https://localhost:8080/",
          "height": 309
        },
        "id": "IuOr9fnRlJHE",
        "outputId": "b00d46fe-2633-4142-fc35-30d2460c0b73"
      },
      "source": [
        "ORDER_RO_A=MB_18['SALESORDERITEM']\n",
        "WEEKDAY_RO_A=MB_18['weekday']\n",
        "plt.scatter(ORDER_RO_A,WEEKDAY_RO_A,color='navy') #พบว่าวันที่มีคำสังซื้อเยอะที่สุดคือวันอาทิตย์  อังคาร\n",
        "plt.xlabel('Sale_Order')\n",
        "plt.suptitle('MB_18',fontsize=16)\n",
        "plt.show()"
      ],
      "execution_count": 449,
      "outputs": [
        {
          "output_type": "display_data",
          "data": {
            "image/png": "[encoded data removed]",
            "text/plain": [
              "<Figure size 432x288 with 1 Axes>"
            ]
          },
          "metadata": {
            "needs_background": "light"
          }
        }
      ]
    },
    {
      "cell_type": "code",
      "metadata": {
        "id": "OldbJYq6gl4T"
      },
      "source": [
        ""
      ],
      "execution_count": 449,
      "outputs": []
    },
    {
      "cell_type": "markdown",
      "metadata": {
        "id": "-i67vQW6f3tc"
      },
      "source": [
        "######เรียกดูข้อมูลปี 2019"
      ]
    },
    {
      "cell_type": "code",
      "metadata": {
        "id": "_g0FvZk6fyns"
      },
      "source": [
        "MB_2019=MB[MB['year']==2019]"
      ],
      "execution_count": 450,
      "outputs": []
    },
    {
      "cell_type": "code",
      "metadata": {
        "colab": {
          "base_uri": "https://localhost:8080/"
        },
        "id": "sLf2g9rvljWs",
        "outputId": "d3add6bc-8a0e-4591-9401-2e5179975ca1"
      },
      "source": [
        "set(MB_2019['mount'])"
      ],
      "execution_count": 451,
      "outputs": [
        {
          "output_type": "execute_result",
          "data": {
            "text/plain": [
              "{1, 2, 3, 4, 5, 6, 7, 12}"
            ]
          },
          "metadata": {},
          "execution_count": 451
        }
      ]
    },
    {
      "cell_type": "code",
      "metadata": {
        "id": "VHjznTAJfyLz"
      },
      "source": [
        "MB_2019_4=MB_2019[(MB_2019['mount']>=1)&(MB_2019['mount']<=4)].sort_values(by='mount').drop([1247,1224,1138,1390,1652,1623,1596,1513])"
      ],
      "execution_count": 452,
      "outputs": []
    },
    {
      "cell_type": "code",
      "metadata": {
        "id": "GZDNejs0fyBz"
      },
      "source": [
        "MB_2019_12=MB_2019[(MB_2019['mount']>=5)&(MB_2019['mount']<=12)].sort_values(by='mount').drop([1735,1690,1885,1846,1820,1769,1823,1785])"
      ],
      "execution_count": 453,
      "outputs": []
    },
    {
      "cell_type": "code",
      "metadata": {
        "id": "sshrAbyLn97R"
      },
      "source": [
        "MB_19= pd.concat([MB_2019_4,MB_2019_12])"
      ],
      "execution_count": 454,
      "outputs": []
    },
    {
      "cell_type": "code",
      "metadata": {
        "colab": {
          "base_uri": "https://localhost:8080/",
          "height": 0
        },
        "id": "63501XKmoExn",
        "outputId": "7bf576ea-4eee-47ac-820a-3a6e9a9e040e"
      },
      "source": [
        "ORDER_RO_A=MB_19['SALESORDERITEM']\n",
        "WEEKDAY_RO_A=MB_19['weekday']\n",
        "plt.scatter(ORDER_RO_A,WEEKDAY_RO_A,color='navy') #พบว่าวันที่มีคำสังซื้อเยอะที่สุดคือวันอังคารพุธ เสาร์และอาทิตย์\n",
        "plt.xlabel('Sale_Order')\n",
        "plt.suptitle('MB_19',fontsize=16)\n",
        "plt.show()"
      ],
      "execution_count": 455,
      "outputs": [
        {
          "output_type": "display_data",
          "data": {
            "image/png": "[encoded data removed]",
            "text/plain": [
              "<Figure size 432x288 with 1 Axes>"
            ]
          },
          "metadata": {
            "needs_background": "light"
          }
        }
      ]
    },
    {
      "cell_type": "code",
      "metadata": {
        "id": "ThzpWk0_oXEm"
      },
      "source": [
        "Mountain_Bike= pd.concat([MB_18,MB_19])  #รวมข้อมูลรายปี"
      ],
      "execution_count": 456,
      "outputs": []
    },
    {
      "cell_type": "markdown",
      "metadata": {
        "id": "z5QBuEZpopeU"
      },
      "source": [
        "####4.6 รถจักยานต์ชนิด Racing_BiKe:RC"
      ]
    },
    {
      "cell_type": "code",
      "metadata": {
        "id": "gl6YN_nto3gv"
      },
      "source": [
        "RC=Sale[Sale['name_product']=='RC']"
      ],
      "execution_count": 457,
      "outputs": []
    },
    {
      "cell_type": "code",
      "metadata": {
        "colab": {
          "base_uri": "https://localhost:8080/",
          "height": 607
        },
        "id": "ZZRQTUX8o4B3",
        "outputId": "8ad762ab-d8da-4d55-e581-f2567be89662"
      },
      "source": [
        "RC"
      ],
      "execution_count": 458,
      "outputs": [
        {
          "output_type": "execute_result",
          "data": {
            "text/html": [
              "<div>\n",
              "<style scoped>\n",
              "    .dataframe tbody tr th:only-of-type {\n",
              "        vertical-align: middle;\n",
              "    }\n",
              "\n",
              "    .dataframe tbody tr th {\n",
              "        vertical-align: top;\n",
              "    }\n",
              "\n",
              "    .dataframe thead th {\n",
              "        text-align: right;\n",
              "    }\n",
              "</style>\n",
              "<table border=\"1\" class=\"dataframe\">\n",
              "  <thead>\n",
              "    <tr style=\"text-align: right;\">\n",
              "      <th></th>\n",
              "      <th>SALESORDERID</th>\n",
              "      <th>SALESORDERITEM</th>\n",
              "      <th>PRODUCTID</th>\n",
              "      <th>NOTEID</th>\n",
              "      <th>CURRENCY</th>\n",
              "      <th>GROSSAMOUNT</th>\n",
              "      <th>NETAMOUNT</th>\n",
              "      <th>TAXAMOUNT</th>\n",
              "      <th>ITEMATPSTATUS</th>\n",
              "      <th>OPITEMPOS</th>\n",
              "      <th>QUANTITY</th>\n",
              "      <th>QUANTITYUNIT</th>\n",
              "      <th>DELIVERYDATE</th>\n",
              "      <th>name_product</th>\n",
              "      <th>Region</th>\n",
              "      <th>Name_Region</th>\n",
              "      <th>DATE</th>\n",
              "      <th>weekday</th>\n",
              "      <th>day</th>\n",
              "      <th>mount</th>\n",
              "      <th>year</th>\n",
              "    </tr>\n",
              "  </thead>\n",
              "  <tbody>\n",
              "    <tr>\n",
              "      <th>3</th>\n",
              "      <td>500000001</td>\n",
              "      <td>20</td>\n",
              "      <td>RC-1056</td>\n",
              "      <td></td>\n",
              "      <td>USD</td>\n",
              "      <td>2499</td>\n",
              "      <td>2186.625</td>\n",
              "      <td>312.375</td>\n",
              "      <td>I</td>\n",
              "      <td>NaN</td>\n",
              "      <td>2</td>\n",
              "      <td>EA</td>\n",
              "      <td>20180228</td>\n",
              "      <td>RC</td>\n",
              "      <td>EMEA</td>\n",
              "      <td>2</td>\n",
              "      <td>2018-02-28</td>\n",
              "      <td>2</td>\n",
              "      <td>28</td>\n",
              "      <td>2</td>\n",
              "      <td>2018</td>\n",
              "    </tr>\n",
              "    <tr>\n",
              "      <th>7</th>\n",
              "      <td>500000002</td>\n",
              "      <td>20</td>\n",
              "      <td>RC-1055</td>\n",
              "      <td></td>\n",
              "      <td>USD</td>\n",
              "      <td>1999</td>\n",
              "      <td>1749.125</td>\n",
              "      <td>249.875</td>\n",
              "      <td>I</td>\n",
              "      <td>NaN</td>\n",
              "      <td>3</td>\n",
              "      <td>EA</td>\n",
              "      <td>20180309</td>\n",
              "      <td>RC</td>\n",
              "      <td>APJ</td>\n",
              "      <td>1</td>\n",
              "      <td>2018-03-09</td>\n",
              "      <td>4</td>\n",
              "      <td>9</td>\n",
              "      <td>3</td>\n",
              "      <td>2018</td>\n",
              "    </tr>\n",
              "    <tr>\n",
              "      <th>12</th>\n",
              "      <td>500000003</td>\n",
              "      <td>10</td>\n",
              "      <td>RC-1056</td>\n",
              "      <td></td>\n",
              "      <td>USD</td>\n",
              "      <td>2499</td>\n",
              "      <td>2186.625</td>\n",
              "      <td>312.375</td>\n",
              "      <td>I</td>\n",
              "      <td>NaN</td>\n",
              "      <td>3</td>\n",
              "      <td>EA</td>\n",
              "      <td>20180223</td>\n",
              "      <td>RC</td>\n",
              "      <td>EMEA</td>\n",
              "      <td>2</td>\n",
              "      <td>2018-02-23</td>\n",
              "      <td>4</td>\n",
              "      <td>23</td>\n",
              "      <td>2</td>\n",
              "      <td>2018</td>\n",
              "    </tr>\n",
              "    <tr>\n",
              "      <th>14</th>\n",
              "      <td>500000003</td>\n",
              "      <td>30</td>\n",
              "      <td>RC-1056</td>\n",
              "      <td></td>\n",
              "      <td>USD</td>\n",
              "      <td>2499</td>\n",
              "      <td>2186.625</td>\n",
              "      <td>312.375</td>\n",
              "      <td>I</td>\n",
              "      <td>NaN</td>\n",
              "      <td>5</td>\n",
              "      <td>EA</td>\n",
              "      <td>20180223</td>\n",
              "      <td>RC</td>\n",
              "      <td>EMEA</td>\n",
              "      <td>2</td>\n",
              "      <td>2018-02-23</td>\n",
              "      <td>4</td>\n",
              "      <td>23</td>\n",
              "      <td>2</td>\n",
              "      <td>2018</td>\n",
              "    </tr>\n",
              "    <tr>\n",
              "      <th>26</th>\n",
              "      <td>500000004</td>\n",
              "      <td>70</td>\n",
              "      <td>RC-1051</td>\n",
              "      <td></td>\n",
              "      <td>USD</td>\n",
              "      <td>2499</td>\n",
              "      <td>2186.625</td>\n",
              "      <td>312.375</td>\n",
              "      <td>I</td>\n",
              "      <td>NaN</td>\n",
              "      <td>10</td>\n",
              "      <td>EA</td>\n",
              "      <td>20180305</td>\n",
              "      <td>RC</td>\n",
              "      <td>EMEA</td>\n",
              "      <td>2</td>\n",
              "      <td>2018-03-05</td>\n",
              "      <td>0</td>\n",
              "      <td>5</td>\n",
              "      <td>3</td>\n",
              "      <td>2018</td>\n",
              "    </tr>\n",
              "    <tr>\n",
              "      <th>...</th>\n",
              "      <td>...</td>\n",
              "      <td>...</td>\n",
              "      <td>...</td>\n",
              "      <td>...</td>\n",
              "      <td>...</td>\n",
              "      <td>...</td>\n",
              "      <td>...</td>\n",
              "      <td>...</td>\n",
              "      <td>...</td>\n",
              "      <td>...</td>\n",
              "      <td>...</td>\n",
              "      <td>...</td>\n",
              "      <td>...</td>\n",
              "      <td>...</td>\n",
              "      <td>...</td>\n",
              "      <td>...</td>\n",
              "      <td>...</td>\n",
              "      <td>...</td>\n",
              "      <td>...</td>\n",
              "      <td>...</td>\n",
              "      <td>...</td>\n",
              "    </tr>\n",
              "    <tr>\n",
              "      <th>1923</th>\n",
              "      <td>500000332</td>\n",
              "      <td>70</td>\n",
              "      <td>RC-1055</td>\n",
              "      <td></td>\n",
              "      <td>USD</td>\n",
              "      <td>1999</td>\n",
              "      <td>1749.125</td>\n",
              "      <td>249.875</td>\n",
              "      <td>I</td>\n",
              "      <td>NaN</td>\n",
              "      <td>4</td>\n",
              "      <td>EA</td>\n",
              "      <td>20190619</td>\n",
              "      <td>RC</td>\n",
              "      <td>AMER</td>\n",
              "      <td>3</td>\n",
              "      <td>2019-06-19</td>\n",
              "      <td>2</td>\n",
              "      <td>19</td>\n",
              "      <td>6</td>\n",
              "      <td>2019</td>\n",
              "    </tr>\n",
              "    <tr>\n",
              "      <th>1924</th>\n",
              "      <td>500000332</td>\n",
              "      <td>80</td>\n",
              "      <td>RC-1054</td>\n",
              "      <td></td>\n",
              "      <td>USD</td>\n",
              "      <td>5499</td>\n",
              "      <td>4811.625</td>\n",
              "      <td>687.375</td>\n",
              "      <td>I</td>\n",
              "      <td>NaN</td>\n",
              "      <td>1</td>\n",
              "      <td>EA</td>\n",
              "      <td>20190619</td>\n",
              "      <td>RC</td>\n",
              "      <td>AMER</td>\n",
              "      <td>3</td>\n",
              "      <td>2019-06-19</td>\n",
              "      <td>2</td>\n",
              "      <td>19</td>\n",
              "      <td>6</td>\n",
              "      <td>2019</td>\n",
              "    </tr>\n",
              "    <tr>\n",
              "      <th>622</th>\n",
              "      <td>500000112</td>\n",
              "      <td>50</td>\n",
              "      <td>RC-1054</td>\n",
              "      <td></td>\n",
              "      <td>USD</td>\n",
              "      <td>5499</td>\n",
              "      <td>4811.625</td>\n",
              "      <td>687.375</td>\n",
              "      <td>I</td>\n",
              "      <td>NaN</td>\n",
              "      <td>2</td>\n",
              "      <td>EA</td>\n",
              "      <td>20191212</td>\n",
              "      <td>RC</td>\n",
              "      <td>APJ</td>\n",
              "      <td>1</td>\n",
              "      <td>2019-12-12</td>\n",
              "      <td>3</td>\n",
              "      <td>12</td>\n",
              "      <td>12</td>\n",
              "      <td>2019</td>\n",
              "    </tr>\n",
              "    <tr>\n",
              "      <th>933</th>\n",
              "      <td>500000164</td>\n",
              "      <td>10</td>\n",
              "      <td>RC-1055</td>\n",
              "      <td></td>\n",
              "      <td>USD</td>\n",
              "      <td>1999</td>\n",
              "      <td>1749.125</td>\n",
              "      <td>249.875</td>\n",
              "      <td>I</td>\n",
              "      <td>NaN</td>\n",
              "      <td>7</td>\n",
              "      <td>EA</td>\n",
              "      <td>20191212</td>\n",
              "      <td>RC</td>\n",
              "      <td>AMER</td>\n",
              "      <td>3</td>\n",
              "      <td>2019-12-12</td>\n",
              "      <td>3</td>\n",
              "      <td>12</td>\n",
              "      <td>12</td>\n",
              "      <td>2019</td>\n",
              "    </tr>\n",
              "    <tr>\n",
              "      <th>1784</th>\n",
              "      <td>500000308</td>\n",
              "      <td>10</td>\n",
              "      <td>RC-1055</td>\n",
              "      <td></td>\n",
              "      <td>USD</td>\n",
              "      <td>1999</td>\n",
              "      <td>1749.125</td>\n",
              "      <td>249.875</td>\n",
              "      <td>I</td>\n",
              "      <td>NaN</td>\n",
              "      <td>7</td>\n",
              "      <td>EA</td>\n",
              "      <td>20191212</td>\n",
              "      <td>RC</td>\n",
              "      <td>AMER</td>\n",
              "      <td>3</td>\n",
              "      <td>2019-12-12</td>\n",
              "      <td>3</td>\n",
              "      <td>12</td>\n",
              "      <td>12</td>\n",
              "      <td>2019</td>\n",
              "    </tr>\n",
              "  </tbody>\n",
              "</table>\n",
              "<p>306 rows × 21 columns</p>\n",
              "</div>"
            ],
            "text/plain": [
              "      SALESORDERID  SALESORDERITEM PRODUCTID NOTEID  ... weekday  day  mount  year\n",
              "3        500000001              20   RC-1056         ...       2   28      2  2018\n",
              "7        500000002              20   RC-1055         ...       4    9      3  2018\n",
              "12       500000003              10   RC-1056         ...       4   23      2  2018\n",
              "14       500000003              30   RC-1056         ...       4   23      2  2018\n",
              "26       500000004              70   RC-1051         ...       0    5      3  2018\n",
              "...            ...             ...       ...    ...  ...     ...  ...    ...   ...\n",
              "1923     500000332              70   RC-1055         ...       2   19      6  2019\n",
              "1924     500000332              80   RC-1054         ...       2   19      6  2019\n",
              "622      500000112              50   RC-1054         ...       3   12     12  2019\n",
              "933      500000164              10   RC-1055         ...       3   12     12  2019\n",
              "1784     500000308              10   RC-1055         ...       3   12     12  2019\n",
              "\n",
              "[306 rows x 21 columns]"
            ]
          },
          "metadata": {},
          "execution_count": 458
        }
      ]
    },
    {
      "cell_type": "markdown",
      "metadata": {
        "id": "-BLUlRgDpP2d"
      },
      "source": [
        "######เรียกดูข้อมูลปี 2018"
      ]
    },
    {
      "cell_type": "code",
      "metadata": {
        "id": "CX_28tUUo3-3"
      },
      "source": [
        "######เรียกดูข้อมูลปี 2018"
      ],
      "execution_count": 459,
      "outputs": []
    },
    {
      "cell_type": "code",
      "metadata": {
        "id": "F4iuVOL8yzE8"
      },
      "source": [
        "RC_2018=RC[RC['year']==2018]"
      ],
      "execution_count": 460,
      "outputs": []
    },
    {
      "cell_type": "code",
      "metadata": {
        "colab": {
          "base_uri": "https://localhost:8080/"
        },
        "id": "svBvO93To38i",
        "outputId": "36a4ee71-bf3b-4cb5-f444-e4ec0b3a7494"
      },
      "source": [
        "set(RC_2018['mount'])"
      ],
      "execution_count": 461,
      "outputs": [
        {
          "output_type": "execute_result",
          "data": {
            "text/plain": [
              "{2, 3, 4, 5, 6, 7, 8, 9, 10, 11, 12}"
            ]
          },
          "metadata": {},
          "execution_count": 461
        }
      ]
    },
    {
      "cell_type": "code",
      "metadata": {
        "id": "9_pKU4q7px47"
      },
      "source": [
        "RC_2018_6=RC_2018[(RC_2018['mount']>=2)&(RC_2018['mount']<=6)].sort_values(by='mount').drop([12,111,92,85,70,38,28,142,141,156,290,289,288,291,265,244,324,352])"
      ],
      "execution_count": 462,
      "outputs": []
    },
    {
      "cell_type": "code",
      "metadata": {
        "id": "_LJsCuvvpzMJ"
      },
      "source": [
        "RC_2018_12=RC_2018[(RC_2018['mount']>=7)&(RC_2018['mount']<=12)].sort_values(by='mount').drop([594,590,571,612,521,493,497,660,661,663,654,630,628,609])"
      ],
      "execution_count": 463,
      "outputs": []
    },
    {
      "cell_type": "code",
      "metadata": {
        "id": "f_u1dbgWsxQz"
      },
      "source": [
        "RC_18= pd.concat([RC_2018_6,RC_2018_6])"
      ],
      "execution_count": 464,
      "outputs": []
    },
    {
      "cell_type": "code",
      "metadata": {
        "colab": {
          "base_uri": "https://localhost:8080/",
          "height": 309
        },
        "id": "_IAtiTyasxpw",
        "outputId": "f4b44c6c-4dc1-405d-c259-5b9efdae085f"
      },
      "source": [
        "ORDER_RO_A=RC_18['SALESORDERITEM']\n",
        "WEEKDAY_RO_A=RC_18['weekday']\n",
        "plt.scatter(ORDER_RO_A,WEEKDAY_RO_A,color='navy') #พบว่าวันที่มีคำสังซื้อเยอะที่สุดคือวันพฤหัสบดี\n",
        "plt.xlabel('Sale_Order')\n",
        "plt.suptitle('RC_18',fontsize=16)\n",
        "plt.show()"
      ],
      "execution_count": 465,
      "outputs": [
        {
          "output_type": "display_data",
          "data": {
            "image/png": "[encoded data removed]",
            "text/plain": [
              "<Figure size 432x288 with 1 Axes>"
            ]
          },
          "metadata": {
            "needs_background": "light"
          }
        }
      ]
    },
    {
      "cell_type": "markdown",
      "metadata": {
        "id": "3mwaR5kXszoV"
      },
      "source": [
        "######เรียกดูข้อมูลปี 2019"
      ]
    },
    {
      "cell_type": "code",
      "metadata": {
        "id": "P7q09p36sx9J"
      },
      "source": [
        "RC_2019=RC[RC['year']==2019]"
      ],
      "execution_count": 466,
      "outputs": []
    },
    {
      "cell_type": "code",
      "metadata": {
        "colab": {
          "base_uri": "https://localhost:8080/"
        },
        "id": "hn52WqKQtXxs",
        "outputId": "6d70e04e-a312-4e8c-8fc4-b511ecefc7b1"
      },
      "source": [
        "set(RC_2018['mount'])"
      ],
      "execution_count": 467,
      "outputs": [
        {
          "output_type": "execute_result",
          "data": {
            "text/plain": [
              "{2, 3, 4, 5, 6, 7, 8, 9, 10, 11, 12}"
            ]
          },
          "metadata": {},
          "execution_count": 467
        }
      ]
    },
    {
      "cell_type": "code",
      "metadata": {
        "id": "vpaz6icztc9T"
      },
      "source": [
        "RC_2019_4=RC_2019[(RC_2019['mount']>=2)&(RC_2019['mount']<=4)].sort_values(by='mount').drop([1320,1343,1363,1398,1464,1543,1394,1383,1382,1554,1510,1506,1503,1497,1496,1624])"
      ],
      "execution_count": 468,
      "outputs": []
    },
    {
      "cell_type": "code",
      "metadata": {
        "id": "FPIL9tOStcx-"
      },
      "source": [
        "RC_2019_12=RC_2019[(RC_2019['mount']>=5)&(RC_2019['mount']<=12)].sort_values(by='mount').drop([1763,1761,1757,1737,1731,1712,1704,1697,1696,1695,1693,1901,1904,1916,1922,1774,1831,1793,933])"
      ],
      "execution_count": 469,
      "outputs": []
    },
    {
      "cell_type": "code",
      "metadata": {
        "id": "rqmEs5Egtcu3"
      },
      "source": [
        "RC_19= pd.concat([RC_2019_4,RC_2019_12])"
      ],
      "execution_count": 470,
      "outputs": []
    },
    {
      "cell_type": "code",
      "metadata": {
        "colab": {
          "base_uri": "https://localhost:8080/",
          "height": 309
        },
        "id": "ZFQVooZ0tcsv",
        "outputId": "2b438f43-08ce-4136-8342-32374971f5d0"
      },
      "source": [
        "ORDER_RO_A=RC_19['SALESORDERITEM']\n",
        "WEEKDAY_RO_A=RC_19['weekday']\n",
        "plt.scatter(ORDER_RO_A,WEEKDAY_RO_A,color='navy') #พบว่าวันที่มีคำสังซื้อเยอะที่สุดคือวันพฤหัสบดี\n",
        "plt.xlabel('Sale_Order')\n",
        "plt.suptitle('RC_19',fontsize=16)\n",
        "plt.show()"
      ],
      "execution_count": 471,
      "outputs": [
        {
          "output_type": "display_data",
          "data": {
            "image/png": "[encoded data removed]",
            "text/plain": [
              "<Figure size 432x288 with 1 Axes>"
            ]
          },
          "metadata": {
            "needs_background": "light"
          }
        }
      ]
    },
    {
      "cell_type": "code",
      "metadata": {
        "id": "rpqMZt0nxfXr"
      },
      "source": [
        "Racing_Bike= pd.concat([RC_18,RC_19]) #รวมข้อมูลรายปี"
      ],
      "execution_count": 472,
      "outputs": []
    },
    {
      "cell_type": "code",
      "metadata": {
        "colab": {
          "base_uri": "https://localhost:8080/",
          "height": 309
        },
        "id": "XjsJbDO4xyuu",
        "outputId": "ac1b93bb-fcd1-4347-d239-fd6d762b3c7b"
      },
      "source": [
        "ORDER_RO_A=Racing_Bike['SALESORDERITEM']\n",
        "WEEKDAY_RO_A=Racing_Bike['weekday']\n",
        "plt.scatter(ORDER_RO_A,WEEKDAY_RO_A,color='navy') #พบว่าวันที่มีคำสังซื้อเยอะที่สุดคือวันอังคาร วันพฤหัสบดี ศุกร์ และเสาร์\n",
        "plt.xlabel('Sale_Order')\n",
        "plt.suptitle('Racing_Bike',fontsize=16)\n",
        "plt.show()"
      ],
      "execution_count": 473,
      "outputs": [
        {
          "output_type": "display_data",
          "data": {
            "image/png": "[encoded data removed]",
            "text/plain": [
              "<Figure size 432x288 with 1 Axes>"
            ]
          },
          "metadata": {
            "needs_background": "light"
          }
        }
      ]
    },
    {
      "cell_type": "markdown",
      "metadata": {
        "id": "_pfPm5phyFN0"
      },
      "source": [
        "####4.7 รถจักยานต์ชนิด Downhill Bike"
      ]
    },
    {
      "cell_type": "code",
      "metadata": {
        "id": "Z9Afh8gAyIjx"
      },
      "source": [
        "DB=Sale[Sale['name_product']=='DB']"
      ],
      "execution_count": 474,
      "outputs": []
    },
    {
      "cell_type": "markdown",
      "metadata": {
        "id": "7KKgjUvNzNi1"
      },
      "source": [
        "######เรียกดูข้อมูลปี 2018"
      ]
    },
    {
      "cell_type": "code",
      "metadata": {
        "id": "p8Bp4cT4yXx5"
      },
      "source": [
        "DB_2018=DB[DB['year']==2018]"
      ],
      "execution_count": 475,
      "outputs": []
    },
    {
      "cell_type": "code",
      "metadata": {
        "colab": {
          "base_uri": "https://localhost:8080/"
        },
        "id": "mNU5NCjTzaB_",
        "outputId": "103d1963-6bce-421b-8c37-9461100c33ff"
      },
      "source": [
        "set(DB_2018['mount'])"
      ],
      "execution_count": 476,
      "outputs": [
        {
          "output_type": "execute_result",
          "data": {
            "text/plain": [
              "{2, 3, 4, 5, 6, 7, 8, 9, 10, 11, 12}"
            ]
          },
          "metadata": {},
          "execution_count": 476
        }
      ]
    },
    {
      "cell_type": "code",
      "metadata": {
        "id": "tMiVfDiOzW41"
      },
      "source": [
        "DB_2018_6=DB_2018[(DB_2018['mount']>=2)&(DB_2018['mount']<=6)].sort_values(by='mount').drop([8,77,91,228,130,99,252,264,283])"
      ],
      "execution_count": 477,
      "outputs": []
    },
    {
      "cell_type": "code",
      "metadata": {
        "id": "lNK9vXzPzW18"
      },
      "source": [
        "DB_2018_12=DB_2018[(DB_2018['mount']>=7)&(DB_2018['mount']<=12)].sort_values(by='mount').drop([742,1035,729,918,1153])"
      ],
      "execution_count": 478,
      "outputs": []
    },
    {
      "cell_type": "code",
      "metadata": {
        "id": "dBOFbHm1zW0H"
      },
      "source": [
        "DB_18= pd.concat([DB_2018_6,DB_2018_6])"
      ],
      "execution_count": 479,
      "outputs": []
    },
    {
      "cell_type": "code",
      "metadata": {
        "colab": {
          "base_uri": "https://localhost:8080/",
          "height": 309
        },
        "id": "Zx3Fesi21GXL",
        "outputId": "3f9bad6f-528e-454d-e524-e579d968234a"
      },
      "source": [
        "ORDER_RO_A=DB_18['SALESORDERITEM']\n",
        "WEEKDAY_RO_A=DB_18['weekday']\n",
        "plt.scatter(ORDER_RO_A,WEEKDAY_RO_A,color='navy') #พบว่าวันที่มีคำสังซื้อเยอะที่สุดคือ วันพฤหัสบดี  และเสาร์\n",
        "plt.xlabel('Sale_Order')\n",
        "plt.suptitle('DB_18',fontsize=16)\n",
        "plt.show()"
      ],
      "execution_count": 480,
      "outputs": [
        {
          "output_type": "display_data",
          "data": {
            "image/png": "[encoded data removed]",
            "text/plain": [
              "<Figure size 432x288 with 1 Axes>"
            ]
          },
          "metadata": {
            "needs_background": "light"
          }
        }
      ]
    },
    {
      "cell_type": "markdown",
      "metadata": {
        "id": "FDOeLnR21Oqe"
      },
      "source": [
        "######เรียกดูข้อมูลปี 2019"
      ]
    },
    {
      "cell_type": "code",
      "metadata": {
        "id": "TV2dGkXr1SRU"
      },
      "source": [
        "DB_2019=DB[DB['year']==2019]"
      ],
      "execution_count": 481,
      "outputs": []
    },
    {
      "cell_type": "code",
      "metadata": {
        "id": "k7INxzao1Szz"
      },
      "source": [
        "DB_19=DB_2019.drop([1221,1257,1353,1377,1387,1486,1546,1837,1838,1856,619])"
      ],
      "execution_count": 482,
      "outputs": []
    },
    {
      "cell_type": "code",
      "metadata": {
        "colab": {
          "base_uri": "https://localhost:8080/",
          "height": 309
        },
        "id": "YXCYXXdo1SxA",
        "outputId": "6462002e-52e2-4353-ceeb-3cb850144f9f"
      },
      "source": [
        "ORDER_RO_A=DB_19['SALESORDERITEM']\n",
        "WEEKDAY_RO_A=DB_19['weekday']\n",
        "plt.scatter(ORDER_RO_A,WEEKDAY_RO_A,color='navy') #พบว่าวันที่มีคำสังซื้อเยอะที่สุดคือ เสาร์\n",
        "plt.xlabel('Sale_Order')\n",
        "plt.suptitle('DB_19',fontsize=16)\n",
        "plt.show()"
      ],
      "execution_count": 483,
      "outputs": [
        {
          "output_type": "display_data",
          "data": {
            "image/png": "[encoded data removed]",
            "text/plain": [
              "<Figure size 432x288 with 1 Axes>"
            ]
          },
          "metadata": {
            "needs_background": "light"
          }
        }
      ]
    },
    {
      "cell_type": "code",
      "metadata": {
        "id": "yJFhV97M1SuJ"
      },
      "source": [
        "Downhill_Bike= pd.concat([DB_18,DB_19]) #ต่อตาราง"
      ],
      "execution_count": 484,
      "outputs": []
    },
    {
      "cell_type": "code",
      "metadata": {
        "colab": {
          "base_uri": "https://localhost:8080/",
          "height": 309
        },
        "id": "cpptgnKr1SsH",
        "outputId": "e129d06b-97a1-49b9-98fd-a778f7e8fbd1"
      },
      "source": [
        "ORDER_RO_A=Downhill_Bike['SALESORDERITEM']\n",
        "WEEKDAY_RO_A=Downhill_Bike['weekday']\n",
        "plt.scatter(ORDER_RO_A,WEEKDAY_RO_A,color='navy') #พบว่าวันที่มีคำสังซื้อเยอะที่สุดคือ วันพฤหัสบดี  และเสาร์\n",
        "plt.xlabel('Sale_Order')\n",
        "plt.suptitle('Downhill_Bike',fontsize=16)\n",
        "plt.show()"
      ],
      "execution_count": 485,
      "outputs": [
        {
          "output_type": "display_data",
          "data": {
            "image/png": "[encoded data removed]",
            "text/plain": [
              "<Figure size 432x288 with 1 Axes>"
            ]
          },
          "metadata": {
            "needs_background": "light"
          }
        }
      ]
    },
    {
      "cell_type": "markdown",
      "metadata": {
        "id": "5J_sijbp3c8J"
      },
      "source": [
        "####4.8 รถจักยานต์ชนิด eBike:EB"
      ]
    },
    {
      "cell_type": "code",
      "metadata": {
        "id": "o6_obO-e3cnG"
      },
      "source": [
        "EB=Sale[Sale['name_product']=='EB']"
      ],
      "execution_count": 486,
      "outputs": []
    },
    {
      "cell_type": "markdown",
      "metadata": {
        "id": "k2LH9Hcu4WO_"
      },
      "source": [
        "######เรียกดูข้อมูลปี 2018"
      ]
    },
    {
      "cell_type": "code",
      "metadata": {
        "id": "mi3sD7cA3cfH"
      },
      "source": [
        "EB_2018=EB[EB['year']==2018]"
      ],
      "execution_count": 487,
      "outputs": []
    },
    {
      "cell_type": "code",
      "metadata": {
        "colab": {
          "base_uri": "https://localhost:8080/"
        },
        "id": "6xVYyE9U4hPo",
        "outputId": "dc152f3b-4aab-482a-a9aa-fdf9f8374f9c"
      },
      "source": [
        "set(EB_2018['mount'])"
      ],
      "execution_count": 488,
      "outputs": [
        {
          "output_type": "execute_result",
          "data": {
            "text/plain": [
              "{2, 3, 4, 5, 6, 7, 8, 9, 10, 11, 12}"
            ]
          },
          "metadata": {},
          "execution_count": 488
        }
      ]
    },
    {
      "cell_type": "code",
      "metadata": {
        "id": "Yki5plkS4rp9"
      },
      "source": [
        "EB_2018_6=EB_2018[(EB_2018['mount']>=2)&(EB_2018['mount']<=6)].sort_values(by='mount').drop([16,9,48,47,164,88,36,34,19,233,195,194,196,180,147,158,311,272,209,210,214,216,373,50,294,295,293,343])"
      ],
      "execution_count": 489,
      "outputs": []
    },
    {
      "cell_type": "code",
      "metadata": {
        "id": "oj9j6EX44ru2"
      },
      "source": [
        "EB_2018_12=EB_2018[(EB_2018['mount']>=7)&(EB_2018['mount']<=12)].sort_values(by='mount').drop([418,417,392,390,542,536,689,651,692,746,843,837,826,785,756,842,822,785,735,842,720,919,702,719,1084,978,955,930,927,964,896,895,1104,1000,870,1017,1005,1059,1063,1002,938])"
      ],
      "execution_count": 490,
      "outputs": []
    },
    {
      "cell_type": "code",
      "metadata": {
        "id": "AtFTJvDtvr5t"
      },
      "source": [
        "EB_18= pd.concat([EB_2018_6,EB_2018_12]) #ต่อตาราง"
      ],
      "execution_count": 491,
      "outputs": []
    },
    {
      "cell_type": "code",
      "metadata": {
        "colab": {
          "base_uri": "https://localhost:8080/",
          "height": 309
        },
        "id": "y6-bcUm6wDET",
        "outputId": "ae3c314f-4431-4e71-904c-6331a1c1cb5d"
      },
      "source": [
        "ORDER_RO_A=EB_18['SALESORDERITEM']\n",
        "WEEKDAY_RO_A=EB_18['weekday']\n",
        "plt.scatter(ORDER_RO_A,WEEKDAY_RO_A,color='navy') #พบว่าวันที่มีคำสังซื้อเยอะที่สุดคือ วันอาทิตย์และวันพุธ\n",
        "plt.xlabel('Sale_Order')\n",
        "plt.suptitle('EB_18',fontsize=16)\n",
        "plt.show()"
      ],
      "execution_count": 492,
      "outputs": [
        {
          "output_type": "display_data",
          "data": {
            "image/png": "[encoded data removed]",
            "text/plain": [
              "<Figure size 432x288 with 1 Axes>"
            ]
          },
          "metadata": {
            "needs_background": "light"
          }
        }
      ]
    },
    {
      "cell_type": "markdown",
      "metadata": {
        "id": "Og_nVo-b5U3z"
      },
      "source": [
        "######เรียกดูข้อมูลปี 2019"
      ]
    },
    {
      "cell_type": "code",
      "metadata": {
        "id": "-xYNyzxH5ZW2"
      },
      "source": [
        "EB_2019=EB[EB['year']==2019]"
      ],
      "execution_count": 493,
      "outputs": []
    },
    {
      "cell_type": "code",
      "metadata": {
        "colab": {
          "base_uri": "https://localhost:8080/"
        },
        "id": "M9VJc5OG5Z4-",
        "outputId": "3fbf5d89-b66f-48fa-b107-7a6dd9067b86"
      },
      "source": [
        "set(EB_2019['mount'])"
      ],
      "execution_count": 494,
      "outputs": [
        {
          "output_type": "execute_result",
          "data": {
            "text/plain": [
              "{1, 2, 3, 4, 5, 6, 7, 12}"
            ]
          },
          "metadata": {},
          "execution_count": 494
        }
      ]
    },
    {
      "cell_type": "code",
      "metadata": {
        "id": "kSyqbCWO5Z2Q"
      },
      "source": [
        "EB_2019_2=EB_2019[(EB_2019['mount']>=1)&(EB_2019['mount']<=2)].sort_values(by='mount').drop([1274,1267,1245,1161,1208,1192,1162,1173,1399,1149,1178,1400,1349,1185,1217])"
      ],
      "execution_count": 495,
      "outputs": []
    },
    {
      "cell_type": "code",
      "metadata": {
        "id": "hbO9pZT95Z0f"
      },
      "source": [
        "EB_2019_4=EB_2019[(EB_2019['mount']>=3)&(EB_2019['mount']<=4)].sort_values(by='mount').drop([1616,1597,1586,1576,1609,1536,1533,1507,1501,1559])"
      ],
      "execution_count": 496,
      "outputs": []
    },
    {
      "cell_type": "code",
      "metadata": {
        "id": "oANd8i3_6DSL"
      },
      "source": [
        "EB_2019_12=EB_2019[(EB_2019['mount']>=5)&(EB_2019['mount']<=12)].sort_values(by='mount').drop([1691,1678,1672,1650,1662,1875,1858,1910,1792,934])"
      ],
      "execution_count": 497,
      "outputs": []
    },
    {
      "cell_type": "code",
      "metadata": {
        "id": "_Dy4MEAU0NvA"
      },
      "source": [
        "EB_19= pd.concat([EB_2019_2,EB_2019_4,EB_2019_12]) #ต่อตาราง"
      ],
      "execution_count": 498,
      "outputs": []
    },
    {
      "cell_type": "code",
      "metadata": {
        "colab": {
          "base_uri": "https://localhost:8080/",
          "height": 309
        },
        "id": "u-ODXXG70YCU",
        "outputId": "0560326e-90c2-4836-af88-4fe1db25ccf5"
      },
      "source": [
        "ORDER_RO_A=EB_19['SALESORDERITEM']\n",
        "WEEKDAY_RO_A=EB_19['weekday']\n",
        "plt.scatter(ORDER_RO_A,WEEKDAY_RO_A,color='navy') #พบว่าวันที่มีคำสังซื้อเยอะที่สุดคือ วันอาทิตย์ วันพุธ ศุุกร์และเสาร์\n",
        "plt.xlabel('Sale_Order')\n",
        "plt.suptitle('EB_19',fontsize=16)\n",
        "plt.show()"
      ],
      "execution_count": 499,
      "outputs": [
        {
          "output_type": "display_data",
          "data": {
            "image/png": "[encoded data removed]",
            "text/plain": [
              "<Figure size 432x288 with 1 Axes>"
            ]
          },
          "metadata": {
            "needs_background": "light"
          }
        }
      ]
    },
    {
      "cell_type": "code",
      "metadata": {
        "id": "zGfGuy-l0px0"
      },
      "source": [
        "eBike= pd.concat([EB_18,EB_19]) #ต่อตารางข้อมูลรายปีที่ตัดข้อมูลวันที่ที่ มีค่าซ้ำ โดยเลือกวันที่ที่มียอดคำสั่งสินค้าสูงสุด ที่เหลือตัดทิ้งทิ้ง"
      ],
      "execution_count": 500,
      "outputs": []
    },
    {
      "cell_type": "markdown",
      "metadata": {
        "id": "7ewW1__v6HVc"
      },
      "source": [
        "####4.9 รถจักยานต์ชนิด Cruiser:CB"
      ]
    },
    {
      "cell_type": "code",
      "metadata": {
        "id": "AFQZDGYO6eYY"
      },
      "source": [
        "CB=Sale[Sale['name_product']=='CB']"
      ],
      "execution_count": 501,
      "outputs": []
    },
    {
      "cell_type": "markdown",
      "metadata": {
        "id": "mtcFkuAD6o87"
      },
      "source": [
        "######เรียกดูข้อมูลปี 2018"
      ]
    },
    {
      "cell_type": "code",
      "metadata": {
        "id": "YBRQv4ID6eVl"
      },
      "source": [
        "CB_2018=CB[CB['year']==2018]"
      ],
      "execution_count": 502,
      "outputs": []
    },
    {
      "cell_type": "code",
      "metadata": {
        "colab": {
          "base_uri": "https://localhost:8080/"
        },
        "id": "tQRo1dXc6zkt",
        "outputId": "2f757ebc-2e63-488c-edf8-b5ec8c67673d"
      },
      "source": [
        "set(CB_2018['mount'])"
      ],
      "execution_count": 503,
      "outputs": [
        {
          "output_type": "execute_result",
          "data": {
            "text/plain": [
              "{2, 3, 4, 5, 6, 7, 8, 9, 10, 11, 12}"
            ]
          },
          "metadata": {},
          "execution_count": 503
        }
      ]
    },
    {
      "cell_type": "code",
      "metadata": {
        "id": "8amD7ixv6-AE"
      },
      "source": [
        "CB_2018_6=CB_2018[(CB_2018['mount']>=2)&(CB_2018['mount']<=6)].sort_values(by='mount').drop([76,200,144,338,325,309,254,243,215,296,348])"
      ],
      "execution_count": 504,
      "outputs": []
    },
    {
      "cell_type": "code",
      "metadata": {
        "id": "Aqz6qjfS699m"
      },
      "source": [
        "CB_2018_12=CB_2018[(CB_2018['mount']>=7)&(CB_2018['mount']<=12)].sort_values(by='mount').drop([389,487,550,552,715,917,993,1110,1045])"
      ],
      "execution_count": 505,
      "outputs": []
    },
    {
      "cell_type": "code",
      "metadata": {
        "id": "SpV9lTGD281m"
      },
      "source": [
        "CB_18= pd.concat([CB_2018_6,CB_2018_12]) #ต่อตาราง"
      ],
      "execution_count": 506,
      "outputs": []
    },
    {
      "cell_type": "code",
      "metadata": {
        "colab": {
          "base_uri": "https://localhost:8080/",
          "height": 309
        },
        "id": "LJVVd81g3ImR",
        "outputId": "a502b671-c773-4274-9e98-9ff5532e6b89"
      },
      "source": [
        "ORDER_RO_A=CB_18['SALESORDERITEM']\n",
        "WEEKDAY_RO_A=CB_18['weekday']\n",
        "plt.scatter(ORDER_RO_A,WEEKDAY_RO_A,color='navy') #พบว่าวันที่มีคำสังซื้อเยอะที่สุดคือ วันจันทร์ วันพุธ และวันพฤหัสบดี\n",
        "plt.xlabel('Sale_Order')\n",
        "plt.suptitle('CB_18',fontsize=16)\n",
        "plt.show()"
      ],
      "execution_count": 507,
      "outputs": [
        {
          "output_type": "display_data",
          "data": {
            "image/png": "[encoded data removed]",
            "text/plain": [
              "<Figure size 432x288 with 1 Axes>"
            ]
          },
          "metadata": {
            "needs_background": "light"
          }
        }
      ]
    },
    {
      "cell_type": "markdown",
      "metadata": {
        "id": "U3TI3Kai6quY"
      },
      "source": [
        "######เรียกดูข้อมูลปี 2019"
      ]
    },
    {
      "cell_type": "code",
      "metadata": {
        "id": "xUyJq05j6eTt"
      },
      "source": [
        "CB_2019=CB[CB['year']==2019]"
      ],
      "execution_count": 508,
      "outputs": []
    },
    {
      "cell_type": "code",
      "metadata": {
        "id": "ctUgdHjO7Snk"
      },
      "source": [
        "CB_19=CB_2019.sort_values(by='mount').drop([1195,1338,1625,1573,1523,1457,1460,1585,1529,1868,1826,1825,624])"
      ],
      "execution_count": 509,
      "outputs": []
    },
    {
      "cell_type": "code",
      "metadata": {
        "colab": {
          "base_uri": "https://localhost:8080/",
          "height": 309
        },
        "id": "l8vd8gnp6c5w",
        "outputId": "cba9349f-5c05-4e60-9d63-1905f17cc014"
      },
      "source": [
        "ORDER_RO_A=CB_19['SALESORDERITEM']\n",
        "WEEKDAY_RO_A=CB_19['weekday']\n",
        "plt.scatter(ORDER_RO_A,WEEKDAY_RO_A,color='navy') #พบว่าวันที่มีคำสังซื้อเยอะที่สุดคือ วันจันทร์ วันพุธ และวันพฤหัสบดี\n",
        "plt.xlabel('Sale_Order')\n",
        "plt.suptitle('CB_19',fontsize=16)\n",
        "plt.show()"
      ],
      "execution_count": 510,
      "outputs": [
        {
          "output_type": "display_data",
          "data": {
            "image/png": "[encoded data removed]",
            "text/plain": [
              "<Figure size 432x288 with 1 Axes>"
            ]
          },
          "metadata": {
            "needs_background": "light"
          }
        }
      ]
    },
    {
      "cell_type": "code",
      "metadata": {
        "id": "i5eUtYPi6Mnb"
      },
      "source": [
        "Cruiser= pd.concat([CB_18,CB_19]) ##ต่อตารางข้อมูลรายปีที่ตัดข้อมูลวันที่ที่ มีค่าซ้ำ โดยเลือกวันที่ที่มียอดคำสั่งสินค้าสูงสุด ที่เหลือตัดทิ้งทิ้ง"
      ],
      "execution_count": 511,
      "outputs": []
    },
    {
      "cell_type": "code",
      "metadata": {
        "colab": {
          "base_uri": "https://localhost:8080/",
          "height": 309
        },
        "id": "BUTzYxd26pus",
        "outputId": "c5f321f2-3896-425d-ccb7-13133216da1d"
      },
      "source": [
        "ORDER_RO_A=Cruiser['SALESORDERITEM']\n",
        "WEEKDAY_RO_A=Cruiser['weekday']\n",
        "plt.scatter(ORDER_RO_A,WEEKDAY_RO_A,color='navy') #พบว่าวันที่มีคำสังซื้อเยอะที่สุดคือ วันจันทร์ วันพุธ และวันพฤหัสบดี\n",
        "plt.xlabel('Sale_Order')\n",
        "plt.suptitle('Cruiser',fontsize=16)\n",
        "plt.show()"
      ],
      "execution_count": 512,
      "outputs": [
        {
          "output_type": "display_data",
          "data": {
            "image/png": "[encoded data removed]",
            "text/plain": [
              "<Figure size 432x288 with 1 Axes>"
            ]
          },
          "metadata": {
            "needs_background": "light"
          }
        }
      ]
    },
    {
      "cell_type": "markdown",
      "metadata": {
        "id": "HYBDZPZP6NHq"
      },
      "source": [
        "####4.10 รถจักยานต์ชนิด Hybrid Bike:HB"
      ]
    },
    {
      "cell_type": "code",
      "metadata": {
        "id": "_SnNmTYw7dER"
      },
      "source": [
        "HB=Sale[Sale['name_product']=='HB']"
      ],
      "execution_count": 513,
      "outputs": []
    },
    {
      "cell_type": "markdown",
      "metadata": {
        "id": "9WHTYAUo7ocr"
      },
      "source": [
        "######เรียกดูข้อมูลปี 2018"
      ]
    },
    {
      "cell_type": "code",
      "metadata": {
        "id": "_ljotcIO7dBz"
      },
      "source": [
        "HB_2018=HB[HB['year']==2018]"
      ],
      "execution_count": 514,
      "outputs": []
    },
    {
      "cell_type": "code",
      "metadata": {
        "colab": {
          "base_uri": "https://localhost:8080/"
        },
        "id": "k5VFLdBP7xLN",
        "outputId": "ece397a6-cd83-4710-ad6f-ead49ec0391c"
      },
      "source": [
        "set(HB_2018['mount'])"
      ],
      "execution_count": 515,
      "outputs": [
        {
          "output_type": "execute_result",
          "data": {
            "text/plain": [
              "{2, 3, 4, 5, 6, 7, 8, 9, 10, 11, 12}"
            ]
          },
          "metadata": {},
          "execution_count": 515
        }
      ]
    },
    {
      "cell_type": "code",
      "metadata": {
        "id": "OZknv5TC7-gF"
      },
      "source": [
        "HB_2018_6=HB_2018[(HB_2018['mount']>=2)&(HB_2018['mount']<=6)].sort_values(by='mount').drop([126,163,6,54,198,140,133,154,115,336,335,334,304,301,302,385,380,374,366,351,399,372])"
      ],
      "execution_count": 516,
      "outputs": []
    },
    {
      "cell_type": "code",
      "metadata": {
        "id": "nmDvjWH37-c2"
      },
      "source": [
        "HB_2018_9=HB_2018[(HB_2018['mount']>=7)&(HB_2018['mount']<=9)].sort_values(by='mount').drop([504,439,512,665,672])"
      ],
      "execution_count": 517,
      "outputs": []
    },
    {
      "cell_type": "code",
      "metadata": {
        "id": "RFEWR0N37-Yj"
      },
      "source": [
        "HB_2018_12=HB_2018[(HB_2018['mount']>=10)&(HB_2018['mount']<=12)].sort_values(by='mount').drop([815,794,793,792,788,781,763,758,970,1014,781,763,758,970,1014,991,901,872,807,1048,954])"
      ],
      "execution_count": 518,
      "outputs": []
    },
    {
      "cell_type": "code",
      "metadata": {
        "id": "5tmnfI4o9gyj"
      },
      "source": [
        "HB_18= pd.concat([HB_2018_6,HB_2018_9,HB_2018_12]) #ต่อตารางรายเดือนในปี 2018"
      ],
      "execution_count": 519,
      "outputs": []
    },
    {
      "cell_type": "code",
      "metadata": {
        "colab": {
          "base_uri": "https://localhost:8080/",
          "height": 309
        },
        "id": "CQt6Ak-69q-j",
        "outputId": "fc93cd97-85f1-4b7f-da43-7f1c65d67d02"
      },
      "source": [
        "ORDER_RO_A=HB_18['SALESORDERITEM']\n",
        "WEEKDAY_RO_A=HB_18['weekday']\n",
        "plt.scatter(ORDER_RO_A,WEEKDAY_RO_A,color='navy') #พบว่าวันที่มีคำสังซื้อเยอะที่สุดคือ วันอังคารและวันพฤหัสบดี\n",
        "plt.xlabel('Sale_Order')\n",
        "plt.suptitle('HB_18',fontsize=16)\n",
        "plt.show()"
      ],
      "execution_count": 520,
      "outputs": [
        {
          "output_type": "display_data",
          "data": {
            "image/png": "[encoded data removed]",
            "text/plain": [
              "<Figure size 432x288 with 1 Axes>"
            ]
          },
          "metadata": {
            "needs_background": "light"
          }
        }
      ]
    },
    {
      "cell_type": "markdown",
      "metadata": {
        "id": "8nt5TZIN7qBT"
      },
      "source": [
        "######เรียกดูข้อมูลปี 2019"
      ]
    },
    {
      "cell_type": "code",
      "metadata": {
        "id": "i1xBgPJF8Q45"
      },
      "source": [
        "HB_2019=HB[HB['year']==2019]"
      ],
      "execution_count": 521,
      "outputs": []
    },
    {
      "cell_type": "code",
      "metadata": {
        "colab": {
          "base_uri": "https://localhost:8080/"
        },
        "id": "LmPkstW28TjA",
        "outputId": "0c8a0173-3e23-4c0f-f88d-83c4e076a0da"
      },
      "source": [
        "set(HB_2019['mount'])"
      ],
      "execution_count": 522,
      "outputs": [
        {
          "output_type": "execute_result",
          "data": {
            "text/plain": [
              "{1, 2, 3, 4, 5, 6, 7, 12}"
            ]
          },
          "metadata": {},
          "execution_count": 522
        }
      ]
    },
    {
      "cell_type": "code",
      "metadata": {
        "id": "2IkGcy0l8a9S"
      },
      "source": [
        "HB_2019_3=HB_2019[(HB_2019['mount']>=1)&(HB_2019['mount']<=3)].sort_values(by='mount').drop([1283,1228,1181,1174,1408,1329,1323,1318,1314,1315,1430,1433,1447])"
      ],
      "execution_count": 523,
      "outputs": []
    },
    {
      "cell_type": "code",
      "metadata": {
        "id": "o5cy5Afn8baw"
      },
      "source": [
        "HB_2019_12=HB_2019[(HB_2019['mount']>=4)&(HB_2019['mount']<=12)].sort_values(by='mount').drop([1642,1620,1617,1535,1508,1504,1659,1685,1913,1872,1870,1869,1840,1812,1810])"
      ],
      "execution_count": 524,
      "outputs": []
    },
    {
      "cell_type": "code",
      "metadata": {
        "id": "q2-VFNSD_-tp"
      },
      "source": [
        "HB_19= pd.concat([HB_2019_3,HB_2019_12]) #ต่อตารางรายเดือนในปี 2018"
      ],
      "execution_count": 525,
      "outputs": []
    },
    {
      "cell_type": "code",
      "metadata": {
        "colab": {
          "base_uri": "https://localhost:8080/",
          "height": 309
        },
        "id": "Qejnjdi-AEMf",
        "outputId": "30a5d297-a749-42cb-a85f-850520b51def"
      },
      "source": [
        "ORDER_RO_A=HB_19['SALESORDERITEM']\n",
        "WEEKDAY_RO_A=HB_19['weekday']\n",
        "plt.scatter(ORDER_RO_A,WEEKDAY_RO_A,color='navy') #พบว่าวันที่มีคำสังซื้อเยอะที่สุดคือ วันอาทิตย์ และวันอังคาร\n",
        "plt.xlabel('Sale_Order')\n",
        "plt.suptitle('HB_19',fontsize=16)\n",
        "plt.show()"
      ],
      "execution_count": 526,
      "outputs": [
        {
          "output_type": "display_data",
          "data": {
            "image/png": "[encoded data removed]",
            "text/plain": [
              "<Figure size 432x288 with 1 Axes>"
            ]
          },
          "metadata": {
            "needs_background": "light"
          }
        }
      ]
    },
    {
      "cell_type": "code",
      "metadata": {
        "id": "ilNfC2ABAQzj"
      },
      "source": [
        "Hybrid_Bike= pd.concat([HB_18,HB_19]) ##ต่อตารางข้อมูลรายปีที่ตัดข้อมูลวันที่ที่ มีค่าซ้ำ โดยเลือกวันที่ที่มียอดคำสั่งสินค้าสูงสุด ที่เหลือตัดทิ้งทิ้ง"
      ],
      "execution_count": 527,
      "outputs": []
    },
    {
      "cell_type": "code",
      "metadata": {
        "colab": {
          "base_uri": "https://localhost:8080/",
          "height": 309
        },
        "id": "rgNTHDpUAkOE",
        "outputId": "31877b5c-3f0a-4e62-89df-183518e5079a"
      },
      "source": [
        "ORDER_RO_A=Hybrid_Bike['SALESORDERITEM']\n",
        "WEEKDAY_RO_A=Hybrid_Bike['weekday']\n",
        "plt.scatter(ORDER_RO_A,WEEKDAY_RO_A,color='navy') #พบว่าวันที่มีคำสังซื้อเยอะที่สุดคือ วันอาทิตย์ และวันอังคาร\n",
        "plt.xlabel('Sale_Order')\n",
        "plt.suptitle('Hybrid_Bike',fontsize=16)\n",
        "plt.show()"
      ],
      "execution_count": 528,
      "outputs": [
        {
          "output_type": "display_data",
          "data": {
            "image/png": "[encoded data removed]",
            "text/plain": [
              "<Figure size 432x288 with 1 Axes>"
            ]
          },
          "metadata": {
            "needs_background": "light"
          }
        }
      ]
    },
    {
      "cell_type": "markdown",
      "metadata": {
        "id": "193m1yOaArfj"
      },
      "source": [
        "###ขั้นที่ 5 นำข้อมูลวันที่ที่ มีค่าซ้ำ โดยเลือกเฉพาะวันที่ที่มียอดคำสั่งสินค้าสูงสุด ที่เหลือตัดทิ้ง ในขั้นตอนที่ 4 ตามชนิดของจักรยานต์มาต่อกัน\n",
        "\n",
        "\n"
      ]
    },
    {
      "cell_type": "markdown",
      "metadata": {
        "id": "Z8mCnNXiB_tB"
      },
      "source": [
        "##### เชื่อมตาราง เลือกเฉพาะคอลัมน์ ทวีปของคู่ค้า:Region ,วันในสัปดาห์:weekday และ ชื่อสินค้า:name_product"
      ]
    },
    {
      "cell_type": "code",
      "metadata": {
        "id": "8jYyGdpkBR2A"
      },
      "source": [
        " Sale_Order_item=pd.concat([Road_Bike,BMX,Cyclo_cross_BiKE,Mountain_Bike,Racing_Bike,Downhill_Bike,eBike,Cruiser,Hybrid_Bike]).iloc[:,[15,17,13]]"
      ],
      "execution_count": 529,
      "outputs": []
    },
    {
      "cell_type": "markdown",
      "metadata": {
        "id": "2VaDCxz_CjkW"
      },
      "source": [
        "#####ข้อมูลวันในสัปดาห์ที่มี ยอดคำสั่งซื้อสูงสุดเรียงจากมากไปน้อย"
      ]
    },
    {
      "cell_type": "code",
      "metadata": {
        "id": "R0Zi7d8cD5Kl"
      },
      "source": [
        " Sale_Or=pd.concat([Road_Bike,BMX,Cyclo_cross_BiKE,Mountain_Bike,Racing_Bike,Downhill_Bike,eBike,Cruiser,Hybrid_Bike]).iloc[:,[1,15,17,13]]"
      ],
      "execution_count": 530,
      "outputs": []
    },
    {
      "cell_type": "markdown",
      "metadata": {
        "id": "_BqtmnV8GYst"
      },
      "source": [
        "######ยอดคำสั่งซื้อทุกทวีป"
      ]
    },
    {
      "cell_type": "code",
      "metadata": {
        "id": "zaR5uO3rEb3J"
      },
      "source": [
        " Word=Sale_Or.groupby('weekday').sum().sort_values(by=['SALESORDERITEM'],ascending=False).reset_index()"
      ],
      "execution_count": 546,
      "outputs": []
    },
    {
      "cell_type": "code",
      "metadata": {
        "colab": {
          "base_uri": "https://localhost:8080/",
          "height": 265
        },
        "id": "WsU-Y879Fwc0",
        "outputId": "b8b57324-1087-4f56-e3b2-3eb205020ea2"
      },
      "source": [
        " Word"
      ],
      "execution_count": 547,
      "outputs": [
        {
          "output_type": "execute_result",
          "data": {
            "text/html": [
              "<div>\n",
              "<style scoped>\n",
              "    .dataframe tbody tr th:only-of-type {\n",
              "        vertical-align: middle;\n",
              "    }\n",
              "\n",
              "    .dataframe tbody tr th {\n",
              "        vertical-align: top;\n",
              "    }\n",
              "\n",
              "    .dataframe thead th {\n",
              "        text-align: right;\n",
              "    }\n",
              "</style>\n",
              "<table border=\"1\" class=\"dataframe\">\n",
              "  <thead>\n",
              "    <tr style=\"text-align: right;\">\n",
              "      <th></th>\n",
              "      <th>weekday</th>\n",
              "      <th>SALESORDERITEM</th>\n",
              "      <th>Name_Region</th>\n",
              "    </tr>\n",
              "  </thead>\n",
              "  <tbody>\n",
              "    <tr>\n",
              "      <th>0</th>\n",
              "      <td>0</td>\n",
              "      <td>10060</td>\n",
              "      <td>459</td>\n",
              "    </tr>\n",
              "    <tr>\n",
              "      <th>1</th>\n",
              "      <td>2</td>\n",
              "      <td>9680</td>\n",
              "      <td>449</td>\n",
              "    </tr>\n",
              "    <tr>\n",
              "      <th>2</th>\n",
              "      <td>1</td>\n",
              "      <td>8920</td>\n",
              "      <td>391</td>\n",
              "    </tr>\n",
              "    <tr>\n",
              "      <th>3</th>\n",
              "      <td>5</td>\n",
              "      <td>8540</td>\n",
              "      <td>371</td>\n",
              "    </tr>\n",
              "    <tr>\n",
              "      <th>4</th>\n",
              "      <td>4</td>\n",
              "      <td>8390</td>\n",
              "      <td>349</td>\n",
              "    </tr>\n",
              "    <tr>\n",
              "      <th>5</th>\n",
              "      <td>3</td>\n",
              "      <td>7880</td>\n",
              "      <td>354</td>\n",
              "    </tr>\n",
              "    <tr>\n",
              "      <th>6</th>\n",
              "      <td>6</td>\n",
              "      <td>7600</td>\n",
              "      <td>361</td>\n",
              "    </tr>\n",
              "  </tbody>\n",
              "</table>\n",
              "</div>"
            ],
            "text/plain": [
              "   weekday  SALESORDERITEM  Name_Region\n",
              "0        0           10060          459\n",
              "1        2            9680          449\n",
              "2        1            8920          391\n",
              "3        5            8540          371\n",
              "4        4            8390          349\n",
              "5        3            7880          354\n",
              "6        6            7600          361"
            ]
          },
          "metadata": {},
          "execution_count": 547
        }
      ]
    },
    {
      "cell_type": "code",
      "metadata": {
        "colab": {
          "base_uri": "https://localhost:8080/",
          "height": 309
        },
        "id": "9WIcILEzF1JH",
        "outputId": "ec71102a-5ff4-4f05-cf51-3e08716675de"
      },
      "source": [
        "ORDER_RO_A= Word['SALESORDERITEM']\n",
        "WEEKDAY_RO_A= Word['weekday']\n",
        "plt.plot(ORDER_RO_A,WEEKDAY_RO_A,color='navy') #พบว่าวันที่มีคำสังซื้อเยอะที่สุดคือ วันอาทิตย์ และวันอังคาร\n",
        "plt.xlabel('Sale_Order')\n",
        "plt.suptitle('Word_',fontsize=16)\n",
        "plt.show()"
      ],
      "execution_count": 548,
      "outputs": [
        {
          "output_type": "display_data",
          "data": {
            "image/png": "[encoded data removed]",
            "text/plain": [
              "<Figure size 432x288 with 1 Axes>"
            ]
          },
          "metadata": {
            "needs_background": "light"
          }
        }
      ]
    },
    {
      "cell_type": "markdown",
      "metadata": {
        "id": "JZi3H82wGowN"
      },
      "source": [
        "######ยอดคำสั่งซื้อตามวันในสัปดาห์ของอเมริกา('AMER':3)"
      ]
    },
    {
      "cell_type": "code",
      "metadata": {
        "id": "CtJpBpr4HbN2"
      },
      "source": [
        "AMERICA=Sale_Or[Sale_Or['Name_Region']==3]"
      ],
      "execution_count": 549,
      "outputs": []
    },
    {
      "cell_type": "code",
      "metadata": {
        "id": "aT50U8I_Gr23"
      },
      "source": [
        "A_MERICA=AMERICA.groupby('weekday').sum().sort_values(by=['SALESORDERITEM'],ascending=False).reset_index()"
      ],
      "execution_count": 550,
      "outputs": []
    },
    {
      "cell_type": "code",
      "metadata": {
        "colab": {
          "base_uri": "https://localhost:8080/",
          "height": 265
        },
        "id": "_9bZKFjZCfm0",
        "outputId": "7f776992-1524-4aa2-9e19-1b747d609ec3"
      },
      "source": [
        "A_MERICA"
      ],
      "execution_count": 551,
      "outputs": [
        {
          "output_type": "execute_result",
          "data": {
            "text/html": [
              "<div>\n",
              "<style scoped>\n",
              "    .dataframe tbody tr th:only-of-type {\n",
              "        vertical-align: middle;\n",
              "    }\n",
              "\n",
              "    .dataframe tbody tr th {\n",
              "        vertical-align: top;\n",
              "    }\n",
              "\n",
              "    .dataframe thead th {\n",
              "        text-align: right;\n",
              "    }\n",
              "</style>\n",
              "<table border=\"1\" class=\"dataframe\">\n",
              "  <thead>\n",
              "    <tr style=\"text-align: right;\">\n",
              "      <th></th>\n",
              "      <th>weekday</th>\n",
              "      <th>SALESORDERITEM</th>\n",
              "      <th>Name_Region</th>\n",
              "    </tr>\n",
              "  </thead>\n",
              "  <tbody>\n",
              "    <tr>\n",
              "      <th>0</th>\n",
              "      <td>5</td>\n",
              "      <td>3300</td>\n",
              "      <td>177</td>\n",
              "    </tr>\n",
              "    <tr>\n",
              "      <th>1</th>\n",
              "      <td>2</td>\n",
              "      <td>3130</td>\n",
              "      <td>222</td>\n",
              "    </tr>\n",
              "    <tr>\n",
              "      <th>2</th>\n",
              "      <td>3</td>\n",
              "      <td>2960</td>\n",
              "      <td>192</td>\n",
              "    </tr>\n",
              "    <tr>\n",
              "      <th>3</th>\n",
              "      <td>0</td>\n",
              "      <td>2840</td>\n",
              "      <td>198</td>\n",
              "    </tr>\n",
              "    <tr>\n",
              "      <th>4</th>\n",
              "      <td>1</td>\n",
              "      <td>2240</td>\n",
              "      <td>174</td>\n",
              "    </tr>\n",
              "    <tr>\n",
              "      <th>5</th>\n",
              "      <td>6</td>\n",
              "      <td>1920</td>\n",
              "      <td>141</td>\n",
              "    </tr>\n",
              "    <tr>\n",
              "      <th>6</th>\n",
              "      <td>4</td>\n",
              "      <td>1350</td>\n",
              "      <td>99</td>\n",
              "    </tr>\n",
              "  </tbody>\n",
              "</table>\n",
              "</div>"
            ],
            "text/plain": [
              "   weekday  SALESORDERITEM  Name_Region\n",
              "0        5            3300          177\n",
              "1        2            3130          222\n",
              "2        3            2960          192\n",
              "3        0            2840          198\n",
              "4        1            2240          174\n",
              "5        6            1920          141\n",
              "6        4            1350           99"
            ]
          },
          "metadata": {},
          "execution_count": 551
        }
      ]
    },
    {
      "cell_type": "code",
      "metadata": {
        "colab": {
          "base_uri": "https://localhost:8080/",
          "height": 309
        },
        "id": "N9MxYoGEIoZw",
        "outputId": "676ae687-6a5b-449f-ba49-af0f54a6e0b3"
      },
      "source": [
        "ORDER_RO_A= A_MERICA['SALESORDERITEM']\n",
        "WEEKDAY_RO_A= A_MERICA['weekday']\n",
        "plt.plot(ORDER_RO_A,WEEKDAY_RO_A,color='navy') #พบว่าวันที่มีคำสังซื้อเยอะที่สุดคือ วันอาทิตย์ และวันอังคาร\n",
        "plt.xlabel('Sale_Order')\n",
        "plt.suptitle('A_MERICA',fontsize=16)\n",
        "plt.show()"
      ],
      "execution_count": 537,
      "outputs": [
        {
          "output_type": "display_data",
          "data": {
            "image/png": "[encoded data removed]",
            "text/plain": [
              "<Figure size 432x288 with 1 Axes>"
            ]
          },
          "metadata": {
            "needs_background": "light"
          }
        }
      ]
    },
    {
      "cell_type": "markdown",
      "metadata": {
        "id": "yd8nmu2jI44p"
      },
      "source": [
        "######ยอดคำสั่งซื้อตามวันในสัปดาห์ขอEurope_the_Middle_East_and_Africa :'EMEA':2"
      ]
    },
    {
      "cell_type": "code",
      "metadata": {
        "id": "-O0CWKwNJTbp"
      },
      "source": [
        "Europe=Sale_Or[Sale_Or['Name_Region']==2]"
      ],
      "execution_count": 552,
      "outputs": []
    },
    {
      "cell_type": "code",
      "metadata": {
        "id": "E6zbMwUQJY8o"
      },
      "source": [
        "Eu_rope=Europe.groupby('weekday').sum().sort_values(by=['SALESORDERITEM'],ascending=False).reset_index()"
      ],
      "execution_count": 556,
      "outputs": []
    },
    {
      "cell_type": "code",
      "metadata": {
        "colab": {
          "base_uri": "https://localhost:8080/",
          "height": 265
        },
        "id": "muiRmlBPJcTh",
        "outputId": "122b29f3-c178-4c28-ade4-15f3e833ea7e"
      },
      "source": [
        "Eu_rope"
      ],
      "execution_count": 557,
      "outputs": [
        {
          "output_type": "execute_result",
          "data": {
            "text/html": [
              "<div>\n",
              "<style scoped>\n",
              "    .dataframe tbody tr th:only-of-type {\n",
              "        vertical-align: middle;\n",
              "    }\n",
              "\n",
              "    .dataframe tbody tr th {\n",
              "        vertical-align: top;\n",
              "    }\n",
              "\n",
              "    .dataframe thead th {\n",
              "        text-align: right;\n",
              "    }\n",
              "</style>\n",
              "<table border=\"1\" class=\"dataframe\">\n",
              "  <thead>\n",
              "    <tr style=\"text-align: right;\">\n",
              "      <th></th>\n",
              "      <th>weekday</th>\n",
              "      <th>SALESORDERITEM</th>\n",
              "      <th>Name_Region</th>\n",
              "    </tr>\n",
              "  </thead>\n",
              "  <tbody>\n",
              "    <tr>\n",
              "      <th>0</th>\n",
              "      <td>0</td>\n",
              "      <td>5020</td>\n",
              "      <td>220</td>\n",
              "    </tr>\n",
              "    <tr>\n",
              "      <th>1</th>\n",
              "      <td>2</td>\n",
              "      <td>4230</td>\n",
              "      <td>182</td>\n",
              "    </tr>\n",
              "    <tr>\n",
              "      <th>2</th>\n",
              "      <td>6</td>\n",
              "      <td>3980</td>\n",
              "      <td>178</td>\n",
              "    </tr>\n",
              "    <tr>\n",
              "      <th>3</th>\n",
              "      <td>4</td>\n",
              "      <td>3810</td>\n",
              "      <td>174</td>\n",
              "    </tr>\n",
              "    <tr>\n",
              "      <th>4</th>\n",
              "      <td>1</td>\n",
              "      <td>3400</td>\n",
              "      <td>156</td>\n",
              "    </tr>\n",
              "    <tr>\n",
              "      <th>5</th>\n",
              "      <td>5</td>\n",
              "      <td>3400</td>\n",
              "      <td>148</td>\n",
              "    </tr>\n",
              "    <tr>\n",
              "      <th>6</th>\n",
              "      <td>3</td>\n",
              "      <td>2830</td>\n",
              "      <td>122</td>\n",
              "    </tr>\n",
              "  </tbody>\n",
              "</table>\n",
              "</div>"
            ],
            "text/plain": [
              "   weekday  SALESORDERITEM  Name_Region\n",
              "0        0            5020          220\n",
              "1        2            4230          182\n",
              "2        6            3980          178\n",
              "3        4            3810          174\n",
              "4        1            3400          156\n",
              "5        5            3400          148\n",
              "6        3            2830          122"
            ]
          },
          "metadata": {},
          "execution_count": 557
        }
      ]
    },
    {
      "cell_type": "code",
      "metadata": {
        "colab": {
          "base_uri": "https://localhost:8080/",
          "height": 309
        },
        "id": "BXWVUjpgJcQz",
        "outputId": "33ebc877-8cd4-45eb-a29d-cd3c77a752b2"
      },
      "source": [
        "ORDER_RO_A= Eu_rope['SALESORDERITEM']\n",
        "WEEKDAY_RO_A= Eu_rope['weekday']\n",
        "plt.plot(ORDER_RO_A,WEEKDAY_RO_A,color='navy') #พบว่าวันที่มีคำสังซื้อเยอะที่สุดคือ วันอาทิตย์ และวันอังคาร\n",
        "plt.xlabel('Sale_Order')\n",
        "plt.suptitle('Eu_rope',fontsize=16)\n",
        "plt.show()"
      ],
      "execution_count": 558,
      "outputs": [
        {
          "output_type": "display_data",
          "data": {
            "image/png": "[encoded data removed]",
            "text/plain": [
              "<Figure size 432x288 with 1 Axes>"
            ]
          },
          "metadata": {
            "needs_background": "light"
          }
        }
      ]
    },
    {
      "cell_type": "markdown",
      "metadata": {
        "id": "upgmUdysJ5G4"
      },
      "source": [
        "######ยอดคำสั่งซื้อตามวันในสัปดาห์ของAsia ('APJ':1)"
      ]
    },
    {
      "cell_type": "code",
      "metadata": {
        "id": "j6exw2g8J42i"
      },
      "source": [
        "Asia=Sale_Or[Sale_Or['Name_Region']==1]"
      ],
      "execution_count": 560,
      "outputs": []
    },
    {
      "cell_type": "code",
      "metadata": {
        "id": "fW7L1k5IKGnj"
      },
      "source": [
        "A_sia=Asia.groupby('weekday').sum().sort_values(by=['SALESORDERITEM'],ascending=False).reset_index()"
      ],
      "execution_count": 561,
      "outputs": []
    },
    {
      "cell_type": "code",
      "metadata": {
        "colab": {
          "base_uri": "https://localhost:8080/",
          "height": 265
        },
        "id": "V6YdpaDtKJrj",
        "outputId": "baddcbbe-4041-4e5a-d565-81047ffaabb2"
      },
      "source": [
        "A_sia"
      ],
      "execution_count": 562,
      "outputs": [
        {
          "output_type": "execute_result",
          "data": {
            "text/html": [
              "<div>\n",
              "<style scoped>\n",
              "    .dataframe tbody tr th:only-of-type {\n",
              "        vertical-align: middle;\n",
              "    }\n",
              "\n",
              "    .dataframe tbody tr th {\n",
              "        vertical-align: top;\n",
              "    }\n",
              "\n",
              "    .dataframe thead th {\n",
              "        text-align: right;\n",
              "    }\n",
              "</style>\n",
              "<table border=\"1\" class=\"dataframe\">\n",
              "  <thead>\n",
              "    <tr style=\"text-align: right;\">\n",
              "      <th></th>\n",
              "      <th>weekday</th>\n",
              "      <th>SALESORDERITEM</th>\n",
              "      <th>Name_Region</th>\n",
              "    </tr>\n",
              "  </thead>\n",
              "  <tbody>\n",
              "    <tr>\n",
              "      <th>0</th>\n",
              "      <td>1</td>\n",
              "      <td>3280</td>\n",
              "      <td>61</td>\n",
              "    </tr>\n",
              "    <tr>\n",
              "      <th>1</th>\n",
              "      <td>4</td>\n",
              "      <td>3230</td>\n",
              "      <td>76</td>\n",
              "    </tr>\n",
              "    <tr>\n",
              "      <th>2</th>\n",
              "      <td>2</td>\n",
              "      <td>2320</td>\n",
              "      <td>45</td>\n",
              "    </tr>\n",
              "    <tr>\n",
              "      <th>3</th>\n",
              "      <td>0</td>\n",
              "      <td>2200</td>\n",
              "      <td>41</td>\n",
              "    </tr>\n",
              "    <tr>\n",
              "      <th>4</th>\n",
              "      <td>3</td>\n",
              "      <td>2090</td>\n",
              "      <td>40</td>\n",
              "    </tr>\n",
              "    <tr>\n",
              "      <th>5</th>\n",
              "      <td>5</td>\n",
              "      <td>1840</td>\n",
              "      <td>46</td>\n",
              "    </tr>\n",
              "    <tr>\n",
              "      <th>6</th>\n",
              "      <td>6</td>\n",
              "      <td>1700</td>\n",
              "      <td>42</td>\n",
              "    </tr>\n",
              "  </tbody>\n",
              "</table>\n",
              "</div>"
            ],
            "text/plain": [
              "   weekday  SALESORDERITEM  Name_Region\n",
              "0        1            3280           61\n",
              "1        4            3230           76\n",
              "2        2            2320           45\n",
              "3        0            2200           41\n",
              "4        3            2090           40\n",
              "5        5            1840           46\n",
              "6        6            1700           42"
            ]
          },
          "metadata": {},
          "execution_count": 562
        }
      ]
    },
    {
      "cell_type": "code",
      "metadata": {
        "colab": {
          "base_uri": "https://localhost:8080/",
          "height": 309
        },
        "id": "4S2o0W8NKJnp",
        "outputId": "f07ab941-593c-4c87-86dd-8ab8458ee8b9"
      },
      "source": [
        "ORDER_RO_A= A_sia['SALESORDERITEM']\n",
        "WEEKDAY_RO_A= A_sia['weekday']\n",
        "plt.plot(ORDER_RO_A,WEEKDAY_RO_A,color='navy') #พบว่าวันที่มีคำสังซื้อเยอะที่สุดคือ วันอาทิตย์ และวันอังคาร\n",
        "plt.xlabel('Sale_Order')\n",
        "plt.suptitle('A_sia',fontsize=16)\n",
        "plt.show()"
      ],
      "execution_count": 563,
      "outputs": [
        {
          "output_type": "display_data",
          "data": {
            "image/png": "[encoded data removed]",
            "text/plain": [
              "<Figure size 432x288 with 1 Axes>"
            ]
          },
          "metadata": {
            "needs_background": "light"
          }
        }
      ]
    },
    {
      "cell_type": "markdown",
      "metadata": {
        "id": "iAmPF2zzLHot"
      },
      "source": [
        "##classification โดยใช้ \n",
        "1.kNN_evaluation\n",
        "2.Decision_Tree\n",
        "\n",
        "    "
      ]
    },
    {
      "cell_type": "markdown",
      "metadata": {
        "id": "aICS02A-Mn89"
      },
      "source": [
        "##### Load data"
      ]
    },
    {
      "cell_type": "code",
      "metadata": {
        "colab": {
          "base_uri": "https://localhost:8080/",
          "height": 418
        },
        "id": "0LXmO_edMTAF",
        "outputId": "0c6e80d4-ec1a-417e-bb0e-db92495e3b8f"
      },
      "source": [
        " Sale_Order_item"
      ],
      "execution_count": 564,
      "outputs": [
        {
          "output_type": "execute_result",
          "data": {
            "text/html": [
              "<div>\n",
              "<style scoped>\n",
              "    .dataframe tbody tr th:only-of-type {\n",
              "        vertical-align: middle;\n",
              "    }\n",
              "\n",
              "    .dataframe tbody tr th {\n",
              "        vertical-align: top;\n",
              "    }\n",
              "\n",
              "    .dataframe thead th {\n",
              "        text-align: right;\n",
              "    }\n",
              "</style>\n",
              "<table border=\"1\" class=\"dataframe\">\n",
              "  <thead>\n",
              "    <tr style=\"text-align: right;\">\n",
              "      <th></th>\n",
              "      <th>Name_Region</th>\n",
              "      <th>weekday</th>\n",
              "      <th>name_product</th>\n",
              "    </tr>\n",
              "  </thead>\n",
              "  <tbody>\n",
              "    <tr>\n",
              "      <th>96</th>\n",
              "      <td>3</td>\n",
              "      <td>0</td>\n",
              "      <td>RO</td>\n",
              "    </tr>\n",
              "    <tr>\n",
              "      <th>71</th>\n",
              "      <td>3</td>\n",
              "      <td>2</td>\n",
              "      <td>RO</td>\n",
              "    </tr>\n",
              "    <tr>\n",
              "      <th>56</th>\n",
              "      <td>3</td>\n",
              "      <td>4</td>\n",
              "      <td>RO</td>\n",
              "    </tr>\n",
              "    <tr>\n",
              "      <th>100</th>\n",
              "      <td>3</td>\n",
              "      <td>6</td>\n",
              "      <td>RO</td>\n",
              "    </tr>\n",
              "    <tr>\n",
              "      <th>179</th>\n",
              "      <td>3</td>\n",
              "      <td>3</td>\n",
              "      <td>RO</td>\n",
              "    </tr>\n",
              "    <tr>\n",
              "      <th>...</th>\n",
              "      <td>...</td>\n",
              "      <td>...</td>\n",
              "      <td>...</td>\n",
              "    </tr>\n",
              "    <tr>\n",
              "      <th>1806</th>\n",
              "      <td>2</td>\n",
              "      <td>3</td>\n",
              "      <td>HB</td>\n",
              "    </tr>\n",
              "    <tr>\n",
              "      <th>1794</th>\n",
              "      <td>1</td>\n",
              "      <td>2</td>\n",
              "      <td>HB</td>\n",
              "    </tr>\n",
              "    <tr>\n",
              "      <th>1857</th>\n",
              "      <td>2</td>\n",
              "      <td>2</td>\n",
              "      <td>HB</td>\n",
              "    </tr>\n",
              "    <tr>\n",
              "      <th>1899</th>\n",
              "      <td>2</td>\n",
              "      <td>0</td>\n",
              "      <td>HB</td>\n",
              "    </tr>\n",
              "    <tr>\n",
              "      <th>618</th>\n",
              "      <td>1</td>\n",
              "      <td>3</td>\n",
              "      <td>HB</td>\n",
              "    </tr>\n",
              "  </tbody>\n",
              "</table>\n",
              "<p>1342 rows × 3 columns</p>\n",
              "</div>"
            ],
            "text/plain": [
              "      Name_Region  weekday name_product\n",
              "96              3        0           RO\n",
              "71              3        2           RO\n",
              "56              3        4           RO\n",
              "100             3        6           RO\n",
              "179             3        3           RO\n",
              "...           ...      ...          ...\n",
              "1806            2        3           HB\n",
              "1794            1        2           HB\n",
              "1857            2        2           HB\n",
              "1899            2        0           HB\n",
              "618             1        3           HB\n",
              "\n",
              "[1342 rows x 3 columns]"
            ]
          },
          "metadata": {},
          "execution_count": 564
        }
      ]
    },
    {
      "cell_type": "code",
      "metadata": {
        "id": "7VSdDuPTNLUY"
      },
      "source": [
        "import numpy as np\n",
        "X=np.array( Sale_Order_item[['Name_Region','weekday']])\n",
        "Y=np.array( Sale_Order_item['name_product'])"
      ],
      "execution_count": 567,
      "outputs": []
    },
    {
      "cell_type": "markdown",
      "metadata": {
        "id": "zGacNr78Nw6e"
      },
      "source": [
        "###Split data"
      ]
    },
    {
      "cell_type": "code",
      "metadata": {
        "id": "ev2-vubDX4wd"
      },
      "source": [
        "from sklearn.model_selection import train_test_split\n",
        "X_train, X_test, y_train, y_test = train_test_split(X, Y, test_size=0.5, random_state=6)"
      ],
      "execution_count": 580,
      "outputs": []
    },
    {
      "cell_type": "markdown",
      "metadata": {
        "id": "6pfWbdPoaEAx"
      },
      "source": [
        "###import"
      ]
    },
    {
      "cell_type": "code",
      "metadata": {
        "id": "-af-s64ZaDNf"
      },
      "source": [
        "from sklearn.tree import DecisionTreeClassifier ##ต้มไม้"
      ],
      "execution_count": 582,
      "outputs": []
    },
    {
      "cell_type": "code",
      "metadata": {
        "id": "PJJnaRNpaJTb"
      },
      "source": [
        "from sklearn.neighbors import KNeighborsClassifier ### KNN"
      ],
      "execution_count": 583,
      "outputs": []
    },
    {
      "cell_type": "code",
      "metadata": {
        "id": "KjWQ45j2jXW9"
      },
      "source": [
        "from sklearn.model_selection import train_test_split"
      ],
      "execution_count": 619,
      "outputs": []
    },
    {
      "cell_type": "markdown",
      "metadata": {
        "id": "XVM_dAC8ZRGz"
      },
      "source": [
        "###Define\n",
        "\n",
        "\n",
        "\n"
      ]
    },
    {
      "cell_type": "markdown",
      "metadata": {
        "id": "AVs6tU4dZXRd"
      },
      "source": [
        "#####Decision_Tree"
      ]
    },
    {
      "cell_type": "code",
      "metadata": {
        "colab": {
          "base_uri": "https://localhost:8080/"
        },
        "id": "RaHShLVXkCej",
        "outputId": "16c0e77b-ffc7-4f7b-abe6-9ae7f63705fc"
      },
      "source": [
        "from sklearn.model_selection import cross_val_score\n",
        "mytree1 = DecisionTreeClassifier(criterion='entropy',max_depth=7) \n",
        "\n",
        "csv = cross_val_score(mytree1 ,X,Y, cv=5) #แบ่งข้อมูลเป็น 5 ส่วน\n",
        "print(csv.round(2)) #กำหนดทศนิยม 3 ตำแหน่ง\n",
        "csv.mean().round(3) # หาค่าเฉลี่ยของcsv "
      ],
      "execution_count": 635,
      "outputs": [
        {
          "output_type": "stream",
          "name": "stdout",
          "text": [
            "[0.17 0.19 0.18 0.09 0.12 0.09 0.07 0.12 0.19]\n"
          ]
        },
        {
          "output_type": "execute_result",
          "data": {
            "text/plain": [
              "0.136"
            ]
          },
          "metadata": {},
          "execution_count": 635
        }
      ]
    },
    {
      "cell_type": "markdown",
      "metadata": {
        "id": "T_jjb9ihobza"
      },
      "source": [
        "######mytree2 ให้ค่าเฉลี่ยสูงที่สุด =0.151"
      ]
    },
    {
      "cell_type": "code",
      "metadata": {
        "colab": {
          "base_uri": "https://localhost:8080/"
        },
        "id": "rg4Gxa_KkWcg",
        "outputId": "50cee19c-a484-41d2-f2b8-6ae5da97a128"
      },
      "source": [
        "from sklearn.model_selection import cross_val_score\n",
        "mytree2 = DecisionTreeClassifier(criterion='gini',max_leaf_nodes=15) \n",
        "\n",
        "csv = cross_val_score(mytree2 ,X,Y, cv=5) #แบ่งข้อมูลเป็น 5 ส่วน\n",
        "print(csv.round(2)) #กำหนดทศนิยม 3 ตำแหน่ง\n",
        "csv.mean().round(3) # หาค่าเฉลี่ยของcsv "
      ],
      "execution_count": 639,
      "outputs": [
        {
          "output_type": "stream",
          "name": "stdout",
          "text": [
            "[0.18 0.18 0.13 0.08 0.18]\n"
          ]
        },
        {
          "output_type": "execute_result",
          "data": {
            "text/plain": [
              "0.151"
            ]
          },
          "metadata": {},
          "execution_count": 639
        }
      ]
    },
    {
      "cell_type": "code",
      "metadata": {
        "colab": {
          "base_uri": "https://localhost:8080/"
        },
        "id": "JzB1ckHzki_U",
        "outputId": "34846206-3267-4746-bdea-dc4134c4f442"
      },
      "source": [
        "from sklearn.model_selection import cross_val_score\n",
        "mytree3 = DecisionTreeClassifier(criterion='entropy',min_samples_leaf=7) \n",
        "\n",
        "csv = cross_val_score(mytree3 ,X,Y, cv=5) #แบ่งข้อมูลเป็น 5 ส่วน\n",
        "print(csv.round(2)) #กำหนดทศนิยม 3 ตำแหน่ง\n",
        "csv.mean().round(3) # หาค่าเฉลี่ยของcsv "
      ],
      "execution_count": 637,
      "outputs": [
        {
          "output_type": "stream",
          "name": "stdout",
          "text": [
            "[0.17 0.19 0.18 0.09 0.12 0.09 0.07 0.12 0.19]\n"
          ]
        },
        {
          "output_type": "execute_result",
          "data": {
            "text/plain": [
              "0.136"
            ]
          },
          "metadata": {},
          "execution_count": 637
        }
      ]
    },
    {
      "cell_type": "code",
      "metadata": {
        "colab": {
          "base_uri": "https://localhost:8080/"
        },
        "id": "saWBo5SHnZT5",
        "outputId": "bc758cc0-43eb-458d-a270-1d1b3244d46a"
      },
      "source": [
        "from sklearn.model_selection import cross_val_score\n",
        "mytree4 = DecisionTreeClassifier(criterion='gini',max_leaf_nodes=7) \n",
        "\n",
        "csv = cross_val_score(mytree2 ,X,Y, cv=5) #แบ่งข้อมูลเป็น 5 ส่วน\n",
        "print(csv.round(2)) #กำหนดทศนิยม 3 ตำแหน่ง\n",
        "csv.mean().round(3) # หาค่าเฉลี่ยของcsv "
      ],
      "execution_count": 638,
      "outputs": [
        {
          "output_type": "stream",
          "name": "stdout",
          "text": [
            "[0.17 0.21 0.18 0.09 0.15 0.09 0.09 0.12 0.19]\n"
          ]
        },
        {
          "output_type": "execute_result",
          "data": {
            "text/plain": [
              "0.144"
            ]
          },
          "metadata": {},
          "execution_count": 638
        }
      ]
    },
    {
      "cell_type": "markdown",
      "metadata": {
        "id": "CDe9hD4nbLWJ"
      },
      "source": [
        "####k-Nearest Neighbors "
      ]
    },
    {
      "cell_type": "code",
      "metadata": {
        "colab": {
          "base_uri": "https://localhost:8080/"
        },
        "id": "k01DhnC1k7VT",
        "outputId": "58025e86-c136-4c00-8335-8856d8f8f87f"
      },
      "source": [
        "from sklearn.model_selection import cross_val_score\n",
        "neigh1 = KNeighborsClassifier(n_neighbors=1) \n",
        "\n",
        "csv = cross_val_score(neigh1  ,X,Y, cv=5) #แบ่งข้อมูลเป็น 5 ส่วน\n",
        "print(csv.round(2)) #กำหนดทศนิยม 3 ตำแหน่ง\n",
        "csv.mean().round(3) # หาค่าเฉลี่ยของcsv "
      ],
      "execution_count": 623,
      "outputs": [
        {
          "output_type": "stream",
          "name": "stdout",
          "text": [
            "[0.1  0.13 0.09 0.06 0.12]\n"
          ]
        },
        {
          "output_type": "execute_result",
          "data": {
            "text/plain": [
              "0.101"
            ]
          },
          "metadata": {},
          "execution_count": 623
        }
      ]
    },
    {
      "cell_type": "code",
      "metadata": {
        "colab": {
          "base_uri": "https://localhost:8080/"
        },
        "id": "4cr-1VJ7lFCF",
        "outputId": "f23a9ed5-c3bf-4ec4-86e2-a5e41b238e21"
      },
      "source": [
        "from sklearn.model_selection import cross_val_score\n",
        "neigh2 = KNeighborsClassifier(n_neighbors=7,weights='distance') \n",
        "\n",
        "csv = cross_val_score(neigh2  ,X,Y, cv=5) #แบ่งข้อมูลเป็น 5 ส่วน\n",
        "print(csv.round(2)) #กำหนดทศนิยม 3 ตำแหน่ง\n",
        "csv.mean().round(3) # หาค่าเฉลี่ยของcsv"
      ],
      "execution_count": 640,
      "outputs": [
        {
          "output_type": "stream",
          "name": "stdout",
          "text": [
            "[0.13 0.17 0.11 0.08 0.13]\n"
          ]
        },
        {
          "output_type": "execute_result",
          "data": {
            "text/plain": [
              "0.124"
            ]
          },
          "metadata": {},
          "execution_count": 640
        }
      ]
    },
    {
      "cell_type": "code",
      "metadata": {
        "colab": {
          "base_uri": "https://localhost:8080/"
        },
        "id": "-udJ2mF-lE4W",
        "outputId": "2ce63cab-2827-4d53-bc95-7e1c97c70ace"
      },
      "source": [
        "from sklearn.model_selection import cross_val_score\n",
        "neigh3 = KNeighborsClassifier(n_neighbors=5) \n",
        "\n",
        "csv = cross_val_score(neigh3  ,X,Y, cv=5) #แบ่งข้อมูลเป็น 5 ส่วน\n",
        "print(csv.round(2)) #กำหนดทศนิยม 3 ตำแหน่ง\n",
        "csv.mean().round(3) # หาค่าเฉลี่ยของcsv"
      ],
      "execution_count": 630,
      "outputs": [
        {
          "output_type": "stream",
          "name": "stdout",
          "text": [
            "[0.12 0.14 0.12 0.06 0.16]\n"
          ]
        },
        {
          "output_type": "execute_result",
          "data": {
            "text/plain": [
              "0.121"
            ]
          },
          "metadata": {},
          "execution_count": 630
        }
      ]
    },
    {
      "cell_type": "code",
      "metadata": {
        "colab": {
          "base_uri": "https://localhost:8080/"
        },
        "id": "7NydjfFalEuI",
        "outputId": "3966eed9-9d50-4d1e-f821-ed1a581e230c"
      },
      "source": [
        "from sklearn.model_selection import cross_val_score\n",
        "neigh4 = KNeighborsClassifier(n_neighbors=5,weights='distance') \n",
        "\n",
        "csv = cross_val_score(neigh5  ,X,Y, cv=5) #แบ่งข้อมูลเป็น 5 ส่วน\n",
        "print(csv.round(2)) #กำหนดทศนิยม 3 ตำแหน่ง\n",
        "csv.mean().round(3) # หาค่าเฉลี่ยของcsv"
      ],
      "execution_count": 641,
      "outputs": [
        {
          "output_type": "stream",
          "name": "stdout",
          "text": [
            "[0.12 0.18 0.09 0.07 0.14]\n"
          ]
        },
        {
          "output_type": "execute_result",
          "data": {
            "text/plain": [
              "0.121"
            ]
          },
          "metadata": {},
          "execution_count": 641
        }
      ]
    },
    {
      "cell_type": "markdown",
      "metadata": {
        "id": "o4Br17NUUIqF"
      },
      "source": [
        "###Train Model \n",
        "จากการ define พบว่า mytree2 ให้ค่าเฉลี่ยสูงที่สุด คือค่าเฉลี่ยโดยรวมมีความถูกต้อง 15.1% จึงเลือก train model 'mytree2'"
      ]
    },
    {
      "cell_type": "markdown",
      "metadata": {
        "id": "qfkMqaQpccR1"
      },
      "source": [
        "#####Decision_Tree"
      ]
    },
    {
      "cell_type": "code",
      "metadata": {
        "colab": {
          "base_uri": "https://localhost:8080/"
        },
        "id": "zQmeO89Kcntr",
        "outputId": "afd1233f-c033-4133-dede-e412219b3b31"
      },
      "source": [
        "mytree2.fit(X_train,y_train) "
      ],
      "execution_count": 642,
      "outputs": [
        {
          "output_type": "execute_result",
          "data": {
            "text/plain": [
              "DecisionTreeClassifier(ccp_alpha=0.0, class_weight=None, criterion='gini',\n",
              "                       max_depth=None, max_features=None, max_leaf_nodes=15,\n",
              "                       min_impurity_decrease=0.0, min_impurity_split=None,\n",
              "                       min_samples_leaf=1, min_samples_split=2,\n",
              "                       min_weight_fraction_leaf=0.0, presort='deprecated',\n",
              "                       random_state=None, splitter='best')"
            ]
          },
          "metadata": {},
          "execution_count": 642
        }
      ]
    },
    {
      "cell_type": "markdown",
      "metadata": {
        "id": "ZS0srgcrceWP"
      },
      "source": [
        "###ทดสอบหา model ที่ดีที่สุดด้วย validation set"
      ]
    },
    {
      "cell_type": "markdown",
      "metadata": {
        "id": "cfbaDsUDePMZ"
      },
      "source": [
        "#####Decision_Tree"
      ]
    },
    {
      "cell_type": "markdown",
      "metadata": {
        "id": "2lCMmaU3pmgX"
      },
      "source": [
        "######วัดประสิทธิภาพของโมเดล"
      ]
    },
    {
      "cell_type": "code",
      "metadata": {
        "id": "k5d60R9do6Oz"
      },
      "source": [
        "from sklearn.metrics import  accuracy_score\n"
      ],
      "execution_count": 644,
      "outputs": []
    },
    {
      "cell_type": "code",
      "metadata": {
        "colab": {
          "base_uri": "https://localhost:8080/"
        },
        "id": "XQ6uaO89UViQ",
        "outputId": "a6bc1afb-8112-48cc-86ad-e82e17750097"
      },
      "source": [
        "t2_result =mytree2.predict(X_test)\n",
        "accuracy_score(y_test,t2_result)\n"
      ],
      "execution_count": 645,
      "outputs": [
        {
          "output_type": "execute_result",
          "data": {
            "text/plain": [
              "0.16989567809239942"
            ]
          },
          "metadata": {},
          "execution_count": 645
        }
      ]
    },
    {
      "cell_type": "code",
      "metadata": {
        "id": "CqYk0XxzpNpF"
      },
      "source": [
        "from sklearn.metrics import classification_report, confusion_matrix"
      ],
      "execution_count": 646,
      "outputs": []
    },
    {
      "cell_type": "code",
      "metadata": {
        "colab": {
          "base_uri": "https://localhost:8080/"
        },
        "id": "-K_Pg4fUpbph",
        "outputId": "bfe72819-6549-42e6-f482-e7f4bcf192a1"
      },
      "source": [
        "cm1 = confusion_matrix(y_test,mytree2.predict(X_test))\n",
        "cm1"
      ],
      "execution_count": 647,
      "outputs": [
        {
          "output_type": "execute_result",
          "data": {
            "text/plain": [
              "array([[44,  0,  2,  0, 54,  6,  0,  2,  0],\n",
              "       [13,  0,  2,  0, 37,  3,  0,  5,  0],\n",
              "       [23,  0,  0,  0, 46,  5,  0,  8,  0],\n",
              "       [12,  0,  0,  0, 28,  3,  0,  4,  0],\n",
              "       [35,  0,  8,  0, 59,  6,  0, 11,  0],\n",
              "       [22,  0,  2,  0, 47,  5,  0,  9,  0],\n",
              "       [ 9,  0,  2,  0, 32,  4,  0, 10,  0],\n",
              "       [22,  0,  1,  0, 40,  3,  0,  6,  0],\n",
              "       [13,  0,  0,  0, 23,  4,  0,  1,  0]])"
            ]
          },
          "metadata": {},
          "execution_count": 647
        }
      ]
    },
    {
      "cell_type": "code",
      "metadata": {
        "colab": {
          "base_uri": "https://localhost:8080/"
        },
        "id": "2WyruPPUpy51",
        "outputId": "12439391-cb8c-4a9a-c693-b5ecc1b8cc8a"
      },
      "source": [
        "cr1 = classification_report(y_test,mytree2.predict(X_test))\n",
        "print(cr1)"
      ],
      "execution_count": 648,
      "outputs": [
        {
          "output_type": "stream",
          "name": "stdout",
          "text": [
            "              precision    recall  f1-score   support\n",
            "\n",
            "          BX       0.23      0.41      0.29       108\n",
            "          CB       0.00      0.00      0.00        60\n",
            "          CC       0.00      0.00      0.00        82\n",
            "          DB       0.00      0.00      0.00        47\n",
            "          EB       0.16      0.50      0.24       119\n",
            "          HB       0.13      0.06      0.08        85\n",
            "          MB       0.00      0.00      0.00        57\n",
            "          RC       0.11      0.08      0.09        72\n",
            "          RO       0.00      0.00      0.00        41\n",
            "\n",
            "    accuracy                           0.17       671\n",
            "   macro avg       0.07      0.12      0.08       671\n",
            "weighted avg       0.09      0.17      0.11       671\n",
            "\n"
          ]
        },
        {
          "output_type": "stream",
          "name": "stderr",
          "text": [
            "/usr/local/lib/python3.7/dist-packages/sklearn/metrics/_classification.py:1272: UndefinedMetricWarning: Precision and F-score are ill-defined and being set to 0.0 in labels with no predicted samples. Use `zero_division` parameter to control this behavior.\n",
            "  _warn_prf(average, modifier, msg_start, len(result))\n"
          ]
        }
      ]
    }
  ]
}