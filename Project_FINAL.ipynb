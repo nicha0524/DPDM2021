{
  "nbformat": 4,
  "nbformat_minor": 0,
  "metadata": {
    "colab": {
      "name": "Untitled11.ipynb",
      "provenance": [],
      "toc_visible": true,
      "authorship_tag": "ABX9TyOGjUVdbKakK/HD5MyfEIU+",
      "include_colab_link": true
    },
    "kernelspec": {
      "name": "python3",
      "display_name": "Python 3"
    },
    "language_info": {
      "name": "python"
    }
  },
  "cells": [
    {
      "cell_type": "markdown",
      "metadata": {
        "id": "view-in-github",
        "colab_type": "text"
      },
      "source": [
        "<a href=\"https://colab.research.google.com/github/nicha0524/DPDM2021/blob/main/Project_FINAL.ipynb\" target=\"_parent\"><img src=\"https://colab.research.google.com/assets/colab-badge.svg\" alt=\"Open In Colab\"/></a>"
      ]
    },
    {
      "cell_type": "markdown",
      "metadata": {
        "id": "TJjjIljiLJWK"
      },
      "source": [
        "#คาดการณ์การซื้อตามชนิดจักรยานต์โดยวิเคราะจากทวีปคู่ค้าและวันในสัปดาห์"
      ]
    },
    {
      "cell_type": "markdown",
      "metadata": {
        "id": "1oqnyfBZLeMz"
      },
      "source": [
        "##Preprocessing"
      ]
    },
    {
      "cell_type": "markdown",
      "metadata": {
        "id": "8gcoHEY_TpUZ"
      },
      "source": [
        "###ขั้นที่ 1 ดึงข้อมูลจาก drive"
      ]
    },
    {
      "cell_type": "code",
      "metadata": {
        "id": "uoXO8Ii8HLXt"
      },
      "source": [
        "import pandas as pd"
      ],
      "execution_count": 1707,
      "outputs": []
    },
    {
      "cell_type": "code",
      "metadata": {
        "colab": {
          "base_uri": "https://localhost:8080/"
        },
        "id": "5FZme5DjHN4R",
        "outputId": "ec5ab019-3309-4fa5-927b-1c1c106de613"
      },
      "source": [
        "from google.colab import drive # เชื่อม google drive\n",
        "drive.mount('/content/drive')"
      ],
      "execution_count": 1708,
      "outputs": [
        {
          "output_type": "stream",
          "name": "stdout",
          "text": [
            "Drive already mounted at /content/drive; to attempt to forcibly remount, call drive.mount(\"/content/drive\", force_remount=True).\n"
          ]
        }
      ]
    },
    {
      "cell_type": "code",
      "metadata": {
        "id": "TOk2Y1ECHN1P"
      },
      "source": [
        "import os # จัดการไฟล์และ path"
      ],
      "execution_count": 1709,
      "outputs": []
    },
    {
      "cell_type": "markdown",
      "metadata": {
        "id": "ubg7J0l7UWHS"
      },
      "source": [
        "##### ตารางที่ 1 Products (ใช้ข้อมูล PRODCATEGORYID)"
      ]
    },
    {
      "cell_type": "code",
      "metadata": {
        "colab": {
          "base_uri": "https://localhost:8080/",
          "height": 1000
        },
        "id": "qNwYyBcZKJCZ",
        "outputId": "f8709c75-8447-4821-8315-7664f08e2838"
      },
      "source": [
        "path = '/content/drive/My Drive/DPDM2021_DATA' #    เรียกข้อมูลจาก drive\n",
        "Products= pd.read_csv(os.path.join(path,'Products.csv')) # read ข้อมูลจาก Excel โดยใช้ คำสั่ง  pd.read_csv\n",
        "Products"
      ],
      "execution_count": 1710,
      "outputs": [
        {
          "output_type": "execute_result",
          "data": {
            "text/html": [
              "<div>\n",
              "<style scoped>\n",
              "    .dataframe tbody tr th:only-of-type {\n",
              "        vertical-align: middle;\n",
              "    }\n",
              "\n",
              "    .dataframe tbody tr th {\n",
              "        vertical-align: top;\n",
              "    }\n",
              "\n",
              "    .dataframe thead th {\n",
              "        text-align: right;\n",
              "    }\n",
              "</style>\n",
              "<table border=\"1\" class=\"dataframe\">\n",
              "  <thead>\n",
              "    <tr style=\"text-align: right;\">\n",
              "      <th></th>\n",
              "      <th>PRODUCTID</th>\n",
              "      <th>TYPECODE</th>\n",
              "      <th>PRODCATEGORYID</th>\n",
              "      <th>CREATEDBY</th>\n",
              "      <th>CREATEDAT</th>\n",
              "      <th>CHANGEDBY</th>\n",
              "      <th>CHANGEDAT</th>\n",
              "      <th>SUPPLIER_PARTNERID</th>\n",
              "      <th>TAXTARIFFCODE</th>\n",
              "      <th>QUANTITYUNIT</th>\n",
              "      <th>WEIGHTMEASURE</th>\n",
              "      <th>WEIGHTUNIT</th>\n",
              "      <th>CURRENCY</th>\n",
              "      <th>PRICE</th>\n",
              "    </tr>\n",
              "  </thead>\n",
              "  <tbody>\n",
              "    <tr>\n",
              "      <th>0</th>\n",
              "      <td>RO-1001</td>\n",
              "      <td>PR</td>\n",
              "      <td>RO</td>\n",
              "      <td>9</td>\n",
              "      <td>20181003</td>\n",
              "      <td>9</td>\n",
              "      <td>20181003</td>\n",
              "      <td>100000000</td>\n",
              "      <td>1</td>\n",
              "      <td>EA</td>\n",
              "      <td>7.7</td>\n",
              "      <td>KG</td>\n",
              "      <td>USD</td>\n",
              "      <td>525</td>\n",
              "    </tr>\n",
              "    <tr>\n",
              "      <th>1</th>\n",
              "      <td>RO-1002</td>\n",
              "      <td>PR</td>\n",
              "      <td>RO</td>\n",
              "      <td>9</td>\n",
              "      <td>20181003</td>\n",
              "      <td>9</td>\n",
              "      <td>20181003</td>\n",
              "      <td>100000001</td>\n",
              "      <td>1</td>\n",
              "      <td>EA</td>\n",
              "      <td>8.0</td>\n",
              "      <td>KG</td>\n",
              "      <td>USD</td>\n",
              "      <td>689</td>\n",
              "    </tr>\n",
              "    <tr>\n",
              "      <th>2</th>\n",
              "      <td>RO-1003</td>\n",
              "      <td>PR</td>\n",
              "      <td>RO</td>\n",
              "      <td>12</td>\n",
              "      <td>20181003</td>\n",
              "      <td>12</td>\n",
              "      <td>20181003</td>\n",
              "      <td>100000002</td>\n",
              "      <td>1</td>\n",
              "      <td>EA</td>\n",
              "      <td>9.1</td>\n",
              "      <td>KG</td>\n",
              "      <td>USD</td>\n",
              "      <td>721</td>\n",
              "    </tr>\n",
              "    <tr>\n",
              "      <th>3</th>\n",
              "      <td>BX-1011</td>\n",
              "      <td>PR</td>\n",
              "      <td>BX</td>\n",
              "      <td>9</td>\n",
              "      <td>20181003</td>\n",
              "      <td>9</td>\n",
              "      <td>20181003</td>\n",
              "      <td>100000003</td>\n",
              "      <td>1</td>\n",
              "      <td>EA</td>\n",
              "      <td>11.1</td>\n",
              "      <td>KG</td>\n",
              "      <td>USD</td>\n",
              "      <td>249</td>\n",
              "    </tr>\n",
              "    <tr>\n",
              "      <th>4</th>\n",
              "      <td>BX-1012</td>\n",
              "      <td>PR</td>\n",
              "      <td>BX</td>\n",
              "      <td>6</td>\n",
              "      <td>20181003</td>\n",
              "      <td>6</td>\n",
              "      <td>20181003</td>\n",
              "      <td>100000004</td>\n",
              "      <td>1</td>\n",
              "      <td>EA</td>\n",
              "      <td>12.0</td>\n",
              "      <td>KG</td>\n",
              "      <td>USD</td>\n",
              "      <td>399</td>\n",
              "    </tr>\n",
              "    <tr>\n",
              "      <th>5</th>\n",
              "      <td>BX-1013</td>\n",
              "      <td>PR</td>\n",
              "      <td>BX</td>\n",
              "      <td>7</td>\n",
              "      <td>20181003</td>\n",
              "      <td>7</td>\n",
              "      <td>20181003</td>\n",
              "      <td>100000005</td>\n",
              "      <td>1</td>\n",
              "      <td>EA</td>\n",
              "      <td>13.1</td>\n",
              "      <td>KG</td>\n",
              "      <td>USD</td>\n",
              "      <td>449</td>\n",
              "    </tr>\n",
              "    <tr>\n",
              "      <th>6</th>\n",
              "      <td>BX-1014</td>\n",
              "      <td>PR</td>\n",
              "      <td>BX</td>\n",
              "      <td>11</td>\n",
              "      <td>20181003</td>\n",
              "      <td>11</td>\n",
              "      <td>20181003</td>\n",
              "      <td>100000006</td>\n",
              "      <td>1</td>\n",
              "      <td>EA</td>\n",
              "      <td>11.8</td>\n",
              "      <td>KG</td>\n",
              "      <td>USD</td>\n",
              "      <td>799</td>\n",
              "    </tr>\n",
              "    <tr>\n",
              "      <th>7</th>\n",
              "      <td>BX-1015</td>\n",
              "      <td>PR</td>\n",
              "      <td>BX</td>\n",
              "      <td>8</td>\n",
              "      <td>20181003</td>\n",
              "      <td>8</td>\n",
              "      <td>20181003</td>\n",
              "      <td>100000007</td>\n",
              "      <td>1</td>\n",
              "      <td>EA</td>\n",
              "      <td>12.5</td>\n",
              "      <td>KG</td>\n",
              "      <td>USD</td>\n",
              "      <td>299</td>\n",
              "    </tr>\n",
              "    <tr>\n",
              "      <th>8</th>\n",
              "      <td>BX-1016</td>\n",
              "      <td>PR</td>\n",
              "      <td>BX</td>\n",
              "      <td>11</td>\n",
              "      <td>20181003</td>\n",
              "      <td>11</td>\n",
              "      <td>20181003</td>\n",
              "      <td>100000008</td>\n",
              "      <td>1</td>\n",
              "      <td>EA</td>\n",
              "      <td>12.8</td>\n",
              "      <td>KG</td>\n",
              "      <td>USD</td>\n",
              "      <td>319</td>\n",
              "    </tr>\n",
              "    <tr>\n",
              "      <th>9</th>\n",
              "      <td>CC-1021</td>\n",
              "      <td>PR</td>\n",
              "      <td>CC</td>\n",
              "      <td>10</td>\n",
              "      <td>20181003</td>\n",
              "      <td>10</td>\n",
              "      <td>20181003</td>\n",
              "      <td>100000009</td>\n",
              "      <td>1</td>\n",
              "      <td>EA</td>\n",
              "      <td>8.1</td>\n",
              "      <td>KG</td>\n",
              "      <td>USD</td>\n",
              "      <td>1144</td>\n",
              "    </tr>\n",
              "    <tr>\n",
              "      <th>10</th>\n",
              "      <td>CC-1022</td>\n",
              "      <td>PR</td>\n",
              "      <td>CC</td>\n",
              "      <td>13</td>\n",
              "      <td>20181003</td>\n",
              "      <td>13</td>\n",
              "      <td>20181003</td>\n",
              "      <td>100000010</td>\n",
              "      <td>1</td>\n",
              "      <td>EA</td>\n",
              "      <td>8.0</td>\n",
              "      <td>KG</td>\n",
              "      <td>USD</td>\n",
              "      <td>1200</td>\n",
              "    </tr>\n",
              "    <tr>\n",
              "      <th>11</th>\n",
              "      <td>CC-1023</td>\n",
              "      <td>PR</td>\n",
              "      <td>CC</td>\n",
              "      <td>12</td>\n",
              "      <td>20181003</td>\n",
              "      <td>12</td>\n",
              "      <td>20181003</td>\n",
              "      <td>100000011</td>\n",
              "      <td>1</td>\n",
              "      <td>EA</td>\n",
              "      <td>8.6</td>\n",
              "      <td>KG</td>\n",
              "      <td>USD</td>\n",
              "      <td>1361</td>\n",
              "    </tr>\n",
              "    <tr>\n",
              "      <th>12</th>\n",
              "      <td>MB-1031</td>\n",
              "      <td>PR</td>\n",
              "      <td>MB</td>\n",
              "      <td>12</td>\n",
              "      <td>20181003</td>\n",
              "      <td>12</td>\n",
              "      <td>20181003</td>\n",
              "      <td>100000012</td>\n",
              "      <td>1</td>\n",
              "      <td>EA</td>\n",
              "      <td>12.7</td>\n",
              "      <td>KG</td>\n",
              "      <td>USD</td>\n",
              "      <td>649</td>\n",
              "    </tr>\n",
              "    <tr>\n",
              "      <th>13</th>\n",
              "      <td>MB-1032</td>\n",
              "      <td>PR</td>\n",
              "      <td>MB</td>\n",
              "      <td>2</td>\n",
              "      <td>20181003</td>\n",
              "      <td>2</td>\n",
              "      <td>20181003</td>\n",
              "      <td>100000013</td>\n",
              "      <td>1</td>\n",
              "      <td>EA</td>\n",
              "      <td>12.0</td>\n",
              "      <td>KG</td>\n",
              "      <td>USD</td>\n",
              "      <td>1299</td>\n",
              "    </tr>\n",
              "    <tr>\n",
              "      <th>14</th>\n",
              "      <td>MB-1033</td>\n",
              "      <td>PR</td>\n",
              "      <td>MB</td>\n",
              "      <td>7</td>\n",
              "      <td>20181003</td>\n",
              "      <td>7</td>\n",
              "      <td>20181003</td>\n",
              "      <td>100000014</td>\n",
              "      <td>1</td>\n",
              "      <td>EA</td>\n",
              "      <td>13.1</td>\n",
              "      <td>KG</td>\n",
              "      <td>USD</td>\n",
              "      <td>3999</td>\n",
              "    </tr>\n",
              "    <tr>\n",
              "      <th>15</th>\n",
              "      <td>MB-1034</td>\n",
              "      <td>PR</td>\n",
              "      <td>MB</td>\n",
              "      <td>11</td>\n",
              "      <td>20181003</td>\n",
              "      <td>11</td>\n",
              "      <td>20181003</td>\n",
              "      <td>100000015</td>\n",
              "      <td>1</td>\n",
              "      <td>EA</td>\n",
              "      <td>12.5</td>\n",
              "      <td>KG</td>\n",
              "      <td>USD</td>\n",
              "      <td>2499</td>\n",
              "    </tr>\n",
              "    <tr>\n",
              "      <th>16</th>\n",
              "      <td>RC-1051</td>\n",
              "      <td>PR</td>\n",
              "      <td>RC</td>\n",
              "      <td>1</td>\n",
              "      <td>20181003</td>\n",
              "      <td>1</td>\n",
              "      <td>20181003</td>\n",
              "      <td>100000016</td>\n",
              "      <td>1</td>\n",
              "      <td>EA</td>\n",
              "      <td>7.1</td>\n",
              "      <td>KG</td>\n",
              "      <td>USD</td>\n",
              "      <td>2499</td>\n",
              "    </tr>\n",
              "    <tr>\n",
              "      <th>17</th>\n",
              "      <td>RC-1052</td>\n",
              "      <td>PR</td>\n",
              "      <td>RC</td>\n",
              "      <td>5</td>\n",
              "      <td>20181003</td>\n",
              "      <td>5</td>\n",
              "      <td>20181003</td>\n",
              "      <td>100000017</td>\n",
              "      <td>1</td>\n",
              "      <td>EA</td>\n",
              "      <td>7.5</td>\n",
              "      <td>KG</td>\n",
              "      <td>USD</td>\n",
              "      <td>3999</td>\n",
              "    </tr>\n",
              "    <tr>\n",
              "      <th>18</th>\n",
              "      <td>RC-1053</td>\n",
              "      <td>PR</td>\n",
              "      <td>RC</td>\n",
              "      <td>3</td>\n",
              "      <td>20181003</td>\n",
              "      <td>3</td>\n",
              "      <td>20181003</td>\n",
              "      <td>100000018</td>\n",
              "      <td>1</td>\n",
              "      <td>EA</td>\n",
              "      <td>6.9</td>\n",
              "      <td>KG</td>\n",
              "      <td>USD</td>\n",
              "      <td>4599</td>\n",
              "    </tr>\n",
              "    <tr>\n",
              "      <th>19</th>\n",
              "      <td>RC-1054</td>\n",
              "      <td>PR</td>\n",
              "      <td>RC</td>\n",
              "      <td>14</td>\n",
              "      <td>20181003</td>\n",
              "      <td>14</td>\n",
              "      <td>20181003</td>\n",
              "      <td>100000019</td>\n",
              "      <td>1</td>\n",
              "      <td>EA</td>\n",
              "      <td>7.0</td>\n",
              "      <td>KG</td>\n",
              "      <td>USD</td>\n",
              "      <td>5499</td>\n",
              "    </tr>\n",
              "    <tr>\n",
              "      <th>20</th>\n",
              "      <td>RC-1055</td>\n",
              "      <td>PR</td>\n",
              "      <td>RC</td>\n",
              "      <td>2</td>\n",
              "      <td>20181003</td>\n",
              "      <td>2</td>\n",
              "      <td>20181003</td>\n",
              "      <td>100000020</td>\n",
              "      <td>1</td>\n",
              "      <td>EA</td>\n",
              "      <td>7.2</td>\n",
              "      <td>KG</td>\n",
              "      <td>USD</td>\n",
              "      <td>1999</td>\n",
              "    </tr>\n",
              "    <tr>\n",
              "      <th>21</th>\n",
              "      <td>RC-1056</td>\n",
              "      <td>PR</td>\n",
              "      <td>RC</td>\n",
              "      <td>13</td>\n",
              "      <td>20181003</td>\n",
              "      <td>13</td>\n",
              "      <td>20181003</td>\n",
              "      <td>100000021</td>\n",
              "      <td>1</td>\n",
              "      <td>EA</td>\n",
              "      <td>7.8</td>\n",
              "      <td>KG</td>\n",
              "      <td>USD</td>\n",
              "      <td>2499</td>\n",
              "    </tr>\n",
              "    <tr>\n",
              "      <th>22</th>\n",
              "      <td>RC-1057</td>\n",
              "      <td>PR</td>\n",
              "      <td>RC</td>\n",
              "      <td>12</td>\n",
              "      <td>20181003</td>\n",
              "      <td>12</td>\n",
              "      <td>20181003</td>\n",
              "      <td>100000022</td>\n",
              "      <td>1</td>\n",
              "      <td>EA</td>\n",
              "      <td>7.3</td>\n",
              "      <td>KG</td>\n",
              "      <td>USD</td>\n",
              "      <td>4999</td>\n",
              "    </tr>\n",
              "    <tr>\n",
              "      <th>23</th>\n",
              "      <td>DB-1081</td>\n",
              "      <td>PR</td>\n",
              "      <td>DB</td>\n",
              "      <td>10</td>\n",
              "      <td>20181003</td>\n",
              "      <td>10</td>\n",
              "      <td>20181003</td>\n",
              "      <td>100000023</td>\n",
              "      <td>1</td>\n",
              "      <td>EA</td>\n",
              "      <td>13.6</td>\n",
              "      <td>KG</td>\n",
              "      <td>USD</td>\n",
              "      <td>1499</td>\n",
              "    </tr>\n",
              "    <tr>\n",
              "      <th>24</th>\n",
              "      <td>DB-1082</td>\n",
              "      <td>PR</td>\n",
              "      <td>DB</td>\n",
              "      <td>4</td>\n",
              "      <td>20181003</td>\n",
              "      <td>4</td>\n",
              "      <td>20181003</td>\n",
              "      <td>100000024</td>\n",
              "      <td>1</td>\n",
              "      <td>EA</td>\n",
              "      <td>14.3</td>\n",
              "      <td>KG</td>\n",
              "      <td>USD</td>\n",
              "      <td>1250</td>\n",
              "    </tr>\n",
              "    <tr>\n",
              "      <th>25</th>\n",
              "      <td>DB-1083</td>\n",
              "      <td>PR</td>\n",
              "      <td>DB</td>\n",
              "      <td>6</td>\n",
              "      <td>20181003</td>\n",
              "      <td>6</td>\n",
              "      <td>20181003</td>\n",
              "      <td>100000025</td>\n",
              "      <td>1</td>\n",
              "      <td>EA</td>\n",
              "      <td>15.4</td>\n",
              "      <td>KG</td>\n",
              "      <td>USD</td>\n",
              "      <td>1199</td>\n",
              "    </tr>\n",
              "    <tr>\n",
              "      <th>26</th>\n",
              "      <td>EB-1131</td>\n",
              "      <td>PR</td>\n",
              "      <td>EB</td>\n",
              "      <td>14</td>\n",
              "      <td>20181003</td>\n",
              "      <td>14</td>\n",
              "      <td>20181003</td>\n",
              "      <td>100000026</td>\n",
              "      <td>1</td>\n",
              "      <td>EA</td>\n",
              "      <td>18.1</td>\n",
              "      <td>KG</td>\n",
              "      <td>USD</td>\n",
              "      <td>1500</td>\n",
              "    </tr>\n",
              "    <tr>\n",
              "      <th>27</th>\n",
              "      <td>EB-1132</td>\n",
              "      <td>PR</td>\n",
              "      <td>EB</td>\n",
              "      <td>14</td>\n",
              "      <td>20181003</td>\n",
              "      <td>14</td>\n",
              "      <td>20181003</td>\n",
              "      <td>100000027</td>\n",
              "      <td>1</td>\n",
              "      <td>EA</td>\n",
              "      <td>18.8</td>\n",
              "      <td>KG</td>\n",
              "      <td>USD</td>\n",
              "      <td>1900</td>\n",
              "    </tr>\n",
              "    <tr>\n",
              "      <th>28</th>\n",
              "      <td>EB-1133</td>\n",
              "      <td>PR</td>\n",
              "      <td>EB</td>\n",
              "      <td>5</td>\n",
              "      <td>20181003</td>\n",
              "      <td>5</td>\n",
              "      <td>20181003</td>\n",
              "      <td>100000028</td>\n",
              "      <td>1</td>\n",
              "      <td>EA</td>\n",
              "      <td>21.0</td>\n",
              "      <td>KG</td>\n",
              "      <td>USD</td>\n",
              "      <td>2250</td>\n",
              "    </tr>\n",
              "    <tr>\n",
              "      <th>29</th>\n",
              "      <td>EB-1134</td>\n",
              "      <td>PR</td>\n",
              "      <td>EB</td>\n",
              "      <td>4</td>\n",
              "      <td>20181003</td>\n",
              "      <td>4</td>\n",
              "      <td>20181003</td>\n",
              "      <td>100000029</td>\n",
              "      <td>1</td>\n",
              "      <td>EA</td>\n",
              "      <td>20.1</td>\n",
              "      <td>KG</td>\n",
              "      <td>USD</td>\n",
              "      <td>4800</td>\n",
              "    </tr>\n",
              "    <tr>\n",
              "      <th>30</th>\n",
              "      <td>EB-1135</td>\n",
              "      <td>PR</td>\n",
              "      <td>EB</td>\n",
              "      <td>12</td>\n",
              "      <td>20181003</td>\n",
              "      <td>12</td>\n",
              "      <td>20181003</td>\n",
              "      <td>100000030</td>\n",
              "      <td>1</td>\n",
              "      <td>EA</td>\n",
              "      <td>19.3</td>\n",
              "      <td>KG</td>\n",
              "      <td>USD</td>\n",
              "      <td>3000</td>\n",
              "    </tr>\n",
              "    <tr>\n",
              "      <th>31</th>\n",
              "      <td>EB-1136</td>\n",
              "      <td>PR</td>\n",
              "      <td>EB</td>\n",
              "      <td>7</td>\n",
              "      <td>20181003</td>\n",
              "      <td>7</td>\n",
              "      <td>20181003</td>\n",
              "      <td>100000031</td>\n",
              "      <td>1</td>\n",
              "      <td>EA</td>\n",
              "      <td>20.5</td>\n",
              "      <td>KG</td>\n",
              "      <td>USD</td>\n",
              "      <td>5000</td>\n",
              "    </tr>\n",
              "    <tr>\n",
              "      <th>32</th>\n",
              "      <td>EB-1137</td>\n",
              "      <td>PR</td>\n",
              "      <td>EB</td>\n",
              "      <td>6</td>\n",
              "      <td>20181003</td>\n",
              "      <td>6</td>\n",
              "      <td>20181003</td>\n",
              "      <td>100000032</td>\n",
              "      <td>1</td>\n",
              "      <td>EA</td>\n",
              "      <td>22.0</td>\n",
              "      <td>KG</td>\n",
              "      <td>USD</td>\n",
              "      <td>7900</td>\n",
              "    </tr>\n",
              "    <tr>\n",
              "      <th>33</th>\n",
              "      <td>CB-1161</td>\n",
              "      <td>PR</td>\n",
              "      <td>CB</td>\n",
              "      <td>6</td>\n",
              "      <td>20181003</td>\n",
              "      <td>6</td>\n",
              "      <td>20181003</td>\n",
              "      <td>100000033</td>\n",
              "      <td>1</td>\n",
              "      <td>EA</td>\n",
              "      <td>15.0</td>\n",
              "      <td>KG</td>\n",
              "      <td>USD</td>\n",
              "      <td>399</td>\n",
              "    </tr>\n",
              "    <tr>\n",
              "      <th>34</th>\n",
              "      <td>CB-1162</td>\n",
              "      <td>PR</td>\n",
              "      <td>CB</td>\n",
              "      <td>9</td>\n",
              "      <td>20181003</td>\n",
              "      <td>9</td>\n",
              "      <td>20181003</td>\n",
              "      <td>100000034</td>\n",
              "      <td>1</td>\n",
              "      <td>EA</td>\n",
              "      <td>18.0</td>\n",
              "      <td>KG</td>\n",
              "      <td>USD</td>\n",
              "      <td>400</td>\n",
              "    </tr>\n",
              "    <tr>\n",
              "      <th>35</th>\n",
              "      <td>CB-1163</td>\n",
              "      <td>PR</td>\n",
              "      <td>CB</td>\n",
              "      <td>14</td>\n",
              "      <td>20181003</td>\n",
              "      <td>14</td>\n",
              "      <td>20181003</td>\n",
              "      <td>100000035</td>\n",
              "      <td>1</td>\n",
              "      <td>EA</td>\n",
              "      <td>16.0</td>\n",
              "      <td>KG</td>\n",
              "      <td>USD</td>\n",
              "      <td>288</td>\n",
              "    </tr>\n",
              "    <tr>\n",
              "      <th>36</th>\n",
              "      <td>HB-1171</td>\n",
              "      <td>PR</td>\n",
              "      <td>HB</td>\n",
              "      <td>1</td>\n",
              "      <td>20181003</td>\n",
              "      <td>1</td>\n",
              "      <td>20181003</td>\n",
              "      <td>100000036</td>\n",
              "      <td>1</td>\n",
              "      <td>EA</td>\n",
              "      <td>11.0</td>\n",
              "      <td>KG</td>\n",
              "      <td>USD</td>\n",
              "      <td>699</td>\n",
              "    </tr>\n",
              "    <tr>\n",
              "      <th>37</th>\n",
              "      <td>HB-1172</td>\n",
              "      <td>PR</td>\n",
              "      <td>HB</td>\n",
              "      <td>1</td>\n",
              "      <td>20181003</td>\n",
              "      <td>1</td>\n",
              "      <td>20181003</td>\n",
              "      <td>100000037</td>\n",
              "      <td>1</td>\n",
              "      <td>EA</td>\n",
              "      <td>12.1</td>\n",
              "      <td>KG</td>\n",
              "      <td>USD</td>\n",
              "      <td>799</td>\n",
              "    </tr>\n",
              "    <tr>\n",
              "      <th>38</th>\n",
              "      <td>HB-1173</td>\n",
              "      <td>PR</td>\n",
              "      <td>HB</td>\n",
              "      <td>3</td>\n",
              "      <td>20181003</td>\n",
              "      <td>3</td>\n",
              "      <td>20181003</td>\n",
              "      <td>100000038</td>\n",
              "      <td>1</td>\n",
              "      <td>EA</td>\n",
              "      <td>13.5</td>\n",
              "      <td>KG</td>\n",
              "      <td>USD</td>\n",
              "      <td>649</td>\n",
              "    </tr>\n",
              "    <tr>\n",
              "      <th>39</th>\n",
              "      <td>HB-1174</td>\n",
              "      <td>PR</td>\n",
              "      <td>HB</td>\n",
              "      <td>3</td>\n",
              "      <td>20181003</td>\n",
              "      <td>3</td>\n",
              "      <td>20181003</td>\n",
              "      <td>100000039</td>\n",
              "      <td>1</td>\n",
              "      <td>EA</td>\n",
              "      <td>11.8</td>\n",
              "      <td>KG</td>\n",
              "      <td>USD</td>\n",
              "      <td>379</td>\n",
              "    </tr>\n",
              "    <tr>\n",
              "      <th>40</th>\n",
              "      <td>HB-1175</td>\n",
              "      <td>PR</td>\n",
              "      <td>HB</td>\n",
              "      <td>7</td>\n",
              "      <td>20181003</td>\n",
              "      <td>7</td>\n",
              "      <td>20181003</td>\n",
              "      <td>100000040</td>\n",
              "      <td>1</td>\n",
              "      <td>EA</td>\n",
              "      <td>12.5</td>\n",
              "      <td>KG</td>\n",
              "      <td>USD</td>\n",
              "      <td>899</td>\n",
              "    </tr>\n",
              "    <tr>\n",
              "      <th>41</th>\n",
              "      <td>HB-1176</td>\n",
              "      <td>PR</td>\n",
              "      <td>HB</td>\n",
              "      <td>5</td>\n",
              "      <td>20181003</td>\n",
              "      <td>5</td>\n",
              "      <td>20181003</td>\n",
              "      <td>100000041</td>\n",
              "      <td>1</td>\n",
              "      <td>EA</td>\n",
              "      <td>12.9</td>\n",
              "      <td>KG</td>\n",
              "      <td>USD</td>\n",
              "      <td>1199</td>\n",
              "    </tr>\n",
              "  </tbody>\n",
              "</table>\n",
              "</div>"
            ],
            "text/plain": [
              "   PRODUCTID TYPECODE PRODCATEGORYID  ...  WEIGHTUNIT  CURRENCY  PRICE\n",
              "0    RO-1001       PR             RO  ...          KG       USD    525\n",
              "1    RO-1002       PR             RO  ...          KG       USD    689\n",
              "2    RO-1003       PR             RO  ...          KG       USD    721\n",
              "3    BX-1011       PR             BX  ...          KG       USD    249\n",
              "4    BX-1012       PR             BX  ...          KG       USD    399\n",
              "5    BX-1013       PR             BX  ...          KG       USD    449\n",
              "6    BX-1014       PR             BX  ...          KG       USD    799\n",
              "7    BX-1015       PR             BX  ...          KG       USD    299\n",
              "8    BX-1016       PR             BX  ...          KG       USD    319\n",
              "9    CC-1021       PR             CC  ...          KG       USD   1144\n",
              "10   CC-1022       PR             CC  ...          KG       USD   1200\n",
              "11   CC-1023       PR             CC  ...          KG       USD   1361\n",
              "12   MB-1031       PR             MB  ...          KG       USD    649\n",
              "13   MB-1032       PR             MB  ...          KG       USD   1299\n",
              "14   MB-1033       PR             MB  ...          KG       USD   3999\n",
              "15   MB-1034       PR             MB  ...          KG       USD   2499\n",
              "16   RC-1051       PR             RC  ...          KG       USD   2499\n",
              "17   RC-1052       PR             RC  ...          KG       USD   3999\n",
              "18   RC-1053       PR             RC  ...          KG       USD   4599\n",
              "19   RC-1054       PR             RC  ...          KG       USD   5499\n",
              "20   RC-1055       PR             RC  ...          KG       USD   1999\n",
              "21   RC-1056       PR             RC  ...          KG       USD   2499\n",
              "22   RC-1057       PR             RC  ...          KG       USD   4999\n",
              "23   DB-1081       PR             DB  ...          KG       USD   1499\n",
              "24   DB-1082       PR             DB  ...          KG       USD   1250\n",
              "25   DB-1083       PR             DB  ...          KG       USD   1199\n",
              "26   EB-1131       PR             EB  ...          KG       USD   1500\n",
              "27   EB-1132       PR             EB  ...          KG       USD   1900\n",
              "28   EB-1133       PR             EB  ...          KG       USD   2250\n",
              "29   EB-1134       PR             EB  ...          KG       USD   4800\n",
              "30   EB-1135       PR             EB  ...          KG       USD   3000\n",
              "31   EB-1136       PR             EB  ...          KG       USD   5000\n",
              "32   EB-1137       PR             EB  ...          KG       USD   7900\n",
              "33   CB-1161       PR             CB  ...          KG       USD    399\n",
              "34   CB-1162       PR             CB  ...          KG       USD    400\n",
              "35   CB-1163       PR             CB  ...          KG       USD    288\n",
              "36   HB-1171       PR             HB  ...          KG       USD    699\n",
              "37   HB-1172       PR             HB  ...          KG       USD    799\n",
              "38   HB-1173       PR             HB  ...          KG       USD    649\n",
              "39   HB-1174       PR             HB  ...          KG       USD    379\n",
              "40   HB-1175       PR             HB  ...          KG       USD    899\n",
              "41   HB-1176       PR             HB  ...          KG       USD   1199\n",
              "\n",
              "[42 rows x 14 columns]"
            ]
          },
          "metadata": {},
          "execution_count": 1710
        }
      ]
    },
    {
      "cell_type": "markdown",
      "metadata": {
        "id": "7mPcj8VKU1Kj"
      },
      "source": [
        "##### ตารางที่ 2 SalesOrderItems (ใช้ข้อมูล DELIVERYDATE)"
      ]
    },
    {
      "cell_type": "code",
      "metadata": {
        "colab": {
          "base_uri": "https://localhost:8080/",
          "height": 438
        },
        "id": "7m0zaxAIHNzZ",
        "outputId": "4d60fb14-86a8-4882-e188-d4dcc8e65d29"
      },
      "source": [
        "path = '/content/drive/My Drive/DPDM2021_DATA' #    เรียกข้อมูลจาก drive\n",
        "SalesOrderItems= pd.read_csv(os.path.join(path,'SalesOrderItems.csv')) # read ข้อมูลจาก Excel โดยใช้ คำสั่ง  pd.read_csv\n",
        "SalesOrderItems"
      ],
      "execution_count": 1711,
      "outputs": [
        {
          "output_type": "execute_result",
          "data": {
            "text/html": [
              "<div>\n",
              "<style scoped>\n",
              "    .dataframe tbody tr th:only-of-type {\n",
              "        vertical-align: middle;\n",
              "    }\n",
              "\n",
              "    .dataframe tbody tr th {\n",
              "        vertical-align: top;\n",
              "    }\n",
              "\n",
              "    .dataframe thead th {\n",
              "        text-align: right;\n",
              "    }\n",
              "</style>\n",
              "<table border=\"1\" class=\"dataframe\">\n",
              "  <thead>\n",
              "    <tr style=\"text-align: right;\">\n",
              "      <th></th>\n",
              "      <th>SALESORDERID</th>\n",
              "      <th>SALESORDERITEM</th>\n",
              "      <th>PRODUCTID</th>\n",
              "      <th>NOTEID</th>\n",
              "      <th>CURRENCY</th>\n",
              "      <th>GROSSAMOUNT</th>\n",
              "      <th>NETAMOUNT</th>\n",
              "      <th>TAXAMOUNT</th>\n",
              "      <th>ITEMATPSTATUS</th>\n",
              "      <th>OPITEMPOS</th>\n",
              "      <th>QUANTITY</th>\n",
              "      <th>QUANTITYUNIT</th>\n",
              "      <th>DELIVERYDATE</th>\n",
              "    </tr>\n",
              "  </thead>\n",
              "  <tbody>\n",
              "    <tr>\n",
              "      <th>0</th>\n",
              "      <td>500000000</td>\n",
              "      <td>10</td>\n",
              "      <td>MB-1034</td>\n",
              "      <td></td>\n",
              "      <td>USD</td>\n",
              "      <td>2499</td>\n",
              "      <td>2186.625</td>\n",
              "      <td>312.375</td>\n",
              "      <td>I</td>\n",
              "      <td>NaN</td>\n",
              "      <td>4</td>\n",
              "      <td>EA</td>\n",
              "      <td>20180311</td>\n",
              "    </tr>\n",
              "    <tr>\n",
              "      <th>1</th>\n",
              "      <td>500000000</td>\n",
              "      <td>20</td>\n",
              "      <td>CB-1161</td>\n",
              "      <td></td>\n",
              "      <td>USD</td>\n",
              "      <td>399</td>\n",
              "      <td>349.125</td>\n",
              "      <td>49.875</td>\n",
              "      <td>I</td>\n",
              "      <td>NaN</td>\n",
              "      <td>9</td>\n",
              "      <td>EA</td>\n",
              "      <td>20180311</td>\n",
              "    </tr>\n",
              "    <tr>\n",
              "      <th>2</th>\n",
              "      <td>500000001</td>\n",
              "      <td>10</td>\n",
              "      <td>HB-1175</td>\n",
              "      <td></td>\n",
              "      <td>USD</td>\n",
              "      <td>899</td>\n",
              "      <td>786.625</td>\n",
              "      <td>112.375</td>\n",
              "      <td>I</td>\n",
              "      <td>NaN</td>\n",
              "      <td>2</td>\n",
              "      <td>EA</td>\n",
              "      <td>20180228</td>\n",
              "    </tr>\n",
              "    <tr>\n",
              "      <th>3</th>\n",
              "      <td>500000001</td>\n",
              "      <td>20</td>\n",
              "      <td>RC-1056</td>\n",
              "      <td></td>\n",
              "      <td>USD</td>\n",
              "      <td>2499</td>\n",
              "      <td>2186.625</td>\n",
              "      <td>312.375</td>\n",
              "      <td>I</td>\n",
              "      <td>NaN</td>\n",
              "      <td>2</td>\n",
              "      <td>EA</td>\n",
              "      <td>20180228</td>\n",
              "    </tr>\n",
              "    <tr>\n",
              "      <th>4</th>\n",
              "      <td>500000001</td>\n",
              "      <td>30</td>\n",
              "      <td>CC-1021</td>\n",
              "      <td></td>\n",
              "      <td>USD</td>\n",
              "      <td>1144</td>\n",
              "      <td>1001.000</td>\n",
              "      <td>143.000</td>\n",
              "      <td>I</td>\n",
              "      <td>NaN</td>\n",
              "      <td>3</td>\n",
              "      <td>EA</td>\n",
              "      <td>20180228</td>\n",
              "    </tr>\n",
              "    <tr>\n",
              "      <th>...</th>\n",
              "      <td>...</td>\n",
              "      <td>...</td>\n",
              "      <td>...</td>\n",
              "      <td>...</td>\n",
              "      <td>...</td>\n",
              "      <td>...</td>\n",
              "      <td>...</td>\n",
              "      <td>...</td>\n",
              "      <td>...</td>\n",
              "      <td>...</td>\n",
              "      <td>...</td>\n",
              "      <td>...</td>\n",
              "      <td>...</td>\n",
              "    </tr>\n",
              "    <tr>\n",
              "      <th>1925</th>\n",
              "      <td>500000333</td>\n",
              "      <td>10</td>\n",
              "      <td>MB-1031</td>\n",
              "      <td></td>\n",
              "      <td>USD</td>\n",
              "      <td>649</td>\n",
              "      <td>567.875</td>\n",
              "      <td>81.125</td>\n",
              "      <td>I</td>\n",
              "      <td>NaN</td>\n",
              "      <td>10</td>\n",
              "      <td>EA</td>\n",
              "      <td>20190709</td>\n",
              "    </tr>\n",
              "    <tr>\n",
              "      <th>1926</th>\n",
              "      <td>500000333</td>\n",
              "      <td>20</td>\n",
              "      <td>BX-1013</td>\n",
              "      <td></td>\n",
              "      <td>USD</td>\n",
              "      <td>449</td>\n",
              "      <td>392.875</td>\n",
              "      <td>56.125</td>\n",
              "      <td>I</td>\n",
              "      <td>NaN</td>\n",
              "      <td>3</td>\n",
              "      <td>EA</td>\n",
              "      <td>20190709</td>\n",
              "    </tr>\n",
              "    <tr>\n",
              "      <th>1927</th>\n",
              "      <td>500000333</td>\n",
              "      <td>30</td>\n",
              "      <td>EB-1132</td>\n",
              "      <td></td>\n",
              "      <td>USD</td>\n",
              "      <td>1900</td>\n",
              "      <td>1662.500</td>\n",
              "      <td>237.500</td>\n",
              "      <td>I</td>\n",
              "      <td>NaN</td>\n",
              "      <td>3</td>\n",
              "      <td>EA</td>\n",
              "      <td>20190709</td>\n",
              "    </tr>\n",
              "    <tr>\n",
              "      <th>1928</th>\n",
              "      <td>500000333</td>\n",
              "      <td>40</td>\n",
              "      <td>BX-1011</td>\n",
              "      <td></td>\n",
              "      <td>USD</td>\n",
              "      <td>249</td>\n",
              "      <td>217.875</td>\n",
              "      <td>31.125</td>\n",
              "      <td>I</td>\n",
              "      <td>NaN</td>\n",
              "      <td>5</td>\n",
              "      <td>EA</td>\n",
              "      <td>20190709</td>\n",
              "    </tr>\n",
              "    <tr>\n",
              "      <th>1929</th>\n",
              "      <td>500000333</td>\n",
              "      <td>50</td>\n",
              "      <td>BX-1015</td>\n",
              "      <td></td>\n",
              "      <td>USD</td>\n",
              "      <td>299</td>\n",
              "      <td>261.625</td>\n",
              "      <td>37.375</td>\n",
              "      <td>I</td>\n",
              "      <td>NaN</td>\n",
              "      <td>6</td>\n",
              "      <td>EA</td>\n",
              "      <td>20190709</td>\n",
              "    </tr>\n",
              "  </tbody>\n",
              "</table>\n",
              "<p>1930 rows × 13 columns</p>\n",
              "</div>"
            ],
            "text/plain": [
              "      SALESORDERID  SALESORDERITEM  ... QUANTITYUNIT DELIVERYDATE\n",
              "0        500000000              10  ...           EA     20180311\n",
              "1        500000000              20  ...           EA     20180311\n",
              "2        500000001              10  ...           EA     20180228\n",
              "3        500000001              20  ...           EA     20180228\n",
              "4        500000001              30  ...           EA     20180228\n",
              "...            ...             ...  ...          ...          ...\n",
              "1925     500000333              10  ...           EA     20190709\n",
              "1926     500000333              20  ...           EA     20190709\n",
              "1927     500000333              30  ...           EA     20190709\n",
              "1928     500000333              40  ...           EA     20190709\n",
              "1929     500000333              50  ...           EA     20190709\n",
              "\n",
              "[1930 rows x 13 columns]"
            ]
          },
          "metadata": {},
          "execution_count": 1711
        }
      ]
    },
    {
      "cell_type": "markdown",
      "metadata": {
        "id": "eg-b8u3GVMI9"
      },
      "source": [
        "##### ตารางที่ 3 SalesOrders (ใช้ข้อมูล SALESORG)"
      ]
    },
    {
      "cell_type": "code",
      "metadata": {
        "colab": {
          "base_uri": "https://localhost:8080/",
          "height": 438
        },
        "id": "y0VRNnlMHcfP",
        "outputId": "c30cf3ad-1b3c-45a2-bb2c-6cd4b4746766"
      },
      "source": [
        "path = '/content/drive/My Drive/DPDM2021_DATA' #    เรียกข้อมูลจาก drive\n",
        "SalesOrders= pd.read_csv(os.path.join(path,'SalesOrders.csv')) # read ข้อมูลจาก Excel โดยใช้ คำสั่ง  pd.read_csv\n",
        "SalesOrders"
      ],
      "execution_count": 1712,
      "outputs": [
        {
          "output_type": "execute_result",
          "data": {
            "text/html": [
              "<div>\n",
              "<style scoped>\n",
              "    .dataframe tbody tr th:only-of-type {\n",
              "        vertical-align: middle;\n",
              "    }\n",
              "\n",
              "    .dataframe tbody tr th {\n",
              "        vertical-align: top;\n",
              "    }\n",
              "\n",
              "    .dataframe thead th {\n",
              "        text-align: right;\n",
              "    }\n",
              "</style>\n",
              "<table border=\"1\" class=\"dataframe\">\n",
              "  <thead>\n",
              "    <tr style=\"text-align: right;\">\n",
              "      <th></th>\n",
              "      <th>SALESORDERID</th>\n",
              "      <th>CREATEDBY</th>\n",
              "      <th>CREATEDAT</th>\n",
              "      <th>CHANGEDBY</th>\n",
              "      <th>CHANGEDAT</th>\n",
              "      <th>FISCALYEARPERIOD</th>\n",
              "      <th>NOTEID</th>\n",
              "      <th>PARTNERID</th>\n",
              "      <th>SALESORG</th>\n",
              "      <th>CURRENCY</th>\n",
              "      <th>GROSSAMOUNT</th>\n",
              "      <th>NETAMOUNT</th>\n",
              "      <th>TAXAMOUNT</th>\n",
              "    </tr>\n",
              "  </thead>\n",
              "  <tbody>\n",
              "    <tr>\n",
              "      <th>0</th>\n",
              "      <td>500000000</td>\n",
              "      <td>4</td>\n",
              "      <td>20180111</td>\n",
              "      <td>4</td>\n",
              "      <td>20180116</td>\n",
              "      <td>2018001</td>\n",
              "      <td>NaN</td>\n",
              "      <td>100000022</td>\n",
              "      <td>APJ</td>\n",
              "      <td>USD</td>\n",
              "      <td>13587</td>\n",
              "      <td>11888.625</td>\n",
              "      <td>1698.375</td>\n",
              "    </tr>\n",
              "    <tr>\n",
              "      <th>1</th>\n",
              "      <td>500000001</td>\n",
              "      <td>2</td>\n",
              "      <td>20180112</td>\n",
              "      <td>2</td>\n",
              "      <td>20180115</td>\n",
              "      <td>2018001</td>\n",
              "      <td>NaN</td>\n",
              "      <td>100000026</td>\n",
              "      <td>EMEA</td>\n",
              "      <td>USD</td>\n",
              "      <td>12622</td>\n",
              "      <td>11044.250</td>\n",
              "      <td>1577.750</td>\n",
              "    </tr>\n",
              "    <tr>\n",
              "      <th>2</th>\n",
              "      <td>500000002</td>\n",
              "      <td>5</td>\n",
              "      <td>20180115</td>\n",
              "      <td>5</td>\n",
              "      <td>20180120</td>\n",
              "      <td>2018001</td>\n",
              "      <td>NaN</td>\n",
              "      <td>100000018</td>\n",
              "      <td>APJ</td>\n",
              "      <td>USD</td>\n",
              "      <td>45655</td>\n",
              "      <td>39948.125</td>\n",
              "      <td>5706.875</td>\n",
              "    </tr>\n",
              "    <tr>\n",
              "      <th>3</th>\n",
              "      <td>500000003</td>\n",
              "      <td>3</td>\n",
              "      <td>20180115</td>\n",
              "      <td>3</td>\n",
              "      <td>20180120</td>\n",
              "      <td>2018001</td>\n",
              "      <td>NaN</td>\n",
              "      <td>100000009</td>\n",
              "      <td>EMEA</td>\n",
              "      <td>USD</td>\n",
              "      <td>101786</td>\n",
              "      <td>89062.750</td>\n",
              "      <td>12723.250</td>\n",
              "    </tr>\n",
              "    <tr>\n",
              "      <th>4</th>\n",
              "      <td>500000004</td>\n",
              "      <td>8</td>\n",
              "      <td>20180116</td>\n",
              "      <td>8</td>\n",
              "      <td>20180117</td>\n",
              "      <td>2018001</td>\n",
              "      <td>NaN</td>\n",
              "      <td>100000025</td>\n",
              "      <td>EMEA</td>\n",
              "      <td>USD</td>\n",
              "      <td>71684</td>\n",
              "      <td>62723.500</td>\n",
              "      <td>8960.500</td>\n",
              "    </tr>\n",
              "    <tr>\n",
              "      <th>...</th>\n",
              "      <td>...</td>\n",
              "      <td>...</td>\n",
              "      <td>...</td>\n",
              "      <td>...</td>\n",
              "      <td>...</td>\n",
              "      <td>...</td>\n",
              "      <td>...</td>\n",
              "      <td>...</td>\n",
              "      <td>...</td>\n",
              "      <td>...</td>\n",
              "      <td>...</td>\n",
              "      <td>...</td>\n",
              "      <td>...</td>\n",
              "    </tr>\n",
              "    <tr>\n",
              "      <th>329</th>\n",
              "      <td>500000329</td>\n",
              "      <td>7</td>\n",
              "      <td>20190619</td>\n",
              "      <td>7</td>\n",
              "      <td>20190620</td>\n",
              "      <td>2019006</td>\n",
              "      <td>NaN</td>\n",
              "      <td>100000031</td>\n",
              "      <td>AMER</td>\n",
              "      <td>USD</td>\n",
              "      <td>90621</td>\n",
              "      <td>79293.375</td>\n",
              "      <td>11327.625</td>\n",
              "    </tr>\n",
              "    <tr>\n",
              "      <th>330</th>\n",
              "      <td>500000330</td>\n",
              "      <td>11</td>\n",
              "      <td>20190622</td>\n",
              "      <td>11</td>\n",
              "      <td>20190626</td>\n",
              "      <td>2019006</td>\n",
              "      <td>NaN</td>\n",
              "      <td>100000000</td>\n",
              "      <td>AMER</td>\n",
              "      <td>USD</td>\n",
              "      <td>113871</td>\n",
              "      <td>99637.125</td>\n",
              "      <td>14233.875</td>\n",
              "    </tr>\n",
              "    <tr>\n",
              "      <th>331</th>\n",
              "      <td>500000331</td>\n",
              "      <td>3</td>\n",
              "      <td>20190625</td>\n",
              "      <td>3</td>\n",
              "      <td>20190626</td>\n",
              "      <td>2019006</td>\n",
              "      <td>NaN</td>\n",
              "      <td>100000009</td>\n",
              "      <td>EMEA</td>\n",
              "      <td>USD</td>\n",
              "      <td>12693</td>\n",
              "      <td>11106.375</td>\n",
              "      <td>1586.625</td>\n",
              "    </tr>\n",
              "    <tr>\n",
              "      <th>332</th>\n",
              "      <td>500000332</td>\n",
              "      <td>13</td>\n",
              "      <td>20190627</td>\n",
              "      <td>13</td>\n",
              "      <td>20190701</td>\n",
              "      <td>2019006</td>\n",
              "      <td>NaN</td>\n",
              "      <td>100000034</td>\n",
              "      <td>AMER</td>\n",
              "      <td>USD</td>\n",
              "      <td>70528</td>\n",
              "      <td>61712.000</td>\n",
              "      <td>8816.000</td>\n",
              "    </tr>\n",
              "    <tr>\n",
              "      <th>333</th>\n",
              "      <td>500000333</td>\n",
              "      <td>5</td>\n",
              "      <td>20190627</td>\n",
              "      <td>5</td>\n",
              "      <td>20190701</td>\n",
              "      <td>2019006</td>\n",
              "      <td>NaN</td>\n",
              "      <td>100000022</td>\n",
              "      <td>APJ</td>\n",
              "      <td>USD</td>\n",
              "      <td>16576</td>\n",
              "      <td>14504.000</td>\n",
              "      <td>2072.000</td>\n",
              "    </tr>\n",
              "  </tbody>\n",
              "</table>\n",
              "<p>334 rows × 13 columns</p>\n",
              "</div>"
            ],
            "text/plain": [
              "     SALESORDERID  CREATEDBY  CREATEDAT  ...  GROSSAMOUNT  NETAMOUNT  TAXAMOUNT\n",
              "0       500000000          4   20180111  ...        13587  11888.625   1698.375\n",
              "1       500000001          2   20180112  ...        12622  11044.250   1577.750\n",
              "2       500000002          5   20180115  ...        45655  39948.125   5706.875\n",
              "3       500000003          3   20180115  ...       101786  89062.750  12723.250\n",
              "4       500000004          8   20180116  ...        71684  62723.500   8960.500\n",
              "..            ...        ...        ...  ...          ...        ...        ...\n",
              "329     500000329          7   20190619  ...        90621  79293.375  11327.625\n",
              "330     500000330         11   20190622  ...       113871  99637.125  14233.875\n",
              "331     500000331          3   20190625  ...        12693  11106.375   1586.625\n",
              "332     500000332         13   20190627  ...        70528  61712.000   8816.000\n",
              "333     500000333          5   20190627  ...        16576  14504.000   2072.000\n",
              "\n",
              "[334 rows x 13 columns]"
            ]
          },
          "metadata": {},
          "execution_count": 1712
        }
      ]
    },
    {
      "cell_type": "markdown",
      "metadata": {
        "id": "yi-VeT0KVckR"
      },
      "source": [
        "###ขั้นที่ 2 เชื่อมตาราง โดยใช้ตาราง SalesOrderItems เป็นตารางหลัก\n"
      ]
    },
    {
      "cell_type": "markdown",
      "metadata": {
        "id": "SrCGSs5kVsVZ"
      },
      "source": [
        "##### เชื่อมตาราง SalesOrderItems และ Products  โดยใช้ PRODUCTID เป็นคีย์ เพื่อ map ข้อมูล PRODCATEGORYID (ชื่อชนิดสินค้า)"
      ]
    },
    {
      "cell_type": "code",
      "metadata": {
        "colab": {
          "base_uri": "https://localhost:8080/",
          "height": 438
        },
        "id": "wxy1kj7OJunA",
        "outputId": "cf7b704b-a468-4230-82dc-88e341622223"
      },
      "source": [
        "SalesOrderItems['name_product'] = SalesOrderItems['PRODUCTID'].map(Products.set_index('PRODUCTID')['PRODCATEGORYID']) \n",
        "SalesOrderItems"
      ],
      "execution_count": 1713,
      "outputs": [
        {
          "output_type": "execute_result",
          "data": {
            "text/html": [
              "<div>\n",
              "<style scoped>\n",
              "    .dataframe tbody tr th:only-of-type {\n",
              "        vertical-align: middle;\n",
              "    }\n",
              "\n",
              "    .dataframe tbody tr th {\n",
              "        vertical-align: top;\n",
              "    }\n",
              "\n",
              "    .dataframe thead th {\n",
              "        text-align: right;\n",
              "    }\n",
              "</style>\n",
              "<table border=\"1\" class=\"dataframe\">\n",
              "  <thead>\n",
              "    <tr style=\"text-align: right;\">\n",
              "      <th></th>\n",
              "      <th>SALESORDERID</th>\n",
              "      <th>SALESORDERITEM</th>\n",
              "      <th>PRODUCTID</th>\n",
              "      <th>NOTEID</th>\n",
              "      <th>CURRENCY</th>\n",
              "      <th>GROSSAMOUNT</th>\n",
              "      <th>NETAMOUNT</th>\n",
              "      <th>TAXAMOUNT</th>\n",
              "      <th>ITEMATPSTATUS</th>\n",
              "      <th>OPITEMPOS</th>\n",
              "      <th>QUANTITY</th>\n",
              "      <th>QUANTITYUNIT</th>\n",
              "      <th>DELIVERYDATE</th>\n",
              "      <th>name_product</th>\n",
              "    </tr>\n",
              "  </thead>\n",
              "  <tbody>\n",
              "    <tr>\n",
              "      <th>0</th>\n",
              "      <td>500000000</td>\n",
              "      <td>10</td>\n",
              "      <td>MB-1034</td>\n",
              "      <td></td>\n",
              "      <td>USD</td>\n",
              "      <td>2499</td>\n",
              "      <td>2186.625</td>\n",
              "      <td>312.375</td>\n",
              "      <td>I</td>\n",
              "      <td>NaN</td>\n",
              "      <td>4</td>\n",
              "      <td>EA</td>\n",
              "      <td>20180311</td>\n",
              "      <td>MB</td>\n",
              "    </tr>\n",
              "    <tr>\n",
              "      <th>1</th>\n",
              "      <td>500000000</td>\n",
              "      <td>20</td>\n",
              "      <td>CB-1161</td>\n",
              "      <td></td>\n",
              "      <td>USD</td>\n",
              "      <td>399</td>\n",
              "      <td>349.125</td>\n",
              "      <td>49.875</td>\n",
              "      <td>I</td>\n",
              "      <td>NaN</td>\n",
              "      <td>9</td>\n",
              "      <td>EA</td>\n",
              "      <td>20180311</td>\n",
              "      <td>CB</td>\n",
              "    </tr>\n",
              "    <tr>\n",
              "      <th>2</th>\n",
              "      <td>500000001</td>\n",
              "      <td>10</td>\n",
              "      <td>HB-1175</td>\n",
              "      <td></td>\n",
              "      <td>USD</td>\n",
              "      <td>899</td>\n",
              "      <td>786.625</td>\n",
              "      <td>112.375</td>\n",
              "      <td>I</td>\n",
              "      <td>NaN</td>\n",
              "      <td>2</td>\n",
              "      <td>EA</td>\n",
              "      <td>20180228</td>\n",
              "      <td>HB</td>\n",
              "    </tr>\n",
              "    <tr>\n",
              "      <th>3</th>\n",
              "      <td>500000001</td>\n",
              "      <td>20</td>\n",
              "      <td>RC-1056</td>\n",
              "      <td></td>\n",
              "      <td>USD</td>\n",
              "      <td>2499</td>\n",
              "      <td>2186.625</td>\n",
              "      <td>312.375</td>\n",
              "      <td>I</td>\n",
              "      <td>NaN</td>\n",
              "      <td>2</td>\n",
              "      <td>EA</td>\n",
              "      <td>20180228</td>\n",
              "      <td>RC</td>\n",
              "    </tr>\n",
              "    <tr>\n",
              "      <th>4</th>\n",
              "      <td>500000001</td>\n",
              "      <td>30</td>\n",
              "      <td>CC-1021</td>\n",
              "      <td></td>\n",
              "      <td>USD</td>\n",
              "      <td>1144</td>\n",
              "      <td>1001.000</td>\n",
              "      <td>143.000</td>\n",
              "      <td>I</td>\n",
              "      <td>NaN</td>\n",
              "      <td>3</td>\n",
              "      <td>EA</td>\n",
              "      <td>20180228</td>\n",
              "      <td>CC</td>\n",
              "    </tr>\n",
              "    <tr>\n",
              "      <th>...</th>\n",
              "      <td>...</td>\n",
              "      <td>...</td>\n",
              "      <td>...</td>\n",
              "      <td>...</td>\n",
              "      <td>...</td>\n",
              "      <td>...</td>\n",
              "      <td>...</td>\n",
              "      <td>...</td>\n",
              "      <td>...</td>\n",
              "      <td>...</td>\n",
              "      <td>...</td>\n",
              "      <td>...</td>\n",
              "      <td>...</td>\n",
              "      <td>...</td>\n",
              "    </tr>\n",
              "    <tr>\n",
              "      <th>1925</th>\n",
              "      <td>500000333</td>\n",
              "      <td>10</td>\n",
              "      <td>MB-1031</td>\n",
              "      <td></td>\n",
              "      <td>USD</td>\n",
              "      <td>649</td>\n",
              "      <td>567.875</td>\n",
              "      <td>81.125</td>\n",
              "      <td>I</td>\n",
              "      <td>NaN</td>\n",
              "      <td>10</td>\n",
              "      <td>EA</td>\n",
              "      <td>20190709</td>\n",
              "      <td>MB</td>\n",
              "    </tr>\n",
              "    <tr>\n",
              "      <th>1926</th>\n",
              "      <td>500000333</td>\n",
              "      <td>20</td>\n",
              "      <td>BX-1013</td>\n",
              "      <td></td>\n",
              "      <td>USD</td>\n",
              "      <td>449</td>\n",
              "      <td>392.875</td>\n",
              "      <td>56.125</td>\n",
              "      <td>I</td>\n",
              "      <td>NaN</td>\n",
              "      <td>3</td>\n",
              "      <td>EA</td>\n",
              "      <td>20190709</td>\n",
              "      <td>BX</td>\n",
              "    </tr>\n",
              "    <tr>\n",
              "      <th>1927</th>\n",
              "      <td>500000333</td>\n",
              "      <td>30</td>\n",
              "      <td>EB-1132</td>\n",
              "      <td></td>\n",
              "      <td>USD</td>\n",
              "      <td>1900</td>\n",
              "      <td>1662.500</td>\n",
              "      <td>237.500</td>\n",
              "      <td>I</td>\n",
              "      <td>NaN</td>\n",
              "      <td>3</td>\n",
              "      <td>EA</td>\n",
              "      <td>20190709</td>\n",
              "      <td>EB</td>\n",
              "    </tr>\n",
              "    <tr>\n",
              "      <th>1928</th>\n",
              "      <td>500000333</td>\n",
              "      <td>40</td>\n",
              "      <td>BX-1011</td>\n",
              "      <td></td>\n",
              "      <td>USD</td>\n",
              "      <td>249</td>\n",
              "      <td>217.875</td>\n",
              "      <td>31.125</td>\n",
              "      <td>I</td>\n",
              "      <td>NaN</td>\n",
              "      <td>5</td>\n",
              "      <td>EA</td>\n",
              "      <td>20190709</td>\n",
              "      <td>BX</td>\n",
              "    </tr>\n",
              "    <tr>\n",
              "      <th>1929</th>\n",
              "      <td>500000333</td>\n",
              "      <td>50</td>\n",
              "      <td>BX-1015</td>\n",
              "      <td></td>\n",
              "      <td>USD</td>\n",
              "      <td>299</td>\n",
              "      <td>261.625</td>\n",
              "      <td>37.375</td>\n",
              "      <td>I</td>\n",
              "      <td>NaN</td>\n",
              "      <td>6</td>\n",
              "      <td>EA</td>\n",
              "      <td>20190709</td>\n",
              "      <td>BX</td>\n",
              "    </tr>\n",
              "  </tbody>\n",
              "</table>\n",
              "<p>1930 rows × 14 columns</p>\n",
              "</div>"
            ],
            "text/plain": [
              "      SALESORDERID  SALESORDERITEM  ... DELIVERYDATE name_product\n",
              "0        500000000              10  ...     20180311           MB\n",
              "1        500000000              20  ...     20180311           CB\n",
              "2        500000001              10  ...     20180228           HB\n",
              "3        500000001              20  ...     20180228           RC\n",
              "4        500000001              30  ...     20180228           CC\n",
              "...            ...             ...  ...          ...          ...\n",
              "1925     500000333              10  ...     20190709           MB\n",
              "1926     500000333              20  ...     20190709           BX\n",
              "1927     500000333              30  ...     20190709           EB\n",
              "1928     500000333              40  ...     20190709           BX\n",
              "1929     500000333              50  ...     20190709           BX\n",
              "\n",
              "[1930 rows x 14 columns]"
            ]
          },
          "metadata": {},
          "execution_count": 1713
        }
      ]
    },
    {
      "cell_type": "markdown",
      "metadata": {
        "id": "kIyjT2y3WUOh"
      },
      "source": [
        "##### เชื่อมตาราง SalesOrderItems และ SalesOrders โดยใช้ SALEORDERID เป็นคีย์ เพื่อ map ข้อมูล SALESORG (ทวีปที่ตั้งขององค์กรคู่ค้า (partner))"
      ]
    },
    {
      "cell_type": "code",
      "metadata": {
        "colab": {
          "base_uri": "https://localhost:8080/",
          "height": 438
        },
        "id": "JHli-U8jJuiT",
        "outputId": "1b04183b-71f2-430b-bcab-145a44aa6d1c"
      },
      "source": [
        "SalesOrderItems['Region'] = SalesOrderItems['SALESORDERID'].map(SalesOrders.set_index('SALESORDERID')['SALESORG']) \n",
        "SalesOrderItems"
      ],
      "execution_count": 1714,
      "outputs": [
        {
          "output_type": "execute_result",
          "data": {
            "text/html": [
              "<div>\n",
              "<style scoped>\n",
              "    .dataframe tbody tr th:only-of-type {\n",
              "        vertical-align: middle;\n",
              "    }\n",
              "\n",
              "    .dataframe tbody tr th {\n",
              "        vertical-align: top;\n",
              "    }\n",
              "\n",
              "    .dataframe thead th {\n",
              "        text-align: right;\n",
              "    }\n",
              "</style>\n",
              "<table border=\"1\" class=\"dataframe\">\n",
              "  <thead>\n",
              "    <tr style=\"text-align: right;\">\n",
              "      <th></th>\n",
              "      <th>SALESORDERID</th>\n",
              "      <th>SALESORDERITEM</th>\n",
              "      <th>PRODUCTID</th>\n",
              "      <th>NOTEID</th>\n",
              "      <th>CURRENCY</th>\n",
              "      <th>GROSSAMOUNT</th>\n",
              "      <th>NETAMOUNT</th>\n",
              "      <th>TAXAMOUNT</th>\n",
              "      <th>ITEMATPSTATUS</th>\n",
              "      <th>OPITEMPOS</th>\n",
              "      <th>QUANTITY</th>\n",
              "      <th>QUANTITYUNIT</th>\n",
              "      <th>DELIVERYDATE</th>\n",
              "      <th>name_product</th>\n",
              "      <th>Region</th>\n",
              "    </tr>\n",
              "  </thead>\n",
              "  <tbody>\n",
              "    <tr>\n",
              "      <th>0</th>\n",
              "      <td>500000000</td>\n",
              "      <td>10</td>\n",
              "      <td>MB-1034</td>\n",
              "      <td></td>\n",
              "      <td>USD</td>\n",
              "      <td>2499</td>\n",
              "      <td>2186.625</td>\n",
              "      <td>312.375</td>\n",
              "      <td>I</td>\n",
              "      <td>NaN</td>\n",
              "      <td>4</td>\n",
              "      <td>EA</td>\n",
              "      <td>20180311</td>\n",
              "      <td>MB</td>\n",
              "      <td>APJ</td>\n",
              "    </tr>\n",
              "    <tr>\n",
              "      <th>1</th>\n",
              "      <td>500000000</td>\n",
              "      <td>20</td>\n",
              "      <td>CB-1161</td>\n",
              "      <td></td>\n",
              "      <td>USD</td>\n",
              "      <td>399</td>\n",
              "      <td>349.125</td>\n",
              "      <td>49.875</td>\n",
              "      <td>I</td>\n",
              "      <td>NaN</td>\n",
              "      <td>9</td>\n",
              "      <td>EA</td>\n",
              "      <td>20180311</td>\n",
              "      <td>CB</td>\n",
              "      <td>APJ</td>\n",
              "    </tr>\n",
              "    <tr>\n",
              "      <th>2</th>\n",
              "      <td>500000001</td>\n",
              "      <td>10</td>\n",
              "      <td>HB-1175</td>\n",
              "      <td></td>\n",
              "      <td>USD</td>\n",
              "      <td>899</td>\n",
              "      <td>786.625</td>\n",
              "      <td>112.375</td>\n",
              "      <td>I</td>\n",
              "      <td>NaN</td>\n",
              "      <td>2</td>\n",
              "      <td>EA</td>\n",
              "      <td>20180228</td>\n",
              "      <td>HB</td>\n",
              "      <td>EMEA</td>\n",
              "    </tr>\n",
              "    <tr>\n",
              "      <th>3</th>\n",
              "      <td>500000001</td>\n",
              "      <td>20</td>\n",
              "      <td>RC-1056</td>\n",
              "      <td></td>\n",
              "      <td>USD</td>\n",
              "      <td>2499</td>\n",
              "      <td>2186.625</td>\n",
              "      <td>312.375</td>\n",
              "      <td>I</td>\n",
              "      <td>NaN</td>\n",
              "      <td>2</td>\n",
              "      <td>EA</td>\n",
              "      <td>20180228</td>\n",
              "      <td>RC</td>\n",
              "      <td>EMEA</td>\n",
              "    </tr>\n",
              "    <tr>\n",
              "      <th>4</th>\n",
              "      <td>500000001</td>\n",
              "      <td>30</td>\n",
              "      <td>CC-1021</td>\n",
              "      <td></td>\n",
              "      <td>USD</td>\n",
              "      <td>1144</td>\n",
              "      <td>1001.000</td>\n",
              "      <td>143.000</td>\n",
              "      <td>I</td>\n",
              "      <td>NaN</td>\n",
              "      <td>3</td>\n",
              "      <td>EA</td>\n",
              "      <td>20180228</td>\n",
              "      <td>CC</td>\n",
              "      <td>EMEA</td>\n",
              "    </tr>\n",
              "    <tr>\n",
              "      <th>...</th>\n",
              "      <td>...</td>\n",
              "      <td>...</td>\n",
              "      <td>...</td>\n",
              "      <td>...</td>\n",
              "      <td>...</td>\n",
              "      <td>...</td>\n",
              "      <td>...</td>\n",
              "      <td>...</td>\n",
              "      <td>...</td>\n",
              "      <td>...</td>\n",
              "      <td>...</td>\n",
              "      <td>...</td>\n",
              "      <td>...</td>\n",
              "      <td>...</td>\n",
              "      <td>...</td>\n",
              "    </tr>\n",
              "    <tr>\n",
              "      <th>1925</th>\n",
              "      <td>500000333</td>\n",
              "      <td>10</td>\n",
              "      <td>MB-1031</td>\n",
              "      <td></td>\n",
              "      <td>USD</td>\n",
              "      <td>649</td>\n",
              "      <td>567.875</td>\n",
              "      <td>81.125</td>\n",
              "      <td>I</td>\n",
              "      <td>NaN</td>\n",
              "      <td>10</td>\n",
              "      <td>EA</td>\n",
              "      <td>20190709</td>\n",
              "      <td>MB</td>\n",
              "      <td>APJ</td>\n",
              "    </tr>\n",
              "    <tr>\n",
              "      <th>1926</th>\n",
              "      <td>500000333</td>\n",
              "      <td>20</td>\n",
              "      <td>BX-1013</td>\n",
              "      <td></td>\n",
              "      <td>USD</td>\n",
              "      <td>449</td>\n",
              "      <td>392.875</td>\n",
              "      <td>56.125</td>\n",
              "      <td>I</td>\n",
              "      <td>NaN</td>\n",
              "      <td>3</td>\n",
              "      <td>EA</td>\n",
              "      <td>20190709</td>\n",
              "      <td>BX</td>\n",
              "      <td>APJ</td>\n",
              "    </tr>\n",
              "    <tr>\n",
              "      <th>1927</th>\n",
              "      <td>500000333</td>\n",
              "      <td>30</td>\n",
              "      <td>EB-1132</td>\n",
              "      <td></td>\n",
              "      <td>USD</td>\n",
              "      <td>1900</td>\n",
              "      <td>1662.500</td>\n",
              "      <td>237.500</td>\n",
              "      <td>I</td>\n",
              "      <td>NaN</td>\n",
              "      <td>3</td>\n",
              "      <td>EA</td>\n",
              "      <td>20190709</td>\n",
              "      <td>EB</td>\n",
              "      <td>APJ</td>\n",
              "    </tr>\n",
              "    <tr>\n",
              "      <th>1928</th>\n",
              "      <td>500000333</td>\n",
              "      <td>40</td>\n",
              "      <td>BX-1011</td>\n",
              "      <td></td>\n",
              "      <td>USD</td>\n",
              "      <td>249</td>\n",
              "      <td>217.875</td>\n",
              "      <td>31.125</td>\n",
              "      <td>I</td>\n",
              "      <td>NaN</td>\n",
              "      <td>5</td>\n",
              "      <td>EA</td>\n",
              "      <td>20190709</td>\n",
              "      <td>BX</td>\n",
              "      <td>APJ</td>\n",
              "    </tr>\n",
              "    <tr>\n",
              "      <th>1929</th>\n",
              "      <td>500000333</td>\n",
              "      <td>50</td>\n",
              "      <td>BX-1015</td>\n",
              "      <td></td>\n",
              "      <td>USD</td>\n",
              "      <td>299</td>\n",
              "      <td>261.625</td>\n",
              "      <td>37.375</td>\n",
              "      <td>I</td>\n",
              "      <td>NaN</td>\n",
              "      <td>6</td>\n",
              "      <td>EA</td>\n",
              "      <td>20190709</td>\n",
              "      <td>BX</td>\n",
              "      <td>APJ</td>\n",
              "    </tr>\n",
              "  </tbody>\n",
              "</table>\n",
              "<p>1930 rows × 15 columns</p>\n",
              "</div>"
            ],
            "text/plain": [
              "      SALESORDERID  SALESORDERITEM PRODUCTID  ... DELIVERYDATE name_product  Region\n",
              "0        500000000              10   MB-1034  ...     20180311           MB     APJ\n",
              "1        500000000              20   CB-1161  ...     20180311           CB     APJ\n",
              "2        500000001              10   HB-1175  ...     20180228           HB    EMEA\n",
              "3        500000001              20   RC-1056  ...     20180228           RC    EMEA\n",
              "4        500000001              30   CC-1021  ...     20180228           CC    EMEA\n",
              "...            ...             ...       ...  ...          ...          ...     ...\n",
              "1925     500000333              10   MB-1031  ...     20190709           MB     APJ\n",
              "1926     500000333              20   BX-1013  ...     20190709           BX     APJ\n",
              "1927     500000333              30   EB-1132  ...     20190709           EB     APJ\n",
              "1928     500000333              40   BX-1011  ...     20190709           BX     APJ\n",
              "1929     500000333              50   BX-1015  ...     20190709           BX     APJ\n",
              "\n",
              "[1930 rows x 15 columns]"
            ]
          },
          "metadata": {},
          "execution_count": 1714
        }
      ]
    },
    {
      "cell_type": "markdown",
      "metadata": {
        "id": "81DZz-aElO16"
      },
      "source": [
        "#####แปลงข้อมูล ทวีปเป็นตัวเลข"
      ]
    },
    {
      "cell_type": "code",
      "metadata": {
        "id": "eT-jdjQ3lVfP"
      },
      "source": [
        " dw_mapping={'APJ':1, 'EMEA':2, 'AMER':3}\n",
        "SalesOrderItems['Name_Region']=SalesOrderItems['Region'].map(dw_mapping)"
      ],
      "execution_count": 1715,
      "outputs": []
    },
    {
      "cell_type": "markdown",
      "metadata": {
        "id": "seIM9YccXqxk"
      },
      "source": [
        "###ขั้นตอนที่ 3 จัดการข้อมูลวันที่"
      ]
    },
    {
      "cell_type": "code",
      "metadata": {
        "colab": {
          "base_uri": "https://localhost:8080/"
        },
        "id": "tp4sS9kTYWz7",
        "outputId": "b5143991-6b3e-45f6-922c-f89675964a9b"
      },
      "source": [
        "set(SalesOrderItems['DELIVERYDATE']) #ดูว่ามีวันแปลกๆหรือไม่"
      ],
      "execution_count": 1716,
      "outputs": [
        {
          "output_type": "execute_result",
          "data": {
            "text/plain": [
              "{20180223,\n",
              " 20180225,\n",
              " 20180228,\n",
              " 20180301,\n",
              " 20180305,\n",
              " 20180307,\n",
              " 20180308,\n",
              " 20180309,\n",
              " 20180311,\n",
              " 20180314,\n",
              " 20180315,\n",
              " 20180317,\n",
              " 20180321,\n",
              " 20180322,\n",
              " 20180323,\n",
              " 20180325,\n",
              " 20180328,\n",
              " 20180330,\n",
              " 20180401,\n",
              " 20180402,\n",
              " 20180403,\n",
              " 20180408,\n",
              " 20180411,\n",
              " 20180412,\n",
              " 20180414,\n",
              " 20180419,\n",
              " 20180420,\n",
              " 20180421,\n",
              " 20180424,\n",
              " 20180425,\n",
              " 20180429,\n",
              " 20180430,\n",
              " 20180501,\n",
              " 20180503,\n",
              " 20180504,\n",
              " 20180505,\n",
              " 20180507,\n",
              " 20180508,\n",
              " 20180511,\n",
              " 20180512,\n",
              " 20180518,\n",
              " 20180527,\n",
              " 20180528,\n",
              " 20180529,\n",
              " 20180530,\n",
              " 20180531,\n",
              " 20180601,\n",
              " 20180604,\n",
              " 20180606,\n",
              " 20180608,\n",
              " 20180612,\n",
              " 20180617,\n",
              " 20180618,\n",
              " 20180620,\n",
              " 20180621,\n",
              " 20180622,\n",
              " 20180627,\n",
              " 20180701,\n",
              " 20180703,\n",
              " 20180706,\n",
              " 20180708,\n",
              " 20180709,\n",
              " 20180712,\n",
              " 20180713,\n",
              " 20180715,\n",
              " 20180716,\n",
              " 20180718,\n",
              " 20180719,\n",
              " 20180720,\n",
              " 20180721,\n",
              " 20180729,\n",
              " 20180730,\n",
              " 20180731,\n",
              " 20180801,\n",
              " 20180803,\n",
              " 20180806,\n",
              " 20180807,\n",
              " 20180808,\n",
              " 20180809,\n",
              " 20180810,\n",
              " 20180811,\n",
              " 20180820,\n",
              " 20180822,\n",
              " 20180823,\n",
              " 20180824,\n",
              " 20180828,\n",
              " 20180829,\n",
              " 20180902,\n",
              " 20180903,\n",
              " 20180906,\n",
              " 20180908,\n",
              " 20180909,\n",
              " 20180911,\n",
              " 20180913,\n",
              " 20180914,\n",
              " 20180917,\n",
              " 20180920,\n",
              " 20180921,\n",
              " 20180926,\n",
              " 20180927,\n",
              " 20180930,\n",
              " 20181004,\n",
              " 20181006,\n",
              " 20181007,\n",
              " 20181009,\n",
              " 20181010,\n",
              " 20181013,\n",
              " 20181014,\n",
              " 20181015,\n",
              " 20181016,\n",
              " 20181017,\n",
              " 20181020,\n",
              " 20181023,\n",
              " 20181026,\n",
              " 20181028,\n",
              " 20181031,\n",
              " 20181103,\n",
              " 20181106,\n",
              " 20181107,\n",
              " 20181108,\n",
              " 20181110,\n",
              " 20181111,\n",
              " 20181113,\n",
              " 20181114,\n",
              " 20181116,\n",
              " 20181124,\n",
              " 20181125,\n",
              " 20181126,\n",
              " 20181127,\n",
              " 20181130,\n",
              " 20181203,\n",
              " 20181204,\n",
              " 20181205,\n",
              " 20181207,\n",
              " 20181208,\n",
              " 20181211,\n",
              " 20181214,\n",
              " 20181215,\n",
              " 20181217,\n",
              " 20181219,\n",
              " 20181221,\n",
              " 20181223,\n",
              " 20181226,\n",
              " 20181227,\n",
              " 20181228,\n",
              " 20190101,\n",
              " 20190102,\n",
              " 20190103,\n",
              " 20190108,\n",
              " 20190109,\n",
              " 20190113,\n",
              " 20190114,\n",
              " 20190115,\n",
              " 20190117,\n",
              " 20190118,\n",
              " 20190119,\n",
              " 20190120,\n",
              " 20190121,\n",
              " 20190122,\n",
              " 20190123,\n",
              " 20190125,\n",
              " 20190127,\n",
              " 20190128,\n",
              " 20190202,\n",
              " 20190203,\n",
              " 20190205,\n",
              " 20190209,\n",
              " 20190211,\n",
              " 20190212,\n",
              " 20190213,\n",
              " 20190218,\n",
              " 20190219,\n",
              " 20190228,\n",
              " 20190302,\n",
              " 20190304,\n",
              " 20190305,\n",
              " 20190307,\n",
              " 20190309,\n",
              " 20190310,\n",
              " 20190311,\n",
              " 20190312,\n",
              " 20190313,\n",
              " 20190315,\n",
              " 20190316,\n",
              " 20190319,\n",
              " 20190320,\n",
              " 20190327,\n",
              " 20190401,\n",
              " 20190402,\n",
              " 20190406,\n",
              " 20190407,\n",
              " 20190408,\n",
              " 20190413,\n",
              " 20190414,\n",
              " 20190415,\n",
              " 20190416,\n",
              " 20190422,\n",
              " 20190423,\n",
              " 20190424,\n",
              " 20190427,\n",
              " 20190428,\n",
              " 20190429,\n",
              " 20190503,\n",
              " 20190508,\n",
              " 20190510,\n",
              " 20190511,\n",
              " 20190512,\n",
              " 20190513,\n",
              " 20190515,\n",
              " 20190517,\n",
              " 20190518,\n",
              " 20190519,\n",
              " 20190520,\n",
              " 20190524,\n",
              " 20190525,\n",
              " 20190526,\n",
              " 20190530,\n",
              " 20190531,\n",
              " 20190603,\n",
              " 20190604,\n",
              " 20190605,\n",
              " 20190606,\n",
              " 20190608,\n",
              " 20190610,\n",
              " 20190613,\n",
              " 20190614,\n",
              " 20190616,\n",
              " 20190617,\n",
              " 20190619,\n",
              " 20190620,\n",
              " 20190621,\n",
              " 20190622,\n",
              " 20190625,\n",
              " 20190627,\n",
              " 20190628,\n",
              " 20190630,\n",
              " 20190708,\n",
              " 20190709,\n",
              " 29991212}"
            ]
          },
          "metadata": {},
          "execution_count": 1716
        }
      ]
    },
    {
      "cell_type": "markdown",
      "metadata": {
        "id": "7hsZxkb5X13Z"
      },
      "source": [
        "##### พบว่ามีวันที่ ที่มี ปี ค.ศ. ผิด จึงแปลงเป็นปี 2019 เนื่องจาก มีเพียง 2 ปี (2018-2019) ปี 2999 จึงน่าจะเป็นปี 2019"
      ]
    },
    {
      "cell_type": "code",
      "metadata": {
        "id": "WzV2gW-NRwh7"
      },
      "source": [
        "A=SalesOrderItems[SalesOrderItems['DELIVERYDATE']==29991212] #เลือกเฉพาะ 29991212 ที่ปี ค.ศ.ผิด"
      ],
      "execution_count": 1717,
      "outputs": []
    },
    {
      "cell_type": "code",
      "metadata": {
        "colab": {
          "base_uri": "https://localhost:8080/"
        },
        "id": "-vVZlCdHRwdZ",
        "outputId": "a1ecbd74-60e4-45eb-fd80-2321981e95a6"
      },
      "source": [
        "A['DELIVERYDATE']=int(20191212) # แทนปี 20191212 แทนปี 29991212"
      ],
      "execution_count": 1718,
      "outputs": [
        {
          "output_type": "stream",
          "name": "stderr",
          "text": [
            "/usr/local/lib/python3.7/dist-packages/ipykernel_launcher.py:1: SettingWithCopyWarning: \n",
            "A value is trying to be set on a copy of a slice from a DataFrame.\n",
            "Try using .loc[row_indexer,col_indexer] = value instead\n",
            "\n",
            "See the caveats in the documentation: https://pandas.pydata.org/pandas-docs/stable/user_guide/indexing.html#returning-a-view-versus-a-copy\n",
            "  \"\"\"Entry point for launching an IPython kernel.\n"
          ]
        }
      ]
    },
    {
      "cell_type": "code",
      "metadata": {
        "colab": {
          "base_uri": "https://localhost:8080/",
          "height": 0
        },
        "id": "phZEgtDzZfNl",
        "outputId": "2c7dd2b3-b139-4d21-9568-84e11807b70b"
      },
      "source": [
        "A # ดูข้อมูล"
      ],
      "execution_count": 1719,
      "outputs": [
        {
          "output_type": "execute_result",
          "data": {
            "text/html": [
              "<div>\n",
              "<style scoped>\n",
              "    .dataframe tbody tr th:only-of-type {\n",
              "        vertical-align: middle;\n",
              "    }\n",
              "\n",
              "    .dataframe tbody tr th {\n",
              "        vertical-align: top;\n",
              "    }\n",
              "\n",
              "    .dataframe thead th {\n",
              "        text-align: right;\n",
              "    }\n",
              "</style>\n",
              "<table border=\"1\" class=\"dataframe\">\n",
              "  <thead>\n",
              "    <tr style=\"text-align: right;\">\n",
              "      <th></th>\n",
              "      <th>SALESORDERID</th>\n",
              "      <th>SALESORDERITEM</th>\n",
              "      <th>PRODUCTID</th>\n",
              "      <th>NOTEID</th>\n",
              "      <th>CURRENCY</th>\n",
              "      <th>GROSSAMOUNT</th>\n",
              "      <th>NETAMOUNT</th>\n",
              "      <th>TAXAMOUNT</th>\n",
              "      <th>ITEMATPSTATUS</th>\n",
              "      <th>OPITEMPOS</th>\n",
              "      <th>QUANTITY</th>\n",
              "      <th>QUANTITYUNIT</th>\n",
              "      <th>DELIVERYDATE</th>\n",
              "      <th>name_product</th>\n",
              "      <th>Region</th>\n",
              "      <th>Name_Region</th>\n",
              "    </tr>\n",
              "  </thead>\n",
              "  <tbody>\n",
              "    <tr>\n",
              "      <th>618</th>\n",
              "      <td>500000112</td>\n",
              "      <td>10</td>\n",
              "      <td>HB-1173</td>\n",
              "      <td></td>\n",
              "      <td>USD</td>\n",
              "      <td>649</td>\n",
              "      <td>567.875</td>\n",
              "      <td>81.125</td>\n",
              "      <td>I</td>\n",
              "      <td>NaN</td>\n",
              "      <td>10</td>\n",
              "      <td>EA</td>\n",
              "      <td>20191212</td>\n",
              "      <td>HB</td>\n",
              "      <td>APJ</td>\n",
              "      <td>1</td>\n",
              "    </tr>\n",
              "    <tr>\n",
              "      <th>619</th>\n",
              "      <td>500000112</td>\n",
              "      <td>20</td>\n",
              "      <td>DB-1082</td>\n",
              "      <td></td>\n",
              "      <td>USD</td>\n",
              "      <td>1250</td>\n",
              "      <td>1093.750</td>\n",
              "      <td>156.250</td>\n",
              "      <td>I</td>\n",
              "      <td>NaN</td>\n",
              "      <td>7</td>\n",
              "      <td>EA</td>\n",
              "      <td>20191212</td>\n",
              "      <td>DB</td>\n",
              "      <td>APJ</td>\n",
              "      <td>1</td>\n",
              "    </tr>\n",
              "    <tr>\n",
              "      <th>620</th>\n",
              "      <td>500000112</td>\n",
              "      <td>30</td>\n",
              "      <td>BX-1013</td>\n",
              "      <td></td>\n",
              "      <td>USD</td>\n",
              "      <td>449</td>\n",
              "      <td>392.875</td>\n",
              "      <td>56.125</td>\n",
              "      <td>I</td>\n",
              "      <td>NaN</td>\n",
              "      <td>5</td>\n",
              "      <td>EA</td>\n",
              "      <td>20191212</td>\n",
              "      <td>BX</td>\n",
              "      <td>APJ</td>\n",
              "      <td>1</td>\n",
              "    </tr>\n",
              "    <tr>\n",
              "      <th>621</th>\n",
              "      <td>500000112</td>\n",
              "      <td>40</td>\n",
              "      <td>DB-1082</td>\n",
              "      <td></td>\n",
              "      <td>USD</td>\n",
              "      <td>1250</td>\n",
              "      <td>1093.750</td>\n",
              "      <td>156.250</td>\n",
              "      <td>I</td>\n",
              "      <td>NaN</td>\n",
              "      <td>5</td>\n",
              "      <td>EA</td>\n",
              "      <td>20191212</td>\n",
              "      <td>DB</td>\n",
              "      <td>APJ</td>\n",
              "      <td>1</td>\n",
              "    </tr>\n",
              "    <tr>\n",
              "      <th>622</th>\n",
              "      <td>500000112</td>\n",
              "      <td>50</td>\n",
              "      <td>RC-1054</td>\n",
              "      <td></td>\n",
              "      <td>USD</td>\n",
              "      <td>5499</td>\n",
              "      <td>4811.625</td>\n",
              "      <td>687.375</td>\n",
              "      <td>I</td>\n",
              "      <td>NaN</td>\n",
              "      <td>2</td>\n",
              "      <td>EA</td>\n",
              "      <td>20191212</td>\n",
              "      <td>RC</td>\n",
              "      <td>APJ</td>\n",
              "      <td>1</td>\n",
              "    </tr>\n",
              "    <tr>\n",
              "      <th>623</th>\n",
              "      <td>500000112</td>\n",
              "      <td>60</td>\n",
              "      <td>MB-1033</td>\n",
              "      <td></td>\n",
              "      <td>USD</td>\n",
              "      <td>3999</td>\n",
              "      <td>3499.125</td>\n",
              "      <td>499.875</td>\n",
              "      <td>I</td>\n",
              "      <td>NaN</td>\n",
              "      <td>4</td>\n",
              "      <td>EA</td>\n",
              "      <td>20191212</td>\n",
              "      <td>MB</td>\n",
              "      <td>APJ</td>\n",
              "      <td>1</td>\n",
              "    </tr>\n",
              "    <tr>\n",
              "      <th>624</th>\n",
              "      <td>500000112</td>\n",
              "      <td>70</td>\n",
              "      <td>CB-1163</td>\n",
              "      <td></td>\n",
              "      <td>USD</td>\n",
              "      <td>288</td>\n",
              "      <td>252.000</td>\n",
              "      <td>36.000</td>\n",
              "      <td>I</td>\n",
              "      <td>NaN</td>\n",
              "      <td>7</td>\n",
              "      <td>EA</td>\n",
              "      <td>20191212</td>\n",
              "      <td>CB</td>\n",
              "      <td>APJ</td>\n",
              "      <td>1</td>\n",
              "    </tr>\n",
              "    <tr>\n",
              "      <th>625</th>\n",
              "      <td>500000112</td>\n",
              "      <td>80</td>\n",
              "      <td>EB-1134</td>\n",
              "      <td></td>\n",
              "      <td>USD</td>\n",
              "      <td>4800</td>\n",
              "      <td>4200.000</td>\n",
              "      <td>600.000</td>\n",
              "      <td>I</td>\n",
              "      <td>NaN</td>\n",
              "      <td>1</td>\n",
              "      <td>EA</td>\n",
              "      <td>20191212</td>\n",
              "      <td>EB</td>\n",
              "      <td>APJ</td>\n",
              "      <td>1</td>\n",
              "    </tr>\n",
              "    <tr>\n",
              "      <th>626</th>\n",
              "      <td>500000112</td>\n",
              "      <td>90</td>\n",
              "      <td>CC-1023</td>\n",
              "      <td></td>\n",
              "      <td>USD</td>\n",
              "      <td>1361</td>\n",
              "      <td>1190.875</td>\n",
              "      <td>170.125</td>\n",
              "      <td>I</td>\n",
              "      <td>NaN</td>\n",
              "      <td>3</td>\n",
              "      <td>EA</td>\n",
              "      <td>20191212</td>\n",
              "      <td>CC</td>\n",
              "      <td>APJ</td>\n",
              "      <td>1</td>\n",
              "    </tr>\n",
              "    <tr>\n",
              "      <th>627</th>\n",
              "      <td>500000112</td>\n",
              "      <td>100</td>\n",
              "      <td>CB-1163</td>\n",
              "      <td></td>\n",
              "      <td>USD</td>\n",
              "      <td>288</td>\n",
              "      <td>252.000</td>\n",
              "      <td>36.000</td>\n",
              "      <td>I</td>\n",
              "      <td>NaN</td>\n",
              "      <td>2</td>\n",
              "      <td>EA</td>\n",
              "      <td>20191212</td>\n",
              "      <td>CB</td>\n",
              "      <td>APJ</td>\n",
              "      <td>1</td>\n",
              "    </tr>\n",
              "    <tr>\n",
              "      <th>933</th>\n",
              "      <td>500000164</td>\n",
              "      <td>10</td>\n",
              "      <td>RC-1055</td>\n",
              "      <td></td>\n",
              "      <td>USD</td>\n",
              "      <td>1999</td>\n",
              "      <td>1749.125</td>\n",
              "      <td>249.875</td>\n",
              "      <td>I</td>\n",
              "      <td>NaN</td>\n",
              "      <td>7</td>\n",
              "      <td>EA</td>\n",
              "      <td>20191212</td>\n",
              "      <td>RC</td>\n",
              "      <td>AMER</td>\n",
              "      <td>3</td>\n",
              "    </tr>\n",
              "    <tr>\n",
              "      <th>934</th>\n",
              "      <td>500000164</td>\n",
              "      <td>20</td>\n",
              "      <td>EB-1132</td>\n",
              "      <td></td>\n",
              "      <td>USD</td>\n",
              "      <td>1900</td>\n",
              "      <td>1662.500</td>\n",
              "      <td>237.500</td>\n",
              "      <td>I</td>\n",
              "      <td>NaN</td>\n",
              "      <td>9</td>\n",
              "      <td>EA</td>\n",
              "      <td>20191212</td>\n",
              "      <td>EB</td>\n",
              "      <td>AMER</td>\n",
              "      <td>3</td>\n",
              "    </tr>\n",
              "    <tr>\n",
              "      <th>935</th>\n",
              "      <td>500000164</td>\n",
              "      <td>30</td>\n",
              "      <td>CC-1023</td>\n",
              "      <td></td>\n",
              "      <td>USD</td>\n",
              "      <td>1361</td>\n",
              "      <td>1190.875</td>\n",
              "      <td>170.125</td>\n",
              "      <td>I</td>\n",
              "      <td>NaN</td>\n",
              "      <td>1</td>\n",
              "      <td>EA</td>\n",
              "      <td>20191212</td>\n",
              "      <td>CC</td>\n",
              "      <td>AMER</td>\n",
              "      <td>3</td>\n",
              "    </tr>\n",
              "    <tr>\n",
              "      <th>936</th>\n",
              "      <td>500000164</td>\n",
              "      <td>40</td>\n",
              "      <td>BX-1012</td>\n",
              "      <td></td>\n",
              "      <td>USD</td>\n",
              "      <td>399</td>\n",
              "      <td>349.125</td>\n",
              "      <td>49.875</td>\n",
              "      <td>I</td>\n",
              "      <td>NaN</td>\n",
              "      <td>2</td>\n",
              "      <td>EA</td>\n",
              "      <td>20191212</td>\n",
              "      <td>BX</td>\n",
              "      <td>AMER</td>\n",
              "      <td>3</td>\n",
              "    </tr>\n",
              "    <tr>\n",
              "      <th>1784</th>\n",
              "      <td>500000308</td>\n",
              "      <td>10</td>\n",
              "      <td>RC-1055</td>\n",
              "      <td></td>\n",
              "      <td>USD</td>\n",
              "      <td>1999</td>\n",
              "      <td>1749.125</td>\n",
              "      <td>249.875</td>\n",
              "      <td>I</td>\n",
              "      <td>NaN</td>\n",
              "      <td>7</td>\n",
              "      <td>EA</td>\n",
              "      <td>20191212</td>\n",
              "      <td>RC</td>\n",
              "      <td>AMER</td>\n",
              "      <td>3</td>\n",
              "    </tr>\n",
              "    <tr>\n",
              "      <th>1785</th>\n",
              "      <td>500000308</td>\n",
              "      <td>20</td>\n",
              "      <td>MB-1034</td>\n",
              "      <td></td>\n",
              "      <td>USD</td>\n",
              "      <td>2499</td>\n",
              "      <td>2186.625</td>\n",
              "      <td>312.375</td>\n",
              "      <td>I</td>\n",
              "      <td>NaN</td>\n",
              "      <td>9</td>\n",
              "      <td>EA</td>\n",
              "      <td>20191212</td>\n",
              "      <td>MB</td>\n",
              "      <td>AMER</td>\n",
              "      <td>3</td>\n",
              "    </tr>\n",
              "    <tr>\n",
              "      <th>1786</th>\n",
              "      <td>500000308</td>\n",
              "      <td>30</td>\n",
              "      <td>CB-1163</td>\n",
              "      <td></td>\n",
              "      <td>USD</td>\n",
              "      <td>288</td>\n",
              "      <td>252.000</td>\n",
              "      <td>36.000</td>\n",
              "      <td>I</td>\n",
              "      <td>NaN</td>\n",
              "      <td>5</td>\n",
              "      <td>EA</td>\n",
              "      <td>20191212</td>\n",
              "      <td>CB</td>\n",
              "      <td>AMER</td>\n",
              "      <td>3</td>\n",
              "    </tr>\n",
              "    <tr>\n",
              "      <th>1787</th>\n",
              "      <td>500000308</td>\n",
              "      <td>40</td>\n",
              "      <td>CC-1023</td>\n",
              "      <td></td>\n",
              "      <td>USD</td>\n",
              "      <td>1361</td>\n",
              "      <td>1190.875</td>\n",
              "      <td>170.125</td>\n",
              "      <td>I</td>\n",
              "      <td>NaN</td>\n",
              "      <td>3</td>\n",
              "      <td>EA</td>\n",
              "      <td>20191212</td>\n",
              "      <td>CC</td>\n",
              "      <td>AMER</td>\n",
              "      <td>3</td>\n",
              "    </tr>\n",
              "    <tr>\n",
              "      <th>1788</th>\n",
              "      <td>500000308</td>\n",
              "      <td>50</td>\n",
              "      <td>MB-1033</td>\n",
              "      <td></td>\n",
              "      <td>USD</td>\n",
              "      <td>3999</td>\n",
              "      <td>3499.125</td>\n",
              "      <td>499.875</td>\n",
              "      <td>I</td>\n",
              "      <td>NaN</td>\n",
              "      <td>5</td>\n",
              "      <td>EA</td>\n",
              "      <td>20191212</td>\n",
              "      <td>MB</td>\n",
              "      <td>AMER</td>\n",
              "      <td>3</td>\n",
              "    </tr>\n",
              "    <tr>\n",
              "      <th>1789</th>\n",
              "      <td>500000308</td>\n",
              "      <td>60</td>\n",
              "      <td>CC-1023</td>\n",
              "      <td></td>\n",
              "      <td>USD</td>\n",
              "      <td>1361</td>\n",
              "      <td>1190.875</td>\n",
              "      <td>170.125</td>\n",
              "      <td>I</td>\n",
              "      <td>NaN</td>\n",
              "      <td>8</td>\n",
              "      <td>EA</td>\n",
              "      <td>20191212</td>\n",
              "      <td>CC</td>\n",
              "      <td>AMER</td>\n",
              "      <td>3</td>\n",
              "    </tr>\n",
              "    <tr>\n",
              "      <th>1790</th>\n",
              "      <td>500000308</td>\n",
              "      <td>70</td>\n",
              "      <td>EB-1137</td>\n",
              "      <td></td>\n",
              "      <td>USD</td>\n",
              "      <td>7900</td>\n",
              "      <td>6912.500</td>\n",
              "      <td>987.500</td>\n",
              "      <td>I</td>\n",
              "      <td>NaN</td>\n",
              "      <td>8</td>\n",
              "      <td>EA</td>\n",
              "      <td>20191212</td>\n",
              "      <td>EB</td>\n",
              "      <td>AMER</td>\n",
              "      <td>3</td>\n",
              "    </tr>\n",
              "    <tr>\n",
              "      <th>1791</th>\n",
              "      <td>500000308</td>\n",
              "      <td>80</td>\n",
              "      <td>RO-1003</td>\n",
              "      <td></td>\n",
              "      <td>USD</td>\n",
              "      <td>721</td>\n",
              "      <td>630.875</td>\n",
              "      <td>90.125</td>\n",
              "      <td>I</td>\n",
              "      <td>NaN</td>\n",
              "      <td>2</td>\n",
              "      <td>EA</td>\n",
              "      <td>20191212</td>\n",
              "      <td>RO</td>\n",
              "      <td>AMER</td>\n",
              "      <td>3</td>\n",
              "    </tr>\n",
              "  </tbody>\n",
              "</table>\n",
              "</div>"
            ],
            "text/plain": [
              "      SALESORDERID  SALESORDERITEM PRODUCTID  ... name_product Region  Name_Region\n",
              "618      500000112              10   HB-1173  ...           HB    APJ            1\n",
              "619      500000112              20   DB-1082  ...           DB    APJ            1\n",
              "620      500000112              30   BX-1013  ...           BX    APJ            1\n",
              "621      500000112              40   DB-1082  ...           DB    APJ            1\n",
              "622      500000112              50   RC-1054  ...           RC    APJ            1\n",
              "623      500000112              60   MB-1033  ...           MB    APJ            1\n",
              "624      500000112              70   CB-1163  ...           CB    APJ            1\n",
              "625      500000112              80   EB-1134  ...           EB    APJ            1\n",
              "626      500000112              90   CC-1023  ...           CC    APJ            1\n",
              "627      500000112             100   CB-1163  ...           CB    APJ            1\n",
              "933      500000164              10   RC-1055  ...           RC   AMER            3\n",
              "934      500000164              20   EB-1132  ...           EB   AMER            3\n",
              "935      500000164              30   CC-1023  ...           CC   AMER            3\n",
              "936      500000164              40   BX-1012  ...           BX   AMER            3\n",
              "1784     500000308              10   RC-1055  ...           RC   AMER            3\n",
              "1785     500000308              20   MB-1034  ...           MB   AMER            3\n",
              "1786     500000308              30   CB-1163  ...           CB   AMER            3\n",
              "1787     500000308              40   CC-1023  ...           CC   AMER            3\n",
              "1788     500000308              50   MB-1033  ...           MB   AMER            3\n",
              "1789     500000308              60   CC-1023  ...           CC   AMER            3\n",
              "1790     500000308              70   EB-1137  ...           EB   AMER            3\n",
              "1791     500000308              80   RO-1003  ...           RO   AMER            3\n",
              "\n",
              "[22 rows x 16 columns]"
            ]
          },
          "metadata": {},
          "execution_count": 1719
        }
      ]
    },
    {
      "cell_type": "code",
      "metadata": {
        "id": "ofGUx49uU0V2"
      },
      "source": [
        "Sales_OrderItems=SalesOrderItems[SalesOrderItems['DELIVERYDATE']<29991212] #เลือกข้อมูลมีปีน้อยกว่า 2999"
      ],
      "execution_count": 1720,
      "outputs": []
    },
    {
      "cell_type": "code",
      "metadata": {
        "id": "OE7ha17vU0Q9"
      },
      "source": [
        "Sale= pd.concat([Sales_OrderItems,A]) # ต่อตาราง A ที่แปลง ค.ศ.แล้ว กับตาราง Sales_OrderItems ที่ตัดปีที่ผิดแล้ว โดยตั้งชื่อตารางใหม่ว่า \"Sale\""
      ],
      "execution_count": 1721,
      "outputs": []
    },
    {
      "cell_type": "markdown",
      "metadata": {
        "id": "z2fwe2KFaTLr"
      },
      "source": [
        "##### แปลงวันที่เป็น datetime"
      ]
    },
    {
      "cell_type": "code",
      "metadata": {
        "id": "YTx20SnoMXRZ"
      },
      "source": [
        "import pandas as pd # เรียกใช้คำสั่ง panda"
      ],
      "execution_count": 1722,
      "outputs": []
    },
    {
      "cell_type": "code",
      "metadata": {
        "id": "TWwH0M-7MXOt"
      },
      "source": [
        "Sale['DATE']=pd.to_datetime(Sale['DELIVERYDATE'], format='%Y%m%d') #สร้างคอลัมน์ใหม่ 'DATE' เพื่อใช้เก็บข้อมูลวันที่ ที่แปลงแล้ว"
      ],
      "execution_count": 1723,
      "outputs": []
    },
    {
      "cell_type": "code",
      "metadata": {
        "colab": {
          "base_uri": "https://localhost:8080/",
          "height": 0
        },
        "id": "HVpQBmBmMXMQ",
        "outputId": "ec888531-8176-4d6d-bb88-9c8788e66343"
      },
      "source": [
        "Sale #เรียกดูตาราง"
      ],
      "execution_count": 1724,
      "outputs": [
        {
          "output_type": "execute_result",
          "data": {
            "text/html": [
              "<div>\n",
              "<style scoped>\n",
              "    .dataframe tbody tr th:only-of-type {\n",
              "        vertical-align: middle;\n",
              "    }\n",
              "\n",
              "    .dataframe tbody tr th {\n",
              "        vertical-align: top;\n",
              "    }\n",
              "\n",
              "    .dataframe thead th {\n",
              "        text-align: right;\n",
              "    }\n",
              "</style>\n",
              "<table border=\"1\" class=\"dataframe\">\n",
              "  <thead>\n",
              "    <tr style=\"text-align: right;\">\n",
              "      <th></th>\n",
              "      <th>SALESORDERID</th>\n",
              "      <th>SALESORDERITEM</th>\n",
              "      <th>PRODUCTID</th>\n",
              "      <th>NOTEID</th>\n",
              "      <th>CURRENCY</th>\n",
              "      <th>GROSSAMOUNT</th>\n",
              "      <th>NETAMOUNT</th>\n",
              "      <th>TAXAMOUNT</th>\n",
              "      <th>ITEMATPSTATUS</th>\n",
              "      <th>OPITEMPOS</th>\n",
              "      <th>QUANTITY</th>\n",
              "      <th>QUANTITYUNIT</th>\n",
              "      <th>DELIVERYDATE</th>\n",
              "      <th>name_product</th>\n",
              "      <th>Region</th>\n",
              "      <th>Name_Region</th>\n",
              "      <th>DATE</th>\n",
              "    </tr>\n",
              "  </thead>\n",
              "  <tbody>\n",
              "    <tr>\n",
              "      <th>0</th>\n",
              "      <td>500000000</td>\n",
              "      <td>10</td>\n",
              "      <td>MB-1034</td>\n",
              "      <td></td>\n",
              "      <td>USD</td>\n",
              "      <td>2499</td>\n",
              "      <td>2186.625</td>\n",
              "      <td>312.375</td>\n",
              "      <td>I</td>\n",
              "      <td>NaN</td>\n",
              "      <td>4</td>\n",
              "      <td>EA</td>\n",
              "      <td>20180311</td>\n",
              "      <td>MB</td>\n",
              "      <td>APJ</td>\n",
              "      <td>1</td>\n",
              "      <td>2018-03-11</td>\n",
              "    </tr>\n",
              "    <tr>\n",
              "      <th>1</th>\n",
              "      <td>500000000</td>\n",
              "      <td>20</td>\n",
              "      <td>CB-1161</td>\n",
              "      <td></td>\n",
              "      <td>USD</td>\n",
              "      <td>399</td>\n",
              "      <td>349.125</td>\n",
              "      <td>49.875</td>\n",
              "      <td>I</td>\n",
              "      <td>NaN</td>\n",
              "      <td>9</td>\n",
              "      <td>EA</td>\n",
              "      <td>20180311</td>\n",
              "      <td>CB</td>\n",
              "      <td>APJ</td>\n",
              "      <td>1</td>\n",
              "      <td>2018-03-11</td>\n",
              "    </tr>\n",
              "    <tr>\n",
              "      <th>2</th>\n",
              "      <td>500000001</td>\n",
              "      <td>10</td>\n",
              "      <td>HB-1175</td>\n",
              "      <td></td>\n",
              "      <td>USD</td>\n",
              "      <td>899</td>\n",
              "      <td>786.625</td>\n",
              "      <td>112.375</td>\n",
              "      <td>I</td>\n",
              "      <td>NaN</td>\n",
              "      <td>2</td>\n",
              "      <td>EA</td>\n",
              "      <td>20180228</td>\n",
              "      <td>HB</td>\n",
              "      <td>EMEA</td>\n",
              "      <td>2</td>\n",
              "      <td>2018-02-28</td>\n",
              "    </tr>\n",
              "    <tr>\n",
              "      <th>3</th>\n",
              "      <td>500000001</td>\n",
              "      <td>20</td>\n",
              "      <td>RC-1056</td>\n",
              "      <td></td>\n",
              "      <td>USD</td>\n",
              "      <td>2499</td>\n",
              "      <td>2186.625</td>\n",
              "      <td>312.375</td>\n",
              "      <td>I</td>\n",
              "      <td>NaN</td>\n",
              "      <td>2</td>\n",
              "      <td>EA</td>\n",
              "      <td>20180228</td>\n",
              "      <td>RC</td>\n",
              "      <td>EMEA</td>\n",
              "      <td>2</td>\n",
              "      <td>2018-02-28</td>\n",
              "    </tr>\n",
              "    <tr>\n",
              "      <th>4</th>\n",
              "      <td>500000001</td>\n",
              "      <td>30</td>\n",
              "      <td>CC-1021</td>\n",
              "      <td></td>\n",
              "      <td>USD</td>\n",
              "      <td>1144</td>\n",
              "      <td>1001.000</td>\n",
              "      <td>143.000</td>\n",
              "      <td>I</td>\n",
              "      <td>NaN</td>\n",
              "      <td>3</td>\n",
              "      <td>EA</td>\n",
              "      <td>20180228</td>\n",
              "      <td>CC</td>\n",
              "      <td>EMEA</td>\n",
              "      <td>2</td>\n",
              "      <td>2018-02-28</td>\n",
              "    </tr>\n",
              "    <tr>\n",
              "      <th>...</th>\n",
              "      <td>...</td>\n",
              "      <td>...</td>\n",
              "      <td>...</td>\n",
              "      <td>...</td>\n",
              "      <td>...</td>\n",
              "      <td>...</td>\n",
              "      <td>...</td>\n",
              "      <td>...</td>\n",
              "      <td>...</td>\n",
              "      <td>...</td>\n",
              "      <td>...</td>\n",
              "      <td>...</td>\n",
              "      <td>...</td>\n",
              "      <td>...</td>\n",
              "      <td>...</td>\n",
              "      <td>...</td>\n",
              "      <td>...</td>\n",
              "    </tr>\n",
              "    <tr>\n",
              "      <th>1787</th>\n",
              "      <td>500000308</td>\n",
              "      <td>40</td>\n",
              "      <td>CC-1023</td>\n",
              "      <td></td>\n",
              "      <td>USD</td>\n",
              "      <td>1361</td>\n",
              "      <td>1190.875</td>\n",
              "      <td>170.125</td>\n",
              "      <td>I</td>\n",
              "      <td>NaN</td>\n",
              "      <td>3</td>\n",
              "      <td>EA</td>\n",
              "      <td>20191212</td>\n",
              "      <td>CC</td>\n",
              "      <td>AMER</td>\n",
              "      <td>3</td>\n",
              "      <td>2019-12-12</td>\n",
              "    </tr>\n",
              "    <tr>\n",
              "      <th>1788</th>\n",
              "      <td>500000308</td>\n",
              "      <td>50</td>\n",
              "      <td>MB-1033</td>\n",
              "      <td></td>\n",
              "      <td>USD</td>\n",
              "      <td>3999</td>\n",
              "      <td>3499.125</td>\n",
              "      <td>499.875</td>\n",
              "      <td>I</td>\n",
              "      <td>NaN</td>\n",
              "      <td>5</td>\n",
              "      <td>EA</td>\n",
              "      <td>20191212</td>\n",
              "      <td>MB</td>\n",
              "      <td>AMER</td>\n",
              "      <td>3</td>\n",
              "      <td>2019-12-12</td>\n",
              "    </tr>\n",
              "    <tr>\n",
              "      <th>1789</th>\n",
              "      <td>500000308</td>\n",
              "      <td>60</td>\n",
              "      <td>CC-1023</td>\n",
              "      <td></td>\n",
              "      <td>USD</td>\n",
              "      <td>1361</td>\n",
              "      <td>1190.875</td>\n",
              "      <td>170.125</td>\n",
              "      <td>I</td>\n",
              "      <td>NaN</td>\n",
              "      <td>8</td>\n",
              "      <td>EA</td>\n",
              "      <td>20191212</td>\n",
              "      <td>CC</td>\n",
              "      <td>AMER</td>\n",
              "      <td>3</td>\n",
              "      <td>2019-12-12</td>\n",
              "    </tr>\n",
              "    <tr>\n",
              "      <th>1790</th>\n",
              "      <td>500000308</td>\n",
              "      <td>70</td>\n",
              "      <td>EB-1137</td>\n",
              "      <td></td>\n",
              "      <td>USD</td>\n",
              "      <td>7900</td>\n",
              "      <td>6912.500</td>\n",
              "      <td>987.500</td>\n",
              "      <td>I</td>\n",
              "      <td>NaN</td>\n",
              "      <td>8</td>\n",
              "      <td>EA</td>\n",
              "      <td>20191212</td>\n",
              "      <td>EB</td>\n",
              "      <td>AMER</td>\n",
              "      <td>3</td>\n",
              "      <td>2019-12-12</td>\n",
              "    </tr>\n",
              "    <tr>\n",
              "      <th>1791</th>\n",
              "      <td>500000308</td>\n",
              "      <td>80</td>\n",
              "      <td>RO-1003</td>\n",
              "      <td></td>\n",
              "      <td>USD</td>\n",
              "      <td>721</td>\n",
              "      <td>630.875</td>\n",
              "      <td>90.125</td>\n",
              "      <td>I</td>\n",
              "      <td>NaN</td>\n",
              "      <td>2</td>\n",
              "      <td>EA</td>\n",
              "      <td>20191212</td>\n",
              "      <td>RO</td>\n",
              "      <td>AMER</td>\n",
              "      <td>3</td>\n",
              "      <td>2019-12-12</td>\n",
              "    </tr>\n",
              "  </tbody>\n",
              "</table>\n",
              "<p>1930 rows × 17 columns</p>\n",
              "</div>"
            ],
            "text/plain": [
              "      SALESORDERID  SALESORDERITEM PRODUCTID  ... Region Name_Region       DATE\n",
              "0        500000000              10   MB-1034  ...    APJ           1 2018-03-11\n",
              "1        500000000              20   CB-1161  ...    APJ           1 2018-03-11\n",
              "2        500000001              10   HB-1175  ...   EMEA           2 2018-02-28\n",
              "3        500000001              20   RC-1056  ...   EMEA           2 2018-02-28\n",
              "4        500000001              30   CC-1021  ...   EMEA           2 2018-02-28\n",
              "...            ...             ...       ...  ...    ...         ...        ...\n",
              "1787     500000308              40   CC-1023  ...   AMER           3 2019-12-12\n",
              "1788     500000308              50   MB-1033  ...   AMER           3 2019-12-12\n",
              "1789     500000308              60   CC-1023  ...   AMER           3 2019-12-12\n",
              "1790     500000308              70   EB-1137  ...   AMER           3 2019-12-12\n",
              "1791     500000308              80   RO-1003  ...   AMER           3 2019-12-12\n",
              "\n",
              "[1930 rows x 17 columns]"
            ]
          },
          "metadata": {},
          "execution_count": 1724
        }
      ]
    },
    {
      "cell_type": "markdown",
      "metadata": {
        "id": "EaVvcRFrjvV1"
      },
      "source": [
        "####เพิ่มคอลัมน์วันในสัปดาห์ โดยแปลงจากคอลัมน์ DATE โดย\n",
        "    0: 'Monday', \n",
        "    1: 'Tuesday', \n",
        "    2: 'Wednesday', \n",
        "    3: 'Thursday', \n",
        "    4: 'Friday',\n",
        "    5: 'Saturday', \n",
        "    6: 'Sunday'\n"
      ]
    },
    {
      "cell_type": "code",
      "metadata": {
        "id": "wAgVvvfmjqmC"
      },
      "source": [
        "Sale['weekday']=Sale['DATE'].dt.weekday"
      ],
      "execution_count": 1725,
      "outputs": []
    },
    {
      "cell_type": "code",
      "metadata": {
        "colab": {
          "base_uri": "https://localhost:8080/"
        },
        "id": "8XNuYYEtkxAr",
        "outputId": "6e767a98-86ee-417b-da59-f67f70182ff0"
      },
      "source": [
        "set(Sale['weekday'])"
      ],
      "execution_count": 1726,
      "outputs": [
        {
          "output_type": "execute_result",
          "data": {
            "text/plain": [
              "{0, 1, 2, 3, 4, 5, 6}"
            ]
          },
          "metadata": {},
          "execution_count": 1726
        }
      ]
    },
    {
      "cell_type": "markdown",
      "metadata": {
        "id": "htTh8DvJTm7u"
      },
      "source": [
        "###ขั้นที่ 4 ดูข้อมูลว่ามีวันที่ซ้ำกันหรือไม่ ในแต่ละยี่ห้อรถจักยานต์(ถ้ามีเลือกเฉพาะวันที่ที่มีคำสังซื้อ (SALESORDERITEM) เยอะที่สุด)\n",
        "\n",
        "\n"
      ]
    },
    {
      "cell_type": "markdown",
      "metadata": {
        "id": "T7oyWWApbtM8"
      },
      "source": [
        "####4.1 เพิ่่มคอลัมน์ ปี ค.ศ. เดือน และ วัน เพื่อใช้เรียกดูข้อมูล"
      ]
    },
    {
      "cell_type": "code",
      "metadata": {
        "id": "2ssHyGaHbsE5"
      },
      "source": [
        "Sale['day']=Sale['DATE'].dt.day #วันที่"
      ],
      "execution_count": 1727,
      "outputs": []
    },
    {
      "cell_type": "code",
      "metadata": {
        "id": "YZrcl72xbsCd"
      },
      "source": [
        "Sale['mount']=Sale['DATE'].dt.month  # เดือน"
      ],
      "execution_count": 1728,
      "outputs": []
    },
    {
      "cell_type": "code",
      "metadata": {
        "id": "5zeZWmiXcOah"
      },
      "source": [
        "Sale['year']=Sale['DATE'].dt.year #ปี"
      ],
      "execution_count": 1729,
      "outputs": []
    },
    {
      "cell_type": "markdown",
      "metadata": {
        "id": "-Soz52-GjFn8"
      },
      "source": [
        "####4.2 รถจักยานต์ชนิด Road Bike:RO"
      ]
    },
    {
      "cell_type": "code",
      "metadata": {
        "id": "tmMe5T37m5L1"
      },
      "source": [
        "RO=Sale[Sale['name_product']=='RO']"
      ],
      "execution_count": 1730,
      "outputs": []
    },
    {
      "cell_type": "markdown",
      "metadata": {
        "id": "Op5v726QnT3u"
      },
      "source": [
        "#####4.2.1 ดูข้อมูลในแต่ละทวีป"
      ]
    },
    {
      "cell_type": "code",
      "metadata": {
        "colab": {
          "base_uri": "https://localhost:8080/"
        },
        "id": "g9TuPk6LoGQZ",
        "outputId": "3b78fae4-ca70-435e-d50a-40976bc6f457"
      },
      "source": [
        "set(RO['Region'])"
      ],
      "execution_count": 1731,
      "outputs": [
        {
          "output_type": "execute_result",
          "data": {
            "text/plain": [
              "{'AMER', 'APJ', 'EMEA'}"
            ]
          },
          "metadata": {},
          "execution_count": 1731
        }
      ]
    },
    {
      "cell_type": "markdown",
      "metadata": {
        "id": "4OwrG0CLoq0g"
      },
      "source": [
        "######1) Region:America"
      ]
    },
    {
      "cell_type": "code",
      "metadata": {
        "id": "dKz6bnWYnTS7"
      },
      "source": [
        "RO_AMER=RO[RO['Region']=='AMER'] #ทวีป America"
      ],
      "execution_count": 1732,
      "outputs": []
    },
    {
      "cell_type": "markdown",
      "metadata": {
        "id": "YU4MOQY2c11-"
      },
      "source": [
        "######เรียกดูข้อมูลปี 2018 "
      ]
    },
    {
      "cell_type": "code",
      "metadata": {
        "id": "m3zvcpXNbir7"
      },
      "source": [
        "RO_AMER_2018=RO_AMER[RO_AMER['year']==2018]"
      ],
      "execution_count": 1733,
      "outputs": []
    },
    {
      "cell_type": "code",
      "metadata": {
        "colab": {
          "base_uri": "https://localhost:8080/"
        },
        "id": "WS-mtla9gHkd",
        "outputId": "f5c8a159-8cfd-4678-b463-51bdfd1ea26e"
      },
      "source": [
        "set(RO_AMER_2018['mount']) ## ไม่มีข้อมูลคำสั่งซื้อในเดือน มกราคม กุมภาพันธ์ และธันวาคม"
      ],
      "execution_count": 1734,
      "outputs": [
        {
          "output_type": "execute_result",
          "data": {
            "text/plain": [
              "{3, 4, 5, 6, 7, 8, 9, 10, 11}"
            ]
          },
          "metadata": {},
          "execution_count": 1734
        }
      ]
    },
    {
      "cell_type": "markdown",
      "metadata": {
        "id": "8MFVp7nEdS_J"
      },
      "source": [
        "###### เรียกดูข้อมูลปี 2018 ในเดือนต่างๆ"
      ]
    },
    {
      "cell_type": "markdown",
      "metadata": {
        "id": "nr6ntn3rgY3_"
      },
      "source": [
        "######เดือนมีนาคม"
      ]
    },
    {
      "cell_type": "code",
      "metadata": {
        "id": "Xd21vmnVeE_3"
      },
      "source": [
        "RO_AMER_2018_3=RO_AMER_2018[RO_AMER_2018['mount']==3].sort_values(by='day').drop(68) #พบว่ามีวันที่ 21 มีนาคม สั่งสินค้าซ้ำกัน จึงตัดแถวที่มีจำนวนคำสังซื้อน้อยกว่าทิ้งคือแถว 68"
      ],
      "execution_count": 1735,
      "outputs": []
    },
    {
      "cell_type": "markdown",
      "metadata": {
        "id": "7tI0Bi6KsTUx"
      },
      "source": [
        "######เดือนเมษายน"
      ]
    },
    {
      "cell_type": "code",
      "metadata": {
        "id": "1OT1P2W9sak6"
      },
      "source": [
        "RO_AMER_2018_4=RO_AMER_2018[RO_AMER_2018['mount']==4].sort_values(by='day') #ไม่มีวันที่ ที่มีคำสั่งซื้อซ้ำ"
      ],
      "execution_count": 1736,
      "outputs": []
    },
    {
      "cell_type": "markdown",
      "metadata": {
        "id": "rMnkPmnmsTO-"
      },
      "source": [
        "######เดือนพฤษภาคม"
      ]
    },
    {
      "cell_type": "code",
      "metadata": {
        "id": "HEGUxK2qu17X"
      },
      "source": [
        "RO_AMER_2018_5=RO_AMER_2018[RO_AMER_2018['mount']==5].sort_values(by='day') #ไม่มีวันที่ ที่มีคำสั่งซื้อซ้ำ"
      ],
      "execution_count": 1737,
      "outputs": []
    },
    {
      "cell_type": "markdown",
      "metadata": {
        "id": "sM20BVNRsTNp"
      },
      "source": [
        "######เดือนมิถุนายน"
      ]
    },
    {
      "cell_type": "code",
      "metadata": {
        "id": "yOojtYSHvD4-"
      },
      "source": [
        "RO_AMER_2018_6=RO_AMER_2018[RO_AMER_2018['mount']==6].sort_values(by='day') #ไม่มีวันที่ ที่มีคำสั่งซื้อซ้ำ"
      ],
      "execution_count": 1738,
      "outputs": []
    },
    {
      "cell_type": "markdown",
      "metadata": {
        "id": "D9W1jyA_sS53"
      },
      "source": [
        "######เดือนกรกฎาคม"
      ]
    },
    {
      "cell_type": "code",
      "metadata": {
        "id": "REH7B0dNvPrG"
      },
      "source": [
        "RO_AMER_2018_7=RO_AMER_2018[RO_AMER_2018['mount']==7].sort_values(by='day').drop([429,560]) #ไ#พบว่ามีวันที่ 18  และ31  มีกรกฎาคม มีสั่งสินค้าซ้ำกัน จึงตัดแถวที่มีจำนวนคำสังซื้อน้อยกว่าทิ้งคือแถว 429 และ 560"
      ],
      "execution_count": 1739,
      "outputs": []
    },
    {
      "cell_type": "markdown",
      "metadata": {
        "id": "fmC5DAuGsS2x"
      },
      "source": [
        "######เดือนสิงหาคม"
      ]
    },
    {
      "cell_type": "code",
      "metadata": {
        "id": "8plhwCYEwkRb"
      },
      "source": [
        "RO_AMER_2018_8=RO_AMER_2018[RO_AMER_2018['mount']==8].sort_values(by='day') #ไม่มีวันที่ ที่มีคำสั่งซื้อซ้ำ"
      ],
      "execution_count": 1740,
      "outputs": []
    },
    {
      "cell_type": "markdown",
      "metadata": {
        "id": "zY9qSbelsS05"
      },
      "source": [
        "######เดือนกันยายน"
      ]
    },
    {
      "cell_type": "code",
      "metadata": {
        "id": "xaPm450QwvPr"
      },
      "source": [
        "RO_AMER_2018_9=RO_AMER_2018[RO_AMER_2018['mount']==9].sort_values(by='day')#ไม่มีวันที่ ที่มีคำสั่งซื้อซ้ำ"
      ],
      "execution_count": 1741,
      "outputs": []
    },
    {
      "cell_type": "markdown",
      "metadata": {
        "id": "WF4QJ0y3sSr7"
      },
      "source": [
        "######เดือนตุลาคม"
      ]
    },
    {
      "cell_type": "code",
      "metadata": {
        "id": "X2Mnzmqxw51a"
      },
      "source": [
        "RO_AMER_2018_10=RO_AMER_2018[RO_AMER_2018['mount']==10].sort_values(by='day') #ไม่มีวันที่ ที่มีคำสั่งซื้อซ้ำ"
      ],
      "execution_count": 1742,
      "outputs": []
    },
    {
      "cell_type": "markdown",
      "metadata": {
        "id": "7R4_RoTDsSgC"
      },
      "source": [
        "######เดือนพฤศจิกายน"
      ]
    },
    {
      "cell_type": "code",
      "metadata": {
        "id": "_U0rp3a8rihj"
      },
      "source": [
        "RO_AMER_2018_11=RO_AMER_2018[RO_AMER_2018['mount']==11].sort_values(by='day') #ไม่มีวันที่ ที่มีคำสั่งซื้อซ้ำ"
      ],
      "execution_count": 1743,
      "outputs": []
    },
    {
      "cell_type": "markdown",
      "metadata": {
        "id": "m_AuuDkpxQgz"
      },
      "source": [
        "######ต่อตารางทวีป America"
      ]
    },
    {
      "cell_type": "code",
      "metadata": {
        "id": "nUU7E15uxOzA"
      },
      "source": [
        "RO_AMERICA_18= pd.concat([RO_AMER_2018_3,RO_AMER_2018_4,RO_AMER_2018_6,RO_AMER_2018_7,RO_AMER_2018_8,RO_AMER_2018_9,RO_AMER_2018_10,RO_AMER_2018_11])"
      ],
      "execution_count": 1744,
      "outputs": []
    },
    {
      "cell_type": "code",
      "metadata": {
        "colab": {
          "base_uri": "https://localhost:8080/",
          "height": 785
        },
        "id": "q91QfY8FyQdU",
        "outputId": "f5312baa-8cec-4a1e-e912-7256879caeea"
      },
      "source": [
        "RO_AMERICA_18"
      ],
      "execution_count": 1745,
      "outputs": [
        {
          "output_type": "execute_result",
          "data": {
            "text/html": [
              "<div>\n",
              "<style scoped>\n",
              "    .dataframe tbody tr th:only-of-type {\n",
              "        vertical-align: middle;\n",
              "    }\n",
              "\n",
              "    .dataframe tbody tr th {\n",
              "        vertical-align: top;\n",
              "    }\n",
              "\n",
              "    .dataframe thead th {\n",
              "        text-align: right;\n",
              "    }\n",
              "</style>\n",
              "<table border=\"1\" class=\"dataframe\">\n",
              "  <thead>\n",
              "    <tr style=\"text-align: right;\">\n",
              "      <th></th>\n",
              "      <th>SALESORDERID</th>\n",
              "      <th>SALESORDERITEM</th>\n",
              "      <th>PRODUCTID</th>\n",
              "      <th>NOTEID</th>\n",
              "      <th>CURRENCY</th>\n",
              "      <th>GROSSAMOUNT</th>\n",
              "      <th>NETAMOUNT</th>\n",
              "      <th>TAXAMOUNT</th>\n",
              "      <th>ITEMATPSTATUS</th>\n",
              "      <th>OPITEMPOS</th>\n",
              "      <th>QUANTITY</th>\n",
              "      <th>QUANTITYUNIT</th>\n",
              "      <th>DELIVERYDATE</th>\n",
              "      <th>name_product</th>\n",
              "      <th>Region</th>\n",
              "      <th>Name_Region</th>\n",
              "      <th>DATE</th>\n",
              "      <th>weekday</th>\n",
              "      <th>day</th>\n",
              "      <th>mount</th>\n",
              "      <th>year</th>\n",
              "    </tr>\n",
              "  </thead>\n",
              "  <tbody>\n",
              "    <tr>\n",
              "      <th>96</th>\n",
              "      <td>500000017</td>\n",
              "      <td>70</td>\n",
              "      <td>RO-1001</td>\n",
              "      <td></td>\n",
              "      <td>USD</td>\n",
              "      <td>525</td>\n",
              "      <td>459.375</td>\n",
              "      <td>65.625</td>\n",
              "      <td>I</td>\n",
              "      <td>NaN</td>\n",
              "      <td>8</td>\n",
              "      <td>EA</td>\n",
              "      <td>20180305</td>\n",
              "      <td>RO</td>\n",
              "      <td>AMER</td>\n",
              "      <td>3</td>\n",
              "      <td>2018-03-05</td>\n",
              "      <td>0</td>\n",
              "      <td>5</td>\n",
              "      <td>3</td>\n",
              "      <td>2018</td>\n",
              "    </tr>\n",
              "    <tr>\n",
              "      <th>71</th>\n",
              "      <td>500000013</td>\n",
              "      <td>40</td>\n",
              "      <td>RO-1001</td>\n",
              "      <td></td>\n",
              "      <td>USD</td>\n",
              "      <td>525</td>\n",
              "      <td>459.375</td>\n",
              "      <td>65.625</td>\n",
              "      <td>I</td>\n",
              "      <td>NaN</td>\n",
              "      <td>5</td>\n",
              "      <td>EA</td>\n",
              "      <td>20180321</td>\n",
              "      <td>RO</td>\n",
              "      <td>AMER</td>\n",
              "      <td>3</td>\n",
              "      <td>2018-03-21</td>\n",
              "      <td>2</td>\n",
              "      <td>21</td>\n",
              "      <td>3</td>\n",
              "      <td>2018</td>\n",
              "    </tr>\n",
              "    <tr>\n",
              "      <th>56</th>\n",
              "      <td>500000010</td>\n",
              "      <td>10</td>\n",
              "      <td>RO-1002</td>\n",
              "      <td></td>\n",
              "      <td>USD</td>\n",
              "      <td>689</td>\n",
              "      <td>602.875</td>\n",
              "      <td>86.125</td>\n",
              "      <td>I</td>\n",
              "      <td>NaN</td>\n",
              "      <td>10</td>\n",
              "      <td>EA</td>\n",
              "      <td>20180323</td>\n",
              "      <td>RO</td>\n",
              "      <td>AMER</td>\n",
              "      <td>3</td>\n",
              "      <td>2018-03-23</td>\n",
              "      <td>4</td>\n",
              "      <td>23</td>\n",
              "      <td>3</td>\n",
              "      <td>2018</td>\n",
              "    </tr>\n",
              "    <tr>\n",
              "      <th>100</th>\n",
              "      <td>500000019</td>\n",
              "      <td>20</td>\n",
              "      <td>RO-1001</td>\n",
              "      <td></td>\n",
              "      <td>USD</td>\n",
              "      <td>525</td>\n",
              "      <td>459.375</td>\n",
              "      <td>65.625</td>\n",
              "      <td>I</td>\n",
              "      <td>NaN</td>\n",
              "      <td>5</td>\n",
              "      <td>EA</td>\n",
              "      <td>20180401</td>\n",
              "      <td>RO</td>\n",
              "      <td>AMER</td>\n",
              "      <td>3</td>\n",
              "      <td>2018-04-01</td>\n",
              "      <td>6</td>\n",
              "      <td>1</td>\n",
              "      <td>4</td>\n",
              "      <td>2018</td>\n",
              "    </tr>\n",
              "    <tr>\n",
              "      <th>179</th>\n",
              "      <td>500000032</td>\n",
              "      <td>20</td>\n",
              "      <td>RO-1002</td>\n",
              "      <td></td>\n",
              "      <td>USD</td>\n",
              "      <td>689</td>\n",
              "      <td>602.875</td>\n",
              "      <td>86.125</td>\n",
              "      <td>I</td>\n",
              "      <td>NaN</td>\n",
              "      <td>8</td>\n",
              "      <td>EA</td>\n",
              "      <td>20180419</td>\n",
              "      <td>RO</td>\n",
              "      <td>AMER</td>\n",
              "      <td>3</td>\n",
              "      <td>2018-04-19</td>\n",
              "      <td>3</td>\n",
              "      <td>19</td>\n",
              "      <td>4</td>\n",
              "      <td>2018</td>\n",
              "    </tr>\n",
              "    <tr>\n",
              "      <th>299</th>\n",
              "      <td>500000056</td>\n",
              "      <td>70</td>\n",
              "      <td>RO-1002</td>\n",
              "      <td></td>\n",
              "      <td>USD</td>\n",
              "      <td>689</td>\n",
              "      <td>602.875</td>\n",
              "      <td>86.125</td>\n",
              "      <td>I</td>\n",
              "      <td>NaN</td>\n",
              "      <td>3</td>\n",
              "      <td>EA</td>\n",
              "      <td>20180608</td>\n",
              "      <td>RO</td>\n",
              "      <td>AMER</td>\n",
              "      <td>3</td>\n",
              "      <td>2018-06-08</td>\n",
              "      <td>4</td>\n",
              "      <td>8</td>\n",
              "      <td>6</td>\n",
              "      <td>2018</td>\n",
              "    </tr>\n",
              "    <tr>\n",
              "      <th>381</th>\n",
              "      <td>500000070</td>\n",
              "      <td>30</td>\n",
              "      <td>RO-1003</td>\n",
              "      <td></td>\n",
              "      <td>USD</td>\n",
              "      <td>721</td>\n",
              "      <td>630.875</td>\n",
              "      <td>90.125</td>\n",
              "      <td>I</td>\n",
              "      <td>NaN</td>\n",
              "      <td>4</td>\n",
              "      <td>EA</td>\n",
              "      <td>20180617</td>\n",
              "      <td>RO</td>\n",
              "      <td>AMER</td>\n",
              "      <td>3</td>\n",
              "      <td>2018-06-17</td>\n",
              "      <td>6</td>\n",
              "      <td>17</td>\n",
              "      <td>6</td>\n",
              "      <td>2018</td>\n",
              "    </tr>\n",
              "    <tr>\n",
              "      <th>475</th>\n",
              "      <td>500000086</td>\n",
              "      <td>20</td>\n",
              "      <td>RO-1001</td>\n",
              "      <td></td>\n",
              "      <td>USD</td>\n",
              "      <td>525</td>\n",
              "      <td>459.375</td>\n",
              "      <td>65.625</td>\n",
              "      <td>I</td>\n",
              "      <td>NaN</td>\n",
              "      <td>10</td>\n",
              "      <td>EA</td>\n",
              "      <td>20180715</td>\n",
              "      <td>RO</td>\n",
              "      <td>AMER</td>\n",
              "      <td>3</td>\n",
              "      <td>2018-07-15</td>\n",
              "      <td>6</td>\n",
              "      <td>15</td>\n",
              "      <td>7</td>\n",
              "      <td>2018</td>\n",
              "    </tr>\n",
              "    <tr>\n",
              "      <th>431</th>\n",
              "      <td>500000078</td>\n",
              "      <td>40</td>\n",
              "      <td>RO-1002</td>\n",
              "      <td></td>\n",
              "      <td>USD</td>\n",
              "      <td>689</td>\n",
              "      <td>602.875</td>\n",
              "      <td>86.125</td>\n",
              "      <td>I</td>\n",
              "      <td>NaN</td>\n",
              "      <td>5</td>\n",
              "      <td>EA</td>\n",
              "      <td>20180718</td>\n",
              "      <td>RO</td>\n",
              "      <td>AMER</td>\n",
              "      <td>3</td>\n",
              "      <td>2018-07-18</td>\n",
              "      <td>2</td>\n",
              "      <td>18</td>\n",
              "      <td>7</td>\n",
              "      <td>2018</td>\n",
              "    </tr>\n",
              "    <tr>\n",
              "      <th>563</th>\n",
              "      <td>500000101</td>\n",
              "      <td>40</td>\n",
              "      <td>RO-1001</td>\n",
              "      <td></td>\n",
              "      <td>USD</td>\n",
              "      <td>525</td>\n",
              "      <td>459.375</td>\n",
              "      <td>65.625</td>\n",
              "      <td>I</td>\n",
              "      <td>NaN</td>\n",
              "      <td>9</td>\n",
              "      <td>EA</td>\n",
              "      <td>20180731</td>\n",
              "      <td>RO</td>\n",
              "      <td>AMER</td>\n",
              "      <td>3</td>\n",
              "      <td>2018-07-31</td>\n",
              "      <td>1</td>\n",
              "      <td>31</td>\n",
              "      <td>7</td>\n",
              "      <td>2018</td>\n",
              "    </tr>\n",
              "    <tr>\n",
              "      <th>498</th>\n",
              "      <td>500000090</td>\n",
              "      <td>30</td>\n",
              "      <td>RO-1003</td>\n",
              "      <td></td>\n",
              "      <td>USD</td>\n",
              "      <td>721</td>\n",
              "      <td>630.875</td>\n",
              "      <td>90.125</td>\n",
              "      <td>I</td>\n",
              "      <td>NaN</td>\n",
              "      <td>9</td>\n",
              "      <td>EA</td>\n",
              "      <td>20180806</td>\n",
              "      <td>RO</td>\n",
              "      <td>AMER</td>\n",
              "      <td>3</td>\n",
              "      <td>2018-08-06</td>\n",
              "      <td>0</td>\n",
              "      <td>6</td>\n",
              "      <td>8</td>\n",
              "      <td>2018</td>\n",
              "    </tr>\n",
              "    <tr>\n",
              "      <th>592</th>\n",
              "      <td>500000107</td>\n",
              "      <td>30</td>\n",
              "      <td>RO-1002</td>\n",
              "      <td></td>\n",
              "      <td>USD</td>\n",
              "      <td>689</td>\n",
              "      <td>602.875</td>\n",
              "      <td>86.125</td>\n",
              "      <td>I</td>\n",
              "      <td>NaN</td>\n",
              "      <td>5</td>\n",
              "      <td>EA</td>\n",
              "      <td>20180822</td>\n",
              "      <td>RO</td>\n",
              "      <td>AMER</td>\n",
              "      <td>3</td>\n",
              "      <td>2018-08-22</td>\n",
              "      <td>2</td>\n",
              "      <td>22</td>\n",
              "      <td>8</td>\n",
              "      <td>2018</td>\n",
              "    </tr>\n",
              "    <tr>\n",
              "      <th>635</th>\n",
              "      <td>500000114</td>\n",
              "      <td>20</td>\n",
              "      <td>RO-1003</td>\n",
              "      <td></td>\n",
              "      <td>USD</td>\n",
              "      <td>721</td>\n",
              "      <td>630.875</td>\n",
              "      <td>90.125</td>\n",
              "      <td>I</td>\n",
              "      <td>NaN</td>\n",
              "      <td>10</td>\n",
              "      <td>EA</td>\n",
              "      <td>20180902</td>\n",
              "      <td>RO</td>\n",
              "      <td>AMER</td>\n",
              "      <td>3</td>\n",
              "      <td>2018-09-02</td>\n",
              "      <td>6</td>\n",
              "      <td>2</td>\n",
              "      <td>9</td>\n",
              "      <td>2018</td>\n",
              "    </tr>\n",
              "    <tr>\n",
              "      <th>734</th>\n",
              "      <td>500000131</td>\n",
              "      <td>60</td>\n",
              "      <td>RO-1001</td>\n",
              "      <td></td>\n",
              "      <td>USD</td>\n",
              "      <td>525</td>\n",
              "      <td>459.375</td>\n",
              "      <td>65.625</td>\n",
              "      <td>I</td>\n",
              "      <td>NaN</td>\n",
              "      <td>7</td>\n",
              "      <td>EA</td>\n",
              "      <td>20181010</td>\n",
              "      <td>RO</td>\n",
              "      <td>AMER</td>\n",
              "      <td>3</td>\n",
              "      <td>2018-10-10</td>\n",
              "      <td>2</td>\n",
              "      <td>10</td>\n",
              "      <td>10</td>\n",
              "      <td>2018</td>\n",
              "    </tr>\n",
              "    <tr>\n",
              "      <th>908</th>\n",
              "      <td>500000157</td>\n",
              "      <td>90</td>\n",
              "      <td>RO-1001</td>\n",
              "      <td></td>\n",
              "      <td>USD</td>\n",
              "      <td>525</td>\n",
              "      <td>459.375</td>\n",
              "      <td>65.625</td>\n",
              "      <td>I</td>\n",
              "      <td>NaN</td>\n",
              "      <td>8</td>\n",
              "      <td>EA</td>\n",
              "      <td>20181110</td>\n",
              "      <td>RO</td>\n",
              "      <td>AMER</td>\n",
              "      <td>3</td>\n",
              "      <td>2018-11-10</td>\n",
              "      <td>5</td>\n",
              "      <td>10</td>\n",
              "      <td>11</td>\n",
              "      <td>2018</td>\n",
              "    </tr>\n",
              "  </tbody>\n",
              "</table>\n",
              "</div>"
            ],
            "text/plain": [
              "     SALESORDERID  SALESORDERITEM PRODUCTID NOTEID  ... weekday  day  mount  year\n",
              "96      500000017              70   RO-1001         ...       0    5      3  2018\n",
              "71      500000013              40   RO-1001         ...       2   21      3  2018\n",
              "56      500000010              10   RO-1002         ...       4   23      3  2018\n",
              "100     500000019              20   RO-1001         ...       6    1      4  2018\n",
              "179     500000032              20   RO-1002         ...       3   19      4  2018\n",
              "299     500000056              70   RO-1002         ...       4    8      6  2018\n",
              "381     500000070              30   RO-1003         ...       6   17      6  2018\n",
              "475     500000086              20   RO-1001         ...       6   15      7  2018\n",
              "431     500000078              40   RO-1002         ...       2   18      7  2018\n",
              "563     500000101              40   RO-1001         ...       1   31      7  2018\n",
              "498     500000090              30   RO-1003         ...       0    6      8  2018\n",
              "592     500000107              30   RO-1002         ...       2   22      8  2018\n",
              "635     500000114              20   RO-1003         ...       6    2      9  2018\n",
              "734     500000131              60   RO-1001         ...       2   10     10  2018\n",
              "908     500000157              90   RO-1001         ...       5   10     11  2018\n",
              "\n",
              "[15 rows x 21 columns]"
            ]
          },
          "metadata": {},
          "execution_count": 1745
        }
      ]
    },
    {
      "cell_type": "code",
      "metadata": {
        "id": "G-RKMt9jyab8"
      },
      "source": [
        "\n",
        "import matplotlib.pyplot as plt\n"
      ],
      "execution_count": 1746,
      "outputs": []
    },
    {
      "cell_type": "code",
      "metadata": {
        "id": "f1WooN9Sy4jV"
      },
      "source": [
        "ORDER_RO_A=RO_AMERICA_18['SALESORDERITEM']\n",
        "WEEKDAY_RO_A=RO_AMERICA_18['weekday']"
      ],
      "execution_count": 1747,
      "outputs": []
    },
    {
      "cell_type": "code",
      "metadata": {
        "colab": {
          "base_uri": "https://localhost:8080/",
          "height": 308
        },
        "id": "h2hlOCc7y1Z2",
        "outputId": "54f3d10c-f1f5-4888-ed3e-357b5035f4f9"
      },
      "source": [
        "\n",
        "plt.scatter(WEEKDAY_RO_A,ORDER_RO_A,color='navy') #พบว่าวันที่มีคำสังซื้อเยอะที่สุดคือวันศุกร์\n",
        "plt.xlabel('Weekday')\n",
        "plt.ylabel('Sale_Order')\n",
        "plt.suptitle('Road Bike_America_18',fontsize=16)\n",
        "plt.show()"
      ],
      "execution_count": 1748,
      "outputs": [
        {
          "output_type": "display_data",
          "data": {
            "image/png": "[encoded data removed]",
            "text/plain": [
              "<Figure size 432x288 with 1 Axes>"
            ]
          },
          "metadata": {
            "needs_background": "light"
          }
        }
      ]
    },
    {
      "cell_type": "markdown",
      "metadata": {
        "id": "s9Ee3EO83FNa"
      },
      "source": [
        "######เรียกดูข้อมูลปี 2019"
      ]
    },
    {
      "cell_type": "code",
      "metadata": {
        "id": "m8ukcXjl3LwW"
      },
      "source": [
        "RO_AMER_2019=RO_AMER[RO_AMER['year']==2019]"
      ],
      "execution_count": 1749,
      "outputs": []
    },
    {
      "cell_type": "code",
      "metadata": {
        "colab": {
          "base_uri": "https://localhost:8080/"
        },
        "id": "nwp1YiSZ3OwR",
        "outputId": "b54d0a3b-636d-4190-a925-af517b978a3a"
      },
      "source": [
        "set(RO_AMER_2019['mount'])"
      ],
      "execution_count": 1750,
      "outputs": [
        {
          "output_type": "execute_result",
          "data": {
            "text/plain": [
              "{1, 2, 3, 4, 5, 6, 12}"
            ]
          },
          "metadata": {},
          "execution_count": 1750
        }
      ]
    },
    {
      "cell_type": "code",
      "metadata": {
        "id": "5cbzZCHn3TUg"
      },
      "source": [
        "RO_AMERICA_19=RO_AMER_2019.sort_values(by='mount').drop([1358,1372,1613,1614,1886])"
      ],
      "execution_count": 1751,
      "outputs": []
    },
    {
      "cell_type": "code",
      "metadata": {
        "id": "l8_muR025WG_"
      },
      "source": [
        "ORDER_RO_A=RO_AMERICA_19['SALESORDERITEM']\n",
        "WEEKDAY_RO_A=RO_AMERICA_19['weekday']"
      ],
      "execution_count": 1752,
      "outputs": []
    },
    {
      "cell_type": "code",
      "metadata": {
        "colab": {
          "base_uri": "https://localhost:8080/",
          "height": 308
        },
        "id": "wNeSJAVk5mve",
        "outputId": "97faa114-3086-4dca-e083-4728ff7548db"
      },
      "source": [
        "\n",
        "plt.scatter(WEEKDAY_RO_A,ORDER_RO_A,color='navy') #พบว่าวันที่มีคำสังซื้อเยอะที่สุดคือวันพุธ\n",
        "plt.xlabel('Weekday')\n",
        "plt.ylabel('Sale_Order')\n",
        "plt.suptitle('Road Bike_America_19',fontsize=16)\n",
        "plt.show()"
      ],
      "execution_count": 1753,
      "outputs": [
        {
          "output_type": "display_data",
          "data": {
            "image/png": "[encoded data removed]",
            "text/plain": [
              "<Figure size 432x288 with 1 Axes>"
            ]
          },
          "metadata": {
            "needs_background": "light"
          }
        }
      ]
    },
    {
      "cell_type": "code",
      "metadata": {
        "id": "60hd-5aB6GrN"
      },
      "source": [
        "RO_AMERICA= pd.concat([RO_AMERICA_18,RO_AMERICA_19])"
      ],
      "execution_count": 1754,
      "outputs": []
    },
    {
      "cell_type": "markdown",
      "metadata": {
        "id": "NIkRBxvL2tLC"
      },
      "source": [
        "######2) Region: Asia_Pacific_and_Japan"
      ]
    },
    {
      "cell_type": "code",
      "metadata": {
        "id": "LiNDYF_p2s0j"
      },
      "source": [
        "RO_APJ=RO[RO['Region']=='APJ'] #ทวีป Asia_Pacific_and_Japan"
      ],
      "execution_count": 1755,
      "outputs": []
    },
    {
      "cell_type": "markdown",
      "metadata": {
        "id": "g5KbsQDo7EI2"
      },
      "source": [
        "######เรียกดูข้อมูลปี 2018 "
      ]
    },
    {
      "cell_type": "code",
      "metadata": {
        "id": "a7zkG4qV7FKC"
      },
      "source": [
        "RO_APJ_2018=RO_APJ[RO_APJ['year']==2018]"
      ],
      "execution_count": 1756,
      "outputs": []
    },
    {
      "cell_type": "code",
      "metadata": {
        "id": "vGHALuIB7Qkb"
      },
      "source": [
        "RO_APJ_18=RO_APJ_2018.sort_values(by='mount').drop(849)"
      ],
      "execution_count": 1757,
      "outputs": []
    },
    {
      "cell_type": "code",
      "metadata": {
        "id": "2Nuf_qCt8XEw"
      },
      "source": [
        "ORDER_RO_A=RO_APJ_18['SALESORDERITEM']\n",
        "WEEKDAY_RO_A=RO_APJ_18['weekday']"
      ],
      "execution_count": 1758,
      "outputs": []
    },
    {
      "cell_type": "code",
      "metadata": {
        "colab": {
          "base_uri": "https://localhost:8080/",
          "height": 308
        },
        "id": "fXQXstyk8afc",
        "outputId": "d6227dcc-768f-47fc-f787-7517e8ba9e25"
      },
      "source": [
        "\n",
        "plt.scatter(WEEKDAY_RO_A,ORDER_RO_A,color='navy') #พบว่าวันที่มีคำสังซื้อเยอะที่สุดคือวันพุธ และวันเสาร์\n",
        "plt.xlabel('Weekday')\n",
        "plt.ylabel('Sale_Order')\n",
        "plt.suptitle('Road Bike_APJ_2018',fontsize=16)\n",
        "plt.show()"
      ],
      "execution_count": 1759,
      "outputs": [
        {
          "output_type": "display_data",
          "data": {
            "image/png": "[encoded data removed]",
            "text/plain": [
              "<Figure size 432x288 with 1 Axes>"
            ]
          },
          "metadata": {
            "needs_background": "light"
          }
        }
      ]
    },
    {
      "cell_type": "markdown",
      "metadata": {
        "id": "hblYEm6C89nJ"
      },
      "source": [
        "######เรียกดูข้อมูลปี 2019"
      ]
    },
    {
      "cell_type": "code",
      "metadata": {
        "id": "yg6R4YR789F-"
      },
      "source": [
        "RO_APJ_2019=RO_APJ[RO_APJ['year']==2019]"
      ],
      "execution_count": 1760,
      "outputs": []
    },
    {
      "cell_type": "code",
      "metadata": {
        "id": "vxrY1HjY9E7Y"
      },
      "source": [
        "RO_APJ_19=RO_APJ_2019.sort_values(by='mount').drop([1184,1199,1277,1544])"
      ],
      "execution_count": 1761,
      "outputs": []
    },
    {
      "cell_type": "code",
      "metadata": {
        "colab": {
          "base_uri": "https://localhost:8080/",
          "height": 308
        },
        "id": "5i9kVEdv91Y4",
        "outputId": "167fecdb-9404-4459-f689-eb61b46f25c3"
      },
      "source": [
        "ORDER_RO_A=RO_APJ_19['SALESORDERITEM']\n",
        "WEEKDAY_RO_A=RO_APJ_19['weekday']\n",
        "plt.scatter(WEEKDAY_RO_A,ORDER_RO_A,color='navy') #พบว่าวันที่มีคำสังซื้อเยอะที่สุดคือวันพุธ และวันจันทร์\n",
        "plt.xlabel('Weekday')\n",
        "plt.ylabel('Sale_Order')\n",
        "plt.suptitle('Road Bike_APJ_2019',fontsize=16)\n",
        "plt.show()"
      ],
      "execution_count": 1762,
      "outputs": [
        {
          "output_type": "display_data",
          "data": {
            "image/png": "[encoded data removed]",
            "text/plain": [
              "<Figure size 432x288 with 1 Axes>"
            ]
          },
          "metadata": {
            "needs_background": "light"
          }
        }
      ]
    },
    {
      "cell_type": "code",
      "metadata": {
        "id": "izpQcRiVClLH"
      },
      "source": [
        "RO_AP_J= pd.concat([RO_APJ_18,RO_APJ_19])"
      ],
      "execution_count": 1763,
      "outputs": []
    },
    {
      "cell_type": "markdown",
      "metadata": {
        "id": "jC4Vcb9s-r4o"
      },
      "source": [
        "######3) Region:Europe_the_Middle_East_and_Africa"
      ]
    },
    {
      "cell_type": "code",
      "metadata": {
        "id": "FtKoCsp6-ro5"
      },
      "source": [
        "RO_EMEA=RO[RO['Region']=='EMEA'] #ทวีป Europe_the_Middle_East_and_Africa"
      ],
      "execution_count": 1764,
      "outputs": []
    },
    {
      "cell_type": "markdown",
      "metadata": {
        "id": "xpof_8Jv_i4E"
      },
      "source": [
        "######เรียกดูข้อมูลปี 2018 "
      ]
    },
    {
      "cell_type": "code",
      "metadata": {
        "id": "84dLH2Ug_imT"
      },
      "source": [
        "RO_EMEA_2018=RO_EMEA[RO_EMEA['year']==2018]"
      ],
      "execution_count": 1765,
      "outputs": []
    },
    {
      "cell_type": "code",
      "metadata": {
        "id": "UpbbUyHz_DTX"
      },
      "source": [
        "RO_EMEA_18=RO_EMEA_2018.sort_values(by='mount').drop([127,555,992,920,1082]) #ตัดข้อมูลที่สั่งในวันเดียวกันที่มีจำนวนคำสั่งซื้อน้อยกว่าทิ้ง "
      ],
      "execution_count": 1766,
      "outputs": []
    },
    {
      "cell_type": "code",
      "metadata": {
        "colab": {
          "base_uri": "https://localhost:8080/",
          "height": 308
        },
        "id": "_MyHdHrFAwlG",
        "outputId": "3039752f-d2b4-44b0-b79f-c0c597009af3"
      },
      "source": [
        "ORDER_RO_A=RO_EMEA_18['SALESORDERITEM']\n",
        "WEEKDAY_RO_A=RO_EMEA_18['weekday']\n",
        "plt.scatter(WEEKDAY_RO_A,ORDER_RO_A,color='navy') #พบว่าวันที่มีคำสังซื้อเยอะที่สุดคือวันพุธ และวันจันทร์\n",
        "plt.xlabel('Weekday')\n",
        "plt.ylabel('Sale_Order')\n",
        "plt.suptitle('Road Bike_AMEA_2019',fontsize=16)\n",
        "plt.show()"
      ],
      "execution_count": 1767,
      "outputs": [
        {
          "output_type": "display_data",
          "data": {
            "image/png": "[encoded data removed]",
            "text/plain": [
              "<Figure size 432x288 with 1 Axes>"
            ]
          },
          "metadata": {
            "needs_background": "light"
          }
        }
      ]
    },
    {
      "cell_type": "markdown",
      "metadata": {
        "id": "M36mJdB5A5b4"
      },
      "source": [
        "######เรียกดูข้อมูลปี 2019"
      ]
    },
    {
      "cell_type": "code",
      "metadata": {
        "id": "KY-Mjt8ZA8pz"
      },
      "source": [
        "RO_EMEA_2019=RO_EMEA[RO_EMEA['year']==2019]"
      ],
      "execution_count": 1768,
      "outputs": []
    },
    {
      "cell_type": "code",
      "metadata": {
        "id": "cQoVOFmPBFhn"
      },
      "source": [
        "RO_EMEA_19=RO_EMEA_2019.sort_values(by='mount').drop([1072,1167,1260,1287,1850])#ตัดข้อมูลที่สั่งในวันเดียวกันที่มีจำนวนคำสั่งซื้อน้อยกว่าทิ้ง "
      ],
      "execution_count": 1769,
      "outputs": []
    },
    {
      "cell_type": "code",
      "metadata": {
        "colab": {
          "base_uri": "https://localhost:8080/",
          "height": 308
        },
        "id": "l-aH3XgmCPxV",
        "outputId": "e419f60b-6721-4471-d64a-a9fbb20648af"
      },
      "source": [
        "ORDER_RO_A=RO_EMEA_19['SALESORDERITEM']\n",
        "WEEKDAY_RO_A=RO_EMEA_19['weekday']\n",
        "plt.scatter(WEEKDAY_RO_A,ORDER_RO_A,color='navy') #พบว่าวันที่มีคำสังซื้อเยอะที่สุดคือวันอาทิตย์\n",
        "plt.xlabel('Weekday')\n",
        "plt.ylabel('Sale_Order')\n",
        "plt.suptitle('Road Bike_EMEA_2019',fontsize=16)\n",
        "plt.show()"
      ],
      "execution_count": 1770,
      "outputs": [
        {
          "output_type": "display_data",
          "data": {
            "image/png": "[encoded data removed]",
            "text/plain": [
              "<Figure size 432x288 with 1 Axes>"
            ]
          },
          "metadata": {
            "needs_background": "light"
          }
        }
      ]
    },
    {
      "cell_type": "code",
      "metadata": {
        "id": "fa-JQt2WCe-_"
      },
      "source": [
        "RO_E_MEA= pd.concat([RO_EMEA_18,RO_EMEA_19])"
      ],
      "execution_count": 1771,
      "outputs": []
    },
    {
      "cell_type": "markdown",
      "metadata": {
        "id": "6Nlnq3q-C-ux"
      },
      "source": [
        "######รวมตาราง ทั้งสามทวีป"
      ]
    },
    {
      "cell_type": "code",
      "metadata": {
        "id": "T3qhNuRbDD2E"
      },
      "source": [
        "Road_Bike= pd.concat([RO_AMERICA,RO_AP_J,RO_E_MEA])"
      ],
      "execution_count": 1772,
      "outputs": []
    },
    {
      "cell_type": "code",
      "metadata": {
        "colab": {
          "base_uri": "https://localhost:8080/",
          "height": 308
        },
        "id": "lOEYWZEUDYTq",
        "outputId": "90a1bcff-a8a1-4360-b7f1-97a932f3f1c7"
      },
      "source": [
        "ORDER_RO_A=Road_Bike['SALESORDERITEM']\n",
        "WEEKDAY_RO_A=Road_Bike['weekday']\n",
        "plt.scatter(ORDER_RO_A,WEEKDAY_RO_A,color='navy') #พบว่าวันที่มีคำสังซื้อเยอะที่สุดคือวันอาทิตย์ จันทร์ และ ศุกร์\n",
        "plt.xlabel('Weekday')\n",
        "plt.ylabel('Sale_Order')\n",
        "plt.suptitle('Road Bike',fontsize=16)\n",
        "plt.show()"
      ],
      "execution_count": 1773,
      "outputs": [
        {
          "output_type": "display_data",
          "data": {
            "image/png": "[encoded data removed]",
            "text/plain": [
              "<Figure size 432x288 with 1 Axes>"
            ]
          },
          "metadata": {
            "needs_background": "light"
          }
        }
      ]
    },
    {
      "cell_type": "markdown",
      "metadata": {
        "id": "oJ7G-lNtEDE8"
      },
      "source": [
        "####4.3 รถจักยานต์ชนิด BMX : BX"
      ]
    },
    {
      "cell_type": "code",
      "metadata": {
        "id": "0cpjV7_5EPR2"
      },
      "source": [
        "BX=Sale[Sale['name_product']=='BX']"
      ],
      "execution_count": 1774,
      "outputs": []
    },
    {
      "cell_type": "markdown",
      "metadata": {
        "id": "6x1x26ZeEY8i"
      },
      "source": [
        "#####4.3.1 ดูข้อมูลในแต่ละทวีป"
      ]
    },
    {
      "cell_type": "markdown",
      "metadata": {
        "id": "ugNYbHnKEjKh"
      },
      "source": [
        "######1) Region:America"
      ]
    },
    {
      "cell_type": "code",
      "metadata": {
        "id": "SxBJziGHE0I4"
      },
      "source": [
        "BX_AMER=BX[BX['Region']=='AMER'] #ทวีป America"
      ],
      "execution_count": 1775,
      "outputs": []
    },
    {
      "cell_type": "markdown",
      "metadata": {
        "id": "En1AL0prFCM4"
      },
      "source": [
        "######เรียกดูข้อมูลปี 2018 "
      ]
    },
    {
      "cell_type": "code",
      "metadata": {
        "id": "XNO6b375FFEM"
      },
      "source": [
        "BX_AMER_2018=BX_AMER[BX_AMER['year']==2018]"
      ],
      "execution_count": 1776,
      "outputs": []
    },
    {
      "cell_type": "code",
      "metadata": {
        "id": "_a4zcTXDFLhg"
      },
      "source": [
        "BX_AMER_18=BX_AMER_2018.sort_values(by='mount').drop([595,596,600,601,602,680,833,770])"
      ],
      "execution_count": 1777,
      "outputs": []
    },
    {
      "cell_type": "code",
      "metadata": {
        "colab": {
          "base_uri": "https://localhost:8080/",
          "height": 0
        },
        "id": "WlkxZPHsGPdf",
        "outputId": "a33697f4-2ed5-4536-f057-bacd27db36cf"
      },
      "source": [
        "ORDER_RO_A=BX_AMER_18['SALESORDERITEM']\n",
        "WEEKDAY_RO_A=BX_AMER_18['weekday']\n",
        "plt.scatter(WEEKDAY_RO_A,ORDER_RO_A,color='navy') #พบว่าวันที่มีคำสังซื้อเยอะที่สุดคือวันพุธ และวันจันทร์\n",
        "plt.xlabel('Weekday')\n",
        "plt.ylabel('Sale_Order')\n",
        "plt.suptitle('BMX_AMER_18',fontsize=16)\n",
        "plt.show()"
      ],
      "execution_count": 1778,
      "outputs": [
        {
          "output_type": "display_data",
          "data": {
            "image/png": "[encoded data removed]",
            "text/plain": [
              "<Figure size 432x288 with 1 Axes>"
            ]
          },
          "metadata": {
            "needs_background": "light"
          }
        }
      ]
    },
    {
      "cell_type": "markdown",
      "metadata": {
        "id": "ykNNCZaZFDnR"
      },
      "source": [
        "######เรียกดูข้อมูลปี *2019* "
      ]
    },
    {
      "cell_type": "code",
      "metadata": {
        "id": "5SLZvbOPGSBp"
      },
      "source": [
        "BX_AMER_2019=BX_AMER[BX_AMER['year']==2019]"
      ],
      "execution_count": 1779,
      "outputs": []
    },
    {
      "cell_type": "code",
      "metadata": {
        "id": "FXyZH1tcGR21"
      },
      "source": [
        "BX_AMER_19=BX_AMER_2019.sort_values(by='mount').drop([1407,1416,1413,1368,1579,1719,1760,1908,1770,1893])"
      ],
      "execution_count": 1780,
      "outputs": []
    },
    {
      "cell_type": "code",
      "metadata": {
        "colab": {
          "base_uri": "https://localhost:8080/",
          "height": 0
        },
        "id": "gUC0uGJ-E9yj",
        "outputId": "ead62274-d3d2-406c-b4b4-2b902deec5fa"
      },
      "source": [
        "ORDER_RO_A=BX_AMER_19['SALESORDERITEM']\n",
        "WEEKDAY_RO_A=BX_AMER_19['weekday']\n",
        "plt.scatter(WEEKDAY_RO_A,ORDER_RO_A,color='navy') #พบว่าวันที่มีคำสังซื้อเยอะที่สุดคือวันพุธ และวันจันทร์\n",
        "plt.xlabel('Weekday')\n",
        "plt.ylabel('Sale_Order')\n",
        "plt.suptitle('BMX_AMER_19',fontsize=16)\n",
        "plt.show()"
      ],
      "execution_count": 1781,
      "outputs": [
        {
          "output_type": "display_data",
          "data": {
            "image/png": "[encoded data removed]",
            "text/plain": [
              "<Figure size 432x288 with 1 Axes>"
            ]
          },
          "metadata": {
            "needs_background": "light"
          }
        }
      ]
    },
    {
      "cell_type": "code",
      "metadata": {
        "id": "0AHx9h2OITv1"
      },
      "source": [
        "BX_A_MER= pd.concat([BX_AMER_18,BX_AMER_19])"
      ],
      "execution_count": 1782,
      "outputs": []
    },
    {
      "cell_type": "markdown",
      "metadata": {
        "id": "mYH7VO6bEjEO"
      },
      "source": [
        "######2) Region: Asia_Pacific_and_Japan"
      ]
    },
    {
      "cell_type": "code",
      "metadata": {
        "id": "iKU77JW2Iupd"
      },
      "source": [
        "BX_APJ=BX[BX['Region']=='APJ'] #ทวีป Asia_Pacific_and_Japan"
      ],
      "execution_count": 1783,
      "outputs": []
    },
    {
      "cell_type": "markdown",
      "metadata": {
        "id": "n5mPdiVVJQK-"
      },
      "source": [
        "######เรียกดูข้อมูลปี 2018 "
      ]
    },
    {
      "cell_type": "code",
      "metadata": {
        "id": "gnUsnN0sIlVI"
      },
      "source": [
        "BX_APJ_2018=BX_APJ[BX_APJ['year']==2018]"
      ],
      "execution_count": 1784,
      "outputs": []
    },
    {
      "cell_type": "code",
      "metadata": {
        "colab": {
          "base_uri": "https://localhost:8080/"
        },
        "id": "QG2df7-xIlMG",
        "outputId": "474bd013-9fa7-4c5c-fe8b-4a7532843b5f"
      },
      "source": [
        "set(BX_APJ['mount'])"
      ],
      "execution_count": 1785,
      "outputs": [
        {
          "output_type": "execute_result",
          "data": {
            "text/plain": [
              "{1, 2, 3, 4, 5, 6, 7, 8, 9, 10, 11, 12}"
            ]
          },
          "metadata": {},
          "execution_count": 1785
        }
      ]
    },
    {
      "cell_type": "code",
      "metadata": {
        "id": "5mB70H4eIlDw"
      },
      "source": [
        "BX_APJ_2018_6=BX_APJ_2018[(BX_APJ_2018['mount']>=1)&(BX_APJ_2018['mount']<=6)].sort_values(by='mount').drop([10,46,239,238,117,155,242,245,349,357,358]) #ครึ่งปีแรก"
      ],
      "execution_count": 1786,
      "outputs": []
    },
    {
      "cell_type": "code",
      "metadata": {
        "id": "F5BC_5LQIkvV"
      },
      "source": [
        "BX_APJ_2018_12=BX_APJ_2018[(BX_APJ_2018['mount']>=7)&(BX_APJ_2018['mount']<=12)].sort_values(by='mount').drop([391,395,538,645,666,678,823,786,795,973,968,967,851,977,981,1062,1116]) #ครึ่งปีหลัง"
      ],
      "execution_count": 1787,
      "outputs": []
    },
    {
      "cell_type": "code",
      "metadata": {
        "id": "uG4xIQDANMHx"
      },
      "source": [
        "BX_APJ_18= pd.concat([BX_APJ_2018_6,BX_APJ_2018_12])"
      ],
      "execution_count": 1788,
      "outputs": []
    },
    {
      "cell_type": "code",
      "metadata": {
        "colab": {
          "base_uri": "https://localhost:8080/",
          "height": 0
        },
        "id": "qluAnjESNXX_",
        "outputId": "c9386966-8a28-4d31-830d-0e96d69506dc"
      },
      "source": [
        "ORDER_RO_A=BX_APJ_18['SALESORDERITEM']\n",
        "WEEKDAY_RO_A=BX_APJ_18['weekday']\n",
        "plt.scatter(WEEKDAY_RO_A,ORDER_RO_A,color='navy') #พบว่าวันที่มีคำสังซื้อเยอะที่สุดคือวันพุธ และวันเสาร์\n",
        "plt.xlabel('Weekday')\n",
        "plt.ylabel('Sale_Order')\n",
        "plt.suptitle('BMX_APJ_2018',fontsize=16)\n",
        "plt.show()"
      ],
      "execution_count": 1789,
      "outputs": [
        {
          "output_type": "display_data",
          "data": {
            "image/png": "[encoded data removed]",
            "text/plain": [
              "<Figure size 432x288 with 1 Axes>"
            ]
          },
          "metadata": {
            "needs_background": "light"
          }
        }
      ]
    },
    {
      "cell_type": "markdown",
      "metadata": {
        "id": "7JfTzsMpNoG7"
      },
      "source": [
        "######เรียกดูข้อมูลปี 2019 "
      ]
    },
    {
      "cell_type": "code",
      "metadata": {
        "id": "nc54K9KiNXQZ"
      },
      "source": [
        "BX_APJ_2019=BX_APJ[BX_APJ['year']==2019]"
      ],
      "execution_count": 1790,
      "outputs": []
    },
    {
      "cell_type": "code",
      "metadata": {
        "id": "7OPtEO6QN7uW"
      },
      "source": [
        "BX_APJ_19=BX_APJ_2019.sort_values(by='mount').drop([1200,1269,1432,1521,1636,1600,1598,1926,1928])"
      ],
      "execution_count": 1791,
      "outputs": []
    },
    {
      "cell_type": "code",
      "metadata": {
        "colab": {
          "base_uri": "https://localhost:8080/",
          "height": 0
        },
        "id": "hVTNvHOXPQlR",
        "outputId": "5b4eff7e-3057-48bc-b778-2fc195b991f2"
      },
      "source": [
        "ORDER_RO_A=BX_APJ_19['SALESORDERITEM']\n",
        "WEEKDAY_RO_A=BX_APJ_19['weekday']\n",
        "plt.scatter(WEEKDAY_RO_A,ORDER_RO_A,color='navy') #พบว่าวันที่มีคำสังซื้อเยอะที่สุดคือวันอังคาร\n",
        "plt.xlabel('Weekday')\n",
        "plt.ylabel('Sale_Order')\n",
        "plt.suptitle('BMX_APJ_2019',fontsize=16)\n",
        "plt.show()"
      ],
      "execution_count": 1792,
      "outputs": [
        {
          "output_type": "display_data",
          "data": {
            "image/png": "[encoded data removed]",
            "text/plain": [
              "<Figure size 432x288 with 1 Axes>"
            ]
          },
          "metadata": {
            "needs_background": "light"
          }
        }
      ]
    },
    {
      "cell_type": "code",
      "metadata": {
        "id": "MpVF_RvLPt9q"
      },
      "source": [
        "BX_A_PJ= pd.concat([BX_APJ_18,BX_APJ_19])"
      ],
      "execution_count": 1793,
      "outputs": []
    },
    {
      "cell_type": "markdown",
      "metadata": {
        "id": "J_B5rBzZEi-s"
      },
      "source": [
        "######3) Region:Europe_the_Middle_East_and_Africa"
      ]
    },
    {
      "cell_type": "code",
      "metadata": {
        "id": "iwO7OfAlQDFR"
      },
      "source": [
        "BX_EMEA=BX[BX['Region']=='EMEA']"
      ],
      "execution_count": 1794,
      "outputs": []
    },
    {
      "cell_type": "code",
      "metadata": {
        "colab": {
          "base_uri": "https://localhost:8080/",
          "height": 0
        },
        "id": "ivq8dAfpKeXf",
        "outputId": "043a3486-35ee-458c-c5fd-339b7f2cbf4a"
      },
      "source": [
        "BX_EMEA"
      ],
      "execution_count": 1795,
      "outputs": [
        {
          "output_type": "execute_result",
          "data": {
            "text/html": [
              "<div>\n",
              "<style scoped>\n",
              "    .dataframe tbody tr th:only-of-type {\n",
              "        vertical-align: middle;\n",
              "    }\n",
              "\n",
              "    .dataframe tbody tr th {\n",
              "        vertical-align: top;\n",
              "    }\n",
              "\n",
              "    .dataframe thead th {\n",
              "        text-align: right;\n",
              "    }\n",
              "</style>\n",
              "<table border=\"1\" class=\"dataframe\">\n",
              "  <thead>\n",
              "    <tr style=\"text-align: right;\">\n",
              "      <th></th>\n",
              "      <th>SALESORDERID</th>\n",
              "      <th>SALESORDERITEM</th>\n",
              "      <th>PRODUCTID</th>\n",
              "      <th>NOTEID</th>\n",
              "      <th>CURRENCY</th>\n",
              "      <th>GROSSAMOUNT</th>\n",
              "      <th>NETAMOUNT</th>\n",
              "      <th>TAXAMOUNT</th>\n",
              "      <th>ITEMATPSTATUS</th>\n",
              "      <th>OPITEMPOS</th>\n",
              "      <th>QUANTITY</th>\n",
              "      <th>QUANTITYUNIT</th>\n",
              "      <th>DELIVERYDATE</th>\n",
              "      <th>name_product</th>\n",
              "      <th>Region</th>\n",
              "      <th>Name_Region</th>\n",
              "      <th>DATE</th>\n",
              "      <th>weekday</th>\n",
              "      <th>day</th>\n",
              "      <th>mount</th>\n",
              "      <th>year</th>\n",
              "    </tr>\n",
              "  </thead>\n",
              "  <tbody>\n",
              "    <tr>\n",
              "      <th>13</th>\n",
              "      <td>500000003</td>\n",
              "      <td>20</td>\n",
              "      <td>BX-1013</td>\n",
              "      <td></td>\n",
              "      <td>USD</td>\n",
              "      <td>449</td>\n",
              "      <td>392.875</td>\n",
              "      <td>56.125</td>\n",
              "      <td>I</td>\n",
              "      <td>NaN</td>\n",
              "      <td>2</td>\n",
              "      <td>EA</td>\n",
              "      <td>20180223</td>\n",
              "      <td>BX</td>\n",
              "      <td>EMEA</td>\n",
              "      <td>2</td>\n",
              "      <td>2018-02-23</td>\n",
              "      <td>4</td>\n",
              "      <td>23</td>\n",
              "      <td>2</td>\n",
              "      <td>2018</td>\n",
              "    </tr>\n",
              "    <tr>\n",
              "      <th>20</th>\n",
              "      <td>500000004</td>\n",
              "      <td>10</td>\n",
              "      <td>BX-1014</td>\n",
              "      <td></td>\n",
              "      <td>USD</td>\n",
              "      <td>799</td>\n",
              "      <td>699.125</td>\n",
              "      <td>99.875</td>\n",
              "      <td>I</td>\n",
              "      <td>NaN</td>\n",
              "      <td>3</td>\n",
              "      <td>EA</td>\n",
              "      <td>20180305</td>\n",
              "      <td>BX</td>\n",
              "      <td>EMEA</td>\n",
              "      <td>2</td>\n",
              "      <td>2018-03-05</td>\n",
              "      <td>0</td>\n",
              "      <td>5</td>\n",
              "      <td>3</td>\n",
              "      <td>2018</td>\n",
              "    </tr>\n",
              "    <tr>\n",
              "      <th>23</th>\n",
              "      <td>500000004</td>\n",
              "      <td>40</td>\n",
              "      <td>BX-1013</td>\n",
              "      <td></td>\n",
              "      <td>USD</td>\n",
              "      <td>449</td>\n",
              "      <td>392.875</td>\n",
              "      <td>56.125</td>\n",
              "      <td>I</td>\n",
              "      <td>NaN</td>\n",
              "      <td>6</td>\n",
              "      <td>EA</td>\n",
              "      <td>20180305</td>\n",
              "      <td>BX</td>\n",
              "      <td>EMEA</td>\n",
              "      <td>2</td>\n",
              "      <td>2018-03-05</td>\n",
              "      <td>0</td>\n",
              "      <td>5</td>\n",
              "      <td>3</td>\n",
              "      <td>2018</td>\n",
              "    </tr>\n",
              "    <tr>\n",
              "      <th>31</th>\n",
              "      <td>500000005</td>\n",
              "      <td>40</td>\n",
              "      <td>BX-1011</td>\n",
              "      <td></td>\n",
              "      <td>USD</td>\n",
              "      <td>249</td>\n",
              "      <td>217.875</td>\n",
              "      <td>31.125</td>\n",
              "      <td>I</td>\n",
              "      <td>NaN</td>\n",
              "      <td>10</td>\n",
              "      <td>EA</td>\n",
              "      <td>20180301</td>\n",
              "      <td>BX</td>\n",
              "      <td>EMEA</td>\n",
              "      <td>2</td>\n",
              "      <td>2018-03-01</td>\n",
              "      <td>3</td>\n",
              "      <td>1</td>\n",
              "      <td>3</td>\n",
              "      <td>2018</td>\n",
              "    </tr>\n",
              "    <tr>\n",
              "      <th>86</th>\n",
              "      <td>500000016</td>\n",
              "      <td>20</td>\n",
              "      <td>BX-1012</td>\n",
              "      <td></td>\n",
              "      <td>USD</td>\n",
              "      <td>399</td>\n",
              "      <td>349.125</td>\n",
              "      <td>49.875</td>\n",
              "      <td>I</td>\n",
              "      <td>NaN</td>\n",
              "      <td>1</td>\n",
              "      <td>EA</td>\n",
              "      <td>20180307</td>\n",
              "      <td>BX</td>\n",
              "      <td>EMEA</td>\n",
              "      <td>2</td>\n",
              "      <td>2018-03-07</td>\n",
              "      <td>2</td>\n",
              "      <td>7</td>\n",
              "      <td>3</td>\n",
              "      <td>2018</td>\n",
              "    </tr>\n",
              "    <tr>\n",
              "      <th>...</th>\n",
              "      <td>...</td>\n",
              "      <td>...</td>\n",
              "      <td>...</td>\n",
              "      <td>...</td>\n",
              "      <td>...</td>\n",
              "      <td>...</td>\n",
              "      <td>...</td>\n",
              "      <td>...</td>\n",
              "      <td>...</td>\n",
              "      <td>...</td>\n",
              "      <td>...</td>\n",
              "      <td>...</td>\n",
              "      <td>...</td>\n",
              "      <td>...</td>\n",
              "      <td>...</td>\n",
              "      <td>...</td>\n",
              "      <td>...</td>\n",
              "      <td>...</td>\n",
              "      <td>...</td>\n",
              "      <td>...</td>\n",
              "      <td>...</td>\n",
              "    </tr>\n",
              "    <tr>\n",
              "      <th>1863</th>\n",
              "      <td>500000321</td>\n",
              "      <td>90</td>\n",
              "      <td>BX-1012</td>\n",
              "      <td></td>\n",
              "      <td>USD</td>\n",
              "      <td>399</td>\n",
              "      <td>349.125</td>\n",
              "      <td>49.875</td>\n",
              "      <td>I</td>\n",
              "      <td>NaN</td>\n",
              "      <td>7</td>\n",
              "      <td>EA</td>\n",
              "      <td>20190605</td>\n",
              "      <td>BX</td>\n",
              "      <td>EMEA</td>\n",
              "      <td>2</td>\n",
              "      <td>2019-06-05</td>\n",
              "      <td>2</td>\n",
              "      <td>5</td>\n",
              "      <td>6</td>\n",
              "      <td>2019</td>\n",
              "    </tr>\n",
              "    <tr>\n",
              "      <th>1867</th>\n",
              "      <td>500000322</td>\n",
              "      <td>30</td>\n",
              "      <td>BX-1013</td>\n",
              "      <td></td>\n",
              "      <td>USD</td>\n",
              "      <td>449</td>\n",
              "      <td>392.875</td>\n",
              "      <td>56.125</td>\n",
              "      <td>I</td>\n",
              "      <td>NaN</td>\n",
              "      <td>5</td>\n",
              "      <td>EA</td>\n",
              "      <td>20190617</td>\n",
              "      <td>BX</td>\n",
              "      <td>EMEA</td>\n",
              "      <td>2</td>\n",
              "      <td>2019-06-17</td>\n",
              "      <td>0</td>\n",
              "      <td>17</td>\n",
              "      <td>6</td>\n",
              "      <td>2019</td>\n",
              "    </tr>\n",
              "    <tr>\n",
              "      <th>1880</th>\n",
              "      <td>500000323</td>\n",
              "      <td>60</td>\n",
              "      <td>BX-1011</td>\n",
              "      <td></td>\n",
              "      <td>USD</td>\n",
              "      <td>249</td>\n",
              "      <td>217.875</td>\n",
              "      <td>31.125</td>\n",
              "      <td>I</td>\n",
              "      <td>NaN</td>\n",
              "      <td>9</td>\n",
              "      <td>EA</td>\n",
              "      <td>20190610</td>\n",
              "      <td>BX</td>\n",
              "      <td>EMEA</td>\n",
              "      <td>2</td>\n",
              "      <td>2019-06-10</td>\n",
              "      <td>0</td>\n",
              "      <td>10</td>\n",
              "      <td>6</td>\n",
              "      <td>2019</td>\n",
              "    </tr>\n",
              "    <tr>\n",
              "      <th>1883</th>\n",
              "      <td>500000324</td>\n",
              "      <td>20</td>\n",
              "      <td>BX-1016</td>\n",
              "      <td></td>\n",
              "      <td>USD</td>\n",
              "      <td>319</td>\n",
              "      <td>279.125</td>\n",
              "      <td>39.875</td>\n",
              "      <td>I</td>\n",
              "      <td>NaN</td>\n",
              "      <td>2</td>\n",
              "      <td>EA</td>\n",
              "      <td>20190606</td>\n",
              "      <td>BX</td>\n",
              "      <td>EMEA</td>\n",
              "      <td>2</td>\n",
              "      <td>2019-06-06</td>\n",
              "      <td>3</td>\n",
              "      <td>6</td>\n",
              "      <td>6</td>\n",
              "      <td>2019</td>\n",
              "    </tr>\n",
              "    <tr>\n",
              "      <th>1884</th>\n",
              "      <td>500000324</td>\n",
              "      <td>30</td>\n",
              "      <td>BX-1013</td>\n",
              "      <td></td>\n",
              "      <td>USD</td>\n",
              "      <td>449</td>\n",
              "      <td>392.875</td>\n",
              "      <td>56.125</td>\n",
              "      <td>I</td>\n",
              "      <td>NaN</td>\n",
              "      <td>7</td>\n",
              "      <td>EA</td>\n",
              "      <td>20190606</td>\n",
              "      <td>BX</td>\n",
              "      <td>EMEA</td>\n",
              "      <td>2</td>\n",
              "      <td>2019-06-06</td>\n",
              "      <td>3</td>\n",
              "      <td>6</td>\n",
              "      <td>6</td>\n",
              "      <td>2019</td>\n",
              "    </tr>\n",
              "  </tbody>\n",
              "</table>\n",
              "<p>146 rows × 21 columns</p>\n",
              "</div>"
            ],
            "text/plain": [
              "      SALESORDERID  SALESORDERITEM PRODUCTID NOTEID  ... weekday  day  mount  year\n",
              "13       500000003              20   BX-1013         ...       4   23      2  2018\n",
              "20       500000004              10   BX-1014         ...       0    5      3  2018\n",
              "23       500000004              40   BX-1013         ...       0    5      3  2018\n",
              "31       500000005              40   BX-1011         ...       3    1      3  2018\n",
              "86       500000016              20   BX-1012         ...       2    7      3  2018\n",
              "...            ...             ...       ...    ...  ...     ...  ...    ...   ...\n",
              "1863     500000321              90   BX-1012         ...       2    5      6  2019\n",
              "1867     500000322              30   BX-1013         ...       0   17      6  2019\n",
              "1880     500000323              60   BX-1011         ...       0   10      6  2019\n",
              "1883     500000324              20   BX-1016         ...       3    6      6  2019\n",
              "1884     500000324              30   BX-1013         ...       3    6      6  2019\n",
              "\n",
              "[146 rows x 21 columns]"
            ]
          },
          "metadata": {},
          "execution_count": 1795
        }
      ]
    },
    {
      "cell_type": "code",
      "metadata": {
        "id": "KPYwKQIjKjqs"
      },
      "source": [
        ""
      ],
      "execution_count": 1795,
      "outputs": []
    },
    {
      "cell_type": "markdown",
      "metadata": {
        "id": "Ue6dt8NgQcfh"
      },
      "source": [
        "######เรียกดูข้อมูลปี 2018 "
      ]
    },
    {
      "cell_type": "code",
      "metadata": {
        "id": "wdjURlYfQhjE"
      },
      "source": [
        "BX_EMEA_2018=BX_EMEA[BX_EMEA['year']==2018]"
      ],
      "execution_count": 1796,
      "outputs": []
    },
    {
      "cell_type": "code",
      "metadata": {
        "colab": {
          "base_uri": "https://localhost:8080/"
        },
        "id": "uUEBbXHDQ20a",
        "outputId": "95a8f064-0f2c-4e6d-9e34-5ebb09d3af68"
      },
      "source": [
        "set(BX_EMEA_2018['mount'])"
      ],
      "execution_count": 1797,
      "outputs": [
        {
          "output_type": "execute_result",
          "data": {
            "text/plain": [
              "{2, 3, 4, 5, 6, 7, 8, 9, 10, 11, 12}"
            ]
          },
          "metadata": {},
          "execution_count": 1797
        }
      ]
    },
    {
      "cell_type": "code",
      "metadata": {
        "id": "GAvCo0iIRFyh"
      },
      "source": [
        "BX_EMEA_2018_6=BX_EMEA_2018[(BX_EMEA_2018['mount']>=2)&(BX_EMEA_2018['mount']<=6)].sort_values(by='mount').drop([165,20,132,261,287,267,263,375,206,219,222,218,376])"
      ],
      "execution_count": 1798,
      "outputs": []
    },
    {
      "cell_type": "code",
      "metadata": {
        "id": "3aDJqsuESZMa"
      },
      "source": [
        "BX_EMEA_2018_12=BX_EMEA_2018[(BX_EMEA_2018['mount']>=7)&(BX_EMEA_2018['mount']<=12)].sort_values(by='mount').drop([881,879,755,705,700,759,889,1081,1086,1038,1040,958])"
      ],
      "execution_count": 1799,
      "outputs": []
    },
    {
      "cell_type": "code",
      "metadata": {
        "id": "VXgJS4EkTk8N"
      },
      "source": [
        "BX_EMEA_18= pd.concat([BX_EMEA_2018_6,BX_EMEA_2018_12])"
      ],
      "execution_count": 1800,
      "outputs": []
    },
    {
      "cell_type": "code",
      "metadata": {
        "colab": {
          "base_uri": "https://localhost:8080/",
          "height": 0
        },
        "id": "RQtbumwFEfER",
        "outputId": "9a1b5470-501f-40f6-9e2e-4f10e08031a4"
      },
      "source": [
        "ORDER_RO_A=BX_EMEA_18['SALESORDERITEM']\n",
        "WEEKDAY_RO_A=BX_EMEA_18['weekday']\n",
        "plt.scatter(WEEKDAY_RO_A,ORDER_RO_A,color='navy') #พบว่าวันที่มีคำสังซื้อเยอะที่สุดคือวันอังคาร\n",
        "plt.xlabel('Weekday')\n",
        "plt.ylabel('Sale_Order')\n",
        "plt.suptitle('BMX_EMEA_2018',fontsize=16)\n",
        "plt.show()"
      ],
      "execution_count": 1801,
      "outputs": [
        {
          "output_type": "display_data",
          "data": {
            "image/png": "[encoded data removed]",
            "text/plain": [
              "<Figure size 432x288 with 1 Axes>"
            ]
          },
          "metadata": {
            "needs_background": "light"
          }
        }
      ]
    },
    {
      "cell_type": "markdown",
      "metadata": {
        "id": "tgVIJ_qyQdaV"
      },
      "source": [
        "######เรียกดูข้อมูลปี 2019"
      ]
    },
    {
      "cell_type": "code",
      "metadata": {
        "id": "rRbJgj_uUAgl"
      },
      "source": [
        "BX_EMEA_2019=BX_EMEA[BX_EMEA['year']==2019]"
      ],
      "execution_count": 1802,
      "outputs": []
    },
    {
      "cell_type": "code",
      "metadata": {
        "colab": {
          "base_uri": "https://localhost:8080/"
        },
        "id": "TAGR4HHpUcaL",
        "outputId": "3ca04102-5cd6-45df-f061-841ae90ab974"
      },
      "source": [
        "set(BX_EMEA_2019['mount'])"
      ],
      "execution_count": 1803,
      "outputs": [
        {
          "output_type": "execute_result",
          "data": {
            "text/plain": [
              "{1, 2, 3, 4, 5, 6}"
            ]
          },
          "metadata": {},
          "execution_count": 1803
        }
      ]
    },
    {
      "cell_type": "code",
      "metadata": {
        "id": "k2_3-VTrUEQx"
      },
      "source": [
        "BX_EMEA_2019_3=BX_EMEA_2019[(BX_EMEA_2019['mount']>=1)&(BX_EMEA_2019['mount']<=3)].sort_values(by='mount').drop([1292,1285,1282,1146,1179,1143,1347,1346,1348,1478,1376,1449])"
      ],
      "execution_count": 1804,
      "outputs": []
    },
    {
      "cell_type": "code",
      "metadata": {
        "id": "FXR5s-shULh_"
      },
      "source": [
        "BX_EMEA_2019_6=BX_EMEA_2019[(BX_EMEA_2019['mount']>=4)&(BX_EMEA_2019['mount']<=6)].sort_values(by='mount').drop([1494,1749,1708,1668,1666,1744,1861,1883])"
      ],
      "execution_count": 1805,
      "outputs": []
    },
    {
      "cell_type": "code",
      "metadata": {
        "id": "JdoT0vZDXJyp"
      },
      "source": [
        "BX_EMEA_19= pd.concat([BX_EMEA_2019_3,BX_EMEA_2019_6])"
      ],
      "execution_count": 1806,
      "outputs": []
    },
    {
      "cell_type": "code",
      "metadata": {
        "colab": {
          "base_uri": "https://localhost:8080/",
          "height": 0
        },
        "id": "VJsmMUUoXU2W",
        "outputId": "79683de3-57f8-404d-f83d-303ab46e4be6"
      },
      "source": [
        "ORDER_RO_A=BX_EMEA_19['SALESORDERITEM']\n",
        "WEEKDAY_RO_A=BX_EMEA_19['weekday']\n",
        "plt.scatter(WEEKDAY_RO_A,ORDER_RO_A,color='navy') #พบว่าวันที่มีคำสังซื้อเยอะที่สุดคือวันพุธ และวันอังคาร\n",
        "plt.xlabel('Weekday')\n",
        "plt.ylabel('Sale_Order')\n",
        "plt.suptitle('BX_EMEA_19',fontsize=16)\n",
        "plt.show()"
      ],
      "execution_count": 1807,
      "outputs": [
        {
          "output_type": "display_data",
          "data": {
            "image/png": "[encoded data removed]",
            "text/plain": [
              "<Figure size 432x288 with 1 Axes>"
            ]
          },
          "metadata": {
            "needs_background": "light"
          }
        }
      ]
    },
    {
      "cell_type": "code",
      "metadata": {
        "id": "yMOi2neXXxKs"
      },
      "source": [
        "BX_EM_EA= pd.concat([BX_EMEA_18,BX_AMER_19])"
      ],
      "execution_count": 1808,
      "outputs": []
    },
    {
      "cell_type": "code",
      "metadata": {
        "id": "mS7eOs7RXhng"
      },
      "source": [
        "BMX= pd.concat([BX_A_MER,BX_A_PJ,BX_EM_EA]) #รวมทวีป"
      ],
      "execution_count": 1809,
      "outputs": []
    },
    {
      "cell_type": "code",
      "metadata": {
        "colab": {
          "base_uri": "https://localhost:8080/",
          "height": 0
        },
        "id": "4W9Id_FTYj4A",
        "outputId": "612693a8-e880-4b9a-edd6-176c8b6bf715"
      },
      "source": [
        "ORDER_RO_A=BMX['SALESORDERITEM']\n",
        "WEEKDAY_RO_A=BMX['weekday']\n",
        "plt.scatter(ORDER_RO_A,WEEKDAY_RO_A,color='navy') #พบว่าวันที่มีคำสังซื้อเยอะที่สุดคือวันพุธ เสาร์ ศุกร์และวันอังคาร \n",
        "plt.ylabel('Weekday')\n",
        "plt.xlabel('Sale_Order')\n",
        "plt.suptitle('BMX',fontsize=16)\n",
        "plt.show()"
      ],
      "execution_count": 1810,
      "outputs": [
        {
          "output_type": "display_data",
          "data": {
            "image/png": "[encoded data removed]",
            "text/plain": [
              "<Figure size 432x288 with 1 Axes>"
            ]
          },
          "metadata": {
            "needs_background": "light"
          }
        }
      ]
    },
    {
      "cell_type": "markdown",
      "metadata": {
        "id": "ByVXxO1oY3-7"
      },
      "source": [
        "####4.4 รถจักยานต์ชนิด Cyclo-cross : CC\n",
        "\n",
        "\n",
        "\n"
      ]
    },
    {
      "cell_type": "code",
      "metadata": {
        "id": "En4hO3SvZBGL"
      },
      "source": [
        "CC=Sale[Sale['name_product']=='CC']"
      ],
      "execution_count": 1811,
      "outputs": []
    },
    {
      "cell_type": "code",
      "metadata": {
        "colab": {
          "base_uri": "https://localhost:8080/",
          "height": 0
        },
        "id": "Wyl2N6MQZJXA",
        "outputId": "83e40d5d-de47-4787-d1ff-41b9101a9f7c"
      },
      "source": [
        "CC"
      ],
      "execution_count": 1812,
      "outputs": [
        {
          "output_type": "execute_result",
          "data": {
            "text/html": [
              "<div>\n",
              "<style scoped>\n",
              "    .dataframe tbody tr th:only-of-type {\n",
              "        vertical-align: middle;\n",
              "    }\n",
              "\n",
              "    .dataframe tbody tr th {\n",
              "        vertical-align: top;\n",
              "    }\n",
              "\n",
              "    .dataframe thead th {\n",
              "        text-align: right;\n",
              "    }\n",
              "</style>\n",
              "<table border=\"1\" class=\"dataframe\">\n",
              "  <thead>\n",
              "    <tr style=\"text-align: right;\">\n",
              "      <th></th>\n",
              "      <th>SALESORDERID</th>\n",
              "      <th>SALESORDERITEM</th>\n",
              "      <th>PRODUCTID</th>\n",
              "      <th>NOTEID</th>\n",
              "      <th>CURRENCY</th>\n",
              "      <th>GROSSAMOUNT</th>\n",
              "      <th>NETAMOUNT</th>\n",
              "      <th>TAXAMOUNT</th>\n",
              "      <th>ITEMATPSTATUS</th>\n",
              "      <th>OPITEMPOS</th>\n",
              "      <th>QUANTITY</th>\n",
              "      <th>QUANTITYUNIT</th>\n",
              "      <th>DELIVERYDATE</th>\n",
              "      <th>name_product</th>\n",
              "      <th>Region</th>\n",
              "      <th>Name_Region</th>\n",
              "      <th>DATE</th>\n",
              "      <th>weekday</th>\n",
              "      <th>day</th>\n",
              "      <th>mount</th>\n",
              "      <th>year</th>\n",
              "    </tr>\n",
              "  </thead>\n",
              "  <tbody>\n",
              "    <tr>\n",
              "      <th>4</th>\n",
              "      <td>500000001</td>\n",
              "      <td>30</td>\n",
              "      <td>CC-1021</td>\n",
              "      <td></td>\n",
              "      <td>USD</td>\n",
              "      <td>1144</td>\n",
              "      <td>1001.000</td>\n",
              "      <td>143.000</td>\n",
              "      <td>I</td>\n",
              "      <td>NaN</td>\n",
              "      <td>3</td>\n",
              "      <td>EA</td>\n",
              "      <td>20180228</td>\n",
              "      <td>CC</td>\n",
              "      <td>EMEA</td>\n",
              "      <td>2</td>\n",
              "      <td>2018-02-28</td>\n",
              "      <td>2</td>\n",
              "      <td>28</td>\n",
              "      <td>2</td>\n",
              "      <td>2018</td>\n",
              "    </tr>\n",
              "    <tr>\n",
              "      <th>11</th>\n",
              "      <td>500000002</td>\n",
              "      <td>60</td>\n",
              "      <td>CC-1021</td>\n",
              "      <td></td>\n",
              "      <td>USD</td>\n",
              "      <td>1144</td>\n",
              "      <td>1001.000</td>\n",
              "      <td>143.000</td>\n",
              "      <td>I</td>\n",
              "      <td>NaN</td>\n",
              "      <td>4</td>\n",
              "      <td>EA</td>\n",
              "      <td>20180309</td>\n",
              "      <td>CC</td>\n",
              "      <td>APJ</td>\n",
              "      <td>1</td>\n",
              "      <td>2018-03-09</td>\n",
              "      <td>4</td>\n",
              "      <td>9</td>\n",
              "      <td>3</td>\n",
              "      <td>2018</td>\n",
              "    </tr>\n",
              "    <tr>\n",
              "      <th>29</th>\n",
              "      <td>500000005</td>\n",
              "      <td>20</td>\n",
              "      <td>CC-1021</td>\n",
              "      <td></td>\n",
              "      <td>USD</td>\n",
              "      <td>1144</td>\n",
              "      <td>1001.000</td>\n",
              "      <td>143.000</td>\n",
              "      <td>I</td>\n",
              "      <td>NaN</td>\n",
              "      <td>3</td>\n",
              "      <td>EA</td>\n",
              "      <td>20180301</td>\n",
              "      <td>CC</td>\n",
              "      <td>EMEA</td>\n",
              "      <td>2</td>\n",
              "      <td>2018-03-01</td>\n",
              "      <td>3</td>\n",
              "      <td>1</td>\n",
              "      <td>3</td>\n",
              "      <td>2018</td>\n",
              "    </tr>\n",
              "    <tr>\n",
              "      <th>43</th>\n",
              "      <td>500000008</td>\n",
              "      <td>20</td>\n",
              "      <td>CC-1022</td>\n",
              "      <td></td>\n",
              "      <td>USD</td>\n",
              "      <td>1200</td>\n",
              "      <td>1050.000</td>\n",
              "      <td>150.000</td>\n",
              "      <td>I</td>\n",
              "      <td>NaN</td>\n",
              "      <td>6</td>\n",
              "      <td>EA</td>\n",
              "      <td>20180225</td>\n",
              "      <td>CC</td>\n",
              "      <td>EMEA</td>\n",
              "      <td>2</td>\n",
              "      <td>2018-02-25</td>\n",
              "      <td>6</td>\n",
              "      <td>25</td>\n",
              "      <td>2</td>\n",
              "      <td>2018</td>\n",
              "    </tr>\n",
              "    <tr>\n",
              "      <th>44</th>\n",
              "      <td>500000008</td>\n",
              "      <td>30</td>\n",
              "      <td>CC-1023</td>\n",
              "      <td></td>\n",
              "      <td>USD</td>\n",
              "      <td>1361</td>\n",
              "      <td>1190.875</td>\n",
              "      <td>170.125</td>\n",
              "      <td>I</td>\n",
              "      <td>NaN</td>\n",
              "      <td>10</td>\n",
              "      <td>EA</td>\n",
              "      <td>20180225</td>\n",
              "      <td>CC</td>\n",
              "      <td>EMEA</td>\n",
              "      <td>2</td>\n",
              "      <td>2018-02-25</td>\n",
              "      <td>6</td>\n",
              "      <td>25</td>\n",
              "      <td>2</td>\n",
              "      <td>2018</td>\n",
              "    </tr>\n",
              "    <tr>\n",
              "      <th>...</th>\n",
              "      <td>...</td>\n",
              "      <td>...</td>\n",
              "      <td>...</td>\n",
              "      <td>...</td>\n",
              "      <td>...</td>\n",
              "      <td>...</td>\n",
              "      <td>...</td>\n",
              "      <td>...</td>\n",
              "      <td>...</td>\n",
              "      <td>...</td>\n",
              "      <td>...</td>\n",
              "      <td>...</td>\n",
              "      <td>...</td>\n",
              "      <td>...</td>\n",
              "      <td>...</td>\n",
              "      <td>...</td>\n",
              "      <td>...</td>\n",
              "      <td>...</td>\n",
              "      <td>...</td>\n",
              "      <td>...</td>\n",
              "      <td>...</td>\n",
              "    </tr>\n",
              "    <tr>\n",
              "      <th>1920</th>\n",
              "      <td>500000332</td>\n",
              "      <td>40</td>\n",
              "      <td>CC-1022</td>\n",
              "      <td></td>\n",
              "      <td>USD</td>\n",
              "      <td>1200</td>\n",
              "      <td>1050.000</td>\n",
              "      <td>150.000</td>\n",
              "      <td>I</td>\n",
              "      <td>NaN</td>\n",
              "      <td>3</td>\n",
              "      <td>EA</td>\n",
              "      <td>20190619</td>\n",
              "      <td>CC</td>\n",
              "      <td>AMER</td>\n",
              "      <td>3</td>\n",
              "      <td>2019-06-19</td>\n",
              "      <td>2</td>\n",
              "      <td>19</td>\n",
              "      <td>6</td>\n",
              "      <td>2019</td>\n",
              "    </tr>\n",
              "    <tr>\n",
              "      <th>626</th>\n",
              "      <td>500000112</td>\n",
              "      <td>90</td>\n",
              "      <td>CC-1023</td>\n",
              "      <td></td>\n",
              "      <td>USD</td>\n",
              "      <td>1361</td>\n",
              "      <td>1190.875</td>\n",
              "      <td>170.125</td>\n",
              "      <td>I</td>\n",
              "      <td>NaN</td>\n",
              "      <td>3</td>\n",
              "      <td>EA</td>\n",
              "      <td>20191212</td>\n",
              "      <td>CC</td>\n",
              "      <td>APJ</td>\n",
              "      <td>1</td>\n",
              "      <td>2019-12-12</td>\n",
              "      <td>3</td>\n",
              "      <td>12</td>\n",
              "      <td>12</td>\n",
              "      <td>2019</td>\n",
              "    </tr>\n",
              "    <tr>\n",
              "      <th>935</th>\n",
              "      <td>500000164</td>\n",
              "      <td>30</td>\n",
              "      <td>CC-1023</td>\n",
              "      <td></td>\n",
              "      <td>USD</td>\n",
              "      <td>1361</td>\n",
              "      <td>1190.875</td>\n",
              "      <td>170.125</td>\n",
              "      <td>I</td>\n",
              "      <td>NaN</td>\n",
              "      <td>1</td>\n",
              "      <td>EA</td>\n",
              "      <td>20191212</td>\n",
              "      <td>CC</td>\n",
              "      <td>AMER</td>\n",
              "      <td>3</td>\n",
              "      <td>2019-12-12</td>\n",
              "      <td>3</td>\n",
              "      <td>12</td>\n",
              "      <td>12</td>\n",
              "      <td>2019</td>\n",
              "    </tr>\n",
              "    <tr>\n",
              "      <th>1787</th>\n",
              "      <td>500000308</td>\n",
              "      <td>40</td>\n",
              "      <td>CC-1023</td>\n",
              "      <td></td>\n",
              "      <td>USD</td>\n",
              "      <td>1361</td>\n",
              "      <td>1190.875</td>\n",
              "      <td>170.125</td>\n",
              "      <td>I</td>\n",
              "      <td>NaN</td>\n",
              "      <td>3</td>\n",
              "      <td>EA</td>\n",
              "      <td>20191212</td>\n",
              "      <td>CC</td>\n",
              "      <td>AMER</td>\n",
              "      <td>3</td>\n",
              "      <td>2019-12-12</td>\n",
              "      <td>3</td>\n",
              "      <td>12</td>\n",
              "      <td>12</td>\n",
              "      <td>2019</td>\n",
              "    </tr>\n",
              "    <tr>\n",
              "      <th>1789</th>\n",
              "      <td>500000308</td>\n",
              "      <td>60</td>\n",
              "      <td>CC-1023</td>\n",
              "      <td></td>\n",
              "      <td>USD</td>\n",
              "      <td>1361</td>\n",
              "      <td>1190.875</td>\n",
              "      <td>170.125</td>\n",
              "      <td>I</td>\n",
              "      <td>NaN</td>\n",
              "      <td>8</td>\n",
              "      <td>EA</td>\n",
              "      <td>20191212</td>\n",
              "      <td>CC</td>\n",
              "      <td>AMER</td>\n",
              "      <td>3</td>\n",
              "      <td>2019-12-12</td>\n",
              "      <td>3</td>\n",
              "      <td>12</td>\n",
              "      <td>12</td>\n",
              "      <td>2019</td>\n",
              "    </tr>\n",
              "  </tbody>\n",
              "</table>\n",
              "<p>157 rows × 21 columns</p>\n",
              "</div>"
            ],
            "text/plain": [
              "      SALESORDERID  SALESORDERITEM PRODUCTID NOTEID  ... weekday  day  mount  year\n",
              "4        500000001              30   CC-1021         ...       2   28      2  2018\n",
              "11       500000002              60   CC-1021         ...       4    9      3  2018\n",
              "29       500000005              20   CC-1021         ...       3    1      3  2018\n",
              "43       500000008              20   CC-1022         ...       6   25      2  2018\n",
              "44       500000008              30   CC-1023         ...       6   25      2  2018\n",
              "...            ...             ...       ...    ...  ...     ...  ...    ...   ...\n",
              "1920     500000332              40   CC-1022         ...       2   19      6  2019\n",
              "626      500000112              90   CC-1023         ...       3   12     12  2019\n",
              "935      500000164              30   CC-1023         ...       3   12     12  2019\n",
              "1787     500000308              40   CC-1023         ...       3   12     12  2019\n",
              "1789     500000308              60   CC-1023         ...       3   12     12  2019\n",
              "\n",
              "[157 rows x 21 columns]"
            ]
          },
          "metadata": {},
          "execution_count": 1812
        }
      ]
    },
    {
      "cell_type": "markdown",
      "metadata": {
        "id": "q3Pk4O_Na6Om"
      },
      "source": [
        "######เรียกดูข้อมูลปี 2018"
      ]
    },
    {
      "cell_type": "code",
      "metadata": {
        "id": "zSxXn9ASZWBN"
      },
      "source": [
        "CC_2018=CC[CC['year']==2018]"
      ],
      "execution_count": 1813,
      "outputs": []
    },
    {
      "cell_type": "code",
      "metadata": {
        "colab": {
          "base_uri": "https://localhost:8080/"
        },
        "id": "QkIs-ybCZujM",
        "outputId": "6d4dee5b-4b31-40eb-b9fb-992214515a7f"
      },
      "source": [
        "set(CC_2018['mount'])"
      ],
      "execution_count": 1814,
      "outputs": [
        {
          "output_type": "execute_result",
          "data": {
            "text/plain": [
              "{2, 3, 4, 5, 6, 7, 8, 9, 10, 11, 12}"
            ]
          },
          "metadata": {},
          "execution_count": 1814
        }
      ]
    },
    {
      "cell_type": "code",
      "metadata": {
        "id": "EnMrWBaKZV-o"
      },
      "source": [
        "CC_2018_6=CC_2018[(CC_2018['mount']>=2)&(CC_2018['mount']<=6)].sort_values(by='mount').drop([43,49,72,123,122,121,118,116,282,355])"
      ],
      "execution_count": 1815,
      "outputs": []
    },
    {
      "cell_type": "code",
      "metadata": {
        "id": "Hl0buIckZV0P"
      },
      "source": [
        "CC_2018_12=CC_2018[(CC_2018['mount']>=7)&(CC_2018['mount']<=12)].sort_values(by='mount').drop([709,649,897,859,869,1128])"
      ],
      "execution_count": 1816,
      "outputs": []
    },
    {
      "cell_type": "code",
      "metadata": {
        "id": "w4lPqMbGbuah"
      },
      "source": [
        "CC_18= pd.concat([CC_2018_6,CC_2018_12])"
      ],
      "execution_count": 1817,
      "outputs": []
    },
    {
      "cell_type": "code",
      "metadata": {
        "colab": {
          "base_uri": "https://localhost:8080/",
          "height": 0
        },
        "id": "j8Jgz-oqb4Dr",
        "outputId": "03e546bf-ff78-498c-f4a4-db7e6b430653"
      },
      "source": [
        "ORDER_RO_A=CC_18['SALESORDERITEM']\n",
        "WEEKDAY_RO_A=CC_18['weekday']\n",
        "plt.scatter(WEEKDAY_RO_A,ORDER_RO_A,color='navy') #พบว่าวันที่มีคำสังซื้อเยอะที่สุดคือวันอาทิตย์ \n",
        "plt.xlabel('Weekday')\n",
        "plt.ylabel('Sale_Order')\n",
        "plt.suptitle('CC_18',fontsize=16)\n",
        "plt.show()"
      ],
      "execution_count": 1818,
      "outputs": [
        {
          "output_type": "display_data",
          "data": {
            "image/png": "[encoded data removed]",
            "text/plain": [
              "<Figure size 432x288 with 1 Axes>"
            ]
          },
          "metadata": {
            "needs_background": "light"
          }
        }
      ]
    },
    {
      "cell_type": "markdown",
      "metadata": {
        "id": "eBwFQSbBZWdU"
      },
      "source": [
        "######เรียกดูข้อมูลปี 2019"
      ]
    },
    {
      "cell_type": "code",
      "metadata": {
        "id": "cKGecdDycKUI"
      },
      "source": [
        "CC_2019=CC[CC['year']==2019]"
      ],
      "execution_count": 1819,
      "outputs": []
    },
    {
      "cell_type": "code",
      "metadata": {
        "colab": {
          "base_uri": "https://localhost:8080/"
        },
        "id": "8tx3wUXFcUYr",
        "outputId": "c1c3e0a9-60e6-4159-a780-91e52421a6db"
      },
      "source": [
        "set(CC_2019['mount'])"
      ],
      "execution_count": 1820,
      "outputs": [
        {
          "output_type": "execute_result",
          "data": {
            "text/plain": [
              "{1, 2, 3, 4, 5, 6, 12}"
            ]
          },
          "metadata": {},
          "execution_count": 1820
        }
      ]
    },
    {
      "cell_type": "code",
      "metadata": {
        "id": "Gj88X30scd31"
      },
      "source": [
        "CC_2019_6=CC_2019[(CC_2019['mount']>=1)&(CC_2019['mount']<=6)].sort_values(by='mount').drop([1171,1261,1264,1308,1557,1551,1801,1781,1755,1669,1667,1903,1855,1851,1821,1815])"
      ],
      "execution_count": 1821,
      "outputs": []
    },
    {
      "cell_type": "code",
      "metadata": {
        "id": "5P5UZoECddMA"
      },
      "source": [
        "CC_2019_12=CC_2019[CC_2019['mount']==12].sort_values(by='mount').iloc[[0],]"
      ],
      "execution_count": 1822,
      "outputs": []
    },
    {
      "cell_type": "code",
      "metadata": {
        "id": "qhFaol1vejDD"
      },
      "source": [
        "CC_19= pd.concat([CC_2019_6,CC_2019_6])"
      ],
      "execution_count": 1823,
      "outputs": []
    },
    {
      "cell_type": "code",
      "metadata": {
        "colab": {
          "base_uri": "https://localhost:8080/",
          "height": 0
        },
        "id": "HxXYw6ejevMd",
        "outputId": "a5e95c68-9170-42ab-8c2e-fc01d3ee7d71"
      },
      "source": [
        "ORDER_RO_A=CC_19['SALESORDERITEM']\n",
        "WEEKDAY_RO_A=CC_19['weekday']\n",
        "plt.scatter(WEEKDAY_RO_A,ORDER_RO_A,color='navy') #พบว่าวันที่มีคำสังซื้อเยอะที่สุดคือวันอาทิตย์ \n",
        "plt.xlabel('Weekday')\n",
        "plt.ylabel('Sale_Order')\n",
        "plt.suptitle('CC_19',fontsize=16)\n",
        "plt.show()"
      ],
      "execution_count": 1824,
      "outputs": [
        {
          "output_type": "display_data",
          "data": {
            "image/png": "[encoded data removed]",
            "text/plain": [
              "<Figure size 432x288 with 1 Axes>"
            ]
          },
          "metadata": {
            "needs_background": "light"
          }
        }
      ]
    },
    {
      "cell_type": "code",
      "metadata": {
        "id": "hegrYB2Fe25v"
      },
      "source": [
        "Cyclo_cross_BiKE= pd.concat([CC_18,CC_19]) #รวมรายปี"
      ],
      "execution_count": 1825,
      "outputs": []
    },
    {
      "cell_type": "code",
      "metadata": {
        "colab": {
          "base_uri": "https://localhost:8080/",
          "height": 0
        },
        "id": "9MJDJVJOfKyq",
        "outputId": "79b18224-21fb-4140-8c7d-b5c89d42fb14"
      },
      "source": [
        "ORDER_RO_A=Cyclo_cross_BiKE['SALESORDERITEM']\n",
        "WEEKDAY_RO_A=Cyclo_cross_BiKE['weekday']\n",
        "plt.scatter(ORDER_RO_A,WEEKDAY_RO_A,color='navy') #พบว่าวันที่มีคำสังซื้อเยอะที่สุดคือวันอาทิตย์  จันทร์ และพฤหัสบดี\n",
        "plt.ylabel('Weekday')\n",
        "plt.xlabel('Sale_Order')\n",
        "plt.suptitle('Cyclo_cross_BiKE',fontsize=16)\n",
        "plt.show()"
      ],
      "execution_count": 1826,
      "outputs": [
        {
          "output_type": "display_data",
          "data": {
            "image/png": "[encoded data removed]",
            "text/plain": [
              "<Figure size 432x288 with 1 Axes>"
            ]
          },
          "metadata": {
            "needs_background": "light"
          }
        }
      ]
    },
    {
      "cell_type": "markdown",
      "metadata": {
        "id": "TEMOVgW1fbJy"
      },
      "source": [
        "####4.5 รถจักยานต์ชนิด Mountain Bike:MB"
      ]
    },
    {
      "cell_type": "code",
      "metadata": {
        "id": "BD5gO1nffn4g"
      },
      "source": [
        "MB=Sale[Sale['name_product']=='MB']"
      ],
      "execution_count": 1827,
      "outputs": []
    },
    {
      "cell_type": "markdown",
      "metadata": {
        "id": "Ya2PheE5f2ej"
      },
      "source": [
        "######เรียกดูข้อมูลปี 2018"
      ]
    },
    {
      "cell_type": "code",
      "metadata": {
        "id": "1ShHa3PMf13F"
      },
      "source": [
        "MB_2018=MB[MB['year']==2018]"
      ],
      "execution_count": 1828,
      "outputs": []
    },
    {
      "cell_type": "code",
      "metadata": {
        "colab": {
          "base_uri": "https://localhost:8080/"
        },
        "id": "wwxJFiJpgfI4",
        "outputId": "ca686472-e55b-4a3b-e6f4-0f347ec5da64"
      },
      "source": [
        "set(MB_2018['mount'])"
      ],
      "execution_count": 1829,
      "outputs": [
        {
          "output_type": "execute_result",
          "data": {
            "text/plain": [
              "{2, 3, 4, 5, 6, 7, 8, 9, 10, 11, 12}"
            ]
          },
          "metadata": {},
          "execution_count": 1829
        }
      ]
    },
    {
      "cell_type": "code",
      "metadata": {
        "id": "U6s7iVS1gl_i"
      },
      "source": [
        "MB_2018_7=MB_2018[(MB_2018['mount']>=2)&(MB_2018['mount']<=7)].sort_values(by='mount').drop([24,58,60,329,326,280,415,416,308,341,403,506,445])"
      ],
      "execution_count": 1830,
      "outputs": []
    },
    {
      "cell_type": "code",
      "metadata": {
        "id": "Dg9TmN-wgl95"
      },
      "source": [
        "MB_2018_12=MB_2018[(MB_2018['mount']>=8)&(MB_2018['mount']<=12)].sort_values(by='mount').drop([532,599,682,682,644,845,817,835,752,723,721,952,910,1018,862,1025,1056,864,1018,937])"
      ],
      "execution_count": 1831,
      "outputs": []
    },
    {
      "cell_type": "code",
      "metadata": {
        "id": "kXeluEB8gl8N"
      },
      "source": [
        "MB_18= pd.concat([MB_2018_7,MB_2018_12])"
      ],
      "execution_count": 1832,
      "outputs": []
    },
    {
      "cell_type": "code",
      "metadata": {
        "colab": {
          "base_uri": "https://localhost:8080/",
          "height": 0
        },
        "id": "IuOr9fnRlJHE",
        "outputId": "6ccdb0c4-847c-4bfc-8642-712fb863dc02"
      },
      "source": [
        "ORDER_RO_A=MB_18['SALESORDERITEM']\n",
        "WEEKDAY_RO_A=MB_18['weekday']\n",
        "plt.scatter(WEEKDAY_RO_A,ORDER_RO_A,color='navy') #พบว่าวันที่มีคำสังซื้อเยอะที่สุดคือวันอาทิตย์  อังคาร\n",
        "plt.xlabel('Weekday')\n",
        "plt.ylabel('Sale_Order')\n",
        "plt.suptitle('MB_18',fontsize=16)\n",
        "plt.show()"
      ],
      "execution_count": 1833,
      "outputs": [
        {
          "output_type": "display_data",
          "data": {
            "image/png": "[encoded data removed]",
            "text/plain": [
              "<Figure size 432x288 with 1 Axes>"
            ]
          },
          "metadata": {
            "needs_background": "light"
          }
        }
      ]
    },
    {
      "cell_type": "code",
      "metadata": {
        "id": "OldbJYq6gl4T"
      },
      "source": [
        ""
      ],
      "execution_count": 1833,
      "outputs": []
    },
    {
      "cell_type": "markdown",
      "metadata": {
        "id": "-i67vQW6f3tc"
      },
      "source": [
        "######เรียกดูข้อมูลปี 2019"
      ]
    },
    {
      "cell_type": "code",
      "metadata": {
        "id": "_g0FvZk6fyns"
      },
      "source": [
        "MB_2019=MB[MB['year']==2019]"
      ],
      "execution_count": 1834,
      "outputs": []
    },
    {
      "cell_type": "code",
      "metadata": {
        "colab": {
          "base_uri": "https://localhost:8080/"
        },
        "id": "sLf2g9rvljWs",
        "outputId": "fbbfc0d3-4194-46ae-d966-e9d0ce048c6e"
      },
      "source": [
        "set(MB_2019['mount'])"
      ],
      "execution_count": 1835,
      "outputs": [
        {
          "output_type": "execute_result",
          "data": {
            "text/plain": [
              "{1, 2, 3, 4, 5, 6, 7, 12}"
            ]
          },
          "metadata": {},
          "execution_count": 1835
        }
      ]
    },
    {
      "cell_type": "code",
      "metadata": {
        "id": "VHjznTAJfyLz"
      },
      "source": [
        "MB_2019_4=MB_2019[(MB_2019['mount']>=1)&(MB_2019['mount']<=4)].sort_values(by='mount').drop([1247,1224,1138,1390,1652,1623,1596,1513])"
      ],
      "execution_count": 1836,
      "outputs": []
    },
    {
      "cell_type": "code",
      "metadata": {
        "id": "GZDNejs0fyBz"
      },
      "source": [
        "MB_2019_12=MB_2019[(MB_2019['mount']>=5)&(MB_2019['mount']<=12)].sort_values(by='mount').drop([1735,1690,1885,1846,1820,1769,1823,1785])"
      ],
      "execution_count": 1837,
      "outputs": []
    },
    {
      "cell_type": "code",
      "metadata": {
        "id": "sshrAbyLn97R"
      },
      "source": [
        "MB_19= pd.concat([MB_2019_4,MB_2019_12])"
      ],
      "execution_count": 1838,
      "outputs": []
    },
    {
      "cell_type": "code",
      "metadata": {
        "colab": {
          "base_uri": "https://localhost:8080/",
          "height": 0
        },
        "id": "63501XKmoExn",
        "outputId": "cca37b39-bbe3-470d-cf00-a3fbe56d4334"
      },
      "source": [
        "ORDER_RO_A=MB_19['SALESORDERITEM']\n",
        "WEEKDAY_RO_A=MB_19['weekday']\n",
        "plt.scatter(WEEKDAY_RO_A,ORDER_RO_A,color='navy') #พบว่าวันที่มีคำสังซื้อเยอะที่สุดคือวันอังคารพุธ เสาร์และอาทิตย์\n",
        "plt.xlabel('Weekday')\n",
        "plt.ylabel('Sale_Order')\n",
        "plt.suptitle('MB_19',fontsize=16)\n",
        "plt.show()"
      ],
      "execution_count": 1839,
      "outputs": [
        {
          "output_type": "display_data",
          "data": {
            "image/png": "[encoded data removed]",
            "text/plain": [
              "<Figure size 432x288 with 1 Axes>"
            ]
          },
          "metadata": {
            "needs_background": "light"
          }
        }
      ]
    },
    {
      "cell_type": "code",
      "metadata": {
        "id": "ThzpWk0_oXEm"
      },
      "source": [
        "Mountain_Bike= pd.concat([MB_18,MB_19])  #รวมข้อมูลรายปี"
      ],
      "execution_count": 1840,
      "outputs": []
    },
    {
      "cell_type": "markdown",
      "metadata": {
        "id": "z5QBuEZpopeU"
      },
      "source": [
        "####4.6 รถจักยานต์ชนิด Racing_BiKe:RC"
      ]
    },
    {
      "cell_type": "code",
      "metadata": {
        "id": "gl6YN_nto3gv"
      },
      "source": [
        "RC=Sale[Sale['name_product']=='RC']"
      ],
      "execution_count": 1841,
      "outputs": []
    },
    {
      "cell_type": "code",
      "metadata": {
        "colab": {
          "base_uri": "https://localhost:8080/",
          "height": 0
        },
        "id": "ZZRQTUX8o4B3",
        "outputId": "2b87eeca-3211-46af-aee4-a4ce13084e42"
      },
      "source": [
        "RC"
      ],
      "execution_count": 1842,
      "outputs": [
        {
          "output_type": "execute_result",
          "data": {
            "text/html": [
              "<div>\n",
              "<style scoped>\n",
              "    .dataframe tbody tr th:only-of-type {\n",
              "        vertical-align: middle;\n",
              "    }\n",
              "\n",
              "    .dataframe tbody tr th {\n",
              "        vertical-align: top;\n",
              "    }\n",
              "\n",
              "    .dataframe thead th {\n",
              "        text-align: right;\n",
              "    }\n",
              "</style>\n",
              "<table border=\"1\" class=\"dataframe\">\n",
              "  <thead>\n",
              "    <tr style=\"text-align: right;\">\n",
              "      <th></th>\n",
              "      <th>SALESORDERID</th>\n",
              "      <th>SALESORDERITEM</th>\n",
              "      <th>PRODUCTID</th>\n",
              "      <th>NOTEID</th>\n",
              "      <th>CURRENCY</th>\n",
              "      <th>GROSSAMOUNT</th>\n",
              "      <th>NETAMOUNT</th>\n",
              "      <th>TAXAMOUNT</th>\n",
              "      <th>ITEMATPSTATUS</th>\n",
              "      <th>OPITEMPOS</th>\n",
              "      <th>QUANTITY</th>\n",
              "      <th>QUANTITYUNIT</th>\n",
              "      <th>DELIVERYDATE</th>\n",
              "      <th>name_product</th>\n",
              "      <th>Region</th>\n",
              "      <th>Name_Region</th>\n",
              "      <th>DATE</th>\n",
              "      <th>weekday</th>\n",
              "      <th>day</th>\n",
              "      <th>mount</th>\n",
              "      <th>year</th>\n",
              "    </tr>\n",
              "  </thead>\n",
              "  <tbody>\n",
              "    <tr>\n",
              "      <th>3</th>\n",
              "      <td>500000001</td>\n",
              "      <td>20</td>\n",
              "      <td>RC-1056</td>\n",
              "      <td></td>\n",
              "      <td>USD</td>\n",
              "      <td>2499</td>\n",
              "      <td>2186.625</td>\n",
              "      <td>312.375</td>\n",
              "      <td>I</td>\n",
              "      <td>NaN</td>\n",
              "      <td>2</td>\n",
              "      <td>EA</td>\n",
              "      <td>20180228</td>\n",
              "      <td>RC</td>\n",
              "      <td>EMEA</td>\n",
              "      <td>2</td>\n",
              "      <td>2018-02-28</td>\n",
              "      <td>2</td>\n",
              "      <td>28</td>\n",
              "      <td>2</td>\n",
              "      <td>2018</td>\n",
              "    </tr>\n",
              "    <tr>\n",
              "      <th>7</th>\n",
              "      <td>500000002</td>\n",
              "      <td>20</td>\n",
              "      <td>RC-1055</td>\n",
              "      <td></td>\n",
              "      <td>USD</td>\n",
              "      <td>1999</td>\n",
              "      <td>1749.125</td>\n",
              "      <td>249.875</td>\n",
              "      <td>I</td>\n",
              "      <td>NaN</td>\n",
              "      <td>3</td>\n",
              "      <td>EA</td>\n",
              "      <td>20180309</td>\n",
              "      <td>RC</td>\n",
              "      <td>APJ</td>\n",
              "      <td>1</td>\n",
              "      <td>2018-03-09</td>\n",
              "      <td>4</td>\n",
              "      <td>9</td>\n",
              "      <td>3</td>\n",
              "      <td>2018</td>\n",
              "    </tr>\n",
              "    <tr>\n",
              "      <th>12</th>\n",
              "      <td>500000003</td>\n",
              "      <td>10</td>\n",
              "      <td>RC-1056</td>\n",
              "      <td></td>\n",
              "      <td>USD</td>\n",
              "      <td>2499</td>\n",
              "      <td>2186.625</td>\n",
              "      <td>312.375</td>\n",
              "      <td>I</td>\n",
              "      <td>NaN</td>\n",
              "      <td>3</td>\n",
              "      <td>EA</td>\n",
              "      <td>20180223</td>\n",
              "      <td>RC</td>\n",
              "      <td>EMEA</td>\n",
              "      <td>2</td>\n",
              "      <td>2018-02-23</td>\n",
              "      <td>4</td>\n",
              "      <td>23</td>\n",
              "      <td>2</td>\n",
              "      <td>2018</td>\n",
              "    </tr>\n",
              "    <tr>\n",
              "      <th>14</th>\n",
              "      <td>500000003</td>\n",
              "      <td>30</td>\n",
              "      <td>RC-1056</td>\n",
              "      <td></td>\n",
              "      <td>USD</td>\n",
              "      <td>2499</td>\n",
              "      <td>2186.625</td>\n",
              "      <td>312.375</td>\n",
              "      <td>I</td>\n",
              "      <td>NaN</td>\n",
              "      <td>5</td>\n",
              "      <td>EA</td>\n",
              "      <td>20180223</td>\n",
              "      <td>RC</td>\n",
              "      <td>EMEA</td>\n",
              "      <td>2</td>\n",
              "      <td>2018-02-23</td>\n",
              "      <td>4</td>\n",
              "      <td>23</td>\n",
              "      <td>2</td>\n",
              "      <td>2018</td>\n",
              "    </tr>\n",
              "    <tr>\n",
              "      <th>26</th>\n",
              "      <td>500000004</td>\n",
              "      <td>70</td>\n",
              "      <td>RC-1051</td>\n",
              "      <td></td>\n",
              "      <td>USD</td>\n",
              "      <td>2499</td>\n",
              "      <td>2186.625</td>\n",
              "      <td>312.375</td>\n",
              "      <td>I</td>\n",
              "      <td>NaN</td>\n",
              "      <td>10</td>\n",
              "      <td>EA</td>\n",
              "      <td>20180305</td>\n",
              "      <td>RC</td>\n",
              "      <td>EMEA</td>\n",
              "      <td>2</td>\n",
              "      <td>2018-03-05</td>\n",
              "      <td>0</td>\n",
              "      <td>5</td>\n",
              "      <td>3</td>\n",
              "      <td>2018</td>\n",
              "    </tr>\n",
              "    <tr>\n",
              "      <th>...</th>\n",
              "      <td>...</td>\n",
              "      <td>...</td>\n",
              "      <td>...</td>\n",
              "      <td>...</td>\n",
              "      <td>...</td>\n",
              "      <td>...</td>\n",
              "      <td>...</td>\n",
              "      <td>...</td>\n",
              "      <td>...</td>\n",
              "      <td>...</td>\n",
              "      <td>...</td>\n",
              "      <td>...</td>\n",
              "      <td>...</td>\n",
              "      <td>...</td>\n",
              "      <td>...</td>\n",
              "      <td>...</td>\n",
              "      <td>...</td>\n",
              "      <td>...</td>\n",
              "      <td>...</td>\n",
              "      <td>...</td>\n",
              "      <td>...</td>\n",
              "    </tr>\n",
              "    <tr>\n",
              "      <th>1923</th>\n",
              "      <td>500000332</td>\n",
              "      <td>70</td>\n",
              "      <td>RC-1055</td>\n",
              "      <td></td>\n",
              "      <td>USD</td>\n",
              "      <td>1999</td>\n",
              "      <td>1749.125</td>\n",
              "      <td>249.875</td>\n",
              "      <td>I</td>\n",
              "      <td>NaN</td>\n",
              "      <td>4</td>\n",
              "      <td>EA</td>\n",
              "      <td>20190619</td>\n",
              "      <td>RC</td>\n",
              "      <td>AMER</td>\n",
              "      <td>3</td>\n",
              "      <td>2019-06-19</td>\n",
              "      <td>2</td>\n",
              "      <td>19</td>\n",
              "      <td>6</td>\n",
              "      <td>2019</td>\n",
              "    </tr>\n",
              "    <tr>\n",
              "      <th>1924</th>\n",
              "      <td>500000332</td>\n",
              "      <td>80</td>\n",
              "      <td>RC-1054</td>\n",
              "      <td></td>\n",
              "      <td>USD</td>\n",
              "      <td>5499</td>\n",
              "      <td>4811.625</td>\n",
              "      <td>687.375</td>\n",
              "      <td>I</td>\n",
              "      <td>NaN</td>\n",
              "      <td>1</td>\n",
              "      <td>EA</td>\n",
              "      <td>20190619</td>\n",
              "      <td>RC</td>\n",
              "      <td>AMER</td>\n",
              "      <td>3</td>\n",
              "      <td>2019-06-19</td>\n",
              "      <td>2</td>\n",
              "      <td>19</td>\n",
              "      <td>6</td>\n",
              "      <td>2019</td>\n",
              "    </tr>\n",
              "    <tr>\n",
              "      <th>622</th>\n",
              "      <td>500000112</td>\n",
              "      <td>50</td>\n",
              "      <td>RC-1054</td>\n",
              "      <td></td>\n",
              "      <td>USD</td>\n",
              "      <td>5499</td>\n",
              "      <td>4811.625</td>\n",
              "      <td>687.375</td>\n",
              "      <td>I</td>\n",
              "      <td>NaN</td>\n",
              "      <td>2</td>\n",
              "      <td>EA</td>\n",
              "      <td>20191212</td>\n",
              "      <td>RC</td>\n",
              "      <td>APJ</td>\n",
              "      <td>1</td>\n",
              "      <td>2019-12-12</td>\n",
              "      <td>3</td>\n",
              "      <td>12</td>\n",
              "      <td>12</td>\n",
              "      <td>2019</td>\n",
              "    </tr>\n",
              "    <tr>\n",
              "      <th>933</th>\n",
              "      <td>500000164</td>\n",
              "      <td>10</td>\n",
              "      <td>RC-1055</td>\n",
              "      <td></td>\n",
              "      <td>USD</td>\n",
              "      <td>1999</td>\n",
              "      <td>1749.125</td>\n",
              "      <td>249.875</td>\n",
              "      <td>I</td>\n",
              "      <td>NaN</td>\n",
              "      <td>7</td>\n",
              "      <td>EA</td>\n",
              "      <td>20191212</td>\n",
              "      <td>RC</td>\n",
              "      <td>AMER</td>\n",
              "      <td>3</td>\n",
              "      <td>2019-12-12</td>\n",
              "      <td>3</td>\n",
              "      <td>12</td>\n",
              "      <td>12</td>\n",
              "      <td>2019</td>\n",
              "    </tr>\n",
              "    <tr>\n",
              "      <th>1784</th>\n",
              "      <td>500000308</td>\n",
              "      <td>10</td>\n",
              "      <td>RC-1055</td>\n",
              "      <td></td>\n",
              "      <td>USD</td>\n",
              "      <td>1999</td>\n",
              "      <td>1749.125</td>\n",
              "      <td>249.875</td>\n",
              "      <td>I</td>\n",
              "      <td>NaN</td>\n",
              "      <td>7</td>\n",
              "      <td>EA</td>\n",
              "      <td>20191212</td>\n",
              "      <td>RC</td>\n",
              "      <td>AMER</td>\n",
              "      <td>3</td>\n",
              "      <td>2019-12-12</td>\n",
              "      <td>3</td>\n",
              "      <td>12</td>\n",
              "      <td>12</td>\n",
              "      <td>2019</td>\n",
              "    </tr>\n",
              "  </tbody>\n",
              "</table>\n",
              "<p>306 rows × 21 columns</p>\n",
              "</div>"
            ],
            "text/plain": [
              "      SALESORDERID  SALESORDERITEM PRODUCTID NOTEID  ... weekday  day  mount  year\n",
              "3        500000001              20   RC-1056         ...       2   28      2  2018\n",
              "7        500000002              20   RC-1055         ...       4    9      3  2018\n",
              "12       500000003              10   RC-1056         ...       4   23      2  2018\n",
              "14       500000003              30   RC-1056         ...       4   23      2  2018\n",
              "26       500000004              70   RC-1051         ...       0    5      3  2018\n",
              "...            ...             ...       ...    ...  ...     ...  ...    ...   ...\n",
              "1923     500000332              70   RC-1055         ...       2   19      6  2019\n",
              "1924     500000332              80   RC-1054         ...       2   19      6  2019\n",
              "622      500000112              50   RC-1054         ...       3   12     12  2019\n",
              "933      500000164              10   RC-1055         ...       3   12     12  2019\n",
              "1784     500000308              10   RC-1055         ...       3   12     12  2019\n",
              "\n",
              "[306 rows x 21 columns]"
            ]
          },
          "metadata": {},
          "execution_count": 1842
        }
      ]
    },
    {
      "cell_type": "markdown",
      "metadata": {
        "id": "-BLUlRgDpP2d"
      },
      "source": [
        "######เรียกดูข้อมูลปี 2018"
      ]
    },
    {
      "cell_type": "code",
      "metadata": {
        "id": "CX_28tUUo3-3"
      },
      "source": [
        "######เรียกดูข้อมูลปี 2018"
      ],
      "execution_count": 1843,
      "outputs": []
    },
    {
      "cell_type": "code",
      "metadata": {
        "id": "F4iuVOL8yzE8"
      },
      "source": [
        "RC_2018=RC[RC['year']==2018]"
      ],
      "execution_count": 1844,
      "outputs": []
    },
    {
      "cell_type": "code",
      "metadata": {
        "colab": {
          "base_uri": "https://localhost:8080/"
        },
        "id": "svBvO93To38i",
        "outputId": "ad5e7395-c1a6-4459-b657-a66f584613c8"
      },
      "source": [
        "set(RC_2018['mount'])"
      ],
      "execution_count": 1845,
      "outputs": [
        {
          "output_type": "execute_result",
          "data": {
            "text/plain": [
              "{2, 3, 4, 5, 6, 7, 8, 9, 10, 11, 12}"
            ]
          },
          "metadata": {},
          "execution_count": 1845
        }
      ]
    },
    {
      "cell_type": "code",
      "metadata": {
        "id": "9_pKU4q7px47"
      },
      "source": [
        "RC_2018_6=RC_2018[(RC_2018['mount']>=2)&(RC_2018['mount']<=6)].sort_values(by='mount').drop([12,111,92,85,70,38,28,142,141,156,290,289,288,291,265,244,324,352])"
      ],
      "execution_count": 1846,
      "outputs": []
    },
    {
      "cell_type": "code",
      "metadata": {
        "id": "_LJsCuvvpzMJ"
      },
      "source": [
        "RC_2018_12=RC_2018[(RC_2018['mount']>=7)&(RC_2018['mount']<=12)].sort_values(by='mount').drop([594,590,571,612,521,493,497,660,661,663,654,630,628,609])"
      ],
      "execution_count": 1847,
      "outputs": []
    },
    {
      "cell_type": "code",
      "metadata": {
        "id": "f_u1dbgWsxQz"
      },
      "source": [
        "RC_18= pd.concat([RC_2018_6,RC_2018_6])"
      ],
      "execution_count": 1848,
      "outputs": []
    },
    {
      "cell_type": "code",
      "metadata": {
        "colab": {
          "base_uri": "https://localhost:8080/",
          "height": 0
        },
        "id": "_IAtiTyasxpw",
        "outputId": "c25868d8-02e8-43b3-e3f3-5f8facef2e3f"
      },
      "source": [
        "ORDER_RO_A=RC_18['SALESORDERITEM']\n",
        "WEEKDAY_RO_A=RC_18['weekday']\n",
        "plt.scatter(WEEKDAY_RO_A,ORDER_RO_A,color='navy') #พบว่าวันที่มีคำสังซื้อเยอะที่สุดคือวันพฤหัสบดี\n",
        "plt.xlabel('Weekday')\n",
        "plt.ylabel('Sale_Order')\n",
        "plt.suptitle('RC_18',fontsize=16)\n",
        "plt.show()"
      ],
      "execution_count": 1849,
      "outputs": [
        {
          "output_type": "display_data",
          "data": {
            "image/png": "[encoded data removed]",
            "text/plain": [
              "<Figure size 432x288 with 1 Axes>"
            ]
          },
          "metadata": {
            "needs_background": "light"
          }
        }
      ]
    },
    {
      "cell_type": "markdown",
      "metadata": {
        "id": "3mwaR5kXszoV"
      },
      "source": [
        "######เรียกดูข้อมูลปี 2019"
      ]
    },
    {
      "cell_type": "code",
      "metadata": {
        "id": "P7q09p36sx9J"
      },
      "source": [
        "RC_2019=RC[RC['year']==2019]"
      ],
      "execution_count": 1850,
      "outputs": []
    },
    {
      "cell_type": "code",
      "metadata": {
        "colab": {
          "base_uri": "https://localhost:8080/"
        },
        "id": "hn52WqKQtXxs",
        "outputId": "ca897758-e277-4316-8262-2be1cdf7fd29"
      },
      "source": [
        "set(RC_2018['mount'])"
      ],
      "execution_count": 1851,
      "outputs": [
        {
          "output_type": "execute_result",
          "data": {
            "text/plain": [
              "{2, 3, 4, 5, 6, 7, 8, 9, 10, 11, 12}"
            ]
          },
          "metadata": {},
          "execution_count": 1851
        }
      ]
    },
    {
      "cell_type": "code",
      "metadata": {
        "id": "vpaz6icztc9T"
      },
      "source": [
        "RC_2019_4=RC_2019[(RC_2019['mount']>=2)&(RC_2019['mount']<=4)].sort_values(by='mount').drop([1320,1343,1363,1398,1464,1543,1394,1383,1382,1554,1510,1506,1503,1497,1496,1624])"
      ],
      "execution_count": 1852,
      "outputs": []
    },
    {
      "cell_type": "code",
      "metadata": {
        "id": "FPIL9tOStcx-"
      },
      "source": [
        "RC_2019_12=RC_2019[(RC_2019['mount']>=5)&(RC_2019['mount']<=12)].sort_values(by='mount').drop([1763,1761,1757,1737,1731,1712,1704,1697,1696,1695,1693,1901,1904,1916,1922,1774,1831,1793,933])"
      ],
      "execution_count": 1853,
      "outputs": []
    },
    {
      "cell_type": "code",
      "metadata": {
        "id": "rqmEs5Egtcu3"
      },
      "source": [
        "RC_19= pd.concat([RC_2019_4,RC_2019_12])"
      ],
      "execution_count": 1854,
      "outputs": []
    },
    {
      "cell_type": "code",
      "metadata": {
        "colab": {
          "base_uri": "https://localhost:8080/",
          "height": 0
        },
        "id": "ZFQVooZ0tcsv",
        "outputId": "7d06ca68-5a99-4a10-bfb6-88c6929c14b6"
      },
      "source": [
        "ORDER_RO_A=RC_19['SALESORDERITEM']\n",
        "WEEKDAY_RO_A=RC_19['weekday']\n",
        "plt.scatter(WEEKDAY_RO_A,ORDER_RO_A,color='navy') #พบว่าวันที่มีคำสังซื้อเยอะที่สุดคือวันพฤหัสบดี\n",
        "plt.xlabel('Weekday')\n",
        "plt.ylabel('Sale_Order')\n",
        "plt.suptitle('RC_19',fontsize=16)\n",
        "plt.show()"
      ],
      "execution_count": 1855,
      "outputs": [
        {
          "output_type": "display_data",
          "data": {
            "image/png": "[encoded data removed]",
            "text/plain": [
              "<Figure size 432x288 with 1 Axes>"
            ]
          },
          "metadata": {
            "needs_background": "light"
          }
        }
      ]
    },
    {
      "cell_type": "code",
      "metadata": {
        "id": "rpqMZt0nxfXr"
      },
      "source": [
        "Racing_Bike= pd.concat([RC_18,RC_19]) #รวมข้อมูลรายปี"
      ],
      "execution_count": 1856,
      "outputs": []
    },
    {
      "cell_type": "code",
      "metadata": {
        "colab": {
          "base_uri": "https://localhost:8080/",
          "height": 0
        },
        "id": "XjsJbDO4xyuu",
        "outputId": "4d2d878b-be71-4065-c301-67d9b7e547e1"
      },
      "source": [
        "ORDER_RO_A=Racing_Bike['SALESORDERITEM']\n",
        "WEEKDAY_RO_A=Racing_Bike['weekday']\n",
        "plt.scatter(ORDER_RO_A,WEEKDAY_RO_A,color='navy') #พบว่าวันที่มีคำสังซื้อเยอะที่สุดคือวันอังคาร วันพฤหัสบดี ศุกร์ และเสาร์\n",
        "plt.xlabel('Sale_Order')\n",
        "plt.suptitle('Racing_Bike',fontsize=16)\n",
        "plt.show()"
      ],
      "execution_count": 1857,
      "outputs": [
        {
          "output_type": "display_data",
          "data": {
            "image/png": "[encoded data removed]",
            "text/plain": [
              "<Figure size 432x288 with 1 Axes>"
            ]
          },
          "metadata": {
            "needs_background": "light"
          }
        }
      ]
    },
    {
      "cell_type": "markdown",
      "metadata": {
        "id": "_pfPm5phyFN0"
      },
      "source": [
        "####4.7 รถจักยานต์ชนิด Downhill Bike"
      ]
    },
    {
      "cell_type": "code",
      "metadata": {
        "id": "Z9Afh8gAyIjx"
      },
      "source": [
        "DB=Sale[Sale['name_product']=='DB']"
      ],
      "execution_count": 1858,
      "outputs": []
    },
    {
      "cell_type": "markdown",
      "metadata": {
        "id": "7KKgjUvNzNi1"
      },
      "source": [
        "######เรียกดูข้อมูลปี 2018"
      ]
    },
    {
      "cell_type": "code",
      "metadata": {
        "id": "p8Bp4cT4yXx5"
      },
      "source": [
        "DB_2018=DB[DB['year']==2018]"
      ],
      "execution_count": 1859,
      "outputs": []
    },
    {
      "cell_type": "code",
      "metadata": {
        "colab": {
          "base_uri": "https://localhost:8080/"
        },
        "id": "mNU5NCjTzaB_",
        "outputId": "9aeb90c5-6bf7-49c9-b0f2-c1f91284c3af"
      },
      "source": [
        "set(DB_2018['mount'])"
      ],
      "execution_count": 1860,
      "outputs": [
        {
          "output_type": "execute_result",
          "data": {
            "text/plain": [
              "{2, 3, 4, 5, 6, 7, 8, 9, 10, 11, 12}"
            ]
          },
          "metadata": {},
          "execution_count": 1860
        }
      ]
    },
    {
      "cell_type": "code",
      "metadata": {
        "id": "tMiVfDiOzW41"
      },
      "source": [
        "DB_2018_6=DB_2018[(DB_2018['mount']>=2)&(DB_2018['mount']<=6)].sort_values(by='mount').drop([8,77,91,228,130,99,252,264,283])"
      ],
      "execution_count": 1861,
      "outputs": []
    },
    {
      "cell_type": "code",
      "metadata": {
        "id": "lNK9vXzPzW18"
      },
      "source": [
        "DB_2018_12=DB_2018[(DB_2018['mount']>=7)&(DB_2018['mount']<=12)].sort_values(by='mount').drop([742,1035,729,918,1153])"
      ],
      "execution_count": 1862,
      "outputs": []
    },
    {
      "cell_type": "code",
      "metadata": {
        "id": "dBOFbHm1zW0H"
      },
      "source": [
        "DB_18= pd.concat([DB_2018_6,DB_2018_6])"
      ],
      "execution_count": 1863,
      "outputs": []
    },
    {
      "cell_type": "code",
      "metadata": {
        "colab": {
          "base_uri": "https://localhost:8080/",
          "height": 0
        },
        "id": "Zx3Fesi21GXL",
        "outputId": "10720606-9792-409d-ce5b-bb31545f5994"
      },
      "source": [
        "ORDER_RO_A=DB_18['SALESORDERITEM']\n",
        "WEEKDAY_RO_A=DB_18['weekday']\n",
        "plt.scatter(WEEKDAY_RO_A,ORDER_RO_A,color='navy') #พบว่าวันที่มีคำสังซื้อเยอะที่สุดคือ วันพฤหัสบดี  และเสาร์\n",
        "plt.xlabel('Weekday')\n",
        "plt.ylabel('Sale_Order')\n",
        "plt.suptitle('DB_18',fontsize=16)\n",
        "plt.show()"
      ],
      "execution_count": 1864,
      "outputs": [
        {
          "output_type": "display_data",
          "data": {
            "image/png": "[encoded data removed]",
            "text/plain": [
              "<Figure size 432x288 with 1 Axes>"
            ]
          },
          "metadata": {
            "needs_background": "light"
          }
        }
      ]
    },
    {
      "cell_type": "markdown",
      "metadata": {
        "id": "FDOeLnR21Oqe"
      },
      "source": [
        "######เรียกดูข้อมูลปี 2019"
      ]
    },
    {
      "cell_type": "code",
      "metadata": {
        "id": "TV2dGkXr1SRU"
      },
      "source": [
        "DB_2019=DB[DB['year']==2019]"
      ],
      "execution_count": 1865,
      "outputs": []
    },
    {
      "cell_type": "code",
      "metadata": {
        "id": "k7INxzao1Szz"
      },
      "source": [
        "DB_19=DB_2019.drop([1221,1257,1353,1377,1387,1486,1546,1837,1838,1856,619])"
      ],
      "execution_count": 1866,
      "outputs": []
    },
    {
      "cell_type": "code",
      "metadata": {
        "colab": {
          "base_uri": "https://localhost:8080/",
          "height": 0
        },
        "id": "YXCYXXdo1SxA",
        "outputId": "3373b5c1-f4f8-4575-c85b-54dd43e2f180"
      },
      "source": [
        "ORDER_RO_A=DB_19['SALESORDERITEM']\n",
        "WEEKDAY_RO_A=DB_19['weekday']\n",
        "plt.scatter(WEEKDAY_RO_A,ORDER_RO_A,color='navy') #พบว่าวันที่มีคำสังซื้อเยอะที่สุดคือ เสาร์\n",
        "plt.xlabel('Weekday')\n",
        "plt.ylabel('Sale_Order')\n",
        "plt.suptitle('DB_19',fontsize=16)\n",
        "plt.show()"
      ],
      "execution_count": 1867,
      "outputs": [
        {
          "output_type": "display_data",
          "data": {
            "image/png": "[encoded data removed]",
            "text/plain": [
              "<Figure size 432x288 with 1 Axes>"
            ]
          },
          "metadata": {
            "needs_background": "light"
          }
        }
      ]
    },
    {
      "cell_type": "code",
      "metadata": {
        "id": "yJFhV97M1SuJ"
      },
      "source": [
        "Downhill_Bike= pd.concat([DB_18,DB_19]) #ต่อตาราง"
      ],
      "execution_count": 1868,
      "outputs": []
    },
    {
      "cell_type": "code",
      "metadata": {
        "colab": {
          "base_uri": "https://localhost:8080/",
          "height": 0
        },
        "id": "cpptgnKr1SsH",
        "outputId": "b0f4f88c-2aa0-4424-ae4c-ffd91c7ec751"
      },
      "source": [
        "ORDER_RO_A=Downhill_Bike['SALESORDERITEM']\n",
        "WEEKDAY_RO_A=Downhill_Bike['weekday']\n",
        "plt.scatter(ORDER_RO_A,WEEKDAY_RO_A,color='navy') #พบว่าวันที่มีคำสังซื้อเยอะที่สุดคือ วันพฤหัสบดี  และเสาร์\n",
        "plt.xlabel('Sale_Order')\n",
        "plt.suptitle('Downhill_Bike',fontsize=16)\n",
        "plt.show()"
      ],
      "execution_count": 1869,
      "outputs": [
        {
          "output_type": "display_data",
          "data": {
            "image/png": "[encoded data removed]",
            "text/plain": [
              "<Figure size 432x288 with 1 Axes>"
            ]
          },
          "metadata": {
            "needs_background": "light"
          }
        }
      ]
    },
    {
      "cell_type": "markdown",
      "metadata": {
        "id": "5J_sijbp3c8J"
      },
      "source": [
        "####4.8 รถจักยานต์ชนิด eBike:EB"
      ]
    },
    {
      "cell_type": "code",
      "metadata": {
        "id": "o6_obO-e3cnG"
      },
      "source": [
        "EB=Sale[Sale['name_product']=='EB']"
      ],
      "execution_count": 1870,
      "outputs": []
    },
    {
      "cell_type": "markdown",
      "metadata": {
        "id": "k2LH9Hcu4WO_"
      },
      "source": [
        "######เรียกดูข้อมูลปี 2018"
      ]
    },
    {
      "cell_type": "code",
      "metadata": {
        "id": "mi3sD7cA3cfH"
      },
      "source": [
        "EB_2018=EB[EB['year']==2018]"
      ],
      "execution_count": 1871,
      "outputs": []
    },
    {
      "cell_type": "code",
      "metadata": {
        "colab": {
          "base_uri": "https://localhost:8080/"
        },
        "id": "6xVYyE9U4hPo",
        "outputId": "87237944-f930-4415-a311-8df1852669c2"
      },
      "source": [
        "set(EB_2018['mount'])"
      ],
      "execution_count": 1872,
      "outputs": [
        {
          "output_type": "execute_result",
          "data": {
            "text/plain": [
              "{2, 3, 4, 5, 6, 7, 8, 9, 10, 11, 12}"
            ]
          },
          "metadata": {},
          "execution_count": 1872
        }
      ]
    },
    {
      "cell_type": "code",
      "metadata": {
        "id": "Yki5plkS4rp9"
      },
      "source": [
        "EB_2018_6=EB_2018[(EB_2018['mount']>=2)&(EB_2018['mount']<=6)].sort_values(by='mount').drop([16,9,48,47,164,88,36,34,19,233,195,194,196,180,147,158,311,272,209,210,214,216,373,50,294,295,293,343])"
      ],
      "execution_count": 1873,
      "outputs": []
    },
    {
      "cell_type": "code",
      "metadata": {
        "id": "oj9j6EX44ru2"
      },
      "source": [
        "EB_2018_12=EB_2018[(EB_2018['mount']>=7)&(EB_2018['mount']<=12)].sort_values(by='mount').drop([418,417,392,390,542,536,689,651,692,746,843,837,826,785,756,842,822,785,735,842,720,919,702,719,1084,978,955,930,927,964,896,895,1104,1000,870,1017,1005,1059,1063,1002,938])"
      ],
      "execution_count": 1874,
      "outputs": []
    },
    {
      "cell_type": "code",
      "metadata": {
        "id": "AtFTJvDtvr5t"
      },
      "source": [
        "EB_18= pd.concat([EB_2018_6,EB_2018_12]) #ต่อตาราง"
      ],
      "execution_count": 1875,
      "outputs": []
    },
    {
      "cell_type": "code",
      "metadata": {
        "colab": {
          "base_uri": "https://localhost:8080/",
          "height": 0
        },
        "id": "y6-bcUm6wDET",
        "outputId": "cb9d187d-3af8-4ba5-a37b-5e9bffc22637"
      },
      "source": [
        "ORDER_RO_A=EB_18['SALESORDERITEM']\n",
        "WEEKDAY_RO_A=EB_18['weekday']\n",
        "plt.scatter(WEEKDAY_RO_A,ORDER_RO_A,color='navy') #พบว่าวันที่มีคำสังซื้อเยอะที่สุดคือ วันอาทิตย์และวันพุธ\n",
        "plt.xlabel('Weekday')\n",
        "plt.ylabel('Sale_Order')\n",
        "plt.suptitle('EB_18',fontsize=16)\n",
        "plt.show()"
      ],
      "execution_count": 1876,
      "outputs": [
        {
          "output_type": "display_data",
          "data": {
            "image/png": "[encoded data removed]",
            "text/plain": [
              "<Figure size 432x288 with 1 Axes>"
            ]
          },
          "metadata": {
            "needs_background": "light"
          }
        }
      ]
    },
    {
      "cell_type": "markdown",
      "metadata": {
        "id": "Og_nVo-b5U3z"
      },
      "source": [
        "######เรียกดูข้อมูลปี 2019"
      ]
    },
    {
      "cell_type": "code",
      "metadata": {
        "id": "-xYNyzxH5ZW2"
      },
      "source": [
        "EB_2019=EB[EB['year']==2019]"
      ],
      "execution_count": 1877,
      "outputs": []
    },
    {
      "cell_type": "code",
      "metadata": {
        "colab": {
          "base_uri": "https://localhost:8080/"
        },
        "id": "M9VJc5OG5Z4-",
        "outputId": "60906597-ff96-4258-fa63-c1deb43ca304"
      },
      "source": [
        "set(EB_2019['mount'])"
      ],
      "execution_count": 1878,
      "outputs": [
        {
          "output_type": "execute_result",
          "data": {
            "text/plain": [
              "{1, 2, 3, 4, 5, 6, 7, 12}"
            ]
          },
          "metadata": {},
          "execution_count": 1878
        }
      ]
    },
    {
      "cell_type": "code",
      "metadata": {
        "id": "kSyqbCWO5Z2Q"
      },
      "source": [
        "EB_2019_2=EB_2019[(EB_2019['mount']>=1)&(EB_2019['mount']<=2)].sort_values(by='mount').drop([1274,1267,1245,1161,1208,1192,1162,1173,1399,1149,1178,1400,1349,1185,1217])"
      ],
      "execution_count": 1879,
      "outputs": []
    },
    {
      "cell_type": "code",
      "metadata": {
        "id": "hbO9pZT95Z0f"
      },
      "source": [
        "EB_2019_4=EB_2019[(EB_2019['mount']>=3)&(EB_2019['mount']<=4)].sort_values(by='mount').drop([1616,1597,1586,1576,1609,1536,1533,1507,1501,1559])"
      ],
      "execution_count": 1880,
      "outputs": []
    },
    {
      "cell_type": "code",
      "metadata": {
        "id": "oANd8i3_6DSL"
      },
      "source": [
        "EB_2019_12=EB_2019[(EB_2019['mount']>=5)&(EB_2019['mount']<=12)].sort_values(by='mount').drop([1691,1678,1672,1650,1662,1875,1858,1910,1792,934])"
      ],
      "execution_count": 1881,
      "outputs": []
    },
    {
      "cell_type": "code",
      "metadata": {
        "id": "_Dy4MEAU0NvA"
      },
      "source": [
        "EB_19= pd.concat([EB_2019_2,EB_2019_4,EB_2019_12]) #ต่อตาราง"
      ],
      "execution_count": 1882,
      "outputs": []
    },
    {
      "cell_type": "code",
      "metadata": {
        "colab": {
          "base_uri": "https://localhost:8080/",
          "height": 0
        },
        "id": "u-ODXXG70YCU",
        "outputId": "1ca5df29-d2ef-4736-f414-ceb715d721ca"
      },
      "source": [
        "ORDER_RO_A=EB_19['SALESORDERITEM']\n",
        "WEEKDAY_RO_A=EB_19['weekday']\n",
        "plt.scatter(WEEKDAY_RO_A,ORDER_RO_A,color='navy') #พบว่าวันที่มีคำสังซื้อเยอะที่สุดคือ วันอาทิตย์ วันพุธ ศุุกร์และเสาร์\n",
        "plt.xlabel('Weekday')\n",
        "plt.ylabel('Sale_Order')\n",
        "plt.suptitle('EB_19',fontsize=16)\n",
        "plt.show()"
      ],
      "execution_count": 1883,
      "outputs": [
        {
          "output_type": "display_data",
          "data": {
            "image/png": "[encoded data removed]",
            "text/plain": [
              "<Figure size 432x288 with 1 Axes>"
            ]
          },
          "metadata": {
            "needs_background": "light"
          }
        }
      ]
    },
    {
      "cell_type": "code",
      "metadata": {
        "id": "zGfGuy-l0px0"
      },
      "source": [
        "eBike= pd.concat([EB_18,EB_19]) #ต่อตารางข้อมูลรายปีที่ตัดข้อมูลวันที่ที่ มีค่าซ้ำ โดยเลือกวันที่ที่มียอดคำสั่งสินค้าสูงสุด ที่เหลือตัดทิ้งทิ้ง"
      ],
      "execution_count": 1884,
      "outputs": []
    },
    {
      "cell_type": "markdown",
      "metadata": {
        "id": "7ewW1__v6HVc"
      },
      "source": [
        "####4.9 รถจักยานต์ชนิด Cruiser:CB"
      ]
    },
    {
      "cell_type": "code",
      "metadata": {
        "id": "AFQZDGYO6eYY"
      },
      "source": [
        "CB=Sale[Sale['name_product']=='CB']"
      ],
      "execution_count": 1885,
      "outputs": []
    },
    {
      "cell_type": "markdown",
      "metadata": {
        "id": "mtcFkuAD6o87"
      },
      "source": [
        "######เรียกดูข้อมูลปี 2018"
      ]
    },
    {
      "cell_type": "code",
      "metadata": {
        "id": "YBRQv4ID6eVl"
      },
      "source": [
        "CB_2018=CB[CB['year']==2018]"
      ],
      "execution_count": 1886,
      "outputs": []
    },
    {
      "cell_type": "code",
      "metadata": {
        "colab": {
          "base_uri": "https://localhost:8080/"
        },
        "id": "tQRo1dXc6zkt",
        "outputId": "2336f437-98cd-4870-87a7-7ac019b5ba2d"
      },
      "source": [
        "set(CB_2018['mount'])"
      ],
      "execution_count": 1887,
      "outputs": [
        {
          "output_type": "execute_result",
          "data": {
            "text/plain": [
              "{2, 3, 4, 5, 6, 7, 8, 9, 10, 11, 12}"
            ]
          },
          "metadata": {},
          "execution_count": 1887
        }
      ]
    },
    {
      "cell_type": "code",
      "metadata": {
        "id": "8amD7ixv6-AE"
      },
      "source": [
        "CB_2018_6=CB_2018[(CB_2018['mount']>=2)&(CB_2018['mount']<=6)].sort_values(by='mount').drop([76,200,144,338,325,309,254,243,215,296,348])"
      ],
      "execution_count": 1888,
      "outputs": []
    },
    {
      "cell_type": "code",
      "metadata": {
        "id": "Aqz6qjfS699m"
      },
      "source": [
        "CB_2018_12=CB_2018[(CB_2018['mount']>=7)&(CB_2018['mount']<=12)].sort_values(by='mount').drop([389,487,550,552,715,917,993,1110,1045])"
      ],
      "execution_count": 1889,
      "outputs": []
    },
    {
      "cell_type": "code",
      "metadata": {
        "id": "SpV9lTGD281m"
      },
      "source": [
        "CB_18= pd.concat([CB_2018_6,CB_2018_12]) #ต่อตาราง"
      ],
      "execution_count": 1890,
      "outputs": []
    },
    {
      "cell_type": "code",
      "metadata": {
        "colab": {
          "base_uri": "https://localhost:8080/",
          "height": 0
        },
        "id": "LJVVd81g3ImR",
        "outputId": "10af90d8-213a-4fb8-b426-d8ba3fef1342"
      },
      "source": [
        "ORDER_RO_A=CB_18['SALESORDERITEM']\n",
        "WEEKDAY_RO_A=CB_18['weekday']\n",
        "plt.scatter(WEEKDAY_RO_A,ORDER_RO_A,color='navy') #พบว่าวันที่มีคำสังซื้อเยอะที่สุดคือ วันจันทร์ วันพุธ และวันพฤหัสบดี\n",
        "plt.xlabel('Weekday')\n",
        "plt.ylabel('Sale_Order')\n",
        "plt.suptitle('CB_18',fontsize=16)\n",
        "plt.show()"
      ],
      "execution_count": 1891,
      "outputs": [
        {
          "output_type": "display_data",
          "data": {
            "image/png": "[encoded data removed]",
            "text/plain": [
              "<Figure size 432x288 with 1 Axes>"
            ]
          },
          "metadata": {
            "needs_background": "light"
          }
        }
      ]
    },
    {
      "cell_type": "markdown",
      "metadata": {
        "id": "U3TI3Kai6quY"
      },
      "source": [
        "######เรียกดูข้อมูลปี 2019"
      ]
    },
    {
      "cell_type": "code",
      "metadata": {
        "id": "xUyJq05j6eTt"
      },
      "source": [
        "CB_2019=CB[CB['year']==2019]"
      ],
      "execution_count": 1892,
      "outputs": []
    },
    {
      "cell_type": "code",
      "metadata": {
        "id": "ctUgdHjO7Snk"
      },
      "source": [
        "CB_19=CB_2019.sort_values(by='mount').drop([1195,1338,1625,1573,1523,1457,1460,1585,1529,1868,1826,1825,624])"
      ],
      "execution_count": 1893,
      "outputs": []
    },
    {
      "cell_type": "code",
      "metadata": {
        "colab": {
          "base_uri": "https://localhost:8080/",
          "height": 0
        },
        "id": "l8vd8gnp6c5w",
        "outputId": "a08f3407-cfab-42f1-946e-de6010ded64d"
      },
      "source": [
        "ORDER_RO_A=CB_19['SALESORDERITEM']\n",
        "WEEKDAY_RO_A=CB_19['weekday']\n",
        "plt.scatter(WEEKDAY_RO_A,ORDER_RO_A,color='navy') #พบว่าวันที่มีคำสังซื้อเยอะที่สุดคือ วันจันทร์ วันพุธ และวันพฤหัสบดี\n",
        "plt.xlabel('Weekday')\n",
        "plt.ylabel('Sale_Order')\n",
        "plt.suptitle('CB_19',fontsize=16)\n",
        "plt.show()"
      ],
      "execution_count": 1894,
      "outputs": [
        {
          "output_type": "display_data",
          "data": {
            "image/png": "[encoded data removed]",
            "text/plain": [
              "<Figure size 432x288 with 1 Axes>"
            ]
          },
          "metadata": {
            "needs_background": "light"
          }
        }
      ]
    },
    {
      "cell_type": "code",
      "metadata": {
        "id": "i5eUtYPi6Mnb"
      },
      "source": [
        "Cruiser= pd.concat([CB_18,CB_19]) ##ต่อตารางข้อมูลรายปีที่ตัดข้อมูลวันที่ที่ มีค่าซ้ำ โดยเลือกวันที่ที่มียอดคำสั่งสินค้าสูงสุด ที่เหลือตัดทิ้งทิ้ง"
      ],
      "execution_count": 1895,
      "outputs": []
    },
    {
      "cell_type": "code",
      "metadata": {
        "colab": {
          "base_uri": "https://localhost:8080/",
          "height": 0
        },
        "id": "BUTzYxd26pus",
        "outputId": "f10e29fa-6f5e-4702-e9e0-c4896ae42b43"
      },
      "source": [
        "ORDER_RO_A=Cruiser['SALESORDERITEM']\n",
        "WEEKDAY_RO_A=Cruiser['weekday']\n",
        "plt.scatter(ORDER_RO_A,WEEKDAY_RO_A,color='navy') #พบว่าวันที่มีคำสังซื้อเยอะที่สุดคือ วันจันทร์ วันพุธ และวันพฤหัสบดี\n",
        "plt.xlabel('Sale_Order')\n",
        "plt.suptitle('Cruiser',fontsize=16)\n",
        "plt.show()"
      ],
      "execution_count": 1896,
      "outputs": [
        {
          "output_type": "display_data",
          "data": {
            "image/png": "[encoded data removed]",
            "text/plain": [
              "<Figure size 432x288 with 1 Axes>"
            ]
          },
          "metadata": {
            "needs_background": "light"
          }
        }
      ]
    },
    {
      "cell_type": "markdown",
      "metadata": {
        "id": "HYBDZPZP6NHq"
      },
      "source": [
        "####4.10 รถจักยานต์ชนิด Hybrid Bike:HB"
      ]
    },
    {
      "cell_type": "code",
      "metadata": {
        "id": "_SnNmTYw7dER"
      },
      "source": [
        "HB=Sale[Sale['name_product']=='HB']"
      ],
      "execution_count": 1897,
      "outputs": []
    },
    {
      "cell_type": "markdown",
      "metadata": {
        "id": "9WHTYAUo7ocr"
      },
      "source": [
        "######เรียกดูข้อมูลปี 2018"
      ]
    },
    {
      "cell_type": "code",
      "metadata": {
        "id": "_ljotcIO7dBz"
      },
      "source": [
        "HB_2018=HB[HB['year']==2018]"
      ],
      "execution_count": 1898,
      "outputs": []
    },
    {
      "cell_type": "code",
      "metadata": {
        "colab": {
          "base_uri": "https://localhost:8080/"
        },
        "id": "k5VFLdBP7xLN",
        "outputId": "9575eaab-c0c8-48c0-9d40-0c8e5b882667"
      },
      "source": [
        "set(HB_2018['mount'])"
      ],
      "execution_count": 1899,
      "outputs": [
        {
          "output_type": "execute_result",
          "data": {
            "text/plain": [
              "{2, 3, 4, 5, 6, 7, 8, 9, 10, 11, 12}"
            ]
          },
          "metadata": {},
          "execution_count": 1899
        }
      ]
    },
    {
      "cell_type": "code",
      "metadata": {
        "id": "OZknv5TC7-gF"
      },
      "source": [
        "HB_2018_6=HB_2018[(HB_2018['mount']>=2)&(HB_2018['mount']<=6)].sort_values(by='mount').drop([126,163,6,54,198,140,133,154,115,336,335,334,304,301,302,385,380,374,366,351,399,372])"
      ],
      "execution_count": 1900,
      "outputs": []
    },
    {
      "cell_type": "code",
      "metadata": {
        "id": "nmDvjWH37-c2"
      },
      "source": [
        "HB_2018_9=HB_2018[(HB_2018['mount']>=7)&(HB_2018['mount']<=9)].sort_values(by='mount').drop([504,439,512,665,672])"
      ],
      "execution_count": 1901,
      "outputs": []
    },
    {
      "cell_type": "code",
      "metadata": {
        "id": "RFEWR0N37-Yj"
      },
      "source": [
        "HB_2018_12=HB_2018[(HB_2018['mount']>=10)&(HB_2018['mount']<=12)].sort_values(by='mount').drop([815,794,793,792,788,781,763,758,970,1014,781,763,758,970,1014,991,901,872,807,1048,954])"
      ],
      "execution_count": 1902,
      "outputs": []
    },
    {
      "cell_type": "code",
      "metadata": {
        "id": "5tmnfI4o9gyj"
      },
      "source": [
        "HB_18= pd.concat([HB_2018_6,HB_2018_9,HB_2018_12]) #ต่อตารางรายเดือนในปี 2018"
      ],
      "execution_count": 1903,
      "outputs": []
    },
    {
      "cell_type": "code",
      "metadata": {
        "colab": {
          "base_uri": "https://localhost:8080/",
          "height": 0
        },
        "id": "CQt6Ak-69q-j",
        "outputId": "fe6343d9-91c9-4ef7-f8f1-4f796a92fdaa"
      },
      "source": [
        "ORDER_RO_A=HB_18['SALESORDERITEM']\n",
        "WEEKDAY_RO_A=HB_18['weekday']\n",
        "plt.scatter(WEEKDAY_RO_A,ORDER_RO_A,color='navy') #พบว่าวันที่มีคำสังซื้อเยอะที่สุดคือ วันอังคารและวันพฤหัสบดี\n",
        "plt.xlabel('Weekday')\n",
        "plt.ylabel('Sale_Order')\n",
        "plt.suptitle('HB_18',fontsize=16)\n",
        "plt.show()"
      ],
      "execution_count": 1904,
      "outputs": [
        {
          "output_type": "display_data",
          "data": {
            "image/png": "[encoded data removed]",
            "text/plain": [
              "<Figure size 432x288 with 1 Axes>"
            ]
          },
          "metadata": {
            "needs_background": "light"
          }
        }
      ]
    },
    {
      "cell_type": "markdown",
      "metadata": {
        "id": "8nt5TZIN7qBT"
      },
      "source": [
        "######เรียกดูข้อมูลปี 2019"
      ]
    },
    {
      "cell_type": "code",
      "metadata": {
        "id": "i1xBgPJF8Q45"
      },
      "source": [
        "HB_2019=HB[HB['year']==2019]"
      ],
      "execution_count": 1905,
      "outputs": []
    },
    {
      "cell_type": "code",
      "metadata": {
        "colab": {
          "base_uri": "https://localhost:8080/"
        },
        "id": "LmPkstW28TjA",
        "outputId": "7e7629ad-950a-4c3d-a4bc-712d7bc39166"
      },
      "source": [
        "set(HB_2019['mount'])"
      ],
      "execution_count": 1906,
      "outputs": [
        {
          "output_type": "execute_result",
          "data": {
            "text/plain": [
              "{1, 2, 3, 4, 5, 6, 7, 12}"
            ]
          },
          "metadata": {},
          "execution_count": 1906
        }
      ]
    },
    {
      "cell_type": "code",
      "metadata": {
        "id": "2IkGcy0l8a9S"
      },
      "source": [
        "HB_2019_3=HB_2019[(HB_2019['mount']>=1)&(HB_2019['mount']<=3)].sort_values(by='mount').drop([1283,1228,1181,1174,1408,1329,1323,1318,1314,1315,1430,1433,1447])"
      ],
      "execution_count": 1907,
      "outputs": []
    },
    {
      "cell_type": "code",
      "metadata": {
        "id": "o5cy5Afn8baw"
      },
      "source": [
        "HB_2019_12=HB_2019[(HB_2019['mount']>=4)&(HB_2019['mount']<=12)].sort_values(by='mount').drop([1642,1620,1617,1535,1508,1504,1659,1685,1913,1872,1870,1869,1840,1812,1810])"
      ],
      "execution_count": 1908,
      "outputs": []
    },
    {
      "cell_type": "code",
      "metadata": {
        "id": "q2-VFNSD_-tp"
      },
      "source": [
        "HB_19= pd.concat([HB_2019_3,HB_2019_12]) #ต่อตารางรายเดือนในปี 2018"
      ],
      "execution_count": 1909,
      "outputs": []
    },
    {
      "cell_type": "code",
      "metadata": {
        "colab": {
          "base_uri": "https://localhost:8080/",
          "height": 0
        },
        "id": "Qejnjdi-AEMf",
        "outputId": "42246790-b19d-4978-ac89-adb20edad5b7"
      },
      "source": [
        "ORDER_RO_A=HB_19['SALESORDERITEM']\n",
        "WEEKDAY_RO_A=HB_19['weekday']\n",
        "plt.scatter(WEEKDAY_RO_A,ORDER_RO_A,color='navy') #พบว่าวันที่มีคำสังซื้อเยอะที่สุดคือ วันอาทิตย์ และวันอังคาร\n",
        "plt.xlabel('Weekday')\n",
        "plt.ylabel('Sale_Order')\n",
        "plt.suptitle('HB_19',fontsize=16)\n",
        "plt.show()"
      ],
      "execution_count": 1910,
      "outputs": [
        {
          "output_type": "display_data",
          "data": {
            "image/png": "[encoded data removed]",
            "text/plain": [
              "<Figure size 432x288 with 1 Axes>"
            ]
          },
          "metadata": {
            "needs_background": "light"
          }
        }
      ]
    },
    {
      "cell_type": "code",
      "metadata": {
        "id": "ilNfC2ABAQzj"
      },
      "source": [
        "Hybrid_Bike= pd.concat([HB_18,HB_19]) ##ต่อตารางข้อมูลรายปีที่ตัดข้อมูลวันที่ที่ มีค่าซ้ำ โดยเลือกวันที่ที่มียอดคำสั่งสินค้าสูงสุด ที่เหลือตัดทิ้งทิ้ง"
      ],
      "execution_count": 1911,
      "outputs": []
    },
    {
      "cell_type": "code",
      "metadata": {
        "colab": {
          "base_uri": "https://localhost:8080/",
          "height": 0
        },
        "id": "rgNTHDpUAkOE",
        "outputId": "91e28ab9-f784-4490-a070-9b4a60d26eb8"
      },
      "source": [
        "ORDER_RO_A=Hybrid_Bike['SALESORDERITEM']\n",
        "WEEKDAY_RO_A=Hybrid_Bike['weekday']\n",
        "plt.scatter(ORDER_RO_A,WEEKDAY_RO_A,color='navy') #พบว่าวันที่มีคำสังซื้อเยอะที่สุดคือ วันอาทิตย์ และวันอังคาร\n",
        "plt.xlabel('Sale_Order')\n",
        "plt.suptitle('Hybrid_Bike',fontsize=16)\n",
        "plt.show()"
      ],
      "execution_count": 1912,
      "outputs": [
        {
          "output_type": "display_data",
          "data": {
            "image/png": "[encoded data removed]",
            "text/plain": [
              "<Figure size 432x288 with 1 Axes>"
            ]
          },
          "metadata": {
            "needs_background": "light"
          }
        }
      ]
    },
    {
      "cell_type": "markdown",
      "metadata": {
        "id": "193m1yOaArfj"
      },
      "source": [
        "###ขั้นที่ 5 นำข้อมูลวันที่ที่ มีค่าซ้ำ โดยเลือกเฉพาะวันที่ที่มียอดคำสั่งสินค้าสูงสุด ที่เหลือตัดทิ้ง ในขั้นตอนที่ 4 ตามชนิดของจักรยานต์มาต่อกัน\n",
        "\n",
        "\n"
      ]
    },
    {
      "cell_type": "markdown",
      "metadata": {
        "id": "Z8mCnNXiB_tB"
      },
      "source": [
        "##### เชื่อมตาราง เลือกเฉพาะคอลัมน์ ทวีปของคู่ค้า:Region ,วันในสัปดาห์:weekday และ ชื่อสินค้า:name_product"
      ]
    },
    {
      "cell_type": "code",
      "metadata": {
        "id": "8jYyGdpkBR2A"
      },
      "source": [
        " Sale_Order_item=pd.concat([Road_Bike,BMX,Cyclo_cross_BiKE,Mountain_Bike,Racing_Bike,Downhill_Bike,eBike,Cruiser,Hybrid_Bike]).iloc[:,[15,17,13]]"
      ],
      "execution_count": 1913,
      "outputs": []
    },
    {
      "cell_type": "markdown",
      "metadata": {
        "id": "2VaDCxz_CjkW"
      },
      "source": [
        "#####ข้อมูลวันในสัปดาห์ที่มี ยอดคำสั่งซื้อสูงสุดเรียงจากมากไปน้อย"
      ]
    },
    {
      "cell_type": "code",
      "metadata": {
        "id": "R0Zi7d8cD5Kl"
      },
      "source": [
        " Sale_Or=pd.concat([Road_Bike,BMX,Cyclo_cross_BiKE,Mountain_Bike,Racing_Bike,Downhill_Bike,eBike,Cruiser,Hybrid_Bike]).iloc[:,[1,15,17,13]]"
      ],
      "execution_count": 1914,
      "outputs": []
    },
    {
      "cell_type": "markdown",
      "metadata": {
        "id": "_BqtmnV8GYst"
      },
      "source": [
        "######ยอดคำสั่งซื้อทุกทวีป (เวลาแบบยุโรป)"
      ]
    },
    {
      "cell_type": "code",
      "metadata": {
        "id": "zaR5uO3rEb3J"
      },
      "source": [
        " Word=Sale_Or.groupby('weekday').sum().sort_values(by=['SALESORDERITEM'],ascending=False).reset_index()"
      ],
      "execution_count": 1915,
      "outputs": []
    },
    {
      "cell_type": "code",
      "metadata": {
        "colab": {
          "base_uri": "https://localhost:8080/",
          "height": 265
        },
        "id": "WsU-Y879Fwc0",
        "outputId": "4b535e3e-eb04-409d-8ca4-6c6b33c3e1f0"
      },
      "source": [
        " Word"
      ],
      "execution_count": 1916,
      "outputs": [
        {
          "output_type": "execute_result",
          "data": {
            "text/html": [
              "<div>\n",
              "<style scoped>\n",
              "    .dataframe tbody tr th:only-of-type {\n",
              "        vertical-align: middle;\n",
              "    }\n",
              "\n",
              "    .dataframe tbody tr th {\n",
              "        vertical-align: top;\n",
              "    }\n",
              "\n",
              "    .dataframe thead th {\n",
              "        text-align: right;\n",
              "    }\n",
              "</style>\n",
              "<table border=\"1\" class=\"dataframe\">\n",
              "  <thead>\n",
              "    <tr style=\"text-align: right;\">\n",
              "      <th></th>\n",
              "      <th>weekday</th>\n",
              "      <th>SALESORDERITEM</th>\n",
              "      <th>Name_Region</th>\n",
              "    </tr>\n",
              "  </thead>\n",
              "  <tbody>\n",
              "    <tr>\n",
              "      <th>0</th>\n",
              "      <td>0</td>\n",
              "      <td>10060</td>\n",
              "      <td>459</td>\n",
              "    </tr>\n",
              "    <tr>\n",
              "      <th>1</th>\n",
              "      <td>2</td>\n",
              "      <td>9680</td>\n",
              "      <td>449</td>\n",
              "    </tr>\n",
              "    <tr>\n",
              "      <th>2</th>\n",
              "      <td>1</td>\n",
              "      <td>8920</td>\n",
              "      <td>391</td>\n",
              "    </tr>\n",
              "    <tr>\n",
              "      <th>3</th>\n",
              "      <td>5</td>\n",
              "      <td>8540</td>\n",
              "      <td>371</td>\n",
              "    </tr>\n",
              "    <tr>\n",
              "      <th>4</th>\n",
              "      <td>4</td>\n",
              "      <td>8390</td>\n",
              "      <td>349</td>\n",
              "    </tr>\n",
              "    <tr>\n",
              "      <th>5</th>\n",
              "      <td>3</td>\n",
              "      <td>7880</td>\n",
              "      <td>354</td>\n",
              "    </tr>\n",
              "    <tr>\n",
              "      <th>6</th>\n",
              "      <td>6</td>\n",
              "      <td>7600</td>\n",
              "      <td>361</td>\n",
              "    </tr>\n",
              "  </tbody>\n",
              "</table>\n",
              "</div>"
            ],
            "text/plain": [
              "   weekday  SALESORDERITEM  Name_Region\n",
              "0        0           10060          459\n",
              "1        2            9680          449\n",
              "2        1            8920          391\n",
              "3        5            8540          371\n",
              "4        4            8390          349\n",
              "5        3            7880          354\n",
              "6        6            7600          361"
            ]
          },
          "metadata": {},
          "execution_count": 1916
        }
      ]
    },
    {
      "cell_type": "code",
      "metadata": {
        "colab": {
          "base_uri": "https://localhost:8080/",
          "height": 319
        },
        "id": "1PNJ6AseN1UC",
        "outputId": "e3881b0b-3d56-4d94-b375-3ceb87e45f05"
      },
      "source": [
        "import matplotlib.pyplot as plt\n",
        "import numpy as np\n",
        "\n",
        "\n",
        "# make data\n",
        "\n",
        "x =Word['weekday']\n",
        "y = Word['SALESORDERITEM']\n",
        "\n",
        "# plot\n",
        "fig, ax = plt.subplots()\n",
        "\n",
        "ax.stem(x, y)\n",
        "\n",
        "\n",
        "plt.show()"
      ],
      "execution_count": 1917,
      "outputs": [
        {
          "output_type": "stream",
          "name": "stderr",
          "text": [
            "/usr/local/lib/python3.7/dist-packages/ipykernel_launcher.py:13: UserWarning: In Matplotlib 3.3 individual lines on a stem plot will be added as a LineCollection instead of individual lines. This significantly improves the performance of a stem plot. To remove this warning and switch to the new behaviour, set the \"use_line_collection\" keyword argument to True.\n",
            "  del sys.path[0]\n"
          ]
        },
        {
          "output_type": "display_data",
          "data": {
            "image/png": "[encoded data removed]",
            "text/plain": [
              "<Figure size 432x288 with 1 Axes>"
            ]
          },
          "metadata": {
            "needs_background": "light"
          }
        }
      ]
    },
    {
      "cell_type": "markdown",
      "metadata": {
        "id": "JZi3H82wGowN"
      },
      "source": [
        "######ยอดคำสั่งซื้อตามวันในสัปดาห์ของอเมริกา('AMER':3) \n",
        "เวลาแบบยุโรป"
      ]
    },
    {
      "cell_type": "code",
      "metadata": {
        "id": "CtJpBpr4HbN2"
      },
      "source": [
        "AMERICA=Sale_Or[Sale_Or['Name_Region']==3]"
      ],
      "execution_count": 1918,
      "outputs": []
    },
    {
      "cell_type": "code",
      "metadata": {
        "id": "aT50U8I_Gr23"
      },
      "source": [
        "A_MERICA=AMERICA.groupby('weekday').sum().sort_values(by=['SALESORDERITEM'],ascending=False).reset_index()"
      ],
      "execution_count": 1919,
      "outputs": []
    },
    {
      "cell_type": "code",
      "metadata": {
        "colab": {
          "base_uri": "https://localhost:8080/",
          "height": 265
        },
        "id": "_9bZKFjZCfm0",
        "outputId": "1e95e47a-8627-4e34-a0c8-aa383d4ce289"
      },
      "source": [
        "A_MERICA"
      ],
      "execution_count": 1920,
      "outputs": [
        {
          "output_type": "execute_result",
          "data": {
            "text/html": [
              "<div>\n",
              "<style scoped>\n",
              "    .dataframe tbody tr th:only-of-type {\n",
              "        vertical-align: middle;\n",
              "    }\n",
              "\n",
              "    .dataframe tbody tr th {\n",
              "        vertical-align: top;\n",
              "    }\n",
              "\n",
              "    .dataframe thead th {\n",
              "        text-align: right;\n",
              "    }\n",
              "</style>\n",
              "<table border=\"1\" class=\"dataframe\">\n",
              "  <thead>\n",
              "    <tr style=\"text-align: right;\">\n",
              "      <th></th>\n",
              "      <th>weekday</th>\n",
              "      <th>SALESORDERITEM</th>\n",
              "      <th>Name_Region</th>\n",
              "    </tr>\n",
              "  </thead>\n",
              "  <tbody>\n",
              "    <tr>\n",
              "      <th>0</th>\n",
              "      <td>5</td>\n",
              "      <td>3300</td>\n",
              "      <td>177</td>\n",
              "    </tr>\n",
              "    <tr>\n",
              "      <th>1</th>\n",
              "      <td>2</td>\n",
              "      <td>3130</td>\n",
              "      <td>222</td>\n",
              "    </tr>\n",
              "    <tr>\n",
              "      <th>2</th>\n",
              "      <td>3</td>\n",
              "      <td>2960</td>\n",
              "      <td>192</td>\n",
              "    </tr>\n",
              "    <tr>\n",
              "      <th>3</th>\n",
              "      <td>0</td>\n",
              "      <td>2840</td>\n",
              "      <td>198</td>\n",
              "    </tr>\n",
              "    <tr>\n",
              "      <th>4</th>\n",
              "      <td>1</td>\n",
              "      <td>2240</td>\n",
              "      <td>174</td>\n",
              "    </tr>\n",
              "    <tr>\n",
              "      <th>5</th>\n",
              "      <td>6</td>\n",
              "      <td>1920</td>\n",
              "      <td>141</td>\n",
              "    </tr>\n",
              "    <tr>\n",
              "      <th>6</th>\n",
              "      <td>4</td>\n",
              "      <td>1350</td>\n",
              "      <td>99</td>\n",
              "    </tr>\n",
              "  </tbody>\n",
              "</table>\n",
              "</div>"
            ],
            "text/plain": [
              "   weekday  SALESORDERITEM  Name_Region\n",
              "0        5            3300          177\n",
              "1        2            3130          222\n",
              "2        3            2960          192\n",
              "3        0            2840          198\n",
              "4        1            2240          174\n",
              "5        6            1920          141\n",
              "6        4            1350           99"
            ]
          },
          "metadata": {},
          "execution_count": 1920
        }
      ]
    },
    {
      "cell_type": "code",
      "metadata": {
        "id": "E4Rywcj1SMTI",
        "colab": {
          "base_uri": "https://localhost:8080/",
          "height": 319
        },
        "outputId": "b253bf4d-1850-4f9f-eb5e-1488afbcc432"
      },
      "source": [
        "import matplotlib.pyplot as plt\n",
        "import numpy as np\n",
        "\n",
        "\n",
        "# make data\n",
        "\n",
        "x =A_MERICA['weekday']\n",
        "y = A_MERICA['SALESORDERITEM']\n",
        "\n",
        "# plot\n",
        "fig, ax = plt.subplots()\n",
        "\n",
        "ax.stem(x, y)\n",
        "\n",
        "\n",
        "plt.show()"
      ],
      "execution_count": 1921,
      "outputs": [
        {
          "output_type": "stream",
          "name": "stderr",
          "text": [
            "/usr/local/lib/python3.7/dist-packages/ipykernel_launcher.py:13: UserWarning: In Matplotlib 3.3 individual lines on a stem plot will be added as a LineCollection instead of individual lines. This significantly improves the performance of a stem plot. To remove this warning and switch to the new behaviour, set the \"use_line_collection\" keyword argument to True.\n",
            "  del sys.path[0]\n"
          ]
        },
        {
          "output_type": "display_data",
          "data": {
            "image/png": "[encoded data removed]",
            "text/plain": [
              "<Figure size 432x288 with 1 Axes>"
            ]
          },
          "metadata": {
            "needs_background": "light"
          }
        }
      ]
    },
    {
      "cell_type": "markdown",
      "metadata": {
        "id": "yd8nmu2jI44p"
      },
      "source": [
        "######ยอดคำสั่งซื้อตามวันในสัปดาห์ขอEurope_the_Middle_East_and_Africa :'EMEA':2\n",
        "เวลาแบบยุโรป"
      ]
    },
    {
      "cell_type": "code",
      "metadata": {
        "id": "-O0CWKwNJTbp"
      },
      "source": [
        "Europe=Sale_Or[Sale_Or['Name_Region']==2]"
      ],
      "execution_count": 1922,
      "outputs": []
    },
    {
      "cell_type": "code",
      "metadata": {
        "id": "E6zbMwUQJY8o"
      },
      "source": [
        "Eu_rope=Europe.groupby('weekday').sum().sort_values(by=['SALESORDERITEM'],ascending=False).reset_index()"
      ],
      "execution_count": 1923,
      "outputs": []
    },
    {
      "cell_type": "code",
      "metadata": {
        "colab": {
          "base_uri": "https://localhost:8080/",
          "height": 265
        },
        "id": "muiRmlBPJcTh",
        "outputId": "f0b93001-dbf8-41c1-afc2-2340816ec216"
      },
      "source": [
        "Eu_rope"
      ],
      "execution_count": 1924,
      "outputs": [
        {
          "output_type": "execute_result",
          "data": {
            "text/html": [
              "<div>\n",
              "<style scoped>\n",
              "    .dataframe tbody tr th:only-of-type {\n",
              "        vertical-align: middle;\n",
              "    }\n",
              "\n",
              "    .dataframe tbody tr th {\n",
              "        vertical-align: top;\n",
              "    }\n",
              "\n",
              "    .dataframe thead th {\n",
              "        text-align: right;\n",
              "    }\n",
              "</style>\n",
              "<table border=\"1\" class=\"dataframe\">\n",
              "  <thead>\n",
              "    <tr style=\"text-align: right;\">\n",
              "      <th></th>\n",
              "      <th>weekday</th>\n",
              "      <th>SALESORDERITEM</th>\n",
              "      <th>Name_Region</th>\n",
              "    </tr>\n",
              "  </thead>\n",
              "  <tbody>\n",
              "    <tr>\n",
              "      <th>0</th>\n",
              "      <td>0</td>\n",
              "      <td>5020</td>\n",
              "      <td>220</td>\n",
              "    </tr>\n",
              "    <tr>\n",
              "      <th>1</th>\n",
              "      <td>2</td>\n",
              "      <td>4230</td>\n",
              "      <td>182</td>\n",
              "    </tr>\n",
              "    <tr>\n",
              "      <th>2</th>\n",
              "      <td>6</td>\n",
              "      <td>3980</td>\n",
              "      <td>178</td>\n",
              "    </tr>\n",
              "    <tr>\n",
              "      <th>3</th>\n",
              "      <td>4</td>\n",
              "      <td>3810</td>\n",
              "      <td>174</td>\n",
              "    </tr>\n",
              "    <tr>\n",
              "      <th>4</th>\n",
              "      <td>1</td>\n",
              "      <td>3400</td>\n",
              "      <td>156</td>\n",
              "    </tr>\n",
              "    <tr>\n",
              "      <th>5</th>\n",
              "      <td>5</td>\n",
              "      <td>3400</td>\n",
              "      <td>148</td>\n",
              "    </tr>\n",
              "    <tr>\n",
              "      <th>6</th>\n",
              "      <td>3</td>\n",
              "      <td>2830</td>\n",
              "      <td>122</td>\n",
              "    </tr>\n",
              "  </tbody>\n",
              "</table>\n",
              "</div>"
            ],
            "text/plain": [
              "   weekday  SALESORDERITEM  Name_Region\n",
              "0        0            5020          220\n",
              "1        2            4230          182\n",
              "2        6            3980          178\n",
              "3        4            3810          174\n",
              "4        1            3400          156\n",
              "5        5            3400          148\n",
              "6        3            2830          122"
            ]
          },
          "metadata": {},
          "execution_count": 1924
        }
      ]
    },
    {
      "cell_type": "code",
      "metadata": {
        "id": "kABWTbUOSb5j",
        "colab": {
          "base_uri": "https://localhost:8080/",
          "height": 319
        },
        "outputId": "a7a26449-825f-4f64-e7e7-33ec51b3c5cf"
      },
      "source": [
        "import matplotlib.pyplot as plt\n",
        "import numpy as np\n",
        "\n",
        "\n",
        "# make data\n",
        "\n",
        "x =Eu_rope['weekday']\n",
        "y = Eu_rope['SALESORDERITEM']\n",
        "\n",
        "# plot\n",
        "fig, ax = plt.subplots()\n",
        "\n",
        "ax.stem(x, y)\n",
        "\n",
        "\n",
        "plt.show()"
      ],
      "execution_count": 1925,
      "outputs": [
        {
          "output_type": "stream",
          "name": "stderr",
          "text": [
            "/usr/local/lib/python3.7/dist-packages/ipykernel_launcher.py:13: UserWarning: In Matplotlib 3.3 individual lines on a stem plot will be added as a LineCollection instead of individual lines. This significantly improves the performance of a stem plot. To remove this warning and switch to the new behaviour, set the \"use_line_collection\" keyword argument to True.\n",
            "  del sys.path[0]\n"
          ]
        },
        {
          "output_type": "display_data",
          "data": {
            "image/png": "[encoded data removed]",
            "text/plain": [
              "<Figure size 432x288 with 1 Axes>"
            ]
          },
          "metadata": {
            "needs_background": "light"
          }
        }
      ]
    },
    {
      "cell_type": "markdown",
      "metadata": {
        "id": "upgmUdysJ5G4"
      },
      "source": [
        "######ยอดคำสั่งซื้อตามวันในสัปดาห์ของAsia ('APJ':1)\n",
        "เวลาแบบยุโรป"
      ]
    },
    {
      "cell_type": "code",
      "metadata": {
        "id": "j6exw2g8J42i"
      },
      "source": [
        "Asia=Sale_Or[Sale_Or['Name_Region']==1]"
      ],
      "execution_count": 1926,
      "outputs": []
    },
    {
      "cell_type": "code",
      "metadata": {
        "id": "fW7L1k5IKGnj"
      },
      "source": [
        "A_sia=Asia.groupby('weekday').sum().sort_values(by=['SALESORDERITEM'],ascending=False).reset_index()"
      ],
      "execution_count": 1927,
      "outputs": []
    },
    {
      "cell_type": "code",
      "metadata": {
        "colab": {
          "base_uri": "https://localhost:8080/",
          "height": 265
        },
        "id": "V6YdpaDtKJrj",
        "outputId": "8ced2aa4-3321-4e00-8b68-99ee7c470887"
      },
      "source": [
        "A_sia"
      ],
      "execution_count": 1928,
      "outputs": [
        {
          "output_type": "execute_result",
          "data": {
            "text/html": [
              "<div>\n",
              "<style scoped>\n",
              "    .dataframe tbody tr th:only-of-type {\n",
              "        vertical-align: middle;\n",
              "    }\n",
              "\n",
              "    .dataframe tbody tr th {\n",
              "        vertical-align: top;\n",
              "    }\n",
              "\n",
              "    .dataframe thead th {\n",
              "        text-align: right;\n",
              "    }\n",
              "</style>\n",
              "<table border=\"1\" class=\"dataframe\">\n",
              "  <thead>\n",
              "    <tr style=\"text-align: right;\">\n",
              "      <th></th>\n",
              "      <th>weekday</th>\n",
              "      <th>SALESORDERITEM</th>\n",
              "      <th>Name_Region</th>\n",
              "    </tr>\n",
              "  </thead>\n",
              "  <tbody>\n",
              "    <tr>\n",
              "      <th>0</th>\n",
              "      <td>1</td>\n",
              "      <td>3280</td>\n",
              "      <td>61</td>\n",
              "    </tr>\n",
              "    <tr>\n",
              "      <th>1</th>\n",
              "      <td>4</td>\n",
              "      <td>3230</td>\n",
              "      <td>76</td>\n",
              "    </tr>\n",
              "    <tr>\n",
              "      <th>2</th>\n",
              "      <td>2</td>\n",
              "      <td>2320</td>\n",
              "      <td>45</td>\n",
              "    </tr>\n",
              "    <tr>\n",
              "      <th>3</th>\n",
              "      <td>0</td>\n",
              "      <td>2200</td>\n",
              "      <td>41</td>\n",
              "    </tr>\n",
              "    <tr>\n",
              "      <th>4</th>\n",
              "      <td>3</td>\n",
              "      <td>2090</td>\n",
              "      <td>40</td>\n",
              "    </tr>\n",
              "    <tr>\n",
              "      <th>5</th>\n",
              "      <td>5</td>\n",
              "      <td>1840</td>\n",
              "      <td>46</td>\n",
              "    </tr>\n",
              "    <tr>\n",
              "      <th>6</th>\n",
              "      <td>6</td>\n",
              "      <td>1700</td>\n",
              "      <td>42</td>\n",
              "    </tr>\n",
              "  </tbody>\n",
              "</table>\n",
              "</div>"
            ],
            "text/plain": [
              "   weekday  SALESORDERITEM  Name_Region\n",
              "0        1            3280           61\n",
              "1        4            3230           76\n",
              "2        2            2320           45\n",
              "3        0            2200           41\n",
              "4        3            2090           40\n",
              "5        5            1840           46\n",
              "6        6            1700           42"
            ]
          },
          "metadata": {},
          "execution_count": 1928
        }
      ]
    },
    {
      "cell_type": "code",
      "metadata": {
        "id": "u_K5XKlbSoUM",
        "colab": {
          "base_uri": "https://localhost:8080/",
          "height": 319
        },
        "outputId": "4641aab7-768f-4bd6-976a-ff9bcc539633"
      },
      "source": [
        "import matplotlib.pyplot as plt\n",
        "import numpy as np\n",
        "\n",
        "\n",
        "# make data\n",
        "\n",
        "x = A_sia['weekday']\n",
        "y = A_sia['SALESORDERITEM']\n",
        "\n",
        "# plot\n",
        "fig, ax = plt.subplots()\n",
        "\n",
        "ax.stem(x, y)\n",
        "\n",
        "\n",
        "plt.show()"
      ],
      "execution_count": 1929,
      "outputs": [
        {
          "output_type": "stream",
          "name": "stderr",
          "text": [
            "/usr/local/lib/python3.7/dist-packages/ipykernel_launcher.py:13: UserWarning: In Matplotlib 3.3 individual lines on a stem plot will be added as a LineCollection instead of individual lines. This significantly improves the performance of a stem plot. To remove this warning and switch to the new behaviour, set the \"use_line_collection\" keyword argument to True.\n",
            "  del sys.path[0]\n"
          ]
        },
        {
          "output_type": "display_data",
          "data": {
            "image/png": "[encoded data removed]",
            "text/plain": [
              "<Figure size 432x288 with 1 Axes>"
            ]
          },
          "metadata": {
            "needs_background": "light"
          }
        }
      ]
    },
    {
      "cell_type": "markdown",
      "metadata": {
        "id": "aDHhbq3Kgdqp"
      },
      "source": [
        "##ขั้นที่ 6ดูการกระจายตัวของข้อมูล"
      ]
    },
    {
      "cell_type": "code",
      "metadata": {
        "id": "SI9l1zfWlz7P"
      },
      "source": [
        " dw_mapping={'BX':1, 'CB':2, 'CC':3, 'DB':4, 'EB':5, 'HB':6, 'MB':7, 'RC':8, 'RO':9}\n",
        " Sale_Order_item['Name_Product']= Sale_Order_item['name_product'].map(dw_mapping)"
      ],
      "execution_count": 1964,
      "outputs": []
    },
    {
      "cell_type": "code",
      "metadata": {
        "id": "trhdSkkA2og_",
        "outputId": "824df7aa-04a4-455e-bea8-364c2ea44554",
        "colab": {
          "base_uri": "https://localhost:8080/",
          "height": 282
        }
      },
      "source": [
        "plt.scatter(Road_Bike['Name_Region'],Road_Bike['weekday']) #จักรยาน Road_Bike"
      ],
      "execution_count": 1980,
      "outputs": [
        {
          "output_type": "execute_result",
          "data": {
            "text/plain": [
              "<matplotlib.collections.PathCollection at 0x7f2912806490>"
            ]
          },
          "metadata": {},
          "execution_count": 1980
        },
        {
          "output_type": "display_data",
          "data": {
            "image/png": "[encoded data removed]",
            "text/plain": [
              "<Figure size 432x288 with 1 Axes>"
            ]
          },
          "metadata": {
            "needs_background": "light"
          }
        }
      ]
    },
    {
      "cell_type": "code",
      "metadata": {
        "id": "iOt5H2Ei2_yP",
        "outputId": "ae74b24c-fcfa-4e57-f7d4-c4fbc9649ff1",
        "colab": {
          "base_uri": "https://localhost:8080/",
          "height": 282
        }
      },
      "source": [
        "plt.scatter(BMX['Name_Region'],BMX['weekday']) ## จักรยาน BMX"
      ],
      "execution_count": 1982,
      "outputs": [
        {
          "output_type": "execute_result",
          "data": {
            "text/plain": [
              "<matplotlib.collections.PathCollection at 0x7f2913842b10>"
            ]
          },
          "metadata": {},
          "execution_count": 1982
        },
        {
          "output_type": "display_data",
          "data": {
            "image/png": "[encoded data removed]",
            "text/plain": [
              "<Figure size 432x288 with 1 Axes>"
            ]
          },
          "metadata": {
            "needs_background": "light"
          }
        }
      ]
    },
    {
      "cell_type": "code",
      "metadata": {
        "id": "WaQx3Ct_vEvC"
      },
      "source": [
        "#plot จักรยานทุกชนิดรวมกัน\n",
        "import numpy as np\n",
        "XX=np.array(Sale_Order_item[['Name_Region','weekday']])\n",
        "yy=np.array(Sale_Order_item['Name_Product'],dtype=np.int32)"
      ],
      "execution_count": 1989,
      "outputs": []
    },
    {
      "cell_type": "code",
      "metadata": {
        "id": "xz093ipFgjl5",
        "colab": {
          "base_uri": "https://localhost:8080/",
          "height": 336
        },
        "outputId": "89d03174-3d02-42ef-d995-686fd20ed13e"
      },
      "source": [
        "\n",
        "sns.scatterplot(XX[:,0], XX[:,1], c=yy,hue=yy)  #เนื่องจากพิกัดจุดทับกันจึงทำให้เห็นการกระจายตัวไม่ชัดเจน และจึงเห็นเป็นสีเดียวกัน\n"
      ],
      "execution_count": 1968,
      "outputs": [
        {
          "output_type": "stream",
          "name": "stderr",
          "text": [
            "/usr/local/lib/python3.7/dist-packages/seaborn/_decorators.py:43: FutureWarning: Pass the following variables as keyword args: x, y. From version 0.12, the only valid positional argument will be `data`, and passing other arguments without an explicit keyword will result in an error or misinterpretation.\n",
            "  FutureWarning\n"
          ]
        },
        {
          "output_type": "execute_result",
          "data": {
            "text/plain": [
              "<matplotlib.axes._subplots.AxesSubplot at 0x7f291811a910>"
            ]
          },
          "metadata": {},
          "execution_count": 1968
        },
        {
          "output_type": "display_data",
          "data": {
            "image/png": "[encoded data removed]",
            "text/plain": [
              "<Figure size 432x288 with 1 Axes>"
            ]
          },
          "metadata": {
            "needs_background": "light"
          }
        }
      ]
    },
    {
      "cell_type": "markdown",
      "metadata": {
        "id": "LWMJZeCNyRvK"
      },
      "source": [
        "####ดูจำนวนข้อมูลในแต่ละ class"
      ]
    },
    {
      "cell_type": "code",
      "metadata": {
        "id": "fL3_GkspS071",
        "outputId": "6c281965-c8f5-49c2-c228-23f8d45f1201",
        "colab": {
          "base_uri": "https://localhost:8080/",
          "height": 327
        }
      },
      "source": [
        "Sale_Order_item.groupby('name_product').count().reset_index().iloc[:,[0,1]]"
      ],
      "execution_count": 1969,
      "outputs": [
        {
          "output_type": "execute_result",
          "data": {
            "text/html": [
              "<div>\n",
              "<style scoped>\n",
              "    .dataframe tbody tr th:only-of-type {\n",
              "        vertical-align: middle;\n",
              "    }\n",
              "\n",
              "    .dataframe tbody tr th {\n",
              "        vertical-align: top;\n",
              "    }\n",
              "\n",
              "    .dataframe thead th {\n",
              "        text-align: right;\n",
              "    }\n",
              "</style>\n",
              "<table border=\"1\" class=\"dataframe\">\n",
              "  <thead>\n",
              "    <tr style=\"text-align: right;\">\n",
              "      <th></th>\n",
              "      <th>name_product</th>\n",
              "      <th>Name_Region</th>\n",
              "    </tr>\n",
              "  </thead>\n",
              "  <tbody>\n",
              "    <tr>\n",
              "      <th>0</th>\n",
              "      <td>BX</td>\n",
              "      <td>207</td>\n",
              "    </tr>\n",
              "    <tr>\n",
              "      <th>1</th>\n",
              "      <td>CB</td>\n",
              "      <td>120</td>\n",
              "    </tr>\n",
              "    <tr>\n",
              "      <th>2</th>\n",
              "      <td>CC</td>\n",
              "      <td>172</td>\n",
              "    </tr>\n",
              "    <tr>\n",
              "      <th>3</th>\n",
              "      <td>DB</td>\n",
              "      <td>84</td>\n",
              "    </tr>\n",
              "    <tr>\n",
              "      <th>4</th>\n",
              "      <td>EB</td>\n",
              "      <td>229</td>\n",
              "    </tr>\n",
              "    <tr>\n",
              "      <th>5</th>\n",
              "      <td>HB</td>\n",
              "      <td>172</td>\n",
              "    </tr>\n",
              "    <tr>\n",
              "      <th>6</th>\n",
              "      <td>MB</td>\n",
              "      <td>125</td>\n",
              "    </tr>\n",
              "    <tr>\n",
              "      <th>7</th>\n",
              "      <td>RC</td>\n",
              "      <td>147</td>\n",
              "    </tr>\n",
              "    <tr>\n",
              "      <th>8</th>\n",
              "      <td>RO</td>\n",
              "      <td>86</td>\n",
              "    </tr>\n",
              "  </tbody>\n",
              "</table>\n",
              "</div>"
            ],
            "text/plain": [
              "  name_product  Name_Region\n",
              "0           BX          207\n",
              "1           CB          120\n",
              "2           CC          172\n",
              "3           DB           84\n",
              "4           EB          229\n",
              "5           HB          172\n",
              "6           MB          125\n",
              "7           RC          147\n",
              "8           RO           86"
            ]
          },
          "metadata": {},
          "execution_count": 1969
        }
      ]
    },
    {
      "cell_type": "code",
      "metadata": {
        "id": "GRiz_BWsUhm6",
        "colab": {
          "base_uri": "https://localhost:8080/",
          "height": 319
        },
        "outputId": "8a21da00-4c2b-4da8-db27-07991160adfd"
      },
      "source": [
        "import matplotlib.pyplot as plt\n",
        "import numpy as np\n",
        "\n",
        "\n",
        "# make data\n",
        "\n",
        "x =  Sale_Order_item1['name_product']\n",
        "y =  Sale_Order_item1['Name_Region']\n",
        "\n",
        "# plot\n",
        "fig, ax = plt.subplots()\n",
        "\n",
        "ax.stem(x, y)\n",
        "\n",
        "\n",
        "plt.show()"
      ],
      "execution_count": 1935,
      "outputs": [
        {
          "output_type": "stream",
          "name": "stderr",
          "text": [
            "/usr/local/lib/python3.7/dist-packages/ipykernel_launcher.py:13: UserWarning: In Matplotlib 3.3 individual lines on a stem plot will be added as a LineCollection instead of individual lines. This significantly improves the performance of a stem plot. To remove this warning and switch to the new behaviour, set the \"use_line_collection\" keyword argument to True.\n",
            "  del sys.path[0]\n"
          ]
        },
        {
          "output_type": "display_data",
          "data": {
            "image/png": "[encoded data removed]",
            "text/plain": [
              "<Figure size 432x288 with 1 Axes>"
            ]
          },
          "metadata": {
            "needs_background": "light"
          }
        }
      ]
    },
    {
      "cell_type": "markdown",
      "metadata": {
        "id": "fzCSeDpAVBm8"
      },
      "source": [
        "####แบ่งกลุ่มข้อมูล"
      ]
    },
    {
      "cell_type": "code",
      "metadata": {
        "id": "BmJgkYml7Hje"
      },
      "source": [
        ""
      ],
      "execution_count": null,
      "outputs": []
    },
    {
      "cell_type": "code",
      "metadata": {
        "id": "yGpKJTwQ7bFf"
      },
      "source": [
        "from sklearn.cluster import KMeans\n",
        "from sklearn.metrics import silhouette_samples, silhouette_score\n",
        "\n",
        "# pip install yellowbrick\n",
        "from yellowbrick.cluster import SilhouetteVisualizer"
      ],
      "execution_count": 1985,
      "outputs": []
    },
    {
      "cell_type": "code",
      "metadata": {
        "id": "iYTyyWQJ3k-J"
      },
      "source": [
        "def elbow_plot(X, from_k=2, to_k=5):\n",
        "    '''\n",
        "    plot elbow chart to help determining optimal number of clusters\n",
        "    '''\n",
        "    ssd=[]\n",
        "    for k in range(from_k, to_k + 1):\n",
        "        m=KMeans(n_clusters=k)\n",
        "        m.fit(X)\n",
        "        ssd.append([k, m.inertia_])\n",
        "    dd=pd.DataFrame(ssd, columns=['k', 'ssd'])\n",
        "    dd['pct_chg']=dd['ssd'].pct_change() * 100\n",
        "    plt.plot(dd['k'], dd['ssd'], linestyle='--', marker='o')\n",
        "    # plt.plot(xy[:, 0], xy[:, 1], '--o')\n",
        "    for index, row in dd.iterrows():\n",
        "        plt.text(row['k']+.02, row['ssd']+.02, f'{row[\"pct_chg\"]:.2f}', fontsize=12)"
      ],
      "execution_count": 1986,
      "outputs": []
    },
    {
      "cell_type": "code",
      "metadata": {
        "id": "Z8ObxMxe7Nux",
        "outputId": "382dbf01-ad11-4356-e509-8618e93ffb89",
        "colab": {
          "base_uri": "https://localhost:8080/",
          "height": 347
        }
      },
      "source": [
        "elbow_plot(XX, 2, 7)"
      ],
      "execution_count": 2104,
      "outputs": [
        {
          "output_type": "display_data",
          "data": {
            "image/png": "[encoded data removed]",
            "text/plain": [
              "<Figure size 576x396 with 1 Axes>"
            ]
          },
          "metadata": {}
        }
      ]
    },
    {
      "cell_type": "markdown",
      "metadata": {
        "id": "exBYtXyb9D-y"
      },
      "source": [
        "#####จากกราฟจะแบ่งข้อมูลเป็น 3 กลุ่ม"
      ]
    },
    {
      "cell_type": "code",
      "metadata": {
        "id": "b4JSqDnq8xDU"
      },
      "source": [
        "model=KMeans(n_clusters=3)"
      ],
      "execution_count": 1992,
      "outputs": []
    },
    {
      "cell_type": "code",
      "metadata": {
        "id": "1Q6tu_QF9MRl",
        "outputId": "6552ceee-19a9-4448-fed1-4b4c1a842a72",
        "colab": {
          "base_uri": "https://localhost:8080/"
        }
      },
      "source": [
        "model.fit(X)"
      ],
      "execution_count": 2105,
      "outputs": [
        {
          "output_type": "execute_result",
          "data": {
            "text/plain": [
              "KMeans(n_clusters=3)"
            ]
          },
          "metadata": {},
          "execution_count": 2105
        }
      ]
    },
    {
      "cell_type": "code",
      "metadata": {
        "id": "xEzUIcrp9SYR",
        "outputId": "1738ad0d-95cd-4913-8e47-d3314d1359d9",
        "colab": {
          "base_uri": "https://localhost:8080/"
        }
      },
      "source": [
        "model.labels_"
      ],
      "execution_count": 2106,
      "outputs": [
        {
          "output_type": "execute_result",
          "data": {
            "text/plain": [
              "array([2, 1, 0, ..., 1, 2, 1], dtype=int32)"
            ]
          },
          "metadata": {},
          "execution_count": 2106
        }
      ]
    },
    {
      "cell_type": "code",
      "metadata": {
        "id": "7cTIWw479W94"
      },
      "source": [
        "Sale_Order_item['cluster']=model.labels_"
      ],
      "execution_count": 2107,
      "outputs": []
    },
    {
      "cell_type": "code",
      "metadata": {
        "id": "TJmpuwR69dXE",
        "outputId": "66a4cdda-6ce9-437c-fdc5-1cc4a5791b3a",
        "colab": {
          "base_uri": "https://localhost:8080/",
          "height": 418
        }
      },
      "source": [
        "Sale_Order_item"
      ],
      "execution_count": 2108,
      "outputs": [
        {
          "output_type": "execute_result",
          "data": {
            "text/html": [
              "<div>\n",
              "<style scoped>\n",
              "    .dataframe tbody tr th:only-of-type {\n",
              "        vertical-align: middle;\n",
              "    }\n",
              "\n",
              "    .dataframe tbody tr th {\n",
              "        vertical-align: top;\n",
              "    }\n",
              "\n",
              "    .dataframe thead th {\n",
              "        text-align: right;\n",
              "    }\n",
              "</style>\n",
              "<table border=\"1\" class=\"dataframe\">\n",
              "  <thead>\n",
              "    <tr style=\"text-align: right;\">\n",
              "      <th></th>\n",
              "      <th>Name_Region</th>\n",
              "      <th>weekday</th>\n",
              "      <th>name_product</th>\n",
              "      <th>Name_Product</th>\n",
              "      <th>cluster</th>\n",
              "    </tr>\n",
              "  </thead>\n",
              "  <tbody>\n",
              "    <tr>\n",
              "      <th>96</th>\n",
              "      <td>3</td>\n",
              "      <td>0</td>\n",
              "      <td>RO</td>\n",
              "      <td>9</td>\n",
              "      <td>2</td>\n",
              "    </tr>\n",
              "    <tr>\n",
              "      <th>71</th>\n",
              "      <td>3</td>\n",
              "      <td>2</td>\n",
              "      <td>RO</td>\n",
              "      <td>9</td>\n",
              "      <td>1</td>\n",
              "    </tr>\n",
              "    <tr>\n",
              "      <th>56</th>\n",
              "      <td>3</td>\n",
              "      <td>4</td>\n",
              "      <td>RO</td>\n",
              "      <td>9</td>\n",
              "      <td>0</td>\n",
              "    </tr>\n",
              "    <tr>\n",
              "      <th>100</th>\n",
              "      <td>3</td>\n",
              "      <td>6</td>\n",
              "      <td>RO</td>\n",
              "      <td>9</td>\n",
              "      <td>0</td>\n",
              "    </tr>\n",
              "    <tr>\n",
              "      <th>179</th>\n",
              "      <td>3</td>\n",
              "      <td>3</td>\n",
              "      <td>RO</td>\n",
              "      <td>9</td>\n",
              "      <td>1</td>\n",
              "    </tr>\n",
              "    <tr>\n",
              "      <th>...</th>\n",
              "      <td>...</td>\n",
              "      <td>...</td>\n",
              "      <td>...</td>\n",
              "      <td>...</td>\n",
              "      <td>...</td>\n",
              "    </tr>\n",
              "    <tr>\n",
              "      <th>1806</th>\n",
              "      <td>2</td>\n",
              "      <td>3</td>\n",
              "      <td>HB</td>\n",
              "      <td>6</td>\n",
              "      <td>1</td>\n",
              "    </tr>\n",
              "    <tr>\n",
              "      <th>1794</th>\n",
              "      <td>1</td>\n",
              "      <td>2</td>\n",
              "      <td>HB</td>\n",
              "      <td>6</td>\n",
              "      <td>1</td>\n",
              "    </tr>\n",
              "    <tr>\n",
              "      <th>1857</th>\n",
              "      <td>2</td>\n",
              "      <td>2</td>\n",
              "      <td>HB</td>\n",
              "      <td>6</td>\n",
              "      <td>1</td>\n",
              "    </tr>\n",
              "    <tr>\n",
              "      <th>1899</th>\n",
              "      <td>2</td>\n",
              "      <td>0</td>\n",
              "      <td>HB</td>\n",
              "      <td>6</td>\n",
              "      <td>2</td>\n",
              "    </tr>\n",
              "    <tr>\n",
              "      <th>618</th>\n",
              "      <td>1</td>\n",
              "      <td>3</td>\n",
              "      <td>HB</td>\n",
              "      <td>6</td>\n",
              "      <td>1</td>\n",
              "    </tr>\n",
              "  </tbody>\n",
              "</table>\n",
              "<p>1342 rows × 5 columns</p>\n",
              "</div>"
            ],
            "text/plain": [
              "      Name_Region  weekday name_product  Name_Product  cluster\n",
              "96              3        0           RO             9        2\n",
              "71              3        2           RO             9        1\n",
              "56              3        4           RO             9        0\n",
              "100             3        6           RO             9        0\n",
              "179             3        3           RO             9        1\n",
              "...           ...      ...          ...           ...      ...\n",
              "1806            2        3           HB             6        1\n",
              "1794            1        2           HB             6        1\n",
              "1857            2        2           HB             6        1\n",
              "1899            2        0           HB             6        2\n",
              "618             1        3           HB             6        1\n",
              "\n",
              "[1342 rows x 5 columns]"
            ]
          },
          "metadata": {},
          "execution_count": 2108
        }
      ]
    },
    {
      "cell_type": "markdown",
      "metadata": {
        "id": "iAmPF2zzLHot"
      },
      "source": [
        "##ขั้นที่7 classification โดยใช้ \n",
        "1.kNN_evaluation\n",
        "2.Decision_Tree\n",
        "\n",
        "    "
      ]
    },
    {
      "cell_type": "markdown",
      "metadata": {
        "id": "aICS02A-Mn89"
      },
      "source": [
        "##### Load data"
      ]
    },
    {
      "cell_type": "code",
      "metadata": {
        "colab": {
          "base_uri": "https://localhost:8080/",
          "height": 418
        },
        "id": "0LXmO_edMTAF",
        "outputId": "aca0316c-6a38-4577-e33f-fefb022d3a7f"
      },
      "source": [
        " Sale_Order_item"
      ],
      "execution_count": 2006,
      "outputs": [
        {
          "output_type": "execute_result",
          "data": {
            "text/html": [
              "<div>\n",
              "<style scoped>\n",
              "    .dataframe tbody tr th:only-of-type {\n",
              "        vertical-align: middle;\n",
              "    }\n",
              "\n",
              "    .dataframe tbody tr th {\n",
              "        vertical-align: top;\n",
              "    }\n",
              "\n",
              "    .dataframe thead th {\n",
              "        text-align: right;\n",
              "    }\n",
              "</style>\n",
              "<table border=\"1\" class=\"dataframe\">\n",
              "  <thead>\n",
              "    <tr style=\"text-align: right;\">\n",
              "      <th></th>\n",
              "      <th>Name_Region</th>\n",
              "      <th>weekday</th>\n",
              "      <th>name_product</th>\n",
              "      <th>Name_Product</th>\n",
              "      <th>cluster</th>\n",
              "    </tr>\n",
              "  </thead>\n",
              "  <tbody>\n",
              "    <tr>\n",
              "      <th>96</th>\n",
              "      <td>3</td>\n",
              "      <td>0</td>\n",
              "      <td>RO</td>\n",
              "      <td>9</td>\n",
              "      <td>0</td>\n",
              "    </tr>\n",
              "    <tr>\n",
              "      <th>71</th>\n",
              "      <td>3</td>\n",
              "      <td>2</td>\n",
              "      <td>RO</td>\n",
              "      <td>9</td>\n",
              "      <td>2</td>\n",
              "    </tr>\n",
              "    <tr>\n",
              "      <th>56</th>\n",
              "      <td>3</td>\n",
              "      <td>4</td>\n",
              "      <td>RO</td>\n",
              "      <td>9</td>\n",
              "      <td>1</td>\n",
              "    </tr>\n",
              "    <tr>\n",
              "      <th>100</th>\n",
              "      <td>3</td>\n",
              "      <td>6</td>\n",
              "      <td>RO</td>\n",
              "      <td>9</td>\n",
              "      <td>1</td>\n",
              "    </tr>\n",
              "    <tr>\n",
              "      <th>179</th>\n",
              "      <td>3</td>\n",
              "      <td>3</td>\n",
              "      <td>RO</td>\n",
              "      <td>9</td>\n",
              "      <td>2</td>\n",
              "    </tr>\n",
              "    <tr>\n",
              "      <th>...</th>\n",
              "      <td>...</td>\n",
              "      <td>...</td>\n",
              "      <td>...</td>\n",
              "      <td>...</td>\n",
              "      <td>...</td>\n",
              "    </tr>\n",
              "    <tr>\n",
              "      <th>1806</th>\n",
              "      <td>2</td>\n",
              "      <td>3</td>\n",
              "      <td>HB</td>\n",
              "      <td>6</td>\n",
              "      <td>2</td>\n",
              "    </tr>\n",
              "    <tr>\n",
              "      <th>1794</th>\n",
              "      <td>1</td>\n",
              "      <td>2</td>\n",
              "      <td>HB</td>\n",
              "      <td>6</td>\n",
              "      <td>2</td>\n",
              "    </tr>\n",
              "    <tr>\n",
              "      <th>1857</th>\n",
              "      <td>2</td>\n",
              "      <td>2</td>\n",
              "      <td>HB</td>\n",
              "      <td>6</td>\n",
              "      <td>2</td>\n",
              "    </tr>\n",
              "    <tr>\n",
              "      <th>1899</th>\n",
              "      <td>2</td>\n",
              "      <td>0</td>\n",
              "      <td>HB</td>\n",
              "      <td>6</td>\n",
              "      <td>0</td>\n",
              "    </tr>\n",
              "    <tr>\n",
              "      <th>618</th>\n",
              "      <td>1</td>\n",
              "      <td>3</td>\n",
              "      <td>HB</td>\n",
              "      <td>6</td>\n",
              "      <td>2</td>\n",
              "    </tr>\n",
              "  </tbody>\n",
              "</table>\n",
              "<p>1342 rows × 5 columns</p>\n",
              "</div>"
            ],
            "text/plain": [
              "      Name_Region  weekday name_product  Name_Product  cluster\n",
              "96              3        0           RO             9        0\n",
              "71              3        2           RO             9        2\n",
              "56              3        4           RO             9        1\n",
              "100             3        6           RO             9        1\n",
              "179             3        3           RO             9        2\n",
              "...           ...      ...          ...           ...      ...\n",
              "1806            2        3           HB             6        2\n",
              "1794            1        2           HB             6        2\n",
              "1857            2        2           HB             6        2\n",
              "1899            2        0           HB             6        0\n",
              "618             1        3           HB             6        2\n",
              "\n",
              "[1342 rows x 5 columns]"
            ]
          },
          "metadata": {},
          "execution_count": 2006
        }
      ]
    },
    {
      "cell_type": "code",
      "metadata": {
        "id": "7VSdDuPTNLUY"
      },
      "source": [
        "import numpy as np\n",
        "X=np.array( Sale_Order_item[['Name_Region','weekday']])\n",
        "Y=np.array( Sale_Order_item['cluster'])"
      ],
      "execution_count": 2014,
      "outputs": []
    },
    {
      "cell_type": "markdown",
      "metadata": {
        "id": "zGacNr78Nw6e"
      },
      "source": [
        "###Split data"
      ]
    },
    {
      "cell_type": "code",
      "metadata": {
        "id": "ev2-vubDX4wd"
      },
      "source": [
        "from sklearn.model_selection import train_test_split\n",
        "X_train, X_test, y_train, y_test = train_test_split(X, Y, test_size=0.5, random_state=6)\n",
        "X_traintrain, X_val, y_traintrain, y_val = train_test_split(X_train, y_train, test_size=0.5, random_state=6) "
      ],
      "execution_count": 2072,
      "outputs": []
    },
    {
      "cell_type": "markdown",
      "metadata": {
        "id": "6pfWbdPoaEAx"
      },
      "source": [
        "###import"
      ]
    },
    {
      "cell_type": "code",
      "metadata": {
        "id": "-af-s64ZaDNf"
      },
      "source": [
        "from sklearn.tree import DecisionTreeClassifier ##ต้มไม้"
      ],
      "execution_count": 2073,
      "outputs": []
    },
    {
      "cell_type": "code",
      "metadata": {
        "id": "PJJnaRNpaJTb"
      },
      "source": [
        "from sklearn.neighbors import KNeighborsClassifier ### KNN"
      ],
      "execution_count": 2074,
      "outputs": []
    },
    {
      "cell_type": "code",
      "metadata": {
        "id": "KjWQ45j2jXW9"
      },
      "source": [
        "from sklearn.model_selection import train_test_split"
      ],
      "execution_count": 2075,
      "outputs": []
    },
    {
      "cell_type": "markdown",
      "metadata": {
        "id": "XVM_dAC8ZRGz"
      },
      "source": [
        "###Define\n",
        "\n",
        "\n",
        "\n"
      ]
    },
    {
      "cell_type": "markdown",
      "metadata": {
        "id": "AVs6tU4dZXRd"
      },
      "source": [
        "#####Decision_Tree"
      ]
    },
    {
      "cell_type": "code",
      "metadata": {
        "colab": {
          "base_uri": "https://localhost:8080/"
        },
        "id": "RaHShLVXkCej",
        "outputId": "e48da6c7-fab8-43ef-84fb-8bfdc84510ec"
      },
      "source": [
        "from sklearn.model_selection import cross_val_score\n",
        "mytree1 = DecisionTreeClassifier(criterion='entropy',max_depth=7) \n",
        "\n",
        "csv = cross_val_score(mytree1 ,X_traintrain,y_traintrain, cv=10) #แบ่งข้อมูลเป็น 5 ส่วน\n",
        "print(csv.round(2)) #กำหนดทศนิยม 3 ตำแหน่ง\n",
        "csv.mean().round(3) # หาค่าเฉลี่ยของcsv "
      ],
      "execution_count": 2076,
      "outputs": [
        {
          "output_type": "stream",
          "name": "stdout",
          "text": [
            "[1. 1. 1. 1. 1. 1. 1. 1. 1. 1.]\n"
          ]
        },
        {
          "output_type": "execute_result",
          "data": {
            "text/plain": [
              "1.0"
            ]
          },
          "metadata": {},
          "execution_count": 2076
        }
      ]
    },
    {
      "cell_type": "code",
      "metadata": {
        "colab": {
          "base_uri": "https://localhost:8080/"
        },
        "id": "rg4Gxa_KkWcg",
        "outputId": "7e6065f9-8238-4243-b0b9-11038d319fa8"
      },
      "source": [
        "from sklearn.model_selection import cross_val_score\n",
        "mytree2 = DecisionTreeClassifier(criterion='gini',max_leaf_nodes=15) \n",
        "\n",
        "csv = cross_val_score(mytree2 ,X_traintrain,y_traintrain, cv=10) #แบ่งข้อมูลเป็น 5 ส่วน\n",
        "print(csv.round(2)) #กำหนดทศนิยม 3 ตำแหน่ง\n",
        "csv.mean().round(3) # หาค่าเฉลี่ยของcsv "
      ],
      "execution_count": 2077,
      "outputs": [
        {
          "output_type": "stream",
          "name": "stdout",
          "text": [
            "[1. 1. 1. 1. 1. 1. 1. 1. 1. 1.]\n"
          ]
        },
        {
          "output_type": "execute_result",
          "data": {
            "text/plain": [
              "1.0"
            ]
          },
          "metadata": {},
          "execution_count": 2077
        }
      ]
    },
    {
      "cell_type": "code",
      "metadata": {
        "colab": {
          "base_uri": "https://localhost:8080/"
        },
        "id": "JzB1ckHzki_U",
        "outputId": "5d5384e3-bcbd-4532-d7b8-ae991702e2a0"
      },
      "source": [
        "from sklearn.model_selection import cross_val_score\n",
        "mytree3 = DecisionTreeClassifier(criterion='entropy',min_samples_leaf=7) \n",
        "\n",
        "csv = cross_val_score(mytree3 ,X_traintrain,y_traintrain, cv=10) #แบ่งข้อมูลเป็น 5 ส่วน\n",
        "print(csv.round(2)) #กำหนดทศนิยม 3 ตำแหน่ง\n",
        "csv.mean().round(3) # หาค่าเฉลี่ยของcsv "
      ],
      "execution_count": 2078,
      "outputs": [
        {
          "output_type": "stream",
          "name": "stdout",
          "text": [
            "[1. 1. 1. 1. 1. 1. 1. 1. 1. 1.]\n"
          ]
        },
        {
          "output_type": "execute_result",
          "data": {
            "text/plain": [
              "1.0"
            ]
          },
          "metadata": {},
          "execution_count": 2078
        }
      ]
    },
    {
      "cell_type": "code",
      "metadata": {
        "colab": {
          "base_uri": "https://localhost:8080/"
        },
        "id": "saWBo5SHnZT5",
        "outputId": "cfada490-7a38-4129-fbc9-53d2903d7198"
      },
      "source": [
        "from sklearn.model_selection import cross_val_score\n",
        "mytree4 = DecisionTreeClassifier(criterion='gini',max_leaf_nodes=7) \n",
        "\n",
        "csv = cross_val_score(mytree2 ,X_traintrain,y_traintrain, cv=10) #แบ่งข้อมูลเป็น 5 ส่วน\n",
        "print(csv.round(2)) #กำหนดทศนิยม 3 ตำแหน่ง\n",
        "csv.mean().round(3) # หาค่าเฉลี่ยของcsv "
      ],
      "execution_count": 2079,
      "outputs": [
        {
          "output_type": "stream",
          "name": "stdout",
          "text": [
            "[1. 1. 1. 1. 1. 1. 1. 1. 1. 1.]\n"
          ]
        },
        {
          "output_type": "execute_result",
          "data": {
            "text/plain": [
              "1.0"
            ]
          },
          "metadata": {},
          "execution_count": 2079
        }
      ]
    },
    {
      "cell_type": "markdown",
      "metadata": {
        "id": "CDe9hD4nbLWJ"
      },
      "source": [
        "####k-Nearest Neighbors "
      ]
    },
    {
      "cell_type": "code",
      "metadata": {
        "colab": {
          "base_uri": "https://localhost:8080/"
        },
        "id": "k01DhnC1k7VT",
        "outputId": "d724376b-c18f-46b2-98fe-693ca1debb91"
      },
      "source": [
        "from sklearn.model_selection import cross_val_score\n",
        "neigh1 = KNeighborsClassifier(n_neighbors=1) \n",
        "\n",
        "csv = cross_val_score(neigh1  ,X_traintrain,y_traintrain, cv=10) #แบ่งข้อมูลเป็น 5 ส่วน\n",
        "print(csv.round(2)) #กำหนดทศนิยม 3 ตำแหน่ง\n",
        "csv.mean().round(3) # หาค่าเฉลี่ยของcsv "
      ],
      "execution_count": 2080,
      "outputs": [
        {
          "output_type": "stream",
          "name": "stdout",
          "text": [
            "[1. 1. 1. 1. 1. 1. 1. 1. 1. 1.]\n"
          ]
        },
        {
          "output_type": "execute_result",
          "data": {
            "text/plain": [
              "1.0"
            ]
          },
          "metadata": {},
          "execution_count": 2080
        }
      ]
    },
    {
      "cell_type": "code",
      "metadata": {
        "colab": {
          "base_uri": "https://localhost:8080/"
        },
        "id": "4cr-1VJ7lFCF",
        "outputId": "0423ce85-8544-484b-87c6-9915c1d49db0"
      },
      "source": [
        "from sklearn.model_selection import cross_val_score\n",
        "neigh2 = KNeighborsClassifier(n_neighbors=7,weights='distance') \n",
        "\n",
        "csv = cross_val_score(neigh2  ,X_traintrain,y_traintrain, cv=10) #แบ่งข้อมูลเป็น 5 ส่วน\n",
        "print(csv.round(2)) #กำหนดทศนิยม 3 ตำแหน่ง\n",
        "csv.mean().round(3) # หาค่าเฉลี่ยของcsv"
      ],
      "execution_count": 2081,
      "outputs": [
        {
          "output_type": "stream",
          "name": "stdout",
          "text": [
            "[1. 1. 1. 1. 1. 1. 1. 1. 1. 1.]\n"
          ]
        },
        {
          "output_type": "execute_result",
          "data": {
            "text/plain": [
              "1.0"
            ]
          },
          "metadata": {},
          "execution_count": 2081
        }
      ]
    },
    {
      "cell_type": "code",
      "metadata": {
        "colab": {
          "base_uri": "https://localhost:8080/"
        },
        "id": "-udJ2mF-lE4W",
        "outputId": "18193748-f66f-433a-8547-be5e61d42005"
      },
      "source": [
        "from sklearn.model_selection import cross_val_score\n",
        "neigh3 = KNeighborsClassifier(n_neighbors=5) \n",
        "\n",
        "csv = cross_val_score(neigh3  ,X_traintrain,y_traintrain, cv=10) #แบ่งข้อมูลเป็น 5 ส่วน\n",
        "print(csv.round(2)) #กำหนดทศนิยม 3 ตำแหน่ง\n",
        "csv.mean().round(3) # หาค่าเฉลี่ยของcsv"
      ],
      "execution_count": 2082,
      "outputs": [
        {
          "output_type": "stream",
          "name": "stdout",
          "text": [
            "[1. 1. 1. 1. 1. 1. 1. 1. 1. 1.]\n"
          ]
        },
        {
          "output_type": "execute_result",
          "data": {
            "text/plain": [
              "1.0"
            ]
          },
          "metadata": {},
          "execution_count": 2082
        }
      ]
    },
    {
      "cell_type": "code",
      "metadata": {
        "colab": {
          "base_uri": "https://localhost:8080/"
        },
        "id": "7NydjfFalEuI",
        "outputId": "9270541f-ef6c-486d-e53d-2c3bb043be4e"
      },
      "source": [
        "from sklearn.model_selection import cross_val_score\n",
        "neigh4 = KNeighborsClassifier(n_neighbors=5,weights='distance') \n",
        "\n",
        "csv = cross_val_score(neigh4  ,X_traintrain,y_traintrain, cv=10) #แบ่งข้อมูลเป็น 5 ส่วน\n",
        "print(csv.round(2)) #กำหนดทศนิยม 3 ตำแหน่ง\n",
        "csv.mean().round(3) # หาค่าเฉลี่ยของcsv"
      ],
      "execution_count": 2083,
      "outputs": [
        {
          "output_type": "stream",
          "name": "stdout",
          "text": [
            "[1. 1. 1. 1. 1. 1. 1. 1. 1. 1.]\n"
          ]
        },
        {
          "output_type": "execute_result",
          "data": {
            "text/plain": [
              "1.0"
            ]
          },
          "metadata": {},
          "execution_count": 2083
        }
      ]
    },
    {
      "cell_type": "markdown",
      "metadata": {
        "id": "o4Br17NUUIqF"
      },
      "source": [
        "###Train Model \n",
        "จากการ define พบว่าพบว่า ทุกโมเดลมีค่าเฉลี่ยเท่ากับ 1 ทุกโมเดล"
      ]
    },
    {
      "cell_type": "code",
      "metadata": {
        "id": "0ySSH5kE_SO4",
        "outputId": "2800739a-f69c-4f86-cf93-91ab00658daa",
        "colab": {
          "base_uri": "https://localhost:8080/"
        }
      },
      "source": [
        "mytree1.fit(X_train,y_train) "
      ],
      "execution_count": 2084,
      "outputs": [
        {
          "output_type": "execute_result",
          "data": {
            "text/plain": [
              "DecisionTreeClassifier(criterion='entropy', max_depth=7)"
            ]
          },
          "metadata": {},
          "execution_count": 2084
        }
      ]
    },
    {
      "cell_type": "code",
      "metadata": {
        "id": "ollmPdSS_Rrl",
        "outputId": "1cd71573-14b8-42ea-a758-e34670984e1d",
        "colab": {
          "base_uri": "https://localhost:8080/"
        }
      },
      "source": [
        "mytree2.fit(X_train,y_train) "
      ],
      "execution_count": 2085,
      "outputs": [
        {
          "output_type": "execute_result",
          "data": {
            "text/plain": [
              "DecisionTreeClassifier(max_leaf_nodes=15)"
            ]
          },
          "metadata": {},
          "execution_count": 2085
        }
      ]
    },
    {
      "cell_type": "code",
      "metadata": {
        "id": "zQmeO89Kcntr",
        "colab": {
          "base_uri": "https://localhost:8080/"
        },
        "outputId": "ad0f657a-b4e3-4f31-dbeb-750dabc0f137"
      },
      "source": [
        "mytree3.fit(X_train,y_train) "
      ],
      "execution_count": 2086,
      "outputs": [
        {
          "output_type": "execute_result",
          "data": {
            "text/plain": [
              "DecisionTreeClassifier(criterion='entropy', min_samples_leaf=7)"
            ]
          },
          "metadata": {},
          "execution_count": 2086
        }
      ]
    },
    {
      "cell_type": "code",
      "metadata": {
        "id": "Tl0E14GtQJJq",
        "outputId": "02e99730-cf2c-41bd-c3ca-90a4cfd31c9b",
        "colab": {
          "base_uri": "https://localhost:8080/"
        }
      },
      "source": [
        "mytree4.fit(X_train,y_train) "
      ],
      "execution_count": 2087,
      "outputs": [
        {
          "output_type": "execute_result",
          "data": {
            "text/plain": [
              "DecisionTreeClassifier(max_leaf_nodes=7)"
            ]
          },
          "metadata": {},
          "execution_count": 2087
        }
      ]
    },
    {
      "cell_type": "code",
      "metadata": {
        "id": "Jx38x3Sn_YvC",
        "outputId": "656f0e82-14f4-469d-d7c6-79f0044aef5b",
        "colab": {
          "base_uri": "https://localhost:8080/"
        }
      },
      "source": [
        "neigh1.fit(X_train,y_train) "
      ],
      "execution_count": 2088,
      "outputs": [
        {
          "output_type": "execute_result",
          "data": {
            "text/plain": [
              "KNeighborsClassifier(n_neighbors=1)"
            ]
          },
          "metadata": {},
          "execution_count": 2088
        }
      ]
    },
    {
      "cell_type": "code",
      "metadata": {
        "id": "tUjm0Z87_hTh",
        "outputId": "e51d35e8-bb1a-4a9d-af07-75acf5c179d8",
        "colab": {
          "base_uri": "https://localhost:8080/"
        }
      },
      "source": [
        "neigh2.fit(X_train,y_train)"
      ],
      "execution_count": 2089,
      "outputs": [
        {
          "output_type": "execute_result",
          "data": {
            "text/plain": [
              "KNeighborsClassifier(n_neighbors=7, weights='distance')"
            ]
          },
          "metadata": {},
          "execution_count": 2089
        }
      ]
    },
    {
      "cell_type": "code",
      "metadata": {
        "id": "1Yrvnfx9_hGQ",
        "outputId": "d8f726ee-5216-4d03-f517-6e83bb8d2d6f",
        "colab": {
          "base_uri": "https://localhost:8080/"
        }
      },
      "source": [
        "neigh3.fit(X_train,y_train)"
      ],
      "execution_count": 2090,
      "outputs": [
        {
          "output_type": "execute_result",
          "data": {
            "text/plain": [
              "KNeighborsClassifier()"
            ]
          },
          "metadata": {},
          "execution_count": 2090
        }
      ]
    },
    {
      "cell_type": "code",
      "metadata": {
        "id": "ZEFK3opU_hBS",
        "outputId": "c8bac918-2223-4f24-af10-d1f14a921366",
        "colab": {
          "base_uri": "https://localhost:8080/"
        }
      },
      "source": [
        "neigh4.fit(X_train,y_train)"
      ],
      "execution_count": 2091,
      "outputs": [
        {
          "output_type": "execute_result",
          "data": {
            "text/plain": [
              "KNeighborsClassifier(weights='distance')"
            ]
          },
          "metadata": {},
          "execution_count": 2091
        }
      ]
    },
    {
      "cell_type": "markdown",
      "metadata": {
        "id": "ZS0srgcrceWP"
      },
      "source": [
        "###ทดสอบหา model ที่ดีที่สุดด้วย validation set"
      ]
    },
    {
      "cell_type": "markdown",
      "metadata": {
        "id": "2lCMmaU3pmgX"
      },
      "source": [
        "#####วัดประสิทธิภาพของโมเดล"
      ]
    },
    {
      "cell_type": "code",
      "metadata": {
        "id": "k5d60R9do6Oz"
      },
      "source": [
        "from sklearn.metrics import  accuracy_score\n"
      ],
      "execution_count": 2092,
      "outputs": []
    },
    {
      "cell_type": "markdown",
      "metadata": {
        "id": "_vH0MBx9S7tj"
      },
      "source": [
        "####mytree1"
      ]
    },
    {
      "cell_type": "code",
      "metadata": {
        "id": "XQ6uaO89UViQ",
        "colab": {
          "base_uri": "https://localhost:8080/"
        },
        "outputId": "e68dc5b0-f8f6-445a-e3cf-37122a0e0e10"
      },
      "source": [
        "t1_result =mytree1.predict(X_test)\n",
        "accuracy_score(y_test,t1_result)\n"
      ],
      "execution_count": 2093,
      "outputs": [
        {
          "output_type": "execute_result",
          "data": {
            "text/plain": [
              "1.0"
            ]
          },
          "metadata": {},
          "execution_count": 2093
        }
      ]
    },
    {
      "cell_type": "code",
      "metadata": {
        "id": "-K_Pg4fUpbph",
        "colab": {
          "base_uri": "https://localhost:8080/"
        },
        "outputId": "e0a89b7b-9f6f-468f-e37c-12b4c8828575"
      },
      "source": [
        "from sklearn.metrics import classification_report, confusion_matrix\n",
        "cm1 = confusion_matrix(y_test,mytree1.predict(X_test))\n",
        "cm1"
      ],
      "execution_count": 2094,
      "outputs": [
        {
          "output_type": "execute_result",
          "data": {
            "text/plain": [
              "array([[207,   0,   0],\n",
              "       [  0, 283,   0],\n",
              "       [  0,   0, 181]])"
            ]
          },
          "metadata": {},
          "execution_count": 2094
        }
      ]
    },
    {
      "cell_type": "code",
      "metadata": {
        "id": "2WyruPPUpy51",
        "colab": {
          "base_uri": "https://localhost:8080/"
        },
        "outputId": "d81fe25a-34cc-47b8-ea91-e78fa664f2d0"
      },
      "source": [
        "cr1 = classification_report(y_test,mytree2.predict(X_test))\n",
        "print(cr1)"
      ],
      "execution_count": 2095,
      "outputs": [
        {
          "output_type": "stream",
          "name": "stdout",
          "text": [
            "              precision    recall  f1-score   support\n",
            "\n",
            "           0       1.00      1.00      1.00       207\n",
            "           1       1.00      1.00      1.00       283\n",
            "           2       1.00      1.00      1.00       181\n",
            "\n",
            "    accuracy                           1.00       671\n",
            "   macro avg       1.00      1.00      1.00       671\n",
            "weighted avg       1.00      1.00      1.00       671\n",
            "\n"
          ]
        }
      ]
    },
    {
      "cell_type": "markdown",
      "metadata": {
        "id": "CISbqY3sTLA3"
      },
      "source": [
        "####mytree2"
      ]
    },
    {
      "cell_type": "code",
      "metadata": {
        "id": "9m15ZaJyTMbc",
        "outputId": "12cdd87e-81da-4bea-efea-8ada8b6d477a",
        "colab": {
          "base_uri": "https://localhost:8080/"
        }
      },
      "source": [
        "t2_result =mytree2.predict(X_test)\n",
        "accuracy_score(y_test,t2_result)"
      ],
      "execution_count": 2096,
      "outputs": [
        {
          "output_type": "execute_result",
          "data": {
            "text/plain": [
              "1.0"
            ]
          },
          "metadata": {},
          "execution_count": 2096
        }
      ]
    },
    {
      "cell_type": "code",
      "metadata": {
        "id": "7SLQadD1TRky",
        "outputId": "37fa9b81-1430-4a8a-b06a-c8d6bafac81c",
        "colab": {
          "base_uri": "https://localhost:8080/"
        }
      },
      "source": [
        "from sklearn.metrics import classification_report, confusion_matrix\n",
        "cm2 = confusion_matrix(y_test,mytree2.predict(X_test))\n",
        "cm2"
      ],
      "execution_count": 2097,
      "outputs": [
        {
          "output_type": "execute_result",
          "data": {
            "text/plain": [
              "array([[207,   0,   0],\n",
              "       [  0, 283,   0],\n",
              "       [  0,   0, 181]])"
            ]
          },
          "metadata": {},
          "execution_count": 2097
        }
      ]
    },
    {
      "cell_type": "code",
      "metadata": {
        "id": "N9XVcMDaTRhj",
        "outputId": "797c3f92-8956-4d61-fb5b-84bc069a7f21",
        "colab": {
          "base_uri": "https://localhost:8080/"
        }
      },
      "source": [
        "cr2 = classification_report(y_test,mytree2.predict(X_test))\n",
        "print(cr2)"
      ],
      "execution_count": 2098,
      "outputs": [
        {
          "output_type": "stream",
          "name": "stdout",
          "text": [
            "              precision    recall  f1-score   support\n",
            "\n",
            "           0       1.00      1.00      1.00       207\n",
            "           1       1.00      1.00      1.00       283\n",
            "           2       1.00      1.00      1.00       181\n",
            "\n",
            "    accuracy                           1.00       671\n",
            "   macro avg       1.00      1.00      1.00       671\n",
            "weighted avg       1.00      1.00      1.00       671\n",
            "\n"
          ]
        }
      ]
    },
    {
      "cell_type": "markdown",
      "metadata": {
        "id": "qxjrQw7wAf0f"
      },
      "source": [
        "####mytree3"
      ]
    },
    {
      "cell_type": "code",
      "metadata": {
        "id": "qBarlMbqTRf6"
      },
      "source": [
        "t3_result =mytree3.predict(X_test)\n",
        "accuracy_score(y_test,t3_result)"
      ],
      "execution_count": 2098,
      "outputs": []
    },
    {
      "cell_type": "code",
      "metadata": {
        "id": "Mw8c8u3oAkJe"
      },
      "source": [
        "from sklearn.metrics import classification_report, confusion_matrix\n",
        "cm3 = confusion_matrix(y_test,mytree3.predict(X_test))\n",
        "cm3"
      ],
      "execution_count": null,
      "outputs": []
    },
    {
      "cell_type": "code",
      "metadata": {
        "id": "D-FAAm15Amas"
      },
      "source": [
        "cr3 = classification_report(y_test,mytree3.predict(X_test))\n",
        "print(cr3)"
      ],
      "execution_count": null,
      "outputs": []
    },
    {
      "cell_type": "markdown",
      "metadata": {
        "id": "OzkksHXSAnlF"
      },
      "source": [
        "####mytree4"
      ]
    },
    {
      "cell_type": "code",
      "metadata": {
        "id": "meo6TuGAAnOQ"
      },
      "source": [
        "t4_result =mytree4.predict(X_test)\n",
        "accuracy_score(y_test,t4_result)"
      ],
      "execution_count": null,
      "outputs": []
    },
    {
      "cell_type": "code",
      "metadata": {
        "id": "dAAgsBGcAzhq"
      },
      "source": [
        "from sklearn.metrics import classification_report, confusion_matrix\n",
        "cm4 = confusion_matrix(y_test,mytree4.predict(X_test))\n",
        "cm4"
      ],
      "execution_count": null,
      "outputs": []
    },
    {
      "cell_type": "code",
      "metadata": {
        "id": "1Y-XlL4NAzfN"
      },
      "source": [
        "cr4 = classification_report(y_test,mytree4.predict(X_test))\n",
        "print(cr4)"
      ],
      "execution_count": null,
      "outputs": []
    },
    {
      "cell_type": "markdown",
      "metadata": {
        "id": "MgozcDkfA_Jp"
      },
      "source": [
        "####neigh1"
      ]
    },
    {
      "cell_type": "code",
      "metadata": {
        "id": "oIzWxObrBG9-"
      },
      "source": [
        "t5_result =neigh1.predict(X_test)\n",
        "accuracy_score(y_test,t5_result)"
      ],
      "execution_count": null,
      "outputs": []
    },
    {
      "cell_type": "code",
      "metadata": {
        "id": "p7JaWpz5BKuH",
        "outputId": "e7d5f32b-fde3-45bf-bbe6-73f8ab1ab95a",
        "colab": {
          "base_uri": "https://localhost:8080/"
        }
      },
      "source": [
        "from sklearn.metrics import classification_report, confusion_matrix\n",
        "cm5 = confusion_matrix(y_test,neigh1.predict(X_test))\n",
        "cm5"
      ],
      "execution_count": 2100,
      "outputs": [
        {
          "output_type": "execute_result",
          "data": {
            "text/plain": [
              "array([[207,   0,   0],\n",
              "       [  0, 283,   0],\n",
              "       [  0,   0, 181]])"
            ]
          },
          "metadata": {},
          "execution_count": 2100
        }
      ]
    },
    {
      "cell_type": "code",
      "metadata": {
        "id": "4oABvT1wBKrp",
        "outputId": "5cd44e6a-7631-4d27-bef8-442358e70ecf",
        "colab": {
          "base_uri": "https://localhost:8080/"
        }
      },
      "source": [
        "cr5 = classification_report(y_test,neigh1.predict(X_test))\n",
        "print(cr5)"
      ],
      "execution_count": 2101,
      "outputs": [
        {
          "output_type": "stream",
          "name": "stdout",
          "text": [
            "              precision    recall  f1-score   support\n",
            "\n",
            "           0       1.00      1.00      1.00       207\n",
            "           1       1.00      1.00      1.00       283\n",
            "           2       1.00      1.00      1.00       181\n",
            "\n",
            "    accuracy                           1.00       671\n",
            "   macro avg       1.00      1.00      1.00       671\n",
            "weighted avg       1.00      1.00      1.00       671\n",
            "\n"
          ]
        }
      ]
    },
    {
      "cell_type": "markdown",
      "metadata": {
        "id": "kKOmIT_IBcVf"
      },
      "source": [
        "####neigh2"
      ]
    },
    {
      "cell_type": "code",
      "metadata": {
        "id": "Wwq7AYP5BlFO"
      },
      "source": [
        "t6_result =neigh2.predict(X_test)\n",
        "accuracy_score(y_test,t6_result)"
      ],
      "execution_count": null,
      "outputs": []
    },
    {
      "cell_type": "code",
      "metadata": {
        "id": "d_XDBFf6Bk6C"
      },
      "source": [
        "from sklearn.metrics import classification_report, confusion_matrix\n",
        "cm6 = confusion_matrix(y_test,neigh2.predict(X_test))\n",
        "cm6"
      ],
      "execution_count": null,
      "outputs": []
    },
    {
      "cell_type": "code",
      "metadata": {
        "id": "8nDjUawdBkzd"
      },
      "source": [
        "cr6 = classification_report(y_test,neigh6.predict(X_test))\n",
        "print(cr6)"
      ],
      "execution_count": null,
      "outputs": []
    },
    {
      "cell_type": "markdown",
      "metadata": {
        "id": "Ashp5FHFBfZm"
      },
      "source": [
        "####neigh3"
      ]
    },
    {
      "cell_type": "code",
      "metadata": {
        "id": "g0oy7wWTBzcB"
      },
      "source": [
        "t7_result =neigh3.predict(X_test)\n",
        "accuracy_score(y_test,t7_result)"
      ],
      "execution_count": null,
      "outputs": []
    },
    {
      "cell_type": "code",
      "metadata": {
        "id": "SqmAOEm2BzZn"
      },
      "source": [
        "from sklearn.metrics import classification_report, confusion_matrix\n",
        "cm7 = confusion_matrix(y_test,neigh3.predict(X_test))\n",
        "cm7"
      ],
      "execution_count": null,
      "outputs": []
    },
    {
      "cell_type": "code",
      "metadata": {
        "id": "ge642N3SB2pH"
      },
      "source": [
        "cr7 = classification_report(y_test,neigh3.predict(X_test))\n",
        "print(cr7)"
      ],
      "execution_count": null,
      "outputs": []
    },
    {
      "cell_type": "markdown",
      "metadata": {
        "id": "1zIees6sBiWM"
      },
      "source": [
        "####neigh4"
      ]
    },
    {
      "cell_type": "code",
      "metadata": {
        "id": "r3XSA4UICCsg"
      },
      "source": [
        "t8_result =neigh7.predict(X_test)\n",
        "accuracy_score(y_test,t8_result)"
      ],
      "execution_count": null,
      "outputs": []
    },
    {
      "cell_type": "code",
      "metadata": {
        "id": "4vt6Q5LFCDtb"
      },
      "source": [
        "from sklearn.metrics import classification_report, confusion_matrix\n",
        "cm8 = confusion_matrix(y_test,neigh8.predict(X_test))\n",
        "cm8"
      ],
      "execution_count": null,
      "outputs": []
    },
    {
      "cell_type": "code",
      "metadata": {
        "id": "xGfLqCFgCDrA"
      },
      "source": [
        "cr8 = classification_report(y_test,neigh8.predict(X_test))\n",
        "print(cr8)"
      ],
      "execution_count": null,
      "outputs": []
    },
    {
      "cell_type": "markdown",
      "metadata": {
        "id": "RkUbrETjEEXF"
      },
      "source": [
        "##ลองแบ่งclass ใหม่ โดยให้แต่ละclass มีจำนวนข้อมูลใกล้เคียงกัน "
      ]
    },
    {
      "cell_type": "code",
      "metadata": {
        "id": "DiSc8VEpFUv3",
        "outputId": "805a7e9e-8477-4e82-a3bb-e8e97690c9f9",
        "colab": {
          "base_uri": "https://localhost:8080/",
          "height": 327
        }
      },
      "source": [
        "Sale_Order_item.groupby('name_product').count().reset_index().iloc[:,[0,1]]"
      ],
      "execution_count": 2114,
      "outputs": [
        {
          "output_type": "execute_result",
          "data": {
            "text/html": [
              "<div>\n",
              "<style scoped>\n",
              "    .dataframe tbody tr th:only-of-type {\n",
              "        vertical-align: middle;\n",
              "    }\n",
              "\n",
              "    .dataframe tbody tr th {\n",
              "        vertical-align: top;\n",
              "    }\n",
              "\n",
              "    .dataframe thead th {\n",
              "        text-align: right;\n",
              "    }\n",
              "</style>\n",
              "<table border=\"1\" class=\"dataframe\">\n",
              "  <thead>\n",
              "    <tr style=\"text-align: right;\">\n",
              "      <th></th>\n",
              "      <th>name_product</th>\n",
              "      <th>Name_Region</th>\n",
              "    </tr>\n",
              "  </thead>\n",
              "  <tbody>\n",
              "    <tr>\n",
              "      <th>0</th>\n",
              "      <td>BX</td>\n",
              "      <td>207</td>\n",
              "    </tr>\n",
              "    <tr>\n",
              "      <th>1</th>\n",
              "      <td>CB</td>\n",
              "      <td>120</td>\n",
              "    </tr>\n",
              "    <tr>\n",
              "      <th>2</th>\n",
              "      <td>CC</td>\n",
              "      <td>172</td>\n",
              "    </tr>\n",
              "    <tr>\n",
              "      <th>3</th>\n",
              "      <td>DB</td>\n",
              "      <td>84</td>\n",
              "    </tr>\n",
              "    <tr>\n",
              "      <th>4</th>\n",
              "      <td>EB</td>\n",
              "      <td>229</td>\n",
              "    </tr>\n",
              "    <tr>\n",
              "      <th>5</th>\n",
              "      <td>HB</td>\n",
              "      <td>172</td>\n",
              "    </tr>\n",
              "    <tr>\n",
              "      <th>6</th>\n",
              "      <td>MB</td>\n",
              "      <td>125</td>\n",
              "    </tr>\n",
              "    <tr>\n",
              "      <th>7</th>\n",
              "      <td>RC</td>\n",
              "      <td>147</td>\n",
              "    </tr>\n",
              "    <tr>\n",
              "      <th>8</th>\n",
              "      <td>RO</td>\n",
              "      <td>86</td>\n",
              "    </tr>\n",
              "  </tbody>\n",
              "</table>\n",
              "</div>"
            ],
            "text/plain": [
              "  name_product  Name_Region\n",
              "0           BX          207\n",
              "1           CB          120\n",
              "2           CC          172\n",
              "3           DB           84\n",
              "4           EB          229\n",
              "5           HB          172\n",
              "6           MB          125\n",
              "7           RC          147\n",
              "8           RO           86"
            ]
          },
          "metadata": {},
          "execution_count": 2114
        }
      ]
    },
    {
      "cell_type": "markdown",
      "metadata": {
        "id": "wYG1-S5_F97u"
      },
      "source": [
        "####รวมจักรยานชนิด eBike,Road_Bike,Cruiser"
      ]
    },
    {
      "cell_type": "code",
      "metadata": {
        "id": "ctCzJp16EPOH"
      },
      "source": [
        "EBROCB=pd.concat([eBike,Road_Bike,Cruiser])"
      ],
      "execution_count": 2115,
      "outputs": []
    },
    {
      "cell_type": "code",
      "metadata": {
        "id": "vYM-vf1FEdzq"
      },
      "source": [
        "\n",
        "EBROCB['name_product']=np.nan"
      ],
      "execution_count": 2116,
      "outputs": []
    },
    {
      "cell_type": "code",
      "metadata": {
        "id": "5tLh2qUkENLW"
      },
      "source": [
        "EBROCB['name_product']=EBROCB['name_product'].fillna('EBROCB')"
      ],
      "execution_count": 2117,
      "outputs": []
    },
    {
      "cell_type": "markdown",
      "metadata": {
        "id": "unsg8ZQnF-jm"
      },
      "source": [
        "####รวมจักรยานชนิด Hybrid_Bike,Mountain_Bike,Racing_Bike"
      ]
    },
    {
      "cell_type": "code",
      "metadata": {
        "id": "MWKxrZ-qIPhh"
      },
      "source": [
        "HBMBRC=pd.concat([Hybrid_Bike,Mountain_Bike,Racing_Bike])"
      ],
      "execution_count": 2121,
      "outputs": []
    },
    {
      "cell_type": "code",
      "metadata": {
        "id": "Q0NSRyqIF0j1"
      },
      "source": [
        "\n",
        "HBMBRC['name_product']=np.nan"
      ],
      "execution_count": 2123,
      "outputs": []
    },
    {
      "cell_type": "code",
      "metadata": {
        "id": "lkHJ6n4jFzzJ"
      },
      "source": [
        "HBMBRC['name_product']=HBMBRC['name_product'].fillna('HBMBRC')"
      ],
      "execution_count": 2125,
      "outputs": []
    },
    {
      "cell_type": "markdown",
      "metadata": {
        "id": "3tOuxjTgGCoQ"
      },
      "source": [
        "####รวมจักรยานชนิด BMX,Cyclo_cross_BiKE,Downhill_Bike"
      ]
    },
    {
      "cell_type": "code",
      "metadata": {
        "id": "5yBoEHuqGDCQ"
      },
      "source": [
        "BXCCDB=pd.concat([BMX,Cyclo_cross_BiKE,Downhill_Bike])"
      ],
      "execution_count": 2126,
      "outputs": []
    },
    {
      "cell_type": "code",
      "metadata": {
        "id": "_7hTsI_xGDrW"
      },
      "source": [
        "\n",
        "BXCCDB['name_product']=np.nan"
      ],
      "execution_count": 2127,
      "outputs": []
    },
    {
      "cell_type": "code",
      "metadata": {
        "id": "7ot80TvPGDcm"
      },
      "source": [
        "BXCCDB['name_product']=BXCCDB['name_product'].fillna('BXCCDB')"
      ],
      "execution_count": 2128,
      "outputs": []
    },
    {
      "cell_type": "markdown",
      "metadata": {
        "id": "O3ToyddXJE_J"
      },
      "source": [
        "####ต่อตาราง 3 ( EBROCB,HBMBRC,BXCCDB)"
      ]
    },
    {
      "cell_type": "code",
      "metadata": {
        "id": "iC8A55eaIwkZ"
      },
      "source": [
        "Sale_=pd.concat([EBROCB,HBMBRC,BXCCDB])"
      ],
      "execution_count": 2129,
      "outputs": []
    },
    {
      "cell_type": "code",
      "metadata": {
        "id": "uNMpYIwfJVAm"
      },
      "source": [
        "Sale_.groupby('name_product').count().reset_index().iloc[:,[0,1]] # ดูจำนวนข้อมูล"
      ],
      "execution_count": null,
      "outputs": []
    }
  ]
}