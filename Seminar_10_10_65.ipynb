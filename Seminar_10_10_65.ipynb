{
  "nbformat": 4,
  "nbformat_minor": 0,
  "metadata": {
    "colab": {
      "provenance": [],
      "authorship_tag": "ABX9TyO1uZ2n9ZczjAOTGSM4Y/qe",
      "include_colab_link": true
    },
    "kernelspec": {
      "name": "python3",
      "display_name": "Python 3"
    },
    "language_info": {
      "name": "python"
    }
  },
  "cells": [
    {
      "cell_type": "markdown",
      "metadata": {
        "id": "view-in-github",
        "colab_type": "text"
      },
      "source": [
        "<a href=\"https://colab.research.google.com/github/nicha0524/DPDM2021/blob/main/Seminar_10_10_65.ipynb\" target=\"_parent\"><img src=\"https://colab.research.google.com/assets/colab-badge.svg\" alt=\"Open In Colab\"/></a>"
      ]
    },
    {
      "cell_type": "code",
      "source": [
        "#\"\"\"Gamma process.\"\"\""
      ],
      "metadata": {
        "id": "xL7Pix2EYlN2"
      },
      "execution_count": null,
      "outputs": []
    },
    {
      "cell_type": "code",
      "source": [
        "pip install stochastic"
      ],
      "metadata": {
        "id": "4rDPVonhZwpB"
      },
      "execution_count": null,
      "outputs": []
    },
    {
      "cell_type": "code",
      "execution_count": null,
      "metadata": {
        "id": "8qXAt6ZZYCxP"
      },
      "outputs": [],
      "source": [
        "import numpy as np\n",
        "from stochastic.processes.base import BaseTimeProcess\n",
        "from stochastic.utils.validation import check_positive_integer\n",
        "from stochastic.utils.validation import check_positive_number\n",
        "from stochastic.utils.validation import times_to_increments"
      ]
    },
    {
      "cell_type": "code",
      "source": [
        "def _sample_gamma_process(self, n):\n",
        "        \"\"\"Sample a Gamma process.\"\"\"\n",
        "        check_positive_integer(n)\n",
        "        delta_t = 1.0 * self.t / n\n",
        "\n",
        "        shape = 1.0 * self.mean**2 * delta_t / self.variance\n",
        "        scale = 1.0 * self.variance / self.mean\n",
        "\n",
        "        samples = np.cumsum(self.rng.gamma(shape=shape, scale=scale, size=n))\n",
        "        return np.concatenate(([0], samples))"
      ],
      "metadata": {
        "id": "cX6IGSgratpJ"
      },
      "execution_count": null,
      "outputs": []
    },
    {
      "cell_type": "code",
      "source": [
        "import scipy\n",
        "import scipy.stats"
      ],
      "metadata": {
        "id": "4byyhJ8fbNoz"
      },
      "execution_count": null,
      "outputs": []
    },
    {
      "cell_type": "code",
      "source": [
        "from numpy.random.mtrand import RandomState\n",
        "a = scipy.stats.gamma.rvs(1, scale = 2, size=(10),random_state = 9)"
      ],
      "metadata": {
        "id": "imYhWhVYbXT-"
      },
      "execution_count": null,
      "outputs": []
    },
    {
      "cell_type": "code",
      "source": [
        "#np.random.gamma(1,1,1000)"
      ],
      "metadata": {
        "id": "umL4U0oFqNRn"
      },
      "execution_count": null,
      "outputs": []
    },
    {
      "cell_type": "code",
      "source": [
        "from stochastic.processes.continuous.gamma import GammaProcess\n",
        "GammaProcess(1,1)"
      ],
      "metadata": {
        "id": "RFwCb0TAh9Cp"
      },
      "execution_count": null,
      "outputs": []
    },
    {
      "cell_type": "code",
      "source": [
        "from random import sample"
      ],
      "metadata": {
        "id": "Ll80ItTfxWWO"
      },
      "execution_count": null,
      "outputs": []
    },
    {
      "cell_type": "code",
      "source": [
        "import stochastic"
      ],
      "metadata": {
        "id": "2tAt7xfi03AK"
      },
      "execution_count": null,
      "outputs": []
    },
    {
      "cell_type": "code",
      "source": [
        "from stochastic.processes.base import BaseTimeProcess\n",
        "from stochastic.utils.validation import check_positive_integer\n",
        "from stochastic.utils.validation import check_positive_number\n",
        "from stochastic.utils.validation import times_to_increments"
      ],
      "metadata": {
        "id": "uzfdtZLs1imo"
      },
      "execution_count": null,
      "outputs": []
    },
    {
      "cell_type": "code",
      "source": [
        " def _sample_gamma_process_at(self, times):\n",
        "        \"\"\"Sample a Gamma process at specific times.\"\"\"\n",
        "        s = []\n",
        "        if times[0] != 0:\n",
        "            times = np.insert(times, 0, [0])\n",
        "        else:\n",
        "            s.append(0)\n",
        "        increments = times_to_increments(times)\n",
        "\n",
        "        scale = self.variance / self.mean\n",
        "        shape_coef = self.mean**2 / self.variance\n",
        "\n",
        "        for inc in increments:\n",
        "            s.append(self.rng.gamma(shape=shape_coef * inc, scale=scale))\n",
        "\n",
        "        return np.cumsum(s)\n"
      ],
      "metadata": {
        "id": "zO8kijs11Mtr"
      },
      "execution_count": null,
      "outputs": []
    },
    {
      "cell_type": "code",
      "source": [
        "from datetime import timedelta"
      ],
      "metadata": {
        "id": "0CUAQbGw5IrU"
      },
      "execution_count": null,
      "outputs": []
    },
    {
      "cell_type": "code",
      "source": [
        "from os import times\n",
        "GammaProcess.sample(GammaProcess(1.4,6),10)"
      ],
      "metadata": {
        "id": "pR2k-m8o5Tdc"
      },
      "execution_count": null,
      "outputs": []
    },
    {
      "cell_type": "code",
      "source": [
        "import pandas as pd\n"
      ],
      "metadata": {
        "id": "-2oOOk29_0oS"
      },
      "execution_count": null,
      "outputs": []
    },
    {
      "cell_type": "code",
      "source": [
        "data = []\n",
        "\n",
        "for i in range(15):\n",
        "    a = GammaProcess.sample(GammaProcess(6,1.4),8)\n",
        "    data.append(a)\n",
        "\n",
        "data_d = pd.DataFrame(data)\n"
      ],
      "metadata": {
        "id": "U__4AgK19rd1"
      },
      "execution_count": null,
      "outputs": []
    },
    {
      "cell_type": "code",
      "source": [
        "data_d"
      ],
      "metadata": {
        "id": "e4jZc5OsANFh"
      },
      "execution_count": null,
      "outputs": []
    },
    {
      "cell_type": "code",
      "source": [
        "df = pd.DataFrame(data,columns = ([\"0\",\"500\" ,\"1000\",\"1500\",\"2000\",\"2500\",\"3000\",\"3500\",\"4000\"]),index = ([\"1\",\"2\",\"3\",\"4\",\"5\",\"6\",\"7\",\"8\",\"9\",\"10\",\"11\",\"12\",\"13\",\"14\",\"15\"]))"
      ],
      "metadata": {
        "id": "CVg0Z5i9AgBp"
      },
      "execution_count": null,
      "outputs": []
    },
    {
      "cell_type": "code",
      "source": [
        "df"
      ],
      "metadata": {
        "id": "SILyDKL6BImG"
      },
      "execution_count": null,
      "outputs": []
    },
    {
      "cell_type": "code",
      "source": [
        "import matplotlib.pyplot as plt"
      ],
      "metadata": {
        "id": "ewlsnPHe4kvP"
      },
      "execution_count": null,
      "outputs": []
    },
    {
      "cell_type": "code",
      "source": [
        "data_1500 =df.iloc[:,4]"
      ],
      "metadata": {
        "id": "PKM4m5-Q46wg"
      },
      "execution_count": null,
      "outputs": []
    },
    {
      "cell_type": "code",
      "source": [
        "data_1500"
      ],
      "metadata": {
        "id": "iZbP6uj89UUt"
      },
      "execution_count": null,
      "outputs": []
    },
    {
      "cell_type": "code",
      "source": [
        "import seaborn as sns"
      ],
      "metadata": {
        "id": "-3ULMKTc8a7i"
      },
      "execution_count": null,
      "outputs": []
    },
    {
      "cell_type": "code",
      "source": [
        "#sns.distplot(data_1500 , color= \"deeppink\")\n",
        "#plt.xlabel('Data at time 1000 hour')"
      ],
      "metadata": {
        "id": "85n1qSW18kgS"
      },
      "execution_count": null,
      "outputs": []
    },
    {
      "cell_type": "code",
      "source": [
        "data_r1 = np.array((0,1.19,2.01,2.29,3.96,4.47,5.29,6.03,6.91))\n"
      ],
      "metadata": {
        "id": "FJr3I0U1BK7G"
      },
      "execution_count": null,
      "outputs": []
    },
    {
      "cell_type": "code",
      "source": [
        "data_r2 = np.array((0,0.64,1.97,2.97,3.82,4.53,4.50,5.64,6.17))"
      ],
      "metadata": {
        "id": "1Cn__gHmCCcm"
      },
      "execution_count": null,
      "outputs": []
    },
    {
      "cell_type": "code",
      "source": [
        "data_s1 = np.array(df.iloc[0,:])\n",
        "data_s1 "
      ],
      "metadata": {
        "id": "5ZOjs3E4BYhF"
      },
      "execution_count": null,
      "outputs": []
    },
    {
      "cell_type": "code",
      "source": [
        "data_s2 = np.array(df.iloc[1,:])\n",
        "data_s2"
      ],
      "metadata": {
        "id": "8-mxRSR0CpAT"
      },
      "execution_count": null,
      "outputs": []
    },
    {
      "cell_type": "code",
      "source": [
        "data_p = (data_r1,data_r2,data_s1,data_s2)"
      ],
      "metadata": {
        "id": "sQY9oVCHC77O"
      },
      "execution_count": null,
      "outputs": []
    },
    {
      "cell_type": "code",
      "source": [
        "pd.DataFrame(data_p)"
      ],
      "metadata": {
        "id": "s7_mgW7-DF2j"
      },
      "execution_count": null,
      "outputs": []
    },
    {
      "cell_type": "code",
      "source": [
        "data_po = {'data_r1':[0,1.19,2.01,2.29,3.96,4.47,5.29,6.03,6.91 ],'data_r2' : [0,0.64,1.97,2.97,3.82,4.53,4.50,5.64,6.171],'data_s1':[0.        , 0.17869243, 1.34482762, 2.03662902, 2.51546861,\n",
        "       3.29957907, 5.28691397, 6.00936874, 7.50348513],'data_s2' : [0.        , 0.87896472, 1.15515055, 1.32366298, 2.29662876,\n",
        "       2.77176947, 4.40153432, 5.54222826, 7.1712521 ],'no': ['0','500' ,'1000','1500','2000','2500','3000','3500','4000']}"
      ],
      "metadata": {
        "id": "ecEAPkP9D0HG"
      },
      "execution_count": null,
      "outputs": []
    },
    {
      "cell_type": "code",
      "source": [],
      "metadata": {
        "id": "vXDapbXFF86z"
      },
      "execution_count": null,
      "outputs": []
    },
    {
      "cell_type": "code",
      "source": [
        "mydata = pd.DataFrame(data_po,columns = ['data_r1','data_r2','data_s1','data_s2',\"no\"])"
      ],
      "metadata": {
        "id": "eMXQNWJVE-Eg"
      },
      "execution_count": null,
      "outputs": []
    },
    {
      "cell_type": "code",
      "source": [
        "mydata"
      ],
      "metadata": {
        "id": "1rZzRDWUGIsZ"
      },
      "execution_count": null,
      "outputs": []
    },
    {
      "cell_type": "code",
      "source": [
        "# importing pandas library\n",
        "import pandas as pd\n",
        "# importing matplotlib library\n",
        "import matplotlib.pyplot as plt\n",
        "\n",
        "print(\"Line graph: \")\n",
        "plt.plot(mydata[\"no\"], mydata[\"data_r1\"],label='data_r1',color='royalblue' )\n",
        "plt.plot(mydata[\"no\"], mydata[\"data_r2\"],label='data_r2',color='slateblue' )\n",
        "plt.plot(mydata[\"no\"], mydata[\"data_s1\"],label='data_s1',color='darkred',linewidth=1,linestyle = '--')\n",
        "plt.plot(mydata[\"no\"], mydata[\"data_s2\"],label='data_s2',color='indianred',linewidth=1,linestyle = '--')\n",
        "plt.xlabel('Time')\n",
        "plt.ylabel('X(t)')\n",
        "plt.legend();"
      ],
      "metadata": {
        "id": "35owjyfEGLmO"
      },
      "execution_count": null,
      "outputs": []
    },
    {
      "cell_type": "code",
      "source": [
        "fit_alpha, fit_loc, fit_beta = scipy.stats.gamma.fit(df.iloc[:,1])\n",
        "print(fit_alpha, fit_loc, fit_beta)"
      ],
      "metadata": {
        "id": "gJfS61l9NXQw"
      },
      "execution_count": null,
      "outputs": []
    },
    {
      "cell_type": "code",
      "source": [
        "# Reliability estimation after time t\n",
        "print(\"Reliability Estimation at time :\", round(scipy.stats.gamma.sf(6.770756 , 17.028465030377014,0.08529688344163662),3),)"
      ],
      "metadata": {
        "id": "c11JHiwfOd--"
      },
      "execution_count": null,
      "outputs": []
    },
    {
      "cell_type": "code",
      "source": [],
      "metadata": {
        "id": "l_9V8tLxzgAA"
      },
      "execution_count": null,
      "outputs": []
    },
    {
      "cell_type": "code",
      "source": [],
      "metadata": {
        "id": "ZO3p9mEDzf-G"
      },
      "execution_count": null,
      "outputs": []
    },
    {
      "cell_type": "code",
      "source": [],
      "metadata": {
        "id": "AlwBaTqXzf7v"
      },
      "execution_count": null,
      "outputs": []
    },
    {
      "cell_type": "code",
      "source": [],
      "metadata": {
        "id": "IVxgntZzzf5l"
      },
      "execution_count": null,
      "outputs": []
    },
    {
      "cell_type": "code",
      "source": [
        "def likelihood(lam, y):\n",
        "    \n",
        "    factorials = np.apply_along_axis(\n",
        "        lambda x: sp.gamma(x + 1),\n",
        "        axis=0,\n",
        "        arr=y\n",
        "    )\n",
        "    \n",
        "    numerator = np.exp(- lam * y.size) * (lam ** (y.sum()))\n",
        "    \n",
        "    denominator = np.multiply.reduce(factorials)\n",
        "    \n",
        "    return numerator / denominator  "
      ],
      "metadata": {
        "id": "uk9veD2jPNIi"
      },
      "execution_count": null,
      "outputs": []
    },
    {
      "cell_type": "code",
      "source": [
        "def posterior(lam, y):\n",
        "    shape = a + y.sum()\n",
        "    rate = b + y.size\n",
        "    return ss.gamma.pdf(lam, shape, scale=1/rate)"
      ],
      "metadata": {
        "id": "XARiSwObRTUf"
      },
      "execution_count": null,
      "outputs": []
    },
    {
      "cell_type": "code",
      "source": [],
      "metadata": {
        "id": "YbW-ZfPRXSrl"
      },
      "execution_count": null,
      "outputs": []
    },
    {
      "cell_type": "code",
      "source": [
        "a = 1\n",
        "b = 2"
      ],
      "metadata": {
        "id": "sPiTXg45XSot"
      },
      "execution_count": null,
      "outputs": []
    },
    {
      "cell_type": "code",
      "source": [
        "from numpy.random.mtrand import RandomState\n",
        "import scipy\n",
        "import scipy.stats\n"
      ],
      "metadata": {
        "id": "5bldMK2K18eg"
      },
      "execution_count": null,
      "outputs": []
    },
    {
      "cell_type": "code",
      "source": [
        "\n",
        "x = scipy.stats.gamma.rvs( b , scale =  a, size= n ,random_state = 9)\n",
        "    \n",
        "fit_alpha, fit_loc, fit_beta=scipy.stats.gamma.fit(x)"
      ],
      "metadata": {
        "id": "h8KZlf0M2ctH"
      },
      "execution_count": null,
      "outputs": []
    },
    {
      "cell_type": "code",
      "source": [
        "print(fit_alpha, fit_beta)"
      ],
      "metadata": {
        "id": "BR4FIhKC3jGs"
      },
      "execution_count": null,
      "outputs": []
    },
    {
      "cell_type": "code",
      "source": [
        "aa = []\n",
        "bb = []\n",
        "for i in range(rep):\n",
        "    a = 1\n",
        "    aa.append(a)\n",
        "    b = 1\n",
        "    bb.append(b)"
      ],
      "metadata": {
        "id": "zRJVo0XwF4Dx"
      },
      "execution_count": null,
      "outputs": []
    },
    {
      "cell_type": "code",
      "source": [
        "a_m = fit_alpha"
      ],
      "metadata": {
        "id": "aFm874AG30ZR"
      },
      "execution_count": null,
      "outputs": []
    },
    {
      "cell_type": "code",
      "source": [
        "a_m"
      ],
      "metadata": {
        "id": "keEs0pBU37eR"
      },
      "execution_count": null,
      "outputs": []
    },
    {
      "cell_type": "code",
      "source": [
        "import scipy.stats as sts\n",
        "import numpy as np\n",
        "import matplotlib.pyplot as plt\n",
        "import pandas as pd\n"
      ],
      "metadata": {
        "id": "CZ5XdImAcKXj"
      },
      "execution_count": null,
      "outputs": []
    },
    {
      "cell_type": "code",
      "source": [],
      "metadata": {
        "id": "q8kmHN-DkDUu"
      },
      "execution_count": null,
      "outputs": []
    },
    {
      "cell_type": "code",
      "source": [
        "\n",
        "fit_alpha=0.8\n",
        "bayes_df = pd.DataFrame({'proportion': np.arange(0.0, 1.01, 0.01)})\n",
        "\n",
        "# compute the gamma likelihood of the observed data for each\n",
        "# possible value of proportion\n",
        "bayes_df['likelihood'] = scipy.stats.gamma.pdf(fit_alpha,1,scale = 2)\n",
        "# The prior is equal for all possible values\n",
        "bayes_df['prior'] = 1 / bayes_df.shape[0]\n",
        "\n",
        "# compute the marginal likelihood by adding up the likelihood of each possible proportion times its prior probability.\n",
        "\n",
        "marginal_likelihood = (bayes_df['likelihood'] * bayes_df['prior']).sum()\n",
        "\n",
        "bayes_df['posterior'] = (bayes_df['likelihood'] * bayes_df['prior']) / marginal_likelihood\n"
      ],
      "metadata": {
        "id": "eqr6OCiEkA0O"
      },
      "execution_count": 149,
      "outputs": []
    },
    {
      "cell_type": "code",
      "source": [
        "import numpy as np\n",
        "\n",
        "# generating population data following Normal Distribution\n",
        "N = 100000\n",
        "a = 0.5\n",
        "b = 0.5\n",
        "population_df = np.random.gamma(a,b,N)\n",
        "\n",
        "# function that creates random sample \n",
        "def random_sampling(df, n):\n",
        "    random_sample = np.random.choice(df,replace = False, size = n)\n",
        "    return(random_sample)\n",
        "randomSample = random_sampling(population_df, N)\n",
        "randomSample"
      ],
      "metadata": {
        "id": "0j3elELSpZAG",
        "outputId": "64c72375-687e-4dfa-a4cc-7ce8552d914b",
        "colab": {
          "base_uri": "https://localhost:8080/"
        }
      },
      "execution_count": 155,
      "outputs": [
        {
          "output_type": "execute_result",
          "data": {
            "text/plain": [
              "array([0.00292466, 1.32158816, 0.07378493, ..., 0.08058623, 0.25882618,\n",
              "       0.60183536])"
            ]
          },
          "metadata": {},
          "execution_count": 155
        }
      ]
    },
    {
      "cell_type": "code",
      "source": [
        "\n",
        "import numpy as np\n",
        "import pandas as pd\n",
        "# generating population data following Normal Distribution\n",
        "N = 100000\n",
        "a = 0.5\n",
        "b = 0.5\n",
        "population_df = np.random.gamma(a,b,N)\n",
        "\n",
        "# function that creates random sample using Systematic Sampling\n",
        "def systematic_sampling(df, step):\n",
        "    id = pd.Series(np.arange(1,len(df),1))\n",
        "    df = pd.Series(df)\n",
        "    df_pd = pd.concat([id, df], axis = 1)\n",
        "    df_pd.columns = [\"id\", \"data\"]\n",
        "    # these indices will increase with the step amount not 1\n",
        "    selected_index = np.arange(1,len(df),step)\n",
        "    # using iloc for getting thee data with selected indices\n",
        "    systematic_sampling = df_pd.iloc[selected_index]\n",
        "    return(systematic_sampling)\n",
        "\n",
        "n = 50\n",
        "step = int(N/n)\n",
        "sample = systematic_sampling(population_df, step)\n",
        "sample"
      ],
      "metadata": {
        "colab": {
          "base_uri": "https://localhost:8080/",
          "height": 1000
        },
        "id": "-QwlqOws68uC",
        "outputId": "a991aae8-ddc6-492e-8604-f77ae8d0b59d"
      },
      "execution_count": 150,
      "outputs": [
        {
          "output_type": "execute_result",
          "data": {
            "text/plain": [
              "            id      data\n",
              "1          2.0  0.127128\n",
              "2001    2002.0  0.000206\n",
              "4001    4002.0  0.283723\n",
              "6001    6002.0  1.844607\n",
              "8001    8002.0  0.851546\n",
              "10001  10002.0  0.082474\n",
              "12001  12002.0  0.216289\n",
              "14001  14002.0  0.016222\n",
              "16001  16002.0  1.311469\n",
              "18001  18002.0  0.169538\n",
              "20001  20002.0  0.073693\n",
              "22001  22002.0  0.449753\n",
              "24001  24002.0  0.220735\n",
              "26001  26002.0  0.513729\n",
              "28001  28002.0  0.079592\n",
              "30001  30002.0  0.148700\n",
              "32001  32002.0  0.142308\n",
              "34001  34002.0  0.056083\n",
              "36001  36002.0  0.014635\n",
              "38001  38002.0  0.117016\n",
              "40001  40002.0  0.055645\n",
              "42001  42002.0  1.015266\n",
              "44001  44002.0  0.054845\n",
              "46001  46002.0  0.572104\n",
              "48001  48002.0  0.001835\n",
              "50001  50002.0  0.059609\n",
              "52001  52002.0  0.364101\n",
              "54001  54002.0  0.011120\n",
              "56001  56002.0  0.002373\n",
              "58001  58002.0  0.066484\n",
              "60001  60002.0  0.079110\n",
              "62001  62002.0  0.044704\n",
              "64001  64002.0  0.079055\n",
              "66001  66002.0  0.307292\n",
              "68001  68002.0  1.310928\n",
              "70001  70002.0  0.028118\n",
              "72001  72002.0  1.148125\n",
              "74001  74002.0  0.221083\n",
              "76001  76002.0  0.939872\n",
              "78001  78002.0  0.075185\n",
              "80001  80002.0  0.018080\n",
              "82001  82002.0  0.395382\n",
              "84001  84002.0  0.013286\n",
              "86001  86002.0  0.026546\n",
              "88001  88002.0  0.485161\n",
              "90001  90002.0  0.006691\n",
              "92001  92002.0  0.260370\n",
              "94001  94002.0  0.005185\n",
              "96001  96002.0  0.078378\n",
              "98001  98002.0  0.001771"
            ],
            "text/html": [
              "\n",
              "  <div id=\"df-374dc392-9fdb-450c-9349-d23e915ef6c8\">\n",
              "    <div class=\"colab-df-container\">\n",
              "      <div>\n",
              "<style scoped>\n",
              "    .dataframe tbody tr th:only-of-type {\n",
              "        vertical-align: middle;\n",
              "    }\n",
              "\n",
              "    .dataframe tbody tr th {\n",
              "        vertical-align: top;\n",
              "    }\n",
              "\n",
              "    .dataframe thead th {\n",
              "        text-align: right;\n",
              "    }\n",
              "</style>\n",
              "<table border=\"1\" class=\"dataframe\">\n",
              "  <thead>\n",
              "    <tr style=\"text-align: right;\">\n",
              "      <th></th>\n",
              "      <th>id</th>\n",
              "      <th>data</th>\n",
              "    </tr>\n",
              "  </thead>\n",
              "  <tbody>\n",
              "    <tr>\n",
              "      <th>1</th>\n",
              "      <td>2.0</td>\n",
              "      <td>0.127128</td>\n",
              "    </tr>\n",
              "    <tr>\n",
              "      <th>2001</th>\n",
              "      <td>2002.0</td>\n",
              "      <td>0.000206</td>\n",
              "    </tr>\n",
              "    <tr>\n",
              "      <th>4001</th>\n",
              "      <td>4002.0</td>\n",
              "      <td>0.283723</td>\n",
              "    </tr>\n",
              "    <tr>\n",
              "      <th>6001</th>\n",
              "      <td>6002.0</td>\n",
              "      <td>1.844607</td>\n",
              "    </tr>\n",
              "    <tr>\n",
              "      <th>8001</th>\n",
              "      <td>8002.0</td>\n",
              "      <td>0.851546</td>\n",
              "    </tr>\n",
              "    <tr>\n",
              "      <th>10001</th>\n",
              "      <td>10002.0</td>\n",
              "      <td>0.082474</td>\n",
              "    </tr>\n",
              "    <tr>\n",
              "      <th>12001</th>\n",
              "      <td>12002.0</td>\n",
              "      <td>0.216289</td>\n",
              "    </tr>\n",
              "    <tr>\n",
              "      <th>14001</th>\n",
              "      <td>14002.0</td>\n",
              "      <td>0.016222</td>\n",
              "    </tr>\n",
              "    <tr>\n",
              "      <th>16001</th>\n",
              "      <td>16002.0</td>\n",
              "      <td>1.311469</td>\n",
              "    </tr>\n",
              "    <tr>\n",
              "      <th>18001</th>\n",
              "      <td>18002.0</td>\n",
              "      <td>0.169538</td>\n",
              "    </tr>\n",
              "    <tr>\n",
              "      <th>20001</th>\n",
              "      <td>20002.0</td>\n",
              "      <td>0.073693</td>\n",
              "    </tr>\n",
              "    <tr>\n",
              "      <th>22001</th>\n",
              "      <td>22002.0</td>\n",
              "      <td>0.449753</td>\n",
              "    </tr>\n",
              "    <tr>\n",
              "      <th>24001</th>\n",
              "      <td>24002.0</td>\n",
              "      <td>0.220735</td>\n",
              "    </tr>\n",
              "    <tr>\n",
              "      <th>26001</th>\n",
              "      <td>26002.0</td>\n",
              "      <td>0.513729</td>\n",
              "    </tr>\n",
              "    <tr>\n",
              "      <th>28001</th>\n",
              "      <td>28002.0</td>\n",
              "      <td>0.079592</td>\n",
              "    </tr>\n",
              "    <tr>\n",
              "      <th>30001</th>\n",
              "      <td>30002.0</td>\n",
              "      <td>0.148700</td>\n",
              "    </tr>\n",
              "    <tr>\n",
              "      <th>32001</th>\n",
              "      <td>32002.0</td>\n",
              "      <td>0.142308</td>\n",
              "    </tr>\n",
              "    <tr>\n",
              "      <th>34001</th>\n",
              "      <td>34002.0</td>\n",
              "      <td>0.056083</td>\n",
              "    </tr>\n",
              "    <tr>\n",
              "      <th>36001</th>\n",
              "      <td>36002.0</td>\n",
              "      <td>0.014635</td>\n",
              "    </tr>\n",
              "    <tr>\n",
              "      <th>38001</th>\n",
              "      <td>38002.0</td>\n",
              "      <td>0.117016</td>\n",
              "    </tr>\n",
              "    <tr>\n",
              "      <th>40001</th>\n",
              "      <td>40002.0</td>\n",
              "      <td>0.055645</td>\n",
              "    </tr>\n",
              "    <tr>\n",
              "      <th>42001</th>\n",
              "      <td>42002.0</td>\n",
              "      <td>1.015266</td>\n",
              "    </tr>\n",
              "    <tr>\n",
              "      <th>44001</th>\n",
              "      <td>44002.0</td>\n",
              "      <td>0.054845</td>\n",
              "    </tr>\n",
              "    <tr>\n",
              "      <th>46001</th>\n",
              "      <td>46002.0</td>\n",
              "      <td>0.572104</td>\n",
              "    </tr>\n",
              "    <tr>\n",
              "      <th>48001</th>\n",
              "      <td>48002.0</td>\n",
              "      <td>0.001835</td>\n",
              "    </tr>\n",
              "    <tr>\n",
              "      <th>50001</th>\n",
              "      <td>50002.0</td>\n",
              "      <td>0.059609</td>\n",
              "    </tr>\n",
              "    <tr>\n",
              "      <th>52001</th>\n",
              "      <td>52002.0</td>\n",
              "      <td>0.364101</td>\n",
              "    </tr>\n",
              "    <tr>\n",
              "      <th>54001</th>\n",
              "      <td>54002.0</td>\n",
              "      <td>0.011120</td>\n",
              "    </tr>\n",
              "    <tr>\n",
              "      <th>56001</th>\n",
              "      <td>56002.0</td>\n",
              "      <td>0.002373</td>\n",
              "    </tr>\n",
              "    <tr>\n",
              "      <th>58001</th>\n",
              "      <td>58002.0</td>\n",
              "      <td>0.066484</td>\n",
              "    </tr>\n",
              "    <tr>\n",
              "      <th>60001</th>\n",
              "      <td>60002.0</td>\n",
              "      <td>0.079110</td>\n",
              "    </tr>\n",
              "    <tr>\n",
              "      <th>62001</th>\n",
              "      <td>62002.0</td>\n",
              "      <td>0.044704</td>\n",
              "    </tr>\n",
              "    <tr>\n",
              "      <th>64001</th>\n",
              "      <td>64002.0</td>\n",
              "      <td>0.079055</td>\n",
              "    </tr>\n",
              "    <tr>\n",
              "      <th>66001</th>\n",
              "      <td>66002.0</td>\n",
              "      <td>0.307292</td>\n",
              "    </tr>\n",
              "    <tr>\n",
              "      <th>68001</th>\n",
              "      <td>68002.0</td>\n",
              "      <td>1.310928</td>\n",
              "    </tr>\n",
              "    <tr>\n",
              "      <th>70001</th>\n",
              "      <td>70002.0</td>\n",
              "      <td>0.028118</td>\n",
              "    </tr>\n",
              "    <tr>\n",
              "      <th>72001</th>\n",
              "      <td>72002.0</td>\n",
              "      <td>1.148125</td>\n",
              "    </tr>\n",
              "    <tr>\n",
              "      <th>74001</th>\n",
              "      <td>74002.0</td>\n",
              "      <td>0.221083</td>\n",
              "    </tr>\n",
              "    <tr>\n",
              "      <th>76001</th>\n",
              "      <td>76002.0</td>\n",
              "      <td>0.939872</td>\n",
              "    </tr>\n",
              "    <tr>\n",
              "      <th>78001</th>\n",
              "      <td>78002.0</td>\n",
              "      <td>0.075185</td>\n",
              "    </tr>\n",
              "    <tr>\n",
              "      <th>80001</th>\n",
              "      <td>80002.0</td>\n",
              "      <td>0.018080</td>\n",
              "    </tr>\n",
              "    <tr>\n",
              "      <th>82001</th>\n",
              "      <td>82002.0</td>\n",
              "      <td>0.395382</td>\n",
              "    </tr>\n",
              "    <tr>\n",
              "      <th>84001</th>\n",
              "      <td>84002.0</td>\n",
              "      <td>0.013286</td>\n",
              "    </tr>\n",
              "    <tr>\n",
              "      <th>86001</th>\n",
              "      <td>86002.0</td>\n",
              "      <td>0.026546</td>\n",
              "    </tr>\n",
              "    <tr>\n",
              "      <th>88001</th>\n",
              "      <td>88002.0</td>\n",
              "      <td>0.485161</td>\n",
              "    </tr>\n",
              "    <tr>\n",
              "      <th>90001</th>\n",
              "      <td>90002.0</td>\n",
              "      <td>0.006691</td>\n",
              "    </tr>\n",
              "    <tr>\n",
              "      <th>92001</th>\n",
              "      <td>92002.0</td>\n",
              "      <td>0.260370</td>\n",
              "    </tr>\n",
              "    <tr>\n",
              "      <th>94001</th>\n",
              "      <td>94002.0</td>\n",
              "      <td>0.005185</td>\n",
              "    </tr>\n",
              "    <tr>\n",
              "      <th>96001</th>\n",
              "      <td>96002.0</td>\n",
              "      <td>0.078378</td>\n",
              "    </tr>\n",
              "    <tr>\n",
              "      <th>98001</th>\n",
              "      <td>98002.0</td>\n",
              "      <td>0.001771</td>\n",
              "    </tr>\n",
              "  </tbody>\n",
              "</table>\n",
              "</div>\n",
              "      <button class=\"colab-df-convert\" onclick=\"convertToInteractive('df-374dc392-9fdb-450c-9349-d23e915ef6c8')\"\n",
              "              title=\"Convert this dataframe to an interactive table.\"\n",
              "              style=\"display:none;\">\n",
              "        \n",
              "  <svg xmlns=\"http://www.w3.org/2000/svg\" height=\"24px\"viewBox=\"0 0 24 24\"\n",
              "       width=\"24px\">\n",
              "    <path d=\"M0 0h24v24H0V0z\" fill=\"none\"/>\n",
              "    <path d=\"M18.56 5.44l.94 2.06.94-2.06 2.06-.94-2.06-.94-.94-2.06-.94 2.06-2.06.94zm-11 1L8.5 8.5l.94-2.06 2.06-.94-2.06-.94L8.5 2.5l-.94 2.06-2.06.94zm10 10l.94 2.06.94-2.06 2.06-.94-2.06-.94-.94-2.06-.94 2.06-2.06.94z\"/><path d=\"M17.41 7.96l-1.37-1.37c-.4-.4-.92-.59-1.43-.59-.52 0-1.04.2-1.43.59L10.3 9.45l-7.72 7.72c-.78.78-.78 2.05 0 2.83L4 21.41c.39.39.9.59 1.41.59.51 0 1.02-.2 1.41-.59l7.78-7.78 2.81-2.81c.8-.78.8-2.07 0-2.86zM5.41 20L4 18.59l7.72-7.72 1.47 1.35L5.41 20z\"/>\n",
              "  </svg>\n",
              "      </button>\n",
              "      \n",
              "  <style>\n",
              "    .colab-df-container {\n",
              "      display:flex;\n",
              "      flex-wrap:wrap;\n",
              "      gap: 12px;\n",
              "    }\n",
              "\n",
              "    .colab-df-convert {\n",
              "      background-color: #E8F0FE;\n",
              "      border: none;\n",
              "      border-radius: 50%;\n",
              "      cursor: pointer;\n",
              "      display: none;\n",
              "      fill: #1967D2;\n",
              "      height: 32px;\n",
              "      padding: 0 0 0 0;\n",
              "      width: 32px;\n",
              "    }\n",
              "\n",
              "    .colab-df-convert:hover {\n",
              "      background-color: #E2EBFA;\n",
              "      box-shadow: 0px 1px 2px rgba(60, 64, 67, 0.3), 0px 1px 3px 1px rgba(60, 64, 67, 0.15);\n",
              "      fill: #174EA6;\n",
              "    }\n",
              "\n",
              "    [theme=dark] .colab-df-convert {\n",
              "      background-color: #3B4455;\n",
              "      fill: #D2E3FC;\n",
              "    }\n",
              "\n",
              "    [theme=dark] .colab-df-convert:hover {\n",
              "      background-color: #434B5C;\n",
              "      box-shadow: 0px 1px 3px 1px rgba(0, 0, 0, 0.15);\n",
              "      filter: drop-shadow(0px 1px 2px rgba(0, 0, 0, 0.3));\n",
              "      fill: #FFFFFF;\n",
              "    }\n",
              "  </style>\n",
              "\n",
              "      <script>\n",
              "        const buttonEl =\n",
              "          document.querySelector('#df-374dc392-9fdb-450c-9349-d23e915ef6c8 button.colab-df-convert');\n",
              "        buttonEl.style.display =\n",
              "          google.colab.kernel.accessAllowed ? 'block' : 'none';\n",
              "\n",
              "        async function convertToInteractive(key) {\n",
              "          const element = document.querySelector('#df-374dc392-9fdb-450c-9349-d23e915ef6c8');\n",
              "          const dataTable =\n",
              "            await google.colab.kernel.invokeFunction('convertToInteractive',\n",
              "                                                     [key], {});\n",
              "          if (!dataTable) return;\n",
              "\n",
              "          const docLinkHtml = 'Like what you see? Visit the ' +\n",
              "            '<a target=\"_blank\" href=https://colab.research.google.com/notebooks/data_table.ipynb>data table notebook</a>'\n",
              "            + ' to learn more about interactive tables.';\n",
              "          element.innerHTML = '';\n",
              "          dataTable['output_type'] = 'display_data';\n",
              "          await google.colab.output.renderOutput(dataTable, element);\n",
              "          const docLink = document.createElement('div');\n",
              "          docLink.innerHTML = docLinkHtml;\n",
              "          element.appendChild(docLink);\n",
              "        }\n",
              "      </script>\n",
              "    </div>\n",
              "  </div>\n",
              "  "
            ]
          },
          "metadata": {},
          "execution_count": 150
        }
      ]
    },
    {
      "cell_type": "code",
      "source": [
        "sample.iloc[:,1]"
      ],
      "metadata": {
        "colab": {
          "base_uri": "https://localhost:8080/"
        },
        "id": "TOtHMyIl9xq1",
        "outputId": "43f126df-0aba-44be-df6d-aad5bf28e047"
      },
      "execution_count": 120,
      "outputs": [
        {
          "output_type": "execute_result",
          "data": {
            "text/plain": [
              "1        0.928745\n",
              "2001     1.231531\n",
              "4001     0.403342\n",
              "6001     0.039432\n",
              "8001     0.066411\n",
              "10001    0.038000\n",
              "12001    0.126885\n",
              "14001    0.286012\n",
              "16001    0.140524\n",
              "18001    0.001109\n",
              "20001    0.005813\n",
              "22001    0.142183\n",
              "24001    1.062705\n",
              "26001    1.090920\n",
              "28001    0.071055\n",
              "30001    0.120301\n",
              "32001    0.018377\n",
              "34001    0.337421\n",
              "36001    0.001605\n",
              "38001    0.643501\n",
              "40001    0.048148\n",
              "42001    0.041557\n",
              "44001    0.718663\n",
              "46001    0.582337\n",
              "48001    0.092563\n",
              "50001    0.275727\n",
              "52001    0.022505\n",
              "54001    0.181404\n",
              "56001    0.090185\n",
              "58001    0.094433\n",
              "60001    0.784540\n",
              "62001    0.049346\n",
              "64001    0.000015\n",
              "66001    0.124302\n",
              "68001    0.268182\n",
              "70001    0.336166\n",
              "72001    0.202831\n",
              "74001    0.533851\n",
              "76001    0.003829\n",
              "78001    1.323683\n",
              "80001    0.258608\n",
              "82001    0.458017\n",
              "84001    0.044657\n",
              "86001    0.091298\n",
              "88001    0.264556\n",
              "90001    1.668283\n",
              "92001    0.009237\n",
              "94001    0.215414\n",
              "96001    0.019931\n",
              "98001    0.164494\n",
              "Name: data, dtype: float64"
            ]
          },
          "metadata": {},
          "execution_count": 120
        }
      ]
    },
    {
      "cell_type": "code",
      "source": [
        "import numpy as np\n",
        "\n",
        "# generating population data following Normal Distribution\n",
        "N = 100000\n",
        "a = 0.5\n",
        "b = 0.5\n",
        "population_df = np.random.gamma(a,b,N)\n",
        "\n",
        "# function that creates random sample \n",
        "def random_sampling(df, n):\n",
        "    random_sample = np.random.choice(df,replace = False, size = n)\n",
        "    return(random_sample)\n",
        "randomSample = random_sampling(population_df, N)\n",
        "randomSample"
      ],
      "metadata": {
        "id": "V6JjXb3wpzVh"
      },
      "execution_count": null,
      "outputs": []
    },
    {
      "cell_type": "code",
      "source": [
        "import numpy as np\n"
      ],
      "metadata": {
        "id": "JsgQ7IO2FYPp"
      },
      "execution_count": 121,
      "outputs": []
    },
    {
      "cell_type": "code",
      "source": [
        "rep =5000"
      ],
      "metadata": {
        "id": "cLU5n5NJLkXY"
      },
      "execution_count": 122,
      "outputs": []
    },
    {
      "cell_type": "code",
      "source": [
        "M_al = []\n",
        "M_be = []\n",
        "B_al = []\n",
        "B_be = []\n",
        "\n",
        "\n",
        "\n",
        "\n",
        "N = 100000\n",
        "a = 2\n",
        "b = 2\n",
        "n = 20\n",
        "population_df = np.random.gamma(a,b,N)\n",
        "\n",
        "\n",
        "\n",
        "for i in range(rep):\n",
        "    randomSample = random_sampling(population_df, n )\n",
        "    x = randomSample\n",
        "    #MLE\n",
        "    fit_alpha, fit_loc, fit_beta=scipy.stats.gamma.fit(x)\n",
        "    a_m = fit_alpha\n",
        "    b_m = fit_beta\n",
        "    M_al.append(a_m)\n",
        "    M_be.append(b_m)\n",
        "\n",
        "    #beye\n",
        "    bayes_df = pd.DataFrame({'proportion': np.arange(0.0, 1.01, 0.01)})\n",
        "\n",
        "    # compute the gamma likelihood of the observed data for each\n",
        "    # possible value of proportion\n",
        "    bayes_df['likelihood'] = scipy.stats.gamma.pdf(fit_alpha,a,scale = b)\n",
        "    # The prior is equal for all possible values\n",
        "    bayes_df['prior'] = 1 / bayes_df.shape[0]\n",
        "\n",
        "    # compute the marginal likelihood by adding up the likelihood of each possible proportion times its prior probability.\n",
        "\n",
        "    marginal_likelihood = (bayes_df['likelihood'] * bayes_df['prior']).sum()\n",
        "\n",
        "    bayes_df['posterior'] = (bayes_df['likelihood'] * bayes_df['prior']) / marginal_likelihood\n",
        " \n",
        "    B_al.append(np.sum(bayes_df['posterior']*fit_alpha ))\n",
        "    \n",
        "   ####\n",
        "    bayes_df = pd.DataFrame({'proportion': np.arange(0.0, 1.01, 0.01)})\n",
        "\n",
        "    # compute the gamma likelihood of the observed data for each\n",
        "    # possible value of proportion\n",
        "    bayes_df['likelihood'] = scipy.stats.gamma.pdf(fit_beta,a,scale = b)\n",
        "    # The prior is equal for all possible values\n",
        "    bayes_df['prior'] = 1 / bayes_df.shape[0]\n",
        "\n",
        "    # compute the marginal likelihood by adding up the likelihood of each possible proportion times its prior probability.\n",
        "\n",
        "    marginal_likelihood = (bayes_df['likelihood'] * bayes_df['prior']).sum()\n",
        "\n",
        "    bayes_df['posterior'] = (bayes_df['likelihood'] * bayes_df['prior']) / marginal_likelihood\n",
        " \n",
        "    B_be.append(np.sum(bayes_df['posterior']*fit_beta))\n",
        "\n"
      ],
      "metadata": {
        "id": "qujDthluaOo-"
      },
      "execution_count": 282,
      "outputs": []
    },
    {
      "cell_type": "code",
      "source": [
        "np.sum(M_al)/5000"
      ],
      "metadata": {
        "id": "IWYKhvjVOdzg",
        "outputId": "07c56802-c2be-4701-acd1-d1b0616ed79e",
        "colab": {
          "base_uri": "https://localhost:8080/"
        }
      },
      "execution_count": 283,
      "outputs": [
        {
          "output_type": "execute_result",
          "data": {
            "text/plain": [
              "253.7974122261917"
            ]
          },
          "metadata": {},
          "execution_count": 283
        }
      ]
    },
    {
      "cell_type": "markdown",
      "source": [],
      "metadata": {
        "id": "ucvDmAcdGRSa"
      }
    },
    {
      "cell_type": "code",
      "source": [
        "np.sum(M_be)/5000"
      ],
      "metadata": {
        "id": "IdY9eiSKOvBX",
        "outputId": "3957ceaf-28c8-4c62-d4d4-9220c84d11aa",
        "colab": {
          "base_uri": "https://localhost:8080/"
        }
      },
      "execution_count": 284,
      "outputs": [
        {
          "output_type": "execute_result",
          "data": {
            "text/plain": [
              "2.733740139164454"
            ]
          },
          "metadata": {},
          "execution_count": 284
        }
      ]
    },
    {
      "cell_type": "code",
      "source": [
        "np.sum(B_al)/5000"
      ],
      "metadata": {
        "id": "hJbgGHoEOziW",
        "outputId": "b45ce58d-2dbe-4238-d12e-a19e910b2da1",
        "colab": {
          "base_uri": "https://localhost:8080/"
        }
      },
      "execution_count": 285,
      "outputs": [
        {
          "output_type": "execute_result",
          "data": {
            "text/plain": [
              "17.06808342330236"
            ]
          },
          "metadata": {},
          "execution_count": 285
        }
      ]
    },
    {
      "cell_type": "code",
      "source": [
        "np.sum(B_be)/5000"
      ],
      "metadata": {
        "id": "ckiHUNr-O6M7",
        "outputId": "658561ab-c6c7-4395-e3ce-04baf0807f96",
        "colab": {
          "base_uri": "https://localhost:8080/"
        }
      },
      "execution_count": 286,
      "outputs": [
        {
          "output_type": "execute_result",
          "data": {
            "text/plain": [
              "2.733740139164454"
            ]
          },
          "metadata": {},
          "execution_count": 286
        }
      ]
    }
  ]
}