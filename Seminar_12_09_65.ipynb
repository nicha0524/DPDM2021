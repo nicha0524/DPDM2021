{
  "nbformat": 4,
  "nbformat_minor": 0,
  "metadata": {
    "colab": {
      "provenance": [],
      "collapsed_sections": [],
      "authorship_tag": "ABX9TyMMEPTwiFujLvLL6v7c+DbZ",
      "include_colab_link": true
    },
    "kernelspec": {
      "name": "python3",
      "display_name": "Python 3"
    },
    "language_info": {
      "name": "python"
    }
  },
  "cells": [
    {
      "cell_type": "markdown",
      "metadata": {
        "id": "view-in-github",
        "colab_type": "text"
      },
      "source": [
        "<a href=\"https://colab.research.google.com/github/nicha0524/DPDM2021/blob/main/Seminar_12_09_65.ipynb\" target=\"_parent\"><img src=\"https://colab.research.google.com/assets/colab-badge.svg\" alt=\"Open In Colab\"/></a>"
      ]
    },
    {
      "cell_type": "markdown",
      "source": [
        "##Import required libraries"
      ],
      "metadata": {
        "id": "SusURTPUpmH3"
      }
    },
    {
      "cell_type": "code",
      "execution_count": 149,
      "metadata": {
        "id": "b38n3n--pQ9r"
      },
      "outputs": [],
      "source": [
        "import matplotlib.pyplot as plt\n",
        "%matplotlib inline\n",
        "import scipy\n",
        "import scipy.stats\n",
        "import warnings\n",
        "warnings.filterwarnings(\"ignore\")"
      ]
    },
    {
      "cell_type": "code",
      "source": [
        "size = 10000\n",
        "x = scipy.arange(size)\n",
        "\n",
        "# Generate the data\n",
        "y = scipy.stats.gamma.rvs(1, size=size, random_state=40)"
      ],
      "metadata": {
        "id": "mfodH7dbp4P5"
      },
      "execution_count": 150,
      "outputs": []
    },
    {
      "cell_type": "code",
      "source": [
        "len(y)"
      ],
      "metadata": {
        "colab": {
          "base_uri": "https://localhost:8080/"
        },
        "id": "4KwJ67p-Diya",
        "outputId": "0724b224-24f0-47b3-b78d-c1ababb30adc"
      },
      "execution_count": 151,
      "outputs": [
        {
          "output_type": "execute_result",
          "data": {
            "text/plain": [
              "10000"
            ]
          },
          "metadata": {},
          "execution_count": 151
        }
      ]
    },
    {
      "cell_type": "markdown",
      "source": [
        "## Obtain the distribution parameters"
      ],
      "metadata": {
        "id": "bo-S-49vqTKS"
      }
    },
    {
      "cell_type": "code",
      "source": [
        "dist = getattr(scipy.stats, 'gamma')"
      ],
      "metadata": {
        "id": "n7TYev9MqLG9"
      },
      "execution_count": 152,
      "outputs": []
    },
    {
      "cell_type": "markdown",
      "source": [
        "##### Fit the distribution to the data"
      ],
      "metadata": {
        "id": "G6crUaKesa7D"
      }
    },
    {
      "cell_type": "code",
      "source": [
        "param = dist.fit(y)"
      ],
      "metadata": {
        "id": "CnI197FRqLEe"
      },
      "execution_count": 153,
      "outputs": []
    },
    {
      "cell_type": "code",
      "source": [
        "#Distribution parameters (e.g. 'a',  for gama distribution)\n",
        "args = param[:-2]\n",
        "\n",
        "# Location parameter\n",
        "loc = param[-2]\n",
        "\n",
        "# Scale parameter\n",
        "scale = param[-1]"
      ],
      "metadata": {
        "id": "FuV30hj_qLCK"
      },
      "execution_count": null,
      "outputs": []
    },
    {
      "cell_type": "code",
      "source": [
        "args\n"
      ],
      "metadata": {
        "colab": {
          "base_uri": "https://localhost:8080/"
        },
        "id": "EPTPjWCsqKqp",
        "outputId": "9f353d72-de4e-4972-8cde-4e5f5b5376f4"
      },
      "execution_count": 155,
      "outputs": [
        {
          "output_type": "execute_result",
          "data": {
            "text/plain": [
              "(1.0104532994504662,)"
            ]
          },
          "metadata": {},
          "execution_count": 155
        }
      ]
    },
    {
      "cell_type": "markdown",
      "source": [
        "## Probability of failure before time t"
      ],
      "metadata": {
        "id": "0G6Y-33otdAT"
      }
    },
    {
      "cell_type": "code",
      "source": [
        "print(\"Probability of failure before time 40:\", round(scipy.stats.gamma.cdf(40, *args, loc=loc, scale=scale)*100,2),\"%\")"
      ],
      "metadata": {
        "colab": {
          "base_uri": "https://localhost:8080/"
        },
        "id": "7lQ36OpitUzw",
        "outputId": "ec5c6b06-53be-4f70-f849-4c18608353db"
      },
      "execution_count": null,
      "outputs": [
        {
          "output_type": "stream",
          "name": "stdout",
          "text": [
            "Probability of failure before time 40: 54.55 %\n"
          ]
        }
      ]
    },
    {
      "cell_type": "code",
      "source": [
        "# Reliability estimation after time t\n",
        "print(\"Reliability Estimation at time 40:\", round(scipy.stats.gamma.sf(40, *args, loc=loc, scale=scale)*100,2),\"%\")\n",
        "\n",
        "\n",
        "\n"
      ],
      "metadata": {
        "colab": {
          "base_uri": "https://localhost:8080/"
        },
        "id": "SiSdJ_3PtnDm",
        "outputId": "fc81e6bd-c766-4ac3-f4b9-383add9a8441"
      },
      "execution_count": null,
      "outputs": [
        {
          "output_type": "stream",
          "name": "stdout",
          "text": [
            "Reliability Estimation at time 40: 45.45 %\n"
          ]
        }
      ]
    },
    {
      "cell_type": "markdown",
      "source": [
        "##Bayesian"
      ],
      "metadata": {
        "id": "r6FppT1Wl98S"
      }
    },
    {
      "cell_type": "markdown",
      "source": [
        "##prior distribution P(θ)"
      ],
      "metadata": {
        "id": "0l8Ph_D-uJlW"
      }
    },
    {
      "cell_type": "code",
      "source": [
        "theta = scipy.stats.gamma.rvs(2, size=size )"
      ],
      "metadata": {
        "id": "fgxGVu4xhGc-"
      },
      "execution_count": 109,
      "outputs": []
    },
    {
      "cell_type": "code",
      "source": [
        "theta"
      ],
      "metadata": {
        "colab": {
          "base_uri": "https://localhost:8080/"
        },
        "id": "X9v08QuqjBiF",
        "outputId": "c49fe19f-f340-47f7-c773-50f0a495fafe"
      },
      "execution_count": 110,
      "outputs": [
        {
          "output_type": "execute_result",
          "data": {
            "text/plain": [
              "array([2.96160924, 1.18135702, 1.8128751 , ..., 2.5284681 , 1.15867745,\n",
              "       2.12829563])"
            ]
          },
          "metadata": {},
          "execution_count": 110
        }
      ]
    },
    {
      "cell_type": "code",
      "source": [
        "import scipy.stats as stats\n",
        "import numpy as np"
      ],
      "metadata": {
        "id": "Ilu7uymevIuQ"
      },
      "execution_count": 111,
      "outputs": []
    },
    {
      "cell_type": "code",
      "source": [
        "prior = stats.gamma.pdf(theta[0], 2)"
      ],
      "metadata": {
        "id": "shes-LfJuOMa"
      },
      "execution_count": 118,
      "outputs": []
    },
    {
      "cell_type": "code",
      "source": [
        "prior"
      ],
      "metadata": {
        "colab": {
          "base_uri": "https://localhost:8080/"
        },
        "id": "-cUGCmkO_uCg",
        "outputId": "8dbba891-7782-4010-b08d-97eb67e3b811"
      },
      "execution_count": 119,
      "outputs": [
        {
          "output_type": "execute_result",
          "data": {
            "text/plain": [
              "0.15322061668155523"
            ]
          },
          "metadata": {},
          "execution_count": 119
        }
      ]
    },
    {
      "cell_type": "markdown",
      "source": [
        "# likelihood  P(X|θ)"
      ],
      "metadata": {
        "id": "__SmA4ARyfsW"
      }
    },
    {
      "cell_type": "code",
      "source": [
        "z = scipy.stats.gamma.rvs(1, size=size, random_state=40)*50"
      ],
      "metadata": {
        "id": "gFka08ShDbWe"
      },
      "execution_count": 79,
      "outputs": []
    },
    {
      "cell_type": "code",
      "source": [
        "likelihood = stats.gamma.pdf(z,1)"
      ],
      "metadata": {
        "id": "4t5MEYNc71GZ"
      },
      "execution_count": 122,
      "outputs": []
    },
    {
      "cell_type": "code",
      "source": [
        "likelihood"
      ],
      "metadata": {
        "colab": {
          "base_uri": "https://localhost:8080/"
        },
        "id": "Ir2_A5Wq-ttX",
        "outputId": "3a5fe0be-0a18-4610-bdef-fb8fa01d27af"
      },
      "execution_count": 174,
      "outputs": [
        {
          "output_type": "execute_result",
          "data": {
            "text/plain": [
              "array([4.24191732e-12, 5.79665866e-02, 1.82783679e-34, ...,\n",
              "       5.25709387e-03, 1.11405973e-17, 6.91204361e-02])"
            ]
          },
          "metadata": {},
          "execution_count": 174
        }
      ]
    },
    {
      "cell_type": "markdown",
      "source": [
        "## Posterior. P(θ|X)"
      ],
      "metadata": {
        "id": "Lwt8fOSV_iAf"
      }
    },
    {
      "cell_type": "code",
      "source": [
        "\n",
        "posterior = likelihood[0] * prior"
      ],
      "metadata": {
        "id": "MSkZND4C_acx"
      },
      "execution_count": 124,
      "outputs": []
    },
    {
      "cell_type": "code",
      "source": [
        "posterior"
      ],
      "metadata": {
        "colab": {
          "base_uri": "https://localhost:8080/"
        },
        "id": "tHkuq57IlwlU",
        "outputId": "fbb7d970-3ed9-4eb6-bc42-067c967c733b"
      },
      "execution_count": 125,
      "outputs": [
        {
          "output_type": "execute_result",
          "data": {
            "text/plain": [
              "6.499491878354915e-13"
            ]
          },
          "metadata": {},
          "execution_count": 125
        }
      ]
    },
    {
      "cell_type": "code",
      "source": [],
      "metadata": {
        "id": "aG_CSdbwl6tT"
      },
      "execution_count": null,
      "outputs": []
    },
    {
      "cell_type": "markdown",
      "source": [
        "##degradation data"
      ],
      "metadata": {
        "id": "PBRUJCyLmtxP"
      }
    },
    {
      "cell_type": "code",
      "source": [
        "from scipy.sparse.construct import random\n",
        "data_1 = []\n",
        "\n",
        "for a in range(1000):\n",
        "    data = []\n",
        "    for i in range(10):\n",
        "        aa = gamma.rvs(2)\n",
        "        data.append(aa)\n",
        "    data_1.append(data)\n",
        "df = pd.DataFrame(data_1)\n"
      ],
      "metadata": {
        "id": "a3Jb_W8Km0ES"
      },
      "execution_count": 147,
      "outputs": []
    },
    {
      "cell_type": "code",
      "source": [
        "df"
      ],
      "metadata": {
        "colab": {
          "base_uri": "https://localhost:8080/",
          "height": 488
        },
        "id": "ABujTksGpYvd",
        "outputId": "0a94f098-f90f-4f46-a36d-52353b4e1391"
      },
      "execution_count": 148,
      "outputs": [
        {
          "output_type": "execute_result",
          "data": {
            "text/plain": [
              "            0         1         2         3         4         5         6  \\\n",
              "0    0.400686  1.062207  2.790484  4.400620  3.218440  5.648718  0.992648   \n",
              "1    0.532120  2.883040  1.342182  0.143803  0.097647  0.912906  0.436875   \n",
              "2    1.387034  2.192782  1.687327  4.827781  0.166501  1.664702  0.964213   \n",
              "3    5.308011  0.206982  1.874242  1.863401  3.779928  4.489725  0.995171   \n",
              "4    1.958229  1.451883  1.194235  1.680916  1.702402  0.878690  3.886395   \n",
              "..        ...       ...       ...       ...       ...       ...       ...   \n",
              "995  0.604276  3.163468  2.029285  2.864069  0.701971  0.564196  2.610024   \n",
              "996  0.247142  2.527066  3.162828  3.193813  1.162687  2.350651  1.427463   \n",
              "997  1.003988  1.109677  3.351419  4.394415  4.529340  1.382894  2.611358   \n",
              "998  0.887383  1.665311  3.526729  1.087881  3.450150  4.557145  0.790158   \n",
              "999  1.292007  3.572661  5.670874  0.809890  4.557468  1.205870  1.148901   \n",
              "\n",
              "            7         8         9  \n",
              "0    1.303718  0.635974  2.754500  \n",
              "1    0.483374  4.770621  1.651314  \n",
              "2    0.637119  1.046762  5.872965  \n",
              "3    1.661972  1.300942  5.915247  \n",
              "4    1.439619  0.801404  0.527840  \n",
              "..        ...       ...       ...  \n",
              "995  3.093667  0.647882  1.524790  \n",
              "996  1.226776  1.772671  1.067965  \n",
              "997  0.345963  3.400803  2.446681  \n",
              "998  2.063558  2.506048  0.316820  \n",
              "999  1.380564  2.041487  3.415123  \n",
              "\n",
              "[1000 rows x 10 columns]"
            ],
            "text/html": [
              "\n",
              "  <div id=\"df-b9293896-54d9-4170-9d15-b7fce3ecf00e\">\n",
              "    <div class=\"colab-df-container\">\n",
              "      <div>\n",
              "<style scoped>\n",
              "    .dataframe tbody tr th:only-of-type {\n",
              "        vertical-align: middle;\n",
              "    }\n",
              "\n",
              "    .dataframe tbody tr th {\n",
              "        vertical-align: top;\n",
              "    }\n",
              "\n",
              "    .dataframe thead th {\n",
              "        text-align: right;\n",
              "    }\n",
              "</style>\n",
              "<table border=\"1\" class=\"dataframe\">\n",
              "  <thead>\n",
              "    <tr style=\"text-align: right;\">\n",
              "      <th></th>\n",
              "      <th>0</th>\n",
              "      <th>1</th>\n",
              "      <th>2</th>\n",
              "      <th>3</th>\n",
              "      <th>4</th>\n",
              "      <th>5</th>\n",
              "      <th>6</th>\n",
              "      <th>7</th>\n",
              "      <th>8</th>\n",
              "      <th>9</th>\n",
              "    </tr>\n",
              "  </thead>\n",
              "  <tbody>\n",
              "    <tr>\n",
              "      <th>0</th>\n",
              "      <td>0.400686</td>\n",
              "      <td>1.062207</td>\n",
              "      <td>2.790484</td>\n",
              "      <td>4.400620</td>\n",
              "      <td>3.218440</td>\n",
              "      <td>5.648718</td>\n",
              "      <td>0.992648</td>\n",
              "      <td>1.303718</td>\n",
              "      <td>0.635974</td>\n",
              "      <td>2.754500</td>\n",
              "    </tr>\n",
              "    <tr>\n",
              "      <th>1</th>\n",
              "      <td>0.532120</td>\n",
              "      <td>2.883040</td>\n",
              "      <td>1.342182</td>\n",
              "      <td>0.143803</td>\n",
              "      <td>0.097647</td>\n",
              "      <td>0.912906</td>\n",
              "      <td>0.436875</td>\n",
              "      <td>0.483374</td>\n",
              "      <td>4.770621</td>\n",
              "      <td>1.651314</td>\n",
              "    </tr>\n",
              "    <tr>\n",
              "      <th>2</th>\n",
              "      <td>1.387034</td>\n",
              "      <td>2.192782</td>\n",
              "      <td>1.687327</td>\n",
              "      <td>4.827781</td>\n",
              "      <td>0.166501</td>\n",
              "      <td>1.664702</td>\n",
              "      <td>0.964213</td>\n",
              "      <td>0.637119</td>\n",
              "      <td>1.046762</td>\n",
              "      <td>5.872965</td>\n",
              "    </tr>\n",
              "    <tr>\n",
              "      <th>3</th>\n",
              "      <td>5.308011</td>\n",
              "      <td>0.206982</td>\n",
              "      <td>1.874242</td>\n",
              "      <td>1.863401</td>\n",
              "      <td>3.779928</td>\n",
              "      <td>4.489725</td>\n",
              "      <td>0.995171</td>\n",
              "      <td>1.661972</td>\n",
              "      <td>1.300942</td>\n",
              "      <td>5.915247</td>\n",
              "    </tr>\n",
              "    <tr>\n",
              "      <th>4</th>\n",
              "      <td>1.958229</td>\n",
              "      <td>1.451883</td>\n",
              "      <td>1.194235</td>\n",
              "      <td>1.680916</td>\n",
              "      <td>1.702402</td>\n",
              "      <td>0.878690</td>\n",
              "      <td>3.886395</td>\n",
              "      <td>1.439619</td>\n",
              "      <td>0.801404</td>\n",
              "      <td>0.527840</td>\n",
              "    </tr>\n",
              "    <tr>\n",
              "      <th>...</th>\n",
              "      <td>...</td>\n",
              "      <td>...</td>\n",
              "      <td>...</td>\n",
              "      <td>...</td>\n",
              "      <td>...</td>\n",
              "      <td>...</td>\n",
              "      <td>...</td>\n",
              "      <td>...</td>\n",
              "      <td>...</td>\n",
              "      <td>...</td>\n",
              "    </tr>\n",
              "    <tr>\n",
              "      <th>995</th>\n",
              "      <td>0.604276</td>\n",
              "      <td>3.163468</td>\n",
              "      <td>2.029285</td>\n",
              "      <td>2.864069</td>\n",
              "      <td>0.701971</td>\n",
              "      <td>0.564196</td>\n",
              "      <td>2.610024</td>\n",
              "      <td>3.093667</td>\n",
              "      <td>0.647882</td>\n",
              "      <td>1.524790</td>\n",
              "    </tr>\n",
              "    <tr>\n",
              "      <th>996</th>\n",
              "      <td>0.247142</td>\n",
              "      <td>2.527066</td>\n",
              "      <td>3.162828</td>\n",
              "      <td>3.193813</td>\n",
              "      <td>1.162687</td>\n",
              "      <td>2.350651</td>\n",
              "      <td>1.427463</td>\n",
              "      <td>1.226776</td>\n",
              "      <td>1.772671</td>\n",
              "      <td>1.067965</td>\n",
              "    </tr>\n",
              "    <tr>\n",
              "      <th>997</th>\n",
              "      <td>1.003988</td>\n",
              "      <td>1.109677</td>\n",
              "      <td>3.351419</td>\n",
              "      <td>4.394415</td>\n",
              "      <td>4.529340</td>\n",
              "      <td>1.382894</td>\n",
              "      <td>2.611358</td>\n",
              "      <td>0.345963</td>\n",
              "      <td>3.400803</td>\n",
              "      <td>2.446681</td>\n",
              "    </tr>\n",
              "    <tr>\n",
              "      <th>998</th>\n",
              "      <td>0.887383</td>\n",
              "      <td>1.665311</td>\n",
              "      <td>3.526729</td>\n",
              "      <td>1.087881</td>\n",
              "      <td>3.450150</td>\n",
              "      <td>4.557145</td>\n",
              "      <td>0.790158</td>\n",
              "      <td>2.063558</td>\n",
              "      <td>2.506048</td>\n",
              "      <td>0.316820</td>\n",
              "    </tr>\n",
              "    <tr>\n",
              "      <th>999</th>\n",
              "      <td>1.292007</td>\n",
              "      <td>3.572661</td>\n",
              "      <td>5.670874</td>\n",
              "      <td>0.809890</td>\n",
              "      <td>4.557468</td>\n",
              "      <td>1.205870</td>\n",
              "      <td>1.148901</td>\n",
              "      <td>1.380564</td>\n",
              "      <td>2.041487</td>\n",
              "      <td>3.415123</td>\n",
              "    </tr>\n",
              "  </tbody>\n",
              "</table>\n",
              "<p>1000 rows × 10 columns</p>\n",
              "</div>\n",
              "      <button class=\"colab-df-convert\" onclick=\"convertToInteractive('df-b9293896-54d9-4170-9d15-b7fce3ecf00e')\"\n",
              "              title=\"Convert this dataframe to an interactive table.\"\n",
              "              style=\"display:none;\">\n",
              "        \n",
              "  <svg xmlns=\"http://www.w3.org/2000/svg\" height=\"24px\"viewBox=\"0 0 24 24\"\n",
              "       width=\"24px\">\n",
              "    <path d=\"M0 0h24v24H0V0z\" fill=\"none\"/>\n",
              "    <path d=\"M18.56 5.44l.94 2.06.94-2.06 2.06-.94-2.06-.94-.94-2.06-.94 2.06-2.06.94zm-11 1L8.5 8.5l.94-2.06 2.06-.94-2.06-.94L8.5 2.5l-.94 2.06-2.06.94zm10 10l.94 2.06.94-2.06 2.06-.94-2.06-.94-.94-2.06-.94 2.06-2.06.94z\"/><path d=\"M17.41 7.96l-1.37-1.37c-.4-.4-.92-.59-1.43-.59-.52 0-1.04.2-1.43.59L10.3 9.45l-7.72 7.72c-.78.78-.78 2.05 0 2.83L4 21.41c.39.39.9.59 1.41.59.51 0 1.02-.2 1.41-.59l7.78-7.78 2.81-2.81c.8-.78.8-2.07 0-2.86zM5.41 20L4 18.59l7.72-7.72 1.47 1.35L5.41 20z\"/>\n",
              "  </svg>\n",
              "      </button>\n",
              "      \n",
              "  <style>\n",
              "    .colab-df-container {\n",
              "      display:flex;\n",
              "      flex-wrap:wrap;\n",
              "      gap: 12px;\n",
              "    }\n",
              "\n",
              "    .colab-df-convert {\n",
              "      background-color: #E8F0FE;\n",
              "      border: none;\n",
              "      border-radius: 50%;\n",
              "      cursor: pointer;\n",
              "      display: none;\n",
              "      fill: #1967D2;\n",
              "      height: 32px;\n",
              "      padding: 0 0 0 0;\n",
              "      width: 32px;\n",
              "    }\n",
              "\n",
              "    .colab-df-convert:hover {\n",
              "      background-color: #E2EBFA;\n",
              "      box-shadow: 0px 1px 2px rgba(60, 64, 67, 0.3), 0px 1px 3px 1px rgba(60, 64, 67, 0.15);\n",
              "      fill: #174EA6;\n",
              "    }\n",
              "\n",
              "    [theme=dark] .colab-df-convert {\n",
              "      background-color: #3B4455;\n",
              "      fill: #D2E3FC;\n",
              "    }\n",
              "\n",
              "    [theme=dark] .colab-df-convert:hover {\n",
              "      background-color: #434B5C;\n",
              "      box-shadow: 0px 1px 3px 1px rgba(0, 0, 0, 0.15);\n",
              "      filter: drop-shadow(0px 1px 2px rgba(0, 0, 0, 0.3));\n",
              "      fill: #FFFFFF;\n",
              "    }\n",
              "  </style>\n",
              "\n",
              "      <script>\n",
              "        const buttonEl =\n",
              "          document.querySelector('#df-b9293896-54d9-4170-9d15-b7fce3ecf00e button.colab-df-convert');\n",
              "        buttonEl.style.display =\n",
              "          google.colab.kernel.accessAllowed ? 'block' : 'none';\n",
              "\n",
              "        async function convertToInteractive(key) {\n",
              "          const element = document.querySelector('#df-b9293896-54d9-4170-9d15-b7fce3ecf00e');\n",
              "          const dataTable =\n",
              "            await google.colab.kernel.invokeFunction('convertToInteractive',\n",
              "                                                     [key], {});\n",
              "          if (!dataTable) return;\n",
              "\n",
              "          const docLinkHtml = 'Like what you see? Visit the ' +\n",
              "            '<a target=\"_blank\" href=https://colab.research.google.com/notebooks/data_table.ipynb>data table notebook</a>'\n",
              "            + ' to learn more about interactive tables.';\n",
              "          element.innerHTML = '';\n",
              "          dataTable['output_type'] = 'display_data';\n",
              "          await google.colab.output.renderOutput(dataTable, element);\n",
              "          const docLink = document.createElement('div');\n",
              "          docLink.innerHTML = docLinkHtml;\n",
              "          element.appendChild(docLink);\n",
              "        }\n",
              "      </script>\n",
              "    </div>\n",
              "  </div>\n",
              "  "
            ]
          },
          "metadata": {},
          "execution_count": 148
        }
      ]
    },
    {
      "cell_type": "code",
      "source": [
        "param = dist.fit(df.iloc[:,1])\n",
        "arg = param[:-2]"
      ],
      "metadata": {
        "id": "cdQJYxetsG-E"
      },
      "execution_count": 163,
      "outputs": []
    },
    {
      "cell_type": "code",
      "source": [
        "para_ = []\n",
        "for i in range(10):\n",
        "    param = dist.fit(df.iloc[:,i])\n",
        "    arg = param[:-2]\n",
        "    para_.append(arg)\n",
        "P_para = pd.DataFrame(para_)"
      ],
      "metadata": {
        "id": "5JK0k_hlyajm"
      },
      "execution_count": 167,
      "outputs": []
    },
    {
      "cell_type": "code",
      "source": [
        "P_para"
      ],
      "metadata": {
        "colab": {
          "base_uri": "https://localhost:8080/",
          "height": 363
        },
        "id": "_yyCUzv_yGBI",
        "outputId": "ae08bb92-280d-443e-861a-8f8e9a77619f"
      },
      "execution_count": 168,
      "outputs": [
        {
          "output_type": "execute_result",
          "data": {
            "text/plain": [
              "          0\n",
              "0  1.925540\n",
              "1  1.955124\n",
              "2  2.020299\n",
              "3  2.038789\n",
              "4  2.005230\n",
              "5  1.859113\n",
              "6  1.941216\n",
              "7  1.956887\n",
              "8  1.985157\n",
              "9  2.157034"
            ],
            "text/html": [
              "\n",
              "  <div id=\"df-c5c75159-297f-407b-aa02-2f2af762f0fd\">\n",
              "    <div class=\"colab-df-container\">\n",
              "      <div>\n",
              "<style scoped>\n",
              "    .dataframe tbody tr th:only-of-type {\n",
              "        vertical-align: middle;\n",
              "    }\n",
              "\n",
              "    .dataframe tbody tr th {\n",
              "        vertical-align: top;\n",
              "    }\n",
              "\n",
              "    .dataframe thead th {\n",
              "        text-align: right;\n",
              "    }\n",
              "</style>\n",
              "<table border=\"1\" class=\"dataframe\">\n",
              "  <thead>\n",
              "    <tr style=\"text-align: right;\">\n",
              "      <th></th>\n",
              "      <th>0</th>\n",
              "    </tr>\n",
              "  </thead>\n",
              "  <tbody>\n",
              "    <tr>\n",
              "      <th>0</th>\n",
              "      <td>1.925540</td>\n",
              "    </tr>\n",
              "    <tr>\n",
              "      <th>1</th>\n",
              "      <td>1.955124</td>\n",
              "    </tr>\n",
              "    <tr>\n",
              "      <th>2</th>\n",
              "      <td>2.020299</td>\n",
              "    </tr>\n",
              "    <tr>\n",
              "      <th>3</th>\n",
              "      <td>2.038789</td>\n",
              "    </tr>\n",
              "    <tr>\n",
              "      <th>4</th>\n",
              "      <td>2.005230</td>\n",
              "    </tr>\n",
              "    <tr>\n",
              "      <th>5</th>\n",
              "      <td>1.859113</td>\n",
              "    </tr>\n",
              "    <tr>\n",
              "      <th>6</th>\n",
              "      <td>1.941216</td>\n",
              "    </tr>\n",
              "    <tr>\n",
              "      <th>7</th>\n",
              "      <td>1.956887</td>\n",
              "    </tr>\n",
              "    <tr>\n",
              "      <th>8</th>\n",
              "      <td>1.985157</td>\n",
              "    </tr>\n",
              "    <tr>\n",
              "      <th>9</th>\n",
              "      <td>2.157034</td>\n",
              "    </tr>\n",
              "  </tbody>\n",
              "</table>\n",
              "</div>\n",
              "      <button class=\"colab-df-convert\" onclick=\"convertToInteractive('df-c5c75159-297f-407b-aa02-2f2af762f0fd')\"\n",
              "              title=\"Convert this dataframe to an interactive table.\"\n",
              "              style=\"display:none;\">\n",
              "        \n",
              "  <svg xmlns=\"http://www.w3.org/2000/svg\" height=\"24px\"viewBox=\"0 0 24 24\"\n",
              "       width=\"24px\">\n",
              "    <path d=\"M0 0h24v24H0V0z\" fill=\"none\"/>\n",
              "    <path d=\"M18.56 5.44l.94 2.06.94-2.06 2.06-.94-2.06-.94-.94-2.06-.94 2.06-2.06.94zm-11 1L8.5 8.5l.94-2.06 2.06-.94-2.06-.94L8.5 2.5l-.94 2.06-2.06.94zm10 10l.94 2.06.94-2.06 2.06-.94-2.06-.94-.94-2.06-.94 2.06-2.06.94z\"/><path d=\"M17.41 7.96l-1.37-1.37c-.4-.4-.92-.59-1.43-.59-.52 0-1.04.2-1.43.59L10.3 9.45l-7.72 7.72c-.78.78-.78 2.05 0 2.83L4 21.41c.39.39.9.59 1.41.59.51 0 1.02-.2 1.41-.59l7.78-7.78 2.81-2.81c.8-.78.8-2.07 0-2.86zM5.41 20L4 18.59l7.72-7.72 1.47 1.35L5.41 20z\"/>\n",
              "  </svg>\n",
              "      </button>\n",
              "      \n",
              "  <style>\n",
              "    .colab-df-container {\n",
              "      display:flex;\n",
              "      flex-wrap:wrap;\n",
              "      gap: 12px;\n",
              "    }\n",
              "\n",
              "    .colab-df-convert {\n",
              "      background-color: #E8F0FE;\n",
              "      border: none;\n",
              "      border-radius: 50%;\n",
              "      cursor: pointer;\n",
              "      display: none;\n",
              "      fill: #1967D2;\n",
              "      height: 32px;\n",
              "      padding: 0 0 0 0;\n",
              "      width: 32px;\n",
              "    }\n",
              "\n",
              "    .colab-df-convert:hover {\n",
              "      background-color: #E2EBFA;\n",
              "      box-shadow: 0px 1px 2px rgba(60, 64, 67, 0.3), 0px 1px 3px 1px rgba(60, 64, 67, 0.15);\n",
              "      fill: #174EA6;\n",
              "    }\n",
              "\n",
              "    [theme=dark] .colab-df-convert {\n",
              "      background-color: #3B4455;\n",
              "      fill: #D2E3FC;\n",
              "    }\n",
              "\n",
              "    [theme=dark] .colab-df-convert:hover {\n",
              "      background-color: #434B5C;\n",
              "      box-shadow: 0px 1px 3px 1px rgba(0, 0, 0, 0.15);\n",
              "      filter: drop-shadow(0px 1px 2px rgba(0, 0, 0, 0.3));\n",
              "      fill: #FFFFFF;\n",
              "    }\n",
              "  </style>\n",
              "\n",
              "      <script>\n",
              "        const buttonEl =\n",
              "          document.querySelector('#df-c5c75159-297f-407b-aa02-2f2af762f0fd button.colab-df-convert');\n",
              "        buttonEl.style.display =\n",
              "          google.colab.kernel.accessAllowed ? 'block' : 'none';\n",
              "\n",
              "        async function convertToInteractive(key) {\n",
              "          const element = document.querySelector('#df-c5c75159-297f-407b-aa02-2f2af762f0fd');\n",
              "          const dataTable =\n",
              "            await google.colab.kernel.invokeFunction('convertToInteractive',\n",
              "                                                     [key], {});\n",
              "          if (!dataTable) return;\n",
              "\n",
              "          const docLinkHtml = 'Like what you see? Visit the ' +\n",
              "            '<a target=\"_blank\" href=https://colab.research.google.com/notebooks/data_table.ipynb>data table notebook</a>'\n",
              "            + ' to learn more about interactive tables.';\n",
              "          element.innerHTML = '';\n",
              "          dataTable['output_type'] = 'display_data';\n",
              "          await google.colab.output.renderOutput(dataTable, element);\n",
              "          const docLink = document.createElement('div');\n",
              "          docLink.innerHTML = docLinkHtml;\n",
              "          element.appendChild(docLink);\n",
              "        }\n",
              "      </script>\n",
              "    </div>\n",
              "  </div>\n",
              "  "
            ]
          },
          "metadata": {},
          "execution_count": 168
        }
      ]
    },
    {
      "cell_type": "code",
      "source": [
        "from scipy.stats import shapiro\n",
        "\n"
      ],
      "metadata": {
        "id": "rQNtGRoQzQS9"
      },
      "execution_count": 169,
      "outputs": []
    },
    {
      "cell_type": "code",
      "source": [
        "shapiro()"
      ],
      "metadata": {
        "id": "P9g297KQ167I"
      },
      "execution_count": null,
      "outputs": []
    },
    {
      "cell_type": "code",
      "source": [
        "shapiro(para_)"
      ],
      "metadata": {
        "colab": {
          "base_uri": "https://localhost:8080/"
        },
        "id": "9lwgdxilz39y",
        "outputId": "c2e6e200-8928-48e8-f196-8d47d760d2b7"
      },
      "execution_count": 170,
      "outputs": [
        {
          "output_type": "execute_result",
          "data": {
            "text/plain": [
              "ShapiroResult(statistic=0.9455987215042114, pvalue=0.6168107390403748)"
            ]
          },
          "metadata": {},
          "execution_count": 170
        }
      ]
    },
    {
      "cell_type": "code",
      "source": [
        "prior = stats.norm.pdf(para_[0])\n"
      ],
      "metadata": {
        "id": "2VEO1jOL2zZo"
      },
      "execution_count": 172,
      "outputs": []
    },
    {
      "cell_type": "code",
      "source": [
        "de_data_2 = df.iloc[:,2]\n",
        "likelihood = stats.gamma.pdf(de_data_2,2)\n"
      ],
      "metadata": {
        "id": "4Ac18gLJ4nf8"
      },
      "execution_count": 177,
      "outputs": []
    },
    {
      "cell_type": "code",
      "source": [
        "posterior = likelihood[0] * prior\n",
        "posterior"
      ],
      "metadata": {
        "colab": {
          "base_uri": "https://localhost:8080/"
        },
        "id": "gZLnIMcK5tmx",
        "outputId": "c7691644-964e-4ebe-9711-45d1672fcdcd"
      },
      "execution_count": 179,
      "outputs": [
        {
          "output_type": "execute_result",
          "data": {
            "text/plain": [
              "array([0.01070484])"
            ]
          },
          "metadata": {},
          "execution_count": 179
        }
      ]
    },
    {
      "cell_type": "markdown",
      "source": [
        "## real time Reliability"
      ],
      "metadata": {
        "id": "qPY58IGE58q1"
      }
    },
    {
      "cell_type": "code",
      "source": [
        "print(\"Probability of failure before time 2 :\", round(scipy.stats.gamma.cdf(2, *posterior, loc=loc, scale=scale)*100,2),\"%\")"
      ],
      "metadata": {
        "colab": {
          "base_uri": "https://localhost:8080/"
        },
        "id": "u49O7VX653pd",
        "outputId": "5bd491cb-4ed7-4416-e3e4-5d5acea046bc"
      },
      "execution_count": 185,
      "outputs": [
        {
          "output_type": "stream",
          "name": "stdout",
          "text": [
            "Probability of failure before time 2 : 99.95 %\n"
          ]
        }
      ]
    },
    {
      "cell_type": "code",
      "source": [
        "# Reliability estimation after time t\n",
        "print(\"Reliability Estimation at time 2:\", round(scipy.stats.gamma.sf(2, *posterior, loc=loc, scale=scale)*100,2),\"%\")\n",
        "\n"
      ],
      "metadata": {
        "colab": {
          "base_uri": "https://localhost:8080/"
        },
        "id": "i2_N5IGr6zqW",
        "outputId": "89565d43-2128-4287-a7c1-de3807c8c851"
      },
      "execution_count": 187,
      "outputs": [
        {
          "output_type": "stream",
          "name": "stdout",
          "text": [
            "Reliability Estimation at time 2: 0.05 %\n"
          ]
        }
      ]
    }
  ]
}