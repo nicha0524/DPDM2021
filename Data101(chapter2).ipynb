{
  "nbformat": 4,
  "nbformat_minor": 0,
  "metadata": {
    "colab": {
      "name": "Data101(chapter2).ipynb",
      "provenance": [],
      "authorship_tag": "ABX9TyM+Q+cg99C/5hCWnuDDH7H4",
      "include_colab_link": true
    },
    "kernelspec": {
      "name": "python3",
      "display_name": "Python 3"
    },
    "language_info": {
      "name": "python"
    }
  },
  "cells": [
    {
      "cell_type": "markdown",
      "metadata": {
        "id": "view-in-github",
        "colab_type": "text"
      },
      "source": [
        "<a href=\"https://colab.research.google.com/github/nicha0524/DPDM2021/blob/main/Data101(chapter2).ipynb\" target=\"_parent\"><img src=\"https://colab.research.google.com/assets/colab-badge.svg\" alt=\"Open In Colab\"/></a>"
      ]
    },
    {
      "cell_type": "code",
      "metadata": {
        "id": "QtSG5Cla_Kxp"
      },
      "source": [
        "import pandas # import papandas คือโหลด packpackage ที่มีชื่อว่า pandas"
      ],
      "execution_count": null,
      "outputs": []
    },
    {
      "cell_type": "markdown",
      "metadata": {
        "id": "QUmbn9t1__80"
      },
      "source": [
        "pandas คือ package ที่มีคนพัฒนาขึ้นมาเพื่อใช้จัดการข้อมูลที่มีเป็นลักษณะตารางซึ่งใน pandas เรียกว่า dataframe"
      ]
    },
    {
      "cell_type": "code",
      "metadata": {
        "id": "oTynB2eMAowJ"
      },
      "source": [
        "import pandas as pd # โหลด packpackage pandas แล้วตั้งชื่อว่า pd"
      ],
      "execution_count": null,
      "outputs": []
    },
    {
      "cell_type": "code",
      "metadata": {
        "id": "P20ctlFK_w_t"
      },
      "source": [
        " "
      ],
      "execution_count": null,
      "outputs": []
    },
    {
      "cell_type": "markdown",
      "metadata": {
        "id": "9wIn4ArrBSMd"
      },
      "source": [
        "ไฟล์ .CSV (CSV= comma separated value)"
      ]
    },
    {
      "cell_type": "code",
      "metadata": {
        "id": "loCAav96Beyp"
      },
      "source": [
        "data_df=pd.read_csv('data.csv') # 'ข้อความที่ต้องการแสดงผล'"
      ],
      "execution_count": null,
      "outputs": []
    },
    {
      "cell_type": "code",
      "metadata": {
        "colab": {
          "base_uri": "https://localhost:8080/",
          "height": 110
        },
        "id": "lButOmbgECzx",
        "outputId": "0732e174-2eb6-4b39-e1c6-ad4d50d48839"
      },
      "source": [
        "data_df"
      ],
      "execution_count": null,
      "outputs": [
        {
          "output_type": "execute_result",
          "data": {
            "text/html": [
              "<div>\n",
              "<style scoped>\n",
              "    .dataframe tbody tr th:only-of-type {\n",
              "        vertical-align: middle;\n",
              "    }\n",
              "\n",
              "    .dataframe tbody tr th {\n",
              "        vertical-align: top;\n",
              "    }\n",
              "\n",
              "    .dataframe thead th {\n",
              "        text-align: right;\n",
              "    }\n",
              "</style>\n",
              "<table border=\"1\" class=\"dataframe\">\n",
              "  <thead>\n",
              "    <tr style=\"text-align: right;\">\n",
              "      <th></th>\n",
              "      <th>Car_id</th>\n",
              "      <th>\\tModel</th>\n",
              "      <th>Year</th>\n",
              "      <th>Value</th>\n",
              "      <th>Person_id</th>\n",
              "    </tr>\n",
              "  </thead>\n",
              "  <tbody>\n",
              "    <tr>\n",
              "      <th>0</th>\n",
              "      <td>101</td>\n",
              "      <td>bentley</td>\n",
              "      <td>1973</td>\n",
              "      <td>100000</td>\n",
              "      <td>1</td>\n",
              "    </tr>\n",
              "    <tr>\n",
              "      <th>1</th>\n",
              "      <td>102</td>\n",
              "      <td>rolls royce</td>\n",
              "      <td>1965</td>\n",
              "      <td>330000</td>\n",
              "      <td>1</td>\n",
              "    </tr>\n",
              "  </tbody>\n",
              "</table>\n",
              "</div>"
            ],
            "text/plain": [
              "   Car_id      \\tModel  Year   Value  Person_id\n",
              "0     101      bentley  1973  100000          1\n",
              "1     102  rolls royce  1965  330000          1"
            ]
          },
          "metadata": {
            "tags": []
          },
          "execution_count": 17
        }
      ]
    },
    {
      "cell_type": "markdown",
      "metadata": {
        "id": "JwfbsPsB0U12"
      },
      "source": [
        "#Basic pypython\n",
        "\n",
        "###variable\n",
        "-ข้อกำหนดในการตั้งชื่อตัวแปร\n",
        "\n",
        "    1.ชื่อห้ามมีเว้นวรรค\n",
        "    2.(พยายามใช้ภาษาอังกฤษ)\n",
        "    3.ตัวเล็ก \"b\" กับตัวใหญ่ \"B\" ต่างกัน (case sensitive)\n",
        "    4.ห้ามใช้ตัวเลขเป็นตัวหน้า\n"
      ]
    },
    {
      "cell_type": "code",
      "metadata": {
        "id": "kwNXHjpj6fgM"
      },
      "source": [
        "variable_a=12\n",
        "variable_b=3.14\n",
        "variable_c='A' #  '  ' (doyble quote) หรือ ' (quote)\n",
        "variable_d='MSc stat kku'"
      ],
      "execution_count": null,
      "outputs": []
    },
    {
      "cell_type": "code",
      "metadata": {
        "id": "lz0KfLgX_U58"
      },
      "source": [
        "variable_e='11'"
      ],
      "execution_count": null,
      "outputs": []
    },
    {
      "cell_type": "code",
      "metadata": {
        "id": "JNReeCcJ_Z0h"
      },
      "source": [
        ""
      ],
      "execution_count": null,
      "outputs": []
    },
    {
      "cell_type": "code",
      "metadata": {
        "id": "gfdQb6r-8Jn7"
      },
      "source": [
        "variable_x=variable_a+variable_b"
      ],
      "execution_count": null,
      "outputs": []
    },
    {
      "cell_type": "code",
      "metadata": {
        "colab": {
          "base_uri": "https://localhost:8080/"
        },
        "id": "M3tWUtgx9aHz",
        "outputId": "62f8d375-ce7f-4cc3-9bba-215ebe0db90a"
      },
      "source": [
        "\n",
        "variable_x\n"
      ],
      "execution_count": null,
      "outputs": [
        {
          "output_type": "execute_result",
          "data": {
            "text/plain": [
              "15.14"
            ]
          },
          "metadata": {
            "tags": []
          },
          "execution_count": 25
        }
      ]
    },
    {
      "cell_type": "code",
      "metadata": {
        "colab": {
          "base_uri": "https://localhost:8080/"
        },
        "id": "Qdwm6cER9qcU",
        "outputId": "92da1925-8418-4bbf-a362-ddd3fbf082e7"
      },
      "source": [
        "print(variable_a+variable_b)"
      ],
      "execution_count": null,
      "outputs": [
        {
          "output_type": "stream",
          "text": [
            "15.14\n"
          ],
          "name": "stdout"
        }
      ]
    },
    {
      "cell_type": "code",
      "metadata": {
        "id": "Sdyxtjsu-Q8L"
      },
      "source": [
        "variable_z=variable_a\n"
      ],
      "execution_count": null,
      "outputs": []
    },
    {
      "cell_type": "code",
      "metadata": {
        "colab": {
          "base_uri": "https://localhost:8080/"
        },
        "id": "pA3QiBP4-bqD",
        "outputId": "0982038f-cd72-43e1-b327-b8cf6b621df5"
      },
      "source": [
        "variable_z"
      ],
      "execution_count": null,
      "outputs": [
        {
          "output_type": "execute_result",
          "data": {
            "text/plain": [
              "12"
            ]
          },
          "metadata": {
            "tags": []
          },
          "execution_count": 29
        }
      ]
    },
    {
      "cell_type": "code",
      "metadata": {
        "id": "qmY0Ztvy-hgS"
      },
      "source": [
        ""
      ],
      "execution_count": null,
      "outputs": []
    },
    {
      "cell_type": "code",
      "metadata": {
        "colab": {
          "base_uri": "https://localhost:8080/",
          "height": 163
        },
        "id": "SbT8apQ7_bsy",
        "outputId": "fbcf4935-60be-49cc-baaf-af1c84269bb7"
      },
      "source": [
        "variable_a+variable_e #บวกกันไม่ได้ เพราะ variable_a ข้อมูลที่เก็บเป็นตัวเลข แต่ variable_e เก็บข้อมูลเป็นตัวอักษร\n"
      ],
      "execution_count": null,
      "outputs": [
        {
          "output_type": "error",
          "ename": "TypeError",
          "evalue": "ignored",
          "traceback": [
            "\u001b[0;31m---------------------------------------------------------------------------\u001b[0m",
            "\u001b[0;31mTypeError\u001b[0m                                 Traceback (most recent call last)",
            "\u001b[0;32m<ipython-input-31-3de09f7d44c8>\u001b[0m in \u001b[0;36m<module>\u001b[0;34m()\u001b[0m\n\u001b[0;32m----> 1\u001b[0;31m \u001b[0mvariable_a\u001b[0m\u001b[0;34m+\u001b[0m\u001b[0mvariable_e\u001b[0m\u001b[0;34m\u001b[0m\u001b[0;34m\u001b[0m\u001b[0m\n\u001b[0m",
            "\u001b[0;31mTypeError\u001b[0m: unsupported operand type(s) for +: 'int' and 'str'"
          ]
        }
      ]
    },
    {
      "cell_type": "code",
      "metadata": {
        "colab": {
          "base_uri": "https://localhost:8080/",
          "height": 35
        },
        "id": "SUxtA2NG_-pD",
        "outputId": "9de5d443-b55e-41b7-fb45-ef341ff7a816"
      },
      "source": [
        "variable_c+variable_d"
      ],
      "execution_count": null,
      "outputs": [
        {
          "output_type": "execute_result",
          "data": {
            "application/vnd.google.colaboratory.intrinsic+json": {
              "type": "string"
            },
            "text/plain": [
              "'AMSc stat kku'"
            ]
          },
          "metadata": {
            "tags": []
          },
          "execution_count": 32
        }
      ]
    },
    {
      "cell_type": "code",
      "metadata": {
        "id": "XbvRzAVDAHGY"
      },
      "source": [
        ""
      ],
      "execution_count": null,
      "outputs": []
    },
    {
      "cell_type": "markdown",
      "metadata": {
        "id": "PsbRalKMAY32"
      },
      "source": [
        "###Casting (การแปลงชนิดข้อมูล)\n",
        "    int() จำนวนเต็ม\n",
        "    float() จำนวนจริง ทศนิยม\n",
        "    str() ตัวอักษร\n"
      ]
    },
    {
      "cell_type": "code",
      "metadata": {
        "id": "Hk7qiIis4R71"
      },
      "source": [
        "variable_e+str(variable_a)\n"
      ],
      "execution_count": null,
      "outputs": []
    },
    {
      "cell_type": "code",
      "metadata": {
        "colab": {
          "base_uri": "https://localhost:8080/"
        },
        "id": "g8gAUSiQAupK",
        "outputId": "95d62b5e-256c-4626-d244-77fa3058eb71"
      },
      "source": [
        "type(variable_a) # ตรวจสอบชนิดของตัวแปรด้วย type(........)"
      ],
      "execution_count": null,
      "outputs": [
        {
          "output_type": "execute_result",
          "data": {
            "text/plain": [
              "int"
            ]
          },
          "metadata": {
            "tags": []
          },
          "execution_count": 33
        }
      ]
    },
    {
      "cell_type": "code",
      "metadata": {
        "id": "-LxJDUpABtUD"
      },
      "source": [
        ""
      ],
      "execution_count": null,
      "outputs": []
    },
    {
      "cell_type": "markdown",
      "metadata": {
        "id": "OrUGDZtoB5p6"
      },
      "source": [
        "###Data structure  โครงสร้างข้อมูล"
      ]
    },
    {
      "cell_type": "markdown",
      "metadata": {
        "id": "RT1263PrCGFS"
      },
      "source": [
        "#### list เอาตัวแปรมาต่อกัน"
      ]
    },
    {
      "cell_type": "code",
      "metadata": {
        "id": "vYzj10fdCQhs"
      },
      "source": [
        "list_a=[1,2,3,0.9,'aaz',variable_b] #  [] (square brackets)"
      ],
      "execution_count": null,
      "outputs": []
    },
    {
      "cell_type": "code",
      "metadata": {
        "colab": {
          "base_uri": "https://localhost:8080/"
        },
        "id": "jjDjkOIdCMwJ",
        "outputId": "e7c9108a-8d29-4c48-d867-66545a86db49"
      },
      "source": [
        "list_a"
      ],
      "execution_count": null,
      "outputs": [
        {
          "output_type": "execute_result",
          "data": {
            "text/plain": [
              "[1, 2, 3, 0.9, 'aaz', 3.14]"
            ]
          },
          "metadata": {
            "tags": []
          },
          "execution_count": 35
        }
      ]
    },
    {
      "cell_type": "markdown",
      "metadata": {
        "id": "C8Xk-Dnj5jTq"
      },
      "source": [
        "###indexing\n",
        "\n",
        "    1.ใช้ลำดับในการชี้\n",
        "    2.ลำดับเริ่มจาก 0\n",
        "    3.สามารถชี้จากข้างหลังได้โดยใช้ negative index"
      ]
    },
    {
      "cell_type": "code",
      "metadata": {
        "colab": {
          "base_uri": "https://localhost:8080/",
          "height": 35
        },
        "id": "4vTjDYiQCEEQ",
        "outputId": "226c1b38-6d33-4a60-a727-534e255ec383"
      },
      "source": [
        "list_a[-2] # negative ชี้จากข้างหลัง"
      ],
      "execution_count": null,
      "outputs": [
        {
          "output_type": "execute_result",
          "data": {
            "application/vnd.google.colaboratory.intrinsic+json": {
              "type": "string"
            },
            "text/plain": [
              "'aaz'"
            ]
          },
          "metadata": {
            "tags": []
          },
          "execution_count": 36
        }
      ]
    },
    {
      "cell_type": "code",
      "metadata": {
        "colab": {
          "base_uri": "https://localhost:8080/"
        },
        "id": "0ex8ncKQDFQ_",
        "outputId": "202fbec2-b11f-4418-dcb2-b93a48726790"
      },
      "source": [
        "list_a[0]"
      ],
      "execution_count": null,
      "outputs": [
        {
          "output_type": "execute_result",
          "data": {
            "text/plain": [
              "1"
            ]
          },
          "metadata": {
            "tags": []
          },
          "execution_count": 37
        }
      ]
    },
    {
      "cell_type": "code",
      "metadata": {
        "id": "hy1q8nWJDSkE"
      },
      "source": [
        "list_b=['pizza',list_a]"
      ],
      "execution_count": null,
      "outputs": []
    },
    {
      "cell_type": "code",
      "metadata": {
        "colab": {
          "base_uri": "https://localhost:8080/"
        },
        "id": "RNucUmgjDSwE",
        "outputId": "33bcd645-b0d0-49cc-a469-e868b7aa2625"
      },
      "source": [
        "list_b"
      ],
      "execution_count": null,
      "outputs": [
        {
          "output_type": "execute_result",
          "data": {
            "text/plain": [
              "['pizza', [1, 2, 3, 0.9, 'aaz', 3.14]]"
            ]
          },
          "metadata": {
            "tags": []
          },
          "execution_count": 42
        }
      ]
    },
    {
      "cell_type": "code",
      "metadata": {
        "colab": {
          "base_uri": "https://localhost:8080/"
        },
        "id": "yy7f5LWiDSxf",
        "outputId": "7aa5d19b-a620-4e63-8065-603260358716"
      },
      "source": [
        "list_b[1][3]"
      ],
      "execution_count": null,
      "outputs": [
        {
          "output_type": "execute_result",
          "data": {
            "text/plain": [
              "0.9"
            ]
          },
          "metadata": {
            "tags": []
          },
          "execution_count": 43
        }
      ]
    },
    {
      "cell_type": "markdown",
      "metadata": {
        "id": "OjNkloprEAlx"
      },
      "source": [
        "string คือ list ของ ตัวอักษร '.....'\n",
        "\n",
        "\n",
        "\n"
      ]
    },
    {
      "cell_type": "code",
      "metadata": {
        "colab": {
          "base_uri": "https://localhost:8080/",
          "height": 35
        },
        "id": "QTk8ccwjEE2E",
        "outputId": "c3492ad6-b9ef-4098-a0dc-1efed6111a5c"
      },
      "source": [
        "x='shabu'\n",
        "x[3]\n"
      ],
      "execution_count": null,
      "outputs": [
        {
          "output_type": "execute_result",
          "data": {
            "application/vnd.google.colaboratory.intrinsic+json": {
              "type": "string"
            },
            "text/plain": [
              "'b'"
            ]
          },
          "metadata": {
            "tags": []
          },
          "execution_count": 44
        }
      ]
    },
    {
      "cell_type": "code",
      "metadata": {
        "colab": {
          "base_uri": "https://localhost:8080/"
        },
        "id": "6v82-D0fDS0_",
        "outputId": "43f124cb-0919-4c4e-8c83-3353e5032ae0"
      },
      "source": [
        "print(list_a)\n",
        "print(list_b)"
      ],
      "execution_count": null,
      "outputs": [
        {
          "output_type": "stream",
          "text": [
            "[1, 2, 3, 0.9, 'aaz', 3.14]\n",
            "['pizza', [1, 2, 3, 0.9, 'aaz', 3.14]]\n"
          ],
          "name": "stdout"
        }
      ]
    },
    {
      "cell_type": "code",
      "metadata": {
        "colab": {
          "base_uri": "https://localhost:8080/"
        },
        "id": "8sy7Z1SyDS3b",
        "outputId": "6cba9526-88e0-4200-e933-6951945bb4ac"
      },
      "source": [
        "list_a+list_b"
      ],
      "execution_count": null,
      "outputs": [
        {
          "output_type": "execute_result",
          "data": {
            "text/plain": [
              "[1, 2, 3, 0.9, 'aaz', 3.14, 'pizza', [1, 2, 3, 0.9, 'aaz', 3.14]]"
            ]
          },
          "metadata": {
            "tags": []
          },
          "execution_count": 46
        }
      ]
    },
    {
      "cell_type": "markdown",
      "metadata": {
        "id": "fMYlkFPX6pg_"
      },
      "source": [
        "###การสร้าง list\n",
        "\n",
        "    1.สร้าง list ว่าง\n",
        "    2.เพิ่มสมาชิกลงไปใน list"
      ]
    },
    {
      "cell_type": "markdown",
      "metadata": {
        "id": "xtQBgrDl7K_L"
      },
      "source": [
        "1.การสร้าง list ว่าง"
      ]
    },
    {
      "cell_type": "code",
      "metadata": {
        "id": "i9H5oJ15E5mj"
      },
      "source": [
        "list_aa=[] #สร้าง list ว่าง\n"
      ],
      "execution_count": 1,
      "outputs": []
    },
    {
      "cell_type": "code",
      "metadata": {
        "colab": {
          "base_uri": "https://localhost:8080/"
        },
        "id": "o-F1UN9DE5oX",
        "outputId": "089d3273-318b-403a-e307-2378822697ce"
      },
      "source": [
        "list_bb=list()\n",
        "list_bb"
      ],
      "execution_count": 2,
      "outputs": [
        {
          "output_type": "execute_result",
          "data": {
            "text/plain": [
              "[]"
            ]
          },
          "metadata": {
            "tags": []
          },
          "execution_count": 2
        }
      ]
    },
    {
      "cell_type": "markdown",
      "metadata": {
        "id": "HPqz6Tjm7QoG"
      },
      "source": [
        "2.การเพิ่มสมาชอกลงใน list ใช้ (.append())"
      ]
    },
    {
      "cell_type": "code",
      "metadata": {
        "id": "LAkSDwdbE5ri"
      },
      "source": [
        "list_aa.append('chiken')\n",
        "list_aa.append('water')\n",
        "list_aa.append('vegetable') "
      ],
      "execution_count": 3,
      "outputs": []
    },
    {
      "cell_type": "code",
      "metadata": {
        "colab": {
          "base_uri": "https://localhost:8080/",
          "height": 35
        },
        "id": "KexKr1pPE58M",
        "outputId": "24fa633d-47b0-464e-ece6-4bf1af6ce700"
      },
      "source": [
        "list_aa[-1] "
      ],
      "execution_count": 4,
      "outputs": [
        {
          "output_type": "execute_result",
          "data": {
            "application/vnd.google.colaboratory.intrinsic+json": {
              "type": "string"
            },
            "text/plain": [
              "'vegetable'"
            ]
          },
          "metadata": {
            "tags": []
          },
          "execution_count": 4
        }
      ]
    },
    {
      "cell_type": "code",
      "metadata": {
        "id": "5W2B0wQYGoSY"
      },
      "source": [
        "list_aa.append('plate')"
      ],
      "execution_count": 5,
      "outputs": []
    },
    {
      "cell_type": "code",
      "metadata": {
        "id": "Qkvwxkr7GwQx"
      },
      "source": [
        "#เรียกใช้ .append() ก่อน จะอยู่ลำดับแรก"
      ],
      "execution_count": 6,
      "outputs": []
    },
    {
      "cell_type": "markdown",
      "metadata": {
        "id": "UXbVHuYlG8BG"
      },
      "source": [
        "list slicing "
      ]
    },
    {
      "cell_type": "markdown",
      "metadata": {
        "id": "0OXb2vgr7mls"
      },
      "source": [
        "####: (colon)\n",
        "    เราจะตัด list โดยเอาตั้งแต่ [ตัวหน้า:ตัวก่อนตัวหลัง]\n",
        "    ถ้าสัญลักษณ์ทางคณิตศาสตร์ [ตัวหน้า:ตัวหลัง] -> [ตัวหน้า:ตัวหลัง)\n",
        "\n"
      ]
    },
    {
      "cell_type": "code",
      "metadata": {
        "colab": {
          "base_uri": "https://localhost:8080/"
        },
        "id": "dI10w1c5HPFR",
        "outputId": "301ad72f-a323-4f39-de1e-d9b8e1fa8b2b"
      },
      "source": [
        "list_aa"
      ],
      "execution_count": 7,
      "outputs": [
        {
          "output_type": "execute_result",
          "data": {
            "text/plain": [
              "['chiken', 'water', 'vegetable', 'plate']"
            ]
          },
          "metadata": {
            "tags": []
          },
          "execution_count": 7
        }
      ]
    },
    {
      "cell_type": "code",
      "metadata": {
        "colab": {
          "base_uri": "https://localhost:8080/"
        },
        "id": "QC3e0vDnHSAO",
        "outputId": "939b9d64-f2fc-4dfd-8735-da7bda9bed6f"
      },
      "source": [
        "list_aa[1:3]"
      ],
      "execution_count": 8,
      "outputs": [
        {
          "output_type": "execute_result",
          "data": {
            "text/plain": [
              "['water', 'vegetable']"
            ]
          },
          "metadata": {
            "tags": []
          },
          "execution_count": 8
        }
      ]
    },
    {
      "cell_type": "markdown",
      "metadata": {
        "id": "7wI4HbRlJjSl"
      },
      "source": [
        "####Quiz1\n",
        "    ตัดส่วนของ list เหล่านี้มาจาก list_aa\n",
        "      1.'iken'\n",
        "      2.'get'\n",
        "      3.'tab'"
      ]
    },
    {
      "cell_type": "code",
      "metadata": {
        "id": "7r89m317Jnao"
      },
      "source": [
        ""
      ],
      "execution_count": 8,
      "outputs": []
    },
    {
      "cell_type": "code",
      "metadata": {
        "id": "5kUu1oU_L0pK"
      },
      "source": [
        ""
      ],
      "execution_count": 8,
      "outputs": []
    },
    {
      "cell_type": "code",
      "metadata": {
        "colab": {
          "base_uri": "https://localhost:8080/",
          "height": 0
        },
        "id": "L7EsbRZbHSCS",
        "outputId": "b6549868-73a1-4659-c2cd-d7c4f8977e53"
      },
      "source": [
        "list_aa[0][2:]"
      ],
      "execution_count": 9,
      "outputs": [
        {
          "output_type": "execute_result",
          "data": {
            "application/vnd.google.colaboratory.intrinsic+json": {
              "type": "string"
            },
            "text/plain": [
              "'iken'"
            ]
          },
          "metadata": {
            "tags": []
          },
          "execution_count": 9
        }
      ]
    },
    {
      "cell_type": "code",
      "metadata": {
        "colab": {
          "base_uri": "https://localhost:8080/",
          "height": 0
        },
        "id": "YhYLfyEZHSFw",
        "outputId": "9cfd8069-99de-4088-c6b9-195cc024d73b"
      },
      "source": [
        "list_aa[2][2:5]"
      ],
      "execution_count": 10,
      "outputs": [
        {
          "output_type": "execute_result",
          "data": {
            "application/vnd.google.colaboratory.intrinsic+json": {
              "type": "string"
            },
            "text/plain": [
              "'get'"
            ]
          },
          "metadata": {
            "tags": []
          },
          "execution_count": 10
        }
      ]
    },
    {
      "cell_type": "code",
      "metadata": {
        "colab": {
          "base_uri": "https://localhost:8080/",
          "height": 0
        },
        "id": "TIYJcHmgHSH-",
        "outputId": "611dbbbd-47a9-4a44-dbcc-ff8bb912a36a"
      },
      "source": [
        "list_aa[2][4:7]"
      ],
      "execution_count": 11,
      "outputs": [
        {
          "output_type": "execute_result",
          "data": {
            "application/vnd.google.colaboratory.intrinsic+json": {
              "type": "string"
            },
            "text/plain": [
              "'tab'"
            ]
          },
          "metadata": {
            "tags": []
          },
          "execution_count": 11
        }
      ]
    },
    {
      "cell_type": "code",
      "metadata": {
        "id": "i1U9lwx3L1uN"
      },
      "source": [
        ""
      ],
      "execution_count": 11,
      "outputs": []
    },
    {
      "cell_type": "markdown",
      "metadata": {
        "id": "FFSKzvuR-D3v"
      },
      "source": [
        "###Advance list slicing\n",
        "\n",
        "\n",
        "\n"
      ]
    },
    {
      "cell_type": "markdown",
      "metadata": {
        "id": "ErZQAKM8SWwn"
      },
      "source": [
        ""
      ]
    },
    {
      "cell_type": "code",
      "metadata": {
        "id": "iPbxiIsmSMhj",
        "outputId": "a167f2fd-b268-427e-fb7a-a3d20ab2eed1",
        "colab": {
          "base_uri": "https://localhost:8080/",
          "height": 35
        }
      },
      "source": [
        "list_aa[2]"
      ],
      "execution_count": 12,
      "outputs": [
        {
          "output_type": "execute_result",
          "data": {
            "application/vnd.google.colaboratory.intrinsic+json": {
              "type": "string"
            },
            "text/plain": [
              "'vegetable'"
            ]
          },
          "metadata": {
            "tags": []
          },
          "execution_count": 12
        }
      ]
    },
    {
      "cell_type": "code",
      "metadata": {
        "id": "UCAIYgBUSMfI",
        "outputId": "aac6bdd2-c23b-4cbc-abb2-54b0868e47cf",
        "colab": {
          "base_uri": "https://localhost:8080/",
          "height": 35
        }
      },
      "source": [
        "list_aa[2][::2]"
      ],
      "execution_count": 13,
      "outputs": [
        {
          "output_type": "execute_result",
          "data": {
            "application/vnd.google.colaboratory.intrinsic+json": {
              "type": "string"
            },
            "text/plain": [
              "'vgtbe'"
            ]
          },
          "metadata": {
            "tags": []
          },
          "execution_count": 13
        }
      ]
    },
    {
      "cell_type": "code",
      "metadata": {
        "id": "sJ2fopDVSMX8",
        "outputId": "d79ba1fe-4627-4b90-8f3e-08a44235a1b2",
        "colab": {
          "base_uri": "https://localhost:8080/",
          "height": 35
        }
      },
      "source": [
        "list_aa[2][::-1]"
      ],
      "execution_count": 14,
      "outputs": [
        {
          "output_type": "execute_result",
          "data": {
            "application/vnd.google.colaboratory.intrinsic+json": {
              "type": "string"
            },
            "text/plain": [
              "'elbategev'"
            ]
          },
          "metadata": {
            "tags": []
          },
          "execution_count": 14
        }
      ]
    },
    {
      "cell_type": "markdown",
      "metadata": {
        "id": "BBhjsSzAUtgm"
      },
      "source": [
        "###format string"
      ]
    },
    {
      "cell_type": "code",
      "metadata": {
        "id": "matitTgPSMVg",
        "outputId": "69e33448-a260-4e04-c455-7165a49bd9ca",
        "colab": {
          "base_uri": "https://localhost:8080/",
          "height": 35
        }
      },
      "source": [
        "f'I like to eat {list_aa[2]}'#{} curly brackets"
      ],
      "execution_count": 15,
      "outputs": [
        {
          "output_type": "execute_result",
          "data": {
            "application/vnd.google.colaboratory.intrinsic+json": {
              "type": "string"
            },
            "text/plain": [
              "'I like to eat vegetable'"
            ]
          },
          "metadata": {
            "tags": []
          },
          "execution_count": 15
        }
      ]
    },
    {
      "cell_type": "code",
      "metadata": {
        "id": "IUfBZCBtSMJp",
        "outputId": "e6d7e429-e697-4bd3-a7eb-37d8c8cd6dcd",
        "colab": {
          "base_uri": "https://localhost:8080/",
          "height": 35
        }
      },
      "source": [
        "f'9x10={9*10}'"
      ],
      "execution_count": 16,
      "outputs": [
        {
          "output_type": "execute_result",
          "data": {
            "application/vnd.google.colaboratory.intrinsic+json": {
              "type": "string"
            },
            "text/plain": [
              "'9x10=90'"
            ]
          },
          "metadata": {
            "tags": []
          },
          "execution_count": 16
        }
      ]
    },
    {
      "cell_type": "markdown",
      "metadata": {
        "id": "hL_I5W5lUmW6"
      },
      "source": [
        "###loop\n",
        "    for ตัวแปรที่จะรับค่าจากลิสต์ in ลิสต์ที่ต้องการจะวนลูป :\n",
        "      do something\n",
        "      do another thihg"
      ]
    },
    {
      "cell_type": "code",
      "metadata": {
        "id": "2c9630j4Wav7",
        "outputId": "0610814f-addc-4408-c875-e064b265cea6",
        "colab": {
          "base_uri": "https://localhost:8080/"
        }
      },
      "source": [
        "list_aa"
      ],
      "execution_count": 17,
      "outputs": [
        {
          "output_type": "execute_result",
          "data": {
            "text/plain": [
              "['chiken', 'water', 'vegetable', 'plate']"
            ]
          },
          "metadata": {
            "tags": []
          },
          "execution_count": 17
        }
      ]
    },
    {
      "cell_type": "code",
      "metadata": {
        "id": "TYE51WFkUYsi",
        "outputId": "63d5df8b-fa87-4c56-9f6b-466984613ee9",
        "colab": {
          "base_uri": "https://localhost:8080/"
        }
      },
      "source": [
        "for i in list_aa:\n",
        "    print(f'I like to eat {i}')"
      ],
      "execution_count": 25,
      "outputs": [
        {
          "output_type": "stream",
          "text": [
            "I like to eat chiken\n",
            "I like to eat water\n",
            "I like to eat vegetable\n",
            "I like to eat plate\n"
          ],
          "name": "stdout"
        }
      ]
    },
    {
      "cell_type": "code",
      "metadata": {
        "id": "ZKGRE1ZZUY2t",
        "outputId": "803d9e7a-a52f-40b0-a1e5-d5d915e131fc",
        "colab": {
          "base_uri": "https://localhost:8080/"
        }
      },
      "source": [
        "for i in list_aa:\n",
        "  print('Ha')"
      ],
      "execution_count": 23,
      "outputs": [
        {
          "output_type": "stream",
          "text": [
            "Ha\n",
            "Ha\n",
            "Ha\n",
            "Ha\n"
          ],
          "name": "stdout"
        }
      ]
    },
    {
      "cell_type": "code",
      "metadata": {
        "id": "kz-GmdOAUY4N",
        "outputId": "d12943d4-961c-450e-d2d8-8a9e23aaab04",
        "colab": {
          "base_uri": "https://localhost:8080/"
        }
      },
      "source": [
        "for x in [1,3,5,7,9]:\n",
        "  print(f'this x = {x} x/2 ={x/2}')\n"
      ],
      "execution_count": 26,
      "outputs": [
        {
          "output_type": "stream",
          "text": [
            "this x = 1 x/2 =0.5\n",
            "this x = 3 x/2 =1.5\n",
            "this x = 5 x/2 =2.5\n",
            "this x = 7 x/2 =3.5\n",
            "this x = 9 x/2 =4.5\n"
          ],
          "name": "stdout"
        }
      ]
    },
    {
      "cell_type": "code",
      "metadata": {
        "id": "eTPRi5nfUY7O",
        "outputId": "b432abaa-6b28-4e92-8370-f76b11b43171",
        "colab": {
          "base_uri": "https://localhost:8080/"
        }
      },
      "source": [
        "list(range(10))"
      ],
      "execution_count": 27,
      "outputs": [
        {
          "output_type": "execute_result",
          "data": {
            "text/plain": [
              "[0, 1, 2, 3, 4, 5, 6, 7, 8, 9]"
            ]
          },
          "metadata": {
            "tags": []
          },
          "execution_count": 27
        }
      ]
    },
    {
      "cell_type": "code",
      "metadata": {
        "id": "wMyy1WgUYM5z",
        "outputId": "ffe2696a-8ca6-4394-f39f-8fdbee887012",
        "colab": {
          "base_uri": "https://localhost:8080/"
        }
      },
      "source": [
        "for i in range(100):\n",
        "  print(f'Ha{i}',end=' ')"
      ],
      "execution_count": 30,
      "outputs": [
        {
          "output_type": "stream",
          "text": [
            "Ha0 Ha1 Ha2 Ha3 Ha4 Ha5 Ha6 Ha7 Ha8 Ha9 Ha10 Ha11 Ha12 Ha13 Ha14 Ha15 Ha16 Ha17 Ha18 Ha19 Ha20 Ha21 Ha22 Ha23 Ha24 Ha25 Ha26 Ha27 Ha28 Ha29 Ha30 Ha31 Ha32 Ha33 Ha34 Ha35 Ha36 Ha37 Ha38 Ha39 Ha40 Ha41 Ha42 Ha43 Ha44 Ha45 Ha46 Ha47 Ha48 Ha49 Ha50 Ha51 Ha52 Ha53 Ha54 Ha55 Ha56 Ha57 Ha58 Ha59 Ha60 Ha61 Ha62 Ha63 Ha64 Ha65 Ha66 Ha67 Ha68 Ha69 Ha70 Ha71 Ha72 Ha73 Ha74 Ha75 Ha76 Ha77 Ha78 Ha79 Ha80 Ha81 Ha82 Ha83 Ha84 Ha85 Ha86 Ha87 Ha88 Ha89 Ha90 Ha91 Ha92 Ha93 Ha94 Ha95 Ha96 Ha97 Ha98 Ha99 "
          ],
          "name": "stdout"
        }
      ]
    },
    {
      "cell_type": "code",
      "metadata": {
        "id": "ymrdSmpHYM8O",
        "outputId": "901c3127-4938-46d2-ccc5-580720155d74",
        "colab": {
          "base_uri": "https://localhost:8080/"
        }
      },
      "source": [
        "list(range(5,10))"
      ],
      "execution_count": 31,
      "outputs": [
        {
          "output_type": "execute_result",
          "data": {
            "text/plain": [
              "[5, 6, 7, 8, 9]"
            ]
          },
          "metadata": {
            "tags": []
          },
          "execution_count": 31
        }
      ]
    },
    {
      "cell_type": "code",
      "metadata": {
        "id": "o43DEAA2ZTGa",
        "outputId": "900bb040-ecaa-4df0-afe9-c32f5c04917f",
        "colab": {
          "base_uri": "https://localhost:8080/"
        }
      },
      "source": [
        "list(range(5,100,5)) # เริ่มตั้งแต่ 5 จนถึงก่อน 100 ข้ามทีละ5"
      ],
      "execution_count": 32,
      "outputs": [
        {
          "output_type": "execute_result",
          "data": {
            "text/plain": [
              "[5, 10, 15, 20, 25, 30, 35, 40, 45, 50, 55, 60, 65, 70, 75, 80, 85, 90, 95]"
            ]
          },
          "metadata": {
            "tags": []
          },
          "execution_count": 32
        }
      ]
    },
    {
      "cell_type": "code",
      "metadata": {
        "id": "6H-oJyjrZqAM"
      },
      "source": [
        ""
      ],
      "execution_count": null,
      "outputs": []
    },
    {
      "cell_type": "markdown",
      "metadata": {
        "id": "_n0TQ7qYZyj-"
      },
      "source": [
        "### Nested loop ลูปซ้อนลูป"
      ]
    },
    {
      "cell_type": "code",
      "metadata": {
        "id": "C9QDKBSpZqCn",
        "outputId": "3e5d9bc6-e446-4fa7-aa2a-dd9a6e0c4cdb",
        "colab": {
          "base_uri": "https://localhost:8080/"
        }
      },
      "source": [
        "for i in range(3):\n",
        "  print(f'i={i}')\n",
        "  for j in range(2):\n",
        "    print(f'i={i},j={j},i+j={i+j}')\n"
      ],
      "execution_count": 33,
      "outputs": [
        {
          "output_type": "stream",
          "text": [
            "i=0\n",
            "i=0,j=0,i+j=0\n",
            "i=0,j=1,i+j=1\n",
            "i=1\n",
            "i=1,j=0,i+j=1\n",
            "i=1,j=1,i+j=2\n",
            "i=2\n",
            "i=2,j=0,i+j=2\n",
            "i=2,j=1,i+j=3\n"
          ],
          "name": "stdout"
        }
      ]
    },
    {
      "cell_type": "code",
      "metadata": {
        "id": "5VaGELVba7WW"
      },
      "source": [
        ""
      ],
      "execution_count": null,
      "outputs": []
    },
    {
      "cell_type": "markdown",
      "metadata": {
        "id": "NVGIgP33bFZL"
      },
      "source": [
        "Quiz 2"
      ]
    },
    {
      "cell_type": "code",
      "metadata": {
        "id": "yoOQrU9Lc4J-"
      },
      "source": [
        "list_i=[[1]]"
      ],
      "execution_count": 50,
      "outputs": []
    },
    {
      "cell_type": "code",
      "metadata": {
        "id": "ojWx_r7FbIXu",
        "outputId": "abe04947-30a5-4b0c-94b6-529b01180ca8",
        "colab": {
          "base_uri": "https://localhost:8080/"
        }
      },
      "source": [
        "for i in list_i:\n",
        "  print(f'i={i},i={i+i}',)\n",
        "\n",
        "   "
      ],
      "execution_count": 57,
      "outputs": [
        {
          "output_type": "stream",
          "text": [
            "i=[1],i=[1, 1]\n"
          ],
          "name": "stdout"
        }
      ]
    }
  ]
}