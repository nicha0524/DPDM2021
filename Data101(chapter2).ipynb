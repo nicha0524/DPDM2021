{
  "nbformat": 4,
  "nbformat_minor": 0,
  "metadata": {
    "colab": {
      "name": "Data101(chapter2).ipynb",
      "provenance": [],
      "authorship_tag": "ABX9TyM/XA31cVvKGAaFOPQfeiki",
      "include_colab_link": true
    },
    "kernelspec": {
      "name": "python3",
      "display_name": "Python 3"
    },
    "language_info": {
      "name": "python"
    }
  },
  "cells": [
    {
      "cell_type": "markdown",
      "metadata": {
        "id": "view-in-github",
        "colab_type": "text"
      },
      "source": [
        "<a href=\"https://colab.research.google.com/github/nicha0524/DPDM2021/blob/main/Data101(chapter2).ipynb\" target=\"_parent\"><img src=\"https://colab.research.google.com/assets/colab-badge.svg\" alt=\"Open In Colab\"/></a>"
      ]
    },
    {
      "cell_type": "code",
      "metadata": {
        "id": "QtSG5Cla_Kxp"
      },
      "source": [
        "import pandas # import papandas คือโหลด packpackage ที่มีชื่อว่า pandas"
      ],
      "execution_count": 1,
      "outputs": []
    },
    {
      "cell_type": "markdown",
      "metadata": {
        "id": "QUmbn9t1__80"
      },
      "source": [
        "pandas คือ package ที่มีคนพัฒนาขึ้นมาเพื่อใช้จัดการข้อมูลที่มีเป็นลักษณะตารางซึ่งใน pandas เรียกว่า dataframe"
      ]
    },
    {
      "cell_type": "code",
      "metadata": {
        "id": "oTynB2eMAowJ"
      },
      "source": [
        "import pandas as pd # โหลด packpackage pandas แล้วตั้งชื่อว่า pd"
      ],
      "execution_count": 2,
      "outputs": []
    },
    {
      "cell_type": "code",
      "metadata": {
        "id": "P20ctlFK_w_t"
      },
      "source": [
        " "
      ],
      "execution_count": 2,
      "outputs": []
    },
    {
      "cell_type": "markdown",
      "metadata": {
        "id": "9wIn4ArrBSMd"
      },
      "source": [
        "ไฟล์ .CSV (CSV= comma separated value)"
      ]
    },
    {
      "cell_type": "markdown",
      "metadata": {
        "id": "_WROIvo3j_8y"
      },
      "source": [
        ""
      ]
    },
    {
      "cell_type": "code",
      "metadata": {
        "id": "loCAav96Beyp",
        "outputId": "8379b882-22d2-422d-d8cb-56a86de5c4c1",
        "colab": {
          "base_uri": "https://localhost:8080/",
          "height": 372
        }
      },
      "source": [
        "data_df=pd.read_csv('data.csv') # 'ข้อความที่ต้องการแสดงผล'"
      ],
      "execution_count": 3,
      "outputs": [
        {
          "output_type": "error",
          "ename": "FileNotFoundError",
          "evalue": "ignored",
          "traceback": [
            "\u001b[0;31m---------------------------------------------------------------------------\u001b[0m",
            "\u001b[0;31mFileNotFoundError\u001b[0m                         Traceback (most recent call last)",
            "\u001b[0;32m<ipython-input-3-a26b5b5ec41e>\u001b[0m in \u001b[0;36m<module>\u001b[0;34m()\u001b[0m\n\u001b[0;32m----> 1\u001b[0;31m \u001b[0mdata_df\u001b[0m\u001b[0;34m=\u001b[0m\u001b[0mpd\u001b[0m\u001b[0;34m.\u001b[0m\u001b[0mread_csv\u001b[0m\u001b[0;34m(\u001b[0m\u001b[0;34m'data.csv'\u001b[0m\u001b[0;34m)\u001b[0m \u001b[0;31m# 'ข้อความที่ต้องการแสดงผล'\u001b[0m\u001b[0;34m\u001b[0m\u001b[0;34m\u001b[0m\u001b[0m\n\u001b[0m",
            "\u001b[0;32m/usr/local/lib/python3.7/dist-packages/pandas/io/parsers.py\u001b[0m in \u001b[0;36mread_csv\u001b[0;34m(filepath_or_buffer, sep, delimiter, header, names, index_col, usecols, squeeze, prefix, mangle_dupe_cols, dtype, engine, converters, true_values, false_values, skipinitialspace, skiprows, skipfooter, nrows, na_values, keep_default_na, na_filter, verbose, skip_blank_lines, parse_dates, infer_datetime_format, keep_date_col, date_parser, dayfirst, cache_dates, iterator, chunksize, compression, thousands, decimal, lineterminator, quotechar, quoting, doublequote, escapechar, comment, encoding, dialect, error_bad_lines, warn_bad_lines, delim_whitespace, low_memory, memory_map, float_precision)\u001b[0m\n\u001b[1;32m    686\u001b[0m     )\n\u001b[1;32m    687\u001b[0m \u001b[0;34m\u001b[0m\u001b[0m\n\u001b[0;32m--> 688\u001b[0;31m     \u001b[0;32mreturn\u001b[0m \u001b[0m_read\u001b[0m\u001b[0;34m(\u001b[0m\u001b[0mfilepath_or_buffer\u001b[0m\u001b[0;34m,\u001b[0m \u001b[0mkwds\u001b[0m\u001b[0;34m)\u001b[0m\u001b[0;34m\u001b[0m\u001b[0;34m\u001b[0m\u001b[0m\n\u001b[0m\u001b[1;32m    689\u001b[0m \u001b[0;34m\u001b[0m\u001b[0m\n\u001b[1;32m    690\u001b[0m \u001b[0;34m\u001b[0m\u001b[0m\n",
            "\u001b[0;32m/usr/local/lib/python3.7/dist-packages/pandas/io/parsers.py\u001b[0m in \u001b[0;36m_read\u001b[0;34m(filepath_or_buffer, kwds)\u001b[0m\n\u001b[1;32m    452\u001b[0m \u001b[0;34m\u001b[0m\u001b[0m\n\u001b[1;32m    453\u001b[0m     \u001b[0;31m# Create the parser.\u001b[0m\u001b[0;34m\u001b[0m\u001b[0;34m\u001b[0m\u001b[0;34m\u001b[0m\u001b[0m\n\u001b[0;32m--> 454\u001b[0;31m     \u001b[0mparser\u001b[0m \u001b[0;34m=\u001b[0m \u001b[0mTextFileReader\u001b[0m\u001b[0;34m(\u001b[0m\u001b[0mfp_or_buf\u001b[0m\u001b[0;34m,\u001b[0m \u001b[0;34m**\u001b[0m\u001b[0mkwds\u001b[0m\u001b[0;34m)\u001b[0m\u001b[0;34m\u001b[0m\u001b[0;34m\u001b[0m\u001b[0m\n\u001b[0m\u001b[1;32m    455\u001b[0m \u001b[0;34m\u001b[0m\u001b[0m\n\u001b[1;32m    456\u001b[0m     \u001b[0;32mif\u001b[0m \u001b[0mchunksize\u001b[0m \u001b[0;32mor\u001b[0m \u001b[0miterator\u001b[0m\u001b[0;34m:\u001b[0m\u001b[0;34m\u001b[0m\u001b[0;34m\u001b[0m\u001b[0m\n",
            "\u001b[0;32m/usr/local/lib/python3.7/dist-packages/pandas/io/parsers.py\u001b[0m in \u001b[0;36m__init__\u001b[0;34m(self, f, engine, **kwds)\u001b[0m\n\u001b[1;32m    946\u001b[0m             \u001b[0mself\u001b[0m\u001b[0;34m.\u001b[0m\u001b[0moptions\u001b[0m\u001b[0;34m[\u001b[0m\u001b[0;34m\"has_index_names\"\u001b[0m\u001b[0;34m]\u001b[0m \u001b[0;34m=\u001b[0m \u001b[0mkwds\u001b[0m\u001b[0;34m[\u001b[0m\u001b[0;34m\"has_index_names\"\u001b[0m\u001b[0;34m]\u001b[0m\u001b[0;34m\u001b[0m\u001b[0;34m\u001b[0m\u001b[0m\n\u001b[1;32m    947\u001b[0m \u001b[0;34m\u001b[0m\u001b[0m\n\u001b[0;32m--> 948\u001b[0;31m         \u001b[0mself\u001b[0m\u001b[0;34m.\u001b[0m\u001b[0m_make_engine\u001b[0m\u001b[0;34m(\u001b[0m\u001b[0mself\u001b[0m\u001b[0;34m.\u001b[0m\u001b[0mengine\u001b[0m\u001b[0;34m)\u001b[0m\u001b[0;34m\u001b[0m\u001b[0;34m\u001b[0m\u001b[0m\n\u001b[0m\u001b[1;32m    949\u001b[0m \u001b[0;34m\u001b[0m\u001b[0m\n\u001b[1;32m    950\u001b[0m     \u001b[0;32mdef\u001b[0m \u001b[0mclose\u001b[0m\u001b[0;34m(\u001b[0m\u001b[0mself\u001b[0m\u001b[0;34m)\u001b[0m\u001b[0;34m:\u001b[0m\u001b[0;34m\u001b[0m\u001b[0;34m\u001b[0m\u001b[0m\n",
            "\u001b[0;32m/usr/local/lib/python3.7/dist-packages/pandas/io/parsers.py\u001b[0m in \u001b[0;36m_make_engine\u001b[0;34m(self, engine)\u001b[0m\n\u001b[1;32m   1178\u001b[0m     \u001b[0;32mdef\u001b[0m \u001b[0m_make_engine\u001b[0m\u001b[0;34m(\u001b[0m\u001b[0mself\u001b[0m\u001b[0;34m,\u001b[0m \u001b[0mengine\u001b[0m\u001b[0;34m=\u001b[0m\u001b[0;34m\"c\"\u001b[0m\u001b[0;34m)\u001b[0m\u001b[0;34m:\u001b[0m\u001b[0;34m\u001b[0m\u001b[0;34m\u001b[0m\u001b[0m\n\u001b[1;32m   1179\u001b[0m         \u001b[0;32mif\u001b[0m \u001b[0mengine\u001b[0m \u001b[0;34m==\u001b[0m \u001b[0;34m\"c\"\u001b[0m\u001b[0;34m:\u001b[0m\u001b[0;34m\u001b[0m\u001b[0;34m\u001b[0m\u001b[0m\n\u001b[0;32m-> 1180\u001b[0;31m             \u001b[0mself\u001b[0m\u001b[0;34m.\u001b[0m\u001b[0m_engine\u001b[0m \u001b[0;34m=\u001b[0m \u001b[0mCParserWrapper\u001b[0m\u001b[0;34m(\u001b[0m\u001b[0mself\u001b[0m\u001b[0;34m.\u001b[0m\u001b[0mf\u001b[0m\u001b[0;34m,\u001b[0m \u001b[0;34m**\u001b[0m\u001b[0mself\u001b[0m\u001b[0;34m.\u001b[0m\u001b[0moptions\u001b[0m\u001b[0;34m)\u001b[0m\u001b[0;34m\u001b[0m\u001b[0;34m\u001b[0m\u001b[0m\n\u001b[0m\u001b[1;32m   1181\u001b[0m         \u001b[0;32melse\u001b[0m\u001b[0;34m:\u001b[0m\u001b[0;34m\u001b[0m\u001b[0;34m\u001b[0m\u001b[0m\n\u001b[1;32m   1182\u001b[0m             \u001b[0;32mif\u001b[0m \u001b[0mengine\u001b[0m \u001b[0;34m==\u001b[0m \u001b[0;34m\"python\"\u001b[0m\u001b[0;34m:\u001b[0m\u001b[0;34m\u001b[0m\u001b[0;34m\u001b[0m\u001b[0m\n",
            "\u001b[0;32m/usr/local/lib/python3.7/dist-packages/pandas/io/parsers.py\u001b[0m in \u001b[0;36m__init__\u001b[0;34m(self, src, **kwds)\u001b[0m\n\u001b[1;32m   2008\u001b[0m         \u001b[0mkwds\u001b[0m\u001b[0;34m[\u001b[0m\u001b[0;34m\"usecols\"\u001b[0m\u001b[0;34m]\u001b[0m \u001b[0;34m=\u001b[0m \u001b[0mself\u001b[0m\u001b[0;34m.\u001b[0m\u001b[0musecols\u001b[0m\u001b[0;34m\u001b[0m\u001b[0;34m\u001b[0m\u001b[0m\n\u001b[1;32m   2009\u001b[0m \u001b[0;34m\u001b[0m\u001b[0m\n\u001b[0;32m-> 2010\u001b[0;31m         \u001b[0mself\u001b[0m\u001b[0;34m.\u001b[0m\u001b[0m_reader\u001b[0m \u001b[0;34m=\u001b[0m \u001b[0mparsers\u001b[0m\u001b[0;34m.\u001b[0m\u001b[0mTextReader\u001b[0m\u001b[0;34m(\u001b[0m\u001b[0msrc\u001b[0m\u001b[0;34m,\u001b[0m \u001b[0;34m**\u001b[0m\u001b[0mkwds\u001b[0m\u001b[0;34m)\u001b[0m\u001b[0;34m\u001b[0m\u001b[0;34m\u001b[0m\u001b[0m\n\u001b[0m\u001b[1;32m   2011\u001b[0m         \u001b[0mself\u001b[0m\u001b[0;34m.\u001b[0m\u001b[0munnamed_cols\u001b[0m \u001b[0;34m=\u001b[0m \u001b[0mself\u001b[0m\u001b[0;34m.\u001b[0m\u001b[0m_reader\u001b[0m\u001b[0;34m.\u001b[0m\u001b[0munnamed_cols\u001b[0m\u001b[0;34m\u001b[0m\u001b[0;34m\u001b[0m\u001b[0m\n\u001b[1;32m   2012\u001b[0m \u001b[0;34m\u001b[0m\u001b[0m\n",
            "\u001b[0;32mpandas/_libs/parsers.pyx\u001b[0m in \u001b[0;36mpandas._libs.parsers.TextReader.__cinit__\u001b[0;34m()\u001b[0m\n",
            "\u001b[0;32mpandas/_libs/parsers.pyx\u001b[0m in \u001b[0;36mpandas._libs.parsers.TextReader._setup_parser_source\u001b[0;34m()\u001b[0m\n",
            "\u001b[0;31mFileNotFoundError\u001b[0m: [Errno 2] No such file or directory: 'data.csv'"
          ]
        }
      ]
    },
    {
      "cell_type": "code",
      "metadata": {
        "id": "lButOmbgECzx"
      },
      "source": [
        "data_df"
      ],
      "execution_count": null,
      "outputs": []
    },
    {
      "cell_type": "markdown",
      "metadata": {
        "id": "JwfbsPsB0U12"
      },
      "source": [
        "#Basic pypython\n",
        "\n",
        "###variable\n",
        "-ข้อกำหนดในการตั้งชื่อตัวแปร\n",
        "\n",
        "    1.ชื่อห้ามมีเว้นวรรค\n",
        "    2.(พยายามใช้ภาษาอังกฤษ)\n",
        "    3.ตัวเล็ก \"b\" กับตัวใหญ่ \"B\" ต่างกัน (case sensitive)\n",
        "    4.ห้ามใช้ตัวเลขเป็นตัวหน้า\n"
      ]
    },
    {
      "cell_type": "code",
      "metadata": {
        "id": "kwNXHjpj6fgM"
      },
      "source": [
        "variable_a=12\n",
        "variable_b=3.14\n",
        "variable_c='A' #  '  ' (doyble quote) หรือ ' (quote)\n",
        "variable_d='MSc stat kku'"
      ],
      "execution_count": null,
      "outputs": []
    },
    {
      "cell_type": "code",
      "metadata": {
        "id": "lz0KfLgX_U58"
      },
      "source": [
        "variable_e='11'"
      ],
      "execution_count": null,
      "outputs": []
    },
    {
      "cell_type": "code",
      "metadata": {
        "id": "JNReeCcJ_Z0h"
      },
      "source": [
        ""
      ],
      "execution_count": null,
      "outputs": []
    },
    {
      "cell_type": "code",
      "metadata": {
        "id": "gfdQb6r-8Jn7"
      },
      "source": [
        "variable_x=variable_a+variable_b"
      ],
      "execution_count": null,
      "outputs": []
    },
    {
      "cell_type": "code",
      "metadata": {
        "id": "M3tWUtgx9aHz"
      },
      "source": [
        "\n",
        "variable_x\n"
      ],
      "execution_count": null,
      "outputs": []
    },
    {
      "cell_type": "code",
      "metadata": {
        "id": "Qdwm6cER9qcU"
      },
      "source": [
        "print(variable_a+variable_b)"
      ],
      "execution_count": null,
      "outputs": []
    },
    {
      "cell_type": "code",
      "metadata": {
        "id": "Sdyxtjsu-Q8L"
      },
      "source": [
        "variable_z=variable_a\n"
      ],
      "execution_count": null,
      "outputs": []
    },
    {
      "cell_type": "code",
      "metadata": {
        "id": "pA3QiBP4-bqD"
      },
      "source": [
        "variable_z"
      ],
      "execution_count": null,
      "outputs": []
    },
    {
      "cell_type": "code",
      "metadata": {
        "id": "qmY0Ztvy-hgS"
      },
      "source": [
        ""
      ],
      "execution_count": null,
      "outputs": []
    },
    {
      "cell_type": "code",
      "metadata": {
        "id": "SbT8apQ7_bsy"
      },
      "source": [
        "variable_a+variable_e #บวกกันไม่ได้ เพราะ variable_a ข้อมูลที่เก็บเป็นตัวเลข แต่ variable_e เก็บข้อมูลเป็นตัวอักษร\n"
      ],
      "execution_count": null,
      "outputs": []
    },
    {
      "cell_type": "code",
      "metadata": {
        "id": "SUxtA2NG_-pD"
      },
      "source": [
        "variable_c+variable_d"
      ],
      "execution_count": null,
      "outputs": []
    },
    {
      "cell_type": "code",
      "metadata": {
        "id": "XbvRzAVDAHGY"
      },
      "source": [
        ""
      ],
      "execution_count": null,
      "outputs": []
    },
    {
      "cell_type": "markdown",
      "metadata": {
        "id": "PsbRalKMAY32"
      },
      "source": [
        "###Casting (การแปลงชนิดข้อมูล)\n",
        "    int() จำนวนเต็ม\n",
        "    float() จำนวนจริง ทศนิยม\n",
        "    str() ตัวอักษร\n"
      ]
    },
    {
      "cell_type": "code",
      "metadata": {
        "id": "Hk7qiIis4R71"
      },
      "source": [
        "variable_e+str(variable_a)\n"
      ],
      "execution_count": null,
      "outputs": []
    },
    {
      "cell_type": "code",
      "metadata": {
        "id": "g8gAUSiQAupK"
      },
      "source": [
        "type(variable_a) # ตรวจสอบชนิดของตัวแปรด้วย type(........)"
      ],
      "execution_count": null,
      "outputs": []
    },
    {
      "cell_type": "code",
      "metadata": {
        "id": "-LxJDUpABtUD"
      },
      "source": [
        ""
      ],
      "execution_count": null,
      "outputs": []
    },
    {
      "cell_type": "markdown",
      "metadata": {
        "id": "OrUGDZtoB5p6"
      },
      "source": [
        "###Data structure  โครงสร้างข้อมูล"
      ]
    },
    {
      "cell_type": "markdown",
      "metadata": {
        "id": "RT1263PrCGFS"
      },
      "source": [
        "#### list เอาตัวแปรมาต่อกัน"
      ]
    },
    {
      "cell_type": "code",
      "metadata": {
        "id": "vYzj10fdCQhs"
      },
      "source": [
        "list_a=[1,2,3,0.9,'aaz',variable_b] #  [] (square brackets)"
      ],
      "execution_count": null,
      "outputs": []
    },
    {
      "cell_type": "code",
      "metadata": {
        "id": "jjDjkOIdCMwJ"
      },
      "source": [
        "list_a"
      ],
      "execution_count": null,
      "outputs": []
    },
    {
      "cell_type": "markdown",
      "metadata": {
        "id": "C8Xk-Dnj5jTq"
      },
      "source": [
        "###indexing\n",
        "\n",
        "    1.ใช้ลำดับในการชี้\n",
        "    2.ลำดับเริ่มจาก 0\n",
        "    3.สามารถชี้จากข้างหลังได้โดยใช้ negative index"
      ]
    },
    {
      "cell_type": "code",
      "metadata": {
        "id": "4vTjDYiQCEEQ"
      },
      "source": [
        "list_a[-2] # negative ชี้จากข้างหลัง"
      ],
      "execution_count": null,
      "outputs": []
    },
    {
      "cell_type": "code",
      "metadata": {
        "id": "0ex8ncKQDFQ_"
      },
      "source": [
        "list_a[0]"
      ],
      "execution_count": null,
      "outputs": []
    },
    {
      "cell_type": "code",
      "metadata": {
        "id": "hy1q8nWJDSkE"
      },
      "source": [
        "list_b=['pizza',list_a]"
      ],
      "execution_count": null,
      "outputs": []
    },
    {
      "cell_type": "code",
      "metadata": {
        "id": "RNucUmgjDSwE"
      },
      "source": [
        "list_b"
      ],
      "execution_count": null,
      "outputs": []
    },
    {
      "cell_type": "code",
      "metadata": {
        "id": "yy7f5LWiDSxf"
      },
      "source": [
        "list_b[1][3]"
      ],
      "execution_count": null,
      "outputs": []
    },
    {
      "cell_type": "markdown",
      "metadata": {
        "id": "OjNkloprEAlx"
      },
      "source": [
        "string คือ list ของ ตัวอักษร '.....'\n",
        "\n",
        "\n",
        "\n"
      ]
    },
    {
      "cell_type": "code",
      "metadata": {
        "id": "QTk8ccwjEE2E"
      },
      "source": [
        "x='shabu'\n",
        "x[3]\n"
      ],
      "execution_count": null,
      "outputs": []
    },
    {
      "cell_type": "code",
      "metadata": {
        "id": "6v82-D0fDS0_"
      },
      "source": [
        "print(list_a)\n",
        "print(list_b)"
      ],
      "execution_count": null,
      "outputs": []
    },
    {
      "cell_type": "code",
      "metadata": {
        "id": "8sy7Z1SyDS3b"
      },
      "source": [
        "list_a+list_b"
      ],
      "execution_count": null,
      "outputs": []
    },
    {
      "cell_type": "markdown",
      "metadata": {
        "id": "fMYlkFPX6pg_"
      },
      "source": [
        "###การสร้าง list\n",
        "\n",
        "    1.สร้าง list ว่าง\n",
        "    2.เพิ่มสมาชิกลงไปใน list"
      ]
    },
    {
      "cell_type": "markdown",
      "metadata": {
        "id": "xtQBgrDl7K_L"
      },
      "source": [
        "1.การสร้าง list ว่าง"
      ]
    },
    {
      "cell_type": "code",
      "metadata": {
        "id": "i9H5oJ15E5mj"
      },
      "source": [
        "list_aa=[] #สร้าง list ว่าง\n"
      ],
      "execution_count": null,
      "outputs": []
    },
    {
      "cell_type": "code",
      "metadata": {
        "id": "o-F1UN9DE5oX"
      },
      "source": [
        "list_bb=list()\n",
        "list_bb"
      ],
      "execution_count": null,
      "outputs": []
    },
    {
      "cell_type": "markdown",
      "metadata": {
        "id": "HPqz6Tjm7QoG"
      },
      "source": [
        "2.การเพิ่มสมาชอกลงใน list ใช้ (.append())"
      ]
    },
    {
      "cell_type": "code",
      "metadata": {
        "id": "LAkSDwdbE5ri"
      },
      "source": [
        "list_aa.append('chiken')\n",
        "list_aa.append('water')\n",
        "list_aa.append('vegetable') "
      ],
      "execution_count": null,
      "outputs": []
    },
    {
      "cell_type": "code",
      "metadata": {
        "id": "KexKr1pPE58M"
      },
      "source": [
        "list_aa[-1] "
      ],
      "execution_count": null,
      "outputs": []
    },
    {
      "cell_type": "code",
      "metadata": {
        "id": "5W2B0wQYGoSY"
      },
      "source": [
        "list_aa.append('plate')"
      ],
      "execution_count": null,
      "outputs": []
    },
    {
      "cell_type": "code",
      "metadata": {
        "id": "Qkvwxkr7GwQx"
      },
      "source": [
        "#เรียกใช้ .append() ก่อน จะอยู่ลำดับแรก"
      ],
      "execution_count": null,
      "outputs": []
    },
    {
      "cell_type": "markdown",
      "metadata": {
        "id": "UXbVHuYlG8BG"
      },
      "source": [
        "list slicing "
      ]
    },
    {
      "cell_type": "markdown",
      "metadata": {
        "id": "0OXb2vgr7mls"
      },
      "source": [
        "####: (colon)\n",
        "    เราจะตัด list โดยเอาตั้งแต่ [ตัวหน้า:ตัวก่อนตัวหลัง]\n",
        "    ถ้าสัญลักษณ์ทางคณิตศาสตร์ [ตัวหน้า:ตัวหลัง] -> [ตัวหน้า:ตัวหลัง)\n",
        "\n"
      ]
    },
    {
      "cell_type": "code",
      "metadata": {
        "id": "dI10w1c5HPFR"
      },
      "source": [
        "list_aa"
      ],
      "execution_count": null,
      "outputs": []
    },
    {
      "cell_type": "code",
      "metadata": {
        "id": "QC3e0vDnHSAO"
      },
      "source": [
        "list_aa[1:3]"
      ],
      "execution_count": null,
      "outputs": []
    },
    {
      "cell_type": "markdown",
      "metadata": {
        "id": "7wI4HbRlJjSl"
      },
      "source": [
        "####Quiz1\n",
        "    ตัดส่วนของ list เหล่านี้มาจาก list_aa\n",
        "      1.'iken'\n",
        "      2.'get'\n",
        "      3.'tab'"
      ]
    },
    {
      "cell_type": "code",
      "metadata": {
        "id": "7r89m317Jnao"
      },
      "source": [
        ""
      ],
      "execution_count": null,
      "outputs": []
    },
    {
      "cell_type": "code",
      "metadata": {
        "id": "5kUu1oU_L0pK"
      },
      "source": [
        ""
      ],
      "execution_count": null,
      "outputs": []
    },
    {
      "cell_type": "code",
      "metadata": {
        "id": "L7EsbRZbHSCS"
      },
      "source": [
        "list_aa[0][2:]"
      ],
      "execution_count": null,
      "outputs": []
    },
    {
      "cell_type": "code",
      "metadata": {
        "id": "YhYLfyEZHSFw"
      },
      "source": [
        "list_aa[2][2:5]"
      ],
      "execution_count": null,
      "outputs": []
    },
    {
      "cell_type": "code",
      "metadata": {
        "id": "TIYJcHmgHSH-"
      },
      "source": [
        "list_aa[2][4:7]"
      ],
      "execution_count": null,
      "outputs": []
    },
    {
      "cell_type": "code",
      "metadata": {
        "id": "i1U9lwx3L1uN"
      },
      "source": [
        ""
      ],
      "execution_count": null,
      "outputs": []
    },
    {
      "cell_type": "markdown",
      "metadata": {
        "id": "FFSKzvuR-D3v"
      },
      "source": [
        "### Advance list slicing\n",
        "\n",
        "::\n",
        "เราจะตัดlist โดยเอาตั้งแต่ [ตัวหน้า:ตัวก่อนตัวหลัง:step] \n",
        "\n",
        "\n",
        "\n"
      ]
    },
    {
      "cell_type": "markdown",
      "metadata": {
        "id": "ErZQAKM8SWwn"
      },
      "source": [
        ""
      ]
    },
    {
      "cell_type": "code",
      "metadata": {
        "id": "iPbxiIsmSMhj"
      },
      "source": [
        "list_aa[2]"
      ],
      "execution_count": null,
      "outputs": []
    },
    {
      "cell_type": "code",
      "metadata": {
        "id": "UCAIYgBUSMfI"
      },
      "source": [
        "list_aa[2][::2] #เลือกตัวที่2, [::2]ข้ามครั้งละ 2ค่า"
      ],
      "execution_count": null,
      "outputs": []
    },
    {
      "cell_type": "code",
      "metadata": {
        "id": "sJ2fopDVSMX8"
      },
      "source": [
        "list_aa[2][::-1] #เลือกตัวที่2, [::2]ข้ามครั้งละ -1ค่า (วนจากหลัง)"
      ],
      "execution_count": null,
      "outputs": []
    },
    {
      "cell_type": "markdown",
      "metadata": {
        "id": "BBhjsSzAUtgm"
      },
      "source": [
        "####format string\n",
        "```python\n",
        "f'string{variable}'\n",
        "```"
      ]
    },
    {
      "cell_type": "code",
      "metadata": {
        "id": "matitTgPSMVg"
      },
      "source": [
        "f'I like to eat {list_aa[2]}'#{} curly brackets"
      ],
      "execution_count": null,
      "outputs": []
    },
    {
      "cell_type": "code",
      "metadata": {
        "id": "IUfBZCBtSMJp"
      },
      "source": [
        "f'9x10={9*10}'"
      ],
      "execution_count": null,
      "outputs": []
    },
    {
      "cell_type": "markdown",
      "metadata": {
        "id": "hL_I5W5lUmW6"
      },
      "source": [
        "## Loop\n",
        "การทำงานที่ซ้ำๆกัน หรือ ทำงานที่คล้ายๆกัน หลายๆรอบ\n",
        "\n",
        "\n",
        "indent\n",
        "\n",
        "```python\n",
        "for ตัวแปรที่เราจะรับค่าจากลิสต์ in ลิสต์ที่ต้องการจะวนลูป :\n",
        "    do something\n",
        "    do another thing\n",
        "\n",
        "this is outside the loop\n",
        "\n",
        "```"
      ]
    },
    {
      "cell_type": "code",
      "metadata": {
        "id": "2c9630j4Wav7"
      },
      "source": [
        "list_aa"
      ],
      "execution_count": null,
      "outputs": []
    },
    {
      "cell_type": "code",
      "metadata": {
        "id": "TYE51WFkUYsi"
      },
      "source": [
        "for i in list_aa:\n",
        "    print(f'I like to eat {i}')  # ทำคล้าย ๆกันหลายซ้ำ"
      ],
      "execution_count": null,
      "outputs": []
    },
    {
      "cell_type": "code",
      "metadata": {
        "id": "ZKGRE1ZZUY2t"
      },
      "source": [
        "for i in list_aa:\n",
        "  print('Ha')          # ทำซ้ำ ๆ ตามจำนวน i ของ list_aa"
      ],
      "execution_count": null,
      "outputs": []
    },
    {
      "cell_type": "code",
      "metadata": {
        "id": "kz-GmdOAUY4N"
      },
      "source": [
        "for x in [1,3,5,7,9]:\n",
        "  print(f'this x = {x} x/2 ={x/2}')\n"
      ],
      "execution_count": null,
      "outputs": []
    },
    {
      "cell_type": "code",
      "metadata": {
        "id": "eTPRi5nfUY7O"
      },
      "source": [
        "list(range(10))"
      ],
      "execution_count": null,
      "outputs": []
    },
    {
      "cell_type": "code",
      "metadata": {
        "id": "wMyy1WgUYM5z"
      },
      "source": [
        "for i in range(100):\n",
        "  print(f'Ha{i}',end=' ')"
      ],
      "execution_count": null,
      "outputs": []
    },
    {
      "cell_type": "code",
      "metadata": {
        "id": "ymrdSmpHYM8O"
      },
      "source": [
        "list(range(5,10))"
      ],
      "execution_count": null,
      "outputs": []
    },
    {
      "cell_type": "code",
      "metadata": {
        "id": "o43DEAA2ZTGa"
      },
      "source": [
        "list(range(5,100,5)) # เริ่มตั้งแต่ 5 จนถึงก่อน 100 ข้ามทีละ5"
      ],
      "execution_count": null,
      "outputs": []
    },
    {
      "cell_type": "code",
      "metadata": {
        "id": "6H-oJyjrZqAM"
      },
      "source": [
        ""
      ],
      "execution_count": null,
      "outputs": []
    },
    {
      "cell_type": "markdown",
      "metadata": {
        "id": "_n0TQ7qYZyj-"
      },
      "source": [
        "### Nested loop ลูปซ้อนลูป"
      ]
    },
    {
      "cell_type": "code",
      "metadata": {
        "id": "C9QDKBSpZqCn"
      },
      "source": [
        "for i in range(3):\n",
        "  print(f'i={i}')\n",
        "  for j in range(2):\n",
        "    print(f'i={i},j={j},i+j={i+j}')\n"
      ],
      "execution_count": null,
      "outputs": []
    },
    {
      "cell_type": "code",
      "metadata": {
        "id": "5VaGELVba7WW"
      },
      "source": [
        ""
      ],
      "execution_count": null,
      "outputs": []
    },
    {
      "cell_type": "markdown",
      "metadata": {
        "id": "NVGIgP33bFZL"
      },
      "source": [
        "Quiz 2"
      ]
    },
    {
      "cell_type": "code",
      "metadata": {
        "id": "ojWx_r7FbIXu"
      },
      "source": [
        "list_ans = []      \n",
        "for i in range(10): #range การทำซ้ำลำดับจำนวนตัวเลข\n",
        "    temp = []\n",
        "    for j in range(i+1): #เนื่องจาก range เริ่ม จาก 0 จึงต้อง +1 \n",
        "        temp.append(1) # เพิ่ม 1 เข้าไปใน temp = []\n",
        "    list_ans.append(temp) #เพิ่ม ทุกค่าที่เก็บใน temp = [] ลงใน list_ans = []    \n",
        "print(list_ans)\n",
        "\n",
        "   "
      ],
      "execution_count": null,
      "outputs": []
    },
    {
      "cell_type": "code",
      "metadata": {
        "id": "KoHon4wWg96n"
      },
      "source": [
        "list_ans = []\n",
        "for i in range(1,11):\n",
        "    temp = []\n",
        "    for j in range(i):\n",
        "        temp.append(j+1)\n",
        "    list_ans.append(temp)\n",
        "print(list_ans)\n"
      ],
      "execution_count": null,
      "outputs": []
    },
    {
      "cell_type": "markdown",
      "metadata": {
        "id": "Q0MBFunpkE6G"
      },
      "source": [
        "## Conditional Statement (if statement)\n",
        "\n",
        "```python\n",
        "if เงื่อนที่เราจะตรวจสอบ (โดยอาศัยสัญลักษณ์เหล่านี้ ==, !=, <, >, <=, >=, in, is_null()) :\n",
        "    ถ้าเงื่อนไขเป็นจริง ทำ \n",
        "    ถ้าเงื่อนไขเป็นจริง ทำ\n",
        "```"
      ]
    },
    {
      "cell_type": "code",
      "metadata": {
        "id": "aacSNkENkJD8"
      },
      "source": [
        "if 1<5:\n",
        "   print('yes')"
      ],
      "execution_count": null,
      "outputs": []
    },
    {
      "cell_type": "markdown",
      "metadata": {
        "id": "GW21o3yQ5zYy"
      },
      "source": [
        "###if else\n",
        "\n",
        "```python\n",
        "if เงื่อนไขที่จะตรวจสอบ (โดยใช้สัญลักษณ์ ==,!=,<,>,<=,>=):\n",
        "    ถ้าเงื่อนไขเป็นจริง ทำงานที่ 1\n",
        "    ถ้าเงื่อนไขเป็นจริง ทำงานที่ 2\n",
        "elif เงื่อนไขที่จะตรวจสอบต่อไปถ้าเงื่อนไขข้างบนไม่เป็นจริง:\n",
        "    ถ้าเงื่อนไขเป็นจริง ทำงานที่ a1\n",
        "    ถ้าเงื่อนไขเป็นจริง ทำงานที่ a2\n",
        "elif เงื่อนไขที่จะตรวจสอบต่อไปถ้าเงื่อนไขข้างบนไม่เป็นจริง:\n",
        "    ถ้าเงื่อนไขเป็นจริง ทำงานที่ b1\n",
        "    ถ้าเงื่อนไขเป็นจริง ทำงานที่ b2\n",
        "else: #ตรวจสอบเงื่อนไขข้างบนแล้วไม่เป็นจริง\n",
        "    ทำงานที่ X\n",
        "```"
      ]
    },
    {
      "cell_type": "code",
      "metadata": {
        "colab": {
          "base_uri": "https://localhost:8080/"
        },
        "id": "n4rtyLbskUMr",
        "outputId": "e38f718f-58e2-4bb7-f9f2-82dfe9c23bba"
      },
      "source": [
        "x=-12\n",
        "if   x<5:\n",
        "  print('yes')\n",
        "else:\n",
        " print('no')"
      ],
      "execution_count": 4,
      "outputs": [
        {
          "output_type": "stream",
          "text": [
            "yes\n"
          ],
          "name": "stdout"
        }
      ]
    },
    {
      "cell_type": "code",
      "metadata": {
        "colab": {
          "base_uri": "https://localhost:8080/"
        },
        "id": "jhyREqyLkUPB",
        "outputId": "9757a0b4-5342-4e9f-9899-68e2bfcfa524"
      },
      "source": [
        "list_ex=[1,5,9,-19,-2,0]\n",
        "min=100\n",
        "\n",
        "for i in list_ex:\n",
        "    if i <min:\n",
        "      min=i\n",
        "print(min)  \n",
        "\n",
        "# เทียบค่าmin กับ ค่า i แล้ว ให้ min = i เทียบทุกค่าใน list_ex และจะแสดงค่าที่น้อยที่สุดใน list_ex"
      ],
      "execution_count": 5,
      "outputs": [
        {
          "output_type": "stream",
          "text": [
            "-19\n"
          ],
          "name": "stdout"
        }
      ]
    },
    {
      "cell_type": "code",
      "metadata": {
        "id": "MWF_a8lAkUXm"
      },
      "source": [
        ""
      ],
      "execution_count": 5,
      "outputs": []
    },
    {
      "cell_type": "markdown",
      "metadata": {
        "id": "FVPV2bChoe4G"
      },
      "source": [
        "quiz4"
      ]
    },
    {
      "cell_type": "code",
      "metadata": {
        "colab": {
          "base_uri": "https://localhost:8080/"
        },
        "id": "ugFiM42zokQj",
        "outputId": "af6288fe-0942-479b-cdd0-8cc983e3700b"
      },
      "source": [
        "list_ex=[1,5,9,-19,-2,0]\n",
        "max=5\n",
        "\n",
        "for i in list_ex:\n",
        "    if i >max:\n",
        "      max=i\n",
        "      print(max) "
      ],
      "execution_count": 6,
      "outputs": [
        {
          "output_type": "stream",
          "text": [
            "9\n"
          ],
          "name": "stdout"
        }
      ]
    },
    {
      "cell_type": "code",
      "metadata": {
        "id": "26fGNFaKpqvu"
      },
      "source": [
        ""
      ],
      "execution_count": 6,
      "outputs": []
    },
    {
      "cell_type": "markdown",
      "metadata": {
        "id": "lKFc_gZd3lHR"
      },
      "source": [
        "####Function\n",
        "```python\n",
        "def ชื่อฟังชั่น(input1,input2,...)\n",
        "      งานxxx\n",
        "      งานyyy\n",
        "      return output\n",
        "```"
      ]
    },
    {
      "cell_type": "markdown",
      "metadata": {
        "id": "dloo047B5SdB"
      },
      "source": [
        "Ex1"
      ]
    },
    {
      "cell_type": "code",
      "metadata": {
        "id": "sqFZ_jKt4m9b"
      },
      "source": [
        "def find_min(list_ex):\n",
        "    min=1000000000000000\n",
        "    for x in list_ex:\n",
        "        if x <min:\n",
        "           min=x\n",
        "    return min"
      ],
      "execution_count": 9,
      "outputs": []
    },
    {
      "cell_type": "code",
      "metadata": {
        "id": "re-NxHuZ55JB",
        "outputId": "d30de538-da7b-4519-f805-fc542a0944d5",
        "colab": {
          "base_uri": "https://localhost:8080/"
        }
      },
      "source": [
        "list_A=[1,5,9,-19,-2,0]\n",
        "print(find_min(list_A))"
      ],
      "execution_count": 10,
      "outputs": [
        {
          "output_type": "stream",
          "text": [
            "-19\n"
          ],
          "name": "stdout"
        }
      ]
    },
    {
      "cell_type": "markdown",
      "metadata": {
        "id": "waS7aAIb6RCB"
      },
      "source": [
        "Ex2"
      ]
    },
    {
      "cell_type": "code",
      "metadata": {
        "id": "SIQC8pFa55Ko"
      },
      "source": [
        "def find_min2(list_ex):\n",
        "    min=1000000000000000\n",
        "    for x in list_ex:\n",
        "        if x <min:\n",
        "           min=x\n",
        "    print(min)"
      ],
      "execution_count": 14,
      "outputs": []
    },
    {
      "cell_type": "code",
      "metadata": {
        "id": "BCElecjT55No",
        "outputId": "c863312a-2397-4a2d-d6ba-a93d2b2b0c8e",
        "colab": {
          "base_uri": "https://localhost:8080/"
        }
      },
      "source": [
        "find_min2(list_A)"
      ],
      "execution_count": 15,
      "outputs": [
        {
          "output_type": "stream",
          "text": [
            "-19\n"
          ],
          "name": "stdout"
        }
      ]
    },
    {
      "cell_type": "markdown",
      "metadata": {
        "id": "T_B_RqOa64B5"
      },
      "source": [
        "Ex3"
      ]
    },
    {
      "cell_type": "code",
      "metadata": {
        "id": "O0BXpObJ55QJ"
      },
      "source": [
        "def Pi_val():\n",
        "    return 3.1416"
      ],
      "execution_count": 16,
      "outputs": []
    },
    {
      "cell_type": "code",
      "metadata": {
        "id": "bgtsZ8RT7FzB",
        "outputId": "bcbe3d84-8420-42e9-c83d-53e4253afa7b",
        "colab": {
          "base_uri": "https://localhost:8080/"
        }
      },
      "source": [
        "r=10\n",
        "print(f'พื้นที่วงกลมที่มีเส้นผ่าศูนย์กลางเท่ากับ {r} คือ {Pi_val()*r*r}')"
      ],
      "execution_count": 19,
      "outputs": [
        {
          "output_type": "stream",
          "text": [
            "พื้นที่วงกลมที่มีเส้นผ่าศูนย์กลางเท่ากับ 10 คือ 314.16\n"
          ],
          "name": "stdout"
        }
      ]
    },
    {
      "cell_type": "markdown",
      "metadata": {
        "id": "qZcCLdxl7tty"
      },
      "source": [
        "Ex4"
      ]
    },
    {
      "cell_type": "code",
      "metadata": {
        "id": "TwIIxhTx7F79"
      },
      "source": [
        "def drew_rectang():\n",
        "    print('=====')\n",
        "    print(' /\\   /\\ ')\n",
        "    print('=====')"
      ],
      "execution_count": 25,
      "outputs": []
    },
    {
      "cell_type": "code",
      "metadata": {
        "id": "Z0WlS3OH-Gbs",
        "outputId": "2bf84ad7-c757-439e-beee-811c9248f7c5",
        "colab": {
          "base_uri": "https://localhost:8080/"
        }
      },
      "source": [
        "drew_rectang()"
      ],
      "execution_count": 27,
      "outputs": [
        {
          "output_type": "stream",
          "text": [
            "=====\n",
            " /\\   /\\ \n",
            "=====\n"
          ],
          "name": "stdout"
        }
      ]
    },
    {
      "cell_type": "code",
      "metadata": {
        "id": "cdJnIxvp7F-a",
        "outputId": "bc7af592-6d8b-450f-d38f-d824a24200c8",
        "colab": {
          "base_uri": "https://localhost:8080/",
          "height": 130
        }
      },
      "source": [
        "def drew_rectang(): # ไม่มี  process รันไม่ได้"
      ],
      "execution_count": 26,
      "outputs": [
        {
          "output_type": "error",
          "ename": "SyntaxError",
          "evalue": "ignored",
          "traceback": [
            "\u001b[0;36m  File \u001b[0;32m\"<ipython-input-26-b2a709872a21>\"\u001b[0;36m, line \u001b[0;32m1\u001b[0m\n\u001b[0;31m    def drew_rectang():\u001b[0m\n\u001b[0m                       ^\u001b[0m\n\u001b[0;31mSyntaxError\u001b[0m\u001b[0;31m:\u001b[0m unexpected EOF while parsing\n"
          ]
        }
      ]
    },
    {
      "cell_type": "markdown",
      "metadata": {
        "id": "8v9bAUjl9cRT"
      },
      "source": [
        "ลักษณะของ input(parameter,argument)\n",
        "    จำเป็นต้องใส่ (non-default argumnt)\n",
        "    ไม่จำเป็นต้องใส่ (default argumnt)"
      ]
    },
    {
      "cell_type": "code",
      "metadata": {
        "id": "z6GhZNI39HsM"
      },
      "source": [
        "def drew_rectangle(dbbound=True):\n",
        "  if dbbound:\n",
        "    print('=====')\n",
        "    print('  /\\  /\\  ')\n",
        "    print('=====')\n",
        "  else:\n",
        "     print('----------')\n",
        "     print('|         |')\n",
        "     print('----------')"
      ],
      "execution_count": 38,
      "outputs": []
    },
    {
      "cell_type": "code",
      "metadata": {
        "id": "MjUd7ij-9HvP",
        "outputId": "d7639683-185f-4351-a424-d03a75fa7529",
        "colab": {
          "base_uri": "https://localhost:8080/"
        }
      },
      "source": [
        "drew_rectangle()"
      ],
      "execution_count": 39,
      "outputs": [
        {
          "output_type": "stream",
          "text": [
            "=====\n",
            "  /\\  /\\  \n",
            "=====\n"
          ],
          "name": "stdout"
        }
      ]
    },
    {
      "cell_type": "code",
      "metadata": {
        "id": "AJixF_DA9Hxu",
        "outputId": "67c10600-4829-4f94-8c62-dc48cd9d6351",
        "colab": {
          "base_uri": "https://localhost:8080/"
        }
      },
      "source": [
        "drew_rectangle(False)"
      ],
      "execution_count": 40,
      "outputs": [
        {
          "output_type": "stream",
          "text": [
            "----------\n",
            "|         |\n",
            "----------\n"
          ],
          "name": "stdout"
        }
      ]
    },
    {
      "cell_type": "code",
      "metadata": {
        "id": "t76hEi_k_10j"
      },
      "source": [
        "def drew_rectangle(size,dbbound=True):\n",
        "  if dbbound:\n",
        "    up='='\n",
        "    print(f'{(size+4)*up}' )\n",
        "    print(f'||{size*\"\"}||')\n",
        "    print(f'{(size+4)*up}')\n",
        "  else:\n",
        "    up='_ '\n",
        "    print(f'{(size+4)*up}')\n",
        "    print(f'||{size*\"\"}||')\n",
        "    print(f'{(size+4)*up}')"
      ],
      "execution_count": 61,
      "outputs": []
    },
    {
      "cell_type": "code",
      "metadata": {
        "id": "zaxmC1wN_12W",
        "outputId": "34f515bf-b9ff-4c9c-d874-a5ed1daabd6f",
        "colab": {
          "base_uri": "https://localhost:8080/"
        }
      },
      "source": [
        " drew_rectangle(dbbound=False,size=7)"
      ],
      "execution_count": 62,
      "outputs": [
        {
          "output_type": "stream",
          "text": [
            "_ _ _ _ _ _ _ _ _ _ _ \n",
            "||||\n",
            "_ _ _ _ _ _ _ _ _ _ _ \n"
          ],
          "name": "stdout"
        }
      ]
    },
    {
      "cell_type": "code",
      "metadata": {
        "id": "1EfI0OqA_15a",
        "outputId": "f420cc2c-3103-4b15-cbc5-a87f25b9b288",
        "colab": {
          "base_uri": "https://localhost:8080/"
        }
      },
      "source": [
        "drew_rectangle(False)"
      ],
      "execution_count": 51,
      "outputs": [
        {
          "output_type": "stream",
          "text": [
            "====\n",
            "||||\n",
            "====\n"
          ],
          "name": "stdout"
        }
      ]
    },
    {
      "cell_type": "markdown",
      "metadata": {
        "id": "h1umWGIJDrZk"
      },
      "source": [
        "QuizQuiz5"
      ]
    },
    {
      "cell_type": "code",
      "metadata": {
        "id": "k5WdgZO6_2Ca",
        "outputId": "b7bd399f-c9cd-42ed-cd66-7a5dff4b25ba",
        "colab": {
          "base_uri": "https://localhost:8080/",
          "height": 130
        }
      },
      "source": [
        "def x (w,h='tohn'):\n",
        "  if h=='tohn' :   #check if there is only 4 argument\n",
        "            h=w\n",
        "         print(f' {w} *  {h} ' )\n"
      ],
      "execution_count": 95,
      "outputs": [
        {
          "output_type": "error",
          "ename": "IndentationError",
          "evalue": "ignored",
          "traceback": [
            "\u001b[0;36m  File \u001b[0;32m\"<ipython-input-95-fe4f0b3cd706>\"\u001b[0;36m, line \u001b[0;32m4\u001b[0m\n\u001b[0;31m    print(f' {w} * {h} ' )\u001b[0m\n\u001b[0m                          ^\u001b[0m\n\u001b[0;31mIndentationError\u001b[0m\u001b[0;31m:\u001b[0m unindent does not match any outer indentation level\n"
          ]
        }
      ]
    },
    {
      "cell_type": "code",
      "metadata": {
        "id": "C8bKOj6UEjdD",
        "outputId": "3d80aee1-fae2-46b4-d14c-94d4cf1e676c",
        "colab": {
          "base_uri": "https://localhost:8080/"
        }
      },
      "source": [
        "x(10)"
      ],
      "execution_count": 83,
      "outputs": [
        {
          "output_type": "stream",
          "text": [
            "100 \n"
          ],
          "name": "stdout"
        }
      ]
    },
    {
      "cell_type": "code",
      "metadata": {
        "id": "DFAQWoKREjfh"
      },
      "source": [
        ""
      ],
      "execution_count": null,
      "outputs": []
    }
  ]
}